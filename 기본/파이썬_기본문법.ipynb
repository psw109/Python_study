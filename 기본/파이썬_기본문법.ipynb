{
  "nbformat": 4,
  "nbformat_minor": 0,
  "metadata": {
    "colab": {
      "provenance": [],
      "toc_visible": true,
      "mount_file_id": "11p9zhJ8qmejWojy2Pg8HA0s58v19_uz9",
      "authorship_tag": "ABX9TyN3sIWUyYiRxccML3rYHFS1",
      "include_colab_link": true
    },
    "kernelspec": {
      "name": "python3",
      "display_name": "Python 3"
    },
    "language_info": {
      "name": "python"
    }
  },
  "cells": [
    {
      "cell_type": "markdown",
      "metadata": {
        "id": "view-in-github",
        "colab_type": "text"
      },
      "source": [
        "<a href=\"https://colab.research.google.com/github/psw109/Python_study/blob/main/%EA%B8%B0%EB%B3%B8/%ED%8C%8C%EC%9D%B4%EC%8D%AC_%EA%B8%B0%EB%B3%B8%EB%AC%B8%EB%B2%95.ipynb\" target=\"_parent\"><img src=\"https://colab.research.google.com/assets/colab-badge.svg\" alt=\"Open In Colab\"/></a>"
      ]
    },
    {
      "cell_type": "markdown",
      "source": [
        "# 1. 변수"
      ],
      "metadata": {
        "id": "cK3qoHsVBupt"
      }
    },
    {
      "cell_type": "markdown",
      "source": [
        "## 1. 변수의 사용\n",
        "* 변수는 값을 담으면 사용 가능하며, 변수에 있던 기존 값은 없이지고 새로 입력한 값으로 변경\n",
        "\n",
        "* 변수에는 변수의 값을 담을 수도 있고, 계산 결과를 담을 수도 있음"
      ],
      "metadata": {
        "id": "xuE0SQXWByJ2"
      }
    },
    {
      "cell_type": "code",
      "source": [
        "var1 = 100\n",
        "var1"
      ],
      "metadata": {
        "colab": {
          "base_uri": "https://localhost:8080/"
        },
        "id": "6mAn7bnJBwXs",
        "outputId": "0354328b-823d-44fb-aed0-00b8ae311de1"
      },
      "execution_count": null,
      "outputs": [
        {
          "output_type": "execute_result",
          "data": {
            "text/plain": [
              "100"
            ]
          },
          "metadata": {},
          "execution_count": 63
        }
      ]
    },
    {
      "cell_type": "code",
      "source": [
        "var1 = 200\n",
        "var1"
      ],
      "metadata": {
        "colab": {
          "base_uri": "https://localhost:8080/"
        },
        "id": "UdORRJJTCLSk",
        "outputId": "2cbc7adb-f933-40dd-9622-498c8d968912"
      },
      "execution_count": null,
      "outputs": [
        {
          "output_type": "execute_result",
          "data": {
            "text/plain": [
              "200"
            ]
          },
          "metadata": {},
          "execution_count": 64
        }
      ]
    },
    {
      "cell_type": "code",
      "source": [
        "var2 = 300\n",
        "var1 = var2\n",
        "var1"
      ],
      "metadata": {
        "colab": {
          "base_uri": "https://localhost:8080/"
        },
        "id": "3KQKSErpCMld",
        "outputId": "cf1d9de6-1e2f-4789-c56f-2ffeeb189b16"
      },
      "execution_count": null,
      "outputs": [
        {
          "output_type": "execute_result",
          "data": {
            "text/plain": [
              "300"
            ]
          },
          "metadata": {},
          "execution_count": 65
        }
      ]
    },
    {
      "cell_type": "code",
      "source": [
        "var1 = 100 + 100\n",
        "var1"
      ],
      "metadata": {
        "colab": {
          "base_uri": "https://localhost:8080/"
        },
        "id": "kOFG9mQrCP3K",
        "outputId": "178261e0-61b9-46bc-b555-3617276abd6b"
      },
      "execution_count": null,
      "outputs": [
        {
          "output_type": "execute_result",
          "data": {
            "text/plain": [
              "200"
            ]
          },
          "metadata": {},
          "execution_count": 66
        }
      ]
    },
    {
      "cell_type": "code",
      "source": [
        "var1 = var2 + 100"
      ],
      "metadata": {
        "id": "mn5lrVwJCSOC"
      },
      "execution_count": null,
      "outputs": []
    },
    {
      "cell_type": "code",
      "source": [
        "# 변수에 연산 결과를 자신의 값으로 다시 대입하는 방식\n",
        "\n",
        "var1 = 100\n",
        "var1 = var1 + 200\n",
        "var1"
      ],
      "metadata": {
        "colab": {
          "base_uri": "https://localhost:8080/"
        },
        "id": "VaZRgG6nCT89",
        "outputId": "1a5bb1c3-0516-4800-b64c-3c0bc69dc87e"
      },
      "execution_count": null,
      "outputs": [
        {
          "output_type": "execute_result",
          "data": {
            "text/plain": [
              "300"
            ]
          },
          "metadata": {},
          "execution_count": 68
        }
      ]
    },
    {
      "cell_type": "code",
      "source": [
        "# 대입 연산자의 왼쪽에는 무조건 변수만 올 수 있다\n",
        "\n",
        "10 = 100 #오류 발생"
      ],
      "metadata": {
        "colab": {
          "base_uri": "https://localhost:8080/",
          "height": 137
        },
        "id": "5zIUr2GFChGo",
        "outputId": "cebcf8a3-8dda-4aaa-e0ab-f5ea090007b0"
      },
      "execution_count": null,
      "outputs": [
        {
          "output_type": "error",
          "ename": "SyntaxError",
          "evalue": "ignored",
          "traceback": [
            "\u001b[0;36m  File \u001b[0;32m\"<ipython-input-69-a012b6a28739>\"\u001b[0;36m, line \u001b[0;32m3\u001b[0m\n\u001b[0;31m    10 = 100\u001b[0m\n\u001b[0m    ^\u001b[0m\n\u001b[0;31mSyntaxError\u001b[0m\u001b[0;31m:\u001b[0m cannot assign to literal here. Maybe you meant '==' instead of '='?\n"
          ]
        }
      ]
    },
    {
      "cell_type": "markdown",
      "source": [
        "## 2. 변수로 데이터 전달하기\n",
        "* 변수는 재활용하기도 하지만 데이터를 전달하는 역할 수행\n",
        "* A함수의 결과 값을 변수에 담아서 B함수의 인자로 활용 가능"
      ],
      "metadata": {
        "id": "yPSqLZ6tCs3Z"
      }
    },
    {
      "cell_type": "markdown",
      "source": [
        "input() 함수\n",
        "* 표준 입력 함수인 input()은 인자로 받은 값을 출력한 뒤, 입력 받은 값을 결과 값으로 넘겨주는 역할을 수행\n",
        "* 결과 값은 문자열"
      ],
      "metadata": {
        "id": "Wtqs62h3C534"
      }
    },
    {
      "cell_type": "code",
      "source": [
        "# input() 함수\n",
        "\n",
        "name = input('이름이 뭐죠? :')\n",
        "print('안녕!', name)"
      ],
      "metadata": {
        "colab": {
          "base_uri": "https://localhost:8080/"
        },
        "id": "oQM788WuCuZ4",
        "outputId": "3413bc8f-766a-429c-f301-8b82400f80dd"
      },
      "execution_count": null,
      "outputs": [
        {
          "output_type": "stream",
          "name": "stdout",
          "text": [
            "이름이 뭐죠? :a\n",
            "안녕! a\n"
          ]
        }
      ]
    },
    {
      "cell_type": "markdown",
      "source": [
        "## 3. 변수명 작성 방법"
      ],
      "metadata": {
        "id": "YlkP-7eBDMvE"
      }
    },
    {
      "cell_type": "markdown",
      "source": [
        "변수명 작성 규칙\n",
        "\n",
        "1. 첫 글자는 반드시 영문 대소문자나 혹은 언더바(_) 시작\n",
        "2. 나머지 글자들은 영문자, 숫자 혹은 언더바(_)로 구성, 단 언더바를 제외한 특수 기호는 사용 할 수 없음\n",
        "3. 대소문자 구분. 'name' 과 'Name'은 다른 변수로 인식\n",
        "4. 길이에 대한 제약은 없다\n",
        "5. 예약어 : 다른 용도로 사용하고 있으므로 변수명으로 사용할 수 없음\n",
        "```\n",
        "#사용 불가 변수명\n",
        "False Class finally is return continue\n",
        "None for lambda try def from\n",
        "True nonlocal while and del global\n",
        "not with as elif if or\n",
        "yield assert else import pass break등\n",
        "```"
      ],
      "metadata": {
        "id": "hxTRdTpSDO4v"
      }
    },
    {
      "cell_type": "code",
      "source": [
        "1name = 'chris'"
      ],
      "metadata": {
        "colab": {
          "base_uri": "https://localhost:8080/",
          "height": 137
        },
        "id": "Wnk87o8EDOH_",
        "outputId": "a4bb2f28-38b6-4bfe-c4b0-689ca7420595"
      },
      "execution_count": null,
      "outputs": [
        {
          "output_type": "error",
          "ename": "SyntaxError",
          "evalue": "ignored",
          "traceback": [
            "\u001b[0;36m  File \u001b[0;32m\"<ipython-input-71-94b8218d74bf>\"\u001b[0;36m, line \u001b[0;32m1\u001b[0m\n\u001b[0;31m    1name = 'chris'\u001b[0m\n\u001b[0m    ^\u001b[0m\n\u001b[0;31mSyntaxError\u001b[0m\u001b[0;31m:\u001b[0m invalid decimal literal\n"
          ]
        }
      ]
    },
    {
      "cell_type": "code",
      "source": [
        "num1 = int(input('첫 번째 정수를 입력하시오 : '))\n",
        "num2 = int(input('두 번째 정수를 입력하시오 : '))\n",
        "\n",
        "\n",
        "res = num1 + num2\n",
        "res2 = (num1 + num2) / 2\n",
        "\n",
        "print(f'{num1} 과 {num2} 의 합은 : {res}, 평균은 : {res2}')"
      ],
      "metadata": {
        "colab": {
          "base_uri": "https://localhost:8080/"
        },
        "id": "pG2-hV_cZOlj",
        "outputId": "4f64868c-01c0-4776-bd4b-9a07fa8a4983"
      },
      "execution_count": null,
      "outputs": [
        {
          "output_type": "stream",
          "name": "stdout",
          "text": [
            "첫 번째 정수를 입력하시오 : 10\n",
            "두 번째 정수를 입력하시오 : 20\n",
            "10 과 20 의 합은 : 30, 평균은 : 15.0\n"
          ]
        }
      ]
    },
    {
      "cell_type": "code",
      "source": [
        "celsius = input('섭씨온도를 입력하세요 : ')\n",
        "faherenheit = int(celsius) * (9/5) + 32\n",
        "\n",
        "print(faherenheit)"
      ],
      "metadata": {
        "colab": {
          "base_uri": "https://localhost:8080/"
        },
        "id": "SN4Jxbqmaf1o",
        "outputId": "d2e2790d-dd83-4f02-d64a-8494ef7c1db6"
      },
      "execution_count": null,
      "outputs": [
        {
          "output_type": "stream",
          "name": "stdout",
          "text": [
            "섭씨온도를 입력하세요 : 30\n",
            "86.0\n"
          ]
        }
      ]
    },
    {
      "cell_type": "code",
      "source": [
        "print('섭씨 온도는 : celsius')"
      ],
      "metadata": {
        "colab": {
          "base_uri": "https://localhost:8080/"
        },
        "id": "F1LBMWw9a97v",
        "outputId": "9ab2c7f6-8a1e-4148-858a-b15daa8d7f6e"
      },
      "execution_count": null,
      "outputs": [
        {
          "output_type": "stream",
          "name": "stdout",
          "text": [
            "섭씨 온도는 : celsius\n"
          ]
        }
      ]
    },
    {
      "cell_type": "markdown",
      "source": [
        "## 4. 다양한 타입의 변수\n",
        "\n",
        "|객체 정의|뜻|자료 예시|변수 설정 방법 예시|\n",
        "|:-:|:-:|:-:|:-:|\n",
        "|int|integer, 정수|3, 5| a=3|\n",
        "|float|float, 부동소수점|3.2, 5.55|a=3.23|\n",
        "|str|string, 문자열|'abc', '가나다'|a='3'|\n",
        "|bool|boolean, 불린|True, False|a=True|\n",
        "|list|list, 리스트|[3, 5]| a=[3,5]|\n",
        "|tuple|tuple, 튜플|(3, 5)| a=(3,6)|\n",
        "|dic|dictionary, 딕셔너리|{1:'name', 2:'phone'}|a={1:'name', 2:'phone'}|\n",
        "|set|set, 집합|{3, 5}| a={3,5}|\n"
      ],
      "metadata": {
        "id": "CIIImpOuELxZ"
      }
    },
    {
      "cell_type": "markdown",
      "source": [
        "# 2. 숫자 타입과 연산자"
      ],
      "metadata": {
        "id": "nutP0_aN4VpK"
      }
    },
    {
      "cell_type": "markdown",
      "source": [
        "## 1. 문자열 형식화"
      ],
      "metadata": {
        "id": "tex4k9J84jKc"
      }
    },
    {
      "cell_type": "markdown",
      "source": [
        "% 기호를 사용한 문자열 형식화\n",
        "\n",
        "|형식지정 문자열|의미|\n",
        "|:--:|:--:|\n",
        "|%s|문자열|\n",
        "|%d|정수|\n",
        "|%f|부동소수점 실수|\n"
      ],
      "metadata": {
        "id": "fKlrGb_wm4Ah"
      }
    },
    {
      "cell_type": "code",
      "source": [
        "# %s string, 문자열\n",
        "\n",
        "'내이름은 %s입니다' %'홍길동'"
      ],
      "metadata": {
        "colab": {
          "base_uri": "https://localhost:8080/",
          "height": 36
        },
        "id": "e9wb6cm14kjg",
        "outputId": "a76a7d59-bccf-486c-b9b6-212039d071a2"
      },
      "execution_count": null,
      "outputs": [
        {
          "output_type": "execute_result",
          "data": {
            "text/plain": [
              "'내이름은 홍길동입니다'"
            ],
            "application/vnd.google.colaboratory.intrinsic+json": {
              "type": "string"
            }
          },
          "metadata": {},
          "execution_count": 1
        }
      ]
    },
    {
      "cell_type": "code",
      "source": [
        "# %d 정수\n",
        "\n",
        "'나는 %d살 입니다' %12"
      ],
      "metadata": {
        "colab": {
          "base_uri": "https://localhost:8080/",
          "height": 36
        },
        "id": "xRkiWABE455d",
        "outputId": "5e255a1a-7617-4681-b630-711b878805fe"
      },
      "execution_count": null,
      "outputs": [
        {
          "output_type": "execute_result",
          "data": {
            "text/plain": [
              "'나는 12살 입니다'"
            ],
            "application/vnd.google.colaboratory.intrinsic+json": {
              "type": "string"
            }
          },
          "metadata": {},
          "execution_count": 2
        }
      ]
    },
    {
      "cell_type": "code",
      "source": [
        "# %f 부동소수점 실수\n",
        "\n",
        "\"원주율의 값은 %r입니다\" %3.141592"
      ],
      "metadata": {
        "colab": {
          "base_uri": "https://localhost:8080/",
          "height": 35
        },
        "id": "qi2MEEF84_EX",
        "outputId": "3184b806-ca0b-48ab-c313-c9a735b6ef6f"
      },
      "execution_count": null,
      "outputs": [
        {
          "output_type": "execute_result",
          "data": {
            "text/plain": [
              "'원주율의 값은 3.141592입니다'"
            ],
            "application/vnd.google.colaboratory.intrinsic+json": {
              "type": "string"
            }
          },
          "metadata": {},
          "execution_count": 14
        }
      ]
    },
    {
      "cell_type": "code",
      "source": [
        "# 여러 개의 값을 이용할때\n",
        "\n",
        "'%d 곱하기 %d는 %d이다' %(2,3,6)\n",
        "'%s의 %s 과목 점수는 %d점이다' %('철수', '수학', 30)"
      ],
      "metadata": {
        "colab": {
          "base_uri": "https://localhost:8080/",
          "height": 36
        },
        "id": "Vrkr2sPj5Iyq",
        "outputId": "8af7df0a-97dc-4a97-9551-5ffc1a021c09"
      },
      "execution_count": null,
      "outputs": [
        {
          "output_type": "execute_result",
          "data": {
            "text/plain": [
              "'철수의 수학 과목 점수는 30점이다'"
            ],
            "application/vnd.google.colaboratory.intrinsic+json": {
              "type": "string"
            }
          },
          "metadata": {},
          "execution_count": 6
        }
      ]
    },
    {
      "cell_type": "code",
      "source": [
        "1/3"
      ],
      "metadata": {
        "colab": {
          "base_uri": "https://localhost:8080/"
        },
        "id": "yPVIZLp7cUpS",
        "outputId": "231a129e-a962-45df-855a-6c53e865b91d"
      },
      "execution_count": null,
      "outputs": [
        {
          "output_type": "execute_result",
          "data": {
            "text/plain": [
              "0.3333333333333333"
            ]
          },
          "metadata": {},
          "execution_count": 5
        }
      ]
    },
    {
      "cell_type": "markdown",
      "source": [
        "고급 형식 지정 문자열\n",
        "\n",
        "* 여러가지 숫자 인수를 가질 수 있음\n",
        "* % 기호 다음에 오는 정수값이 인쇄될 때 차지하는 공간의 길이를 의미\n",
        "\n",
        "|형식지정 문자열|의미|\n",
        "|:--:|:--:|\n",
        "|%20s|전체 20칸을 차지하는 문자열(공백을 앞에)|\n",
        "|%-10d|전체 10칸을 차지하는 숫자(공백을 뒤에)|\n",
        "|%.5f|부동소수점의 소수점 아래 5자리까지 표시|"
      ],
      "metadata": {
        "id": "v-phRiKO5oMa"
      }
    },
    {
      "cell_type": "code",
      "source": [
        "# %20s 전체 20칸을 차지하는 문자열\n",
        "\n",
        "\"[%20s]\" % '*'"
      ],
      "metadata": {
        "colab": {
          "base_uri": "https://localhost:8080/",
          "height": 36
        },
        "id": "4jSeHOz25qks",
        "outputId": "875691fa-7c6c-4520-9bd5-19f9c32865f5"
      },
      "execution_count": null,
      "outputs": [
        {
          "output_type": "execute_result",
          "data": {
            "text/plain": [
              "'[                   *]'"
            ],
            "application/vnd.google.colaboratory.intrinsic+json": {
              "type": "string"
            }
          },
          "metadata": {},
          "execution_count": 7
        }
      ]
    },
    {
      "cell_type": "code",
      "source": [
        "# -를 붙이면 공백이 뒤쪽으로 온다\n",
        "\n",
        "\"[%-20s]\" %'A'"
      ],
      "metadata": {
        "colab": {
          "base_uri": "https://localhost:8080/",
          "height": 36
        },
        "id": "EBHdx7Wf6DnP",
        "outputId": "221a17bc-1b86-4d3a-9bbf-d5f2fdfaf998"
      },
      "execution_count": null,
      "outputs": [
        {
          "output_type": "execute_result",
          "data": {
            "text/plain": [
              "'[A                   ]'"
            ],
            "application/vnd.google.colaboratory.intrinsic+json": {
              "type": "string"
            }
          },
          "metadata": {},
          "execution_count": 9
        }
      ]
    },
    {
      "cell_type": "code",
      "source": [
        "\"[%20d]\" %10"
      ],
      "metadata": {
        "colab": {
          "base_uri": "https://localhost:8080/",
          "height": 36
        },
        "id": "6eE_gdBX6K9b",
        "outputId": "769d7d7c-0703-40f1-f825-e76d318fa60e"
      },
      "execution_count": null,
      "outputs": [
        {
          "output_type": "execute_result",
          "data": {
            "text/plain": [
              "'[                  10]'"
            ],
            "application/vnd.google.colaboratory.intrinsic+json": {
              "type": "string"
            }
          },
          "metadata": {},
          "execution_count": 10
        }
      ]
    },
    {
      "cell_type": "code",
      "source": [
        "\"[%-20d]\" %10"
      ],
      "metadata": {
        "colab": {
          "base_uri": "https://localhost:8080/",
          "height": 36
        },
        "id": "ch3LfDxp6YqU",
        "outputId": "64b3012d-a696-4297-d5f8-ec24b4dd3aa2"
      },
      "execution_count": null,
      "outputs": [
        {
          "output_type": "execute_result",
          "data": {
            "text/plain": [
              "'[10                  ]'"
            ],
            "application/vnd.google.colaboratory.intrinsic+json": {
              "type": "string"
            }
          },
          "metadata": {},
          "execution_count": 11
        }
      ]
    },
    {
      "cell_type": "code",
      "source": [
        "#소수점 아래 5자리까지 인쇄한다\n",
        "\n",
        "x = 1/3.0\n",
        "\"%.5f\" %x"
      ],
      "metadata": {
        "colab": {
          "base_uri": "https://localhost:8080/",
          "height": 35
        },
        "id": "FFc9SSWz6chs",
        "outputId": "15ef0749-cb0f-4a6c-eef7-cf90f2cb6a90"
      },
      "execution_count": null,
      "outputs": [
        {
          "output_type": "execute_result",
          "data": {
            "text/plain": [
              "'0.33333'"
            ],
            "application/vnd.google.colaboratory.intrinsic+json": {
              "type": "string"
            }
          },
          "metadata": {},
          "execution_count": 3
        }
      ]
    },
    {
      "cell_type": "code",
      "source": [
        "#소수점 아래 5자리까지 인쇄하고 앞에 공백을 붙여주기\n",
        "\n",
        "'%20.5f'%x"
      ],
      "metadata": {
        "colab": {
          "base_uri": "https://localhost:8080/",
          "height": 35
        },
        "id": "9CDbHytYo5QP",
        "outputId": "f6151787-2d8e-492c-feb5-74f02e28db04"
      },
      "execution_count": null,
      "outputs": [
        {
          "output_type": "execute_result",
          "data": {
            "text/plain": [
              "'             0.33333'"
            ],
            "application/vnd.google.colaboratory.intrinsic+json": {
              "type": "string"
            }
          },
          "metadata": {},
          "execution_count": 6
        }
      ]
    },
    {
      "cell_type": "markdown",
      "source": [
        "print() 함수의 서식"
      ],
      "metadata": {
        "id": "P9Rx-oMvpE0c"
      }
    },
    {
      "cell_type": "code",
      "source": [
        "print('안녕하세요?')"
      ],
      "metadata": {
        "colab": {
          "base_uri": "https://localhost:8080/"
        },
        "id": "ZZaIWRWCpKwP",
        "outputId": "2a74084a-9478-4bd6-90a3-51d2db65ae4b"
      },
      "execution_count": null,
      "outputs": [
        {
          "output_type": "stream",
          "name": "stdout",
          "text": [
            "안녕하세요?\n"
          ]
        }
      ]
    },
    {
      "cell_type": "code",
      "source": [
        "# 문자열 100 출력\n",
        "\n",
        "print('100')"
      ],
      "metadata": {
        "colab": {
          "base_uri": "https://localhost:8080/"
        },
        "id": "66u3rcWTpMs1",
        "outputId": "d5755b97-4d77-4e2c-9f29-c608ddf3edeb"
      },
      "execution_count": null,
      "outputs": [
        {
          "output_type": "stream",
          "name": "stdout",
          "text": [
            "100\n"
          ]
        }
      ]
    },
    {
      "cell_type": "code",
      "source": [
        "# 숫자 100 출력\n",
        "\n",
        "print('%d' %100)"
      ],
      "metadata": {
        "colab": {
          "base_uri": "https://localhost:8080/"
        },
        "id": "ua7E-IlVpQLW",
        "outputId": "08200407-2431-4763-b310-f926b3125ddc"
      },
      "execution_count": null,
      "outputs": [
        {
          "output_type": "stream",
          "name": "stdout",
          "text": [
            "100\n"
          ]
        }
      ]
    },
    {
      "cell_type": "code",
      "source": [
        "# 문자열과 숫자 출력\n",
        "\n",
        "print('100 + 100')\n",
        "print('%d'%(100+100))"
      ],
      "metadata": {
        "colab": {
          "base_uri": "https://localhost:8080/"
        },
        "id": "sNoiJJCGpYNc",
        "outputId": "100e73a9-b10a-4359-f9fe-f8974550e67a"
      },
      "execution_count": null,
      "outputs": [
        {
          "output_type": "stream",
          "name": "stdout",
          "text": [
            "100 + 100\n",
            "200\n"
          ]
        }
      ]
    },
    {
      "cell_type": "code",
      "source": [
        "#오류 케이스\n",
        "# %문자열 서식에 대응되는 값이 차이가 나기때문에 오류 발생\n",
        "\n",
        "\n",
        "print('%d' %(100,200))\n",
        "print('%d %d' %(100))"
      ],
      "metadata": {
        "colab": {
          "base_uri": "https://localhost:8080/",
          "height": 229
        },
        "id": "SrbWo1R2pgxc",
        "outputId": "cd97a8a8-330c-4a8b-c058-4c2ba99afb87"
      },
      "execution_count": null,
      "outputs": [
        {
          "output_type": "error",
          "ename": "TypeError",
          "evalue": "ignored",
          "traceback": [
            "\u001b[0;31m---------------------------------------------------------------------------\u001b[0m",
            "\u001b[0;31mTypeError\u001b[0m                                 Traceback (most recent call last)",
            "\u001b[0;32m<ipython-input-13-531eebad3809>\u001b[0m in \u001b[0;36m<cell line: 3>\u001b[0;34m()\u001b[0m\n\u001b[1;32m      1\u001b[0m \u001b[0;31m#오류 케이스\u001b[0m\u001b[0;34m\u001b[0m\u001b[0;34m\u001b[0m\u001b[0m\n\u001b[1;32m      2\u001b[0m \u001b[0;34m\u001b[0m\u001b[0m\n\u001b[0;32m----> 3\u001b[0;31m \u001b[0mprint\u001b[0m\u001b[0;34m(\u001b[0m\u001b[0;34m'%d'\u001b[0m \u001b[0;34m%\u001b[0m\u001b[0;34m(\u001b[0m\u001b[0;36m100\u001b[0m\u001b[0;34m,\u001b[0m\u001b[0;36m200\u001b[0m\u001b[0;34m)\u001b[0m\u001b[0;34m)\u001b[0m\u001b[0;34m\u001b[0m\u001b[0;34m\u001b[0m\u001b[0m\n\u001b[0m\u001b[1;32m      4\u001b[0m \u001b[0mprint\u001b[0m\u001b[0;34m(\u001b[0m\u001b[0;34m'%d %d'\u001b[0m \u001b[0;34m%\u001b[0m\u001b[0;34m(\u001b[0m\u001b[0;36m100\u001b[0m\u001b[0;34m)\u001b[0m\u001b[0;34m)\u001b[0m\u001b[0;34m\u001b[0m\u001b[0;34m\u001b[0m\u001b[0m\n",
            "\u001b[0;31mTypeError\u001b[0m: not all arguments converted during string formatting"
          ]
        }
      ]
    },
    {
      "cell_type": "markdown",
      "source": [
        "print() 함수를 사용한 다양한 출력\n",
        "\n",
        "|서식|값|설명|\n",
        "|:--:|:--:|:--:|\n",
        "|%d, %x, %o|10, 100, 1234|정수(10진수, 16진수, 8진수)|\n",
        "|%f|0.5, 1.0, 3.14|실수(소수점이 붙은 수)|\n",
        "|%c|'b', '한'|한 글자|\n",
        "|%s|'안녕', 'abcde', 'a'|한 글자 이상인 문자열|"
      ],
      "metadata": {
        "id": "EDfnp2rkp7OS"
      }
    },
    {
      "cell_type": "code",
      "source": [
        "# formating 서식이 정수서식이기때문에 0으로 출력\n",
        "\n",
        "print('%d / %d = %d' %(100, 200, 0.5))"
      ],
      "metadata": {
        "colab": {
          "base_uri": "https://localhost:8080/"
        },
        "id": "N1v_OOsnp6Dd",
        "outputId": "d24d67ae-c889-42c9-f170-be54f7da4ce2"
      },
      "execution_count": null,
      "outputs": [
        {
          "output_type": "stream",
          "name": "stdout",
          "text": [
            "100 / 200 = 0\n"
          ]
        }
      ]
    },
    {
      "cell_type": "code",
      "source": [
        "print('%d / %d = %.5f' %(100, 200, 0.5))"
      ],
      "metadata": {
        "colab": {
          "base_uri": "https://localhost:8080/"
        },
        "id": "X1jDnB2eqsCW",
        "outputId": "8a6941fe-aa67-4e92-96bd-0554fcd7c6be"
      },
      "execution_count": null,
      "outputs": [
        {
          "output_type": "stream",
          "name": "stdout",
          "text": [
            "100 / 200 = 0.50000\n"
          ]
        }
      ]
    },
    {
      "cell_type": "code",
      "source": [
        "print('%d' %123)\n",
        "print('%5d' %123)\n",
        "print('%05d' %123)"
      ],
      "metadata": {
        "colab": {
          "base_uri": "https://localhost:8080/"
        },
        "id": "jE6WKh7irCtD",
        "outputId": "a887a7ba-5d9f-4849-b448-6135880a472c"
      },
      "execution_count": null,
      "outputs": [
        {
          "output_type": "stream",
          "name": "stdout",
          "text": [
            "123\n",
            "  123\n",
            "00123\n"
          ]
        }
      ]
    },
    {
      "cell_type": "code",
      "source": [
        "print('%f'%123.45)\n",
        "print('%7.1f'%123.45)\n",
        "print('%010.1f'%123.45)"
      ],
      "metadata": {
        "colab": {
          "base_uri": "https://localhost:8080/"
        },
        "id": "LLqkjjtbrH3J",
        "outputId": "d388a0a1-1bc4-46e7-e7ea-476b26b58128"
      },
      "execution_count": null,
      "outputs": [
        {
          "output_type": "stream",
          "name": "stdout",
          "text": [
            "123.450000\n",
            "  123.5\n",
            "00000123.5\n"
          ]
        }
      ]
    },
    {
      "cell_type": "markdown",
      "source": [
        "format 함수를 이용한 서식지정"
      ],
      "metadata": {
        "id": "7HcJHiIXrdCj"
      }
    },
    {
      "cell_type": "code",
      "source": [
        "print('%d %5d %05d' %(123, 123, 123))\n",
        "print('{0:d} {1:5d} {2:05d}'.format(123, 123, 123))"
      ],
      "metadata": {
        "colab": {
          "base_uri": "https://localhost:8080/"
        },
        "id": "A2YAp-IHrfCt",
        "outputId": "c2d70eb3-2777-482b-bc42-3634cf26e2bd"
      },
      "execution_count": null,
      "outputs": [
        {
          "output_type": "stream",
          "name": "stdout",
          "text": [
            "123   123 00123\n",
            "123   123 00123\n"
          ]
        }
      ]
    },
    {
      "cell_type": "code",
      "source": [
        "# format을 사용해 출력 순서 지정\n",
        "\n",
        "print('{0:d} {1:d} {2:d}'.format(100, 200, 300))\n",
        "print('{2:d} {1:d} {0:d}'.format(100, 200, 300))\n",
        "print('{2:d} {2:d} {2:d}'.format(100, 200, 300))"
      ],
      "metadata": {
        "colab": {
          "base_uri": "https://localhost:8080/"
        },
        "id": "0cszjuD6ruUV",
        "outputId": "8b1d7fcd-4ba9-4173-d0cc-55c1d31f0471"
      },
      "execution_count": null,
      "outputs": [
        {
          "output_type": "stream",
          "name": "stdout",
          "text": [
            "100 200 300\n",
            "300 200 100\n",
            "300 300 300\n"
          ]
        }
      ]
    },
    {
      "cell_type": "code",
      "source": [
        "# 행을 강제로 넘기는 '\\n' 사용\n",
        "\n",
        "print('한 행입니다. 또 한 행입니다.')\n",
        "print('한 행입니다. \\n또 한 행입니다.')"
      ],
      "metadata": {
        "colab": {
          "base_uri": "https://localhost:8080/"
        },
        "id": "evqP8UhGr-z1",
        "outputId": "ed681836-444c-4abf-c359-658ed1bd03d7"
      },
      "execution_count": null,
      "outputs": [
        {
          "output_type": "stream",
          "name": "stdout",
          "text": [
            "한 행입니다. 또 한 행입니다.\n",
            "한 행입니다. \n",
            "또 한 행입니다.\n"
          ]
        }
      ]
    },
    {
      "cell_type": "markdown",
      "source": [
        "이스케이프 문자의 종류\n",
        "\n",
        "|이스케이프 문자|역할|설명|\n",
        "|:-:|:-:|:-:|\n",
        "|\\n|새로운 줄로 이동|Enter를 누른 효과|\n",
        "|\\t|다음 탭으로 이동|Tab을 누른 효과|\n",
        "|\\b|뒤로 한 칸 이동|Backspace를 누른 효과|\n",
        "|\\\\|\\ 출력||\n",
        "|\\'|' 출력||\n",
        "|\\*|* 출력||"
      ],
      "metadata": {
        "id": "ioQrkYOSsOaq"
      }
    },
    {
      "cell_type": "code",
      "source": [
        "print('\\n줄바꿈\\n연습')\n",
        "print('\\t텝키\\t연습')\n",
        "print('글자가 \\'강조\\' 되는 효과 1')\n",
        "print('\\\\\\\\\\\\ 역슬래시 세 개 출력')"
      ],
      "metadata": {
        "colab": {
          "base_uri": "https://localhost:8080/"
        },
        "id": "85UwpxTxs3By",
        "outputId": "c27ad17a-aaf5-4edc-e2f4-76c3308aa10a"
      },
      "execution_count": null,
      "outputs": [
        {
          "output_type": "stream",
          "name": "stdout",
          "text": [
            "\n",
            "줄바꿈\n",
            "연습\n",
            "\t텝키\t연습\n",
            "글자가 '강조' 되는 효과 1\n",
            "\\\\\\ 역슬래시 세 개 출력\n"
          ]
        }
      ]
    },
    {
      "cell_type": "code",
      "source": [
        "print('글자가 \\'강조\\' 되는 효과')"
      ],
      "metadata": {
        "colab": {
          "base_uri": "https://localhost:8080/"
        },
        "id": "PJxgEZ3hgT7G",
        "outputId": "e9f20f64-5599-48b4-cd44-7f5b1bad709c"
      },
      "execution_count": null,
      "outputs": [
        {
          "output_type": "stream",
          "name": "stdout",
          "text": [
            "글자가 '강조' 되는 효과\n"
          ]
        }
      ]
    },
    {
      "cell_type": "markdown",
      "source": [
        "raw string\n",
        "\n",
        "* 문자열 앞에 r함수로 구현 가능\n",
        "* 이스케이프 문자를 문자열로 인식하게 만들어준다"
      ],
      "metadata": {
        "id": "Lu1vdG_ytqpi"
      }
    },
    {
      "cell_type": "code",
      "source": [
        "print(r'\\n \\t \\b \\\\ 를 그대로 출력')"
      ],
      "metadata": {
        "colab": {
          "base_uri": "https://localhost:8080/"
        },
        "id": "suhprE4_trpB",
        "outputId": "b1a1fd08-a620-459f-b7b8-7cfea6d71ff7"
      },
      "execution_count": null,
      "outputs": [
        {
          "output_type": "stream",
          "name": "stdout",
          "text": [
            "\\n \\t \\b \\\\ 를 그대로 출력\n"
          ]
        }
      ]
    },
    {
      "cell_type": "markdown",
      "source": [
        "f-string\n",
        "\n",
        "* 문자열 앞에 f를 붙여 구현\n",
        "* 문자열 안에서 중괄호를 이용하여 변수나 계산식 입력가능"
      ],
      "metadata": {
        "id": "paJgFkwst8Ro"
      }
    },
    {
      "cell_type": "code",
      "source": [
        "a = 'coffee'\n",
        "n = 3\n",
        "print(f'저는 {a}를 좋아합니다. 하루 {n}잔 마셔요')"
      ],
      "metadata": {
        "colab": {
          "base_uri": "https://localhost:8080/"
        },
        "id": "eP3aPsnFuCl5",
        "outputId": "e9e632e8-3485-4d82-cd94-3ab7fd995594"
      },
      "execution_count": null,
      "outputs": [
        {
          "output_type": "stream",
          "name": "stdout",
          "text": [
            "저는 coffee를 좋아합니다. 하루 3잔 마셔요\n"
          ]
        }
      ]
    },
    {
      "cell_type": "code",
      "source": [
        "print('저는 a를 좋아합니다.')"
      ],
      "metadata": {
        "colab": {
          "base_uri": "https://localhost:8080/"
        },
        "id": "dmnp_QQn0_px",
        "outputId": "beb0d2d5-5a18-4bae-9bd1-1ac5ad97341d"
      },
      "execution_count": null,
      "outputs": [
        {
          "output_type": "stream",
          "name": "stdout",
          "text": [
            "저는 a를 좋아합니다.\n"
          ]
        }
      ]
    },
    {
      "cell_type": "code",
      "source": [
        "print(f'저는 {a}를 좋아합니다')"
      ],
      "metadata": {
        "colab": {
          "base_uri": "https://localhost:8080/"
        },
        "id": "8Qa9iwK91E7l",
        "outputId": "96ad1461-e9da-445c-d6b1-9912986bc7de"
      },
      "execution_count": null,
      "outputs": [
        {
          "output_type": "stream",
          "name": "stdout",
          "text": [
            "저는 coffee를 좋아합니다\n"
          ]
        }
      ]
    },
    {
      "cell_type": "markdown",
      "source": [
        "f-string\n",
        "* 글자수를 지정하여 문자열 정렬\n"
      ],
      "metadata": {
        "id": "WpMUliN4uXJc"
      }
    },
    {
      "cell_type": "code",
      "source": [
        "# f-string 왼쪽 정렬\n",
        "\n",
        "s1 = 'left'\n",
        "f'{s1:<10}'"
      ],
      "metadata": {
        "colab": {
          "base_uri": "https://localhost:8080/",
          "height": 35
        },
        "id": "dox2uLfUuQla",
        "outputId": "bdfca141-65ee-4dda-d67a-3eaf43996b2c"
      },
      "execution_count": null,
      "outputs": [
        {
          "output_type": "execute_result",
          "data": {
            "text/plain": [
              "'left      '"
            ],
            "application/vnd.google.colaboratory.intrinsic+json": {
              "type": "string"
            }
          },
          "metadata": {},
          "execution_count": 46
        }
      ]
    },
    {
      "cell_type": "code",
      "source": [
        "# f-string 오른쪽 정렬\n",
        "\n",
        "s2 = 'left'\n",
        "f'{s2:>10}'"
      ],
      "metadata": {
        "colab": {
          "base_uri": "https://localhost:8080/",
          "height": 35
        },
        "id": "wQmhj3e-u5Cy",
        "outputId": "1291ccd3-7024-4d53-ecbc-d786fd216230"
      },
      "execution_count": null,
      "outputs": [
        {
          "output_type": "execute_result",
          "data": {
            "text/plain": [
              "'      left'"
            ],
            "application/vnd.google.colaboratory.intrinsic+json": {
              "type": "string"
            }
          },
          "metadata": {},
          "execution_count": 47
        }
      ]
    },
    {
      "cell_type": "code",
      "source": [
        "# f-string 가운데 정렬\n",
        "\n",
        "s3 = 'mid'\n",
        "f'{s3:^10}'"
      ],
      "metadata": {
        "colab": {
          "base_uri": "https://localhost:8080/",
          "height": 35
        },
        "id": "kF-AIxWwu9Il",
        "outputId": "30f239e7-f6b9-476a-eeb2-6c2a1bcea042"
      },
      "execution_count": null,
      "outputs": [
        {
          "output_type": "execute_result",
          "data": {
            "text/plain": [
              "'   mid    '"
            ],
            "application/vnd.google.colaboratory.intrinsic+json": {
              "type": "string"
            }
          },
          "metadata": {},
          "execution_count": 48
        }
      ]
    },
    {
      "cell_type": "markdown",
      "source": [
        "실습 I\n",
        "\n",
        "* name과 age라는 변수에 각각 이름과 나이를 넣고 다음과 같이 출력하는 코드 작성\n",
        "\n",
        "* a, b라는 변수에 10과 3이라는 값을 대입하고, 이 변수 a,b와 문자열 형식화를 사용하여 다음과 같은 문자열을 출력하는 코드 작성"
      ],
      "metadata": {
        "id": "4iIzUWU0vGba"
      }
    },
    {
      "cell_type": "code",
      "source": [
        "# 1\n",
        "\n",
        "name = 'psw'\n",
        "age = 27\n",
        "\n",
        "print('%s is %d years old'%(name, age))"
      ],
      "metadata": {
        "colab": {
          "base_uri": "https://localhost:8080/"
        },
        "id": "Ylqb4f4WvM7S",
        "outputId": "6b8518da-9883-4059-8da3-eaf4a068ddad"
      },
      "execution_count": null,
      "outputs": [
        {
          "output_type": "stream",
          "name": "stdout",
          "text": [
            "psw is 27 years old\n"
          ]
        }
      ]
    },
    {
      "cell_type": "code",
      "source": [
        "# 2\n",
        "\n",
        "a = 10\n",
        "b = 3\n",
        "\n",
        "print(f'{a} / {b} = {a/b:.3f}')"
      ],
      "metadata": {
        "colab": {
          "base_uri": "https://localhost:8080/"
        },
        "id": "Kd8D0-L4vhHL",
        "outputId": "b3fe47ad-d6a0-429e-dd13-7ebdec3c0083"
      },
      "execution_count": null,
      "outputs": [
        {
          "output_type": "stream",
          "name": "stdout",
          "text": [
            "10 / 3 = 3.333\n"
          ]
        }
      ]
    },
    {
      "cell_type": "code",
      "source": [
        "%# format 함수를 이용\n",
        "# 05d : 0을 붙이고 d값 출력\n",
        "\n",
        "print(\"{0:d} {1:5d} {2:05d}\".format(123,123,123))"
      ],
      "metadata": {
        "colab": {
          "base_uri": "https://localhost:8080/"
        },
        "id": "Lnnv-dAv6psi",
        "outputId": "4eaed613-02db-4002-f8e6-b2b1637a488c"
      },
      "execution_count": null,
      "outputs": [
        {
          "output_type": "stream",
          "name": "stdout",
          "text": [
            "123   123 00123\n"
          ]
        }
      ]
    },
    {
      "cell_type": "code",
      "source": [
        "# 이스케이프 문자\n",
        "\n",
        "print('줄바꿈 \\n줄바꿈')\n",
        "print('다음 탭 \\t 다음 탭')\n",
        "print('뒤로 한칸 이동 \\b 뒤로 한칸이동')\n",
        "print('\\\\ 출력')\n",
        "print('\\' 따옴표 출력')\n",
        "print('* 출력')"
      ],
      "metadata": {
        "colab": {
          "base_uri": "https://localhost:8080/"
        },
        "id": "iwamVRn37bVN",
        "outputId": "69130313-058f-4087-ba9c-247606afcfef"
      },
      "execution_count": null,
      "outputs": [
        {
          "output_type": "stream",
          "name": "stdout",
          "text": [
            "줄바꿈 \n",
            "줄바꿈\n",
            "다음 탭 \t 다음 탭\n",
            "뒤로 한칸 이동 \b 뒤로 한칸이동\n",
            "\\ 출력\n",
            "' 따옴표 출력\n",
            "* 출력\n"
          ]
        }
      ]
    },
    {
      "cell_type": "code",
      "source": [
        "# f-string 함수\n",
        "\n",
        "a = 'coffee'; n=3\n",
        "result = f'저는 {a}를 좋아합니다, 하루 {n}잔 마셔요'\n",
        "print(result)\n",
        "\n",
        "print(f'{result:>10}')\n",
        "\n"
      ],
      "metadata": {
        "colab": {
          "base_uri": "https://localhost:8080/"
        },
        "id": "emrgnI828ZVX",
        "outputId": "0b0cd5df-dbc5-404b-d400-ba23bcfab2b8"
      },
      "execution_count": null,
      "outputs": [
        {
          "output_type": "stream",
          "name": "stdout",
          "text": [
            "저는 coffee를 좋아합니다, 하루 3잔 마셔요\n",
            "저는 coffee를 좋아합니다, 하루 3잔 마셔요\n"
          ]
        }
      ]
    },
    {
      "cell_type": "code",
      "source": [
        "#실습 1\n",
        "\n",
        "name = 'Tom'; age = 13\n",
        "\n",
        "print('%s is %d years old' %(name, age))\n",
        "\n",
        "a = 10; b = 3\n",
        "\n",
        "print('10/3 = %.3f' %(a/b))"
      ],
      "metadata": {
        "colab": {
          "base_uri": "https://localhost:8080/"
        },
        "id": "muZm2f54AJLt",
        "outputId": "3c0713ec-afb6-428e-8669-e29f57441643"
      },
      "execution_count": null,
      "outputs": [
        {
          "output_type": "stream",
          "name": "stdout",
          "text": [
            "Tom is 13 years old\n",
            "10/3 = 3.333\n"
          ]
        }
      ]
    },
    {
      "cell_type": "markdown",
      "source": [
        "## 기본 데이터형"
      ],
      "metadata": {
        "id": "uNaMlpfdF2Qb"
      }
    },
    {
      "cell_type": "markdown",
      "source": [
        "숫자형(정수형과 실수형)"
      ],
      "metadata": {
        "id": "qQUaWXwYwHvZ"
      }
    },
    {
      "cell_type": "code",
      "source": [
        "a = 123\n",
        "type(a)"
      ],
      "metadata": {
        "colab": {
          "base_uri": "https://localhost:8080/"
        },
        "id": "QtvWTVGqF455",
        "outputId": "0ec1d07d-1566-445c-ea84-8295691add43"
      },
      "execution_count": null,
      "outputs": [
        {
          "output_type": "execute_result",
          "data": {
            "text/plain": [
              "int"
            ]
          },
          "metadata": {},
          "execution_count": 34
        }
      ]
    },
    {
      "cell_type": "code",
      "source": [
        "# int의 크기에는 제한이 없다\n",
        "\n",
        "a = 100 ** 100\n",
        "print(a)"
      ],
      "metadata": {
        "colab": {
          "base_uri": "https://localhost:8080/"
        },
        "id": "uCS6RPesF6sW",
        "outputId": "3c94e8ea-4791-449b-b81e-8936ef0d060d"
      },
      "execution_count": null,
      "outputs": [
        {
          "output_type": "stream",
          "name": "stdout",
          "text": [
            "100000000000000000000000000000000000000000000000000000000000000000000000000000000000000000000000000000000000000000000000000000000000000000000000000000000000000000000000000000000000000000000000000000000\n"
          ]
        }
      ]
    },
    {
      "cell_type": "code",
      "source": [
        "a = 0xFF # 16진수\n",
        "b = 0o77 # 8진수\n",
        "c = 0b1111 #2진법\n",
        "\n",
        "print(a,b,c)"
      ],
      "metadata": {
        "colab": {
          "base_uri": "https://localhost:8080/"
        },
        "id": "mQatgz2pGFpL",
        "outputId": "b094391f-3b36-406a-e319-460cdb905e7d"
      },
      "execution_count": null,
      "outputs": [
        {
          "output_type": "stream",
          "name": "stdout",
          "text": [
            "255 63 7\n"
          ]
        }
      ]
    },
    {
      "cell_type": "code",
      "source": [
        "a = 3.14\n",
        "b = 3.14e5 # 3.14 * 10^5\n",
        "print(a, b)"
      ],
      "metadata": {
        "colab": {
          "base_uri": "https://localhost:8080/"
        },
        "id": "_Ze5-DZPGYQR",
        "outputId": "fc8efeb5-c20e-4117-acbb-f0eb6c8001eb"
      },
      "execution_count": null,
      "outputs": [
        {
          "output_type": "stream",
          "name": "stdout",
          "text": [
            "3.14 314000.0\n"
          ]
        }
      ]
    },
    {
      "cell_type": "code",
      "source": [
        "# 정수 및 실수 데이터형은 사칙연산을 수행 할 수 있다.\n",
        "\n",
        "a = 10; b = 20\n",
        "print(a + b, a - b, a * b, a / b)"
      ],
      "metadata": {
        "colab": {
          "base_uri": "https://localhost:8080/"
        },
        "id": "fiJFTUD0GfzY",
        "outputId": "cd50c22a-7ac2-416e-eaab-1dc8416418cb"
      },
      "execution_count": null,
      "outputs": [
        {
          "output_type": "stream",
          "name": "stdout",
          "text": [
            "30 -10 200 0.5\n"
          ]
        }
      ]
    },
    {
      "cell_type": "code",
      "source": [
        "# ** : 제곱, % : 나머지, // : 몫\n",
        "\n",
        "a,b = 9,2\n",
        "print(a**b, a%b, a//b)"
      ],
      "metadata": {
        "colab": {
          "base_uri": "https://localhost:8080/"
        },
        "id": "5V_4EM9pGkZg",
        "outputId": "195ee4b9-faa7-4f41-9a75-b8f6ada615b9"
      },
      "execution_count": null,
      "outputs": [
        {
          "output_type": "stream",
          "name": "stdout",
          "text": [
            "81 1 4\n"
          ]
        }
      ]
    },
    {
      "cell_type": "markdown",
      "source": [
        "실습 II\n",
        "\n",
        "a=3, b=5 일때 a,b의 덧셈, 뺄셈, 곱셈, 나눗셈의 결과를  \n",
        " 출력하는 프로그램을 작성하세요"
      ],
      "metadata": {
        "id": "lluvEVNZxchb"
      }
    },
    {
      "cell_type": "code",
      "source": [
        "#실습 2\n",
        "\n",
        "a,b = 3,5\n",
        "\n",
        "print('덧셈 : %d' %(a+b))\n",
        "print('뻴셈 : %d' %(a-b))\n",
        "print('곱셈 : %d' %(a*b))\n",
        "print('나눗셈 : %.1f' %(a/b))\n"
      ],
      "metadata": {
        "colab": {
          "base_uri": "https://localhost:8080/"
        },
        "id": "oQ-u6PdtGrmo",
        "outputId": "a064da74-d504-4389-d558-31d051cae744"
      },
      "execution_count": null,
      "outputs": [
        {
          "output_type": "stream",
          "name": "stdout",
          "text": [
            "덧셈 : 8\n",
            "뻴셈 : -2\n",
            "곱셈 : 15\n",
            "나눗셈 : 0.6\n"
          ]
        }
      ]
    },
    {
      "cell_type": "markdown",
      "source": [
        "## 산술 연산자\n",
        "\n",
        "* 산술 연산을 하는 문자열과 숫자의 상호 변환\n",
        "    * 문자열이 숫자로 구성되어 있을 때, int() 또는 float()  함수를 사용해서 정수나 실수로 변환\n",
        "    * 문자열을 int() 함수가 정수로, float()함수가 실수로 변경"
      ],
      "metadata": {
        "id": "b9HfwQigx11E"
      }
    },
    {
      "cell_type": "code",
      "source": [
        "s1, s2, s3 = '100', '100.123', '99999999999'\n",
        "print(int(s1) + 1, float(s2) + 1, int(s3) + 1)"
      ],
      "metadata": {
        "colab": {
          "base_uri": "https://localhost:8080/"
        },
        "id": "6wR8-EB1xxLm",
        "outputId": "cb028c9b-70ac-4773-d435-011a392754c5"
      },
      "execution_count": null,
      "outputs": [
        {
          "output_type": "stream",
          "name": "stdout",
          "text": [
            "101 101.123 100000000000\n"
          ]
        }
      ]
    },
    {
      "cell_type": "markdown",
      "source": [
        "실습 III\n",
        "\n",
        "* 커피전문점에서 다음과 같은 커피 메뉴가 있을 때,  \n",
        "판매 개수를 입력하여 총 매출을 계산하는 프로그램을 작성하세요\n",
        "\n",
        "-메뉴-  \n",
        "아메리카노 : 2000원  \n",
        "카페라떼 : 3000원  \n",
        "카푸치노 : 3500원  "
      ],
      "metadata": {
        "id": "SkhwHoMcyhdX"
      }
    },
    {
      "cell_type": "code",
      "source": [
        "a = input('아메리카노 판매 개수:')\n",
        "b = input('카페라테 판매 개수:')\n",
        "c = input('카푸치노 판매 개수')\n",
        "print('총 매출은 %d 입니다' %(int(a)*2000 + int(b)*3000 + int(c)*3500))"
      ],
      "metadata": {
        "colab": {
          "base_uri": "https://localhost:8080/"
        },
        "id": "tgMQyzZ4HElQ",
        "outputId": "4264f4a3-5bfd-4c78-dd64-c8a2c8e8f178"
      },
      "execution_count": null,
      "outputs": [
        {
          "output_type": "stream",
          "name": "stdout",
          "text": [
            "아메리카노 판매 개수:10\n",
            "카페라테 판매 개수:5\n",
            "카푸치노 판매 개수3\n",
            "총 매출은 45500 입니다\n"
          ]
        }
      ]
    },
    {
      "cell_type": "markdown",
      "source": [
        "## 4. 대입연산자\n",
        "\n",
        "|연산자|사용 예|설명|\n",
        "|:-:|:-:|:-:|\n",
        "|+=|a+=3|a=a+3과 동일\n",
        "|-=|a-=3|a=a-3과 동일\n",
        "|*=|a*=3|a=a*3과 동일\n",
        "|/=|a/=3|a=a/3과 동일\n",
        "|//=|a//=3|a=a//3과 동일\n",
        "|%=|a%=3|a=a%3과 동일\n",
        "|**=|a**=3|a=a**3과 동일"
      ],
      "metadata": {
        "id": "QL0IlvVbIHjO"
      }
    },
    {
      "cell_type": "code",
      "source": [
        "a = 1\n",
        "a += 1\n",
        "print(a)\n",
        "\n",
        "a *= 2\n",
        "print(a)\n",
        "\n",
        "a -= 3\n",
        "print(a)\n",
        "\n",
        "a /= 3\n",
        "print(a)"
      ],
      "metadata": {
        "colab": {
          "base_uri": "https://localhost:8080/"
        },
        "id": "cCXv8sCqH96Y",
        "outputId": "517abcb6-f99d-4693-e3f9-b80032f325be"
      },
      "execution_count": null,
      "outputs": [
        {
          "output_type": "stream",
          "name": "stdout",
          "text": [
            "2\n",
            "4\n",
            "1\n",
            "0.3333333333333333\n"
          ]
        }
      ]
    },
    {
      "cell_type": "code",
      "source": [
        "n_count = 100\n",
        "print('초기 개수:', n_count)\n",
        "\n",
        "n_count += 1\n",
        "print('증가 후 개수:', n_count)"
      ],
      "metadata": {
        "colab": {
          "base_uri": "https://localhost:8080/"
        },
        "id": "W66NbAssHV46",
        "outputId": "936ada8f-beec-4f22-fd78-84303784d3c4"
      },
      "execution_count": null,
      "outputs": [
        {
          "output_type": "stream",
          "name": "stdout",
          "text": [
            "초기 개수: 100\n",
            "증가 후 개수: 101\n"
          ]
        }
      ]
    },
    {
      "cell_type": "markdown",
      "source": [
        "실습 IV\n",
        "\n",
        "* BMI는 체중(Kg)을 신장(m)의 제곱으로 나눈 값\n",
        "* 사용자의 신장과 체중을 입력 받아서 BMI 값을 출력하는 프로그램을 작성하세요\n",
        "* 단 키는 센치미터 단위로 입력받아 100을 나누어 미터 단위로 바꾸어야 함\n",
        "\n",
        "$BMI = \\frac{체중}{키^2}$\n"
      ],
      "metadata": {
        "id": "ZnKH-B51Hmbs"
      }
    },
    {
      "cell_type": "code",
      "source": [
        "#실습 4\n",
        "\n",
        "h = input('키를 센치미터 단위로 입력하세요 ')\n",
        "w = input('몸무게를 kg단위로 입력하세요 ')\n",
        "\n",
        "print('당신의 BMI는 %f'%(int(w)/(int(h)/100)**2))"
      ],
      "metadata": {
        "colab": {
          "base_uri": "https://localhost:8080/"
        },
        "id": "kG9RR0BxIaV3",
        "outputId": "03fff913-f845-42ad-afdd-950f18b03d16"
      },
      "execution_count": null,
      "outputs": [
        {
          "output_type": "stream",
          "name": "stdout",
          "text": [
            "키를 센치미터 단위로 입력하세요 100\n",
            "몸무게를 kg단위로 입력하세요 10\n",
            "당신의 BMI는 10.000000\n"
          ]
        }
      ]
    },
    {
      "cell_type": "markdown",
      "source": [
        "실습 V\n",
        "\n",
        "* 분자와 분모를 입력하고, 입력된 문자열(str)을 정수(int) 형태로 바꾸어 두 수 사이에 나누어진 몫과 나머지를 구하는 프로그램을 작성하세요"
      ],
      "metadata": {
        "id": "oWqIJNyOIUUW"
      }
    },
    {
      "cell_type": "code",
      "source": [
        "a = input('분자를 입력하세요 : ')\n",
        "b = input('분모를 입력하세요 : ')\n",
        "print(f'나눗셈의 몫 : {int(a)//int(b)}')\n",
        "print(f'나눗셈의 나머지 : {int(a)%int(b)}')"
      ],
      "metadata": {
        "colab": {
          "base_uri": "https://localhost:8080/"
        },
        "id": "kaLRPMl5I6fb",
        "outputId": "d74ce43e-7182-4043-e44e-eb5a110ced23"
      },
      "execution_count": null,
      "outputs": [
        {
          "output_type": "stream",
          "name": "stdout",
          "text": [
            "분자를 입력하세요 : 5\n",
            "분모를 입력하세요 : 3\n",
            "나눗셈의 몫 : 1\n",
            "나눗셈의 나머지 : 2\n"
          ]
        }
      ]
    },
    {
      "cell_type": "markdown",
      "source": [
        "## 5. 관계 연산자"
      ],
      "metadata": {
        "id": "coEHGQ_OJVRa"
      }
    },
    {
      "cell_type": "markdown",
      "source": [
        "관계 연산자의 개념\n",
        "* 어떤 것이 크거나 작거나 같은지 비교하는 것\n",
        "* 주로 조건문(if)이나 반복문(while)에서 사용"
      ],
      "metadata": {
        "id": "HKvHFPVIJuH5"
      }
    },
    {
      "cell_type": "markdown",
      "source": [
        "관계 연산자의 종류\n",
        "\n",
        "|연산자|의미|설명|\n",
        "|:-:|:-:|:-:|\n",
        "|==|같다|두 값이 동일하면 참|\n",
        "|!=|같지 않다|두 값이 다르면 참|\n",
        "|>|크다|왼쪽이 크면 참|\n",
        "|<|작다|왼쪽이 작으면 참|\n",
        "|>=|크거나 같다|왼쪽이 크거나 같으면 참|\n",
        "|<=|작거나 같다|왼쪽이 작거나 같으면 참|\n",
        "\n"
      ],
      "metadata": {
        "id": "X87kUhhqKKhe"
      }
    },
    {
      "cell_type": "code",
      "source": [
        "a, b = 100, 200\n",
        "print(a==b, a != b, a > b, a < b, a >= b, a <= b)"
      ],
      "metadata": {
        "colab": {
          "base_uri": "https://localhost:8080/"
        },
        "id": "i-peZRv6JWpQ",
        "outputId": "20f7a112-e0e8-4832-eded-14043760700e"
      },
      "execution_count": null,
      "outputs": [
        {
          "output_type": "stream",
          "name": "stdout",
          "text": [
            "False True False True False True\n"
          ]
        }
      ]
    },
    {
      "cell_type": "markdown",
      "source": [
        "## 6. 논리 연산자"
      ],
      "metadata": {
        "id": "U5QyGe5QJfaH"
      }
    },
    {
      "cell_type": "markdown",
      "source": [
        "논리 연산자의 종류와 사용\n",
        "\n",
        "* and(그리고), or(또는), not(부정)\n",
        "\n",
        "|연산자|의미|설명|사용 예|\n",
        "|:-:|:-:|:-:|:-:|\n",
        "|and(논리곱), &|~이고, 그리고|둘 다 참이여야 함|(a>100) and (a<200)|\n",
        "|or(논리합), \\||~이거나, 또는|둘 중 하나만 참이어도 참|(a==100) or (a==200)|\n",
        "|not(논리부정), !|~아니다, 부정|참이면 거짓, 거짓이면 참|not(a<100)|\n",
        "\n"
      ],
      "metadata": {
        "id": "NYVJKZ-ZKqgr"
      }
    },
    {
      "cell_type": "code",
      "source": [
        "a = 100\n",
        "\n",
        "print(a > 100 and a < 200)\n",
        "print(a > 100 & a < 200)\n",
        "\n",
        "print((a > 100) or (a < 200))\n",
        "print((a > 100) | (a < 200))\n",
        "\n",
        "\n",
        "print(not(a==100))\n",
        "print(a!=100)"
      ],
      "metadata": {
        "colab": {
          "base_uri": "https://localhost:8080/"
        },
        "id": "J0dIa4TZJdud",
        "outputId": "e7050255-87c2-49b3-a748-5cfaccee375c"
      },
      "execution_count": null,
      "outputs": [
        {
          "output_type": "stream",
          "name": "stdout",
          "text": [
            "False\n",
            "False\n",
            "True\n",
            "True\n",
            "False\n",
            "False\n"
          ]
        }
      ]
    },
    {
      "cell_type": "markdown",
      "source": [
        "실습 VI\n",
        "자동 판매기 프로그램 만들기"
      ],
      "metadata": {
        "id": "dpkzLot1Mdfl"
      }
    },
    {
      "cell_type": "code",
      "source": [
        "a = input('투입한 돈 : ')\n",
        "b = input('물건 값 : ')\n",
        "c = int(a) - int(b)\n",
        "print(f'거스름돈 : {c}')\n",
        "print(f'500원 동전의 개수 : {c // 500}')\n",
        "print(f'100원 동전의 개수 : {(c % 500)//100}')"
      ],
      "metadata": {
        "colab": {
          "base_uri": "https://localhost:8080/"
        },
        "id": "9IpKMJCzMfF_",
        "outputId": "73820c36-ca30-4633-fd9b-4dddbc0d73e1"
      },
      "execution_count": null,
      "outputs": [
        {
          "output_type": "stream",
          "name": "stdout",
          "text": [
            "투입한 돈 : 5000\n",
            "물건 값 : 2600\n",
            "거스름돈 : 2400\n",
            "500원 동전의 개수 : 4\n",
            "100원 동전의 개수 : 4\n"
          ]
        }
      ]
    },
    {
      "cell_type": "markdown",
      "source": [
        "비트 연산자"
      ],
      "metadata": {
        "id": "dNM0moGWJoRd"
      }
    },
    {
      "cell_type": "code",
      "source": [
        "10 & 7\n"
      ],
      "metadata": {
        "id": "OxZew1ZXJpVp"
      },
      "execution_count": null,
      "outputs": []
    },
    {
      "cell_type": "code",
      "source": [
        "record = [100, 121, 120, 130, 140, 120, 122, 123, 190, 125]\n",
        "d_day = 0\n",
        "\n",
        "for i in range(0,9):\n",
        "  if record[i] > record[i+1]:\n",
        "    d_day = d_day + 1\n",
        "\n",
        "print('지난 10일 동안 전일 대비 매출이 감소한 날은 %d일 입니다' %d_day)"
      ],
      "metadata": {
        "colab": {
          "base_uri": "https://localhost:8080/"
        },
        "id": "915o1RroJ1sG",
        "outputId": "7604a6da-7042-485b-e5f4-f073df9e6ca0"
      },
      "execution_count": null,
      "outputs": [
        {
          "output_type": "stream",
          "name": "stdout",
          "text": [
            "지난 10일 동안 전일 대비 매출이 감소한 날은 3일 입니다\n"
          ]
        }
      ]
    },
    {
      "cell_type": "code",
      "source": [
        "num = 1\n",
        "\n",
        "while num <= 16:\n",
        "  num += 3\n",
        "  if num % 4 == 0:\n",
        "    continue\n",
        "  print(num, end = ' ')\n",
        "\n"
      ],
      "metadata": {
        "colab": {
          "base_uri": "https://localhost:8080/"
        },
        "id": "vVqhRLgPL_Vj",
        "outputId": "5650b837-7762-4df9-d31a-a98335203168"
      },
      "execution_count": null,
      "outputs": [
        {
          "output_type": "stream",
          "name": "stdout",
          "text": [
            "7 10 13 19 "
          ]
        }
      ]
    },
    {
      "cell_type": "code",
      "source": [
        "l = [1,5,7,9,11,13,15]\n",
        "\n",
        "l[::-2]"
      ],
      "metadata": {
        "colab": {
          "base_uri": "https://localhost:8080/"
        },
        "id": "flbpI_hZeftE",
        "outputId": "a95ffbc5-e399-4bf5-b751-f1780eb7f81e"
      },
      "execution_count": null,
      "outputs": [
        {
          "output_type": "execute_result",
          "data": {
            "text/plain": [
              "[15, 11, 7, 1]"
            ]
          },
          "metadata": {},
          "execution_count": 71
        }
      ]
    },
    {
      "cell_type": "code",
      "source": [
        "print('''그가 말했다 \"이제 'what' 은 결정되었으니, 'how' 에 대해서 이야기 해보자.\"''')"
      ],
      "metadata": {
        "colab": {
          "base_uri": "https://localhost:8080/"
        },
        "id": "HnAydngPl8GV",
        "outputId": "fb18323b-13fb-4bac-ea5d-a2ef1ec458da"
      },
      "execution_count": null,
      "outputs": [
        {
          "output_type": "stream",
          "name": "stdout",
          "text": [
            "그가 말했다 \"이제 'what' 은 결정되었으니, 'how' 에 대해서 이야기 해보자.\"\n"
          ]
        }
      ]
    },
    {
      "cell_type": "code",
      "source": [
        "(True ^ True) and False"
      ],
      "metadata": {
        "colab": {
          "base_uri": "https://localhost:8080/"
        },
        "id": "YVTzFAtWmhPv",
        "outputId": "cf1537e4-73c5-406c-d045-53f7a80d31cd"
      },
      "execution_count": null,
      "outputs": [
        {
          "output_type": "execute_result",
          "data": {
            "text/plain": [
              "False"
            ]
          },
          "metadata": {},
          "execution_count": 76
        }
      ]
    },
    {
      "cell_type": "markdown",
      "source": [
        "#조건문\n"
      ],
      "metadata": {
        "id": "nBRLGzOUe1fI"
      }
    },
    {
      "cell_type": "markdown",
      "source": [
        "## 1. 기본 if문"
      ],
      "metadata": {
        "id": "nOmz03VIp9G1"
      }
    },
    {
      "cell_type": "markdown",
      "source": [
        "if 문\n",
        "\n",
        "* 파이썬은 들여쓰기가 매우 중요\n",
        "* if 문 다음에 '실행할 문장'은 if문 다음 줄에서 들여쓰기를 해서 작성\n",
        "\n",
        "\n"
      ],
      "metadata": {
        "id": "XPce81EkNj1Z"
      }
    },
    {
      "cell_type": "markdown",
      "source": [
        "* 형식\n",
        "\n",
        "if 조건식 :  \n",
        "&nbsp;&nbsp;&nbsp;&nbsp; 실행할 문장"
      ],
      "metadata": {
        "id": "9-wIWfwTN6iV"
      }
    },
    {
      "cell_type": "code",
      "source": [
        "a = 99\n",
        "if a < 100:\n",
        "    print('100보다 작군요')"
      ],
      "metadata": {
        "colab": {
          "base_uri": "https://localhost:8080/"
        },
        "id": "A_6LypkqiUng",
        "outputId": "65e1b9c5-516b-489a-deba-60f27d3b4aa3"
      },
      "execution_count": null,
      "outputs": [
        {
          "output_type": "stream",
          "name": "stdout",
          "text": [
            "100보다 작군요\n"
          ]
        }
      ]
    },
    {
      "cell_type": "markdown",
      "source": [
        "실습 I\n",
        "\n",
        "* 변수 a에 False 라는 부울 자료형을 할당하고, 조건문에서 False인 경우 '거짓' 이라는 문장을 출력하시오\n",
        "\n",
        "* 변수 a에 숫자를 할당하고 조건문에서 a의 타입을 확인하여 int일 경우 '숫자형 입니다' 라는 문장을 출력하시오"
      ],
      "metadata": {
        "id": "S2b9hHDpPZA6"
      }
    },
    {
      "cell_type": "code",
      "source": [
        "#1\n",
        "\n",
        "a = False\n",
        "if a == False:\n",
        "  print('거짓')"
      ],
      "metadata": {
        "colab": {
          "base_uri": "https://localhost:8080/"
        },
        "id": "cZxM_jcqi4-3",
        "outputId": "dc000ffe-199f-45cb-a719-68f8ecf15b2e"
      },
      "execution_count": null,
      "outputs": [
        {
          "output_type": "stream",
          "name": "stdout",
          "text": [
            "거짓\n"
          ]
        }
      ]
    },
    {
      "cell_type": "code",
      "source": [
        "#2\n",
        "\n",
        "a = 123\n",
        "if type(a) == int:\n",
        "  print('숫자형입니다')"
      ],
      "metadata": {
        "colab": {
          "base_uri": "https://localhost:8080/"
        },
        "id": "ML6ef-RujEbY",
        "outputId": "06e85e60-eb31-4559-df07-ea8d3d213b78"
      },
      "execution_count": null,
      "outputs": [
        {
          "output_type": "stream",
          "name": "stdout",
          "text": [
            "숫자형입니다\n"
          ]
        }
      ]
    },
    {
      "cell_type": "markdown",
      "source": [
        "실습 III\n",
        "\n",
        "* input함수를 이용하여 나이를 입력 받은 후, 8세 미만은 '미취학 아동 출력', 8세 이상부터 19세 이하는 '학생' 출력, 나머지는 '성인'출력\n",
        "\n",
        "* input함수를 이용하여 점수를 입력 받은 후, 점수가 90점 이상이면 'A'출력, 80 ~ 89점이면 'B'출력, 70 ~ 79점 이면 'C'출력, 나머지는 'D'출력\n",
        "\n",
        "* input 함수를 이용하여 나이와 키를 입력받은 후, 나이가 8세 이상이고 키가 120cm 이면 '탑승가능 출력, 8세 이상인데 키가 120cm 미만이면 '키 미달' 출력, 8세 미만이면 '나이 미달' 출력"
      ],
      "metadata": {
        "id": "INLor_pNP0DS"
      }
    },
    {
      "cell_type": "code",
      "source": [
        "#1\n",
        "\n",
        "age = int(input('나이를 입력하세요 : '))\n",
        "\n",
        "if age < 8:\n",
        "    print('미취학 아동')\n",
        "\n",
        "if (age>=8) and (age <= 19):\n",
        "    print('학생')\n",
        "\n",
        "if age > 19:\n",
        "    print('성인')"
      ],
      "metadata": {
        "colab": {
          "base_uri": "https://localhost:8080/"
        },
        "id": "pJFSnECUP1yH",
        "outputId": "2d5446b7-b51f-4059-a5a4-c55f28c8f47d"
      },
      "execution_count": null,
      "outputs": [
        {
          "output_type": "stream",
          "name": "stdout",
          "text": [
            "나이를 입력하세요 : 30\n",
            "성인\n"
          ]
        }
      ]
    },
    {
      "cell_type": "code",
      "source": [
        "#2\n",
        "\n",
        "score = int(input('점수를 입력하세요 : '))\n",
        "\n",
        "if score >= 90:\n",
        "    print('A')\n",
        "if (score <= 89) & (score >= 80):\n",
        "    print('B')\n",
        "if (score <= 79) & (score >= 70):\n",
        "    print('C')\n",
        "if score <= 69:\n",
        "    print('D')"
      ],
      "metadata": {
        "colab": {
          "base_uri": "https://localhost:8080/"
        },
        "id": "b3EMv_MwSPjY",
        "outputId": "f79b26aa-488a-4e19-8a72-3e6ebc7899c7"
      },
      "execution_count": null,
      "outputs": [
        {
          "output_type": "stream",
          "name": "stdout",
          "text": [
            "점수를 입력하세요 : 82\n",
            "B\n"
          ]
        }
      ]
    },
    {
      "cell_type": "code",
      "source": [
        "#3\n",
        "\n",
        "age = int(input('나이를 입력하시오 : '))\n",
        "height = int(input('키를 입력하시오 : '))\n",
        "\n",
        "if (age >= 8) & (height >= 120):\n",
        "    print('탑승 가능')\n",
        "if (age >= 8) & (height < 120):\n",
        "    print('키 미달')\n",
        "if (age < 8):\n",
        "    print('나이 미달')"
      ],
      "metadata": {
        "colab": {
          "base_uri": "https://localhost:8080/"
        },
        "id": "Mcyan9-OSxxi",
        "outputId": "444a1ee1-f0ff-4f0f-dc4e-d76860711c2e"
      },
      "execution_count": null,
      "outputs": [
        {
          "output_type": "stream",
          "name": "stdout",
          "text": [
            "나이를 입력하시오 : 10\n",
            "키를 입력하시오 : 140\n",
            "탑승 가능\n"
          ]
        }
      ]
    },
    {
      "cell_type": "markdown",
      "source": [
        "조건 분기문(if - else 문)"
      ],
      "metadata": {
        "id": "i_eGU-J9TZ8G"
      }
    },
    {
      "cell_type": "code",
      "source": [
        "# 값 입력\n",
        "\n",
        "flag = input('마음에 드는 옷을 찾았나요? (예/아니오) : ')\n",
        "\n",
        "# 조건 분기\n",
        "\n",
        "if flag == '예':\n",
        "    print('축하합니다')\n",
        "else:\n",
        "    print('아쉽군요')"
      ],
      "metadata": {
        "id": "l1lUGioeTcwO"
      },
      "execution_count": null,
      "outputs": []
    },
    {
      "cell_type": "code",
      "source": [
        "a = 200\n",
        "\n",
        "if a < 100:\n",
        "  print('smaller than 100')\n",
        "else:\n",
        "  print('bigger than 100')"
      ],
      "metadata": {
        "colab": {
          "base_uri": "https://localhost:8080/"
        },
        "id": "A26Can1qpmBc",
        "outputId": "72da1937-f484-4a1e-88c9-3b0491a75728"
      },
      "execution_count": null,
      "outputs": [
        {
          "output_type": "stream",
          "name": "stdout",
          "text": [
            "bigger than 100\n"
          ]
        }
      ]
    },
    {
      "cell_type": "code",
      "source": [
        "a = 200\n",
        "\n",
        "if a < 100:\n",
        "  print('smaller than 100')\n",
        "  print('this sentence will see if true')\n",
        "\n",
        "else:\n",
        "  print('bigger than 100')\n",
        "  print('this sentence will see if false')\n",
        "\n",
        "print('end')"
      ],
      "metadata": {
        "colab": {
          "base_uri": "https://localhost:8080/"
        },
        "id": "9VausG7qpzP8",
        "outputId": "c04edd47-360c-4f92-82f2-e346bca785d0"
      },
      "execution_count": null,
      "outputs": [
        {
          "output_type": "stream",
          "name": "stdout",
          "text": [
            "bigger than 100\n",
            "this sentence will see if false\n"
          ]
        }
      ]
    },
    {
      "cell_type": "code",
      "source": [
        "#입력된 숫자가 짝수인지 홀수인지 계산\n",
        "\n",
        "a = int(input('정수를 입력하세요:'))\n",
        "\n",
        "if a % 2 == 0:\n",
        "  print('짝수를 작성하셨군요')\n",
        "else:\n",
        "  print('홀수를 작성하셨군요')"
      ],
      "metadata": {
        "colab": {
          "base_uri": "https://localhost:8080/"
        },
        "id": "-5BoampZqrdp",
        "outputId": "b69bf574-075f-4a15-ed78-4490fcffb0ce"
      },
      "execution_count": null,
      "outputs": [
        {
          "output_type": "stream",
          "name": "stdout",
          "text": [
            "정수를 입력하세요:4\n",
            "짝수를 작성하셨군요\n"
          ]
        }
      ]
    },
    {
      "cell_type": "markdown",
      "source": [
        "실습 IV\n",
        "윤년 판단하는 프로그램 만들기"
      ],
      "metadata": {
        "id": "DkQz_DeNUUGO"
      }
    },
    {
      "cell_type": "code",
      "source": [
        "#실습 (iv) 윤년 판단 프로그램\n",
        "year = int(input('연도를 입력하세요: '))\n",
        "\n",
        "if (year % 400 == 0) or ((year % 4 == 0) and (year % 100 != 0)):\n",
        "  print(f'{year}년은 윤년입니다.')\n",
        "else:\n",
        "  print(f'{year}년은 윤년이 아닙니다.')"
      ],
      "metadata": {
        "colab": {
          "base_uri": "https://localhost:8080/"
        },
        "id": "3OrcvFhaq_vo",
        "outputId": "ca126457-8b2e-4e65-9387-fbd4827bd8e6"
      },
      "execution_count": null,
      "outputs": [
        {
          "output_type": "stream",
          "name": "stdout",
          "text": [
            "연도를 입력하세요: 2012\n",
            "2012년은 윤년입니다.\n"
          ]
        }
      ]
    },
    {
      "cell_type": "markdown",
      "source": [
        "## 2. 중첩 if문"
      ],
      "metadata": {
        "id": "TefLOVjNwjUI"
      }
    },
    {
      "cell_type": "markdown",
      "source": [
        "* if ~ else ~ if ~ else 문\n",
        "    * if 문을 한번 실행 한 후 그 결과에서 if문을 다시 실행하는 것"
      ],
      "metadata": {
        "id": "jh_dxtc2bowm"
      }
    },
    {
      "cell_type": "markdown",
      "source": [
        "if 조건식 1:  \n",
        "&emsp;if 조건식2:  \n",
        "&emsp;&emsp; 실행할 문장1  \n",
        "&emsp;else :  \n",
        "&emsp;&emsp; 실행할 문장 2  \n",
        "else:    \n",
        "&emsp; 실행할 문장 3"
      ],
      "metadata": {
        "id": "HW40IvVYb07G"
      }
    },
    {
      "cell_type": "markdown",
      "source": [
        "실습 VI\n",
        "\n",
        "* 남자, 20살 이상, 현재 학교에 재학중이 아니라면 군대 영장을 보내고. 중간에 조건이 맞지 않을 경우 '종료합니다' 메세지를 출력하고 종료하는 코드를 작성하세요"
      ],
      "metadata": {
        "id": "Q1mq8HoicyPc"
      }
    },
    {
      "cell_type": "code",
      "source": [
        "gender = input('[남], [여] 중 하나를 입력하세요 : ')\n",
        "if gender == '남':\n",
        "    age = int(input('현재 나이를 입력하세요 : '))\n",
        "    if age >= 20:\n",
        "        cond = input('[재], [휴] 중 하나를 입력하세요 : ')\n",
        "        if cond == '휴':\n",
        "            print('군대에 입대하십시오.')\n",
        "        else:\n",
        "            print('종료합니다.')\n",
        "    else:\n",
        "        print('종료합니다.')\n",
        "else:\n",
        "    print('종료합니다.')"
      ],
      "metadata": {
        "colab": {
          "base_uri": "https://localhost:8080/"
        },
        "id": "TaRUECULc96o",
        "outputId": "6655e657-f6a9-4aff-d3b5-364181cf5218"
      },
      "execution_count": null,
      "outputs": [
        {
          "output_type": "stream",
          "name": "stdout",
          "text": [
            "[남], [여] 중 하나를 입력하세요 : 여\n",
            "종료합니다.\n"
          ]
        }
      ]
    },
    {
      "cell_type": "markdown",
      "source": [
        "* 조건을 더욱 정교하게 만드는 if-elif-else문\n",
        "\n"
      ],
      "metadata": {
        "id": "UdZpdXG9d320"
      }
    },
    {
      "cell_type": "code",
      "source": [
        "flag = input('마음에드는 옷을 찾았나요 ')\n",
        "\n",
        "if flag == '예':\n",
        "  print('축하합니다')\n",
        "elif flag == '아니오':\n",
        "  print('아쉽군요')\n",
        "else:\n",
        "  print('예 또는 아니오로 입력하시오')"
      ],
      "metadata": {
        "id": "lTPgjIGDwlii"
      },
      "execution_count": null,
      "outputs": []
    },
    {
      "cell_type": "markdown",
      "source": [
        "* 분기한 블록문 안에더 다시 분기하는 중첩 분기문"
      ],
      "metadata": {
        "id": "ym9jjLtme1-6"
      }
    },
    {
      "cell_type": "code",
      "source": [
        "flag = input('마음에 드는 옷을 찾았나요 (예/아니오): ')\n",
        "\n",
        "if flag == '예':\n",
        "  print('축하합니다')\n",
        "  price = int(input('가격이얼마인가요 : '))\n",
        "\n",
        "  if price <= 100000:\n",
        "    print('구매합니다')\n",
        "  else:\n",
        "    print('포기합니다')\n",
        "elif flag == '아니오':\n",
        "  print('아쉽군요')\n",
        "else:\n",
        "  print('\"예\" 또는 \"아니오\"로 입력하시오')"
      ],
      "metadata": {
        "colab": {
          "base_uri": "https://localhost:8080/"
        },
        "id": "pq1MyEXZembA",
        "outputId": "deadd11e-6d94-46bb-992a-7eb00b79dada"
      },
      "execution_count": null,
      "outputs": [
        {
          "output_type": "stream",
          "name": "stdout",
          "text": [
            "마음에 드는 옷을 찾았나요 (예/아니오): 예\n",
            "축하합니다\n",
            "가격이얼마인가요 : 20000\n",
            "구매합니다\n"
          ]
        }
      ]
    },
    {
      "cell_type": "code",
      "source": [
        "score = int(input('점수를 입력하세요:'))\n",
        "if score >= 90:\n",
        "  if score >= 95:\n",
        "    print('a+')\n",
        "  else:\n",
        "    print('a0')\n",
        "elif score >= 80:\n",
        "  if score >= 85:\n",
        "    print('b+')\n",
        "  else:\n",
        "    print('b')\n",
        "elif score >= 70:\n",
        "  if score >= 75:\n",
        "    print('c+')\n",
        "  else:\n",
        "    print('c0')\n",
        "elif score >= 60:\n",
        "  if score >= 65:\n",
        "    print('d+')\n",
        "  else:\n",
        "    print('d0')\n",
        "else:\n",
        "  print('f')"
      ],
      "metadata": {
        "colab": {
          "base_uri": "https://localhost:8080/"
        },
        "id": "ZF3dywseg8-p",
        "outputId": "a989ba6d-e86e-4dd4-94e4-71fde4703bdd"
      },
      "execution_count": null,
      "outputs": [
        {
          "output_type": "stream",
          "name": "stdout",
          "text": [
            "점수를 입력하세요:30\n",
            "f\n"
          ]
        }
      ]
    },
    {
      "cell_type": "markdown",
      "source": [
        "실습 VII"
      ],
      "metadata": {
        "id": "Ls4yvbYzfh7l"
      }
    },
    {
      "cell_type": "code",
      "source": [
        "res = input('연산자를 고르세요:\\n(1:덧셈, 2:뺄셈, 3:곱셈, 4:나눗셈)')\n",
        "res1 = int(input('\\n첫번째 값을 입력하시오:'))\n",
        "res2 = int(input('두번째 값을 입력하시오:'))\n",
        "if res == '1':\n",
        "  print(res1 + res2)\n",
        "elif res == '2':\n",
        "  print(res1 - res2)\n",
        "elif res == '3':\n",
        "  print(res1 * res2)\n",
        "elif res == '4':\n",
        "    print(res1 / res2)\n",
        "else:\n",
        "    print('1~4중에 고르시오')"
      ],
      "metadata": {
        "colab": {
          "base_uri": "https://localhost:8080/"
        },
        "id": "l5-18Qr4i2l7",
        "outputId": "2578b7d8-b6de-4268-d7a8-77059c305652"
      },
      "execution_count": null,
      "outputs": [
        {
          "output_type": "stream",
          "name": "stdout",
          "text": [
            "연산자를 고르세요:\n",
            "(1:덧셈, 2:뺄셈, 3:곱셈, 4:나눗셈)1\n",
            "\n",
            "첫번째 값을 입력하시오:10\n",
            "두번째 값을 입력하시오:20\n",
            "30\n"
          ]
        }
      ]
    },
    {
      "cell_type": "markdown",
      "source": [
        "실습 VIII"
      ],
      "metadata": {
        "id": "wuJxMvvQfk2z"
      }
    },
    {
      "cell_type": "code",
      "source": [
        "print('사이다 - 700 콜라 - 800원 물 - 1200원')\n",
        "\n",
        "money = int(input('얼마를 입력하겠습니까?'))\n",
        "res = int(input('선택) 1-사이다 2-콜라 3-물:'))\n",
        "if res==1:\n",
        "  if money >= 700:\n",
        "    print('사이다가 나왔습니다')\n",
        "    print('잔돈',money-700)\n",
        "  else:\n",
        "    print('잔돈이 반환됩니다:', money)\n",
        "elif res==2:\n",
        "  if money >= 800:\n",
        "    print('콜라가 나왔습니다')\n",
        "    print('잔돈',money-800)\n",
        "  else:\n",
        "    print('잔돈이 반환됩니다:', money)\n",
        "else:\n",
        "  if money >= 1200:\n",
        "    print('물이나왔습니다')\n",
        "    print('잔돈',money-1200)\n",
        "  else:\n",
        "    print('잔돈이 반환됩니다', money)"
      ],
      "metadata": {
        "colab": {
          "base_uri": "https://localhost:8080/"
        },
        "id": "D1gvMFJBl2mO",
        "outputId": "74fafdf4-bd12-437e-98c3-1ef5e4d39d26"
      },
      "execution_count": null,
      "outputs": [
        {
          "output_type": "stream",
          "name": "stdout",
          "text": [
            "사이다 - 700 콜라 - 800원 물 - 1200원\n",
            "얼마를 입력하겠습니까?1000\n",
            "선택) 1-사이다 2-콜라 3-물:1\n",
            "사이다가 나왔습니다\n",
            "잔돈 300\n"
          ]
        }
      ]
    },
    {
      "cell_type": "markdown",
      "source": [
        "실습 IX"
      ],
      "metadata": {
        "id": "suhosHwJgQcO"
      }
    },
    {
      "cell_type": "code",
      "source": [
        "print('우리식장에 오신것을 환영합니다. 메뉴는 다음과 같습니다.')\n",
        "print('-햄버거(입력b)\\n-치킨(입력c)\\n-피자(입력p)')\n",
        "menu = input('메뉴를 선택하세요(알파벳 b,c,p 입력):')\n",
        "if menu == 'b':\n",
        "  print('햄버거')\n",
        "elif menu == 'c':\n",
        "  print('치킨')\n",
        "elif menu == 'p':\n",
        "  print('피자')\n",
        "else:\n",
        "  print('선택된메뉴가 없습니다')"
      ],
      "metadata": {
        "colab": {
          "base_uri": "https://localhost:8080/"
        },
        "id": "BGVLBn_anuV2",
        "outputId": "7bf9f2c7-a257-41f9-c05e-7be0acd15420"
      },
      "execution_count": null,
      "outputs": [
        {
          "output_type": "stream",
          "name": "stdout",
          "text": [
            "우리식장에 오신것을 환영합니다. 메뉴는 다음과 같습니다.\n",
            "-햄버거(입력b)\n",
            "-치킨(입력c)\n",
            "-피자(입력p)\n",
            "메뉴를 선택하세요(알파벳 b,c,p 입력):c\n",
            "치킨\n"
          ]
        }
      ]
    },
    {
      "cell_type": "markdown",
      "source": [
        "#반복문"
      ],
      "metadata": {
        "id": "6F4yeCwCtQhH"
      }
    },
    {
      "cell_type": "markdown",
      "source": [
        "## 1. 반복문의 개념"
      ],
      "metadata": {
        "id": "djqGqgMOuNvZ"
      }
    },
    {
      "cell_type": "markdown",
      "source": [
        "* 원하는 조건을 만족할 때까지 반복하는 while문\n",
        "\n",
        "while 조건:  \n",
        "&emsp; 실행할 문장"
      ],
      "metadata": {
        "id": "s0NXbEpGg8DA"
      }
    },
    {
      "cell_type": "code",
      "source": [
        "repeat = True\n",
        "\n",
        "while repeat:\n",
        "  flag = input('마음에드는 옷을 찾았나요(예/아니오):')\n",
        "  if flag == '예':\n",
        "    print('good')\n",
        "    repeat = False # while 문 탈출을 위한 flag 값 변경\n",
        "  else:\n",
        "    print('bad')\n",
        "    print('pick other ones')"
      ],
      "metadata": {
        "colab": {
          "base_uri": "https://localhost:8080/"
        },
        "id": "vxCpRbjzuPkS",
        "outputId": "0a6917b4-0567-4a0c-c5ac-b2fed602ec27"
      },
      "execution_count": null,
      "outputs": [
        {
          "output_type": "stream",
          "name": "stdout",
          "text": [
            "마음에드는 옷을 찾았나요(예/아니오):아니오\n",
            "bad\n",
            "pick other ones\n",
            "마음에드는 옷을 찾았나요(예/아니오):아니오\n",
            "bad\n",
            "pick other ones\n",
            "마음에드는 옷을 찾았나요(예/아니오):예\n",
            "good\n"
          ]
        }
      ]
    },
    {
      "cell_type": "markdown",
      "source": [
        "##기본 for문\n"
      ],
      "metadata": {
        "id": "wo3FK8jPtZz-"
      }
    },
    {
      "cell_type": "markdown",
      "source": [
        "* 반복문의 개념과 필요성"
      ],
      "metadata": {
        "id": "tvgeSakxiRyP"
      }
    },
    {
      "cell_type": "code",
      "source": [
        "# 반복문을 사용하지 않는 경우\n",
        "\n",
        "print('안녕하세요')\n",
        "print('안녕하세요')\n",
        "print('안녕하세요')"
      ],
      "metadata": {
        "colab": {
          "base_uri": "https://localhost:8080/"
        },
        "id": "9iZe37a9iUbE",
        "outputId": "b141524b-c133-405d-f9e9-805cd0e311c9"
      },
      "execution_count": null,
      "outputs": [
        {
          "output_type": "stream",
          "name": "stdout",
          "text": [
            "안녕하세요\n",
            "안녕하세요\n",
            "안녕하세요\n"
          ]
        }
      ]
    },
    {
      "cell_type": "code",
      "source": [
        "# 반복문을 사용하는 경우\n",
        "\n",
        "for i in range(0,3,1):\n",
        "    print('안녕하세요')"
      ],
      "metadata": {
        "colab": {
          "base_uri": "https://localhost:8080/"
        },
        "id": "2B-EKtCXiY-k",
        "outputId": "7649f692-635b-4362-d631-4082a55e6e6d"
      },
      "execution_count": null,
      "outputs": [
        {
          "output_type": "stream",
          "name": "stdout",
          "text": [
            "안녕하세요\n",
            "안녕하세요\n",
            "안녕하세요\n"
          ]
        }
      ]
    },
    {
      "cell_type": "markdown",
      "source": [
        "기본형식  \n",
        "\n",
        "for 변수 in range(시작값, 끝값 + 1, 증가값):   \n",
        "&emsp; 이 부분을 반복\n"
      ],
      "metadata": {
        "id": "rYCgat2wifiR"
      }
    },
    {
      "cell_type": "code",
      "source": [
        "for i in range(0, 4, 1):\n",
        "    print(i)"
      ],
      "metadata": {
        "colab": {
          "base_uri": "https://localhost:8080/"
        },
        "id": "cJhTA5nRgIQy",
        "outputId": "cf88ab59-8a10-498b-ef57-3d018dfcab4a"
      },
      "execution_count": null,
      "outputs": [
        {
          "output_type": "stream",
          "name": "stdout",
          "text": [
            "0\n",
            "1\n",
            "2\n",
            "3\n"
          ]
        }
      ]
    },
    {
      "cell_type": "code",
      "source": [
        "for i in range(3):\n",
        "  print('%d : 안녕하세요 for문을 공부중입니다.' %i)"
      ],
      "metadata": {
        "colab": {
          "base_uri": "https://localhost:8080/"
        },
        "id": "TMtSMoL4wovC",
        "outputId": "3cc6740e-56ea-42d1-cafd-fdf134477071"
      },
      "execution_count": null,
      "outputs": [
        {
          "output_type": "stream",
          "name": "stdout",
          "text": [
            "0 : 안녕하세요 for문을 공부중입니다.\n",
            "1 : 안녕하세요 for문을 공부중입니다.\n",
            "2 : 안녕하세요 for문을 공부중입니다.\n"
          ]
        }
      ]
    },
    {
      "cell_type": "code",
      "source": [
        "for i in range(6):\n",
        "  print(\"%d\"%i, end= \" \") #end를 이용해 1줄 출력"
      ],
      "metadata": {
        "colab": {
          "base_uri": "https://localhost:8080/"
        },
        "id": "lNpTSL4zxdLO",
        "outputId": "18ac7372-9ef0-4c09-e686-b6b952fa151a"
      },
      "execution_count": null,
      "outputs": [
        {
          "output_type": "stream",
          "name": "stdout",
          "text": [
            "0 1 2 3 4 5 "
          ]
        }
      ]
    },
    {
      "cell_type": "markdown",
      "source": [
        "for 문을 활용한 합계 구하기"
      ],
      "metadata": {
        "id": "8wuOH17bjakD"
      }
    },
    {
      "cell_type": "code",
      "source": [
        "#for문 없이 합계 구하기\n",
        "\n",
        "hap = 1 + 2 + 3 + 4 + 5 + 6 + 7 + 8 + 9 + 10\n",
        "print('1에서 10까지의 합계 : %d' %hap)"
      ],
      "metadata": {
        "colab": {
          "base_uri": "https://localhost:8080/"
        },
        "id": "UlWEWm8tjdFX",
        "outputId": "d9e27d2a-042c-4a09-db04-924aed35a49c"
      },
      "execution_count": null,
      "outputs": [
        {
          "output_type": "stream",
          "name": "stdout",
          "text": [
            "1에서 10까지의 합계 : 55\n"
          ]
        }
      ]
    },
    {
      "cell_type": "code",
      "source": [
        "#for문을 활용한 합계 구하기\n",
        "\n",
        "res = 0\n",
        "for i in range(1,11,1):\n",
        "  res = res + i\n",
        "\n",
        "print(res)"
      ],
      "metadata": {
        "colab": {
          "base_uri": "https://localhost:8080/"
        },
        "id": "PIryY-ietR6n",
        "outputId": "38c41484-2cb8-4279-b63b-4f58f5254811"
      },
      "execution_count": null,
      "outputs": [
        {
          "output_type": "stream",
          "name": "stdout",
          "text": [
            "55\n"
          ]
        }
      ]
    },
    {
      "cell_type": "code",
      "source": [
        "res = 0\n",
        "for i in range(101):\n",
        "  res = res + i\n",
        "print(res)"
      ],
      "metadata": {
        "colab": {
          "base_uri": "https://localhost:8080/"
        },
        "id": "P6h2npkPybaO",
        "outputId": "283c443d-d4a9-4bbc-9698-6023d7c1f70d"
      },
      "execution_count": null,
      "outputs": [
        {
          "output_type": "stream",
          "name": "stdout",
          "text": [
            "5050\n"
          ]
        }
      ]
    },
    {
      "cell_type": "code",
      "source": [
        "#500부터 1000사이에 있는 홀수의 합계\n",
        "i, res = 0, 0\n",
        "for i in range(501, 1001, 2):\n",
        "  res = res + i\n",
        "print('500과 1000사이에 있는 홀수의 합계:%d' %res)\n"
      ],
      "metadata": {
        "colab": {
          "base_uri": "https://localhost:8080/"
        },
        "id": "voCil28V0aR-",
        "outputId": "0611faaf-9307-425c-8316-a32d8fb80d0c"
      },
      "execution_count": null,
      "outputs": [
        {
          "output_type": "stream",
          "name": "stdout",
          "text": [
            "500과 1000사이에 있는 홀수의 합계:187500\n"
          ]
        }
      ]
    },
    {
      "cell_type": "code",
      "source": [
        "i, res = 0, 0\n",
        "for i in range(0, 101, 7):\n",
        "  res = res + i\n",
        "print(res)"
      ],
      "metadata": {
        "colab": {
          "base_uri": "https://localhost:8080/"
        },
        "id": "rjx_ENKa0y7C",
        "outputId": "3b52b2ea-509b-4a59-ba97-b254c2e51dd3"
      },
      "execution_count": null,
      "outputs": [
        {
          "output_type": "stream",
          "name": "stdout",
          "text": [
            "735\n"
          ]
        }
      ]
    },
    {
      "cell_type": "code",
      "source": [
        "#사용자가 입력한 수까지 합계를 구하는 프로그램\n",
        "i, res = 0, 0\n",
        "num = int(input('값을 입력하시오:'))\n",
        "for i in range(0,num+1,1):\n",
        "  res = res + i\n",
        "\n",
        "print('1에서 %d까지의 합계 : %d'%(num, res))"
      ],
      "metadata": {
        "colab": {
          "base_uri": "https://localhost:8080/"
        },
        "id": "AgZ61-1y13Y9",
        "outputId": "89e25a2d-468b-4156-9aca-24ecb9a55c76"
      },
      "execution_count": null,
      "outputs": [
        {
          "output_type": "stream",
          "name": "stdout",
          "text": [
            "값을 입력하시오:10000000\n",
            "1에서 10000000까지의 합계 : 50000005000000\n"
          ]
        }
      ]
    },
    {
      "cell_type": "code",
      "source": [
        "#시작값 끝값, 증가값까지 사용자 입력\n",
        "i, res = 0, 0\n",
        "num1, num2, num3 = 0,0,0\n",
        "\n",
        "num1 = int(input('시작값을 입력하시오:'))\n",
        "num2 = int(input('끝값을 입력하시오:'))\n",
        "num3 = int(input('증가값을 입력하시오:'))\n",
        "\n",
        "for i in range(num1, num2+1, num3):\n",
        "  res = res + i\n",
        "\n",
        "print('%d에서 %d까지 %d씩 증가시킨 값의 합계:%d' %(num1, num2, num3, res))"
      ],
      "metadata": {
        "colab": {
          "base_uri": "https://localhost:8080/"
        },
        "id": "cqi9DU4f2SdH",
        "outputId": "172c89ee-0b45-4f39-95f7-e27ed2ed1199"
      },
      "execution_count": null,
      "outputs": [
        {
          "output_type": "stream",
          "name": "stdout",
          "text": [
            "시작값을 입력하시오:10\n",
            "끝값을 입력하시오:20\n",
            "증가값을 입력하시오:1\n",
            "10에서 20까지 1씩 증가시킨 값의 합계:165\n"
          ]
        }
      ]
    },
    {
      "cell_type": "code",
      "source": [
        "#구구단 출력\n",
        "i, res = 0, 0\n",
        "res = int(input('단을 입력하시오:'))\n",
        "for i in range(1, 10, 1):\n",
        "  print('%d * %d = %d'%(res, i, res*i))"
      ],
      "metadata": {
        "colab": {
          "base_uri": "https://localhost:8080/"
        },
        "id": "SZ6Qqhou3Q6B",
        "outputId": "66b27181-dc03-4e66-b105-42eef581c23f"
      },
      "execution_count": null,
      "outputs": [
        {
          "output_type": "stream",
          "name": "stdout",
          "text": [
            "단을 입력하시오:7\n",
            "7 * 1 = 7\n",
            "7 * 2 = 14\n",
            "7 * 3 = 21\n",
            "7 * 4 = 28\n",
            "7 * 5 = 35\n",
            "7 * 6 = 42\n",
            "7 * 7 = 49\n",
            "7 * 8 = 56\n",
            "7 * 9 = 63\n"
          ]
        }
      ]
    },
    {
      "cell_type": "markdown",
      "source": [
        "## 3. 중첩 for 문"
      ],
      "metadata": {
        "id": "TOrUH6wbkYrb"
      }
    },
    {
      "cell_type": "code",
      "source": [
        "for i in range(0, 3, 1):\n",
        "    for k in range(0, 3, 1):\n",
        "        print(f'파이썬은 꿀잽입니다. (i값 : {i : d}, k값 : {k : d})')"
      ],
      "metadata": {
        "colab": {
          "base_uri": "https://localhost:8080/"
        },
        "id": "IJbKXDH5kabG",
        "outputId": "e011cca0-afb6-4bfb-c7e2-5fd1a3433d09"
      },
      "execution_count": null,
      "outputs": [
        {
          "output_type": "stream",
          "name": "stdout",
          "text": [
            "파이썬은 꿀잽입니다. (i값 :  0, k값 :  0)\n",
            "파이썬은 꿀잽입니다. (i값 :  0, k값 :  1)\n",
            "파이썬은 꿀잽입니다. (i값 :  0, k값 :  2)\n",
            "파이썬은 꿀잽입니다. (i값 :  1, k값 :  0)\n",
            "파이썬은 꿀잽입니다. (i값 :  1, k값 :  1)\n",
            "파이썬은 꿀잽입니다. (i값 :  1, k값 :  2)\n",
            "파이썬은 꿀잽입니다. (i값 :  2, k값 :  0)\n",
            "파이썬은 꿀잽입니다. (i값 :  2, k값 :  1)\n",
            "파이썬은 꿀잽입니다. (i값 :  2, k값 :  2)\n"
          ]
        }
      ]
    },
    {
      "cell_type": "markdown",
      "source": [
        "2단부터 9단까지 구구단 출력"
      ],
      "metadata": {
        "id": "7jWm4tZXlGkQ"
      }
    },
    {
      "cell_type": "code",
      "source": [
        "for i in range(2,10,1):\n",
        "    print(f'{i} 단')\n",
        "    for j in range(1,10,1):\n",
        "        print(f'{i} * {j} = {i*j}')\n",
        "    print('')"
      ],
      "metadata": {
        "id": "2mq9nb-YlI8J"
      },
      "execution_count": null,
      "outputs": []
    },
    {
      "cell_type": "code",
      "source": [
        "for _ in range(2, 10, 1):\n",
        "    m = f'{i}단'\n",
        "    print(f'{m:^9}', end = '   ')\n",
        "print('')\n",
        "\n",
        "for i in range(9, 0, -1):\n",
        "    for j in range(2, 10, 1):\n",
        "      print(f'{j} * {i} ={i*j: 3d}', end = '   ')\n",
        "    print('')"
      ],
      "metadata": {
        "colab": {
          "base_uri": "https://localhost:8080/"
        },
        "id": "Mz1b6DhepjNN",
        "outputId": "160af07e-fb25-4cd4-c305-513584e62a71"
      },
      "execution_count": null,
      "outputs": [
        {
          "output_type": "stream",
          "name": "stdout",
          "text": [
            "   2단          3단          4단          5단          6단          7단          8단          9단       \n",
            "2 * 9 = 18   3 * 9 = 27   4 * 9 = 36   5 * 9 = 45   6 * 9 = 54   7 * 9 = 63   8 * 9 = 72   9 * 9 = 81   \n",
            "2 * 8 = 16   3 * 8 = 24   4 * 8 = 32   5 * 8 = 40   6 * 8 = 48   7 * 8 = 56   8 * 8 = 64   9 * 8 = 72   \n",
            "2 * 7 = 14   3 * 7 = 21   4 * 7 = 28   5 * 7 = 35   6 * 7 = 42   7 * 7 = 49   8 * 7 = 56   9 * 7 = 63   \n",
            "2 * 6 = 12   3 * 6 = 18   4 * 6 = 24   5 * 6 = 30   6 * 6 = 36   7 * 6 = 42   8 * 6 = 48   9 * 6 = 54   \n",
            "2 * 5 = 10   3 * 5 = 15   4 * 5 = 20   5 * 5 = 25   6 * 5 = 30   7 * 5 = 35   8 * 5 = 40   9 * 5 = 45   \n",
            "2 * 4 =  8   3 * 4 = 12   4 * 4 = 16   5 * 4 = 20   6 * 4 = 24   7 * 4 = 28   8 * 4 = 32   9 * 4 = 36   \n",
            "2 * 3 =  6   3 * 3 =  9   4 * 3 = 12   5 * 3 = 15   6 * 3 = 18   7 * 3 = 21   8 * 3 = 24   9 * 3 = 27   \n",
            "2 * 2 =  4   3 * 2 =  6   4 * 2 =  8   5 * 2 = 10   6 * 2 = 12   7 * 2 = 14   8 * 2 = 16   9 * 2 = 18   \n",
            "2 * 1 =  2   3 * 1 =  3   4 * 1 =  4   5 * 1 =  5   6 * 1 =  6   7 * 1 =  7   8 * 1 =  8   9 * 1 =  9   \n"
          ]
        }
      ]
    },
    {
      "cell_type": "code",
      "source": [
        "i = 1\n",
        "while i < 10:\n",
        "    print(f'{3} * {i} = {3*i}')\n",
        "    i = i + 1"
      ],
      "metadata": {
        "colab": {
          "base_uri": "https://localhost:8080/"
        },
        "id": "MTOj5VfL1Y76",
        "outputId": "e97c93f3-14fd-4ffc-f4bf-874678b65e3e"
      },
      "execution_count": null,
      "outputs": [
        {
          "output_type": "stream",
          "name": "stdout",
          "text": [
            "3 * 1 = 3\n",
            "3 * 2 = 6\n",
            "3 * 3 = 9\n",
            "3 * 4 = 12\n",
            "3 * 5 = 15\n",
            "3 * 6 = 18\n",
            "3 * 7 = 21\n",
            "3 * 8 = 24\n",
            "3 * 9 = 27\n"
          ]
        }
      ]
    },
    {
      "cell_type": "code",
      "source": [
        "print(range(3))"
      ],
      "metadata": {
        "colab": {
          "base_uri": "https://localhost:8080/"
        },
        "id": "feegr75o1q84",
        "outputId": "675e338d-37f7-4959-d38f-774c52ded09b"
      },
      "execution_count": null,
      "outputs": [
        {
          "output_type": "stream",
          "name": "stdout",
          "text": [
            "range(0, 3)\n"
          ]
        }
      ]
    },
    {
      "cell_type": "code",
      "source": [
        "print(\"\"\" 나는 '강하다'  \"\"\")"
      ],
      "metadata": {
        "colab": {
          "base_uri": "https://localhost:8080/"
        },
        "id": "r6Qh2-Up0VXY",
        "outputId": "892e7cee-31da-4546-a7cb-5570c9586b20"
      },
      "execution_count": null,
      "outputs": [
        {
          "output_type": "stream",
          "name": "stdout",
          "text": [
            " 나는 '강하다'  \n"
          ]
        }
      ]
    },
    {
      "cell_type": "markdown",
      "source": [
        "## 4. while문\n"
      ],
      "metadata": {
        "id": "NCrjX1RY4d4a"
      }
    },
    {
      "cell_type": "markdown",
      "source": [
        "for 문과 while 문 비교\n",
        "\n",
        "* for 문은 반복할 횟수를 range()함수에서 결정 후 그 횟수 만큼 반복\n",
        "* while문은 반복 횟수를 결정하기보다는 조건식이 참일 때까지 반복하는 방식"
      ],
      "metadata": {
        "id": "3Rg9vc9joGZr"
      }
    },
    {
      "cell_type": "code",
      "source": [
        "i = 0\n",
        "while i < 3:\n",
        "  print('%d hello' %i)\n",
        "  i = i + 1"
      ],
      "metadata": {
        "colab": {
          "base_uri": "https://localhost:8080/"
        },
        "id": "jBuQiQy-4flL",
        "outputId": "2809eab2-82e4-475d-b28f-3252b2feb46a"
      },
      "execution_count": null,
      "outputs": [
        {
          "output_type": "stream",
          "name": "stdout",
          "text": [
            "0 hello\n",
            "1 hello\n",
            "2 hello\n"
          ]
        }
      ]
    },
    {
      "cell_type": "code",
      "source": [
        "#1부터 100까지 합\n",
        "i, res = 0, 0\n",
        "\n",
        "i = 1\n",
        "while i <= 10:\n",
        "  res = res + i\n",
        "  i = i + 1\n",
        "print(res)"
      ],
      "metadata": {
        "colab": {
          "base_uri": "https://localhost:8080/"
        },
        "id": "MozC8MKb5yiH",
        "outputId": "44bed3b9-4d3d-47a6-a620-f132aae47af0"
      },
      "execution_count": null,
      "outputs": [
        {
          "output_type": "stream",
          "name": "stdout",
          "text": [
            "55\n"
          ]
        }
      ]
    },
    {
      "cell_type": "code",
      "source": [
        "i, res = 0, 0\n",
        "n1, n2, n3 = 0, 0, 0\n",
        "\n",
        "n1 = int(input('시작값을 입력하시오:'))\n",
        "n2 = int(input('끝값을 입력하시오:'))\n",
        "n3 = int(input('증가값을 입력하시오:'))\n",
        "\n",
        "i = n1\n",
        "\n",
        "while i <= n2:\n",
        "  res = res + i\n",
        "  i = i + n3\n",
        "\n",
        "print(res)"
      ],
      "metadata": {
        "colab": {
          "base_uri": "https://localhost:8080/"
        },
        "id": "6LF-0MGb5_Lz",
        "outputId": "0571796b-93af-459b-e6a8-6b14aa51eb70"
      },
      "execution_count": null,
      "outputs": [
        {
          "output_type": "stream",
          "name": "stdout",
          "text": [
            "시작값을 입력하시오:1\n",
            "끝값을 입력하시오:100\n",
            "증가값을 입력하시오:1\n",
            "5050\n"
          ]
        }
      ]
    },
    {
      "cell_type": "markdown",
      "source": [
        "실습 II"
      ],
      "metadata": {
        "id": "GqH93i3npOmr"
      }
    },
    {
      "cell_type": "code",
      "source": [
        "#1\n",
        "\n",
        "f_res, w_res = 0, 0\n",
        "for i in range(1,101,2):\n",
        "  f_res = f_res + i\n",
        "\n",
        "i=1\n",
        "while i <= 100:\n",
        "  w_res = w_res + i\n",
        "  i = i + 2\n",
        "\n",
        "print('for: %d \\nwhile: %d' %(f_res, w_res))"
      ],
      "metadata": {
        "colab": {
          "base_uri": "https://localhost:8080/"
        },
        "id": "gbzi1h7M8mta",
        "outputId": "04c1661d-e020-44ba-adb3-4322c4cb097c"
      },
      "execution_count": null,
      "outputs": [
        {
          "output_type": "stream",
          "name": "stdout",
          "text": [
            "for: 2500 \n",
            "while: 2500\n"
          ]
        }
      ]
    },
    {
      "cell_type": "code",
      "source": [
        "#2\n",
        "\n",
        "res1, res2 = 0, 0\n",
        "\n",
        "for i in range(0, 101, 2):\n",
        "    res1 += i\n",
        "\n",
        "i = 0\n",
        "while i <= 100:\n",
        "    res2 += i\n",
        "    i += 2\n",
        "\n",
        "print(f'for문 : {res1}\\nwhile문 : {res2}')"
      ],
      "metadata": {
        "colab": {
          "base_uri": "https://localhost:8080/"
        },
        "id": "mIZxveYkpRf9",
        "outputId": "ced055ae-c43c-4b1f-cfc2-89c8aeee42c3"
      },
      "execution_count": null,
      "outputs": [
        {
          "output_type": "stream",
          "name": "stdout",
          "text": [
            "for문 : 2550\n",
            "while문 : 2550\n"
          ]
        }
      ]
    },
    {
      "cell_type": "code",
      "source": [
        "#3\n",
        "\n",
        "start = int(input('시작 정수를 입력하세요 : '))\n",
        "end = int(input('끝 정수를 입력하세요 : '))\n",
        "\n",
        "hap = 0\n",
        "for i in range(start, end + 1, 1):\n",
        "    hap += i\n",
        "\n",
        "print(f'for : {start}에서 {end} 까지의 정수의 합 : {hap}')\n",
        "\n",
        "hap = 0\n",
        "i = start\n",
        "while i <= end:\n",
        "    hap = hap + i\n",
        "    i = i + 1\n",
        "\n",
        "print(f'while : {start}에서 {end} 까지의 정수의 합 : {hap}')"
      ],
      "metadata": {
        "colab": {
          "base_uri": "https://localhost:8080/"
        },
        "id": "VCnjZkRYp1kD",
        "outputId": "4a249e82-4d0b-4388-9f5c-b15bca39aa39"
      },
      "execution_count": null,
      "outputs": [
        {
          "output_type": "stream",
          "name": "stdout",
          "text": [
            "시작 정수를 입력하세요 : 2\n",
            "끝 정수를 입력하세요 : 6\n",
            "for : 2에서 6 까지의 정수의 합 : 20\n",
            "while : 2에서 6 까지의 정수의 합 : 20\n"
          ]
        }
      ]
    },
    {
      "cell_type": "markdown",
      "source": [
        "실습 III"
      ],
      "metadata": {
        "id": "DDzZv2yxqulH"
      }
    },
    {
      "cell_type": "code",
      "source": [
        "pw = ''\n",
        "\n",
        "while pw != 'pythonisfun':\n",
        "    pw = input('암호를 입력하시오 : ')\n",
        "\n",
        "print('로그인 성공')"
      ],
      "metadata": {
        "colab": {
          "base_uri": "https://localhost:8080/"
        },
        "id": "AsGHeHMpqv9k",
        "outputId": "2bd97ac4-8eff-438d-d174-97bec5efab6b"
      },
      "execution_count": null,
      "outputs": [
        {
          "output_type": "stream",
          "name": "stdout",
          "text": [
            "암호를 입력하시오 : a\n",
            "암호를 입력하시오 : a\n",
            "암호를 입력하시오 : pythonisfun\n",
            "로그인 성공\n"
          ]
        }
      ]
    },
    {
      "cell_type": "markdown",
      "source": [
        "## 5. break문과 continue 문"
      ],
      "metadata": {
        "id": "A357SU7mrIB2"
      }
    },
    {
      "cell_type": "markdown",
      "source": [
        "반복문을 탈출 시키는 break문  "
      ],
      "metadata": {
        "id": "lBUvuPDnrONy"
      }
    },
    {
      "cell_type": "code",
      "source": [
        "for i in range(1, 100):\n",
        "    print('for 문을 %d번 실행했습니다' %i)\n",
        "    break"
      ],
      "metadata": {
        "colab": {
          "base_uri": "https://localhost:8080/"
        },
        "id": "KLjmrPO6rKJT",
        "outputId": "5a656849-0de2-48f2-a764-86b99ae27fe2"
      },
      "execution_count": null,
      "outputs": [
        {
          "output_type": "stream",
          "name": "stdout",
          "text": [
            "for 문을 1번 실행했습니다\n"
          ]
        }
      ]
    },
    {
      "cell_type": "markdown",
      "source": [
        "ex) 누적 합계가 1000 이상이 되는 시작 지점 알기"
      ],
      "metadata": {
        "id": "fSVHYWJGreG2"
      }
    },
    {
      "cell_type": "code",
      "source": [
        "hap, i = 0, 0\n",
        "\n",
        "for i in range(1, 101):\n",
        "    hap += i\n",
        "\n",
        "    if hap >= 1000:\n",
        "        break\n",
        "\n",
        "print('%d일 때 1부터의 합이 1000을 넘는다'%i)"
      ],
      "metadata": {
        "colab": {
          "base_uri": "https://localhost:8080/"
        },
        "id": "GUzyE0SgrXp3",
        "outputId": "fd3d75b6-3465-47f6-eeb6-cf4060320327"
      },
      "execution_count": null,
      "outputs": [
        {
          "output_type": "stream",
          "name": "stdout",
          "text": [
            "45 일 때 1부터의 합이 1000을 넘는다\n"
          ]
        }
      ]
    },
    {
      "cell_type": "markdown",
      "source": [
        "실습 IV\n",
        "\n",
        "* 1과 100사이에 있는 홀수의 합계 중에서 최초로 합계가 1000이 넘어가는 숫자를 구하는 프로그램 작성하기"
      ],
      "metadata": {
        "id": "xJ-aL6bkrwdC"
      }
    },
    {
      "cell_type": "code",
      "source": [
        "i, hap = 0, 0\n",
        "\n",
        "for i in range(1,100, 2):\n",
        "    hap += i\n",
        "\n",
        "    if hap >= 1000:\n",
        "        break\n",
        "\n",
        "print('1~100의 홀수의 합에서 최초로 1000이 넘는 위치 : %d'%i)"
      ],
      "metadata": {
        "colab": {
          "base_uri": "https://localhost:8080/"
        },
        "id": "e2u8scMAr2gN",
        "outputId": "7f02e3c3-9c23-4a29-af1b-aaf85818a03d"
      },
      "execution_count": null,
      "outputs": [
        {
          "output_type": "stream",
          "name": "stdout",
          "text": [
            "1~100의 홀수의 합에서 최초로 1000이 넘는 위치 : 63\n"
          ]
        }
      ]
    },
    {
      "cell_type": "code",
      "source": [
        "i, hap = 1, 0\n",
        "\n",
        "while i <= 100:\n",
        "    hap = hap + i\n",
        "    if hap >= 1000:\n",
        "        break\n",
        "    i = i + 2\n",
        "\n",
        "print('1~100의 홀수의 합에서 최초로 1000이 넘는 위치 : %d'%i)"
      ],
      "metadata": {
        "colab": {
          "base_uri": "https://localhost:8080/"
        },
        "id": "k2U60B3NrYdi",
        "outputId": "57b81db6-4831-4284-e062-f9c593f9d825"
      },
      "execution_count": null,
      "outputs": [
        {
          "output_type": "stream",
          "name": "stdout",
          "text": [
            "1~100의 홀수의 합에서 최초로 1000이 넘는 위치 : 63\n"
          ]
        }
      ]
    },
    {
      "cell_type": "markdown",
      "source": [
        "반복문으로 다시 돌아가게 하는 continue 문"
      ],
      "metadata": {
        "id": "DuYAA8X9sLsk"
      }
    },
    {
      "cell_type": "code",
      "source": [
        "hap, i = 0, 0\n",
        "\n",
        "for i in range(1, 101):\n",
        "    if i % 3 == 0:\n",
        "        continue\n",
        "\n",
        "    hap += i\n",
        "\n",
        "print('1 ~ 100의 합계(3의 배수 제외) : %d'%hap)"
      ],
      "metadata": {
        "colab": {
          "base_uri": "https://localhost:8080/"
        },
        "id": "GlatYJKJsOPQ",
        "outputId": "803398f9-28de-47e3-910c-723a7bb0d02a"
      },
      "execution_count": null,
      "outputs": [
        {
          "output_type": "stream",
          "name": "stdout",
          "text": [
            "1 ~ 100의 합계(3의 배수 제외) : 3367\n"
          ]
        }
      ]
    },
    {
      "cell_type": "markdown",
      "source": [
        "실습 VI\n",
        "\n",
        "* 사용자가 입력한 숫자들을 더하는 프로그램, yes라고 답한 동안에만 숫자를 입력받는다"
      ],
      "metadata": {
        "id": "n6Adz_BOs5Ra"
      }
    },
    {
      "cell_type": "code",
      "source": [
        "hap, num = 0, 0\n",
        "\n",
        "while True:\n",
        "    num = int(input('숫자를 입력하세요 : '))\n",
        "    hap += num\n",
        "    cond = input('계속(yes/no) : ')\n",
        "    if cond == 'no':\n",
        "              print('합계는 : %d'%hap)\n",
        "              break"
      ],
      "metadata": {
        "colab": {
          "base_uri": "https://localhost:8080/"
        },
        "id": "i1UhCASus6hQ",
        "outputId": "bfdb47b9-21aa-41b0-f35e-05aa6c467173"
      },
      "execution_count": null,
      "outputs": [
        {
          "output_type": "stream",
          "name": "stdout",
          "text": [
            "숫자를 입력하세요 : 10\n",
            "계속(yes/no) : yes\n",
            "숫자를 입력하세요 : 20\n",
            "계속(yes/no) : yes\n",
            "숫자를 입력하세요 : 50\n",
            "계속(yes/no) : no\n",
            "합계는 : 80\n"
          ]
        }
      ]
    },
    {
      "cell_type": "markdown",
      "source": [
        "과제2"
      ],
      "metadata": {
        "id": "rcsBMDUx1ZGt"
      }
    },
    {
      "cell_type": "code",
      "source": [
        "a = input('안나를 위한 가위, 바위, 보를 입력하세요: ')\n",
        "s = input('신후를 위한 가위, 바위, 보를 입력하세요: ')\n",
        "\n",
        "if a == '가위':\n",
        "  if s == '보':\n",
        "    print('안나 승리')\n",
        "  elif s == '바위':\n",
        "    print('신후 승리')\n",
        "  elif s == '가위':\n",
        "    print('무승부')\n",
        "  else:\n",
        "    print('신후 값 입력오류 ->', s)\n",
        "elif a == '바위':\n",
        "  if s == '보':\n",
        "    print('신후 승리')\n",
        "  elif s == '바위':\n",
        "    print('무승부')\n",
        "  elif s == '가위':\n",
        "    print('안나 승리')\n",
        "  else:\n",
        "    print('신후 값 입력오류 ->', s)\n",
        "elif a == '보':\n",
        "  if s == '보':\n",
        "    print('무승부')\n",
        "  elif s == '바위':\n",
        "    print('안나 승리')\n",
        "  elif s == '가위':\n",
        "    print('신후 승리')\n",
        "  else:\n",
        "    print('신후 값 입력오류 ->', s)\n",
        "else:\n",
        "  print('안나 값 입력 오류 ->', a)"
      ],
      "metadata": {
        "colab": {
          "base_uri": "https://localhost:8080/"
        },
        "id": "yJ1BJuBL1aiN",
        "outputId": "19613c1b-469c-4ea8-ba51-1188d27313f1"
      },
      "execution_count": null,
      "outputs": [
        {
          "output_type": "stream",
          "name": "stdout",
          "text": [
            "안나를 위한 가위, 바위, 보를 입력하세요: 가위\n",
            "신후를 위한 가위, 바위, 보를 입력하세요: 보\n",
            "안나 승리\n"
          ]
        }
      ]
    },
    {
      "cell_type": "markdown",
      "source": [
        "# 리스트"
      ],
      "metadata": {
        "id": "VXZ3FD3HlgJL"
      }
    },
    {
      "cell_type": "markdown",
      "source": [
        "## 1. 리스트의 기본"
      ],
      "metadata": {
        "id": "5pYhEPLrB0GU"
      }
    },
    {
      "cell_type": "markdown",
      "source": [
        "리스트의 필요성\n",
        "\n",
        "* 이제까지 우리는 변수를 사용하여 데이터를 저장하고 처리하였음\n",
        "* 데이터를 저장하기 위해 변수를 하나씩 만들어주는 일은 번거롭기 때문에 많은 데이터를 처리하기 위해 리스트를 사용할 수 있음"
      ],
      "metadata": {
        "id": "jCKt51eUB3kL"
      }
    },
    {
      "cell_type": "code",
      "source": [
        "height = 178.9"
      ],
      "metadata": {
        "id": "H9V24RgCCFMo"
      },
      "execution_count": null,
      "outputs": []
    },
    {
      "cell_type": "code",
      "source": [
        "height1 = 178.9\n",
        "height2 = 168.9\n",
        "height3 = 158.9\n",
        "height4 = 198.9"
      ],
      "metadata": {
        "id": "EM7_FYp6CIEI"
      },
      "execution_count": null,
      "outputs": []
    },
    {
      "cell_type": "code",
      "source": [
        "heights = [178.9, 168.9, 158.9, 198.9]"
      ],
      "metadata": {
        "id": "lI3FxD20CQUy"
      },
      "execution_count": null,
      "outputs": []
    },
    {
      "cell_type": "code",
      "source": [
        "a, b, c, d = 0, 0, 0, 0\n",
        "hap = 0\n",
        "\n",
        "a = int(input('1번째 숫자 : '))\n",
        "b = int(input('2번째 숫자 : '))\n",
        "c = int(input('3번째 숫자 : '))\n",
        "d = int(input('4번째 숫자 : '))\n",
        "\n",
        "hap = a + b + c + d\n",
        "\n",
        "print('합계 ==> %d' %hap)"
      ],
      "metadata": {
        "colab": {
          "base_uri": "https://localhost:8080/"
        },
        "id": "maWyJde9CX4a",
        "outputId": "71377f93-0528-40ba-f2bf-364012151508"
      },
      "execution_count": null,
      "outputs": [
        {
          "output_type": "stream",
          "name": "stdout",
          "text": [
            "1번째 숫자 : 1\n",
            "2번째 숫자 : 2\n",
            "3번째 숫자 : 3\n",
            "4번째 숫자 : 4\n",
            "합계 ==> 10\n"
          ]
        }
      ]
    },
    {
      "cell_type": "markdown",
      "source": [
        "리스트를 생성하는 방법\n",
        "\n",
        "* 리스트명 = [값1, 값2, 값3, ...]  \n",
        "* aa = [10, 20, 30, 40]"
      ],
      "metadata": {
        "id": "OsgT7vF1C575"
      }
    },
    {
      "cell_type": "code",
      "source": [
        "# 대괄호 사용\n",
        "\n",
        "aa = [10,20,30,40]\n",
        "print(aa[0], aa[1], aa[2], aa[3])"
      ],
      "metadata": {
        "colab": {
          "base_uri": "https://localhost:8080/"
        },
        "id": "IFtwRlbsDJAy",
        "outputId": "f0341718-19c1-4cdc-b7ea-3784495901eb"
      },
      "execution_count": null,
      "outputs": [
        {
          "output_type": "stream",
          "name": "stdout",
          "text": [
            "10 20 30 40\n"
          ]
        }
      ]
    },
    {
      "cell_type": "markdown",
      "source": [
        "리스트의 색인\n",
        "\n",
        "* 리스트 타입의 데이터에는 자동으로 '색인'이 생김\n",
        "* 색인은 값을 찾아갈 수 있도록 차례대로 매긴 번호와 같은 개념으로서 파이썬에서 제공하는 기본 색인은 0부터 시작하여 정수 형태로 1씩 증가"
      ],
      "metadata": {
        "id": "YG-eodWDDjZ1"
      }
    },
    {
      "cell_type": "code",
      "source": [
        "cards = [3, 1, 5, 2]\n",
        "cards"
      ],
      "metadata": {
        "colab": {
          "base_uri": "https://localhost:8080/"
        },
        "id": "DETydcDRDyOk",
        "outputId": "c7437b1e-8676-4ec5-cdba-343f8e0f85df"
      },
      "execution_count": null,
      "outputs": [
        {
          "output_type": "execute_result",
          "data": {
            "text/plain": [
              "[3, 1, 5, 2]"
            ]
          },
          "metadata": {},
          "execution_count": 58
        }
      ]
    },
    {
      "cell_type": "code",
      "source": [
        "type(cards)"
      ],
      "metadata": {
        "colab": {
          "base_uri": "https://localhost:8080/"
        },
        "id": "SA-7OAVXD03F",
        "outputId": "b23c6bd3-70b5-4bfc-a5e2-792c3312c453"
      },
      "execution_count": null,
      "outputs": [
        {
          "output_type": "execute_result",
          "data": {
            "text/plain": [
              "list"
            ]
          },
          "metadata": {},
          "execution_count": 103
        }
      ]
    },
    {
      "cell_type": "code",
      "source": [
        "print(cards[0], cards[1], cards[2], cards[3])\n",
        "print(cards[-1], cards[-2], cards[-3], cards[-4])"
      ],
      "metadata": {
        "colab": {
          "base_uri": "https://localhost:8080/"
        },
        "id": "pXNFCXh-D2O3",
        "outputId": "7e7f7bf2-9601-45ba-b57a-b937f5b46803"
      },
      "execution_count": null,
      "outputs": [
        {
          "output_type": "stream",
          "name": "stdout",
          "text": [
            "3 1 5 2\n",
            "2 5 1 3\n"
          ]
        }
      ]
    },
    {
      "cell_type": "markdown",
      "source": [
        "len() 함수\n",
        "\n",
        "* len() 함수를 통해 리스트의 길이를 구할수 있다"
      ],
      "metadata": {
        "id": "oerr-UA0EJHf"
      }
    },
    {
      "cell_type": "code",
      "source": [
        "len(cards)"
      ],
      "metadata": {
        "colab": {
          "base_uri": "https://localhost:8080/"
        },
        "id": "d5bmqFTTEPAX",
        "outputId": "62fb3834-6d42-4d55-b947-cede70b50f74"
      },
      "execution_count": null,
      "outputs": [
        {
          "output_type": "execute_result",
          "data": {
            "text/plain": [
              "4"
            ]
          },
          "metadata": {},
          "execution_count": 106
        }
      ]
    },
    {
      "cell_type": "markdown",
      "source": [
        "리스트 색인 오류"
      ],
      "metadata": {
        "id": "SYi1DrC0ESZs"
      }
    },
    {
      "cell_type": "code",
      "source": [
        "cards[4] # 없는 색인값을 사용하면 오류 발생"
      ],
      "metadata": {
        "colab": {
          "base_uri": "https://localhost:8080/",
          "height": 174
        },
        "id": "5QYcMkRBETnQ",
        "outputId": "34f294e6-7a84-4c5d-87cf-12f18ebf5bf0"
      },
      "execution_count": null,
      "outputs": [
        {
          "output_type": "error",
          "ename": "IndexError",
          "evalue": "ignored",
          "traceback": [
            "\u001b[0;31m---------------------------------------------------------------------------\u001b[0m",
            "\u001b[0;31mIndexError\u001b[0m                                Traceback (most recent call last)",
            "\u001b[0;32m<ipython-input-107-67e9f61c4baa>\u001b[0m in \u001b[0;36m<cell line: 1>\u001b[0;34m()\u001b[0m\n\u001b[0;32m----> 1\u001b[0;31m \u001b[0mcards\u001b[0m\u001b[0;34m[\u001b[0m\u001b[0;36m4\u001b[0m\u001b[0;34m]\u001b[0m\u001b[0;34m\u001b[0m\u001b[0;34m\u001b[0m\u001b[0m\n\u001b[0m",
            "\u001b[0;31mIndexError\u001b[0m: list index out of range"
          ]
        }
      ]
    },
    {
      "cell_type": "code",
      "source": [
        "aa = [0, 0, 0, 0] #초기 리스트 설정을 해줘야함\n",
        "hap = 0\n",
        "\n",
        "aa[0] = int(input('1번째 숫자 : '))\n",
        "aa[1] = int(input('2번째 숫자 : '))\n",
        "aa[2] = int(input('3번째 숫자 : '))\n",
        "aa[3] = int(input('4번째 숫자 : '))\n",
        "\n",
        "hap = aa[0] + aa[1] + aa[2] + aa[3]\n",
        "\n",
        "print('합계 ==> %d'%hap)"
      ],
      "metadata": {
        "colab": {
          "base_uri": "https://localhost:8080/"
        },
        "id": "M82rmIhuEf2E",
        "outputId": "7d00aba6-23f5-45b2-f9f1-23097034b119"
      },
      "execution_count": null,
      "outputs": [
        {
          "output_type": "stream",
          "name": "stdout",
          "text": [
            "1번째 숫자 : 1\n",
            "2번째 숫자 : 2\n",
            "3번째 숫자 : 3\n",
            "4번째 숫자 : 4\n",
            "합계 ==> 10\n"
          ]
        }
      ]
    },
    {
      "cell_type": "markdown",
      "source": [
        "for문 활용하기"
      ],
      "metadata": {
        "id": "HvDoqKNQMS5V"
      }
    },
    {
      "cell_type": "code",
      "source": [
        "colors = ['black', 'blue', 'yellow', 'red']\n",
        "\n",
        "for i in colors:\n",
        "    print(i, len(i))  # 문자열에 len함수를 사용해주면 문자열의 길이를 출력해준다."
      ],
      "metadata": {
        "colab": {
          "base_uri": "https://localhost:8080/"
        },
        "id": "c91GbFkGMT5L",
        "outputId": "ce35fe8e-0c65-471a-a035-013a7653a642"
      },
      "execution_count": null,
      "outputs": [
        {
          "output_type": "stream",
          "name": "stdout",
          "text": [
            "black 5\n",
            "blue 4\n",
            "yellow 6\n",
            "red 3\n"
          ]
        }
      ]
    },
    {
      "cell_type": "markdown",
      "source": [
        "리스트의 일반적인 사용\n",
        "* 빈 리스트의 생성과 항목 추가\n",
        "* 리스트명.append(값)의 형태로 리스트에 항목 추가 가능"
      ],
      "metadata": {
        "id": "bO5jhPHSMlTo"
      }
    },
    {
      "cell_type": "code",
      "source": [
        "aa = []\n",
        "aa.append(0)\n",
        "aa.append(1)\n",
        "aa.append(2)\n",
        "print(aa)"
      ],
      "metadata": {
        "colab": {
          "base_uri": "https://localhost:8080/"
        },
        "id": "PNtVcN4KMrGl",
        "outputId": "b5053961-1481-457b-9847-d6f6e5eec840"
      },
      "execution_count": null,
      "outputs": [
        {
          "output_type": "stream",
          "name": "stdout",
          "text": [
            "[0, 1, 2]\n"
          ]
        }
      ]
    },
    {
      "cell_type": "code",
      "source": [
        "aa = []\n",
        "\n",
        "for i in range(0, 100):\n",
        "    aa.append(i)\n",
        "len(aa)"
      ],
      "metadata": {
        "colab": {
          "base_uri": "https://localhost:8080/"
        },
        "id": "5hoY9fGwMwsd",
        "outputId": "71d4f1b1-c55b-485d-efa9-b7af3274eb62"
      },
      "execution_count": null,
      "outputs": [
        {
          "output_type": "execute_result",
          "data": {
            "text/plain": [
              "100"
            ]
          },
          "metadata": {},
          "execution_count": 8
        }
      ]
    },
    {
      "cell_type": "code",
      "source": [
        "aa = []\n",
        "for i in range(0, 4):\n",
        "    aa.append(0)\n",
        "\n",
        "hap = 0\n",
        "\n",
        "for i in range(0, 4):\n",
        "    aa[i] = int(input(str(i + 1) + '번째 숫자 : '))\n",
        "\n",
        "for i in aa:\n",
        "    hap += i\n",
        "\n",
        "print('합계 ==> %d'%hap)"
      ],
      "metadata": {
        "colab": {
          "base_uri": "https://localhost:8080/"
        },
        "id": "VnxWSKwXM7Ti",
        "outputId": "94cbd527-0d8d-4566-b0fc-543b6850ad09"
      },
      "execution_count": null,
      "outputs": [
        {
          "output_type": "stream",
          "name": "stdout",
          "text": [
            "1번째 숫자 : 1\n",
            "2번째 숫자 : 2\n",
            "3번째 숫자 : 3\n",
            "4번째 숫자 : 4\n",
            "합계 ==> 10\n"
          ]
        }
      ]
    },
    {
      "cell_type": "markdown",
      "source": [
        "리스트 타입의 특정 색인 값 변경"
      ],
      "metadata": {
        "id": "Y_5OcNSJNzBs"
      }
    },
    {
      "cell_type": "code",
      "source": [
        "cards"
      ],
      "metadata": {
        "colab": {
          "base_uri": "https://localhost:8080/"
        },
        "id": "k7ZOz3gYN0_r",
        "outputId": "ae344613-4b1a-498b-9562-c4d3a792d0f8"
      },
      "execution_count": null,
      "outputs": [
        {
          "output_type": "execute_result",
          "data": {
            "text/plain": [
              "[3, 1, 5, 2]"
            ]
          },
          "metadata": {},
          "execution_count": 15
        }
      ]
    },
    {
      "cell_type": "code",
      "source": [
        "cards[1] = 8 #리스트의 두번째 요소 변경\n",
        "cards"
      ],
      "metadata": {
        "colab": {
          "base_uri": "https://localhost:8080/"
        },
        "id": "bXRXnzsaOBzP",
        "outputId": "902c6b12-f8cb-42dd-9a33-c3ca126c3849"
      },
      "execution_count": null,
      "outputs": [
        {
          "output_type": "execute_result",
          "data": {
            "text/plain": [
              "[3, 8, 5, 2]"
            ]
          },
          "metadata": {},
          "execution_count": 16
        }
      ]
    },
    {
      "cell_type": "markdown",
      "source": [
        "리스트 조작 함수\n",
        "\n",
        "|함수|설명|사용법|\n",
        "|:-:|:-:|:-:|\n",
        "|append()|리스트 맨 뒤에 항목을 추가한다|리스트.append(값)|\n",
        "|pop()|리스트 맨 뒤의 항목을 빼낸다(리스트에서 해당항목이 삭제 된다).|리스트명.pop()\n",
        "|sort()|리스트의 항목을 정렬한다|리스트명.sort()\n",
        "|reverse()|리스트 항목의 순서를 역순으로 만든다|리스트명.reverse()\n",
        "|index()|지정한 값을 찾아 해당 위치를 반환한다|리스트명.index(찾을값)\n",
        "|insert()|지정된 위치에 값을 삽입한다|리스트명.insert(위치, 값)\n",
        "|remove()|리스트에서 지정한 값을 삭제한다(중복시 첫 값만 제거)|리스트명.remove(지울값)\n",
        "|extend()|리스트 뒤에 리스트를 추가한다|리스트명.extend(추가할리스트)\n",
        "|count()|리스트에서 해당 값으 개수를 센다|리스트명.count(찾을값)\n",
        "|clear()|리스트의 내용을 모두 지운다|리스트명.clear()\n",
        "|del()|리스트에서 해당 위치의 항목을 삭제한다|del(리스트명[위치])\n",
        "|len()|리스트에 포한된 전체 항목의 개수를 센다|len(리스트명)\n",
        "|copy()|리스트의 내용을 새로운 리스트에 복사한다|새리스트 = 리스트명.copy()\n",
        "|sorted()|리스트의 항목을 정렬해서 새로운 리스트에 대입한다|새리스트=sorted(리스트)\n"
      ],
      "metadata": {
        "id": "Xgc2Wl0JOSm5"
      }
    },
    {
      "cell_type": "markdown",
      "source": [
        "리스트 항목 추가하기 : append() 함수"
      ],
      "metadata": {
        "id": "s-J35I5UG5wW"
      }
    },
    {
      "cell_type": "code",
      "source": [
        "print(cards)\n",
        "cards.append(7)\n",
        "print(cards)"
      ],
      "metadata": {
        "colab": {
          "base_uri": "https://localhost:8080/"
        },
        "id": "OxOa5YxdHCEz",
        "outputId": "2530c9fa-1106-4b94-f554-89760b861fb7"
      },
      "execution_count": null,
      "outputs": [
        {
          "output_type": "stream",
          "name": "stdout",
          "text": [
            "[3, 1, 5, 2]\n",
            "[3, 1, 5, 2, 7]\n"
          ]
        }
      ]
    },
    {
      "cell_type": "code",
      "source": [
        "# 연속된 정수 리스트 생성\n",
        "\n",
        "list(range(5))"
      ],
      "metadata": {
        "colab": {
          "base_uri": "https://localhost:8080/"
        },
        "id": "91ECga9YHJoT",
        "outputId": "3f4acc1b-e7ad-4ad9-d696-be7df41796f6"
      },
      "execution_count": null,
      "outputs": [
        {
          "output_type": "execute_result",
          "data": {
            "text/plain": [
              "[0, 1, 2, 3, 4]"
            ]
          },
          "metadata": {},
          "execution_count": 4
        }
      ]
    },
    {
      "cell_type": "code",
      "source": [
        "# in 연산자\n",
        "\n",
        "a1 = list(range(5))\n",
        "1 in a1 # 1이라는 값이 a1리스트에 포함되어 있는가"
      ],
      "metadata": {
        "colab": {
          "base_uri": "https://localhost:8080/"
        },
        "id": "kG9KwxKWHYoX",
        "outputId": "e12b9965-0abf-442a-920a-9cf1b5b2c0ea"
      },
      "execution_count": null,
      "outputs": [
        {
          "output_type": "execute_result",
          "data": {
            "text/plain": [
              "True"
            ]
          },
          "metadata": {},
          "execution_count": 5
        }
      ]
    },
    {
      "cell_type": "markdown",
      "source": [
        "실습 I\n",
        "\n",
        "* 사용자로 부터 입력을 받아 과일 리스트 만들기"
      ],
      "metadata": {
        "id": "F7kpCfSyHzOk"
      }
    },
    {
      "cell_type": "code",
      "source": [
        "favor_fruit = []\n",
        "\n",
        "for i in range(3):\n",
        "    fruit = input('좋아하는 과일 이름을 입력하시오 : ')\n",
        "    favor_fruit.append(fruit)\n",
        "\n",
        "fruit = input('과일의 이름을 입력하세요 : ')\n",
        "\n",
        "if fruit in favor_fruit:\n",
        "    print('이 과일은 당신이 좋아하는 과일입니다')\n",
        "else:\n",
        "    print('이 과일은 당신이 좋아하지 않는 과일입니다')"
      ],
      "metadata": {
        "colab": {
          "base_uri": "https://localhost:8080/"
        },
        "id": "xCyNmCYAHyWi",
        "outputId": "d0c639de-8ad2-4124-8d8c-8350288ad28e"
      },
      "execution_count": null,
      "outputs": [
        {
          "output_type": "stream",
          "name": "stdout",
          "text": [
            "좋아하는 과일 이름을 입력하시오 : 사과\n",
            "좋아하는 과일 이름을 입력하시오 : 키위\n",
            "좋아하는 과일 이름을 입력하시오 : 바나나\n",
            "과일의 이름을 입력하세요 : 바나나\n",
            "이 과일은 당신이 좋아하는 과일입니다\n"
          ]
        }
      ]
    },
    {
      "cell_type": "markdown",
      "source": [
        "리스트 항목 제거하기 : remove(), pop(), del()"
      ],
      "metadata": {
        "id": "d0o-rRV2ImDL"
      }
    },
    {
      "cell_type": "code",
      "source": [
        "cards"
      ],
      "metadata": {
        "colab": {
          "base_uri": "https://localhost:8080/"
        },
        "id": "93TaknHFIovH",
        "outputId": "521cb80e-afff-42b4-cfe2-284df03a3793"
      },
      "execution_count": null,
      "outputs": [
        {
          "output_type": "execute_result",
          "data": {
            "text/plain": [
              "[3, 1, 5, 2, 7]"
            ]
          },
          "metadata": {},
          "execution_count": 11
        }
      ]
    },
    {
      "cell_type": "code",
      "source": [
        "# remove()\n",
        "\n",
        "cards.remove(5) #특정 값 제거\n",
        "cards"
      ],
      "metadata": {
        "colab": {
          "base_uri": "https://localhost:8080/"
        },
        "id": "07u9fW54Irlw",
        "outputId": "64f07e47-952b-4b65-8f82-f74be1d05f35"
      },
      "execution_count": null,
      "outputs": [
        {
          "output_type": "execute_result",
          "data": {
            "text/plain": [
              "[3, 1, 2, 7]"
            ]
          },
          "metadata": {},
          "execution_count": 12
        }
      ]
    },
    {
      "cell_type": "code",
      "source": [
        "# pop()\n",
        "\n",
        "cards.pop() #제거되는 값을 출력후 값을 제거"
      ],
      "metadata": {
        "colab": {
          "base_uri": "https://localhost:8080/"
        },
        "id": "oYD0F93XIwRP",
        "outputId": "15a73e5b-0a31-4b80-86ff-a65cb84f1d2a"
      },
      "execution_count": null,
      "outputs": [
        {
          "output_type": "execute_result",
          "data": {
            "text/plain": [
              "7"
            ]
          },
          "metadata": {},
          "execution_count": 13
        }
      ]
    },
    {
      "cell_type": "code",
      "source": [
        "cards"
      ],
      "metadata": {
        "colab": {
          "base_uri": "https://localhost:8080/"
        },
        "id": "XX5sdODDJFKV",
        "outputId": "ec3fe0a8-ba27-45bf-c50b-96a56f5c2851"
      },
      "execution_count": null,
      "outputs": [
        {
          "output_type": "execute_result",
          "data": {
            "text/plain": [
              "[3, 1, 2]"
            ]
          },
          "metadata": {},
          "execution_count": 14
        }
      ]
    },
    {
      "cell_type": "code",
      "source": [
        "# del()\n",
        "\n",
        "del(cards[0]) #0번 인덱스의 값을 제거\n",
        "cards"
      ],
      "metadata": {
        "colab": {
          "base_uri": "https://localhost:8080/"
        },
        "id": "fNsWZ8e6JMd-",
        "outputId": "464abe2f-d02a-4a90-db63-bf8ffbbf7859"
      },
      "execution_count": null,
      "outputs": [
        {
          "output_type": "execute_result",
          "data": {
            "text/plain": [
              "[1, 2]"
            ]
          },
          "metadata": {},
          "execution_count": 15
        }
      ]
    },
    {
      "cell_type": "markdown",
      "source": [
        "리스트 항목 삽입하기 : insert() 함수"
      ],
      "metadata": {
        "id": "tOSX6VZvJao5"
      }
    },
    {
      "cell_type": "code",
      "source": [
        "cards = [3, 8, 2, 7]"
      ],
      "metadata": {
        "id": "amxlrLT3JeTI"
      },
      "execution_count": null,
      "outputs": []
    },
    {
      "cell_type": "code",
      "source": [
        "cards.insert(0, 9) #0번 위치에 9값 삽입"
      ],
      "metadata": {
        "id": "jTdgZfrDJh0M"
      },
      "execution_count": null,
      "outputs": []
    },
    {
      "cell_type": "code",
      "source": [
        "cards"
      ],
      "metadata": {
        "colab": {
          "base_uri": "https://localhost:8080/"
        },
        "id": "kMqkYoGYJlj5",
        "outputId": "e9025ddf-27f8-4e29-8132-e8b65bfe9974"
      },
      "execution_count": null,
      "outputs": [
        {
          "output_type": "execute_result",
          "data": {
            "text/plain": [
              "[9, 3, 8, 2, 7]"
            ]
          },
          "metadata": {},
          "execution_count": 18
        }
      ]
    },
    {
      "cell_type": "markdown",
      "source": [
        "리스트 탐색 : index()"
      ],
      "metadata": {
        "id": "ZajGncXjJrX5"
      }
    },
    {
      "cell_type": "code",
      "source": [
        "bts = ['V', 'Suga', 'Jungkook']\n",
        "bts.index('Suga') # 'suga'라는 값이 리스트에 어떤 인덱스에 있는지 알 수 있음"
      ],
      "metadata": {
        "colab": {
          "base_uri": "https://localhost:8080/"
        },
        "id": "vreuyyt8Jt3h",
        "outputId": "83fdda00-e7f1-46a2-e067-787637676c98"
      },
      "execution_count": null,
      "outputs": [
        {
          "output_type": "execute_result",
          "data": {
            "text/plain": [
              "1"
            ]
          },
          "metadata": {},
          "execution_count": 19
        }
      ]
    },
    {
      "cell_type": "markdown",
      "source": [
        "리스트를 for문의 반복 객체로 사용"
      ],
      "metadata": {
        "id": "tSn4uKx7Kjq-"
      }
    },
    {
      "cell_type": "code",
      "source": [
        "a = [1,3,5,7,9]\n",
        "\n",
        "for i in a:\n",
        "    print(i)"
      ],
      "metadata": {
        "colab": {
          "base_uri": "https://localhost:8080/"
        },
        "id": "pHMicKTqKlzE",
        "outputId": "d9bd690e-ecfe-44d5-d109-276501fbc8b8"
      },
      "execution_count": null,
      "outputs": [
        {
          "output_type": "stream",
          "name": "stdout",
          "text": [
            "1\n",
            "3\n",
            "5\n",
            "7\n",
            "9\n"
          ]
        }
      ]
    },
    {
      "cell_type": "code",
      "source": [
        "a1 = ['a', 'b', 'c', 'd']\n",
        "\n",
        "for i in a1:\n",
        "    print(i)"
      ],
      "metadata": {
        "colab": {
          "base_uri": "https://localhost:8080/"
        },
        "id": "54X7bsaGKrxl",
        "outputId": "af48fc41-ec75-4fbb-c517-de35fdf3fdf5"
      },
      "execution_count": null,
      "outputs": [
        {
          "output_type": "stream",
          "name": "stdout",
          "text": [
            "a\n",
            "b\n",
            "c\n",
            "d\n"
          ]
        }
      ]
    },
    {
      "cell_type": "markdown",
      "source": [
        "실습 II"
      ],
      "metadata": {
        "id": "PI35gGg9KTFy"
      }
    },
    {
      "cell_type": "code",
      "source": [
        "list1 = [3,5,7]\n",
        "list2 = [2,3,4,5,6]\n",
        "\n",
        "for i in list1:\n",
        "    for j in list2:\n",
        "        print(f'{i} * {j} = {i * j}')"
      ],
      "metadata": {
        "colab": {
          "base_uri": "https://localhost:8080/"
        },
        "id": "Sy7xVJScKDhc",
        "outputId": "2266afb2-cc58-495b-b786-1a36a6324ba7"
      },
      "execution_count": null,
      "outputs": [
        {
          "output_type": "stream",
          "name": "stdout",
          "text": [
            "3 * 2 = 6\n",
            "3 * 3 = 9\n",
            "3 * 4 = 12\n",
            "3 * 5 = 15\n",
            "3 * 6 = 18\n",
            "5 * 2 = 10\n",
            "5 * 3 = 15\n",
            "5 * 4 = 20\n",
            "5 * 5 = 25\n",
            "5 * 6 = 30\n",
            "7 * 2 = 14\n",
            "7 * 3 = 21\n",
            "7 * 4 = 28\n",
            "7 * 5 = 35\n",
            "7 * 6 = 42\n"
          ]
        }
      ]
    },
    {
      "cell_type": "markdown",
      "source": [
        "리스트 자르기(슬라이싱)\n",
        "* list[시작값:끝값:증가값]"
      ],
      "metadata": {
        "id": "Ev-HYVBRLIJc"
      }
    },
    {
      "cell_type": "code",
      "source": [
        "cards"
      ],
      "metadata": {
        "colab": {
          "base_uri": "https://localhost:8080/"
        },
        "id": "VnirMdAKLtEV",
        "outputId": "cd3c775c-4521-482f-9ca7-2ff2d445e7cb"
      },
      "execution_count": null,
      "outputs": [
        {
          "output_type": "execute_result",
          "data": {
            "text/plain": [
              "[9, 3, 8, 2, 7]"
            ]
          },
          "metadata": {},
          "execution_count": 24
        }
      ]
    },
    {
      "cell_type": "code",
      "source": [
        "cards[1:] # 1번 인덱스부터 끝까지 슬라이싱"
      ],
      "metadata": {
        "colab": {
          "base_uri": "https://localhost:8080/"
        },
        "id": "q3-NUOhqLt2V",
        "outputId": "ecc012f3-278a-4b3e-df4f-9df72cb25df0"
      },
      "execution_count": null,
      "outputs": [
        {
          "output_type": "execute_result",
          "data": {
            "text/plain": [
              "[3, 8, 2, 7]"
            ]
          },
          "metadata": {},
          "execution_count": 25
        }
      ]
    },
    {
      "cell_type": "code",
      "source": [
        "cards[:3] # 0번 인덱스부터 2번 인덱스까지 슬라이싱(끝값은 포함 안함)"
      ],
      "metadata": {
        "colab": {
          "base_uri": "https://localhost:8080/"
        },
        "id": "8uKuZh6FMHv8",
        "outputId": "d0b12ff6-4165-4739-d427-4b02051fd367"
      },
      "execution_count": null,
      "outputs": [
        {
          "output_type": "execute_result",
          "data": {
            "text/plain": [
              "[9, 3, 8]"
            ]
          },
          "metadata": {},
          "execution_count": 26
        }
      ]
    },
    {
      "cell_type": "code",
      "source": [
        "cards[1:3] # 1번 인덱스부터 2번인덱스까지 슬라이싱(끝값은 포함안함)"
      ],
      "metadata": {
        "colab": {
          "base_uri": "https://localhost:8080/"
        },
        "id": "q3h8toYXLy9A",
        "outputId": "2678fedb-dc48-4942-b3c1-cf851edc9d48"
      },
      "execution_count": null,
      "outputs": [
        {
          "output_type": "execute_result",
          "data": {
            "text/plain": [
              "[3, 8]"
            ]
          },
          "metadata": {},
          "execution_count": 27
        }
      ]
    },
    {
      "cell_type": "code",
      "source": [
        "cards[0:4:2] #0번 인덱스부터 4번 인덱스까지 2씩증가하며 슬라이싱 (0,2)"
      ],
      "metadata": {
        "colab": {
          "base_uri": "https://localhost:8080/"
        },
        "id": "KpuN88i1L8HG",
        "outputId": "9a0a3133-1de9-422a-af50-4c0e4716a61d"
      },
      "execution_count": null,
      "outputs": [
        {
          "output_type": "execute_result",
          "data": {
            "text/plain": [
              "[9, 8]"
            ]
          },
          "metadata": {},
          "execution_count": 28
        }
      ]
    },
    {
      "cell_type": "code",
      "source": [
        "# 슬라이싱을 이용해 리스트 삭제\n",
        "\n",
        "a = list(range(5))\n",
        "print(a)\n",
        "\n",
        "del(a[1:3])\n",
        "print(a)"
      ],
      "metadata": {
        "colab": {
          "base_uri": "https://localhost:8080/"
        },
        "id": "bAlRHADMNieV",
        "outputId": "35ca9b48-98b0-41d2-8e83-163a582899b7"
      },
      "execution_count": null,
      "outputs": [
        {
          "output_type": "stream",
          "name": "stdout",
          "text": [
            "[0, 1, 2, 3, 4]\n",
            "[0, 3, 4]\n"
          ]
        }
      ]
    },
    {
      "cell_type": "code",
      "source": [
        "# 슬라이싱을 이용한 리스트 값 변경\n",
        "\n",
        "a = list(range(10))\n",
        "a[0:3] = [5,5,5]\n",
        "print(a)"
      ],
      "metadata": {
        "colab": {
          "base_uri": "https://localhost:8080/"
        },
        "id": "XSJ8jPVnPiFw",
        "outputId": "4efc3378-8938-4061-a3ac-47e0df57484f"
      },
      "execution_count": null,
      "outputs": [
        {
          "output_type": "stream",
          "name": "stdout",
          "text": [
            "[5, 5, 5, 3, 4, 5, 6, 7, 8, 9]\n"
          ]
        }
      ]
    },
    {
      "cell_type": "code",
      "source": [
        "a[1] = [1,2] #리스트안에 리스트를 추가 할 수 있음\n",
        "print(a)"
      ],
      "metadata": {
        "colab": {
          "base_uri": "https://localhost:8080/"
        },
        "id": "KCOpbRruPuEl",
        "outputId": "aef11034-958e-4ba7-b9f4-e200fbbc334f"
      },
      "execution_count": null,
      "outputs": [
        {
          "output_type": "stream",
          "name": "stdout",
          "text": [
            "[5, [1, 2], 5, 3, 4, 5, 6, 7, 8, 9]\n"
          ]
        }
      ]
    },
    {
      "cell_type": "code",
      "source": [
        "a[0:3] = 3 # 바꾸려는 개수와 바꿔주는 개수가 맞지 않기때문에 오류 발생\n",
        "print(a)"
      ],
      "metadata": {
        "colab": {
          "base_uri": "https://localhost:8080/",
          "height": 188
        },
        "id": "QhrN9oAcP4ZI",
        "outputId": "f9f2b63a-b169-484e-80e4-88a79261ecf5"
      },
      "execution_count": null,
      "outputs": [
        {
          "output_type": "error",
          "ename": "TypeError",
          "evalue": "ignored",
          "traceback": [
            "\u001b[0;31m---------------------------------------------------------------------------\u001b[0m",
            "\u001b[0;31mTypeError\u001b[0m                                 Traceback (most recent call last)",
            "\u001b[0;32m<ipython-input-46-49065c6803da>\u001b[0m in \u001b[0;36m<cell line: 1>\u001b[0;34m()\u001b[0m\n\u001b[0;32m----> 1\u001b[0;31m \u001b[0ma\u001b[0m\u001b[0;34m[\u001b[0m\u001b[0;36m0\u001b[0m\u001b[0;34m:\u001b[0m\u001b[0;36m3\u001b[0m\u001b[0;34m]\u001b[0m \u001b[0;34m=\u001b[0m \u001b[0;36m3\u001b[0m\u001b[0;34m\u001b[0m\u001b[0;34m\u001b[0m\u001b[0m\n\u001b[0m\u001b[1;32m      2\u001b[0m \u001b[0mprint\u001b[0m\u001b[0;34m(\u001b[0m\u001b[0ma\u001b[0m\u001b[0;34m)\u001b[0m\u001b[0;34m\u001b[0m\u001b[0;34m\u001b[0m\u001b[0m\n",
            "\u001b[0;31mTypeError\u001b[0m: can only assign an iterable"
          ]
        }
      ]
    },
    {
      "cell_type": "markdown",
      "source": [
        "리스트 합치기 : extend()"
      ],
      "metadata": {
        "id": "saSKi8AcMylB"
      }
    },
    {
      "cell_type": "code",
      "source": [
        "#산술 연산자로 리스트 합치기\n",
        "\n",
        "print([1,2] + [3,4])\n",
        "print([1,2] * 3)"
      ],
      "metadata": {
        "colab": {
          "base_uri": "https://localhost:8080/"
        },
        "id": "BzrrUHfFMtRu",
        "outputId": "422abff2-4cdb-46fc-9342-c67bcc3fe9b4"
      },
      "execution_count": null,
      "outputs": [
        {
          "output_type": "stream",
          "name": "stdout",
          "text": [
            "[1, 2, 3, 4]\n",
            "[1, 2, 1, 2, 1, 2]\n"
          ]
        }
      ]
    },
    {
      "cell_type": "code",
      "source": [
        "a = [1, 2]; b = [3,4]\n",
        "a.extend(b) #a리스트에 b리스트를 연결\n",
        "a"
      ],
      "metadata": {
        "colab": {
          "base_uri": "https://localhost:8080/"
        },
        "id": "TW3wTxnwNGYM",
        "outputId": "6f6f3814-2c7f-4d6f-c539-c5e07412335b"
      },
      "execution_count": null,
      "outputs": [
        {
          "output_type": "execute_result",
          "data": {
            "text/plain": [
              "[1, 2, 3, 4]"
            ]
          },
          "metadata": {},
          "execution_count": 33
        }
      ]
    },
    {
      "cell_type": "markdown",
      "source": [
        "리스트 정렬하기 sort()"
      ],
      "metadata": {
        "id": "YXVJnv3RNxv8"
      }
    },
    {
      "cell_type": "code",
      "source": [
        "num = [1,2,9,5,6,8,7,3,4]\n",
        "num.sort()\n",
        "print(num)"
      ],
      "metadata": {
        "colab": {
          "base_uri": "https://localhost:8080/"
        },
        "id": "ipKI002PNzeI",
        "outputId": "5e6a2dcf-145c-4507-e9ea-402d36064f54"
      },
      "execution_count": null,
      "outputs": [
        {
          "output_type": "stream",
          "name": "stdout",
          "text": [
            "[1, 2, 3, 4, 5, 6, 7, 8, 9]\n"
          ]
        }
      ]
    },
    {
      "cell_type": "code",
      "source": [
        "num.sort(reverse = True) #내림 차순 정렬\n",
        "print(num)"
      ],
      "metadata": {
        "colab": {
          "base_uri": "https://localhost:8080/"
        },
        "id": "n0PXuZG2N5uf",
        "outputId": "1fd3d76e-4b1e-4d2a-e064-a19cf349524d"
      },
      "execution_count": null,
      "outputs": [
        {
          "output_type": "stream",
          "name": "stdout",
          "text": [
            "[9, 8, 7, 6, 5, 4, 3, 2, 1]\n"
          ]
        }
      ]
    },
    {
      "cell_type": "code",
      "source": [
        "bts = ['v', 'suga', 'jungkook', 'j-hope']\n",
        "bts.sort()\n",
        "print(bts) #리스트 안의 항목들이 문자열일 경우 사전 순서대로 정렬"
      ],
      "metadata": {
        "colab": {
          "base_uri": "https://localhost:8080/"
        },
        "id": "_gawTcusOBRQ",
        "outputId": "e1dfc1c0-8817-4bbe-cc15-3ff62ab2771f"
      },
      "execution_count": null,
      "outputs": [
        {
          "output_type": "execute_result",
          "data": {
            "text/plain": [
              "['V', 'Suga', 'Jungkook']"
            ]
          },
          "metadata": {},
          "execution_count": 39
        }
      ]
    },
    {
      "cell_type": "code",
      "source": [
        "a = [1,2,'a',3] #문자열과 혼용되 있을경우 정렬 불가\n",
        "a.sort()\n",
        "print(a)"
      ],
      "metadata": {
        "colab": {
          "base_uri": "https://localhost:8080/",
          "height": 205
        },
        "id": "yAIfHPEXONA0",
        "outputId": "46335b73-baf7-427f-c3bc-0cfe4e03fd6d"
      },
      "execution_count": null,
      "outputs": [
        {
          "output_type": "error",
          "ename": "TypeError",
          "evalue": "ignored",
          "traceback": [
            "\u001b[0;31m---------------------------------------------------------------------------\u001b[0m",
            "\u001b[0;31mTypeError\u001b[0m                                 Traceback (most recent call last)",
            "\u001b[0;32m<ipython-input-40-21ac7c959bc8>\u001b[0m in \u001b[0;36m<cell line: 2>\u001b[0;34m()\u001b[0m\n\u001b[1;32m      1\u001b[0m \u001b[0ma\u001b[0m \u001b[0;34m=\u001b[0m \u001b[0;34m[\u001b[0m\u001b[0;36m1\u001b[0m\u001b[0;34m,\u001b[0m\u001b[0;36m2\u001b[0m\u001b[0;34m,\u001b[0m\u001b[0;34m'a'\u001b[0m\u001b[0;34m,\u001b[0m\u001b[0;36m3\u001b[0m\u001b[0;34m]\u001b[0m\u001b[0;34m\u001b[0m\u001b[0;34m\u001b[0m\u001b[0m\n\u001b[0;32m----> 2\u001b[0;31m \u001b[0ma\u001b[0m\u001b[0;34m.\u001b[0m\u001b[0msort\u001b[0m\u001b[0;34m(\u001b[0m\u001b[0;34m)\u001b[0m\u001b[0;34m\u001b[0m\u001b[0;34m\u001b[0m\u001b[0m\n\u001b[0m\u001b[1;32m      3\u001b[0m \u001b[0mprint\u001b[0m\u001b[0;34m(\u001b[0m\u001b[0ma\u001b[0m\u001b[0;34m)\u001b[0m\u001b[0;34m\u001b[0m\u001b[0;34m\u001b[0m\u001b[0m\n",
            "\u001b[0;31mTypeError\u001b[0m: '<' not supported between instances of 'str' and 'int'"
          ]
        }
      ]
    },
    {
      "cell_type": "code",
      "source": [
        "num = [1,2,9,5,6,8,7,3,4]\n",
        "sorted(num)"
      ],
      "metadata": {
        "colab": {
          "base_uri": "https://localhost:8080/"
        },
        "id": "EK2PTlN6OY0J",
        "outputId": "8e8f7f3e-e2c8-4e68-8b33-20d22a5a7a68"
      },
      "execution_count": null,
      "outputs": [
        {
          "output_type": "execute_result",
          "data": {
            "text/plain": [
              "[1, 2, 3, 4, 5, 6, 7, 8, 9]"
            ]
          },
          "metadata": {},
          "execution_count": 41
        }
      ]
    },
    {
      "cell_type": "code",
      "source": [
        "num #sorted를 사용하면 리스트 자체의 정렬이 바뀌지 않는다."
      ],
      "metadata": {
        "colab": {
          "base_uri": "https://localhost:8080/"
        },
        "id": "_LQ2wSswOd1S",
        "outputId": "516b6995-6d22-432c-b04c-19612ad0a900"
      },
      "execution_count": null,
      "outputs": [
        {
          "output_type": "execute_result",
          "data": {
            "text/plain": [
              "[1, 2, 9, 5, 6, 8, 7, 3, 4]"
            ]
          },
          "metadata": {},
          "execution_count": 42
        }
      ]
    },
    {
      "cell_type": "code",
      "source": [
        "num1 = sorted(num)\n",
        "num1"
      ],
      "metadata": {
        "colab": {
          "base_uri": "https://localhost:8080/"
        },
        "id": "YEWyj7FhOnZz",
        "outputId": "7127a3ac-ed54-4b71-e764-0991783508b5"
      },
      "execution_count": null,
      "outputs": [
        {
          "output_type": "execute_result",
          "data": {
            "text/plain": [
              "[1, 2, 3, 4, 5, 6, 7, 8, 9]"
            ]
          },
          "metadata": {},
          "execution_count": 43
        }
      ]
    },
    {
      "cell_type": "code",
      "source": [
        "list1 = ['I like', 'I love']\n",
        "list2 = ['pancakes', 'kiwi juice', 'espresso']\n",
        "\n",
        "for i in list1:\n",
        "  for j in list2:\n",
        "    print(i + ' ' + j)"
      ],
      "metadata": {
        "colab": {
          "base_uri": "https://localhost:8080/"
        },
        "id": "vEAoSYN9lObh",
        "outputId": "20f77f2f-efc1-4d65-d793-48d0d8400fa2"
      },
      "execution_count": null,
      "outputs": [
        {
          "output_type": "stream",
          "name": "stdout",
          "text": [
            "I like pancakes\n",
            "I like kiwi juice\n",
            "I like espresso\n",
            "I love pancakes\n",
            "I love kiwi juice\n",
            "I love espresso\n"
          ]
        }
      ]
    },
    {
      "cell_type": "code",
      "source": [
        "numbers = [4,5,6,7,8,9]\n",
        "\n",
        "#1\n",
        "for i in numbers:\n",
        "  if i == 6:\n",
        "    print(i)\n",
        "\n",
        "\n",
        "#2\n",
        "numbers[1:3]\n",
        "\n",
        "#3\n",
        "numbers[:3]\n",
        "\n",
        "#4\n",
        "numbers[1::2]"
      ],
      "metadata": {
        "colab": {
          "base_uri": "https://localhost:8080/"
        },
        "id": "NW5HqfTwnyRZ",
        "outputId": "d71b932b-80b6-4073-9f14-b06826d2a0ce"
      },
      "execution_count": null,
      "outputs": [
        {
          "output_type": "stream",
          "name": "stdout",
          "text": [
            "6\n"
          ]
        },
        {
          "output_type": "execute_result",
          "data": {
            "text/plain": [
              "[5, 7, 9]"
            ]
          },
          "metadata": {},
          "execution_count": 13
        }
      ]
    },
    {
      "cell_type": "code",
      "source": [
        "s = 'python is strong'\n",
        "\n",
        "#1\n",
        "s[0]\n",
        "\n",
        "#2\n",
        "s[10:16]\n",
        "\n",
        "#3\n",
        "s[:6]\n",
        "\n",
        "#4\n",
        "s[7:9]"
      ],
      "metadata": {
        "colab": {
          "base_uri": "https://localhost:8080/",
          "height": 36
        },
        "id": "JjRdYuRFoVTm",
        "outputId": "37d3769c-1219-4b93-e02a-f9fcfc4e6ec0"
      },
      "execution_count": null,
      "outputs": [
        {
          "output_type": "execute_result",
          "data": {
            "text/plain": [
              "'is'"
            ],
            "application/vnd.google.colaboratory.intrinsic+json": {
              "type": "string"
            }
          },
          "metadata": {},
          "execution_count": 22
        }
      ]
    },
    {
      "cell_type": "code",
      "source": [
        "population = ['seoul', 9765, 'Busan', 3441, 'Incheon', 2954]\n",
        "\n",
        "#1\n",
        "population[1]\n",
        "\n",
        "#2\n",
        "population[-1]\n",
        "\n",
        "#3\n",
        "population[0::2]\n",
        "\n",
        "#4\n",
        "sum(population[1::2])"
      ],
      "metadata": {
        "colab": {
          "base_uri": "https://localhost:8080/"
        },
        "id": "-mWcHrIsqyxP",
        "outputId": "d1f51f33-fd2d-4299-c5b3-19c228f5c46f"
      },
      "execution_count": null,
      "outputs": [
        {
          "output_type": "execute_result",
          "data": {
            "text/plain": [
              "16160"
            ]
          },
          "metadata": {},
          "execution_count": 29
        }
      ]
    },
    {
      "cell_type": "code",
      "source": [
        "f_list = ['banana', 'orange', 'kiwi', 'apple', 'melon']\n",
        "\n",
        "for i in f_list:\n",
        "  print(i, ': 문자열의 길이', len(i))"
      ],
      "metadata": {
        "colab": {
          "base_uri": "https://localhost:8080/"
        },
        "id": "0r1PvarBuGvz",
        "outputId": "bfdc72fd-a29b-4a7e-d74f-94cfd4f4e0ba"
      },
      "execution_count": null,
      "outputs": [
        {
          "output_type": "stream",
          "name": "stdout",
          "text": [
            "banana : 문자열의 길이 6\n",
            "orange : 문자열의 길이 6\n",
            "kiwi : 문자열의 길이 4\n",
            "apple : 문자열의 길이 5\n",
            "melon : 문자열의 길이 5\n"
          ]
        }
      ]
    },
    {
      "cell_type": "code",
      "source": [
        "student = ['a','b','c']\n",
        "\n",
        "#1\n",
        "student.append('d')\n",
        "print(student)\n",
        "\n",
        "#2\n",
        "student.append('d')\n",
        "print(student)\n",
        "\n",
        "#3\n",
        "c=0\n",
        "for i in student:\n",
        "  if i == 'd':\n",
        "    c = c + 1\n",
        "print(c)\n",
        "\n",
        "#4\n",
        "\n"
      ],
      "metadata": {
        "colab": {
          "base_uri": "https://localhost:8080/"
        },
        "id": "AaX-1JppubOg",
        "outputId": "ef70516c-5c25-4e45-b93c-f901f545bfde"
      },
      "execution_count": null,
      "outputs": [
        {
          "output_type": "stream",
          "name": "stdout",
          "text": [
            "['a', 'b', 'c', 'd']\n",
            "['a', 'b', 'c', 'd', 'd']\n",
            "2\n"
          ]
        }
      ]
    },
    {
      "cell_type": "code",
      "source": [
        "student = ['이황', '이이', '원효']\n",
        "student.sort()\n",
        "#1\n",
        "print('현재학승은', student)\n",
        "\n",
        "#2\n",
        "ps = input('전학온 학생은 누구입니까? ')\n",
        "\n",
        "#3\n",
        "student.append(ps)\n",
        "print(student)\n",
        "\n",
        "#4\n",
        "print('번호 재정렬...')\n",
        "student.sort()\n",
        "print(student)\n",
        "\n",
        "#5\n",
        "for i in range(len(student)):\n",
        "  print(i+1, student[i])"
      ],
      "metadata": {
        "colab": {
          "base_uri": "https://localhost:8080/"
        },
        "id": "x8RPL0mDyPBI",
        "outputId": "34694722-7201-400e-8482-2b183dc823c1"
      },
      "execution_count": null,
      "outputs": [
        {
          "output_type": "stream",
          "name": "stdout",
          "text": [
            "현재학승은 ['원효', '이이', '이황']\n",
            "전학온 학생은 누구입니까? 의상\n",
            "['원효', '이이', '이황', '의상']\n",
            "번호 재정렬...\n",
            "['원효', '의상', '이이', '이황']\n",
            "1 원효\n",
            "2 의상\n",
            "3 이이\n",
            "4 이황\n"
          ]
        }
      ]
    },
    {
      "cell_type": "code",
      "source": [
        "partyA = set(['park', 'kim', 'lee'])\n",
        "partyB = set(['park', 'choi'])\n",
        "\n",
        "#1\n",
        "print(set.union(partyA, partyB))\n",
        "\n",
        "#2\n",
        "print('파티 A 혹은 파티 B에 참석한 사람: ',set.symmetric_difference(partyA, partyB))\n",
        "\n",
        "#3\n",
        "print('파티 A에만 참석한사람: ',set.difference(partyA, partyB))"
      ],
      "metadata": {
        "colab": {
          "base_uri": "https://localhost:8080/"
        },
        "id": "-Kq2eE4-Cx9u",
        "outputId": "0d215c2c-56ab-4611-bee1-0a85ed9d7095"
      },
      "execution_count": null,
      "outputs": [
        {
          "output_type": "stream",
          "name": "stdout",
          "text": [
            "{'choi', 'park', 'lee', 'kim'}\n",
            "{'lee', 'choi', 'kim'}\n"
          ]
        },
        {
          "output_type": "execute_result",
          "data": {
            "text/plain": [
              "{'kim', 'lee'}"
            ]
          },
          "metadata": {},
          "execution_count": 64
        }
      ]
    },
    {
      "cell_type": "markdown",
      "source": [
        "과제 3"
      ],
      "metadata": {
        "id": "zEyy-ygxcckT"
      }
    },
    {
      "cell_type": "code",
      "source": [
        "Seoul = 9765\n",
        "Busan = 3441\n",
        "Incheon = 2954\n",
        "\n",
        "city_pop = [Seoul, Busan, Incheon]\n",
        "\n",
        "print(city_pop)\n",
        "Daejon = 1531\n",
        "\n",
        "city_pop.insert(3, Daejon)\n",
        "\n",
        "for i, city in enumerate(city_pop):\n",
        "  max = city_pop[0]\n",
        "  if max <= city:\n",
        "    max = city\n",
        "  else: continue\n",
        "\n",
        "for i in city_pop:\n",
        "  min = city_pop[0]\n",
        "  if min >= i:\n",
        "    min = i\n",
        "  else: continue\n",
        "\n",
        "print('최대인구: %d' %max)\n",
        "print('최소인구: %d' %min)\n",
        "print('평균인구: %.2f' %(sum(city_pop)/len(city_pop)))"
      ],
      "metadata": {
        "colab": {
          "base_uri": "https://localhost:8080/"
        },
        "id": "nXrc8cUOc1q8",
        "outputId": "1ba4f6f0-dd96-4d49-c9cc-ae532ce0452a"
      },
      "execution_count": null,
      "outputs": [
        {
          "output_type": "stream",
          "name": "stdout",
          "text": [
            "[9765, 3441, 2954]\n",
            "최대인구: 9765\n",
            "최소인구: 1531\n",
            "평균인구: 4422.75\n"
          ]
        }
      ]
    },
    {
      "cell_type": "markdown",
      "source": [
        "# 튜플, 세트, 딕셔너리\n"
      ],
      "metadata": {
        "id": "w3yNpA6xr8YG"
      }
    },
    {
      "cell_type": "markdown",
      "source": [
        "## 튜플\n"
      ],
      "metadata": {
        "id": "V76xLuAo1aTb"
      }
    },
    {
      "cell_type": "markdown",
      "source": [
        "개념\n",
        "* 튜플 타입은 변경할 수 없는 열거 데이터 집합  \n",
        "* 한 번 값이 정해지면 항목값을 변경 불가"
      ],
      "metadata": {
        "id": "ybery16y1c7l"
      }
    },
    {
      "cell_type": "markdown",
      "source": [
        "튜플의 생성"
      ],
      "metadata": {
        "id": "RY2G0bsLVB7S"
      }
    },
    {
      "cell_type": "code",
      "source": [
        "t1 = ()\n",
        "type(t1)"
      ],
      "metadata": {
        "colab": {
          "base_uri": "https://localhost:8080/"
        },
        "id": "Tvnl4932U9cf",
        "outputId": "128c9984-559a-44bf-d7be-3529d266f5bd"
      },
      "execution_count": null,
      "outputs": [
        {
          "output_type": "execute_result",
          "data": {
            "text/plain": [
              "tuple"
            ]
          },
          "metadata": {},
          "execution_count": 68
        }
      ]
    },
    {
      "cell_type": "code",
      "source": [
        "t2 = tuple()\n",
        "type(t2)"
      ],
      "metadata": {
        "colab": {
          "base_uri": "https://localhost:8080/"
        },
        "id": "uhOz2kGkVGID",
        "outputId": "8c751b8d-905d-46d2-c8ab-4a5fd7b5242e"
      },
      "execution_count": null,
      "outputs": [
        {
          "output_type": "execute_result",
          "data": {
            "text/plain": [
              "tuple"
            ]
          },
          "metadata": {},
          "execution_count": 69
        }
      ]
    },
    {
      "cell_type": "code",
      "source": [
        "# 색상을 저장하는 튜플\n",
        "\n",
        "colors = ('red', 'green', 'blue')\n",
        "colors"
      ],
      "metadata": {
        "colab": {
          "base_uri": "https://localhost:8080/"
        },
        "id": "J9HwLV-N1bUv",
        "outputId": "da974ba8-c082-4926-9da5-009f637e850a"
      },
      "execution_count": null,
      "outputs": [
        {
          "output_type": "execute_result",
          "data": {
            "text/plain": [
              "('red', 'green', 'blue')"
            ]
          },
          "metadata": {},
          "execution_count": 1
        }
      ]
    },
    {
      "cell_type": "code",
      "source": [
        "# 정수를 지정하는 튜플\n",
        "\n",
        "num = (1,2,3,4,5)\n",
        "num"
      ],
      "metadata": {
        "colab": {
          "base_uri": "https://localhost:8080/"
        },
        "id": "d0MsTUOHRFF5",
        "outputId": "921812cb-32c2-4996-81bc-1aad03e8bfad"
      },
      "execution_count": null,
      "outputs": [
        {
          "output_type": "execute_result",
          "data": {
            "text/plain": [
              "(1, 2, 3, 4, 5)"
            ]
          },
          "metadata": {},
          "execution_count": 47
        }
      ]
    },
    {
      "cell_type": "code",
      "source": [
        "# 생성\n",
        "\n",
        "text = '파이썬 문자열' #괄호로 감싸지 않으면 튜플 선언 가능\n",
        "print(text[0])\n",
        "print(text[-1])\n",
        "text[-1] = '다'"
      ],
      "metadata": {
        "colab": {
          "base_uri": "https://localhost:8080/",
          "height": 241
        },
        "id": "P4gpG6mD1xJA",
        "outputId": "b8978b0c-6d22-4c33-a4ce-28001b36700c"
      },
      "execution_count": null,
      "outputs": [
        {
          "output_type": "stream",
          "name": "stdout",
          "text": [
            "파\n",
            "열\n"
          ]
        },
        {
          "output_type": "error",
          "ename": "TypeError",
          "evalue": "ignored",
          "traceback": [
            "\u001b[0;31m---------------------------------------------------------------------------\u001b[0m",
            "\u001b[0;31mTypeError\u001b[0m                                 Traceback (most recent call last)",
            "\u001b[0;32m<ipython-input-2-64b800778974>\u001b[0m in \u001b[0;36m<module>\u001b[0;34m\u001b[0m\n\u001b[1;32m      4\u001b[0m \u001b[0mprint\u001b[0m\u001b[0;34m(\u001b[0m\u001b[0mtext\u001b[0m\u001b[0;34m[\u001b[0m\u001b[0;36m0\u001b[0m\u001b[0;34m]\u001b[0m\u001b[0;34m)\u001b[0m\u001b[0;34m\u001b[0m\u001b[0;34m\u001b[0m\u001b[0m\n\u001b[1;32m      5\u001b[0m \u001b[0mprint\u001b[0m\u001b[0;34m(\u001b[0m\u001b[0mtext\u001b[0m\u001b[0;34m[\u001b[0m\u001b[0;34m-\u001b[0m\u001b[0;36m1\u001b[0m\u001b[0;34m]\u001b[0m\u001b[0;34m)\u001b[0m\u001b[0;34m\u001b[0m\u001b[0;34m\u001b[0m\u001b[0m\n\u001b[0;32m----> 6\u001b[0;31m \u001b[0mtext\u001b[0m\u001b[0;34m[\u001b[0m\u001b[0;34m-\u001b[0m\u001b[0;36m1\u001b[0m\u001b[0;34m]\u001b[0m \u001b[0;34m=\u001b[0m \u001b[0;34m'다'\u001b[0m\u001b[0;34m\u001b[0m\u001b[0;34m\u001b[0m\u001b[0m\n\u001b[0m",
            "\u001b[0;31mTypeError\u001b[0m: 'str' object does not support item assignment"
          ]
        }
      ]
    },
    {
      "cell_type": "markdown",
      "source": [
        "튜플과 리스트 비교\n",
        "\n",
        "* 튜플 타입\n",
        "    * 소괄호를 사용해 생성하거나, 아예 감싸지 않는 방법으로 선언\n",
        "    * 프로그램 내에서 절대로 변경하면 안 되는 데이터에 사용\n",
        "\n",
        "* 리스트 타입\n",
        "    * 대괄호를 사용해 생성\n",
        "    * 리스트의 원소들은 자유롭게 추가, 삭제가 가능"
      ],
      "metadata": {
        "id": "X-xKlVl4RaQA"
      }
    },
    {
      "cell_type": "code",
      "source": [
        "# 소괄호를 사용하지 않고 튜플 생성\n",
        "\n",
        "card = 'red', 4, '다이아몬드', True\n",
        "print(card)\n",
        "print(type(card))"
      ],
      "metadata": {
        "colab": {
          "base_uri": "https://localhost:8080/"
        },
        "id": "RjoqqlKD16bX",
        "outputId": "73c96316-b771-438f-bad9-af3850131044"
      },
      "execution_count": null,
      "outputs": [
        {
          "output_type": "stream",
          "name": "stdout",
          "text": [
            "('red', 4, '다이아몬드', True)\n",
            "<class 'tuple'>\n"
          ]
        }
      ]
    },
    {
      "cell_type": "markdown",
      "source": [
        "튜플 인덱싱, 슬라이싱\n",
        "\n",
        "* 리스트와 동일한 방식으로 사용가능"
      ],
      "metadata": {
        "id": "ni9yhvIYSOWS"
      }
    },
    {
      "cell_type": "code",
      "source": [
        "print(card[2])\n",
        "print(card[:2])\n",
        "print(card[2:])\n",
        "print(card[:])"
      ],
      "metadata": {
        "colab": {
          "base_uri": "https://localhost:8080/"
        },
        "id": "Mn3s76P12WKH",
        "outputId": "5c94015b-befe-4700-f5a4-1b485118fa11"
      },
      "execution_count": null,
      "outputs": [
        {
          "output_type": "stream",
          "name": "stdout",
          "text": [
            "다이아몬드\n",
            "('red', 4)\n",
            "('다이아몬드', True)\n",
            "('red', 4, '다이아몬드', True)\n"
          ]
        }
      ]
    },
    {
      "cell_type": "markdown",
      "source": [
        "항목이 하나 있는 튜플"
      ],
      "metadata": {
        "id": "aIxgJMxZSvjD"
      }
    },
    {
      "cell_type": "code",
      "source": [
        "one = ('하나')\n",
        "print(type(one))\n",
        "print(one)\n",
        "\n",
        "one_item = ('하나',)\n",
        "print(type(one_item))\n",
        "print(one_item)"
      ],
      "metadata": {
        "colab": {
          "base_uri": "https://localhost:8080/"
        },
        "id": "GkhGBJyE2wfK",
        "outputId": "6677cb70-a9cd-4a08-d8a1-85eb32623021"
      },
      "execution_count": null,
      "outputs": [
        {
          "output_type": "stream",
          "name": "stdout",
          "text": [
            "<class 'str'>\n",
            "하나\n",
            "<class 'tuple'>\n",
            "('하나',)\n"
          ]
        }
      ]
    },
    {
      "cell_type": "code",
      "source": [
        "# 하나의 항목인 튜플은 뒤에 쉼표를 붙여준다\n",
        "\n",
        "print((10))\n",
        "print((10,))"
      ],
      "metadata": {
        "colab": {
          "base_uri": "https://localhost:8080/"
        },
        "id": "ci7yYH8J3883",
        "outputId": "789d380b-8326-4ffc-d2a4-b95c78b1c948"
      },
      "execution_count": null,
      "outputs": [
        {
          "output_type": "stream",
          "name": "stdout",
          "text": [
            "10\n",
            "(10,)\n"
          ]
        }
      ]
    },
    {
      "cell_type": "markdown",
      "source": [
        "튜플 패킹과 언패킹\n",
        "\n",
        "* 튜플 패깅 : 문자열, 숫자 논리타입으로 이루어진 여러개의 데이터가 하나의 튜플로 포장된 것  \n",
        "\n",
        "* 튜플 언패깅 : 튜플을 항목별로 각각 풀어서 변수에 저장하는것"
      ],
      "metadata": {
        "id": "ZdSZZGho3SUd"
      }
    },
    {
      "cell_type": "code",
      "source": [
        "#튜플 생성(패깅)\n",
        "\n",
        "card = 'red', 4, 'diamond', True"
      ],
      "metadata": {
        "id": "XYW-C73G3PGN"
      },
      "execution_count": null,
      "outputs": []
    },
    {
      "cell_type": "code",
      "source": [
        "#튜플 항목 개별 할당(언패킹)\n",
        "\n",
        "a,b,c,d = card\n",
        "print(a,b,c,d)"
      ],
      "metadata": {
        "colab": {
          "base_uri": "https://localhost:8080/"
        },
        "id": "9Noe761Z3hh-",
        "outputId": "b4c8125e-5d6b-4d50-8af6-6146b61c2ee9"
      },
      "execution_count": null,
      "outputs": [
        {
          "output_type": "stream",
          "name": "stdout",
          "text": [
            "red 4 다이아몬드 True\n"
          ]
        }
      ]
    },
    {
      "cell_type": "code",
      "source": [
        "#리스트에서도 가능....\n",
        "\n",
        "a = [1,2,3,4]\n",
        "d,f,g,h = a\n",
        "print(d,f,g,h)"
      ],
      "metadata": {
        "colab": {
          "base_uri": "https://localhost:8080/"
        },
        "id": "0hwwfnLATAwQ",
        "outputId": "efd2e215-ae6e-4342-e0c6-fa5b6bdbed25"
      },
      "execution_count": null,
      "outputs": [
        {
          "output_type": "stream",
          "name": "stdout",
          "text": [
            "1 2 3 4\n"
          ]
        }
      ]
    },
    {
      "cell_type": "markdown",
      "source": [
        "튜플과 리스트의 변환"
      ],
      "metadata": {
        "id": "9VBz_jrATUAG"
      }
    },
    {
      "cell_type": "code",
      "source": [
        "# tuple <-> list\n",
        "\n",
        "print(type(card))\n",
        "\n",
        "card_list = list(card)\n",
        "print(type(card_list))\n",
        "print(card_list)\n",
        "\n",
        "card_tuple = tuple(card_list)\n",
        "print(type(card_tuple))\n",
        "print(card_tuple)"
      ],
      "metadata": {
        "colab": {
          "base_uri": "https://localhost:8080/"
        },
        "id": "8nl4hZWN3pjt",
        "outputId": "611b558a-478a-41c8-84df-4013d41013a2"
      },
      "execution_count": null,
      "outputs": [
        {
          "output_type": "stream",
          "name": "stdout",
          "text": [
            "<class 'tuple'>\n",
            "<class 'list'>\n",
            "['red', 4, '다이아몬드', True]\n",
            "<class 'tuple'>\n",
            "('red', 4, '다이아몬드', True)\n"
          ]
        }
      ]
    },
    {
      "cell_type": "markdown",
      "source": [
        "튜플 삭제 : del()"
      ],
      "metadata": {
        "id": "WPrhXt7hULsw"
      }
    },
    {
      "cell_type": "code",
      "source": [
        "t1 = (10,)\n",
        "del(t1)\n",
        "t1"
      ],
      "metadata": {
        "id": "LQUgOIj94MqM",
        "colab": {
          "base_uri": "https://localhost:8080/",
          "height": 205
        },
        "outputId": "321f4628-0459-40d5-d74a-d8d392172891"
      },
      "execution_count": null,
      "outputs": [
        {
          "output_type": "error",
          "ename": "NameError",
          "evalue": "ignored",
          "traceback": [
            "\u001b[0;31m---------------------------------------------------------------------------\u001b[0m",
            "\u001b[0;31mNameError\u001b[0m                                 Traceback (most recent call last)",
            "\u001b[0;32m<ipython-input-65-d32f65ef0f03>\u001b[0m in \u001b[0;36m<cell line: 3>\u001b[0;34m()\u001b[0m\n\u001b[1;32m      1\u001b[0m \u001b[0mt1\u001b[0m \u001b[0;34m=\u001b[0m \u001b[0;34m(\u001b[0m\u001b[0;36m10\u001b[0m\u001b[0;34m,\u001b[0m\u001b[0;34m)\u001b[0m\u001b[0;34m\u001b[0m\u001b[0;34m\u001b[0m\u001b[0m\n\u001b[1;32m      2\u001b[0m \u001b[0;32mdel\u001b[0m\u001b[0;34m(\u001b[0m\u001b[0mt1\u001b[0m\u001b[0;34m)\u001b[0m\u001b[0;34m\u001b[0m\u001b[0;34m\u001b[0m\u001b[0m\n\u001b[0;32m----> 3\u001b[0;31m \u001b[0mt1\u001b[0m\u001b[0;34m\u001b[0m\u001b[0;34m\u001b[0m\u001b[0m\n\u001b[0m",
            "\u001b[0;31mNameError\u001b[0m: name 't1' is not defined"
          ]
        }
      ]
    },
    {
      "cell_type": "markdown",
      "source": [
        "산술 연산자를 이용한 튜플 연산"
      ],
      "metadata": {
        "id": "fzzZoIBHUXkg"
      }
    },
    {
      "cell_type": "code",
      "source": [
        "t1 = (10,20,30,40)\n",
        "t2 = ('a', 'b')\n",
        "print(t1 + t2)\n",
        "print(t2 * 3)"
      ],
      "metadata": {
        "colab": {
          "base_uri": "https://localhost:8080/"
        },
        "id": "8j6nWhQv4VeO",
        "outputId": "cd752a92-b3d0-4c32-9287-725c1b12335e"
      },
      "execution_count": null,
      "outputs": [
        {
          "output_type": "stream",
          "name": "stdout",
          "text": [
            "(10, 20, 30, 40, 'a', 'b')\n",
            "('a', 'b', 'a', 'b', 'a', 'b')\n"
          ]
        }
      ]
    },
    {
      "cell_type": "markdown",
      "source": [
        "튜플에 요소를 추가할 때 -> 리스트 변환후 추가"
      ],
      "metadata": {
        "id": "6b-RYaB7UjQR"
      }
    },
    {
      "cell_type": "code",
      "source": [
        "tt = (10,20,30)\n",
        "tt1 = list(tt)\n",
        "tt1.append(40)\n",
        "tt2 = tuple(tt1)\n",
        "print(tt2)"
      ],
      "metadata": {
        "colab": {
          "base_uri": "https://localhost:8080/"
        },
        "id": "bJtivcbA56_F",
        "outputId": "83e6aaf5-f8a0-4e99-b408-126ab63bdf6c"
      },
      "execution_count": null,
      "outputs": [
        {
          "output_type": "stream",
          "name": "stdout",
          "text": [
            "(10, 20, 30, 40)\n"
          ]
        }
      ]
    },
    {
      "cell_type": "markdown",
      "source": [
        "## 세트"
      ],
      "metadata": {
        "id": "dHd5V5Pu6lsY"
      }
    },
    {
      "cell_type": "markdown",
      "source": [
        "개념  \n",
        "* 수학 집합과 유사\n",
        "* 데이터의 중복을 허용하지 않고 순서가 없는 데이터 집합을 위한 데이터 타입"
      ],
      "metadata": {
        "id": "2E9E4VML6oE9"
      }
    },
    {
      "cell_type": "code",
      "source": [
        "saleslist = ['kimbab', 'kimch', 'apple', 'soda', 'coke', 'coke', 'kimch']\n",
        "set(saleslist)"
      ],
      "metadata": {
        "colab": {
          "base_uri": "https://localhost:8080/"
        },
        "id": "Dh2htwWN6j5O",
        "outputId": "92535688-2abd-4ca8-b9f7-3076e77f17e2"
      },
      "execution_count": null,
      "outputs": [
        {
          "output_type": "execute_result",
          "data": {
            "text/plain": [
              "{'apple', 'coke', 'kimbab', 'kimch', 'soda'}"
            ]
          },
          "metadata": {},
          "execution_count": 81
        }
      ]
    },
    {
      "cell_type": "code",
      "source": [
        "saleslist = {'kimbab', 'kimch', 'apple', 'soda', 'coke', 'coke', 'kimch'}\n",
        "saleslist"
      ],
      "metadata": {
        "colab": {
          "base_uri": "https://localhost:8080/"
        },
        "id": "K0I_8gKyW4or",
        "outputId": "1e4b4300-4e41-403a-ced7-d63d43bafb0c"
      },
      "execution_count": null,
      "outputs": [
        {
          "output_type": "execute_result",
          "data": {
            "text/plain": [
              "{'apple', 'coke', 'kimbab', 'kimch', 'soda'}"
            ]
          },
          "metadata": {},
          "execution_count": 83
        }
      ]
    },
    {
      "cell_type": "markdown",
      "source": [
        "세트 타입 생성\n",
        "* 리스트는 대괄호, 튜플은 소괄호로 빈 데이터를 생성할 수 있으나 세트는 중괄호 기호로 생성 할 수 없음."
      ],
      "metadata": {
        "id": "rbVr-_A0U4JS"
      }
    },
    {
      "cell_type": "code",
      "source": [
        "a = []\n",
        "b = ()\n",
        "c = {}\n",
        "\n",
        "print(type(a))\n",
        "print(type(b))\n",
        "print(type(c)) # set타입이 아니고 dictionary로 인식됨"
      ],
      "metadata": {
        "colab": {
          "base_uri": "https://localhost:8080/"
        },
        "id": "-vYlq9SvU5fp",
        "outputId": "0b9b1b8a-431a-448f-b415-897fb6b39c5d"
      },
      "execution_count": null,
      "outputs": [
        {
          "output_type": "stream",
          "name": "stdout",
          "text": [
            "<class 'list'>\n",
            "<class 'tuple'>\n",
            "<class 'dict'>\n"
          ]
        }
      ]
    },
    {
      "cell_type": "code",
      "source": [
        "c = set()\n",
        "print(type(c))"
      ],
      "metadata": {
        "colab": {
          "base_uri": "https://localhost:8080/"
        },
        "id": "oVAaX3R-WsYu",
        "outputId": "17f5c9e9-c957-4a68-a3ca-57f04544e8a5"
      },
      "execution_count": null,
      "outputs": [
        {
          "output_type": "stream",
          "name": "stdout",
          "text": [
            "<class 'set'>\n"
          ]
        }
      ]
    },
    {
      "cell_type": "markdown",
      "source": [
        "집합 안에 항목이 있는지 검사하기 위해 in 사용\n"
      ],
      "metadata": {
        "id": "ecjnY0LRXNZ3"
      }
    },
    {
      "cell_type": "code",
      "source": [
        "num = {1,2,3}\n",
        "1 in num"
      ],
      "metadata": {
        "colab": {
          "base_uri": "https://localhost:8080/"
        },
        "id": "MZxi8Ti_Wc_f",
        "outputId": "018ed8a7-12c7-4caa-de7a-b10981abb933"
      },
      "execution_count": null,
      "outputs": [
        {
          "output_type": "execute_result",
          "data": {
            "text/plain": [
              "True"
            ]
          },
          "metadata": {},
          "execution_count": 84
        }
      ]
    },
    {
      "cell_type": "markdown",
      "source": [
        "세트 타입의 항목은 순서가 없으므로 인덱스로 접근 불가  \n",
        "=> for 문을 사용해서 각 항목에 접근 가능"
      ],
      "metadata": {
        "id": "YLiNgUriX4Xm"
      }
    },
    {
      "cell_type": "code",
      "source": [
        "num = {1,2,3,4,5}\n",
        "num[0]"
      ],
      "metadata": {
        "colab": {
          "base_uri": "https://localhost:8080/",
          "height": 188
        },
        "id": "ZsZOKFcyX8Zc",
        "outputId": "55292ac5-4cba-4e7d-a8bb-49443284b111"
      },
      "execution_count": null,
      "outputs": [
        {
          "output_type": "error",
          "ename": "TypeError",
          "evalue": "ignored",
          "traceback": [
            "\u001b[0;31m---------------------------------------------------------------------------\u001b[0m",
            "\u001b[0;31mTypeError\u001b[0m                                 Traceback (most recent call last)",
            "\u001b[0;32m<ipython-input-86-87dab35494f5>\u001b[0m in \u001b[0;36m<cell line: 2>\u001b[0;34m()\u001b[0m\n\u001b[1;32m      1\u001b[0m \u001b[0mnum\u001b[0m \u001b[0;34m=\u001b[0m \u001b[0;34m{\u001b[0m\u001b[0;36m1\u001b[0m\u001b[0;34m,\u001b[0m\u001b[0;36m2\u001b[0m\u001b[0;34m,\u001b[0m\u001b[0;36m3\u001b[0m\u001b[0;34m,\u001b[0m\u001b[0;36m4\u001b[0m\u001b[0;34m,\u001b[0m\u001b[0;36m5\u001b[0m\u001b[0;34m}\u001b[0m\u001b[0;34m\u001b[0m\u001b[0;34m\u001b[0m\u001b[0m\n\u001b[0;32m----> 2\u001b[0;31m \u001b[0mnum\u001b[0m\u001b[0;34m[\u001b[0m\u001b[0;36m0\u001b[0m\u001b[0;34m]\u001b[0m\u001b[0;34m\u001b[0m\u001b[0;34m\u001b[0m\u001b[0m\n\u001b[0m",
            "\u001b[0;31mTypeError\u001b[0m: 'set' object is not subscriptable"
          ]
        }
      ]
    },
    {
      "cell_type": "code",
      "source": [
        "for x in num:\n",
        "    print(x)"
      ],
      "metadata": {
        "colab": {
          "base_uri": "https://localhost:8080/"
        },
        "id": "pmclTXuXX9nU",
        "outputId": "870e3e23-90c5-431b-ae6e-0e6e6ae6dc47"
      },
      "execution_count": null,
      "outputs": [
        {
          "output_type": "stream",
          "name": "stdout",
          "text": [
            "1\n",
            "2\n",
            "3\n",
            "4\n",
            "5\n"
          ]
        }
      ]
    },
    {
      "cell_type": "markdown",
      "source": [
        "세트 항목 정렬 : sorted() 함수 이용"
      ],
      "metadata": {
        "id": "0hWa2ktxYOgW"
      }
    },
    {
      "cell_type": "code",
      "source": [
        "num = {2,3,9,8,5,4}\n",
        "print(sorted(num)) # sorted함수를 사용하면 리스트로 타입이 변화함\n",
        "print(num)"
      ],
      "metadata": {
        "colab": {
          "base_uri": "https://localhost:8080/"
        },
        "id": "qfUQZM25YM70",
        "outputId": "112e7919-76a1-4e8c-a3e5-53ce7c888501"
      },
      "execution_count": null,
      "outputs": [
        {
          "output_type": "stream",
          "name": "stdout",
          "text": [
            "[2, 3, 4, 5, 8, 9]\n",
            "{2, 3, 4, 5, 8, 9}\n"
          ]
        }
      ]
    },
    {
      "cell_type": "code",
      "source": [
        "num = [1,3,5,2,4]\n",
        "sorted(num)\n",
        "print(num)"
      ],
      "metadata": {
        "colab": {
          "base_uri": "https://localhost:8080/"
        },
        "id": "KSDxj4kmYhko",
        "outputId": "9f86ab03-b9a8-4eef-9593-4e2dae329c62"
      },
      "execution_count": null,
      "outputs": [
        {
          "output_type": "stream",
          "name": "stdout",
          "text": [
            "[1, 3, 5, 2, 4]\n"
          ]
        }
      ]
    },
    {
      "cell_type": "markdown",
      "source": [
        "집합 연산자\n",
        "* 합집합 : |, union()\n",
        "* 교집합 : & , intersection()\n",
        "* 차집합 : -, difference()\n",
        "* 대칭차집합 : ^, symmetric_difference()"
      ],
      "metadata": {
        "id": "09O0544BaCnZ"
      }
    },
    {
      "cell_type": "code",
      "source": [
        "A = {1,2,3}\n",
        "B = {3,4,5}"
      ],
      "metadata": {
        "id": "bPzsbLLDaEGd"
      },
      "execution_count": null,
      "outputs": []
    },
    {
      "cell_type": "code",
      "source": [
        "# 합집합\n",
        "\n",
        "print(A | B)\n",
        "print(A.union(B))"
      ],
      "metadata": {
        "colab": {
          "base_uri": "https://localhost:8080/"
        },
        "id": "uY8AK9w0aSC5",
        "outputId": "eed08f5a-5a4a-42a8-9bf5-09635c3b6afa"
      },
      "execution_count": null,
      "outputs": [
        {
          "output_type": "stream",
          "name": "stdout",
          "text": [
            "{1, 2, 3, 4, 5}\n",
            "{1, 2, 3, 4, 5}\n"
          ]
        }
      ]
    },
    {
      "cell_type": "code",
      "source": [
        "# 교집합\n",
        "\n",
        "print(A & B)\n",
        "print(A.intersection(B))"
      ],
      "metadata": {
        "colab": {
          "base_uri": "https://localhost:8080/"
        },
        "id": "sXnavattaY3Q",
        "outputId": "e333ffbd-b1af-449d-c51b-d97697015a94"
      },
      "execution_count": null,
      "outputs": [
        {
          "output_type": "stream",
          "name": "stdout",
          "text": [
            "{3}\n",
            "{3}\n"
          ]
        }
      ]
    },
    {
      "cell_type": "code",
      "source": [
        "# 차집합\n",
        "\n",
        "print(A - B)\n",
        "print(A.difference(B))"
      ],
      "metadata": {
        "colab": {
          "base_uri": "https://localhost:8080/"
        },
        "id": "CP5CvSsPadUx",
        "outputId": "5163b43e-f085-4302-f6dc-725ccf4e8bbd"
      },
      "execution_count": null,
      "outputs": [
        {
          "output_type": "stream",
          "name": "stdout",
          "text": [
            "{1, 2}\n",
            "{1, 2}\n"
          ]
        }
      ]
    },
    {
      "cell_type": "code",
      "source": [
        "# 대칭차집합\n",
        "\n",
        "print(A^B)\n",
        "print(A.symmetric_difference(B))"
      ],
      "metadata": {
        "colab": {
          "base_uri": "https://localhost:8080/"
        },
        "id": "siU3mFaeax45",
        "outputId": "29636047-7454-4660-9d3e-4bf759736d42"
      },
      "execution_count": null,
      "outputs": [
        {
          "output_type": "stream",
          "name": "stdout",
          "text": [
            "{1, 2, 4, 5}\n",
            "{1, 2, 4, 5}\n"
          ]
        }
      ]
    },
    {
      "cell_type": "markdown",
      "source": [
        "실습 I\n",
        "\n",
        "* 파티 동시 참석자 알아내기"
      ],
      "metadata": {
        "id": "MmSwcSsmbCpO"
      }
    },
    {
      "cell_type": "code",
      "source": [
        "party_a = set(['park', 'kim', 'lee'])\n",
        "party_b = set(['park', 'choi'])\n",
        "\n",
        "print(party_a & party_b)"
      ],
      "metadata": {
        "colab": {
          "base_uri": "https://localhost:8080/"
        },
        "id": "9Qi7mTUv9gGM",
        "outputId": "4865dd57-d520-41bc-dcfa-94655f9eda3b"
      },
      "execution_count": null,
      "outputs": [
        {
          "output_type": "stream",
          "name": "stdout",
          "text": [
            "{'park'}\n"
          ]
        }
      ]
    },
    {
      "cell_type": "markdown",
      "source": [
        "## 딕셔너리"
      ],
      "metadata": {
        "id": "ekL1HVep-lxQ"
      }
    },
    {
      "cell_type": "markdown",
      "source": [
        "개념\n",
        "* 딕셔너리 타입은 전체 항목이 정렬되지 않은 키와 값의 쌍으로 구성된 데이터 모음\n",
        "* 변경할 수 있는 데이터 타입\n",
        "* {키:값}의 형태로 표기하며 각 쌍은 쉼표 기호(,)로 구분하고 전체 집합은 중괄호로 감싸는 형식\n",
        "* 딕셔너리에서 키값은 중복되지 않음(세트와 유사)"
      ],
      "metadata": {
        "id": "sinYP6WE-n7j"
      }
    },
    {
      "cell_type": "code",
      "source": [
        "#선언 및 사용\n",
        "\n",
        "p_dict = {'python':5, 'c':2, 'c++':3, 'java':4}\n",
        "p_dict"
      ],
      "metadata": {
        "colab": {
          "base_uri": "https://localhost:8080/"
        },
        "id": "dJSmpCJyr9uF",
        "outputId": "fb0de083-fb46-405d-96de-0d6bcd470671"
      },
      "execution_count": null,
      "outputs": [
        {
          "output_type": "execute_result",
          "data": {
            "text/plain": [
              "{'python': 5, 'c': 2, 'c++': 3, 'java': 4}"
            ]
          },
          "metadata": {},
          "execution_count": 73
        }
      ]
    },
    {
      "cell_type": "code",
      "source": [
        "#동일한 키를 갖는 딕셔너리\n",
        "\n",
        "p_dict = {'python':5, 'c':2, 'c++':3, 'java':4, 'python' : 100, 'c' : 200}\n",
        "p_dict #가장 마지막에 있는 키가 적용됨"
      ],
      "metadata": {
        "colab": {
          "base_uri": "https://localhost:8080/"
        },
        "id": "Roe8zNHGbvCF",
        "outputId": "3004a2b3-9934-4814-d3bc-33a3515eb8a2"
      },
      "execution_count": null,
      "outputs": [
        {
          "output_type": "execute_result",
          "data": {
            "text/plain": [
              "{'python': 100, 'c': 200, 'c++': 3, 'java': 4}"
            ]
          },
          "metadata": {},
          "execution_count": 104
        }
      ]
    },
    {
      "cell_type": "code",
      "source": [
        "# key를 통해 value에 접근\n",
        "\n",
        "p_dict['python']\n",
        "#p_dict[1] 오류 발생"
      ],
      "metadata": {
        "colab": {
          "base_uri": "https://localhost:8080/",
          "height": 223
        },
        "id": "jTM2atA3dVjh",
        "outputId": "20f7a3c0-e025-4a77-c5ee-6c432e784366"
      },
      "execution_count": null,
      "outputs": [
        {
          "output_type": "error",
          "ename": "KeyError",
          "evalue": "ignored",
          "traceback": [
            "\u001b[0;31m---------------------------------------------------------------------------\u001b[0m",
            "\u001b[0;31mKeyError\u001b[0m                                  Traceback (most recent call last)",
            "\u001b[0;32m<ipython-input-107-89e4eeeecd29>\u001b[0m in \u001b[0;36m<cell line: 3>\u001b[0;34m()\u001b[0m\n\u001b[1;32m      1\u001b[0m \u001b[0;31m# key를 통해 value에 접근\u001b[0m\u001b[0;34m\u001b[0m\u001b[0;34m\u001b[0m\u001b[0m\n\u001b[1;32m      2\u001b[0m \u001b[0;34m\u001b[0m\u001b[0m\n\u001b[0;32m----> 3\u001b[0;31m \u001b[0mp_dict\u001b[0m\u001b[0;34m[\u001b[0m\u001b[0;36m1\u001b[0m\u001b[0;34m]\u001b[0m\u001b[0;34m\u001b[0m\u001b[0;34m\u001b[0m\u001b[0m\n\u001b[0m\u001b[1;32m      4\u001b[0m \u001b[0mp_dict\u001b[0m\u001b[0;34m[\u001b[0m\u001b[0;34m'python'\u001b[0m\u001b[0;34m]\u001b[0m\u001b[0;34m\u001b[0m\u001b[0;34m\u001b[0m\u001b[0m\n",
            "\u001b[0;31mKeyError\u001b[0m: 1"
          ]
        }
      ]
    },
    {
      "cell_type": "code",
      "source": [
        "# 특정 항목 값 변경\n",
        "\n",
        "p_dict['python'] = 7\n",
        "p_dict"
      ],
      "metadata": {
        "colab": {
          "base_uri": "https://localhost:8080/"
        },
        "id": "Wl0T7xR2sbAC",
        "outputId": "93bfeae1-5f28-4312-ffe6-1a58f6756227"
      },
      "execution_count": null,
      "outputs": [
        {
          "output_type": "execute_result",
          "data": {
            "text/plain": [
              "{'python': 7, 'c': 2, 'c++': 3, 'java': 4}"
            ]
          },
          "metadata": {},
          "execution_count": 55
        }
      ]
    },
    {
      "cell_type": "code",
      "source": [
        "# 항목 추가\n",
        "\n",
        "p_dict['ruby'] = 1\n",
        "p_dict"
      ],
      "metadata": {
        "colab": {
          "base_uri": "https://localhost:8080/"
        },
        "id": "wo3GuqmK_Cq4",
        "outputId": "1b0ecbb8-575b-4ed6-a192-1670b470138e"
      },
      "execution_count": null,
      "outputs": [
        {
          "output_type": "execute_result",
          "data": {
            "text/plain": [
              "{'python': 5, 'c': 2, 'c++': 3, 'java': 4, 'ruby': 1}"
            ]
          },
          "metadata": {},
          "execution_count": 74
        }
      ]
    },
    {
      "cell_type": "code",
      "source": [
        "# 항목 개수 확인\n",
        "\n",
        "len(p_dict)"
      ],
      "metadata": {
        "colab": {
          "base_uri": "https://localhost:8080/"
        },
        "id": "hn2LWCu63U7c",
        "outputId": "bdf4d45b-afd0-44f0-be0e-6b15851684ce"
      },
      "execution_count": null,
      "outputs": [
        {
          "output_type": "execute_result",
          "data": {
            "text/plain": [
              "5"
            ]
          },
          "metadata": {},
          "execution_count": 63
        }
      ]
    },
    {
      "cell_type": "code",
      "source": [
        "# 키, 값 확인\n",
        "\n",
        "print(p_dict.keys()) #전체 키 반환\n",
        "print(list(p_dict.keys()))\n",
        "\n",
        "print(p_dict.values())\n",
        "print(list(p_dict.values()))"
      ],
      "metadata": {
        "colab": {
          "base_uri": "https://localhost:8080/"
        },
        "id": "5o8PmzhU3YAW",
        "outputId": "7c400441-0064-425a-8076-ab9bd21a0089"
      },
      "execution_count": null,
      "outputs": [
        {
          "output_type": "stream",
          "name": "stdout",
          "text": [
            "dict_keys(['python', 'c', 'c++', 'java', 'ruby'])\n",
            "['python', 'c', 'c++', 'java', 'ruby']\n",
            "dict_values([7, 2, 3, 4, 1])\n",
            "[7, 2, 3, 4, 1]\n"
          ]
        }
      ]
    },
    {
      "cell_type": "code",
      "source": [
        "# 특정 키 확인(value를 확인할 수는 없다)\n",
        "\n",
        "'c' in p_dict"
      ],
      "metadata": {
        "colab": {
          "base_uri": "https://localhost:8080/"
        },
        "id": "DGt8lBd_3rUl",
        "outputId": "7b27fe67-4f22-46d4-f448-6c6c3acde875"
      },
      "execution_count": null,
      "outputs": [
        {
          "output_type": "execute_result",
          "data": {
            "text/plain": [
              "True"
            ]
          },
          "metadata": {},
          "execution_count": 70
        }
      ]
    },
    {
      "cell_type": "code",
      "source": [
        "# 항목 삭제\n",
        "del p_dict['ruby'] # 특정 항목 삭제\n",
        "\n",
        "# del p_dict 변수 자체를 삭제\n",
        "# p_dict.clear() 변수네 항목은 삭제, 딕셔너리 형태는 유지된다"
      ],
      "metadata": {
        "id": "L6tRio3J32En"
      },
      "execution_count": null,
      "outputs": []
    },
    {
      "cell_type": "code",
      "source": [
        "# 존재하지 않는 키 확인\n",
        "\n",
        "print(p_dict.get('c#'))\n",
        "# print(p_dict['c#']) 없는 키 확인시 오류 발생"
      ],
      "metadata": {
        "colab": {
          "base_uri": "https://localhost:8080/"
        },
        "id": "R44gJVsy4N81",
        "outputId": "6d775a59-dc3c-4a79-f8e0-620e7673a032"
      },
      "execution_count": null,
      "outputs": [
        {
          "output_type": "stream",
          "name": "stdout",
          "text": [
            "None\n"
          ]
        }
      ]
    },
    {
      "cell_type": "code",
      "source": [
        "# item 메서드 : 딕셔너리 key, value값을 튜플로 반환해준다\n",
        "\n",
        "print(p_dict.items())\n",
        "\n",
        "for key, value in p_dict.items():\n",
        "  print(key,':',value)"
      ],
      "metadata": {
        "colab": {
          "base_uri": "https://localhost:8080/"
        },
        "id": "al9Szru54izn",
        "outputId": "6b17023e-603e-4d96-da89-0446fbe3c2fb"
      },
      "execution_count": null,
      "outputs": [
        {
          "output_type": "stream",
          "name": "stdout",
          "text": [
            "dict_items([('python', 5), ('c', 2), ('c++', 3), ('java', 4), ('ruby', 1)])\n",
            "python : 5\n",
            "c : 2\n",
            "c++ : 3\n",
            "java : 4\n",
            "ruby : 1\n"
          ]
        }
      ]
    },
    {
      "cell_type": "code",
      "source": [
        "# 정렬\n",
        "\n",
        "print(sorted(p_dict.items()))\n",
        "dict(sorted(p_dict.items()))"
      ],
      "metadata": {
        "colab": {
          "base_uri": "https://localhost:8080/"
        },
        "id": "24SCtDXK5Kl8",
        "outputId": "d1e8836c-1642-4bdc-a587-000c26e7eee4"
      },
      "execution_count": null,
      "outputs": [
        {
          "output_type": "stream",
          "name": "stdout",
          "text": [
            "[('c', 200), ('c++', 3), ('java', 4), ('python', 100)]\n"
          ]
        },
        {
          "output_type": "execute_result",
          "data": {
            "text/plain": [
              "{'c': 200, 'c++': 3, 'java': 4, 'python': 100}"
            ]
          },
          "metadata": {},
          "execution_count": 113
        }
      ]
    },
    {
      "cell_type": "code",
      "source": [
        "print(sorted(p_dict)) # value 값이 사라지고 key값만 정렬되어 출력됨"
      ],
      "metadata": {
        "colab": {
          "base_uri": "https://localhost:8080/"
        },
        "id": "tkZz3dDufQCA",
        "outputId": "ea1fb01e-d556-4235-e922-18cb6da7116f"
      },
      "execution_count": null,
      "outputs": [
        {
          "output_type": "stream",
          "name": "stdout",
          "text": [
            "['c', 'c++', 'java', 'python']\n"
          ]
        }
      ]
    },
    {
      "cell_type": "code",
      "source": [
        "#실습 II\n",
        "\n",
        "items = {'커피음료': 7, '펜':3, '종이컵': 2, '우유':1, '콜라':4, '책':5}\n",
        "\n",
        "name = input('물건의 이름을 입력하시오: ')\n",
        "print('재고 : ', items[name])"
      ],
      "metadata": {
        "id": "A83KP8aaseR3"
      },
      "execution_count": null,
      "outputs": []
    },
    {
      "cell_type": "code",
      "source": [
        "#실습 III\n",
        "\n",
        "eng_dict = {'one':'하나', 'two':'둘', 'three':'셋', 'four':'넷'}\n",
        "\n",
        "word = input('단어를 입력하세요.')\n",
        "if word in eng_dict:\n",
        "  print(eng_dict[word])\n",
        "else:\n",
        "  print('없는 단어입니다.')"
      ],
      "metadata": {
        "colab": {
          "base_uri": "https://localhost:8080/"
        },
        "id": "V__1TF4P9B0l",
        "outputId": "695e845e-5030-46c1-c275-e9a86248c403"
      },
      "execution_count": null,
      "outputs": [
        {
          "output_type": "stream",
          "name": "stdout",
          "text": [
            "단어를 입력하세요.one\n",
            "하나\n"
          ]
        }
      ]
    },
    {
      "cell_type": "code",
      "source": [
        "#실습 IV\n",
        "\n",
        "p_number = dict()\n",
        "\n",
        "while True:\n",
        "  action = input('1) 전화번호 저장, 2) 전화번호 검색, 3) 끝: ')\n",
        "  if action == '1':\n",
        "    name = input('저장할 사용자의 이름을 입력하세요: ')\n",
        "    number = input('전화번호를 입력하세요: ')\n",
        "    p_number[name] = number\n",
        "    print('저장되었습니다.')\n",
        "\n",
        "  elif action == '2':\n",
        "    name = input('검색할 사용자의 이름을 입력하세요: ')\n",
        "    if name in p_number:\n",
        "      print(p_number[name])\n",
        "    else:\n",
        "      print('존재하지 않는 사용자 입니다.')\n",
        "\n",
        "  elif action == '3':\n",
        "    break\n",
        "\n",
        "  else:\n",
        "    print('다시 입력하세요')\n"
      ],
      "metadata": {
        "id": "TDUgxJ4zJQNf",
        "colab": {
          "base_uri": "https://localhost:8080/"
        },
        "outputId": "4c76104e-30b5-471a-8468-bb0c319f16bc"
      },
      "execution_count": null,
      "outputs": [
        {
          "name": "stdout",
          "output_type": "stream",
          "text": [
            "1) 전화번호 저장, 2) 전화번호 검색, 3) 끝: 1\n",
            "저장할 사용자의 이름을 입력하세요: 김숭실\n",
            "전화번호를 입력하세요: 010-1111-1111\n",
            "저장되었습니다.\n",
            "1) 전화번호 저장, 2) 전화번호 검색, 3) 끝: 홍길동\n",
            "다시 입력하세요\n",
            "1) 전화번호 저장, 2) 전화번호 검색, 3) 끝: 010-1112-1122\n",
            "다시 입력하세요\n",
            "1) 전화번호 저장, 2) 전화번호 검색, 3) 끝: 1\n",
            "저장할 사용자의 이름을 입력하세요: 홍길동\n",
            "전화번호를 입력하세요: 010-1112-1122\n",
            "저장되었습니다.\n",
            "1) 전화번호 저장, 2) 전화번호 검색, 3) 끝: 2\n",
            "검색할 사용자의 이름을 입력하세요: 김숭실\n",
            "존재하지 않는 사용자 입니다.\n",
            "1) 전화번호 저장, 2) 전화번호 검색, 3) 끝: 3\n"
          ]
        }
      ]
    },
    {
      "cell_type": "code",
      "source": [
        "#튜플을 딕셔너리로 바꿀수 있다\n",
        "\n",
        "p_list = [('python', 7), ('java',2)]\n",
        "print(p_list)\n",
        "dict(p_list)"
      ],
      "metadata": {
        "colab": {
          "base_uri": "https://localhost:8080/"
        },
        "id": "QbrnFWMQ9bb8",
        "outputId": "69193f91-6c21-496f-d185-f458f7c63f12"
      },
      "execution_count": null,
      "outputs": [
        {
          "output_type": "stream",
          "name": "stdout",
          "text": [
            "[('python', 7), ('java', 2)]\n"
          ]
        },
        {
          "output_type": "execute_result",
          "data": {
            "text/plain": [
              "{'python': 7, 'java': 2}"
            ]
          },
          "metadata": {},
          "execution_count": 92
        }
      ]
    },
    {
      "cell_type": "markdown",
      "source": [
        "## 리스트, 튜플, 딕셔너리 심화"
      ],
      "metadata": {
        "id": "vm1T6YZL-u4e"
      }
    },
    {
      "cell_type": "code",
      "source": [
        "# 리스트 함축\n",
        "\n",
        "n_list = []\n",
        "for i in range(1,6):\n",
        "  n_list.append(i)\n",
        "\n",
        "n_list"
      ],
      "metadata": {
        "colab": {
          "base_uri": "https://localhost:8080/"
        },
        "id": "MTAsytQH-xmG",
        "outputId": "a771e286-d934-4dd4-d64a-0ddcc339cbe0"
      },
      "execution_count": null,
      "outputs": [
        {
          "output_type": "execute_result",
          "data": {
            "text/plain": [
              "[1, 2, 3, 4, 5]"
            ]
          },
          "metadata": {},
          "execution_count": 93
        }
      ]
    },
    {
      "cell_type": "code",
      "source": [
        "# 리스트컴프리헨션\n",
        "\n",
        "n_list = [num for num in range(1,6)]\n",
        "n_list"
      ],
      "metadata": {
        "colab": {
          "base_uri": "https://localhost:8080/"
        },
        "id": "8m8Ch_I8EBkT",
        "outputId": "b3d83139-e800-4256-a9b2-b389358ed081"
      },
      "execution_count": null,
      "outputs": [
        {
          "output_type": "execute_result",
          "data": {
            "text/plain": [
              "[1, 2, 3, 4, 5]"
            ]
          },
          "metadata": {},
          "execution_count": 95
        }
      ]
    },
    {
      "cell_type": "code",
      "source": [
        "# 리스트 컴프리헨션 + 조건\n",
        "\n",
        "n_list = [num for num in range(1,21) if num % 3 == 0]\n",
        "n_list"
      ],
      "metadata": {
        "colab": {
          "base_uri": "https://localhost:8080/"
        },
        "id": "EgL0gnRZEQc5",
        "outputId": "5d7889ab-9da8-481f-c677-890cc0a9f34d"
      },
      "execution_count": null,
      "outputs": [
        {
          "output_type": "execute_result",
          "data": {
            "text/plain": [
              "[3, 6, 9, 12, 15, 18]"
            ]
          },
          "metadata": {},
          "execution_count": 97
        }
      ]
    },
    {
      "cell_type": "code",
      "source": [
        "# 실습 V\n",
        "\n",
        "evens = [n*2 for n in range(10)]\n",
        "print(evens)\n",
        "\n",
        "A = ['사과','귤','배']\n",
        "B = ['블루베리', '자몽', '아보카도']\n",
        "pairs = [(a,b) for a,b in zip(A,B) if a != b]\n",
        "pairs1 = [(a,b) for a in A for b in B if a != b]\n",
        "print(pairs)\n",
        "print(pairs1)\n",
        "\n",
        "t_dict = {a:a**3 for a in (2,3,4)}\n",
        "print(t_dict)"
      ],
      "metadata": {
        "colab": {
          "base_uri": "https://localhost:8080/"
        },
        "id": "-fpzc2smEcej",
        "outputId": "51a1df09-0dbb-4ccd-f4f6-87dbe4ca6108"
      },
      "execution_count": null,
      "outputs": [
        {
          "output_type": "stream",
          "name": "stdout",
          "text": [
            "[0, 2, 4, 6, 8, 10, 12, 14, 16, 18]\n",
            "[('사과', '블루베리'), ('귤', '자몽'), ('배', '아보카도')]\n",
            "[('사과', '블루베리'), ('사과', '자몽'), ('사과', '아보카도'), ('귤', '블루베리'), ('귤', '자몽'), ('귤', '아보카도'), ('배', '블루베리'), ('배', '자몽'), ('배', '아보카도')]\n",
            "{2: 8, 3: 27, 4: 64}\n"
          ]
        }
      ]
    },
    {
      "cell_type": "code",
      "source": [
        "# 동시에 여러 리스트에 접근\n",
        "\n",
        "foods = ['apple', 'banna', 'caret', 'doritos']\n",
        "beverage = ['coke', 'soda']\n",
        "\n",
        "for i,j in zip(foods, beverage):\n",
        "  print(i,j) #길이 맞춰서 출력됨"
      ],
      "metadata": {
        "colab": {
          "base_uri": "https://localhost:8080/"
        },
        "id": "BY8yVrGWFpBm",
        "outputId": "05acaa3d-0833-47e2-eee7-60de99362df9"
      },
      "execution_count": null,
      "outputs": [
        {
          "output_type": "stream",
          "name": "stdout",
          "text": [
            "apple coke\n",
            "banna soda\n"
          ]
        }
      ]
    },
    {
      "cell_type": "code",
      "source": [
        "f_list = list(zip(foods, beverage))\n",
        "f_dict = dict(zip(foods, beverage))\n",
        "print(f_list, f_dict)"
      ],
      "metadata": {
        "colab": {
          "base_uri": "https://localhost:8080/"
        },
        "id": "eGDcc_3PGJGr",
        "outputId": "a5f1eabe-8b49-4cfa-85ab-9a5cdd77f7ea"
      },
      "execution_count": null,
      "outputs": [
        {
          "output_type": "stream",
          "name": "stdout",
          "text": [
            "[('apple', 'coke'), ('banna', 'soda')] {'apple': 'coke', 'banna': 'soda'}\n"
          ]
        }
      ]
    },
    {
      "cell_type": "markdown",
      "source": [
        "##과제 4"
      ],
      "metadata": {
        "id": "-Vym5W3XJQgp"
      }
    },
    {
      "cell_type": "code",
      "source": [
        "student_count = int(input('입력하는 학생수가 몇명인가요: '))\n",
        "print('학생의 이름과 취미를 입력하세요!\\n')\n",
        "\n",
        "student = dict()\n",
        "for i in range(student_count):\n",
        "  print(\"{0} 번 학생\".format(i+1))\n",
        "  student_name = input('* 이름: ')\n",
        "  student_hobby = input('* 취미: ')\n",
        "  print('\\n')\n",
        "  student[student_name] = student_hobby\n",
        "\n",
        "print('전체 학생 리스트 정보: ', list(student.keys()))\n",
        "print('전체 취미 세트 정보: ', set(student.values()))"
      ],
      "metadata": {
        "colab": {
          "base_uri": "https://localhost:8080/"
        },
        "id": "AoJD7NQCJRaH",
        "outputId": "786b1b1b-5745-4d94-8b86-d6e452861dcf"
      },
      "execution_count": null,
      "outputs": [
        {
          "output_type": "stream",
          "name": "stdout",
          "text": [
            "입력하는 학생수가 몇명인가요: 3\n",
            "학생의 이름과 취미를 입력하세요!\n",
            "\n",
            "1 번 학생\n",
            "* 이름: 홍길동\n",
            "* 취미: 스노우보드\n",
            "\n",
            "\n",
            "2 번 학생\n",
            "* 이름: 성춘향\n",
            "* 취미: 목공예\n",
            "\n",
            "\n",
            "3 번 학생\n",
            "* 이름: 이몽룡\n",
            "* 취미: 여행\n",
            "\n",
            "\n",
            "전체 학생 리스트 정보:  ['홍길동', '성춘향', '이몽룡']\n",
            "전체 취미 세트 정보:  {'스노우보드', '여행', '목공예'}\n"
          ]
        }
      ]
    },
    {
      "cell_type": "code",
      "source": [
        "a = dict()\n",
        "a['홍길동'] = 1\n",
        "print(a)"
      ],
      "metadata": {
        "colab": {
          "base_uri": "https://localhost:8080/"
        },
        "id": "TgeK1IhUKa8X",
        "outputId": "7fa2e4de-539b-4bb7-e0e6-0b9012730a16"
      },
      "execution_count": null,
      "outputs": [
        {
          "output_type": "stream",
          "name": "stdout",
          "text": [
            "{'홍길동': 1}\n"
          ]
        }
      ]
    },
    {
      "cell_type": "code",
      "source": [
        "print(set(a.values()))\n",
        "print(list(a.keys()))"
      ],
      "metadata": {
        "colab": {
          "base_uri": "https://localhost:8080/"
        },
        "id": "Pkky0LI1K6BF",
        "outputId": "bc02d512-d81d-4ddb-9249-f26d7c25b5a4"
      },
      "execution_count": null,
      "outputs": [
        {
          "output_type": "stream",
          "name": "stdout",
          "text": [
            "{1}\n",
            "['홍길동']\n"
          ]
        }
      ]
    },
    {
      "cell_type": "markdown",
      "source": [
        "# 문자열 제어문과 데이터 구조\n"
      ],
      "metadata": {
        "id": "Ag4VsA2ctRnZ"
      }
    },
    {
      "cell_type": "markdown",
      "source": [
        "## 제어문과 데이터 구조"
      ],
      "metadata": {
        "id": "ZSl3cI4GtV7k"
      }
    },
    {
      "cell_type": "code",
      "source": [
        "# 색인과 함께 항목 보여주기 : enumerate()\n",
        "\n",
        "k_food = ['kimchi', 'galbi', 'mandu']\n",
        "print(k_food[0])\n",
        "\n",
        "index = 0\n",
        "for food in k_food:\n",
        "  print(index, food)\n",
        "  index += 1\n",
        "\n"
      ],
      "metadata": {
        "colab": {
          "base_uri": "https://localhost:8080/"
        },
        "id": "X4c1FcbOtX2g",
        "outputId": "ea0259bb-7548-4cb3-c508-c38890c00008"
      },
      "execution_count": null,
      "outputs": [
        {
          "output_type": "stream",
          "name": "stdout",
          "text": [
            "kimchi\n",
            "0 kimchi\n",
            "1 galbi\n",
            "2 mandu\n"
          ]
        }
      ]
    },
    {
      "cell_type": "code",
      "source": [
        "k_food_enum = enumerate(k_food)\n",
        "print(type(k_food_enum))\n",
        "\n",
        "for index_enum, food in k_food_enum:\n",
        "  print(index_enum, food)\n"
      ],
      "metadata": {
        "colab": {
          "base_uri": "https://localhost:8080/"
        },
        "id": "Atq_JVlxwObp",
        "outputId": "b66b2c1d-f46d-4620-847a-73b80dfbed93"
      },
      "execution_count": null,
      "outputs": [
        {
          "output_type": "stream",
          "name": "stdout",
          "text": [
            "<class 'enumerate'>\n",
            "0 kimchi\n",
            "1 galbi\n",
            "2 mandu\n"
          ]
        }
      ]
    },
    {
      "cell_type": "markdown",
      "source": [
        "## 문자열의 개념"
      ],
      "metadata": {
        "id": "y45HVQFfu_45"
      }
    },
    {
      "cell_type": "code",
      "source": [
        "aa = [0,1,2,3,4,5]\n",
        "print(aa[0])\n",
        "print(aa[1:3])\n",
        "print(aa[3:])"
      ],
      "metadata": {
        "colab": {
          "base_uri": "https://localhost:8080/"
        },
        "id": "v6OQIJYjwqtw",
        "outputId": "9caec217-9c59-4449-a89a-e9c2f072e5d0"
      },
      "execution_count": null,
      "outputs": [
        {
          "output_type": "stream",
          "name": "stdout",
          "text": [
            "0\n",
            "[1, 2]\n",
            "[3, 4, 5]\n"
          ]
        }
      ]
    },
    {
      "cell_type": "code",
      "source": [
        "ss = '파이썬최고'\n",
        "\n",
        "print(ss[0])\n",
        "print(ss[1:3])\n",
        "print(ss[3:])"
      ],
      "metadata": {
        "colab": {
          "base_uri": "https://localhost:8080/"
        },
        "id": "HlxSr7Pqw7Oo",
        "outputId": "ae6f6c5d-8417-4f53-db2c-454d3e1c8bd1"
      },
      "execution_count": null,
      "outputs": [
        {
          "output_type": "stream",
          "name": "stdout",
          "text": [
            "파\n",
            "이썬\n",
            "최고\n"
          ]
        }
      ]
    },
    {
      "cell_type": "code",
      "source": [
        "# +기호 사용, *기호 사용\n",
        "\n",
        "ss = '파이썬' + '최고'\n",
        "print(ss)\n",
        "\n",
        "ss1 = '파이썬' * 3\n",
        "print(ss1)\n",
        "\n",
        "len(ss) #문자열 길이 출력"
      ],
      "metadata": {
        "colab": {
          "base_uri": "https://localhost:8080/"
        },
        "id": "J5wEocZ_xHvN",
        "outputId": "faf4918e-3603-43c1-88d5-f41076c243fc"
      },
      "execution_count": null,
      "outputs": [
        {
          "output_type": "stream",
          "name": "stdout",
          "text": [
            "파이썬최고\n",
            "파이썬파이썬파이썬\n"
          ]
        },
        {
          "output_type": "execute_result",
          "data": {
            "text/plain": [
              "5"
            ]
          },
          "metadata": {},
          "execution_count": 14
        }
      ]
    },
    {
      "cell_type": "code",
      "source": [
        "#문자열의 모든 글자 뒤에 $를 붙여서 출력하는 코드\n",
        "\n",
        "ss = '파이썬짱!'\n",
        "\n",
        "sslen = len(ss)\n",
        "for i in range(0, sslen):\n",
        "  print(ss[i] + '$', end = \"\")"
      ],
      "metadata": {
        "colab": {
          "base_uri": "https://localhost:8080/"
        },
        "id": "5sYUXhahvBRk",
        "outputId": "79c233f1-06e7-4019-e4bd-b787e703856b"
      },
      "execution_count": null,
      "outputs": [
        {
          "output_type": "stream",
          "name": "stdout",
          "text": [
            "파$이$썬$짱$!$"
          ]
        }
      ]
    },
    {
      "cell_type": "code",
      "source": [
        "# 짝수 글자만 출력\n",
        "\n",
        "ss1 = '파이썬은완전재미있어요'\n",
        "\n",
        "for i in range(len(ss1)):\n",
        "  if i % 2 == 0:\n",
        "    print(ss1[i], end=\"\")\n",
        "  else:\n",
        "    print(\"#\", end= \"\")"
      ],
      "metadata": {
        "colab": {
          "base_uri": "https://localhost:8080/"
        },
        "id": "sEE191VKvLrf",
        "outputId": "d6c6c15f-e103-4de0-aeec-6bd221e83ff6"
      },
      "execution_count": null,
      "outputs": [
        {
          "output_type": "stream",
          "name": "stdout",
          "text": [
            "파#썬#완#재#있#요"
          ]
        }
      ]
    },
    {
      "cell_type": "code",
      "source": [
        "# 입력된 문자 거꾸로 출력하기\n",
        "\n",
        "ss = input('문자열을 입력하시오: ')\n",
        "for i in range(len(ss)):\n",
        "  print(ss[-(i+1)], end = \"\")"
      ],
      "metadata": {
        "colab": {
          "base_uri": "https://localhost:8080/"
        },
        "id": "bg-FaoWrvXzF",
        "outputId": "e60925d7-9da3-4c60-fe44-12f0dae38ef3"
      },
      "execution_count": null,
      "outputs": [
        {
          "output_type": "stream",
          "name": "stdout",
          "text": [
            "문자열을 입력하시오: abcde\n",
            "edcba"
          ]
        }
      ]
    },
    {
      "cell_type": "markdown",
      "source": [
        "## 문자열 메서드\n"
      ],
      "metadata": {
        "id": "BOKtRfNpyMaj"
      }
    },
    {
      "cell_type": "code",
      "source": [
        "# 함수\n",
        "# 함수는 단독으로 사용\n",
        "# ex) 리스트나 문자열의 길이를 알아내는 len() 함수는 아래와 같이 사용\n",
        "\n",
        "ss = 'abcd'\n",
        "len(ss)"
      ],
      "metadata": {
        "colab": {
          "base_uri": "https://localhost:8080/"
        },
        "id": "UMKhcQcGyNiQ",
        "outputId": "cedf0eae-865d-43f0-c4a6-25e8bd3ed2c4"
      },
      "execution_count": null,
      "outputs": [
        {
          "output_type": "execute_result",
          "data": {
            "text/plain": [
              "4"
            ]
          },
          "metadata": {},
          "execution_count": 18
        }
      ]
    },
    {
      "cell_type": "code",
      "source": [
        "word = input('단어를 입력하세요: ')\n",
        "count = 0\n",
        "for i in range(len(word)):\n",
        "  if word[i] in 'aeiou':\n",
        "    count += 1\n",
        "  else:\n",
        "    continue\n",
        "print(count)"
      ],
      "metadata": {
        "colab": {
          "base_uri": "https://localhost:8080/"
        },
        "id": "PzKm31vvV1bo",
        "outputId": "70822de6-d7ea-4dbb-807f-43b158e0b2e9"
      },
      "execution_count": null,
      "outputs": [
        {
          "output_type": "stream",
          "name": "stdout",
          "text": [
            "단어를 입력하세요apple\n",
            "2\n"
          ]
        }
      ]
    },
    {
      "cell_type": "code",
      "source": [
        "# 메서드\n",
        "# 메서드는 문자열 자료형에 그 기능이 들어 있으므로 변수명.메서드()의 형식으로 사용\n",
        "\n",
        "ss = 'abcd'\n",
        "ss.upper()"
      ],
      "metadata": {
        "colab": {
          "base_uri": "https://localhost:8080/",
          "height": 36
        },
        "id": "zk7IPWJ7yJbj",
        "outputId": "74a0821a-fda0-497d-df03-eecee283694b"
      },
      "execution_count": null,
      "outputs": [
        {
          "output_type": "execute_result",
          "data": {
            "text/plain": [
              "'ABCD'"
            ],
            "application/vnd.google.colaboratory.intrinsic+json": {
              "type": "string"
            }
          },
          "metadata": {},
          "execution_count": 19
        }
      ]
    },
    {
      "cell_type": "code",
      "source": [
        "# 대, 소문자 변환 메서드\n",
        "\n",
        "ss = 'python is Easy so Programming is fun'\n",
        "\n",
        "print(ss.upper())\n",
        "print(ss.lower())\n",
        "print(ss.swapcase()) # 대문자는 소문자, 소문자는 대문자로 변형\n",
        "print(ss.title()) # 각 단어의 앞글자만 대문자 변형"
      ],
      "metadata": {
        "colab": {
          "base_uri": "https://localhost:8080/"
        },
        "id": "xeLNHiiwy6Bm",
        "outputId": "69764d33-fc03-461f-ec9c-b589321df18f"
      },
      "execution_count": null,
      "outputs": [
        {
          "output_type": "stream",
          "name": "stdout",
          "text": [
            "PYTHON IS EASY SO PROGRAMMING IS FUN\n",
            "python is easy so programming is fun\n",
            "PYTHON IS eASY SO pROGRAMMING IS FUN\n",
            "Python Is Easy So Programming Is Fun\n"
          ]
        }
      ]
    },
    {
      "cell_type": "code",
      "source": [
        "ss = input('단어를 입력하세요: ')\n",
        "\n",
        "count = 0\n",
        "for i in range(len(ss)):\n",
        "  if ss[i] in 'aeiou':\n",
        "    count += 1\n",
        "  else:\n",
        "    continue\n",
        "print(count)"
      ],
      "metadata": {
        "colab": {
          "base_uri": "https://localhost:8080/"
        },
        "id": "t0M3WabfzRUO",
        "outputId": "a6d51bf1-664d-4e9b-ded8-7a2a21a3a5d4"
      },
      "execution_count": null,
      "outputs": [
        {
          "output_type": "stream",
          "name": "stdout",
          "text": [
            "단어를 입력하세요: apple\n",
            "2\n"
          ]
        }
      ]
    },
    {
      "cell_type": "code",
      "source": [
        "# 문자열 검색\n",
        "\n",
        "s = 'I like abc swimming'\n",
        "\n",
        "print(s.count('like')) # 문자열 s에서 like라는 문자열이 발생한 횟수 리턴\n",
        "print(s.find('like')) # 문자열 s에서 like의 인덱스 리턴, 문자열이 없으면 -1 리턴\n",
        "s.rfind('like') # 위와 동일, 문자열 오른쪽 부터 검색\n",
        "s.index('like') # 문자열 s에서 like의 인덱스 검색, 문자열이 없으면 예외 발생\n",
        "s.rindex('like') # 위와 동일\n",
        "s.startswith('alkie') # alike로 시작하는 문자열인가?, True, False 리턴\n",
        "s.endswith('swimming') # swimming으로 끝나는 문자열인가, True, False 리턴\n",
        "s.startswith('alike', 7)\n",
        "s.endswith('swimming', 0, 26)"
      ],
      "metadata": {
        "colab": {
          "base_uri": "https://localhost:8080/"
        },
        "id": "JbdqixzN0Olm",
        "outputId": "009164c1-c786-4ea4-9ad6-ffb10de9d770"
      },
      "execution_count": null,
      "outputs": [
        {
          "output_type": "stream",
          "name": "stdout",
          "text": [
            "1\n",
            "2\n"
          ]
        },
        {
          "output_type": "execute_result",
          "data": {
            "text/plain": [
              "True"
            ]
          },
          "metadata": {},
          "execution_count": 4
        }
      ]
    },
    {
      "cell_type": "code",
      "source": [
        "#문자열을 괄호로 감싸주는 프로그램\n",
        "\n",
        "ss = input('입력 문자열: ')\n",
        "print('출력문자열 ==> ', end = \"\")\n",
        "\n",
        "if ss.startswith('(') == False:\n",
        "  print(\"(\", end='')\n",
        "\n",
        "print(ss, end='')\n",
        "\n",
        "if ss.endswith(')') == False:\n",
        "  print(')', end = '')"
      ],
      "metadata": {
        "colab": {
          "base_uri": "https://localhost:8080/"
        },
        "id": "NcDp9UKi1yVW",
        "outputId": "0bf348d1-fa5e-4350-9d6e-6cd6cab6d2fd"
      },
      "execution_count": null,
      "outputs": [
        {
          "output_type": "stream",
          "name": "stdout",
          "text": [
            "입력 문자열: python\n",
            "출력문자열 ==> (python)"
          ]
        }
      ]
    },
    {
      "cell_type": "code",
      "source": [
        "# 문자열 편집, 치환\n",
        "\n",
        "ss = '  파 이 썬  '\n",
        "print(ss.strip()) #양쪽 공백 제거\n",
        "print(ss.rstrip()) #오른쪽 공백 제거\n",
        "print(ss.lstrip()) #왼쪽 공백 제거"
      ],
      "metadata": {
        "colab": {
          "base_uri": "https://localhost:8080/"
        },
        "id": "1Mat3Mjn2xC_",
        "outputId": "37bd47c3-19e9-4be4-9366-e2b209e1f558"
      },
      "execution_count": null,
      "outputs": [
        {
          "output_type": "stream",
          "name": "stdout",
          "text": [
            "파 이 썬\n",
            "  파 이 썬\n",
            "파 이 썬  \n"
          ]
        }
      ]
    },
    {
      "cell_type": "code",
      "source": [
        "ss = '---파-이-썬---'\n",
        "\n",
        "print(ss.strip('-'))\n",
        "\n",
        "ss1 = '<<파 << 이 >> 썬 >>'\n",
        "print(ss1.strip('><a')) #넣어주는 문자열에 포함되있는(<, >, a) 삭제"
      ],
      "metadata": {
        "colab": {
          "base_uri": "https://localhost:8080/"
        },
        "id": "2plrFR7f2-ET",
        "outputId": "78ebf0a3-1d1e-4234-a6ba-de530173bba8"
      },
      "execution_count": null,
      "outputs": [
        {
          "output_type": "stream",
          "name": "stdout",
          "text": [
            "파-이-썬\n",
            "파 << 이 >> 썬 \n"
          ]
        }
      ]
    },
    {
      "cell_type": "code",
      "source": [
        "ss = '열심히 파이썬 공부 중~~'\n",
        "ss.replace('파이썬', 'python')"
      ],
      "metadata": {
        "colab": {
          "base_uri": "https://localhost:8080/",
          "height": 36
        },
        "id": "E-RhFC8f3naU",
        "outputId": "663d5638-2669-4aea-fc5d-a2a1174d52ac"
      },
      "execution_count": null,
      "outputs": [
        {
          "output_type": "execute_result",
          "data": {
            "text/plain": [
              "'열심히 python 공부 중~~'"
            ],
            "application/vnd.google.colaboratory.intrinsic+json": {
              "type": "string"
            }
          },
          "metadata": {},
          "execution_count": 32
        }
      ]
    },
    {
      "cell_type": "code",
      "source": [
        "# 문자열 중간의 공백까지 삭제해주는 코드\n",
        "\n",
        "instr = ' 한글 python 프로그래밍  '\n",
        "outstr = ''\n",
        "\n",
        "for s in range(len(instr)):\n",
        "  if instr[s] != ' ':\n",
        "    outstr += instr[s]\n",
        "  else:\n",
        "    continue\n",
        "\n",
        "print('원래문자열: ' + '[' + instr + ']' )\n",
        "print('공백 삭제 문자열: ' + '[' + outstr + ']')"
      ],
      "metadata": {
        "colab": {
          "base_uri": "https://localhost:8080/"
        },
        "id": "Rxb9u8jI31tJ",
        "outputId": "e8b22a94-d5e8-47f7-df1b-e082e4067320"
      },
      "execution_count": null,
      "outputs": [
        {
          "output_type": "stream",
          "name": "stdout",
          "text": [
            "원래문자열: [ 한글 python 프로그래밍  ]\n",
            "공백 삭제 문자열: [한글python프로그래밍]\n"
          ]
        }
      ]
    },
    {
      "cell_type": "code",
      "source": [
        "ss = '<<파<<이>>썬>>>'\n",
        "out = ''\n",
        "\n",
        "\n",
        "for s in range(len(ss)):\n",
        "  if ss[s] not in '<>':\n",
        "    out += ss[s]\n",
        "  else:\n",
        "    continue\n",
        "\n",
        "print(out)"
      ],
      "metadata": {
        "colab": {
          "base_uri": "https://localhost:8080/"
        },
        "id": "4ys38GV75mFT",
        "outputId": "4bd7fad0-050a-4656-c6a8-7ca39295b0ac"
      },
      "execution_count": null,
      "outputs": [
        {
          "output_type": "stream",
          "name": "stdout",
          "text": [
            "파이썬\n"
          ]
        }
      ]
    },
    {
      "cell_type": "code",
      "source": [
        "#문자열을 입력받아 특정 문자를 다른 문자로 변경\n",
        "\n",
        "ss = input('입력 문자열: ')\n",
        "\n",
        "print('출력 문자열: ', end = '')\n",
        "for i in range(len(ss)):\n",
        "  if ss[i] != 'o':\n",
        "    print(ss[i], end = '')\n",
        "  else:\n",
        "    print('$', end = '')\n"
      ],
      "metadata": {
        "colab": {
          "base_uri": "https://localhost:8080/"
        },
        "id": "1vsukJan-5fX",
        "outputId": "1caad50e-c5a1-4351-dc40-f0697415c644"
      },
      "execution_count": null,
      "outputs": [
        {
          "output_type": "stream",
          "name": "stdout",
          "text": [
            "입력 문자열: cook\n",
            "출력 문자열: c$$kc$$k\n"
          ]
        }
      ]
    },
    {
      "cell_type": "code",
      "source": [
        "ss = 'cook'\n",
        "ss.replace('o', '$')"
      ],
      "metadata": {
        "colab": {
          "base_uri": "https://localhost:8080/",
          "height": 36
        },
        "id": "KYikId-X_Vis",
        "outputId": "c6c8ff0d-0847-49ad-d38e-90c6dac8470d"
      },
      "execution_count": null,
      "outputs": [
        {
          "output_type": "execute_result",
          "data": {
            "text/plain": [
              "'c$$k'"
            ],
            "application/vnd.google.colaboratory.intrinsic+json": {
              "type": "string"
            }
          },
          "metadata": {},
          "execution_count": 48
        }
      ]
    },
    {
      "cell_type": "code",
      "source": [
        "# 문자열 분리, 결합\n",
        "\n",
        "ss = 'python을 열심히 공부 중'\n",
        "print(ss.split())\n",
        "\n",
        "ss = '하나:둘:셋'\n",
        "print(ss.split(':'))\n",
        "\n",
        "ss = '하나\\n둘\\n셋'\n",
        "print(ss.splitlines())\n",
        "\n",
        "ss = '%'\n",
        "print(ss.join('파이썬'))"
      ],
      "metadata": {
        "colab": {
          "base_uri": "https://localhost:8080/"
        },
        "id": "8RRp7pT7_hwe",
        "outputId": "3c7faa35-9ea4-4209-d130-56165a0c51bd"
      },
      "execution_count": null,
      "outputs": [
        {
          "output_type": "stream",
          "name": "stdout",
          "text": [
            "['python을', '열심히', '공부', '중']\n",
            "['하나', '둘', '셋']\n",
            "['하나', '둘', '셋']\n",
            "파%이%썬\n"
          ]
        }
      ]
    },
    {
      "cell_type": "code",
      "source": [
        "# 연/월/일 형식으로 문자열을 입력받아 10년 후 날짜를 출력하는 코드\n",
        "\n",
        "ss = input('날짜(연/월/일) 입력: ')\n",
        "ssList = ss.split('/')\n",
        "\n",
        "print('입력한 날짜의 10년후 : {0}년 '.format(int(ssList[0]) + 10), end='')\n",
        "print(ssList[1] + '월 ', end = '')\n",
        "print(ssList[2] + '일', end = '')\n"
      ],
      "metadata": {
        "colab": {
          "base_uri": "https://localhost:8080/"
        },
        "id": "1bWd-8t3AJT5",
        "outputId": "b8504968-bb58-4260-fb81-9fef9fb3cb96"
      },
      "execution_count": null,
      "outputs": [
        {
          "output_type": "stream",
          "name": "stdout",
          "text": [
            "날짜(연/월/일) 입력: 2019/12/31\n",
            "입력한 날짜의 10년후 : 2029년 12월 31일"
          ]
        }
      ]
    },
    {
      "cell_type": "code",
      "source": [
        "# 실습 II\n",
        "# 머리글자어 출력 프로그램\n",
        "\n",
        "ss = input('문자열을 입력하세요 : ')\n",
        "ss_list = ss.split()\n",
        "\n",
        "for i in range(len(ss_list)):\n",
        "  print(ss_list[i][0].upper(), end = \"\")"
      ],
      "metadata": {
        "colab": {
          "base_uri": "https://localhost:8080/"
        },
        "id": "e-zR8cJIBEEG",
        "outputId": "7a296483-9ca8-4afb-fdaf-c196505cbc96"
      },
      "execution_count": null,
      "outputs": [
        {
          "output_type": "stream",
          "name": "stdout",
          "text": [
            "문자열을 입력하세요 : korea internet security agency\n",
            "KISA"
          ]
        }
      ]
    },
    {
      "cell_type": "code",
      "source": [
        "# 실습 III\n",
        "# 주민등록번호를 보고 여자인지 남자인지 판별\n",
        "\n",
        "resi_num = input('주민등록번호를 입력하세요 : ')\n",
        "res = resi_num.split('-')\n",
        "if res[1][0] in '13':\n",
        "  print('남자입니다')\n",
        "elif res[1][0] in '24':\n",
        "  print('여자입니다')"
      ],
      "metadata": {
        "colab": {
          "base_uri": "https://localhost:8080/"
        },
        "id": "wOY__aZWB4fB",
        "outputId": "0c1cf2a2-47eb-407e-9663-a436e6d89b5a"
      },
      "execution_count": null,
      "outputs": [
        {
          "output_type": "stream",
          "name": "stdout",
          "text": [
            "주민등록번호를 입력하세요 : 930522-1000000\n",
            "남자입니다\n"
          ]
        }
      ]
    },
    {
      "cell_type": "code",
      "source": [
        "# 문자열 정렬, 채우기\n",
        "\n",
        "ss = '파이썬'\n",
        "print(ss.center(10)) # 가운데 정렬\n",
        "print(ss.center(10, '-')) # -를 추가하여 가운데 정렬\n",
        "\n",
        "print(ss.ljust(10)) #왼쪽 정렬\n",
        "print(ss.rjust(10)) #오른쪽 정렬\n",
        "print(ss.zfill(10)) #오른쪽 정렬후 빈 공간 채우기"
      ],
      "metadata": {
        "colab": {
          "base_uri": "https://localhost:8080/"
        },
        "id": "rD2er1DcDUFU",
        "outputId": "5d8956a9-d088-4550-b032-b292d5064c64"
      },
      "execution_count": null,
      "outputs": [
        {
          "output_type": "stream",
          "name": "stdout",
          "text": [
            "   파이썬    \n",
            "---파이썬----\n",
            "파이썬       \n",
            "       파이썬\n",
            "0000000파이썬\n"
          ]
        }
      ]
    },
    {
      "cell_type": "code",
      "source": [
        "#문자열 구성 파악\n",
        "\n",
        "print('1234'.isdigit()) #문자열이 숫자인지 아닌지 판별\n",
        "print('abcd'.isalpha()) #문자열이 문자인지 아닌지 판별\n",
        "print('abc123'.isalnum()) #문자열이 문자와 숫자가 섞여있는지 판별\n",
        "print('abcd'.islower()) #문자열이 소문자로 구성되있는지 판별\n",
        "print('ABCD'.isupper()) #대문자 확인\n",
        "print(' '.isspace()) #공백확인"
      ],
      "metadata": {
        "colab": {
          "base_uri": "https://localhost:8080/"
        },
        "id": "mAfEHqgzDysd",
        "outputId": "807170c8-4e0c-48f4-ae65-777998a9ac5c"
      },
      "execution_count": null,
      "outputs": [
        {
          "output_type": "stream",
          "name": "stdout",
          "text": [
            "True\n",
            "True\n",
            "True\n",
            "True\n",
            "True\n",
            "True\n"
          ]
        }
      ]
    },
    {
      "cell_type": "code",
      "source": [
        "ss = input('문자열 입력: ')\n",
        "\n",
        "if ss.isdigit():\n",
        "  print('숫자입니다')\n",
        "elif ss.isalpha():\n",
        "  print('문자입니다')\n",
        "elif ss.isalnum():\n",
        "  print('문자 + 숫자 입니다')\n",
        "else:\n",
        "  print('모르겠다')"
      ],
      "metadata": {
        "colab": {
          "base_uri": "https://localhost:8080/"
        },
        "id": "tfLayARHFAbX",
        "outputId": "80d3f5da-beaa-4ab5-d76b-03d972115a24"
      },
      "execution_count": null,
      "outputs": [
        {
          "output_type": "stream",
          "name": "stdout",
          "text": [
            "문자열 입력: abcd123\n",
            "문자 + 숫자 입니다\n"
          ]
        }
      ]
    },
    {
      "cell_type": "code",
      "source": [
        "# 실습 IV\n",
        "\n",
        "ss = input('문자열을 입력하세요: ')\n",
        "\n",
        "alpha = 0; digit = 0; space = 0\n",
        "\n",
        "for i in range(len(ss)):\n",
        "\n",
        "  if ss[i].isalpha():\n",
        "    alpha += 1\n",
        "  elif ss[i].isdigit():\n",
        "    digit += 1\n",
        "  elif ss[i].isspace():\n",
        "    space += 1\n",
        "\n",
        "print('digits : {0} apaces : {1} alphas : {2}'.format(digit, space, alpha))\n",
        "\n"
      ],
      "metadata": {
        "colab": {
          "base_uri": "https://localhost:8080/"
        },
        "id": "o_cRVO_SFdTH",
        "outputId": "632844ff-84dd-49c0-df08-1915c0416e8b"
      },
      "execution_count": null,
      "outputs": [
        {
          "output_type": "stream",
          "name": "stdout",
          "text": [
            "문자열을 입력하세요: abcd 123 ok\n",
            "digits : 3 apaces : 2 alphas : 6\n"
          ]
        }
      ]
    },
    {
      "cell_type": "markdown",
      "source": [
        "## 문자열 함수"
      ],
      "metadata": {
        "id": "9mtCLN6uHdkN"
      }
    },
    {
      "cell_type": "code",
      "source": [
        "# 함수명에 대임: map() 함수\n",
        "# map(func_name, list_name)\n",
        "\n",
        "before = ['2019', '12', '31']\n",
        "after = list(map(int, before))\n",
        "print(after)\n",
        "\n",
        "print(map(int, before)) #리스트에 넣어주지 않으면 object로 반환된다\n"
      ],
      "metadata": {
        "colab": {
          "base_uri": "https://localhost:8080/"
        },
        "id": "uWAH35CnHf1U",
        "outputId": "00ef662c-ef7d-4697-c2a4-1a8d33faecef"
      },
      "execution_count": null,
      "outputs": [
        {
          "output_type": "stream",
          "name": "stdout",
          "text": [
            "[2019, 12, 31]\n",
            "<map object at 0x7f2ccbe3f4d0>\n"
          ]
        }
      ]
    },
    {
      "cell_type": "code",
      "source": [
        "def square(x):\n",
        "  return x ** 2\n",
        "\n",
        "a = [1,2,3,4,5,6,7]\n",
        "\n",
        "square_a = list(map(square, a))\n",
        "print(square_a)"
      ],
      "metadata": {
        "colab": {
          "base_uri": "https://localhost:8080/"
        },
        "id": "l6uR5hhvH7uK",
        "outputId": "c73c9f53-0132-4ba3-bf7a-fd32948a127b"
      },
      "execution_count": null,
      "outputs": [
        {
          "output_type": "stream",
          "name": "stdout",
          "text": [
            "[1, 4, 9, 16, 25, 36, 49]\n"
          ]
        }
      ]
    },
    {
      "cell_type": "markdown",
      "source": [
        "# 함수\n"
      ],
      "metadata": {
        "id": "s5niCB-PyEmx"
      }
    },
    {
      "cell_type": "markdown",
      "source": [
        "## 함수의 기본"
      ],
      "metadata": {
        "id": "eYGiuLRiyGQu"
      }
    },
    {
      "cell_type": "markdown",
      "source": [
        "함수 만들기"
      ],
      "metadata": {
        "id": "qFZUIoJ9ymt0"
      }
    },
    {
      "cell_type": "code",
      "source": [
        "def print_address():\n",
        "  print('경상북도')\n",
        "  print('울릉군 울릉읍')\n",
        "  print('독도리 산 1-96번지')\n",
        "\n",
        "print_address()"
      ],
      "metadata": {
        "colab": {
          "base_uri": "https://localhost:8080/"
        },
        "id": "dKXCQY0_yFf9",
        "outputId": "d0446943-9f6d-4edf-89f7-f7986da40802"
      },
      "execution_count": null,
      "outputs": [
        {
          "output_type": "stream",
          "name": "stdout",
          "text": [
            "경상북도\n",
            "울릉군 울릉읍\n",
            "독도리 산 1-96번지\n"
          ]
        }
      ]
    },
    {
      "cell_type": "code",
      "source": [
        "# 도전문제 (i)\n",
        "\n",
        "def print_school_address():\n",
        "  print('서울시')\n",
        "  print('동작구 상도로 369')\n",
        "  print('02-820-0144')\n",
        "\n",
        "print_school_address()"
      ],
      "metadata": {
        "colab": {
          "base_uri": "https://localhost:8080/"
        },
        "id": "yQCgT1a2yq-2",
        "outputId": "ae1ac5d0-9613-48ef-d441-3672a1f0c2cf"
      },
      "execution_count": null,
      "outputs": [
        {
          "output_type": "stream",
          "name": "stdout",
          "text": [
            "서울시\n",
            "동작구 상도로 369\n",
            "02-820-0144\n"
          ]
        }
      ]
    },
    {
      "cell_type": "code",
      "source": [
        "def hello():\n",
        "  name = input('이름을 입력하세요: ')\n",
        "  print('안녕!', name)\n",
        "\n",
        "hello()"
      ],
      "metadata": {
        "colab": {
          "base_uri": "https://localhost:8080/"
        },
        "id": "_1mbi6DHy5ac",
        "outputId": "8557becc-0f19-4f71-82ee-36cd018eace5"
      },
      "execution_count": null,
      "outputs": [
        {
          "output_type": "stream",
          "name": "stdout",
          "text": [
            "이름을 입력하세요: h\n",
            "안녕! h\n"
          ]
        }
      ]
    },
    {
      "cell_type": "markdown",
      "source": [
        "인수 추가하기"
      ],
      "metadata": {
        "id": "tpgnZ7LUzI4f"
      }
    },
    {
      "cell_type": "code",
      "source": [
        "def print_address(name):\n",
        "  print('서울 특별시 종로구 1번지')\n",
        "  print('파이썬 빌딩 7층')\n",
        "  print(name)\n",
        "\n",
        "print_address('홍길동')"
      ],
      "metadata": {
        "colab": {
          "base_uri": "https://localhost:8080/"
        },
        "id": "t9ZlhjXtzH6s",
        "outputId": "78611907-02a7-4570-96a3-6abd7828c33d"
      },
      "execution_count": null,
      "outputs": [
        {
          "output_type": "stream",
          "name": "stdout",
          "text": [
            "서울 특별시 종로구 1번지\n",
            "파이썬 빌딩 7층\n",
            "홍길동\n"
          ]
        }
      ]
    },
    {
      "cell_type": "code",
      "source": [
        "# 도전문제 (ii)\n",
        "\n",
        "def print_address2(name, address):\n",
        "  print('이름: {}'.format(name))\n",
        "  print('주소: {}'.format(address))\n",
        "\n",
        "print_address2(name = '홍길순', address = '부산광역시 남구 광안로 10번길 1-1')"
      ],
      "metadata": {
        "colab": {
          "base_uri": "https://localhost:8080/"
        },
        "id": "nB6GwLmAzdmy",
        "outputId": "1c63cd2d-3220-4ed1-b297-bc74f15f52c4"
      },
      "execution_count": null,
      "outputs": [
        {
          "output_type": "stream",
          "name": "stdout",
          "text": [
            "이름: 홍길순\n",
            "주소: 부산광역시 남구 광안로 10번길 1-1\n"
          ]
        }
      ]
    },
    {
      "cell_type": "code",
      "source": [
        "def hello(name):\n",
        "  print('안녕!', name)\n",
        "\n",
        "my_name = input('이름을 입력하시오: ')\n",
        "hello(my_name)"
      ],
      "metadata": {
        "colab": {
          "base_uri": "https://localhost:8080/"
        },
        "id": "3m1VVNlC0g_G",
        "outputId": "06724201-9000-496b-84b8-10230c57cb02"
      },
      "execution_count": null,
      "outputs": [
        {
          "output_type": "stream",
          "name": "stdout",
          "text": [
            "이름을 입력하시오안나\n",
            "안녕! 안나\n"
          ]
        }
      ]
    },
    {
      "cell_type": "markdown",
      "source": [
        "반환값 추가하기"
      ],
      "metadata": {
        "id": "7GlPN4b_08I4"
      }
    },
    {
      "cell_type": "code",
      "source": [
        "def change_name(name):\n",
        "  return name + '님'\n",
        "\n",
        "change_name('지희')"
      ],
      "metadata": {
        "colab": {
          "base_uri": "https://localhost:8080/",
          "height": 36
        },
        "id": "pkmCIBGW09jt",
        "outputId": "e8821a4c-4589-4156-8c29-3121ffd52f32"
      },
      "execution_count": null,
      "outputs": [
        {
          "output_type": "execute_result",
          "data": {
            "text/plain": [
              "'지희님'"
            ],
            "application/vnd.google.colaboratory.intrinsic+json": {
              "type": "string"
            }
          },
          "metadata": {},
          "execution_count": 16
        }
      ]
    },
    {
      "cell_type": "code",
      "source": [
        "coffee = 0\n",
        "\n",
        "coffee = int(input('어떤 커피를 드릴까요?(1:보통, 2:설탕, 3:블랙): '))\n",
        "\n",
        "print()\n",
        "print('#1. 뜨거운 물을 준비한다.')\n",
        "print('#2. 종이컵을 준비한다.')\n",
        "\n",
        "if coffee == 1:\n",
        "  print('#3. 보통 커피를 탄다')\n",
        "elif coffee == 2:\n",
        "  print('#3. 설탕커피를 탄다')\n",
        "elif coffee == 3:\n",
        "  print('#3. 블랙커피를 탄다')\n",
        "else:\n",
        "  print('#3. 아무거나 탄다.')\n",
        "\n",
        "print('#4. 물을 붓는다')\n",
        "print('#5. 스푼으로 젓는다')\n",
        "print('커피 대령')"
      ],
      "metadata": {
        "colab": {
          "base_uri": "https://localhost:8080/"
        },
        "id": "jIAnLW7N18wK",
        "outputId": "aa112333-57ba-4679-fade-385d2ff76cc0"
      },
      "execution_count": null,
      "outputs": [
        {
          "output_type": "stream",
          "name": "stdout",
          "text": [
            "어떤 커피를 드릴까요?(1:보통, 2:설탕, 3:블랙): 1\n",
            "\n",
            "#1. 뜨거운 물을 준비한다.\n",
            "#2. 종이컵을 준비한다.\n",
            "#3. 보통 커피를 탄다\n",
            "#4. 물을 붓는다\n",
            "#5. 스푼으로 젓는다\n",
            "커피 대령\n"
          ]
        }
      ]
    },
    {
      "cell_type": "code",
      "source": [
        "def coffee_machine():\n",
        "  cf_type = int(input('어떤 커피를 드릴까요(1:보통, 2:설탕, 3:블랙: '))\n",
        "  print('\\n#1. 뜨거운 물을 준비한다.')\n",
        "  print('#2. 종이컵을 준비한다.')\n",
        "\n",
        "  if cf_type == 1:\n",
        "    print('#3. 보통 커피를 탄다')\n",
        "  elif cf_type == 2:\n",
        "    print('#3. 설탕커피를 탄다')\n",
        "  elif cf_type == 3:\n",
        "    print('#3. 블랙커피를 탄다')\n",
        "  else:\n",
        "    print('#3. 아무거나 탄다.')\n",
        "\n",
        "  print('#4. 물을 붓는다')\n",
        "  print('#5. 스푼으로 젓는다')\n",
        "  print('커피 대령')\n",
        "\n",
        "\n",
        "coffee_machine()"
      ],
      "metadata": {
        "colab": {
          "base_uri": "https://localhost:8080/"
        },
        "id": "t4vm-28y39-O",
        "outputId": "9d06df31-d4d8-4bb3-e0ce-0ef7ee0d6c87"
      },
      "execution_count": null,
      "outputs": [
        {
          "output_type": "stream",
          "name": "stdout",
          "text": [
            "어떤 커피를 드릴까요(1:보통, 2:설탕, 3:블랙: 1\n",
            "\n",
            "#1. 뜨거운 물을 준비한다.\n",
            "#2. 종이컵을 준비한다.\n",
            "#3. 보통 커피를 탄다\n",
            "#4. 물을 붓는다\n",
            "#5. 스푼으로 젓는다\n",
            "커피 대령\n"
          ]
        }
      ]
    },
    {
      "cell_type": "code",
      "source": [
        "def rep_coffee_machine(count):\n",
        "  for i in range(count):\n",
        "    coffee_machine()\n",
        "    print('\\n{}번 손님 커피 여기있다'.format(i))\n",
        "\n",
        "rep_coffee_machine(2)"
      ],
      "metadata": {
        "colab": {
          "base_uri": "https://localhost:8080/"
        },
        "id": "TS2dgNZ24vNM",
        "outputId": "2bd67ccd-9418-459e-a5d4-a6b28ef35b07"
      },
      "execution_count": null,
      "outputs": [
        {
          "output_type": "stream",
          "name": "stdout",
          "text": [
            "어떤 커피를 드릴까요(1:보통, 2:설탕, 3:블랙: 0\n",
            "\n",
            "#1. 뜨거운 물을 준비한다.\n",
            "#2. 종이컵을 준비한다.\n",
            "#3. 아무거나 탄다.\n",
            "#4. 물을 붓는다\n",
            "#5. 스푼으로 젓는다\n",
            "커피 대령\n",
            "\n",
            "2번 손님 커피 여기있다\n",
            "어떤 커피를 드릴까요(1:보통, 2:설탕, 3:블랙: 1\n",
            "\n",
            "#1. 뜨거운 물을 준비한다.\n",
            "#2. 종이컵을 준비한다.\n",
            "#3. 보통 커피를 탄다\n",
            "#4. 물을 붓는다\n",
            "#5. 스푼으로 젓는다\n",
            "커피 대령\n",
            "\n",
            "2번 손님 커피 여기있다\n"
          ]
        }
      ]
    },
    {
      "cell_type": "code",
      "source": [
        "def coffee_machine():\n",
        "  cf_type = int(input('어떤 커피를 드릴까요(1:보통, 2:설탕, 3:블랙, 4:에스프레소): '))\n",
        "  print('\\n#1. 뜨거운 물을 준비한다.')\n",
        "  print('#2. 종이컵을 준비한다.')\n",
        "\n",
        "  if cf_type == 1:\n",
        "    print('#3. 보통 커피를 탄다')\n",
        "  elif cf_type == 2:\n",
        "    print('#3. 설탕커피를 탄다')\n",
        "  elif cf_type == 3:\n",
        "    print('#3. 블랙커피를 탄다')\n",
        "  else:\n",
        "    print('#3. 아무거나 탄다.')\n",
        "\n",
        "  print('#4. 물을 붓는다')\n",
        "  print('#5. 스푼으로 젓는다')\n",
        "  print('커피 대령')\n",
        "\n",
        "\n",
        "def rep_coffee_machine(name):\n",
        "  for idx, name in enumerate(name):\n",
        "    print('{}번손님 커피 준비'.format(idx))\n",
        "    coffee_machine()\n",
        "    print('\\n{}손님 커피 여기있다\\n'.format(name))\n",
        "\n",
        "rep_coffee_machine(['로제', '리사', '지수', '제니'])"
      ],
      "metadata": {
        "colab": {
          "base_uri": "https://localhost:8080/"
        },
        "id": "AZ7fopiv6DMj",
        "outputId": "3d327aa3-5003-42aa-daea-c4398107dc56"
      },
      "execution_count": null,
      "outputs": [
        {
          "output_type": "stream",
          "name": "stdout",
          "text": [
            "0번 손님 커피 준비\n",
            "어떤 커피를 드릴까요(1:보통, 2:설탕, 3:블랙, 4:에스프레소): 1\n",
            "\n",
            "#1. 뜨거운 물을 준비한다.\n",
            "#2. 종이컵을 준비한다.\n",
            "#3. 보통 커피를 탄다\n",
            "#4. 물을 붓는다\n",
            "#5. 스푼으로 젓는다\n",
            "커피 대령\n",
            "\n",
            "로제 손님 커피 여기있다\n",
            "\n",
            "1번 손님 커피 준비\n",
            "어떤 커피를 드릴까요(1:보통, 2:설탕, 3:블랙, 4:에스프레소): 2\n",
            "\n",
            "#1. 뜨거운 물을 준비한다.\n",
            "#2. 종이컵을 준비한다.\n",
            "#3. 설탕커피를 탄다\n",
            "#4. 물을 붓는다\n",
            "#5. 스푼으로 젓는다\n",
            "커피 대령\n",
            "\n",
            "리사 손님 커피 여기있다\n",
            "\n",
            "2번 손님 커피 준비\n",
            "어떤 커피를 드릴까요(1:보통, 2:설탕, 3:블랙, 4:에스프레소): 3\n",
            "\n",
            "#1. 뜨거운 물을 준비한다.\n",
            "#2. 종이컵을 준비한다.\n",
            "#3. 블랙커피를 탄다\n",
            "#4. 물을 붓는다\n",
            "#5. 스푼으로 젓는다\n",
            "커피 대령\n",
            "\n",
            "지수 손님 커피 여기있다\n",
            "\n",
            "3번 손님 커피 준비\n",
            "어떤 커피를 드릴까요(1:보통, 2:설탕, 3:블랙, 4:에스프레소): 4\n",
            "\n",
            "#1. 뜨거운 물을 준비한다.\n",
            "#2. 종이컵을 준비한다.\n",
            "#3. 아무거나 탄다.\n",
            "#4. 물을 붓는다\n",
            "#5. 스푼으로 젓는다\n",
            "커피 대령\n",
            "\n",
            "제니 손님 커피 여기있다\n",
            "\n"
          ]
        }
      ]
    },
    {
      "cell_type": "markdown",
      "source": [
        "함수의 형식과 활용"
      ],
      "metadata": {
        "id": "zlfYvTEq7kd1"
      }
    },
    {
      "cell_type": "code",
      "source": [
        "def plus(v1, v2):\n",
        "  #res = 0\n",
        "  res = v1 + v2\n",
        "  return res\n",
        "\n",
        "hap = plus(100, 200)\n",
        "print('100과 200의 plus()함수 결과는 %d'%hap)"
      ],
      "metadata": {
        "colab": {
          "base_uri": "https://localhost:8080/"
        },
        "id": "kvdoUUzK7l_x",
        "outputId": "b385e018-ae51-4c6c-8141-045a3f871d7b"
      },
      "execution_count": null,
      "outputs": [
        {
          "output_type": "stream",
          "name": "stdout",
          "text": [
            "100과 200의 plus()함수 결과는 300\n"
          ]
        }
      ]
    },
    {
      "cell_type": "markdown",
      "source": [
        "실습 (I)"
      ],
      "metadata": {
        "id": "bCRXqqfW8xna"
      }
    },
    {
      "cell_type": "code",
      "source": [
        "def happy_birthday(name):\n",
        "  print('생일을 축하합니다')\n",
        "  print('사랑하는 {}님의 생일을 축하합니다'.format(name))\n",
        "\n",
        "happy_birthday('홍길동')"
      ],
      "metadata": {
        "colab": {
          "base_uri": "https://localhost:8080/"
        },
        "id": "JYSl1ukl8O65",
        "outputId": "d2c10548-d513-4ab7-a60a-a7a9faab9516"
      },
      "execution_count": null,
      "outputs": [
        {
          "output_type": "stream",
          "name": "stdout",
          "text": [
            "생일을 축하합니다\n",
            "사랑하는 홍길동님의 생일을 축하합니다\n"
          ]
        }
      ]
    },
    {
      "cell_type": "markdown",
      "source": [
        "계산기 함수 만들기"
      ],
      "metadata": {
        "id": "jgcaZUGk9kg3"
      }
    },
    {
      "cell_type": "code",
      "source": [
        "def calc(v1, v2, op):\n",
        "  res = 0\n",
        "  if op == '+':\n",
        "    res = v1 + v2\n",
        "  elif op == '-':\n",
        "    res = v1 - v2\n",
        "  elif op == '*':\n",
        "    res = v1 * v2\n",
        "  else:\n",
        "    res = v1 / v2\n",
        "  return res"
      ],
      "metadata": {
        "id": "L5srwINd9fi0"
      },
      "execution_count": null,
      "outputs": []
    },
    {
      "cell_type": "markdown",
      "source": [
        "실습 (II)"
      ],
      "metadata": {
        "id": "79FvAw_DDwib"
      }
    },
    {
      "cell_type": "code",
      "source": [
        "#구구단\n",
        "\n",
        "def gugu():\n",
        "  num = int(input('정수를 입력하세요: '))\n",
        "  for i in range(1,10):\n",
        "    print('{} * {} = {}'.format(num, i, num*i))\n",
        "\n",
        "gugu()"
      ],
      "metadata": {
        "colab": {
          "base_uri": "https://localhost:8080/"
        },
        "id": "GXNmixrgC90z",
        "outputId": "f5f78cb6-af83-41b8-d87c-18e3e6b14993"
      },
      "execution_count": null,
      "outputs": [
        {
          "output_type": "stream",
          "name": "stdout",
          "text": [
            "정수를 입력하세요: 2\n",
            "2 * 1 = 2\n",
            "2 * 2 = 4\n",
            "2 * 3 = 6\n",
            "2 * 4 = 8\n",
            "2 * 5 = 10\n",
            "2 * 6 = 12\n",
            "2 * 7 = 14\n",
            "2 * 8 = 16\n",
            "2 * 9 = 18\n"
          ]
        }
      ]
    },
    {
      "cell_type": "markdown",
      "source": [
        "## 지역 변수와 전역 변수"
      ],
      "metadata": {
        "id": "uwuOVqAwDzzo"
      }
    },
    {
      "cell_type": "code",
      "source": [
        "def func1():\n",
        "  a = 10\n",
        "  print('func1()에서 a값 {}'.format(a))\n",
        "\n",
        "def func2():\n",
        "  print('func2()에서 a값 {}'.format(a))\n",
        "\n",
        "a = 20\n",
        "\n",
        "func1()\n",
        "func2()"
      ],
      "metadata": {
        "colab": {
          "base_uri": "https://localhost:8080/"
        },
        "id": "wZC5tEIRD3TO",
        "outputId": "ebe71430-c014-4b7c-f624-5b1b5c89a8b8"
      },
      "execution_count": null,
      "outputs": [
        {
          "output_type": "stream",
          "name": "stdout",
          "text": [
            "func1()에서 a값 10\n",
            "func2()에서 a값 20\n"
          ]
        }
      ]
    },
    {
      "cell_type": "markdown",
      "source": [
        "글로벌 예약어"
      ],
      "metadata": {
        "id": "MI0UXlEDEnTI"
      }
    },
    {
      "cell_type": "code",
      "source": [
        "def func1():\n",
        "  global a #global 예약어로 a 변수를 전역 변수로 지정\n",
        "  a = 10\n",
        "  print('func1() 에서 a값 {}'.format(a))\n",
        "\n",
        "def func2():\n",
        "  print('func2() 에서 a값 {}'.format(a))\n",
        "\n",
        "func1()\n",
        "func2()"
      ],
      "metadata": {
        "colab": {
          "base_uri": "https://localhost:8080/"
        },
        "id": "zrS31X3HEiQG",
        "outputId": "b7c1b7f0-534c-47db-dd4e-b80f0a4ab9e6"
      },
      "execution_count": null,
      "outputs": [
        {
          "output_type": "stream",
          "name": "stdout",
          "text": [
            "func1() 에서 a값 10\n",
            "func2() 에서 a값 10\n"
          ]
        }
      ]
    },
    {
      "cell_type": "markdown",
      "source": [
        "실습 (III)"
      ],
      "metadata": {
        "id": "drASEE8RFRmg"
      }
    },
    {
      "cell_type": "code",
      "source": [
        "num = input('정수를 입력하세요: ')\n",
        "res = list(map(int, list(num)))\n",
        "print(sum(res))"
      ],
      "metadata": {
        "colab": {
          "base_uri": "https://localhost:8080/"
        },
        "id": "yDis4o8eFAgG",
        "outputId": "db2abc10-632e-4994-a3d6-9043d67f3bf0"
      },
      "execution_count": null,
      "outputs": [
        {
          "output_type": "stream",
          "name": "stdout",
          "text": [
            "정수를 입력하세요: 5555\n",
            "20\n"
          ]
        }
      ]
    },
    {
      "cell_type": "markdown",
      "source": [
        "## 함수의 반환값과 매개변수"
      ],
      "metadata": {
        "id": "faYskArOIMXg"
      }
    },
    {
      "cell_type": "markdown",
      "source": [
        "실습 (IV)"
      ],
      "metadata": {
        "id": "OAL5lV_aIY2t"
      }
    },
    {
      "cell_type": "code",
      "source": [
        "# 두정수를 매개변수로 받아 둘 중 더 큰 수를 출력하는 함수를 작성\n",
        "\n",
        "first = int(input('첫 번째 정수를 입력하세요: '))\n",
        "second = int(input('두 번째 정수를 입력하세요: '))\n",
        "\n",
        "def compare_two_num(f, s):\n",
        "  if f > s:\n",
        "    print(f)\n",
        "  elif f < s:\n",
        "    print(s)\n",
        "  else:\n",
        "    print('두 숫자가 같다')\n",
        "\n",
        "compare_two_num(first, second)"
      ],
      "metadata": {
        "colab": {
          "base_uri": "https://localhost:8080/"
        },
        "id": "1KQfXg92IOMQ",
        "outputId": "f24e37b7-7ca8-45f5-9f45-fcdc029807b4"
      },
      "execution_count": null,
      "outputs": [
        {
          "output_type": "stream",
          "name": "stdout",
          "text": [
            "첫 번째 정수를 입력하세요253\n",
            "두 번째 정수를 입력하세요245\n",
            "253\n"
          ]
        }
      ]
    },
    {
      "cell_type": "code",
      "source": [
        "def get_square(a,b,c):\n",
        "  print('{0} 제곱 : {1}'.format(a, a**2), end=', ')\n",
        "  print('{0} 제곱 : {1}'.format(b, b**2), end=', ')\n",
        "  print('{0} 제곱 : {1}'.format(c, c**2))\n",
        "\n",
        "get_square(1,2,3)"
      ],
      "metadata": {
        "colab": {
          "base_uri": "https://localhost:8080/"
        },
        "id": "8pR4dlb4LvRY",
        "outputId": "0b4d3505-eb85-4798-bdc0-6a97fcb53dc8"
      },
      "execution_count": null,
      "outputs": [
        {
          "output_type": "stream",
          "name": "stdout",
          "text": [
            "1 제곱 : 1, 2 제곱 : 4, 3 제곱 : 9\n"
          ]
        }
      ]
    },
    {
      "cell_type": "markdown",
      "source": [
        "pass 예약어"
      ],
      "metadata": {
        "id": "0PUbfl9CMwKQ"
      }
    },
    {
      "cell_type": "code",
      "source": [
        "def myFunc():\n",
        "  pass\n",
        "\n",
        "if True:\n",
        "  myFunc() #pass 없으면 오류\n",
        "else:\n",
        "  print('거짓')"
      ],
      "metadata": {
        "id": "j3fe3h9fMlni"
      },
      "execution_count": null,
      "outputs": []
    },
    {
      "cell_type": "code",
      "source": [
        "# 매개변수의 개수를 지정하지 않고 전달하는 방법\n",
        "\n",
        "def para_func(*para):\n",
        "  res = 0\n",
        "  for num in para:\n",
        "    res += num\n",
        "\n",
        "  return res\n",
        "\n",
        "para_func(10, 20)"
      ],
      "metadata": {
        "colab": {
          "base_uri": "https://localhost:8080/"
        },
        "id": "A4lWv0RWN6U4",
        "outputId": "e0240501-8b1c-45e1-df4d-2194364ea4ed"
      },
      "execution_count": null,
      "outputs": [
        {
          "output_type": "execute_result",
          "data": {
            "text/plain": [
              "((10, 20), 30)"
            ]
          },
          "metadata": {},
          "execution_count": 28
        }
      ]
    },
    {
      "cell_type": "code",
      "source": [
        "# 함수를 호출할 때 딕셔너리 형식의 매개변수를 키 = 값 형식으로 사용\n",
        "\n",
        "def dic_func(**para):\n",
        "  for key, val in para.items():\n",
        "    print(\"{0} --> {1}입니다.\".format(key, val))\n",
        "\n",
        "dic_func(트와이스 = 9, 소녀시대 = 7)"
      ],
      "metadata": {
        "colab": {
          "base_uri": "https://localhost:8080/"
        },
        "id": "Gp1jZnkxOkzK",
        "outputId": "91e78c18-9367-46f3-a125-4dd62eae0824"
      },
      "execution_count": null,
      "outputs": [
        {
          "output_type": "stream",
          "name": "stdout",
          "text": [
            "트와이스 --> 9입니다.\n",
            "소녀시대 --> 7입니다.\n"
          ]
        }
      ]
    },
    {
      "cell_type": "code",
      "source": [
        "# 실습 (V)\n",
        "\n",
        "key = input('키를 입력하세요: ')\n",
        "value = input('값을 입력하세요: ')\n",
        "\n",
        "inp = {key:value}\n",
        "\n",
        "def dic_func(**para):\n",
        "  print(\"{0} : {1}\".format(para.keys(), para.values()))\n",
        "\n",
        "dic_func(key = value)"
      ],
      "metadata": {
        "colab": {
          "base_uri": "https://localhost:8080/"
        },
        "id": "zouKVKGC6MCL",
        "outputId": "502ce4ed-f502-4c73-c034-057287a53184"
      },
      "execution_count": null,
      "outputs": [
        {
          "output_type": "stream",
          "name": "stdout",
          "text": [
            "키를 입력하세요: 학교\n",
            "값을 입력하세요: 숭실대학교\n",
            "dict_keys(['key']) : dict_values(['숭실대학교'])\n"
          ]
        }
      ]
    },
    {
      "cell_type": "markdown",
      "source": [
        "## 과제 5"
      ],
      "metadata": {
        "id": "XOi92nHS51Kw"
      }
    },
    {
      "cell_type": "code",
      "source": [
        "three_num_str = input('세 수를 입력하시오: ')\n",
        "three_num = three_num_str.split()\n",
        "n1 = int(three_num[0]); n2 = int(three_num[1]); n3 = int(three_num[2])"
      ],
      "metadata": {
        "colab": {
          "base_uri": "https://localhost:8080/"
        },
        "id": "nw7SU-O12t-9",
        "outputId": "dde0f512-a322-4c07-a34e-969848823b33"
      },
      "execution_count": null,
      "outputs": [
        {
          "name": "stdout",
          "output_type": "stream",
          "text": [
            "세 수를 입력하시오: 34 66 20\n"
          ]
        }
      ]
    },
    {
      "cell_type": "code",
      "source": [
        "def max3(n1, n2, n3):\n",
        "  if n1 > n2:\n",
        "    if n1 > n3:\n",
        "      return(n1)\n",
        "    else:\n",
        "      return(n3)\n",
        "  elif n1 < n2:\n",
        "    if n2 > n3:\n",
        "      return(n2)\n",
        "    else:\n",
        "      return(n3)"
      ],
      "metadata": {
        "id": "a79-cRc02-4C"
      },
      "execution_count": null,
      "outputs": []
    },
    {
      "cell_type": "code",
      "source": [
        "def min3(n1,n2,n3):\n",
        "  if n1 < n2:\n",
        "    if n1 < n3:\n",
        "      return(n1)\n",
        "    else:\n",
        "      return(n3)\n",
        "  elif n1 > n2:\n",
        "    if n2 > n3:\n",
        "      return(n3)\n",
        "    else:\n",
        "      return(n2)"
      ],
      "metadata": {
        "id": "GGytTA154lgk"
      },
      "execution_count": null,
      "outputs": []
    },
    {
      "cell_type": "code",
      "source": [
        "print('가장 큰 수 : {}'.format(max3(n1,n2,n3)))\n",
        "print('가장 작은 수 : {}'.format(min3(n1,n2,n3)))"
      ],
      "metadata": {
        "colab": {
          "base_uri": "https://localhost:8080/"
        },
        "id": "KZ8boGlT5f1t",
        "outputId": "246c3856-4b7c-4635-9114-baacc1d06062"
      },
      "execution_count": null,
      "outputs": [
        {
          "output_type": "stream",
          "name": "stdout",
          "text": [
            "가장 큰 수 : 66\n",
            "가장 작은 수 : 20\n"
          ]
        }
      ]
    },
    {
      "cell_type": "markdown",
      "source": [
        "## 함수의 응용"
      ],
      "metadata": {
        "id": "CJZf_kC1-9WT"
      }
    },
    {
      "cell_type": "code",
      "source": [
        "g = lambda x: x**2\n",
        "print(g(8))"
      ],
      "metadata": {
        "colab": {
          "base_uri": "https://localhost:8080/"
        },
        "id": "wrNfR0g6-_9c",
        "outputId": "af864a38-4ebb-4088-840a-c4925d1e12ad"
      },
      "execution_count": null,
      "outputs": [
        {
          "output_type": "stream",
          "name": "stdout",
          "text": [
            "64\n"
          ]
        }
      ]
    },
    {
      "cell_type": "code",
      "source": [
        "f = lambda x,y : x+y\n",
        "print(f(4,4))"
      ],
      "metadata": {
        "colab": {
          "base_uri": "https://localhost:8080/"
        },
        "id": "PHpSTGWg_Eg7",
        "outputId": "3ec9db0e-dcb6-469a-d322-ac4b57bd4028"
      },
      "execution_count": null,
      "outputs": [
        {
          "output_type": "stream",
          "name": "stdout",
          "text": [
            "8\n"
          ]
        }
      ]
    },
    {
      "cell_type": "code",
      "source": [
        "def hap(num1, num2):\n",
        "  res = num1 + num2\n",
        "  return res\n",
        "\n",
        "print(hap(10, 20))"
      ],
      "metadata": {
        "colab": {
          "base_uri": "https://localhost:8080/"
        },
        "id": "ls0-pXT6_Ivg",
        "outputId": "240d8d19-e739-48b8-f36d-71b3b7f6f4c9"
      },
      "execution_count": null,
      "outputs": [
        {
          "output_type": "stream",
          "name": "stdout",
          "text": [
            "30\n"
          ]
        }
      ]
    },
    {
      "cell_type": "code",
      "source": [
        "hap2 = lambda x,y : x+y\n",
        "print(hap2(10,20))"
      ],
      "metadata": {
        "colab": {
          "base_uri": "https://localhost:8080/"
        },
        "id": "YusxDGHu_RF2",
        "outputId": "d6ba2ca7-5a4a-468e-d407-fcf07d6899a4"
      },
      "execution_count": null,
      "outputs": [
        {
          "output_type": "stream",
          "name": "stdout",
          "text": [
            "30\n"
          ]
        }
      ]
    },
    {
      "cell_type": "code",
      "source": [
        "hap3 = lambda num1 = 10, num2 = 10: num1 + num2\n",
        "print(hap3())\n",
        "print(hap3(100,200))"
      ],
      "metadata": {
        "colab": {
          "base_uri": "https://localhost:8080/"
        },
        "id": "GjNBG_cx_Yck",
        "outputId": "e7931130-651c-4bef-9a54-1c2dedc7fc28"
      },
      "execution_count": null,
      "outputs": [
        {
          "output_type": "stream",
          "name": "stdout",
          "text": [
            "20\n",
            "300\n"
          ]
        }
      ]
    },
    {
      "cell_type": "code",
      "source": [
        "# 리스트에 모두 10을 더하는 코드\n",
        "\n",
        "myList = [1,2,3,4,5]\n",
        "\n",
        "def add10(num):\n",
        "  return num + 10\n",
        "\n",
        "for idx, val in enumerate(myList):\n",
        "  myList[idx] = add10(val)\n",
        "\n",
        "myList"
      ],
      "metadata": {
        "colab": {
          "base_uri": "https://localhost:8080/"
        },
        "id": "99gfzwDY_ezK",
        "outputId": "b5d5102a-f829-4348-ad38-6c993e54c6f9"
      },
      "execution_count": null,
      "outputs": [
        {
          "output_type": "execute_result",
          "data": {
            "text/plain": [
              "[11, 12, 13, 14, 15]"
            ]
          },
          "metadata": {},
          "execution_count": 13
        }
      ]
    },
    {
      "cell_type": "code",
      "source": [
        "myList = [1,2,3,4,5]\n",
        "add1 = lambda num : num + 10\n",
        "list(map(add1, myList))"
      ],
      "metadata": {
        "colab": {
          "base_uri": "https://localhost:8080/"
        },
        "id": "r9IusfLl_45w",
        "outputId": "c6bf58b3-49b2-4f69-ee74-d3a3f2abe6f2"
      },
      "execution_count": null,
      "outputs": [
        {
          "output_type": "execute_result",
          "data": {
            "text/plain": [
              "[11, 12, 13, 14, 15]"
            ]
          },
          "metadata": {},
          "execution_count": 14
        }
      ]
    },
    {
      "cell_type": "code",
      "source": [
        "myList = [1,2,3,4,5]\n",
        "list(map(lambda x: x+10, myList))"
      ],
      "metadata": {
        "colab": {
          "base_uri": "https://localhost:8080/"
        },
        "id": "N4zLYRr1ANQ8",
        "outputId": "73072ebb-275b-4560-8da8-c49e76156e37"
      },
      "execution_count": null,
      "outputs": [
        {
          "output_type": "execute_result",
          "data": {
            "text/plain": [
              "[11, 12, 13, 14, 15]"
            ]
          },
          "metadata": {},
          "execution_count": 15
        }
      ]
    },
    {
      "cell_type": "code",
      "source": [
        "list1 = [1,2,3,4]\n",
        "list2 = [10,20,30,40]\n",
        "\n",
        "list(map(lambda x,y : x+y, list1, list2))"
      ],
      "metadata": {
        "colab": {
          "base_uri": "https://localhost:8080/"
        },
        "id": "ovKbmTsjAYWC",
        "outputId": "df502162-9a2e-47e1-8b83-8d1cca711021"
      },
      "execution_count": null,
      "outputs": [
        {
          "output_type": "execute_result",
          "data": {
            "text/plain": [
              "[12, 24, 36, 48]"
            ]
          },
          "metadata": {},
          "execution_count": 17
        }
      ]
    },
    {
      "cell_type": "markdown",
      "source": [
        "# 클래스"
      ],
      "metadata": {
        "id": "W-Y-sxyqCFBj"
      }
    },
    {
      "cell_type": "markdown",
      "source": [
        "## 클래스의 개념"
      ],
      "metadata": {
        "id": "36GD2uYlCGk4"
      }
    },
    {
      "cell_type": "code",
      "source": [
        "text = 'abc'\n",
        "print(type(text))\n",
        "print(id(text)) #고유한 값"
      ],
      "metadata": {
        "colab": {
          "base_uri": "https://localhost:8080/"
        },
        "id": "qQlPzwwmCIJs",
        "outputId": "9211ace9-3be6-494c-d9cf-e20e68846074"
      },
      "execution_count": null,
      "outputs": [
        {
          "output_type": "stream",
          "name": "stdout",
          "text": [
            "<class 'str'>\n",
            "140029111691120\n"
          ]
        }
      ]
    },
    {
      "cell_type": "code",
      "source": [
        "text2 = 'abcd'\n",
        "print(type(text2))\n",
        "print(id(text2)) #text1의 id와 다르다"
      ],
      "metadata": {
        "colab": {
          "base_uri": "https://localhost:8080/"
        },
        "id": "4oRQmuFMDi0R",
        "outputId": "66a87fa9-4da3-4c08-e24e-2effa9fc974d"
      },
      "execution_count": null,
      "outputs": [
        {
          "output_type": "stream",
          "name": "stdout",
          "text": [
            "<class 'str'>\n",
            "140028560412528\n"
          ]
        }
      ]
    },
    {
      "cell_type": "code",
      "source": [
        "# 자동차 클래스를 파이썬 코드로 구현\n",
        "\n",
        "class Car:\n",
        "  color = \"\"\n",
        "  speed = 0\n",
        "\n",
        "  def upSpeed(self, value):\n",
        "    self.speed += value\n",
        "\n",
        "  def downSpeed(self, value):\n",
        "    self.speed -= value\n"
      ],
      "metadata": {
        "id": "_q2Dp7MhDpTd"
      },
      "execution_count": null,
      "outputs": []
    },
    {
      "cell_type": "code",
      "source": [
        "myCar1 = Car()"
      ],
      "metadata": {
        "id": "U2ppEjL6Ettr"
      },
      "execution_count": null,
      "outputs": []
    },
    {
      "cell_type": "code",
      "source": [
        "myCar1.speed = 0"
      ],
      "metadata": {
        "id": "X2NpCyglE5w2"
      },
      "execution_count": null,
      "outputs": []
    },
    {
      "cell_type": "code",
      "source": [
        "myCar1.upSpeed(30)"
      ],
      "metadata": {
        "id": "wQOy4VreE9dJ"
      },
      "execution_count": null,
      "outputs": []
    },
    {
      "cell_type": "code",
      "source": [
        "myCar1.speed"
      ],
      "metadata": {
        "colab": {
          "base_uri": "https://localhost:8080/"
        },
        "id": "BGLzTrnDFLh8",
        "outputId": "173cf398-54dc-42f3-9599-80eb1bfaf481"
      },
      "execution_count": null,
      "outputs": [
        {
          "output_type": "execute_result",
          "data": {
            "text/plain": [
              "30"
            ]
          },
          "metadata": {},
          "execution_count": 27
        }
      ]
    },
    {
      "cell_type": "code",
      "source": [
        "class car:\n",
        "  color = \"\"\n",
        "  speed = 0\n",
        "\n",
        "  def upspeed(self, value):\n",
        "    self.speed += value\n",
        "\n",
        "  def downspeed(self, value):\n",
        "    self.speed -= value"
      ],
      "metadata": {
        "id": "Vu41B_-TGGVo"
      },
      "execution_count": null,
      "outputs": []
    },
    {
      "cell_type": "code",
      "source": [
        "aa1 = car()\n",
        "aa2 = car()"
      ],
      "metadata": {
        "id": "H8IQp9g5GVYU"
      },
      "execution_count": null,
      "outputs": []
    },
    {
      "cell_type": "code",
      "source": [
        "aa1.speed = 0\n",
        "aa1.color = 'red'\n",
        "\n",
        "aa2.speed = 0\n",
        "aa2.color = 'blue'"
      ],
      "metadata": {
        "id": "3Vwa1oRTGYXB"
      },
      "execution_count": null,
      "outputs": []
    },
    {
      "cell_type": "code",
      "source": [
        "aa1.upspeed(30)\n",
        "aa2.upspeed(60)"
      ],
      "metadata": {
        "id": "Pqy7AfQ_GeoJ"
      },
      "execution_count": null,
      "outputs": []
    },
    {
      "cell_type": "code",
      "source": [
        "print('자동차 1의 색상은 {0}이며, 현재 속도는 {1}입니다.'.format(aa1.color, aa1.speed))\n",
        "print('자동차 2의 색상은 {0}이며, 현재 속도는 {1}입니다.'.format(aa2.color, aa2.speed))"
      ],
      "metadata": {
        "colab": {
          "base_uri": "https://localhost:8080/"
        },
        "id": "2J2slxydGm-9",
        "outputId": "380a3c43-52e7-4553-a555-02932b6a8fa6"
      },
      "execution_count": null,
      "outputs": [
        {
          "output_type": "stream",
          "name": "stdout",
          "text": [
            "자동차 1의 색상은 red이며, 현재 속도는 30입니다.\n",
            "자동차 2의 색상은 blue이며, 현재 속도는 60입니다.\n"
          ]
        }
      ]
    },
    {
      "cell_type": "code",
      "source": [
        "class car:\n",
        "  color = \"\"\n",
        "  speed = 0\n",
        "\n",
        "  def upspeed(self, value):\n",
        "    self.speed += value\n",
        "    if self.speed >= 150:\n",
        "      self.speed = 150\n",
        "\n",
        "  def downspeed(self, value):\n",
        "    self.speed -= value"
      ],
      "metadata": {
        "id": "WKYskebtHwBV"
      },
      "execution_count": null,
      "outputs": []
    },
    {
      "cell_type": "code",
      "source": [
        "c1 = car()"
      ],
      "metadata": {
        "id": "VqTZAAvWH_ZB"
      },
      "execution_count": null,
      "outputs": []
    },
    {
      "cell_type": "code",
      "source": [
        "c1.speed = 0\n",
        "c1.upspeed(180)\n",
        "c1.speed"
      ],
      "metadata": {
        "colab": {
          "base_uri": "https://localhost:8080/"
        },
        "id": "GFe4nSvBICgM",
        "outputId": "46d5c437-2150-424b-c08d-fd2e25ec4b63"
      },
      "execution_count": null,
      "outputs": [
        {
          "output_type": "execute_result",
          "data": {
            "text/plain": [
              "150"
            ]
          },
          "metadata": {},
          "execution_count": 48
        }
      ]
    },
    {
      "cell_type": "code",
      "source": [
        "class bookreader:\n",
        "  name = \"\"\n",
        "  def read_book(self):\n",
        "    print(self.name + ' is reading Book!!')"
      ],
      "metadata": {
        "id": "k9KVKIXII82p"
      },
      "execution_count": null,
      "outputs": []
    },
    {
      "cell_type": "code",
      "source": [
        "reader = bookreader()"
      ],
      "metadata": {
        "id": "wyHV4dNAKMJU"
      },
      "execution_count": null,
      "outputs": []
    },
    {
      "cell_type": "code",
      "source": [
        "reader.name = 'chris'\n",
        "reader.read_book()"
      ],
      "metadata": {
        "colab": {
          "base_uri": "https://localhost:8080/"
        },
        "id": "g-CdXQOAKPTn",
        "outputId": "d45f41ca-9cca-4b8c-85cd-b1bde4d40ce4"
      },
      "execution_count": null,
      "outputs": [
        {
          "output_type": "stream",
          "name": "stdout",
          "text": [
            "chris is reading Book!!\n"
          ]
        }
      ]
    },
    {
      "cell_type": "markdown",
      "source": [
        "## 생성자"
      ],
      "metadata": {
        "id": "IZFj3FU1LIVj"
      }
    },
    {
      "cell_type": "code",
      "source": [
        "# __init__\n",
        "\n",
        "class Car:\n",
        "  color = \"\"\n",
        "  speed = 0\n",
        "\n",
        "  def __init__(self):\n",
        "    self.color = 'red'\n",
        "    self.speed = 0\n",
        "\n",
        "  def upspeed(self, value):\n",
        "    self.speed += value\n",
        "\n",
        "  def downspeed(self, value):\n",
        "    self.speed -= value\n",
        "    if self.speed <= 0:\n",
        "      self.speed = 0\n"
      ],
      "metadata": {
        "id": "tAsC4O62KUDj"
      },
      "execution_count": null,
      "outputs": []
    },
    {
      "cell_type": "code",
      "source": [
        "a1 = Car()\n",
        "a2 = Car()"
      ],
      "metadata": {
        "id": "5aOMi-EML9N6"
      },
      "execution_count": null,
      "outputs": []
    },
    {
      "cell_type": "code",
      "source": [
        "print('a1 color : {0}, speed = {1}'.format(a1.color, a1.speed))"
      ],
      "metadata": {
        "colab": {
          "base_uri": "https://localhost:8080/"
        },
        "id": "tKjowSkfL_cg",
        "outputId": "29e2494e-0d0d-4a90-ecf9-23e697e240b0"
      },
      "execution_count": null,
      "outputs": [
        {
          "output_type": "stream",
          "name": "stdout",
          "text": [
            "a1 color : red, speed = 0\n"
          ]
        }
      ]
    },
    {
      "cell_type": "code",
      "source": [
        "class block_factory:\n",
        "  def __init__(self, company, color, shape):\n",
        "    self.company = company\n",
        "    self.color = color\n",
        "    self.shape = shape\n",
        "\n",
        "newblock = block_factory('Gole', 'blue', 'long')"
      ],
      "metadata": {
        "id": "dBQ4Udl6M9B3"
      },
      "execution_count": null,
      "outputs": []
    },
    {
      "cell_type": "code",
      "source": [
        "#실습 (I)\n",
        "\n",
        "class calculator:\n",
        "  def plus(self, x, y):\n",
        "    return x + y\n",
        "\n",
        "  def minus(self, x, y):\n",
        "    return x - y\n",
        "\n",
        "  def multiply(self, x, y):\n",
        "    return x * y\n",
        "\n",
        "  def divide(self, x, y):\n",
        "    return x / y\n",
        "\n",
        "calc = calculator()"
      ],
      "metadata": {
        "id": "sGAjp81EN6Do"
      },
      "execution_count": null,
      "outputs": []
    },
    {
      "cell_type": "code",
      "source": [
        "class cal:\n",
        "  def plus(self):\n",
        "    return self.x + self.y\n"
      ],
      "metadata": {
        "id": "vahedeBLQbzi"
      },
      "execution_count": null,
      "outputs": []
    },
    {
      "cell_type": "code",
      "source": [
        "calc.plus(10, 20)"
      ],
      "metadata": {
        "colab": {
          "base_uri": "https://localhost:8080/"
        },
        "id": "I-6VX1i2Ok-u",
        "outputId": "1f9ff72d-20f7-4e6a-e480-a076990f1e29"
      },
      "execution_count": null,
      "outputs": [
        {
          "output_type": "execute_result",
          "data": {
            "text/plain": [
              "30"
            ]
          },
          "metadata": {},
          "execution_count": 59
        }
      ]
    },
    {
      "cell_type": "code",
      "source": [
        "## 객체지향 개념 적용\n",
        "\n",
        "class Car:\n",
        "  name = ''\n",
        "  speed = 0\n",
        "\n",
        "  def __init__(self, name, speed):\n",
        "    self.name = name\n",
        "    self.speed = speed\n",
        "\n",
        "  def getName(self):\n",
        "    return self.name\n",
        "\n",
        "  def getSpeed(self):\n",
        "    return self.speed"
      ],
      "metadata": {
        "id": "wlj_HIL14-7y"
      },
      "execution_count": null,
      "outputs": []
    },
    {
      "cell_type": "code",
      "source": [
        "c1 = Car('아우디', 0)\n",
        "c2 = Car('벤츠', 30)\n",
        "\n",
        "print('{0}의 현재 속도는 {1}입니다'.format(c1.getName(), c1.getSpeed()))"
      ],
      "metadata": {
        "colab": {
          "base_uri": "https://localhost:8080/"
        },
        "id": "hPn89vwx5fdT",
        "outputId": "f6edd677-7b20-4d03-da9e-ea7efa8b9705"
      },
      "execution_count": null,
      "outputs": [
        {
          "output_type": "stream",
          "name": "stdout",
          "text": [
            "아우디의 현재 속도는 0입니다\n"
          ]
        }
      ]
    },
    {
      "cell_type": "markdown",
      "source": [
        "## 클래스 변수와 인스턴스 변수  \n",
        "클래스 변수: class.name  \n",
        "인스턴스 변수: self.name"
      ],
      "metadata": {
        "id": "SY9dtk8C6uKC"
      }
    },
    {
      "cell_type": "code",
      "source": [
        "class Car:\n",
        "  color = \"\"\n",
        "  speed = 0\n",
        "  count = 0\n",
        "\n",
        "  def __init__(self):\n",
        "    self.speed = 0\n",
        "    Car.count += 1"
      ],
      "metadata": {
        "id": "0vtDrUW66nXV"
      },
      "execution_count": null,
      "outputs": []
    },
    {
      "cell_type": "code",
      "source": [
        "c1 = Car()\n",
        "c1.speed = 30\n",
        "\n",
        "print('속도: {}, 생산량: {}'.format(c1.speed, c1.count))"
      ],
      "metadata": {
        "colab": {
          "base_uri": "https://localhost:8080/"
        },
        "id": "c67moGEB7XIo",
        "outputId": "0e27edbf-02ea-4c2f-d90d-2a43ffc16595"
      },
      "execution_count": null,
      "outputs": [
        {
          "output_type": "stream",
          "name": "stdout",
          "text": [
            "속도: 30, 생산량: 1\n"
          ]
        }
      ]
    },
    {
      "cell_type": "code",
      "source": [
        "c2 = Car()\n",
        "c2.speed = 60\n",
        "\n",
        "print('speed:{}, product:{}'.format(c1.speed, c1.count))"
      ],
      "metadata": {
        "colab": {
          "base_uri": "https://localhost:8080/"
        },
        "id": "Cd8OtzR27rg7",
        "outputId": "112fad6a-4fb4-4104-860d-5cade35e37b8"
      },
      "execution_count": null,
      "outputs": [
        {
          "output_type": "stream",
          "name": "stdout",
          "text": [
            "speed:30, product:2\n"
          ]
        }
      ]
    },
    {
      "cell_type": "markdown",
      "source": [
        "## 클래스의 상속"
      ],
      "metadata": {
        "id": "G4JiGpcZ73t9"
      }
    },
    {
      "cell_type": "code",
      "source": [
        "##부모 클래스\n",
        "\n",
        "class Car:\n",
        "  speed = 0\n",
        "  def upSpeed(self, value):\n",
        "    self.speed += value\n",
        "    print('현재 속도(부모 클래스): %d'%self.speed)"
      ],
      "metadata": {
        "id": "NSzpAVn175WK"
      },
      "execution_count": null,
      "outputs": []
    },
    {
      "cell_type": "code",
      "source": [
        "## 자식 클래스\n",
        "\n",
        "class Sedan(Car):\n",
        "  def upSpeed(self, value): #메서드 오버라이딩(메서드 재정의)\n",
        "    self.speed += value\n",
        "    if self.speed > 150:\n",
        "      self.speed = 150\n",
        "\n",
        "    print('현재 속도(자식클래스): %d'%self.speed)\n",
        "\n",
        "class Truck(Car):\n",
        "  pass\n",
        "\n",
        "class Sonata(Sedan):\n",
        "  pass"
      ],
      "metadata": {
        "id": "Axr3TAN99Wn0"
      },
      "execution_count": null,
      "outputs": []
    },
    {
      "cell_type": "code",
      "source": [
        "t = Truck()\n",
        "s = Sedan()\n",
        "so = Sonata()"
      ],
      "metadata": {
        "id": "Spcd-gKr9wYr"
      },
      "execution_count": null,
      "outputs": []
    },
    {
      "cell_type": "code",
      "source": [
        "t.upSpeed(200)\n",
        "s.upSpeed(200)\n",
        "so.upSpeed(200)"
      ],
      "metadata": {
        "colab": {
          "base_uri": "https://localhost:8080/"
        },
        "id": "oc3bt-8E900h",
        "outputId": "97d88c18-4905-4a2c-c1c7-c824caa07e52"
      },
      "execution_count": null,
      "outputs": [
        {
          "output_type": "stream",
          "name": "stdout",
          "text": [
            "현재 속도(부모 클래스): 400\n",
            "현재 속도(자식클래스): 150\n",
            "현재 속도(자식클래스): 150\n"
          ]
        }
      ]
    },
    {
      "cell_type": "markdown",
      "source": [
        "## 객체지향 프로그래밍의 심화"
      ],
      "metadata": {
        "id": "YCCA6BH0BHgA"
      }
    },
    {
      "cell_type": "code",
      "source": [
        "class Line:\n",
        "  length = 0\n",
        "  def __init__(self, length):\n",
        "    self.length = length\n",
        "    print(self.length, 'spawn line')\n",
        "\n",
        "  def __del__(self):\n",
        "    print(self.length, 'del line')\n",
        "\n",
        "  def __repr__(self):\n",
        "    return '선의 길이' + str(self.length)\n",
        "\n",
        "  def __add__(self, other):\n",
        "    return self.length + other.length\n",
        "\n",
        "  def __lt__(self, other):\n",
        "    return self.length < other.length\n",
        "\n",
        "  def __eq__(self, other):\n",
        "    return self.length == other.length"
      ],
      "metadata": {
        "id": "RkttQHt_BG95"
      },
      "execution_count": null,
      "outputs": []
    },
    {
      "cell_type": "code",
      "source": [
        "l1 = Line(300)\n",
        "l2 = Line(200)"
      ],
      "metadata": {
        "colab": {
          "base_uri": "https://localhost:8080/"
        },
        "id": "xeIfYfy9CE4b",
        "outputId": "0046a3aa-7abc-44bb-8777-4028d45a9519"
      },
      "execution_count": null,
      "outputs": [
        {
          "output_type": "stream",
          "name": "stdout",
          "text": [
            "300 spawn line\n",
            "200 spawn line\n",
            "300 del line\n",
            "200 del line\n"
          ]
        }
      ]
    },
    {
      "cell_type": "markdown",
      "source": [
        "##과제 6"
      ],
      "metadata": {
        "id": "-uUyeqeV9WZ-"
      }
    },
    {
      "cell_type": "code",
      "source": [
        "class score_process:\n",
        "\n",
        "  def __init__(self):\n",
        "    self.name = input('이름 입력: ')\n",
        "    self.mid_score = int(input('중간고사 성적 입력: '))\n",
        "    self.fin_score = int(input('기말고사 성적 입력: '))\n",
        "    self.hw_score = int(input('과제 성적 입력: '))\n",
        "\n",
        "  def sum_score(self):\n",
        "    return (self.mid_score + self.fin_score + self.hw_score)\n",
        "\n",
        "  def mean_score(self):\n",
        "    return ((self.mid_score + self.fin_score + self.hw_score)/3)"
      ],
      "metadata": {
        "id": "jOxx9FnG9Xfn"
      },
      "execution_count": null,
      "outputs": []
    },
    {
      "cell_type": "code",
      "source": [
        "score = score_process()\n",
        "print('학생 이름:', score.name)\n",
        "print('합계', score.sum_score())\n",
        "print('평균', score.mean_score())"
      ],
      "metadata": {
        "colab": {
          "base_uri": "https://localhost:8080/"
        },
        "id": "iIJsT7Ig_yvO",
        "outputId": "0a7ea777-d5a5-48b3-e68e-90ef468e0489"
      },
      "execution_count": null,
      "outputs": [
        {
          "output_type": "stream",
          "name": "stdout",
          "text": [
            "이름 입력: 홍길동\n",
            "중간고사 성적 입력: 60\n",
            "기말고사 성적 입력: 70\n",
            "과제 성적 입력: 80\n",
            "학생 이름: 홍길동\n",
            "합계 210\n",
            "평균 70.0\n"
          ]
        }
      ]
    },
    {
      "cell_type": "markdown",
      "source": [
        "# 파일 입출력"
      ],
      "metadata": {
        "id": "orwPI6gYHu9q"
      }
    },
    {
      "cell_type": "markdown",
      "source": [
        "## 파일 입출력의 기본"
      ],
      "metadata": {
        "id": "X1mc2u2gHwy9"
      }
    },
    {
      "cell_type": "code",
      "source": [
        "import os\n",
        "\n",
        "os.getcwd()\n",
        "os.chdir('/content/drive/MyDrive/Colab Notebooks/Notes/파이썬 기초 /data')"
      ],
      "metadata": {
        "id": "DJLdfHS_HwB3"
      },
      "execution_count": null,
      "outputs": []
    },
    {
      "cell_type": "code",
      "source": [
        "f = open('data1.txt', 'w')"
      ],
      "metadata": {
        "id": "kJX9hCPfJqpI"
      },
      "execution_count": null,
      "outputs": []
    },
    {
      "cell_type": "code",
      "source": [
        "f.write('study python\\nit is fun \\ngood python')\n",
        "f.close()"
      ],
      "metadata": {
        "colab": {
          "base_uri": "https://localhost:8080/"
        },
        "id": "RrWQEcZVKT5m",
        "outputId": "d7d60699-5c1b-4b02-f437-e09a7e1f7ec8"
      },
      "execution_count": null,
      "outputs": [
        {
          "output_type": "execute_result",
          "data": {
            "text/plain": [
              "35"
            ]
          },
          "metadata": {},
          "execution_count": 121
        }
      ]
    },
    {
      "cell_type": "code",
      "source": [
        "# 한줄씩 읽기\n",
        "\n",
        "f1 = open('data1.txt', 'r')\n",
        "\n",
        "instr = f1.readline()\n",
        "print(instr, end=\"\")\n",
        "\n",
        "f1.close()"
      ],
      "metadata": {
        "colab": {
          "base_uri": "https://localhost:8080/"
        },
        "id": "dYTX4HIvKqyU",
        "outputId": "90317f1f-0641-4fb6-99cd-48439f4c09c6"
      },
      "execution_count": null,
      "outputs": [
        {
          "output_type": "stream",
          "name": "stdout",
          "text": [
            "study python\n"
          ]
        }
      ]
    },
    {
      "cell_type": "code",
      "source": [
        "# 여러줄 한번에 읽기\n",
        "\n",
        "f1 = open('data1.txt', 'r')\n",
        "\n",
        "i = 1\n",
        "while True:\n",
        "  instr = f1.readline()\n",
        "  if instr == \"\":\n",
        "    break\n",
        "  print(i,':',instr, end = \"\")\n",
        "  i+=1\n",
        "\n",
        "f1.close()"
      ],
      "metadata": {
        "colab": {
          "base_uri": "https://localhost:8080/"
        },
        "id": "ZsuEYca4LXq8",
        "outputId": "575a7804-3c0d-4c32-bd11-c57760ade9e5"
      },
      "execution_count": null,
      "outputs": [
        {
          "output_type": "stream",
          "name": "stdout",
          "text": [
            "1 : study python\n",
            "2 : it is fun \n",
            "3 : good python"
          ]
        }
      ]
    },
    {
      "cell_type": "code",
      "source": [
        "# readlines()함수 : 파일의 내용을 통째로 읽어서 리스트에 저장\n",
        "\n",
        "f = open('data1.txt', 'r')\n",
        "inlist = f.readlines()\n",
        "print(inlist)\n",
        "\n",
        "for idx, s in enumerate(inlist):\n",
        "  print(idx,':',s, end = \"\")\n",
        "\n",
        "f.close()"
      ],
      "metadata": {
        "colab": {
          "base_uri": "https://localhost:8080/"
        },
        "id": "GB-3BPrZLals",
        "outputId": "29af718b-3c55-41e5-c946-670559a58596"
      },
      "execution_count": null,
      "outputs": [
        {
          "output_type": "stream",
          "name": "stdout",
          "text": [
            "['study python\\n', 'it is fun \\n', 'good python']\n",
            "0 : study python\n",
            "1 : it is fun \n",
            "2 : good python"
          ]
        }
      ]
    },
    {
      "cell_type": "markdown",
      "source": [
        "## 텍스트 파일 입출력"
      ],
      "metadata": {
        "id": "lx8MaxgzRGUS"
      }
    },
    {
      "cell_type": "code",
      "source": [
        "# 파일을 열 때 오류 처리 : os.path.exists()\n",
        "\n",
        "import os\n",
        "\n",
        "f = None\n",
        "fname, inlist, instr = '',[],''\n",
        "\n",
        "fname = input('파일명을 입력하세요: ')\n",
        "\n",
        "if os.path.exists(fname):\n",
        "  f = open(fname, 'r')\n",
        "\n",
        "  inlist = f.readlines()\n",
        "  for i in inlist:\n",
        "    print(i, end = '')\n",
        "\n",
        "  f.close()\n",
        "else:\n",
        "  print('{}파일이 없습니다.'.format(fname))"
      ],
      "metadata": {
        "colab": {
          "base_uri": "https://localhost:8080/"
        },
        "id": "Rxu5NhMMNaV9",
        "outputId": "b1eba4f0-7ea9-4a8a-fedb-9b4320eeea6d"
      },
      "execution_count": null,
      "outputs": [
        {
          "output_type": "stream",
          "name": "stdout",
          "text": [
            "파일명을 입력하세요: data1.txt\n",
            "study python\n",
            "it is fun \n",
            "good python"
          ]
        }
      ]
    },
    {
      "cell_type": "code",
      "source": [
        "f = open('data2.txt', 'w')\n",
        "\n",
        "while True:\n",
        "  s = input('내용 입력: ')\n",
        "\n",
        "  if s is not \"\":\n",
        "    f.writelines(s + '\\n') # 리스트에 담긴 문자열을 한번에 쓰기 가능\n",
        "    #f.write: 한줄씩 쓰기\n",
        "  else: break\n",
        "\n",
        "f.close()\n",
        "print('complete')"
      ],
      "metadata": {
        "colab": {
          "base_uri": "https://localhost:8080/"
        },
        "id": "0aaClPCFRHj9",
        "outputId": "2392f957-3ccb-40a9-d1ad-e2134e6e70ba"
      },
      "execution_count": null,
      "outputs": [
        {
          "output_type": "stream",
          "name": "stdout",
          "text": [
            "내용 입력: python\n",
            "내용 입력: study\n",
            "내용 입력: hard\n",
            "내용 입력: \n",
            "complete\n"
          ]
        }
      ]
    },
    {
      "cell_type": "code",
      "source": [
        "# 실습 I\n",
        "\n",
        "f = open('Text.txt', 'w')\n",
        "\n",
        "for i in range(1,11):\n",
        "  f.write(str(i) + '\\n')\n",
        "\n",
        "f.close()\n",
        "\n",
        "\n",
        "f1 = open('Text1.txt', 'w')\n",
        "\n",
        "for i in range(101):\n",
        "  if i % 2 == 0:\n",
        "    f1.write(str(i) + '\\n')\n",
        "  else:\n",
        "    continue\n",
        "\n",
        "f1.close()"
      ],
      "metadata": {
        "id": "a-U0usQOSZn5"
      },
      "execution_count": null,
      "outputs": []
    },
    {
      "cell_type": "code",
      "source": [
        "f = open('Text1.txt', 'r')\n",
        "\n",
        "while True:\n",
        "  s = f.readline()\n",
        "  if s is not \"\":\n",
        "    print(s, end = \"\")\n",
        "  else:\n",
        "    break\n",
        "\n",
        "f.close()"
      ],
      "metadata": {
        "id": "6Qic--1jVvSU"
      },
      "execution_count": null,
      "outputs": []
    },
    {
      "cell_type": "code",
      "source": [
        "#파일 내용 암호화 및 복호화하기\n",
        "\n",
        "print(ord('w')) #문자의 아스키 코드 값 리턴\n",
        "\n",
        "print(chr(ord('w'))) #아스키 코드를 입력받아 해당하는 문자를 출력"
      ],
      "metadata": {
        "colab": {
          "base_uri": "https://localhost:8080/"
        },
        "id": "YYL3KseD-2UE",
        "outputId": "57a55f3a-c2e2-454e-83e4-2b21f00e31e8"
      },
      "execution_count": null,
      "outputs": [
        {
          "output_type": "stream",
          "name": "stdout",
          "text": [
            "119\n",
            "w\n"
          ]
        }
      ]
    },
    {
      "cell_type": "code",
      "source": [
        "print(ord('파'))\n",
        "print(chr(ord('파')+100)) # 100을 더해서 암호화\n",
        "\n",
        "num = ord('파') + 100\n",
        "print(chr(num-100)) # 100을 빼서 복호화"
      ],
      "metadata": {
        "colab": {
          "base_uri": "https://localhost:8080/"
        },
        "id": "f8-4VaKo_GqM",
        "outputId": "508a3a07-ef2c-41ba-ebe8-b2d5a82a6853"
      },
      "execution_count": null,
      "outputs": [
        {
          "output_type": "stream",
          "name": "stdout",
          "text": [
            "54028\n",
            "퍰\n",
            "파\n"
          ]
        }
      ]
    },
    {
      "cell_type": "code",
      "source": [
        "f = open('normal.txt', 'w')\n",
        "\n",
        "while True:\n",
        "  s = input('내용을 입력하시오: ')\n",
        "\n",
        "  if s is not \"\":\n",
        "    f.writelines(s + '\\n')\n",
        "\n",
        "  else:\n",
        "    break\n",
        "f.close()"
      ],
      "metadata": {
        "colab": {
          "base_uri": "https://localhost:8080/"
        },
        "id": "JqLbFaoAAGmn",
        "outputId": "ab97e0e4-1a3d-4635-de90-f7e6e0575dd4"
      },
      "execution_count": null,
      "outputs": [
        {
          "name": "stdout",
          "output_type": "stream",
          "text": [
            "내용을 입력하시오: 안녕하세요?\n",
            "내용을 입력하시오: 저는 파이썬을\n",
            "내용을 입력하시오: 공부하고있습니다.\n",
            "내용을 입력하시오: \n"
          ]
        }
      ]
    },
    {
      "cell_type": "code",
      "source": [
        "f = open('normal.txt', 'r')\n",
        "print(f.readlines())\n",
        "f.close()"
      ],
      "metadata": {
        "colab": {
          "base_uri": "https://localhost:8080/"
        },
        "id": "JLpRVVKCAvj1",
        "outputId": "da9302f0-e9b3-417c-b7bd-1d6f3ca6d248"
      },
      "execution_count": null,
      "outputs": [
        {
          "output_type": "stream",
          "name": "stdout",
          "text": [
            "['안녕하세요?\\n', '저는 파이썬을\\n', '공부하고있습니다.\\n']\n"
          ]
        }
      ]
    },
    {
      "cell_type": "code",
      "source": [
        "i = 0\n",
        "secu = 0\n",
        "\n",
        "secuYN = input('1.암호화 2.암호해석중 선택: ')\n",
        "in_fname = input('입력 파일명을 입력하세요: ')\n",
        "out_fname = input('출력 파일명을 입력하세요: ')\n",
        "\n",
        "if secuYN == '1':\n",
        "  secu = 100\n",
        "elif secuYN == '2':\n",
        "  secu = -100\n",
        "\n",
        "inF = open(in_fname, 'r', encoding = 'utf-8')\n",
        "outF = open(out_fname, 'w', encoding = 'utf-8')\n",
        "\n",
        "while True:\n",
        "  instr = inF.readline()\n",
        "  if not instr:\n",
        "    break\n",
        "\n",
        "  outstr = \"\"\n",
        "  for i in range(0, len(instr)):\n",
        "    ch = instr[i]\n",
        "    chnum = ord(ch)\n",
        "    chnum = ord(ch) + secu\n",
        "    ch2 = chr(chnum)\n",
        "    outstr = outstr + ch2\n",
        "\n",
        "  outF.write(outstr + '\\n')\n",
        "\n",
        "outF.close()\n",
        "inF.close()\n",
        "\n",
        "print('{} --> {} 변환완료'.format(in_fname, out_fname))"
      ],
      "metadata": {
        "colab": {
          "base_uri": "https://localhost:8080/"
        },
        "id": "BwePADSSBs8L",
        "outputId": "997014f1-ea22-41bf-9977-18dd49feed1c"
      },
      "execution_count": null,
      "outputs": [
        {
          "name": "stdout",
          "output_type": "stream",
          "text": [
            "1.암호화 2.암호해석중 선택: 1\n",
            "입력 파일명을 입력하세요: normal.txt\n",
            "출력 파일명을 입력하세요: security.txt\n"
          ]
        }
      ]
    },
    {
      "cell_type": "markdown",
      "source": [
        "## 파일 입출력 심화"
      ],
      "metadata": {
        "id": "CthlJEJ2GULh"
      }
    },
    {
      "cell_type": "code",
      "source": [
        "import shutil\n",
        "dir(shutil)"
      ],
      "metadata": {
        "colab": {
          "base_uri": "https://localhost:8080/"
        },
        "id": "Ngxne9DJGVv6",
        "outputId": "851f96c8-24fb-4fa4-86f3-6842af570c4d"
      },
      "execution_count": null,
      "outputs": [
        {
          "output_type": "execute_result",
          "data": {
            "text/plain": [
              "['Error',\n",
              " 'ExecError',\n",
              " 'ReadError',\n",
              " 'RegistryError',\n",
              " 'SameFileError',\n",
              " 'SpecialFileError',\n",
              " '_ARCHIVE_FORMATS',\n",
              " '_BZ2_SUPPORTED',\n",
              " '_LZMA_SUPPORTED',\n",
              " '_UNPACK_FORMATS',\n",
              " '_ZLIB_SUPPORTED',\n",
              " '__all__',\n",
              " '__builtins__',\n",
              " '__cached__',\n",
              " '__doc__',\n",
              " '__file__',\n",
              " '__loader__',\n",
              " '__name__',\n",
              " '__package__',\n",
              " '__spec__',\n",
              " '_basename',\n",
              " '_check_unpack_options',\n",
              " '_copyxattr',\n",
              " '_destinsrc',\n",
              " '_ensure_directory',\n",
              " '_find_unpack_format',\n",
              " '_get_gid',\n",
              " '_get_uid',\n",
              " '_make_tarball',\n",
              " '_make_zipfile',\n",
              " '_ntuple_diskusage',\n",
              " '_rmtree_safe_fd',\n",
              " '_rmtree_unsafe',\n",
              " '_samefile',\n",
              " '_unpack_tarfile',\n",
              " '_unpack_zipfile',\n",
              " '_use_fd_functions',\n",
              " 'chown',\n",
              " 'collections',\n",
              " 'copy',\n",
              " 'copy2',\n",
              " 'copyfile',\n",
              " 'copyfileobj',\n",
              " 'copymode',\n",
              " 'copystat',\n",
              " 'copytree',\n",
              " 'disk_usage',\n",
              " 'errno',\n",
              " 'fnmatch',\n",
              " 'get_archive_formats',\n",
              " 'get_terminal_size',\n",
              " 'get_unpack_formats',\n",
              " 'getgrnam',\n",
              " 'getpwnam',\n",
              " 'ignore_patterns',\n",
              " 'make_archive',\n",
              " 'move',\n",
              " 'os',\n",
              " 'register_archive_format',\n",
              " 'register_unpack_format',\n",
              " 'rmtree',\n",
              " 'stat',\n",
              " 'sys',\n",
              " 'unpack_archive',\n",
              " 'unregister_archive_format',\n",
              " 'unregister_unpack_format',\n",
              " 'which']"
            ]
          },
          "metadata": {},
          "execution_count": 8
        }
      ]
    },
    {
      "cell_type": "code",
      "source": [
        "import os\n",
        "dir(os)"
      ],
      "metadata": {
        "colab": {
          "base_uri": "https://localhost:8080/"
        },
        "id": "DS3KVqqmGQsH",
        "outputId": "815c0b39-1541-4d20-bd55-8fc160f183a2"
      },
      "execution_count": null,
      "outputs": [
        {
          "output_type": "execute_result",
          "data": {
            "text/plain": [
              "['CLD_CONTINUED',\n",
              " 'CLD_DUMPED',\n",
              " 'CLD_EXITED',\n",
              " 'CLD_TRAPPED',\n",
              " 'DirEntry',\n",
              " 'EX_CANTCREAT',\n",
              " 'EX_CONFIG',\n",
              " 'EX_DATAERR',\n",
              " 'EX_IOERR',\n",
              " 'EX_NOHOST',\n",
              " 'EX_NOINPUT',\n",
              " 'EX_NOPERM',\n",
              " 'EX_NOUSER',\n",
              " 'EX_OK',\n",
              " 'EX_OSERR',\n",
              " 'EX_OSFILE',\n",
              " 'EX_PROTOCOL',\n",
              " 'EX_SOFTWARE',\n",
              " 'EX_TEMPFAIL',\n",
              " 'EX_UNAVAILABLE',\n",
              " 'EX_USAGE',\n",
              " 'F_LOCK',\n",
              " 'F_OK',\n",
              " 'F_TEST',\n",
              " 'F_TLOCK',\n",
              " 'F_ULOCK',\n",
              " 'GRND_NONBLOCK',\n",
              " 'GRND_RANDOM',\n",
              " 'MutableMapping',\n",
              " 'NGROUPS_MAX',\n",
              " 'O_ACCMODE',\n",
              " 'O_APPEND',\n",
              " 'O_ASYNC',\n",
              " 'O_CLOEXEC',\n",
              " 'O_CREAT',\n",
              " 'O_DIRECT',\n",
              " 'O_DIRECTORY',\n",
              " 'O_DSYNC',\n",
              " 'O_EXCL',\n",
              " 'O_LARGEFILE',\n",
              " 'O_NDELAY',\n",
              " 'O_NOATIME',\n",
              " 'O_NOCTTY',\n",
              " 'O_NOFOLLOW',\n",
              " 'O_NONBLOCK',\n",
              " 'O_PATH',\n",
              " 'O_RDONLY',\n",
              " 'O_RDWR',\n",
              " 'O_RSYNC',\n",
              " 'O_SYNC',\n",
              " 'O_TMPFILE',\n",
              " 'O_TRUNC',\n",
              " 'O_WRONLY',\n",
              " 'POSIX_FADV_DONTNEED',\n",
              " 'POSIX_FADV_NOREUSE',\n",
              " 'POSIX_FADV_NORMAL',\n",
              " 'POSIX_FADV_RANDOM',\n",
              " 'POSIX_FADV_SEQUENTIAL',\n",
              " 'POSIX_FADV_WILLNEED',\n",
              " 'PRIO_PGRP',\n",
              " 'PRIO_PROCESS',\n",
              " 'PRIO_USER',\n",
              " 'P_ALL',\n",
              " 'P_NOWAIT',\n",
              " 'P_NOWAITO',\n",
              " 'P_PGID',\n",
              " 'P_PID',\n",
              " 'P_WAIT',\n",
              " 'PathLike',\n",
              " 'RTLD_DEEPBIND',\n",
              " 'RTLD_GLOBAL',\n",
              " 'RTLD_LAZY',\n",
              " 'RTLD_LOCAL',\n",
              " 'RTLD_NODELETE',\n",
              " 'RTLD_NOLOAD',\n",
              " 'RTLD_NOW',\n",
              " 'RWF_DSYNC',\n",
              " 'RWF_HIPRI',\n",
              " 'RWF_NOWAIT',\n",
              " 'RWF_SYNC',\n",
              " 'R_OK',\n",
              " 'SCHED_BATCH',\n",
              " 'SCHED_FIFO',\n",
              " 'SCHED_IDLE',\n",
              " 'SCHED_OTHER',\n",
              " 'SCHED_RESET_ON_FORK',\n",
              " 'SCHED_RR',\n",
              " 'SEEK_CUR',\n",
              " 'SEEK_DATA',\n",
              " 'SEEK_END',\n",
              " 'SEEK_HOLE',\n",
              " 'SEEK_SET',\n",
              " 'ST_APPEND',\n",
              " 'ST_MANDLOCK',\n",
              " 'ST_NOATIME',\n",
              " 'ST_NODEV',\n",
              " 'ST_NODIRATIME',\n",
              " 'ST_NOEXEC',\n",
              " 'ST_NOSUID',\n",
              " 'ST_RDONLY',\n",
              " 'ST_RELATIME',\n",
              " 'ST_SYNCHRONOUS',\n",
              " 'ST_WRITE',\n",
              " 'TMP_MAX',\n",
              " 'WCONTINUED',\n",
              " 'WCOREDUMP',\n",
              " 'WEXITED',\n",
              " 'WEXITSTATUS',\n",
              " 'WIFCONTINUED',\n",
              " 'WIFEXITED',\n",
              " 'WIFSIGNALED',\n",
              " 'WIFSTOPPED',\n",
              " 'WNOHANG',\n",
              " 'WNOWAIT',\n",
              " 'WSTOPPED',\n",
              " 'WSTOPSIG',\n",
              " 'WTERMSIG',\n",
              " 'WUNTRACED',\n",
              " 'W_OK',\n",
              " 'XATTR_CREATE',\n",
              " 'XATTR_REPLACE',\n",
              " 'XATTR_SIZE_MAX',\n",
              " 'X_OK',\n",
              " '_Environ',\n",
              " '__all__',\n",
              " '__builtins__',\n",
              " '__cached__',\n",
              " '__doc__',\n",
              " '__file__',\n",
              " '__loader__',\n",
              " '__name__',\n",
              " '__package__',\n",
              " '__spec__',\n",
              " '_check_methods',\n",
              " '_execvpe',\n",
              " '_exists',\n",
              " '_exit',\n",
              " '_fspath',\n",
              " '_fwalk',\n",
              " '_get_exports_list',\n",
              " '_putenv',\n",
              " '_spawnvef',\n",
              " '_unsetenv',\n",
              " '_wrap_close',\n",
              " 'abc',\n",
              " 'abort',\n",
              " 'access',\n",
              " 'altsep',\n",
              " 'chdir',\n",
              " 'chmod',\n",
              " 'chown',\n",
              " 'chroot',\n",
              " 'close',\n",
              " 'closerange',\n",
              " 'confstr',\n",
              " 'confstr_names',\n",
              " 'cpu_count',\n",
              " 'ctermid',\n",
              " 'curdir',\n",
              " 'defpath',\n",
              " 'device_encoding',\n",
              " 'devnull',\n",
              " 'dup',\n",
              " 'dup2',\n",
              " 'environ',\n",
              " 'environb',\n",
              " 'error',\n",
              " 'execl',\n",
              " 'execle',\n",
              " 'execlp',\n",
              " 'execlpe',\n",
              " 'execv',\n",
              " 'execve',\n",
              " 'execvp',\n",
              " 'execvpe',\n",
              " 'extsep',\n",
              " 'fchdir',\n",
              " 'fchmod',\n",
              " 'fchown',\n",
              " 'fdatasync',\n",
              " 'fdopen',\n",
              " 'fork',\n",
              " 'forkpty',\n",
              " 'fpathconf',\n",
              " 'fsdecode',\n",
              " 'fsencode',\n",
              " 'fspath',\n",
              " 'fstat',\n",
              " 'fstatvfs',\n",
              " 'fsync',\n",
              " 'ftruncate',\n",
              " 'fwalk',\n",
              " 'get_blocking',\n",
              " 'get_exec_path',\n",
              " 'get_inheritable',\n",
              " 'get_terminal_size',\n",
              " 'getcwd',\n",
              " 'getcwdb',\n",
              " 'getegid',\n",
              " 'getenv',\n",
              " 'getenvb',\n",
              " 'geteuid',\n",
              " 'getgid',\n",
              " 'getgrouplist',\n",
              " 'getgroups',\n",
              " 'getloadavg',\n",
              " 'getlogin',\n",
              " 'getpgid',\n",
              " 'getpgrp',\n",
              " 'getpid',\n",
              " 'getppid',\n",
              " 'getpriority',\n",
              " 'getrandom',\n",
              " 'getresgid',\n",
              " 'getresuid',\n",
              " 'getsid',\n",
              " 'getuid',\n",
              " 'getxattr',\n",
              " 'initgroups',\n",
              " 'isatty',\n",
              " 'kill',\n",
              " 'killpg',\n",
              " 'lchown',\n",
              " 'linesep',\n",
              " 'link',\n",
              " 'listdir',\n",
              " 'listxattr',\n",
              " 'lockf',\n",
              " 'lseek',\n",
              " 'lstat',\n",
              " 'major',\n",
              " 'makedev',\n",
              " 'makedirs',\n",
              " 'minor',\n",
              " 'mkdir',\n",
              " 'mkfifo',\n",
              " 'mknod',\n",
              " 'name',\n",
              " 'nice',\n",
              " 'open',\n",
              " 'openpty',\n",
              " 'pardir',\n",
              " 'path',\n",
              " 'pathconf',\n",
              " 'pathconf_names',\n",
              " 'pathsep',\n",
              " 'pipe',\n",
              " 'pipe2',\n",
              " 'popen',\n",
              " 'posix_fadvise',\n",
              " 'posix_fallocate',\n",
              " 'pread',\n",
              " 'preadv',\n",
              " 'putenv',\n",
              " 'pwrite',\n",
              " 'pwritev',\n",
              " 'read',\n",
              " 'readlink',\n",
              " 'readv',\n",
              " 'register_at_fork',\n",
              " 'remove',\n",
              " 'removedirs',\n",
              " 'removexattr',\n",
              " 'rename',\n",
              " 'renames',\n",
              " 'replace',\n",
              " 'rmdir',\n",
              " 'scandir',\n",
              " 'sched_get_priority_max',\n",
              " 'sched_get_priority_min',\n",
              " 'sched_getaffinity',\n",
              " 'sched_getparam',\n",
              " 'sched_getscheduler',\n",
              " 'sched_param',\n",
              " 'sched_rr_get_interval',\n",
              " 'sched_setaffinity',\n",
              " 'sched_setparam',\n",
              " 'sched_setscheduler',\n",
              " 'sched_yield',\n",
              " 'sendfile',\n",
              " 'sep',\n",
              " 'set_blocking',\n",
              " 'set_inheritable',\n",
              " 'setegid',\n",
              " 'seteuid',\n",
              " 'setgid',\n",
              " 'setgroups',\n",
              " 'setpgid',\n",
              " 'setpgrp',\n",
              " 'setpriority',\n",
              " 'setregid',\n",
              " 'setresgid',\n",
              " 'setresuid',\n",
              " 'setreuid',\n",
              " 'setsid',\n",
              " 'setuid',\n",
              " 'setxattr',\n",
              " 'spawnl',\n",
              " 'spawnle',\n",
              " 'spawnlp',\n",
              " 'spawnlpe',\n",
              " 'spawnv',\n",
              " 'spawnve',\n",
              " 'spawnvp',\n",
              " 'spawnvpe',\n",
              " 'st',\n",
              " 'stat',\n",
              " 'stat_result',\n",
              " 'statvfs',\n",
              " 'statvfs_result',\n",
              " 'strerror',\n",
              " 'supports_bytes_environ',\n",
              " 'supports_dir_fd',\n",
              " 'supports_effective_ids',\n",
              " 'supports_fd',\n",
              " 'supports_follow_symlinks',\n",
              " 'symlink',\n",
              " 'sync',\n",
              " 'sys',\n",
              " 'sysconf',\n",
              " 'sysconf_names',\n",
              " 'system',\n",
              " 'tcgetpgrp',\n",
              " 'tcsetpgrp',\n",
              " 'terminal_size',\n",
              " 'times',\n",
              " 'times_result',\n",
              " 'truncate',\n",
              " 'ttyname',\n",
              " 'umask',\n",
              " 'uname',\n",
              " 'uname_result',\n",
              " 'unlink',\n",
              " 'unsetenv',\n",
              " 'urandom',\n",
              " 'utime',\n",
              " 'wait',\n",
              " 'wait3',\n",
              " 'wait4',\n",
              " 'waitid',\n",
              " 'waitid_result',\n",
              " 'waitpid',\n",
              " 'walk',\n",
              " 'write',\n",
              " 'writev']"
            ]
          },
          "metadata": {},
          "execution_count": 9
        }
      ]
    },
    {
      "cell_type": "code",
      "source": [
        "import os.path\n",
        "dir(os.path)"
      ],
      "metadata": {
        "colab": {
          "base_uri": "https://localhost:8080/"
        },
        "id": "ZexGOGJnGdFj",
        "outputId": "25af329f-e8e6-4f9c-dcea-b34f11619201"
      },
      "execution_count": null,
      "outputs": [
        {
          "output_type": "execute_result",
          "data": {
            "text/plain": [
              "['__all__',\n",
              " '__builtins__',\n",
              " '__cached__',\n",
              " '__doc__',\n",
              " '__file__',\n",
              " '__loader__',\n",
              " '__name__',\n",
              " '__package__',\n",
              " '__spec__',\n",
              " '_get_sep',\n",
              " '_joinrealpath',\n",
              " '_varprog',\n",
              " '_varprogb',\n",
              " 'abspath',\n",
              " 'altsep',\n",
              " 'basename',\n",
              " 'commonpath',\n",
              " 'commonprefix',\n",
              " 'curdir',\n",
              " 'defpath',\n",
              " 'devnull',\n",
              " 'dirname',\n",
              " 'exists',\n",
              " 'expanduser',\n",
              " 'expandvars',\n",
              " 'extsep',\n",
              " 'genericpath',\n",
              " 'getatime',\n",
              " 'getctime',\n",
              " 'getmtime',\n",
              " 'getsize',\n",
              " 'isabs',\n",
              " 'isdir',\n",
              " 'isfile',\n",
              " 'islink',\n",
              " 'ismount',\n",
              " 'join',\n",
              " 'lexists',\n",
              " 'normcase',\n",
              " 'normpath',\n",
              " 'os',\n",
              " 'pardir',\n",
              " 'pathsep',\n",
              " 'realpath',\n",
              " 'relpath',\n",
              " 'samefile',\n",
              " 'sameopenfile',\n",
              " 'samestat',\n",
              " 'sep',\n",
              " 'split',\n",
              " 'splitdrive',\n",
              " 'splitext',\n",
              " 'stat',\n",
              " 'supports_unicode_filenames',\n",
              " 'sys']"
            ]
          },
          "metadata": {},
          "execution_count": 10
        }
      ]
    },
    {
      "cell_type": "code",
      "source": [
        "# directory 생석 및 삭제\n",
        "\n",
        "import os\n",
        "os.chdir('/content/drive/MyDrive/Colab Notebooks/Notes/파이썬 기초 /data')\n",
        "print(os.getcwd())\n",
        "\n",
        "os.mkdir('./myDir') #폴더생성\n",
        "print(os.path.exists('./myDir'))\n",
        "\n",
        "shutil.rmtree('./myDir') #폴더 삭제(파일 삭제 아님)\n",
        "print(os.path.exists('./myDir'))\n"
      ],
      "metadata": {
        "colab": {
          "base_uri": "https://localhost:8080/"
        },
        "id": "CDeuE1JWGig4",
        "outputId": "2a4327bc-c9bb-4519-f844-7c2e786eeed3"
      },
      "execution_count": null,
      "outputs": [
        {
          "output_type": "stream",
          "name": "stdout",
          "text": [
            "/content/drive/MyDrive/Colab Notebooks/Notes/파이썬 기초 /data\n",
            "True\n",
            "False\n"
          ]
        }
      ]
    },
    {
      "cell_type": "code",
      "source": [
        "os.listdir()"
      ],
      "metadata": {
        "colab": {
          "base_uri": "https://localhost:8080/"
        },
        "id": "iXJP0Mb-LzL2",
        "outputId": "24886518-2fe1-4592-cbec-cf9642ce0ea6"
      },
      "execution_count": null,
      "outputs": [
        {
          "output_type": "execute_result",
          "data": {
            "text/plain": [
              "['data1.txt',\n",
              " 'data2.txt',\n",
              " 'Text1.txt',\n",
              " 'Text.txt',\n",
              " 'score.csv',\n",
              " 'score.txt',\n",
              " 'score.xlsx']"
            ]
          },
          "metadata": {},
          "execution_count": 31
        }
      ]
    },
    {
      "cell_type": "code",
      "source": [
        "#파일 또는 폴더가 존재하는지 확인\n",
        "\n",
        "import os.path\n",
        "\n",
        "print(os.path.exists('./data1.txt'))\n",
        "print(os.path.isfile('./data1.txt'))\n",
        "print(os.path.isdir('.'))"
      ],
      "metadata": {
        "colab": {
          "base_uri": "https://localhost:8080/"
        },
        "id": "ivScoabAHsm-",
        "outputId": "56742e51-d5b9-492a-f279-317df0208d25"
      },
      "execution_count": null,
      "outputs": [
        {
          "output_type": "stream",
          "name": "stdout",
          "text": [
            "True\n",
            "True\n",
            "True\n"
          ]
        }
      ]
    },
    {
      "cell_type": "code",
      "source": [
        "# 파일 삭제\n",
        "\n",
        "os.remove('./~')"
      ],
      "metadata": {
        "id": "QyGZH3C5LfdL"
      },
      "execution_count": null,
      "outputs": []
    },
    {
      "cell_type": "code",
      "source": [
        "# 파일 크기 확인(바이트 단위로 출력)\n",
        "\n",
        "os.path.getsize('./data1.txt')"
      ],
      "metadata": {
        "colab": {
          "base_uri": "https://localhost:8080/",
          "height": 241
        },
        "id": "ChgUfrJNLlVM",
        "outputId": "4e1d0b9b-5383-400f-90e4-8d1ac85f066b"
      },
      "execution_count": null,
      "outputs": [
        {
          "output_type": "error",
          "ename": "TypeError",
          "evalue": "ignored",
          "traceback": [
            "\u001b[0;31m---------------------------------------------------------------------------\u001b[0m",
            "\u001b[0;31mTypeError\u001b[0m                                 Traceback (most recent call last)",
            "\u001b[0;32m<ipython-input-33-42d29725a171>\u001b[0m in \u001b[0;36m<module>\u001b[0;34m\u001b[0m\n\u001b[1;32m      1\u001b[0m \u001b[0;31m# 파일 크기 확인(바이트 단위로 출력)\u001b[0m\u001b[0;34m\u001b[0m\u001b[0;34m\u001b[0m\u001b[0;34m\u001b[0m\u001b[0m\n\u001b[1;32m      2\u001b[0m \u001b[0;34m\u001b[0m\u001b[0m\n\u001b[0;32m----> 3\u001b[0;31m \u001b[0mprint\u001b[0m\u001b[0;34m(\u001b[0m\u001b[0mos\u001b[0m\u001b[0;34m.\u001b[0m\u001b[0mpath\u001b[0m\u001b[0;34m.\u001b[0m\u001b[0mgetsize\u001b[0m\u001b[0;34m(\u001b[0m\u001b[0;34m'./data1.txt'\u001b[0m\u001b[0;34m)\u001b[0m \u001b[0;34m+\u001b[0m \u001b[0;34m'byte'\u001b[0m\u001b[0;34m)\u001b[0m\u001b[0;34m\u001b[0m\u001b[0;34m\u001b[0m\u001b[0m\n\u001b[0m",
            "\u001b[0;31mTypeError\u001b[0m: unsupported operand type(s) for +: 'int' and 'str'"
          ]
        }
      ]
    },
    {
      "cell_type": "code",
      "source": [
        "## 예외 처리\n",
        "\n",
        "try:\n",
        "  os.remove('./~')\n",
        "except:\n",
        "  print('파일이 없습니다.')"
      ],
      "metadata": {
        "colab": {
          "base_uri": "https://localhost:8080/"
        },
        "id": "zxtNhC9HLozd",
        "outputId": "824218ba-748a-4290-ae58-c702f9a7bbbd"
      },
      "execution_count": null,
      "outputs": [
        {
          "output_type": "stream",
          "name": "stdout",
          "text": [
            "파일이 없습니다.\n"
          ]
        }
      ]
    },
    {
      "cell_type": "code",
      "source": [
        "# 문자열 중에서 파이썬 글자의 위치를 모두 찾아서 출력하는 코드\n",
        "\n",
        "mystr = '파이썬은 재미 있어요. 파이썬만 매일매일 공부하고 싶어요'\n",
        "strlist = list()\n",
        "index = 0\n",
        "\n",
        "while True:\n",
        "  index = mystr.index('파이썬', index) #파이썬 글자가 위치한 0, 13을 찾은 후에 오류 발생\n",
        "  strlist.append(index)\n",
        "  index = index + 1"
      ],
      "metadata": {
        "colab": {
          "base_uri": "https://localhost:8080/",
          "height": 277
        },
        "id": "9LjLo0guMBQe",
        "outputId": "c9e7deb1-cbc0-4e69-f6e5-bd8c4c16325f"
      },
      "execution_count": null,
      "outputs": [
        {
          "output_type": "error",
          "ename": "ValueError",
          "evalue": "ignored",
          "traceback": [
            "\u001b[0;31m---------------------------------------------------------------------------\u001b[0m",
            "\u001b[0;31mValueError\u001b[0m                                Traceback (most recent call last)",
            "\u001b[0;32m<ipython-input-44-ca1f78657255>\u001b[0m in \u001b[0;36m<module>\u001b[0;34m\u001b[0m\n\u001b[1;32m      7\u001b[0m \u001b[0;34m\u001b[0m\u001b[0m\n\u001b[1;32m      8\u001b[0m \u001b[0;32mwhile\u001b[0m \u001b[0;32mTrue\u001b[0m\u001b[0;34m:\u001b[0m\u001b[0;34m\u001b[0m\u001b[0;34m\u001b[0m\u001b[0m\n\u001b[0;32m----> 9\u001b[0;31m   \u001b[0mindex\u001b[0m \u001b[0;34m=\u001b[0m \u001b[0mmystr\u001b[0m\u001b[0;34m.\u001b[0m\u001b[0mindex\u001b[0m\u001b[0;34m(\u001b[0m\u001b[0;34m'파이썬'\u001b[0m\u001b[0;34m,\u001b[0m \u001b[0mindex\u001b[0m\u001b[0;34m)\u001b[0m\u001b[0;34m\u001b[0m\u001b[0;34m\u001b[0m\u001b[0m\n\u001b[0m\u001b[1;32m     10\u001b[0m   \u001b[0mstrlist\u001b[0m\u001b[0;34m.\u001b[0m\u001b[0mappend\u001b[0m\u001b[0;34m(\u001b[0m\u001b[0mindex\u001b[0m\u001b[0;34m)\u001b[0m\u001b[0;34m\u001b[0m\u001b[0;34m\u001b[0m\u001b[0m\n\u001b[1;32m     11\u001b[0m   \u001b[0mindex\u001b[0m \u001b[0;34m=\u001b[0m \u001b[0mindex\u001b[0m \u001b[0;34m+\u001b[0m \u001b[0;36m1\u001b[0m\u001b[0;34m\u001b[0m\u001b[0;34m\u001b[0m\u001b[0m\n",
            "\u001b[0;31mValueError\u001b[0m: substring not found"
          ]
        }
      ]
    },
    {
      "cell_type": "code",
      "source": [
        "mystr = '파이썬은 재미 있어요. 파이썬만 매일매일 공부하고 싶어요'\n",
        "strlist = list()\n",
        "index = 0\n",
        "\n",
        "while True:\n",
        "  try:\n",
        "    index = mystr.index('파이썬', index) #파이썬 글자가 위치한 0, 13을 찾은 후에 오류 발생\n",
        "    strlist.append(index)\n",
        "    index = index + 1\n",
        "  except:\n",
        "    break\n",
        "print('파이썬 글자 위치', strlist)"
      ],
      "metadata": {
        "colab": {
          "base_uri": "https://localhost:8080/"
        },
        "id": "DRsfB552NKdE",
        "outputId": "17b1f7c0-5870-4da9-de16-3874f5f9cc88"
      },
      "execution_count": null,
      "outputs": [
        {
          "output_type": "stream",
          "name": "stdout",
          "text": [
            "파이썬 글자 위치 [0, 13]\n"
          ]
        }
      ]
    },
    {
      "cell_type": "code",
      "source": [
        "# 여러가지 오류의 종류\n",
        "\n",
        "n1 = input('숫자1 -->')\n",
        "n2 = input('숫자2 -->')\n",
        "\n",
        "try:\n",
        "  n1 = int(n1)\n",
        "  n2 = int(n2)\n",
        "  while True:\n",
        "    res = n1/n2\n",
        "\n",
        "except ValueError:\n",
        "  print('문자열은 숫자로 변환할수 없습니다')\n",
        "\n",
        "except ZeroDivisionError:\n",
        "  print('0으로 나눌수 없습니다')\n",
        "\n",
        "except KeyboardInterrupt:\n",
        "  print('ctrl + c 를 눌렀다.')"
      ],
      "metadata": {
        "colab": {
          "base_uri": "https://localhost:8080/"
        },
        "id": "5GufEXBjNawD",
        "outputId": "a6e0c325-3125-46be-91fb-1f9223e4012f"
      },
      "execution_count": null,
      "outputs": [
        {
          "output_type": "stream",
          "name": "stdout",
          "text": [
            "숫자1 -->10\n",
            "숫자2 -->0\n",
            "0으로 나눌수 없습니다\n"
          ]
        }
      ]
    },
    {
      "cell_type": "code",
      "source": [
        "n1 = input('숫자1: ')\n",
        "n2 = input('숫자2: ')\n",
        "\n",
        "try:\n",
        "  n1 = int(n1)\n",
        "  n2 = int(n2)\n",
        "\n",
        "except:\n",
        "  print('오류')\n",
        "\n",
        "else:\n",
        "  print(n1,'/',n2,'=',n1/n2)\n",
        "\n",
        "finally:\n",
        "  print('이 부분은 무조건 나온다')"
      ],
      "metadata": {
        "colab": {
          "base_uri": "https://localhost:8080/",
          "height": 330
        },
        "id": "c7oeDK4mOXRH",
        "outputId": "be575456-4d1b-4932-bd8f-8e7cb14d557f"
      },
      "execution_count": null,
      "outputs": [
        {
          "output_type": "stream",
          "name": "stdout",
          "text": [
            "숫자1: 100\n",
            "숫자2: 0\n",
            "이 부분은 무조건 나온다\n"
          ]
        },
        {
          "output_type": "error",
          "ename": "ZeroDivisionError",
          "evalue": "ignored",
          "traceback": [
            "\u001b[0;31m---------------------------------------------------------------------------\u001b[0m",
            "\u001b[0;31mZeroDivisionError\u001b[0m                         Traceback (most recent call last)",
            "\u001b[0;32m<ipython-input-48-56c31d599919>\u001b[0m in \u001b[0;36m<module>\u001b[0;34m\u001b[0m\n\u001b[1;32m     10\u001b[0m \u001b[0;34m\u001b[0m\u001b[0m\n\u001b[1;32m     11\u001b[0m \u001b[0;32melse\u001b[0m\u001b[0;34m:\u001b[0m\u001b[0;34m\u001b[0m\u001b[0;34m\u001b[0m\u001b[0m\n\u001b[0;32m---> 12\u001b[0;31m   \u001b[0mprint\u001b[0m\u001b[0;34m(\u001b[0m\u001b[0mn1\u001b[0m\u001b[0;34m,\u001b[0m\u001b[0;34m'/'\u001b[0m\u001b[0;34m,\u001b[0m\u001b[0mn2\u001b[0m\u001b[0;34m,\u001b[0m\u001b[0;34m'='\u001b[0m\u001b[0;34m,\u001b[0m\u001b[0mn1\u001b[0m\u001b[0;34m/\u001b[0m\u001b[0mn2\u001b[0m\u001b[0;34m)\u001b[0m\u001b[0;34m\u001b[0m\u001b[0;34m\u001b[0m\u001b[0m\n\u001b[0m\u001b[1;32m     13\u001b[0m \u001b[0;34m\u001b[0m\u001b[0m\n\u001b[1;32m     14\u001b[0m \u001b[0;32mfinally\u001b[0m\u001b[0;34m:\u001b[0m\u001b[0;34m\u001b[0m\u001b[0;34m\u001b[0m\u001b[0m\n",
            "\u001b[0;31mZeroDivisionError\u001b[0m: division by zero"
          ]
        }
      ]
    },
    {
      "cell_type": "code",
      "source": [
        "# 실습 II\n",
        "\n",
        "birth = {'홍길동':'2000년 3월 1일', '김춘추':'604년','김유신':'595년'}\n",
        "\n",
        "while True:\n",
        "  name = input('생일을 알고 싶은 사람을 입력하세요: ')\n",
        "  try:\n",
        "    print(birth[name])\n",
        "  except:\n",
        "    print('데이터베이스에 존재하지 않는 이름입니다.')\n",
        "    break"
      ],
      "metadata": {
        "colab": {
          "base_uri": "https://localhost:8080/"
        },
        "id": "Sg1IpOz_POMK",
        "outputId": "8da2214a-679d-48e2-b1b7-7f9cf4e5f224"
      },
      "execution_count": null,
      "outputs": [
        {
          "output_type": "stream",
          "name": "stdout",
          "text": [
            "생일을 알고 싶은 사람을 입력하세요: 홍길동\n",
            "2000년 3월 1일\n",
            "생일을 알고 싶은 사람을 입력하세요: 김유신\n",
            "595년\n",
            "생일을 알고 싶은 사람을 입력하세요: 김춘추\n",
            "604년\n",
            "생일을 알고 싶은 사람을 입력하세요: 황희\n",
            "데이터베이스에 존재하지 않는 이름입니다.\n"
          ]
        }
      ]
    },
    {
      "cell_type": "code",
      "source": [
        "# 실습 III\n",
        "\n",
        "hp = int(input('현제 채력은 얼마입니까?: '))\n",
        "damage = ''\n",
        "\n",
        "while True:\n",
        "  try:\n",
        "    damage = int(input('데미지를 몇 입었습니까: '))\n",
        "    hp -= int(damage)\n",
        "    print('체력이 {} 남았습니다'.format(hp))\n",
        "  except:\n",
        "    break"
      ],
      "metadata": {
        "colab": {
          "base_uri": "https://localhost:8080/"
        },
        "id": "tA9KJJNdQGxR",
        "outputId": "fc7a1aa3-0357-471f-9559-879cb7ab096c"
      },
      "execution_count": null,
      "outputs": [
        {
          "name": "stdout",
          "output_type": "stream",
          "text": [
            "현제 채력은 얼마입니까?: 280\n",
            "데미지를 몇 입었습니까: 10\n",
            "체력이 270 남았습니다\n",
            "데미지를 몇 입었습니까: 50\n",
            "체력이 220 남았습니다\n",
            "데미지를 몇 입었습니까: 100\n",
            "체력이 120 남았습니다\n",
            "데미지를 몇 입었습니까: save\n"
          ]
        }
      ]
    },
    {
      "cell_type": "markdown",
      "source": [],
      "metadata": {
        "id": "fB6bs9R4HSm6"
      }
    },
    {
      "cell_type": "code",
      "source": [
        "class car:\n",
        "  speed = \"\"\n",
        "  color = \"\"\n",
        "  def __init__(self):\n",
        "    self.speed = 100\n",
        "    self.color = 'red'"
      ],
      "metadata": {
        "id": "XyunC59XHSwS"
      },
      "execution_count": null,
      "outputs": []
    },
    {
      "cell_type": "code",
      "source": [
        "car1 = car()"
      ],
      "metadata": {
        "id": "Ghb4bcX3Hyxb"
      },
      "execution_count": null,
      "outputs": []
    },
    {
      "cell_type": "code",
      "source": [
        "car1.speed = 120"
      ],
      "metadata": {
        "id": "nYPHh4qjHzrQ"
      },
      "execution_count": null,
      "outputs": []
    },
    {
      "cell_type": "code",
      "source": [
        "car1.speed"
      ],
      "metadata": {
        "id": "7kXUxdk_H5_a",
        "outputId": "129ac1a3-e022-4c54-f09f-595f2becbe5e",
        "colab": {
          "base_uri": "https://localhost:8080/"
        }
      },
      "execution_count": null,
      "outputs": [
        {
          "output_type": "execute_result",
          "data": {
            "text/plain": [
              "120"
            ]
          },
          "metadata": {},
          "execution_count": 6
        }
      ]
    },
    {
      "cell_type": "code",
      "source": [
        "car1.color"
      ],
      "metadata": {
        "colab": {
          "base_uri": "https://localhost:8080/",
          "height": 35
        },
        "id": "_li3WjuSH0xK",
        "outputId": "64404554-9b8e-422d-955e-cf7ee79ed05f"
      },
      "execution_count": null,
      "outputs": [
        {
          "output_type": "execute_result",
          "data": {
            "text/plain": [
              "'red'"
            ],
            "application/vnd.google.colaboratory.intrinsic+json": {
              "type": "string"
            }
          },
          "metadata": {},
          "execution_count": 4
        }
      ]
    }
  ]
}