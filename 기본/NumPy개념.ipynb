{
  "nbformat": 4,
  "nbformat_minor": 0,
  "metadata": {
    "colab": {
      "provenance": [],
      "toc_visible": true
    },
    "kernelspec": {
      "name": "python3",
      "display_name": "Python 3"
    },
    "language_info": {
      "name": "python"
    }
  },
  "cells": [
    {
      "cell_type": "markdown",
      "source": [
        "# 배열 생성"
      ],
      "metadata": {
        "id": "KeWIpm8S1TxF"
      }
    },
    {
      "cell_type": "markdown",
      "source": [
        "## 리스트로 배열 만들기"
      ],
      "metadata": {
        "id": "Gm1aXyJ_4Wor"
      }
    },
    {
      "cell_type": "code",
      "source": [
        "import numpy as np"
      ],
      "metadata": {
        "id": "2BepR_ba1aDm"
      },
      "execution_count": null,
      "outputs": []
    },
    {
      "cell_type": "code",
      "source": [
        "np.__version__"
      ],
      "metadata": {
        "colab": {
          "base_uri": "https://localhost:8080/",
          "height": 35
        },
        "id": "2k5NH2HQXJpZ",
        "outputId": "8726a6b8-be30-4da4-8808-e8aba824c186"
      },
      "execution_count": null,
      "outputs": [
        {
          "output_type": "execute_result",
          "data": {
            "text/plain": [
              "'1.22.4'"
            ],
            "application/vnd.google.colaboratory.intrinsic+json": {
              "type": "string"
            }
          },
          "metadata": {},
          "execution_count": 2
        }
      ]
    },
    {
      "cell_type": "code",
      "source": [
        "# 1차원 array\n",
        "\n",
        "a1 = np.array([1,2,3,4,5])\n",
        "print(a1)\n",
        "print(type(a1))\n",
        "\n",
        "print(a1.shape) # 차원 출력\n",
        "\n",
        "print(a1[0], a1[1]) # index로 접근가능\n",
        "\n",
        "a1[0] = 100 # array 값 변경 가능\n",
        "print(a1)"
      ],
      "metadata": {
        "colab": {
          "base_uri": "https://localhost:8080/"
        },
        "id": "nfEVtI5r1U1Q",
        "outputId": "9fcf21f4-21e0-4381-f5b9-829909366b3d"
      },
      "execution_count": null,
      "outputs": [
        {
          "output_type": "stream",
          "name": "stdout",
          "text": [
            "[1 2 3 4 5]\n",
            "<class 'numpy.ndarray'>\n",
            "(5,)\n",
            "1 2\n",
            "[100   2   3   4   5]\n"
          ]
        }
      ]
    },
    {
      "cell_type": "code",
      "source": [
        "# 2차원 array\n",
        "\n",
        "a2 = np.array([[1,2,3], [4,5,6], [7,8,9]])\n",
        "print(a2)\n",
        "print(a2.shape) #차원출력 (3,3) 열방향 : axis0, 행방향 : axis1\n",
        "\n",
        "print(a2[0,0], a2[1,1], a2[2,2]) #index 접근\n",
        "print(a2[1,2])"
      ],
      "metadata": {
        "colab": {
          "base_uri": "https://localhost:8080/"
        },
        "id": "spBBEf6517xC",
        "outputId": "b2203e2e-0287-4953-e7f1-8871d0dcff09"
      },
      "execution_count": null,
      "outputs": [
        {
          "output_type": "stream",
          "name": "stdout",
          "text": [
            "[[1 2 3]\n",
            " [4 5 6]\n",
            " [7 8 9]]\n",
            "(3, 3)\n",
            "1 5 9\n",
            "6\n"
          ]
        }
      ]
    },
    {
      "cell_type": "code",
      "source": [
        "#3차원 array\n",
        "\n",
        "a3 = np.array([[ [1,2], [4,5], [7,8] ],\n",
        "               [ [1,2], [4,5], [7,8] ],\n",
        "               [ [1,2], [4,5], [7,8] ],\n",
        "               [ [1,2], [4,5], [7,8] ]])\n",
        "print(a3)\n",
        "print(a3.shape) # 차원 : axis3"
      ],
      "metadata": {
        "colab": {
          "base_uri": "https://localhost:8080/"
        },
        "id": "QISqw6Tu2s5M",
        "outputId": "c498b7f0-67a4-4b5d-e784-77173f1592df"
      },
      "execution_count": null,
      "outputs": [
        {
          "output_type": "stream",
          "name": "stdout",
          "text": [
            "[[[1 2]\n",
            "  [4 5]\n",
            "  [7 8]]\n",
            "\n",
            " [[1 2]\n",
            "  [4 5]\n",
            "  [7 8]]\n",
            "\n",
            " [[1 2]\n",
            "  [4 5]\n",
            "  [7 8]]\n",
            "\n",
            " [[1 2]\n",
            "  [4 5]\n",
            "  [7 8]]]\n",
            "(4, 3, 2)\n"
          ]
        }
      ]
    },
    {
      "cell_type": "markdown",
      "source": [
        "## 배열 생성 및 초기화"
      ],
      "metadata": {
        "id": "4GH1EnEl4TAp"
      }
    },
    {
      "cell_type": "code",
      "source": [
        "# 모든 요소가 0인 배열을 생성\n",
        "\n",
        "np.zeros(10)"
      ],
      "metadata": {
        "colab": {
          "base_uri": "https://localhost:8080/"
        },
        "id": "G5OeZfZn4bRN",
        "outputId": "07269354-10e7-4619-9b54-d13b39329f03"
      },
      "execution_count": null,
      "outputs": [
        {
          "output_type": "execute_result",
          "data": {
            "text/plain": [
              "array([0., 0., 0., 0., 0., 0., 0., 0., 0., 0.])"
            ]
          },
          "metadata": {},
          "execution_count": 7
        }
      ]
    },
    {
      "cell_type": "code",
      "source": [
        "np.zeros((3,10))"
      ],
      "metadata": {
        "colab": {
          "base_uri": "https://localhost:8080/"
        },
        "id": "AGF6FkHLrms8",
        "outputId": "714357db-3531-4e9d-815e-ddc1b79ad7e5"
      },
      "execution_count": null,
      "outputs": [
        {
          "output_type": "execute_result",
          "data": {
            "text/plain": [
              "array([[0., 0., 0., 0., 0., 0., 0., 0., 0., 0.],\n",
              "       [0., 0., 0., 0., 0., 0., 0., 0., 0., 0.],\n",
              "       [0., 0., 0., 0., 0., 0., 0., 0., 0., 0.]])"
            ]
          },
          "metadata": {},
          "execution_count": 7
        }
      ]
    },
    {
      "cell_type": "code",
      "source": [
        "# 모든 요소가 1인 배열을 생성\n",
        "\n",
        "np.ones((3,10))"
      ],
      "metadata": {
        "colab": {
          "base_uri": "https://localhost:8080/"
        },
        "id": "gsJu51UD6cXE",
        "outputId": "b00b533c-8340-43ea-bfa6-26a65ed6bc57"
      },
      "execution_count": null,
      "outputs": [
        {
          "output_type": "execute_result",
          "data": {
            "text/plain": [
              "array([[1., 1., 1., 1., 1., 1., 1., 1., 1., 1.],\n",
              "       [1., 1., 1., 1., 1., 1., 1., 1., 1., 1.],\n",
              "       [1., 1., 1., 1., 1., 1., 1., 1., 1., 1.]])"
            ]
          },
          "metadata": {},
          "execution_count": 8
        }
      ]
    },
    {
      "cell_type": "code",
      "source": [
        "# 지정한 값으로 배열을 생성\n",
        "\n",
        "np.full((3,3), 1.23)"
      ],
      "metadata": {
        "colab": {
          "base_uri": "https://localhost:8080/"
        },
        "id": "8IyNBrTk6puf",
        "outputId": "d0c7030b-84d6-44f8-9b72-807626a06c79"
      },
      "execution_count": null,
      "outputs": [
        {
          "output_type": "execute_result",
          "data": {
            "text/plain": [
              "array([[1.23, 1.23, 1.23],\n",
              "       [1.23, 1.23, 1.23],\n",
              "       [1.23, 1.23, 1.23]])"
            ]
          },
          "metadata": {},
          "execution_count": 9
        }
      ]
    },
    {
      "cell_type": "code",
      "source": [
        "# 단위행렬(항등행렬) 생성\n",
        "\n",
        "np.eye(3)"
      ],
      "metadata": {
        "colab": {
          "base_uri": "https://localhost:8080/"
        },
        "id": "i9R0tcKz6xGQ",
        "outputId": "cc91a527-c5d9-41e2-fee1-08ef39424485"
      },
      "execution_count": null,
      "outputs": [
        {
          "output_type": "execute_result",
          "data": {
            "text/plain": [
              "array([[1., 0., 0.],\n",
              "       [0., 1., 0.],\n",
              "       [0., 0., 1.]])"
            ]
          },
          "metadata": {},
          "execution_count": 8
        }
      ]
    },
    {
      "cell_type": "code",
      "source": [
        "# 삼각행렬(아래삼각행렬) 생상\n",
        "\n",
        "np.tri(3)"
      ],
      "metadata": {
        "colab": {
          "base_uri": "https://localhost:8080/"
        },
        "id": "ZTPfG3qe63r0",
        "outputId": "40ce14f4-e336-4baf-ff98-c030e04fbd47"
      },
      "execution_count": null,
      "outputs": [
        {
          "output_type": "execute_result",
          "data": {
            "text/plain": [
              "array([[1., 0., 0.],\n",
              "       [1., 1., 0.],\n",
              "       [1., 1., 1.]])"
            ]
          },
          "metadata": {},
          "execution_count": 11
        }
      ]
    },
    {
      "cell_type": "code",
      "source": [
        "# 초기화되지 않은 배열 생성(기존 메모리위치에 존재하는 값을 불러온다)\n",
        "\n",
        "np.empty(10)"
      ],
      "metadata": {
        "colab": {
          "base_uri": "https://localhost:8080/"
        },
        "id": "KfOPLZGq68lh",
        "outputId": "f0e9cd92-42f3-4422-8869-ddf485405c07"
      },
      "execution_count": null,
      "outputs": [
        {
          "output_type": "execute_result",
          "data": {
            "text/plain": [
              "array([0., 0., 0., 0., 0., 0., 0., 0., 0., 0.])"
            ]
          },
          "metadata": {},
          "execution_count": 12
        }
      ]
    },
    {
      "cell_type": "code",
      "source": [
        "# 지정된 배열과 shape가 같은 배열 생성\n",
        "\n",
        "print(a1)\n",
        "np.zeros_like(a1)"
      ],
      "metadata": {
        "colab": {
          "base_uri": "https://localhost:8080/"
        },
        "id": "EtLmeMWO7WgJ",
        "outputId": "23c23698-a8c3-4d0b-801b-e2b28ee5495e"
      },
      "execution_count": null,
      "outputs": [
        {
          "output_type": "stream",
          "name": "stdout",
          "text": [
            "[100   2   3   4   5]\n"
          ]
        },
        {
          "output_type": "execute_result",
          "data": {
            "text/plain": [
              "array([0, 0, 0, 0, 0])"
            ]
          },
          "metadata": {},
          "execution_count": 13
        }
      ]
    },
    {
      "cell_type": "code",
      "source": [
        "print(a2)\n",
        "np.ones_like(a2)"
      ],
      "metadata": {
        "colab": {
          "base_uri": "https://localhost:8080/"
        },
        "id": "XCsEXSo87ds6",
        "outputId": "39c25674-c340-497a-e6d6-cff25ba973c6"
      },
      "execution_count": null,
      "outputs": [
        {
          "output_type": "stream",
          "name": "stdout",
          "text": [
            "[[1 2 3]\n",
            " [4 5 6]\n",
            " [7 8 9]]\n"
          ]
        },
        {
          "output_type": "execute_result",
          "data": {
            "text/plain": [
              "array([[1, 1, 1],\n",
              "       [1, 1, 1],\n",
              "       [1, 1, 1]])"
            ]
          },
          "metadata": {},
          "execution_count": 14
        }
      ]
    },
    {
      "cell_type": "code",
      "source": [
        "print(a3)\n",
        "np.full_like(a3, 3)"
      ],
      "metadata": {
        "colab": {
          "base_uri": "https://localhost:8080/"
        },
        "id": "syrnGixU7go4",
        "outputId": "aada5649-f81c-4e9f-da81-42925f04a013"
      },
      "execution_count": null,
      "outputs": [
        {
          "output_type": "stream",
          "name": "stdout",
          "text": [
            "[[[1 2]\n",
            "  [4 5]\n",
            "  [7 8]]\n",
            "\n",
            " [[1 2]\n",
            "  [4 5]\n",
            "  [7 8]]\n",
            "\n",
            " [[1 2]\n",
            "  [4 5]\n",
            "  [7 8]]\n",
            "\n",
            " [[1 2]\n",
            "  [4 5]\n",
            "  [7 8]]]\n"
          ]
        },
        {
          "output_type": "execute_result",
          "data": {
            "text/plain": [
              "array([[[3, 3],\n",
              "        [3, 3],\n",
              "        [3, 3]],\n",
              "\n",
              "       [[3, 3],\n",
              "        [3, 3],\n",
              "        [3, 3]],\n",
              "\n",
              "       [[3, 3],\n",
              "        [3, 3],\n",
              "        [3, 3]],\n",
              "\n",
              "       [[3, 3],\n",
              "        [3, 3],\n",
              "        [3, 3]]])"
            ]
          },
          "metadata": {},
          "execution_count": 14
        }
      ]
    },
    {
      "cell_type": "markdown",
      "source": [
        "## 생성한 값으로 배열 생성"
      ],
      "metadata": {
        "id": "UfBdlJXk7th3"
      }
    },
    {
      "cell_type": "code",
      "source": [
        "# arange(start, end, step) : 정수 범위로 배열생성\n",
        "\n",
        "np.arange(0,30,2)"
      ],
      "metadata": {
        "colab": {
          "base_uri": "https://localhost:8080/"
        },
        "id": "ed8LHV8r7vTg",
        "outputId": "93d39d22-9f14-4d31-8c00-5080dad97033"
      },
      "execution_count": null,
      "outputs": [
        {
          "output_type": "execute_result",
          "data": {
            "text/plain": [
              "array([ 0,  2,  4,  6,  8, 10, 12, 14, 16, 18, 20, 22, 24, 26, 28])"
            ]
          },
          "metadata": {},
          "execution_count": 1
        }
      ]
    },
    {
      "cell_type": "code",
      "source": [
        "# linspace(start, end, size) : 범위 내에서 균등 간격의 배열 생성\n",
        "\n",
        "np.linspace(0,1,5)"
      ],
      "metadata": {
        "colab": {
          "base_uri": "https://localhost:8080/"
        },
        "id": "e0lo7nuj79kl",
        "outputId": "244971f4-5e89-49f8-8893-52d9512c42f4"
      },
      "execution_count": null,
      "outputs": [
        {
          "output_type": "execute_result",
          "data": {
            "text/plain": [
              "array([0.  , 0.25, 0.5 , 0.75, 1.  ])"
            ]
          },
          "metadata": {},
          "execution_count": 17
        }
      ]
    },
    {
      "cell_type": "code",
      "source": [
        "# logspace() : 범위 내에서 균등 간격으로 로그 스케일로 배열 생성\n",
        "\n",
        "np.logspace(0.1,1,20)"
      ],
      "metadata": {
        "colab": {
          "base_uri": "https://localhost:8080/"
        },
        "id": "Isfyw0U28LC1",
        "outputId": "55a5a009-c1d8-4fce-9ea9-4e904131c25b"
      },
      "execution_count": null,
      "outputs": [
        {
          "output_type": "execute_result",
          "data": {
            "text/plain": [
              "array([ 1.25892541,  1.40400425,  1.565802  ,  1.74624535,  1.94748304,\n",
              "        2.1719114 ,  2.42220294,  2.70133812,  3.0126409 ,  3.35981829,\n",
              "        3.74700446,  4.17881006,  4.66037703,  5.19743987,  5.79639395,\n",
              "        6.46437163,  7.2093272 ,  8.04013161,  8.9666781 , 10.        ])"
            ]
          },
          "metadata": {},
          "execution_count": 18
        }
      ]
    },
    {
      "cell_type": "markdown",
      "source": [
        "## 램덤값(난수)으로 배열 생성  \n",
        "\n",
        "|함수|설명|\n",
        "|-|-|\n",
        "|seed|난수 발생을 위한(seed) 생성|\n",
        "|permutation|순서를 임의로 바꾸거나 임의의 정수 순열 반환|\n",
        "|shuffle|리스트나 배열의 순서를 뒤섞음(inplace)|\n",
        "|binomial|이항분포에서 표본 추출|\n",
        "|uniform|균등(a,b)분포에서 표본추출|\n",
        "\n"
      ],
      "metadata": {
        "id": "aSapMvUH8p6u"
      }
    },
    {
      "cell_type": "code",
      "source": [
        "# random.random() : 랜덤한 수의 배열 생성(0~1)\n",
        "\n",
        "np.random.random((3,3))"
      ],
      "metadata": {
        "id": "I5HXO-9p8sE9",
        "colab": {
          "base_uri": "https://localhost:8080/"
        },
        "outputId": "9786b089-d9af-4930-adc7-27b7c558591f"
      },
      "execution_count": null,
      "outputs": [
        {
          "output_type": "execute_result",
          "data": {
            "text/plain": [
              "array([[0.09126894, 0.3286607 , 0.89317425],\n",
              "       [0.43676188, 0.70423388, 0.87325545],\n",
              "       [0.19474851, 0.27942884, 0.39615442]])"
            ]
          },
          "metadata": {},
          "execution_count": 19
        }
      ]
    },
    {
      "cell_type": "code",
      "source": [
        "# random.randint(min, max, size) : 일정 구간(min ~ max-1)의 랜덤 정수의 배열 생성\n",
        "\n",
        "np.random.randint(0,10, ((3,3)))"
      ],
      "metadata": {
        "colab": {
          "base_uri": "https://localhost:8080/"
        },
        "id": "-nlEq0LU9UM7",
        "outputId": "0e375906-7fcf-4648-fed8-76c11b7e0b4b"
      },
      "execution_count": null,
      "outputs": [
        {
          "output_type": "execute_result",
          "data": {
            "text/plain": [
              "array([[1, 3, 3],\n",
              "       [4, 4, 2],\n",
              "       [1, 7, 2]])"
            ]
          },
          "metadata": {},
          "execution_count": 20
        }
      ]
    },
    {
      "cell_type": "code",
      "source": [
        "# random.normal(mean, std, size) : 정규분포\n",
        "\n",
        "np.random.normal(0,1, size = (3,3))"
      ],
      "metadata": {
        "colab": {
          "base_uri": "https://localhost:8080/"
        },
        "id": "hvwg1QUa9cZ9",
        "outputId": "1969fe76-723e-4ea7-80b8-2578ea42efff"
      },
      "execution_count": null,
      "outputs": [
        {
          "output_type": "execute_result",
          "data": {
            "text/plain": [
              "array([[ 0.65818188, -0.29142204, -0.41249443],\n",
              "       [-1.33453308, -0.24843007,  1.64181288],\n",
              "       [ 0.40542606,  0.5561849 , -0.17075883]])"
            ]
          },
          "metadata": {},
          "execution_count": 21
        }
      ]
    },
    {
      "cell_type": "code",
      "source": [
        "# random.rand() : 균등분포(0,1)\n",
        "\n",
        "np.random.rand(3,3)"
      ],
      "metadata": {
        "colab": {
          "base_uri": "https://localhost:8080/"
        },
        "id": "NcTKPCiy9qKr",
        "outputId": "63638772-4534-4ef8-ce7e-5852f96ebf8e"
      },
      "execution_count": null,
      "outputs": [
        {
          "output_type": "execute_result",
          "data": {
            "text/plain": [
              "array([[0.74063224, 0.3928145 , 0.92282844],\n",
              "       [0.98032257, 0.96699117, 0.51956874],\n",
              "       [0.94887496, 0.31677644, 0.62146485]])"
            ]
          },
          "metadata": {},
          "execution_count": 22
        }
      ]
    },
    {
      "cell_type": "code",
      "source": [
        "# random.randn() : 표준 정규분포\n",
        "\n",
        "np.random.randn(3,3)"
      ],
      "metadata": {
        "colab": {
          "base_uri": "https://localhost:8080/"
        },
        "id": "PS97wYVr-Lrp",
        "outputId": "442b3549-d4e1-4f7c-c191-af478b742ed1"
      },
      "execution_count": null,
      "outputs": [
        {
          "output_type": "execute_result",
          "data": {
            "text/plain": [
              "array([[-1.5022922 ,  0.58596436,  0.83316532],\n",
              "       [-1.49499443, -0.38280396,  0.87672645],\n",
              "       [-1.61561695, -2.80808959, -0.43213777]])"
            ]
          },
          "metadata": {},
          "execution_count": 23
        }
      ]
    },
    {
      "cell_type": "code",
      "source": [
        "# random.binomial(n,p, size) : 이항분포 , n = 시행횟수, p = 확률, size = 전체 실험 횟수\n",
        "\n",
        "np.random.binomial(10, 1/6, 10) # 주사위의 눈이 6이 나오면 성공인 이항분포, 주사위를 10번던지는 행위를 10번반복"
      ],
      "metadata": {
        "colab": {
          "base_uri": "https://localhost:8080/"
        },
        "id": "8mg_8XSyCkPk",
        "outputId": "270aa2a7-26ec-4539-f453-641a99fdf62d"
      },
      "execution_count": null,
      "outputs": [
        {
          "output_type": "execute_result",
          "data": {
            "text/plain": [
              "array([2, 1, 2, 2, 1, 1, 1, 1, 1, 1])"
            ]
          },
          "metadata": {},
          "execution_count": 24
        }
      ]
    },
    {
      "cell_type": "markdown",
      "source": [
        "## 표준데이터 타입[링크 텍스트]\n",
        "\n",
        "|데이터 타입|설명|\n",
        "|-|-|\n",
        "|bool|바이트로 저장된 boolean으로 True 또는 False값을가짐|\n",
        "|int|기본 정수(integer)타입\n",
        "|intc|C 언어에서 사용되는 int와 동일|\n",
        "|int8|바이트 (-128 ~ 127), [int16, int32, int64도 있다]|\n",
        "|uint8|부호 없는 정수 (0 ~ 255), [uint16, uint32, uint64도 있다]|"
      ],
      "metadata": {
        "id": "tn2m2AqsDXKL"
      }
    },
    {
      "cell_type": "code",
      "source": [
        "np.zeros(20, dtype = int)"
      ],
      "metadata": {
        "colab": {
          "base_uri": "https://localhost:8080/"
        },
        "id": "CWo-2OrcDYmx",
        "outputId": "68732149-ea59-4c5f-fb6e-6f26870c569c"
      },
      "execution_count": null,
      "outputs": [
        {
          "output_type": "execute_result",
          "data": {
            "text/plain": [
              "array([0, 0, 0, 0, 0, 0, 0, 0, 0, 0, 0, 0, 0, 0, 0, 0, 0, 0, 0, 0])"
            ]
          },
          "metadata": {},
          "execution_count": 25
        }
      ]
    },
    {
      "cell_type": "code",
      "source": [
        "np.ones((3,3), dtype = bool)"
      ],
      "metadata": {
        "colab": {
          "base_uri": "https://localhost:8080/"
        },
        "id": "SYqjecyvDoZQ",
        "outputId": "96d92ece-8e8c-426e-ac3d-dc0c58a95115"
      },
      "execution_count": null,
      "outputs": [
        {
          "output_type": "execute_result",
          "data": {
            "text/plain": [
              "array([[ True,  True,  True],\n",
              "       [ True,  True,  True],\n",
              "       [ True,  True,  True]])"
            ]
          },
          "metadata": {},
          "execution_count": 26
        }
      ]
    },
    {
      "cell_type": "code",
      "source": [
        "np.full((3,3), 1.0, dtype = float)"
      ],
      "metadata": {
        "colab": {
          "base_uri": "https://localhost:8080/"
        },
        "id": "g7ziDEMPDtMH",
        "outputId": "3e4bc2e7-defc-4bab-913c-22ad930fff49"
      },
      "execution_count": null,
      "outputs": [
        {
          "output_type": "execute_result",
          "data": {
            "text/plain": [
              "array([[1., 1., 1.],\n",
              "       [1., 1., 1.],\n",
              "       [1., 1., 1.]])"
            ]
          },
          "metadata": {},
          "execution_count": 27
        }
      ]
    },
    {
      "cell_type": "markdown",
      "source": [
        "## 날짜/시간 배열 생성\n",
        "\n"
      ],
      "metadata": {
        "id": "yN1ndAl7FFbd"
      }
    },
    {
      "cell_type": "code",
      "source": [
        "#날짜를 계산가능한 형태로 변경\n",
        "\n",
        "date = np.array('2020-01-01', dtype = np.datetime64)\n",
        "date"
      ],
      "metadata": {
        "colab": {
          "base_uri": "https://localhost:8080/"
        },
        "id": "iwfMsZivFcuj",
        "outputId": "83d1da24-2a70-4e5d-9204-183866b482bd"
      },
      "execution_count": null,
      "outputs": [
        {
          "output_type": "execute_result",
          "data": {
            "text/plain": [
              "array('2020-01-01', dtype='datetime64[D]')"
            ]
          },
          "metadata": {},
          "execution_count": 28
        }
      ]
    },
    {
      "cell_type": "code",
      "source": [
        "#날짜를 array 형태로 더해줄 수 있다.\n",
        "\n",
        "date + np.arange(12)"
      ],
      "metadata": {
        "colab": {
          "base_uri": "https://localhost:8080/"
        },
        "id": "GMZ_y6J1Ft2C",
        "outputId": "f9160064-1829-4fba-9bd1-e903ccebe2be"
      },
      "execution_count": null,
      "outputs": [
        {
          "output_type": "execute_result",
          "data": {
            "text/plain": [
              "array(['2020-01-01', '2020-01-02', '2020-01-03', '2020-01-04',\n",
              "       '2020-01-05', '2020-01-06', '2020-01-07', '2020-01-08',\n",
              "       '2020-01-09', '2020-01-10', '2020-01-11', '2020-01-12'],\n",
              "      dtype='datetime64[D]')"
            ]
          },
          "metadata": {},
          "execution_count": 29
        }
      ]
    },
    {
      "cell_type": "code",
      "source": [
        "datetime = np.array('2020-06-01 12:00', dtype = np.datetime64)\n",
        "datetime"
      ],
      "metadata": {
        "colab": {
          "base_uri": "https://localhost:8080/"
        },
        "id": "3RYduSvLF8La",
        "outputId": "181e9771-c8fe-4255-8ca6-0f5de778cb46"
      },
      "execution_count": null,
      "outputs": [
        {
          "output_type": "execute_result",
          "data": {
            "text/plain": [
              "array('2020-06-01T12:00', dtype='datetime64[m]')"
            ]
          },
          "metadata": {},
          "execution_count": 30
        }
      ]
    },
    {
      "cell_type": "code",
      "source": [
        "# 바로 날짜 형태로 만들 수 있다.\n",
        "\n",
        "print(np.datetime64('2020-06-01 12:00', 'm') + np.arange(12))\n",
        "print(np.datetime64('2020-06-01 12:00' , 'h') + np.arange(12))"
      ],
      "metadata": {
        "colab": {
          "base_uri": "https://localhost:8080/"
        },
        "id": "UpnjZLGrGFIl",
        "outputId": "2498025e-b423-46e1-d7be-e9e1a42c2cbb"
      },
      "execution_count": null,
      "outputs": [
        {
          "output_type": "stream",
          "name": "stdout",
          "text": [
            "['2020-06-01T12:00' '2020-06-01T12:01' '2020-06-01T12:02'\n",
            " '2020-06-01T12:03' '2020-06-01T12:04' '2020-06-01T12:05'\n",
            " '2020-06-01T12:06' '2020-06-01T12:07' '2020-06-01T12:08'\n",
            " '2020-06-01T12:09' '2020-06-01T12:10' '2020-06-01T12:11']\n",
            "['2020-06-01T12' '2020-06-01T13' '2020-06-01T14' '2020-06-01T15'\n",
            " '2020-06-01T16' '2020-06-01T17' '2020-06-01T18' '2020-06-01T19'\n",
            " '2020-06-01T20' '2020-06-01T21' '2020-06-01T22' '2020-06-01T23']\n"
          ]
        }
      ]
    },
    {
      "cell_type": "markdown",
      "source": [
        "# 배열조회"
      ],
      "metadata": {
        "id": "5yRWv0MsHYdx"
      }
    },
    {
      "cell_type": "markdown",
      "source": [
        "## 배열 속성 정보"
      ],
      "metadata": {
        "id": "hPdmBTfrHZnn"
      }
    },
    {
      "cell_type": "code",
      "source": [
        "def array_info(array):\n",
        "  print(array)\n",
        "  print(\"ndim: \", array.ndim)\n",
        "  print(\"shape: \", array.shape)\n",
        "  print('dtype: ', array.dtype)\n",
        "  print('size: ', array.size)\n",
        "  print('itemsize: ', array.itemsize) #하나의 itemsize(int : 8byte)\n",
        "  print('nbytes: ', array.nbytes) # size * itemsize\n",
        "  print('strides: ', array.strides)"
      ],
      "metadata": {
        "id": "qBIJKd9gHqSo"
      },
      "execution_count": null,
      "outputs": []
    },
    {
      "cell_type": "code",
      "source": [
        "array_info(a1)"
      ],
      "metadata": {
        "colab": {
          "base_uri": "https://localhost:8080/"
        },
        "id": "NSHfRPQwIPNw",
        "outputId": "060bb48e-1ad5-4f55-ce37-4816e288f0ea"
      },
      "execution_count": null,
      "outputs": [
        {
          "output_type": "stream",
          "name": "stdout",
          "text": [
            "[100   2   3   4   5]\n",
            "ndim:  1\n",
            "shape:  (5,)\n",
            "dtype:  int64\n",
            "size:  5\n",
            "itemsize:  8\n",
            "nbytes:  40\n",
            "strides:  (8,)\n"
          ]
        }
      ]
    },
    {
      "cell_type": "code",
      "source": [
        "array_info(a2)"
      ],
      "metadata": {
        "colab": {
          "base_uri": "https://localhost:8080/"
        },
        "id": "gmg3yRlWIvlN",
        "outputId": "b092973c-aca0-4052-e5b4-2dfeac74fadc"
      },
      "execution_count": null,
      "outputs": [
        {
          "output_type": "stream",
          "name": "stdout",
          "text": [
            "[[1 2 3]\n",
            " [4 5 6]\n",
            " [7 8 9]]\n",
            "ndim:  2\n",
            "shape:  (3, 3)\n",
            "dtype:  int64\n",
            "size:  9\n",
            "itemsize:  8\n",
            "nbytes:  72\n",
            "strides:  (24, 8)\n"
          ]
        }
      ]
    },
    {
      "cell_type": "code",
      "source": [
        "array_info(a3)"
      ],
      "metadata": {
        "colab": {
          "base_uri": "https://localhost:8080/"
        },
        "id": "HSfwnky8I6nI",
        "outputId": "5e074149-0476-47b3-ac4b-6cc9667d2e56"
      },
      "execution_count": null,
      "outputs": [
        {
          "output_type": "stream",
          "name": "stdout",
          "text": [
            "[[[1 2]\n",
            "  [4 5]\n",
            "  [7 8]]\n",
            "\n",
            " [[1 2]\n",
            "  [4 5]\n",
            "  [7 8]]\n",
            "\n",
            " [[1 2]\n",
            "  [4 5]\n",
            "  [7 8]]\n",
            "\n",
            " [[1 2]\n",
            "  [4 5]\n",
            "  [7 8]]]\n",
            "ndim:  3\n",
            "shape:  (4, 3, 2)\n",
            "dtype:  int64\n",
            "size:  24\n",
            "itemsize:  8\n",
            "nbytes:  192\n",
            "strides:  (48, 16, 8)\n"
          ]
        }
      ]
    },
    {
      "cell_type": "markdown",
      "source": [
        "## 인덱싱(Indexing)"
      ],
      "metadata": {
        "id": "xzoZ36FqJSZl"
      }
    },
    {
      "cell_type": "code",
      "source": [
        "print(a1)\n",
        "print(a1[0])\n",
        "print(a1[2])\n",
        "print(a1[-1])\n",
        "print(a1[-2])"
      ],
      "metadata": {
        "colab": {
          "base_uri": "https://localhost:8080/"
        },
        "id": "Y03tPBN8JU3M",
        "outputId": "f5a66463-e314-44e5-b0be-66d12b069527"
      },
      "execution_count": null,
      "outputs": [
        {
          "output_type": "stream",
          "name": "stdout",
          "text": [
            "[100   2   3   4   5]\n",
            "100\n",
            "3\n",
            "5\n",
            "4\n"
          ]
        }
      ]
    },
    {
      "cell_type": "code",
      "source": [
        "print(a2)\n",
        "print(a2[0,0])\n",
        "print(a2[0,2])\n",
        "print(a2[1,1])\n",
        "print(a2[2,-1])"
      ],
      "metadata": {
        "colab": {
          "base_uri": "https://localhost:8080/"
        },
        "id": "hAmFCB7ZJdy-",
        "outputId": "2d04a05b-213e-4722-e220-58a240233d6f"
      },
      "execution_count": null,
      "outputs": [
        {
          "output_type": "stream",
          "name": "stdout",
          "text": [
            "[[1 2 3]\n",
            " [4 5 6]\n",
            " [7 8 9]]\n",
            "1\n",
            "3\n",
            "5\n",
            "9\n"
          ]
        }
      ]
    },
    {
      "cell_type": "code",
      "source": [
        "print(a3)\n",
        "print(a3[0,0,0])\n",
        "print(a3[1,1,1])\n",
        "print(a3[2,1,1])\n",
        "print(a3[2,-1,-1])"
      ],
      "metadata": {
        "colab": {
          "base_uri": "https://localhost:8080/"
        },
        "id": "ljTT96PTJotG",
        "outputId": "53e5ab82-6aa2-451e-d409-b4465bd30385"
      },
      "execution_count": null,
      "outputs": [
        {
          "output_type": "stream",
          "name": "stdout",
          "text": [
            "[[[1 2]\n",
            "  [4 5]\n",
            "  [7 8]]\n",
            "\n",
            " [[1 2]\n",
            "  [4 5]\n",
            "  [7 8]]\n",
            "\n",
            " [[1 2]\n",
            "  [4 5]\n",
            "  [7 8]]\n",
            "\n",
            " [[1 2]\n",
            "  [4 5]\n",
            "  [7 8]]]\n",
            "1\n",
            "5\n",
            "5\n",
            "8\n"
          ]
        }
      ]
    },
    {
      "cell_type": "markdown",
      "source": [
        "## 슬라이싱\n",
        "\n",
        "\n",
        "*   슬라이싱 구문 : a[strart:stop:step]\n",
        "*   기본값 : start=0, stop=size-1, step=1\n",
        "\n"
      ],
      "metadata": {
        "id": "ON76N2qGKGLO"
      }
    },
    {
      "cell_type": "code",
      "source": [
        "print(a1)\n",
        "print(a1[0:2])\n",
        "print(a1[0:])\n",
        "print(a1[:1])\n",
        "print(a1[::2])\n",
        "print(a1[::-1])"
      ],
      "metadata": {
        "colab": {
          "base_uri": "https://localhost:8080/"
        },
        "id": "iaBKlob-KXC7",
        "outputId": "6fb8f183-aaf8-4697-a51d-eefa88888fa0"
      },
      "execution_count": null,
      "outputs": [
        {
          "output_type": "stream",
          "name": "stdout",
          "text": [
            "[100   2   3   4   5]\n",
            "[100   2]\n",
            "[100   2   3   4   5]\n",
            "[100]\n",
            "[100   3   5]\n",
            "[  5   4   3   2 100]\n"
          ]
        }
      ]
    },
    {
      "cell_type": "code",
      "source": [
        "print(a2, '\\n')\n",
        "print(a2[1],'\\n')\n",
        "print(a2[1,:],'\\n')\n",
        "print(a2[:2,:2],'\\n')\n",
        "print(a2[1:,::-1],'\\n')\n",
        "print(a2[::-1,::-1],'\\n')"
      ],
      "metadata": {
        "colab": {
          "base_uri": "https://localhost:8080/"
        },
        "id": "Uf58Mb0ALErg",
        "outputId": "bd87cd23-d738-45c4-e74b-a544a1d5d55b"
      },
      "execution_count": null,
      "outputs": [
        {
          "output_type": "stream",
          "name": "stdout",
          "text": [
            "[[1 2 3]\n",
            " [4 5 6]\n",
            " [7 8 9]] \n",
            "\n",
            "[4 5 6] \n",
            "\n",
            "[4 5 6] \n",
            "\n",
            "[[1 2]\n",
            " [4 5]] \n",
            "\n",
            "[[6 5 4]\n",
            " [9 8 7]] \n",
            "\n",
            "[[9 8 7]\n",
            " [6 5 4]\n",
            " [3 2 1]] \n",
            "\n"
          ]
        }
      ]
    },
    {
      "cell_type": "markdown",
      "source": [
        "## 불리언 인덱싱"
      ],
      "metadata": {
        "id": "_SUCewcSLwv0"
      }
    },
    {
      "cell_type": "code",
      "source": [
        "print(a1)\n",
        "bi = [False, True, True, False, True]\n",
        "print(a1[bi])"
      ],
      "metadata": {
        "colab": {
          "base_uri": "https://localhost:8080/"
        },
        "id": "yC8wu79cLypZ",
        "outputId": "a13f1212-89be-4154-d66b-9ebc418600af"
      },
      "execution_count": null,
      "outputs": [
        {
          "output_type": "stream",
          "name": "stdout",
          "text": [
            "[100   2   3   4   5]\n",
            "[2 3 5]\n"
          ]
        }
      ]
    },
    {
      "cell_type": "code",
      "source": [
        "print(a2)\n",
        "bi = np.random.randint(0,2, (3,3), dtype = bool)\n",
        "print(bi)\n",
        "print(a2[bi])"
      ],
      "metadata": {
        "colab": {
          "base_uri": "https://localhost:8080/"
        },
        "id": "fX1zeHJLMBML",
        "outputId": "3e86f1c5-2af8-41e3-9901-576904f81f31"
      },
      "execution_count": null,
      "outputs": [
        {
          "output_type": "stream",
          "name": "stdout",
          "text": [
            "[[1 2 3]\n",
            " [4 5 6]\n",
            " [7 8 9]]\n",
            "[[False False False]\n",
            " [False False  True]\n",
            " [ True False  True]]\n",
            "[6 7 9]\n"
          ]
        }
      ]
    },
    {
      "cell_type": "markdown",
      "source": [
        "## 팬시 인덱싱"
      ],
      "metadata": {
        "id": "lWxAVBUjMbVd"
      }
    },
    {
      "cell_type": "code",
      "source": [
        "print(a1)\n",
        "print(a1[0], a1[2])\n",
        "idx = [0,2]\n",
        "print(a1[idx])\n",
        "# print(a1[0,2]) 오류 print(a1[[0,2]]) 가능\n",
        "ind = np.array([[0,1],\n",
        "                [2,0]])\n",
        "print(a1[ind])"
      ],
      "metadata": {
        "colab": {
          "base_uri": "https://localhost:8080/"
        },
        "id": "hRj3PAeBMc1h",
        "outputId": "93d2cba8-44c3-45ad-8d1c-2d593e948b9a"
      },
      "execution_count": null,
      "outputs": [
        {
          "output_type": "stream",
          "name": "stdout",
          "text": [
            "[100   2   3   4   5]\n",
            "100 3\n",
            "[100   3]\n",
            "[[100   2]\n",
            " [  3 100]]\n"
          ]
        }
      ]
    },
    {
      "cell_type": "code",
      "source": [
        "print(a2)\n",
        "row = np.array([0,2])\n",
        "col = np.array([1,2])\n",
        "print(a2[row, col])\n",
        "print(a2[row, :])\n",
        "print(a2[:, col])\n",
        "print(a2[row, 1])\n",
        "print(a2[2, col])\n",
        "print(a2[row, 1:])\n",
        "print(a2[1:, col])"
      ],
      "metadata": {
        "colab": {
          "base_uri": "https://localhost:8080/"
        },
        "id": "k0-H4OI_M5bg",
        "outputId": "212085ca-0196-4c2d-95a3-79a194143934"
      },
      "execution_count": null,
      "outputs": [
        {
          "output_type": "stream",
          "name": "stdout",
          "text": [
            "[[1 2 3]\n",
            " [4 5 6]\n",
            " [7 8 9]]\n",
            "[2 9]\n",
            "[[1 2 3]\n",
            " [7 8 9]]\n",
            "[[2 3]\n",
            " [5 6]\n",
            " [8 9]]\n",
            "[2 8]\n",
            "[8 9]\n",
            "[[2 3]\n",
            " [8 9]]\n",
            "[[5 6]\n",
            " [8 9]]\n"
          ]
        }
      ]
    },
    {
      "cell_type": "markdown",
      "source": [
        "# 배열 값 삽입/수정/삭제/복사"
      ],
      "metadata": {
        "id": "c1crhGGAN9mE"
      }
    },
    {
      "cell_type": "markdown",
      "source": [
        "## 배열 값 삽입\n",
        "* insert(array, 위치, 값) : 배열의 특정 위치에 값 삽입\n",
        "* axis를 지정하지 않으면 1차원 배열로 변환\n",
        "* 추가할 방향을 axis로 지정\n",
        "* 원본 배열 변경없이 새로운 배열 반환"
      ],
      "metadata": {
        "id": "plbWLeztOAha"
      }
    },
    {
      "cell_type": "code",
      "source": [
        "print(a1)\n",
        "b1 = np.insert(a1, 0, 10)\n",
        "print(b1)"
      ],
      "metadata": {
        "colab": {
          "base_uri": "https://localhost:8080/"
        },
        "id": "oGEsiltuOGtV",
        "outputId": "86bed90e-feca-4211-bb8a-c8e5b8cd674e"
      },
      "execution_count": null,
      "outputs": [
        {
          "output_type": "stream",
          "name": "stdout",
          "text": [
            "[100   2   3   4   5]\n",
            "[ 10 100   2   3   4   5]\n"
          ]
        }
      ]
    },
    {
      "cell_type": "code",
      "source": [
        "print(a2)\n",
        "b2 = np.insert(a2, 1, 10, axis = 0)\n",
        "print(b2)\n",
        "c2 = np.insert(a2, 1, 10, axis = 1)\n",
        "print(c2)\n",
        "d2 = np.insert(a2, 1,10)\n",
        "print(d2) #axis를 지정하지 않으면 1차원 배열로 변환"
      ],
      "metadata": {
        "colab": {
          "base_uri": "https://localhost:8080/"
        },
        "id": "gdliIOIrOpLi",
        "outputId": "c3c0158a-7168-4a5f-92b6-28cfb419b84b"
      },
      "execution_count": null,
      "outputs": [
        {
          "output_type": "stream",
          "name": "stdout",
          "text": [
            "[[1 0 1]\n",
            " [4 2 0]\n",
            " [7 8 9]]\n",
            "[[ 1  0  1]\n",
            " [10 10 10]\n",
            " [ 4  2  0]\n",
            " [ 7  8  9]]\n",
            "[[ 1 10  0  1]\n",
            " [ 4 10  2  0]\n",
            " [ 7 10  8  9]]\n",
            "[ 1 10  0  1  4  2  0  7  8  9]\n"
          ]
        }
      ]
    },
    {
      "cell_type": "markdown",
      "source": [
        "## 배열 값 수정\n",
        "*  배열의 인덱싱으로 접근하여 값 수정"
      ],
      "metadata": {
        "id": "x3OIGZ_bO_6I"
      }
    },
    {
      "cell_type": "code",
      "source": [
        "print(a1)\n",
        "a1[0] = 1\n",
        "a1[1] = 2\n",
        "a1[2] = 3\n",
        "print(a1)\n",
        "a1[:1] = 9\n",
        "print(a1)\n",
        "i = np.array([1,3,4])\n",
        "a1[i] = 0\n",
        "print(a1)\n",
        "a1[i] += 4\n",
        "print(a1)"
      ],
      "metadata": {
        "colab": {
          "base_uri": "https://localhost:8080/"
        },
        "id": "r6acZKk1PDmk",
        "outputId": "53a1a56c-009a-4773-a2d9-03d5112a896d"
      },
      "execution_count": null,
      "outputs": [
        {
          "output_type": "stream",
          "name": "stdout",
          "text": [
            "[9 2 3 4 5]\n",
            "[1 2 3 4 5]\n",
            "[9 2 3 4 5]\n",
            "[9 0 3 0 0]\n",
            "[9 4 3 4 4]\n"
          ]
        }
      ]
    },
    {
      "cell_type": "code",
      "source": [
        "print(a2)\n",
        "a2[0,0] = 1\n",
        "a2[1,1] = 2\n",
        "a2[2,2] = 3\n",
        "print(a2)\n",
        "a2[0] = 1\n",
        "print(a2)\n",
        "a2[1:, 2] = 9\n",
        "print(a2)\n",
        "\n",
        "row = np.array([0,1])\n",
        "col = np.array([1,2])\n",
        "a2[row, col] = 0\n",
        "print(a2)"
      ],
      "metadata": {
        "colab": {
          "base_uri": "https://localhost:8080/"
        },
        "id": "HsAOYiamPW77",
        "outputId": "f4b051ff-a45d-4531-bfc6-abd3c902a388"
      },
      "execution_count": null,
      "outputs": [
        {
          "output_type": "stream",
          "name": "stdout",
          "text": [
            "[[1 1 1]\n",
            " [4 2 9]\n",
            " [7 8 9]]\n",
            "[[1 1 1]\n",
            " [4 2 9]\n",
            " [7 8 3]]\n",
            "[[1 1 1]\n",
            " [4 2 9]\n",
            " [7 8 3]]\n",
            "[[1 1 1]\n",
            " [4 2 9]\n",
            " [7 8 9]]\n",
            "[[1 0 1]\n",
            " [4 2 0]\n",
            " [7 8 9]]\n"
          ]
        }
      ]
    },
    {
      "cell_type": "markdown",
      "source": [
        "## 배열 값 삭제\n",
        "* delete() : 배열의 특정 위치에 값 삭제\n",
        "* axis를 지정하지 않으면 1차원 배열로 변환\n",
        "* 삭제할 방향을 axis로 지정\n",
        "* 원본 배열 변경없이 새로운 배열 반환\n",
        "* inplace X"
      ],
      "metadata": {
        "id": "wEJCBJbcP_mY"
      }
    },
    {
      "cell_type": "code",
      "source": [
        "print(a1)\n",
        "b1 = np.delete(a1, 1)\n",
        "print(b1)\n",
        "print(a1)"
      ],
      "metadata": {
        "colab": {
          "base_uri": "https://localhost:8080/"
        },
        "id": "aBn42ciXQsJL",
        "outputId": "05381318-97c3-4dc6-ee75-030cf40a41e5"
      },
      "execution_count": null,
      "outputs": [
        {
          "output_type": "stream",
          "name": "stdout",
          "text": [
            "[9 4 3 4 4]\n",
            "[9 3 4 4]\n",
            "[9 4 3 4 4]\n"
          ]
        }
      ]
    },
    {
      "cell_type": "code",
      "source": [
        "print(a2)\n",
        "b2 = np.delete(a2, 1, axis = 0)\n",
        "print(b2)\n",
        "c2 = np.delete(a2, 1, axis = 1)\n",
        "print(c2)\n",
        "d2 = np.delete(a2, 1)\n",
        "print(d2)"
      ],
      "metadata": {
        "colab": {
          "base_uri": "https://localhost:8080/"
        },
        "id": "knzeEbVgQ3HM",
        "outputId": "29b02d3c-c0e2-4696-a623-cb7d37e04220"
      },
      "execution_count": null,
      "outputs": [
        {
          "output_type": "stream",
          "name": "stdout",
          "text": [
            "[[1 0 1]\n",
            " [4 2 0]\n",
            " [7 8 9]]\n",
            "[[1 0 1]\n",
            " [7 8 9]]\n",
            "[[1 1]\n",
            " [4 0]\n",
            " [7 9]]\n",
            "[1 1 4 2 0 7 8 9]\n"
          ]
        }
      ]
    },
    {
      "cell_type": "markdown",
      "source": [
        "## 배열 복사\n",
        "* 리스트 자료형과 달리 배열의 슬라이스는 복사본이 아님\n",
        "* 복사가 필요하면 copy() 사용"
      ],
      "metadata": {
        "id": "i85jt5ZxRUqY"
      }
    },
    {
      "cell_type": "code",
      "source": [
        "a2 = np.array([[1,0,1],[4,2,0],[7,8,9]])\n",
        "print(a2)\n",
        "print(a2[:2,:2])\n",
        "a2_sub = a2[:2,:2]\n",
        "print(a2_sub)\n",
        "a2_sub[:,1] = 0\n",
        "print(a2_sub)\n",
        "print(a2) #a2_sub를 바꿨는데 원본 a2도 바뀐다"
      ],
      "metadata": {
        "colab": {
          "base_uri": "https://localhost:8080/"
        },
        "id": "kqtk3VeKRYdQ",
        "outputId": "58f0c88c-fbdd-41d5-fc33-e729446de9d0"
      },
      "execution_count": null,
      "outputs": [
        {
          "output_type": "stream",
          "name": "stdout",
          "text": [
            "[[1 0 1]\n",
            " [4 2 0]\n",
            " [7 8 9]]\n",
            "[[1 0]\n",
            " [4 2]]\n",
            "[[1 0]\n",
            " [4 2]]\n",
            "[[1 0]\n",
            " [4 0]]\n",
            "[[1 0 1]\n",
            " [4 0 0]\n",
            " [7 8 9]]\n"
          ]
        }
      ]
    },
    {
      "cell_type": "code",
      "source": [
        "print(a2)\n",
        "a2_sub_copy = a2[:2,:2].copy()\n",
        "print(a2_sub_copy)\n",
        "a2_sub_copy[:,1] = 10\n",
        "print(a2_sub_copy)\n",
        "print(a2)"
      ],
      "metadata": {
        "colab": {
          "base_uri": "https://localhost:8080/"
        },
        "id": "wC3mj_tNSeZj",
        "outputId": "057fe551-b38c-49ca-aff2-67b94759250b"
      },
      "execution_count": null,
      "outputs": [
        {
          "output_type": "stream",
          "name": "stdout",
          "text": [
            "[[1 0 1]\n",
            " [4 0 0]\n",
            " [7 8 9]]\n",
            "[[1 0]\n",
            " [4 0]]\n",
            "[[ 1 10]\n",
            " [ 4 10]]\n",
            "[[1 0 1]\n",
            " [4 0 0]\n",
            " [7 8 9]]\n"
          ]
        }
      ]
    },
    {
      "cell_type": "markdown",
      "source": [
        "# 배열 변환"
      ],
      "metadata": {
        "id": "sS0Mrx9DTWNi"
      }
    },
    {
      "cell_type": "markdown",
      "source": [
        "## 배열 전치 및 축 변경"
      ],
      "metadata": {
        "id": "xr7qaqkaTX02"
      }
    },
    {
      "cell_type": "code",
      "source": [
        "print(a2)\n",
        "print(a2.T) # transpose"
      ],
      "metadata": {
        "colab": {
          "base_uri": "https://localhost:8080/"
        },
        "id": "g30z1X73TZOI",
        "outputId": "5bb91271-8803-45a2-b05e-81cf9ff70b5b"
      },
      "execution_count": null,
      "outputs": [
        {
          "output_type": "stream",
          "name": "stdout",
          "text": [
            "[[1 0 1]\n",
            " [4 0 0]\n",
            " [7 8 9]]\n",
            "[[1 4 7]\n",
            " [0 0 8]\n",
            " [1 0 9]]\n"
          ]
        }
      ]
    },
    {
      "cell_type": "code",
      "source": [
        "print(a3)\n",
        "print(a3.T)"
      ],
      "metadata": {
        "colab": {
          "base_uri": "https://localhost:8080/"
        },
        "id": "jlp3oqW4Td8w",
        "outputId": "0e197055-09fa-484b-8941-ca847770816e"
      },
      "execution_count": null,
      "outputs": [
        {
          "output_type": "stream",
          "name": "stdout",
          "text": [
            "[[[1 2]\n",
            "  [4 5]\n",
            "  [7 8]]\n",
            "\n",
            " [[1 2]\n",
            "  [4 5]\n",
            "  [7 8]]\n",
            "\n",
            " [[1 2]\n",
            "  [4 5]\n",
            "  [7 8]]\n",
            "\n",
            " [[1 2]\n",
            "  [4 5]\n",
            "  [7 8]]]\n",
            "[[[1 1 1 1]\n",
            "  [4 4 4 4]\n",
            "  [7 7 7 7]]\n",
            "\n",
            " [[2 2 2 2]\n",
            "  [5 5 5 5]\n",
            "  [8 8 8 8]]]\n"
          ]
        }
      ]
    },
    {
      "cell_type": "code",
      "source": [
        "print(a2)\n",
        "print(a2.swapaxes(1,0))"
      ],
      "metadata": {
        "colab": {
          "base_uri": "https://localhost:8080/"
        },
        "id": "v9SelfrtTpIv",
        "outputId": "107b930e-092d-4ca9-f38b-e525d76df302"
      },
      "execution_count": null,
      "outputs": [
        {
          "output_type": "stream",
          "name": "stdout",
          "text": [
            "[[1 0 1]\n",
            " [4 0 0]\n",
            " [7 8 9]]\n",
            "[[1 4 7]\n",
            " [0 0 8]\n",
            " [1 0 9]]\n"
          ]
        }
      ]
    },
    {
      "cell_type": "code",
      "source": [
        "print(a3)\n",
        "print(a3.swapaxes(0,1))\n",
        "print(a3.swapaxes(1,2))"
      ],
      "metadata": {
        "colab": {
          "base_uri": "https://localhost:8080/"
        },
        "id": "ZLSLYcjETtKT",
        "outputId": "89971ed4-758a-422a-b699-866f525c27ae"
      },
      "execution_count": null,
      "outputs": [
        {
          "output_type": "stream",
          "name": "stdout",
          "text": [
            "[[[1 2]\n",
            "  [4 5]\n",
            "  [7 8]]\n",
            "\n",
            " [[1 2]\n",
            "  [4 5]\n",
            "  [7 8]]\n",
            "\n",
            " [[1 2]\n",
            "  [4 5]\n",
            "  [7 8]]\n",
            "\n",
            " [[1 2]\n",
            "  [4 5]\n",
            "  [7 8]]]\n",
            "[[[1 2]\n",
            "  [1 2]\n",
            "  [1 2]\n",
            "  [1 2]]\n",
            "\n",
            " [[4 5]\n",
            "  [4 5]\n",
            "  [4 5]\n",
            "  [4 5]]\n",
            "\n",
            " [[7 8]\n",
            "  [7 8]\n",
            "  [7 8]\n",
            "  [7 8]]]\n",
            "[[[1 4 7]\n",
            "  [2 5 8]]\n",
            "\n",
            " [[1 4 7]\n",
            "  [2 5 8]]\n",
            "\n",
            " [[1 4 7]\n",
            "  [2 5 8]]\n",
            "\n",
            " [[1 4 7]\n",
            "  [2 5 8]]]\n"
          ]
        }
      ]
    },
    {
      "cell_type": "markdown",
      "source": [
        "## 배열 재구조화\n",
        "* reshape() : 배열의 형상을 변경"
      ],
      "metadata": {
        "id": "1H3MU4p6UXMF"
      }
    },
    {
      "cell_type": "code",
      "source": [
        "n1 = np.arange(1,10)\n",
        "print(n1)\n",
        "print(n1.reshape((3,3)))\n",
        "print(n1) #원본 배열이 변경되지 않는다"
      ],
      "metadata": {
        "colab": {
          "base_uri": "https://localhost:8080/"
        },
        "id": "9VUJH4ceUe1c",
        "outputId": "bce6706d-486d-490b-e88f-f78e240d3f2b"
      },
      "execution_count": null,
      "outputs": [
        {
          "output_type": "stream",
          "name": "stdout",
          "text": [
            "[1 2 3 4 5 6 7 8 9]\n",
            "[[1 2 3]\n",
            " [4 5 6]\n",
            " [7 8 9]]\n",
            "[1 2 3 4 5 6 7 8 9]\n"
          ]
        }
      ]
    },
    {
      "cell_type": "markdown",
      "source": [
        "* newaxis() : 새로운 축 추가"
      ],
      "metadata": {
        "id": "IyWp_oluUtOH"
      }
    },
    {
      "cell_type": "code",
      "source": [
        "print(n1)\n",
        "print(n1[np.newaxis, :5])\n",
        "print(n1[:5, np.newaxis])"
      ],
      "metadata": {
        "colab": {
          "base_uri": "https://localhost:8080/"
        },
        "id": "8Jd5WGDdUoCW",
        "outputId": "89dbb4e1-4217-484b-90dc-201087573f32"
      },
      "execution_count": null,
      "outputs": [
        {
          "output_type": "stream",
          "name": "stdout",
          "text": [
            "[1 2 3 4 5 6 7 8 9]\n",
            "[[1 2 3 4 5]]\n",
            "[[1]\n",
            " [2]\n",
            " [3]\n",
            " [4]\n",
            " [5]]\n"
          ]
        }
      ]
    },
    {
      "cell_type": "markdown",
      "source": [
        "## 배열 크기 변경"
      ],
      "metadata": {
        "id": "zX4T6fYfU9Rg"
      }
    },
    {
      "cell_type": "markdown",
      "source": [
        "* 배열 모양만 변경"
      ],
      "metadata": {
        "id": "mqfDsapqU_1Y"
      }
    },
    {
      "cell_type": "code",
      "source": [
        "n2 = np.random.randint(0,10,(2,5))\n",
        "print(n2)\n",
        "n2.resize((5,2)) #아무것도 출력되지않는다\n",
        "print(n2) #원본이 바뀐다"
      ],
      "metadata": {
        "colab": {
          "base_uri": "https://localhost:8080/"
        },
        "id": "nTPQsXofVBwT",
        "outputId": "20518461-a819-4aa2-87ff-d8104b7c2a76"
      },
      "execution_count": null,
      "outputs": [
        {
          "output_type": "stream",
          "name": "stdout",
          "text": [
            "[[6 4 7 3 5]\n",
            " [1 6 7 3 7]]\n",
            "[[6 4]\n",
            " [7 3]\n",
            " [5 1]\n",
            " [6 7]\n",
            " [3 7]]\n"
          ]
        }
      ]
    },
    {
      "cell_type": "markdown",
      "source": [
        "* 배열 크기 증가시 남은 공간은 0으로 채워짐 (현재 numpy버전에서는 안됨)\n",
        "\n",
        "\n"
      ],
      "metadata": {
        "id": "LQyIu5AsWwQf"
      }
    },
    {
      "cell_type": "code",
      "source": [
        "n2.resize((5,5), refcheck = False) #refcheck = False 가 없으면 오류\n",
        "print(n2)"
      ],
      "metadata": {
        "colab": {
          "base_uri": "https://localhost:8080/"
        },
        "id": "_b33Z4vmWsyP",
        "outputId": "9cd27786-6c9e-4dd3-e27d-70f2a3b7346a"
      },
      "execution_count": null,
      "outputs": [
        {
          "output_type": "stream",
          "name": "stdout",
          "text": [
            "[[6 4 7 3 5]\n",
            " [1 6 7 3 7]\n",
            " [0 0 0 0 0]\n",
            " [0 0 0 0 0]\n",
            " [0 0 0 0 0]]\n"
          ]
        }
      ]
    },
    {
      "cell_type": "code",
      "source": [
        "n2.resize((3,3), refcheck = False) #refcheck = False 가 없으면 오류\n",
        "print(n2)"
      ],
      "metadata": {
        "colab": {
          "base_uri": "https://localhost:8080/"
        },
        "id": "_JQPY_v3W1yX",
        "outputId": "82d44af9-8f5f-4e5d-ac82-08c340f493dd"
      },
      "execution_count": null,
      "outputs": [
        {
          "output_type": "stream",
          "name": "stdout",
          "text": [
            "[[6 4 7]\n",
            " [3 5 1]\n",
            " [6 7 3]]\n"
          ]
        }
      ]
    },
    {
      "cell_type": "markdown",
      "source": [
        "## 배열 추가\n",
        "* np.append() : 배열의 끝에 값 추가\n",
        "* array에서는 append 메소드를 사용할 수 없다.\n",
        "* np.append(a,b) 가능, a.append(b) 불가능\n",
        "\n"
      ],
      "metadata": {
        "id": "aGAQLp6CXsIL"
      }
    },
    {
      "cell_type": "code",
      "source": [
        "import numpy as np\n",
        "\n",
        "a2 = np.arange(1,10).reshape(3,3)\n",
        "print(a2)\n",
        "b2 = np.arange(10,19).reshape(3,3)\n",
        "print(b2)"
      ],
      "metadata": {
        "colab": {
          "base_uri": "https://localhost:8080/"
        },
        "id": "2INocFL8Xvpr",
        "outputId": "458f5891-138e-4448-cc94-d45ce062dab2"
      },
      "execution_count": null,
      "outputs": [
        {
          "output_type": "stream",
          "name": "stdout",
          "text": [
            "[[1 2 3]\n",
            " [4 5 6]\n",
            " [7 8 9]]\n",
            "[[10 11 12]\n",
            " [13 14 15]\n",
            " [16 17 18]]\n"
          ]
        }
      ]
    },
    {
      "cell_type": "markdown",
      "source": [
        "* axis 지정이 없으면 1차원 배열 형태로 변환되어 결합"
      ],
      "metadata": {
        "id": "caD5nmAcYCVX"
      }
    },
    {
      "cell_type": "code",
      "source": [
        "c2 = np.append(a2, b2)\n",
        "print(c2)"
      ],
      "metadata": {
        "colab": {
          "base_uri": "https://localhost:8080/"
        },
        "id": "5W91kl3VYE-g",
        "outputId": "0cb3b686-dcd7-4f00-a165-d578a328eaa7"
      },
      "execution_count": null,
      "outputs": [
        {
          "output_type": "stream",
          "name": "stdout",
          "text": [
            "[ 1  2  3  4  5  6  7  8  9 10 11 12 13 14 15 16 17 18]\n"
          ]
        }
      ]
    },
    {
      "cell_type": "markdown",
      "source": [
        "* axis를 0으로 지정\n",
        "* 열 shape 이 맞아야한다"
      ],
      "metadata": {
        "id": "pjBKn-AqYVau"
      }
    },
    {
      "cell_type": "code",
      "source": [
        "c2 = np.append(a2, b2, axis=0)\n",
        "print(c2)"
      ],
      "metadata": {
        "colab": {
          "base_uri": "https://localhost:8080/"
        },
        "id": "7yzJlBoKYZvF",
        "outputId": "4546652d-116d-44ff-f1be-bfb503f0b639"
      },
      "execution_count": null,
      "outputs": [
        {
          "output_type": "stream",
          "name": "stdout",
          "text": [
            "[[ 1  2  3]\n",
            " [ 4  5  6]\n",
            " [ 7  8  9]\n",
            " [10 11 12]\n",
            " [13 14 15]\n",
            " [16 17 18]]\n"
          ]
        }
      ]
    },
    {
      "cell_type": "markdown",
      "source": [
        "* axis를 1로 지정\n",
        "* 행 shape이 맞아야한다"
      ],
      "metadata": {
        "id": "baDvolVUYuGk"
      }
    },
    {
      "cell_type": "code",
      "source": [
        "c2 = np.append(a2,b2, axis=1)\n",
        "print(c2)"
      ],
      "metadata": {
        "colab": {
          "base_uri": "https://localhost:8080/"
        },
        "id": "fJM3-L_jYx4R",
        "outputId": "86200bf5-a970-4a9d-dda8-5cce20825cbb"
      },
      "execution_count": null,
      "outputs": [
        {
          "output_type": "stream",
          "name": "stdout",
          "text": [
            "[[ 1  2  3 10 11 12]\n",
            " [ 4  5  6 13 14 15]\n",
            " [ 7  8  9 16 17 18]]\n"
          ]
        }
      ]
    },
    {
      "cell_type": "markdown",
      "source": [
        "## 배열 연결\n",
        "* concatenate([array1, array2, array3...]) : 튜플이나 배열의 리스트를 인수로 사용해 배열 연결\n",
        "* np.append는 2개이하 배열 결합, np.concatenate는 여러 배열 결합 가능"
      ],
      "metadata": {
        "id": "tVm2dQ9aY2SH"
      }
    },
    {
      "cell_type": "code",
      "source": [
        "a1 = np.arange(1,7,2)\n",
        "b1 = np.arange(2,8,2)\n",
        "np.concatenate([a1,b1])"
      ],
      "metadata": {
        "colab": {
          "base_uri": "https://localhost:8080/"
        },
        "id": "lRf87PAqY1HN",
        "outputId": "2800f537-1c38-4102-cd0c-ce5a1c832909"
      },
      "execution_count": null,
      "outputs": [
        {
          "output_type": "execute_result",
          "data": {
            "text/plain": [
              "array([1, 3, 5, 2, 4, 6])"
            ]
          },
          "metadata": {},
          "execution_count": 7
        }
      ]
    },
    {
      "cell_type": "code",
      "source": [
        "c1 = np.arange(7,10)\n",
        "np.concatenate([a1,b1,c1])"
      ],
      "metadata": {
        "colab": {
          "base_uri": "https://localhost:8080/",
          "height": 241
        },
        "id": "UoFF9X0kZQMW",
        "outputId": "79df0dfd-670f-4f29-80a2-25f2d0af76ba"
      },
      "execution_count": null,
      "outputs": [
        {
          "output_type": "error",
          "ename": "TypeError",
          "evalue": "ignored",
          "traceback": [
            "\u001b[0;31m---------------------------------------------------------------------------\u001b[0m",
            "\u001b[0;31mTypeError\u001b[0m                                 Traceback (most recent call last)",
            "\u001b[0;32m<ipython-input-9-dd07828c1898>\u001b[0m in \u001b[0;36m<module>\u001b[0;34m\u001b[0m\n\u001b[1;32m      1\u001b[0m \u001b[0mc1\u001b[0m \u001b[0;34m=\u001b[0m \u001b[0mnp\u001b[0m\u001b[0;34m.\u001b[0m\u001b[0marange\u001b[0m\u001b[0;34m(\u001b[0m\u001b[0;36m7\u001b[0m\u001b[0;34m,\u001b[0m\u001b[0;36m10\u001b[0m\u001b[0;34m)\u001b[0m\u001b[0;34m\u001b[0m\u001b[0;34m\u001b[0m\u001b[0m\n\u001b[1;32m      2\u001b[0m \u001b[0mnp\u001b[0m\u001b[0;34m.\u001b[0m\u001b[0mconcatenate\u001b[0m\u001b[0;34m(\u001b[0m\u001b[0;34m[\u001b[0m\u001b[0ma1\u001b[0m\u001b[0;34m,\u001b[0m\u001b[0mb1\u001b[0m\u001b[0;34m,\u001b[0m\u001b[0mc1\u001b[0m\u001b[0;34m]\u001b[0m\u001b[0;34m)\u001b[0m\u001b[0;34m\u001b[0m\u001b[0;34m\u001b[0m\u001b[0m\n\u001b[0;32m----> 3\u001b[0;31m \u001b[0mnp\u001b[0m\u001b[0;34m.\u001b[0m\u001b[0mappend\u001b[0m\u001b[0;34m(\u001b[0m\u001b[0;34m[\u001b[0m\u001b[0ma1\u001b[0m\u001b[0;34m,\u001b[0m\u001b[0mb1\u001b[0m\u001b[0;34m,\u001b[0m\u001b[0mc1\u001b[0m\u001b[0;34m]\u001b[0m\u001b[0;34m)\u001b[0m\u001b[0;34m\u001b[0m\u001b[0;34m\u001b[0m\u001b[0m\n\u001b[0m",
            "\u001b[0;32m/usr/local/lib/python3.8/dist-packages/numpy/core/overrides.py\u001b[0m in \u001b[0;36mappend\u001b[0;34m(*args, **kwargs)\u001b[0m\n",
            "\u001b[0;31mTypeError\u001b[0m: _append_dispatcher() missing 1 required positional argument: 'values'"
          ]
        }
      ]
    },
    {
      "cell_type": "code",
      "source": [
        "a2 = np.arange(1,7).reshape(2,3)\n",
        "np.concatenate([a2,a2]) #default axis = 0"
      ],
      "metadata": {
        "colab": {
          "base_uri": "https://localhost:8080/"
        },
        "id": "01BdIfakZ6Cw",
        "outputId": "5062f1ca-0715-472c-997d-8fb6a5095b97"
      },
      "execution_count": null,
      "outputs": [
        {
          "output_type": "execute_result",
          "data": {
            "text/plain": [
              "array([[1, 2, 3],\n",
              "       [4, 5, 6],\n",
              "       [1, 2, 3],\n",
              "       [4, 5, 6]])"
            ]
          },
          "metadata": {},
          "execution_count": 120
        }
      ]
    },
    {
      "cell_type": "code",
      "source": [
        "a2 = np.arange(1,7).reshape(2,3)\n",
        "np.concatenate([a2,a2], axis = 1)"
      ],
      "metadata": {
        "colab": {
          "base_uri": "https://localhost:8080/"
        },
        "id": "gyFjjOcVgDwU",
        "outputId": "9364328b-935b-48bb-ba5d-b630cb0d5f19"
      },
      "execution_count": null,
      "outputs": [
        {
          "output_type": "execute_result",
          "data": {
            "text/plain": [
              "array([[1, 2, 3, 1, 2, 3],\n",
              "       [4, 5, 6, 4, 5, 6]])"
            ]
          },
          "metadata": {},
          "execution_count": 121
        }
      ]
    },
    {
      "cell_type": "markdown",
      "source": [
        "* vstack() : 수직 스택, 1차원으로 연결"
      ],
      "metadata": {
        "id": "SwgMx6isgJpg"
      }
    },
    {
      "cell_type": "code",
      "source": [
        "np.vstack([a2,a2])"
      ],
      "metadata": {
        "colab": {
          "base_uri": "https://localhost:8080/"
        },
        "id": "Z15UCGYngMlw",
        "outputId": "2cc34b77-ecf4-437f-f48e-e1418b5d34b8"
      },
      "execution_count": null,
      "outputs": [
        {
          "output_type": "execute_result",
          "data": {
            "text/plain": [
              "array([[1, 2, 3],\n",
              "       [4, 5, 6],\n",
              "       [1, 2, 3],\n",
              "       [4, 5, 6]])"
            ]
          },
          "metadata": {},
          "execution_count": 122
        }
      ]
    },
    {
      "cell_type": "markdown",
      "source": [
        "* hstack() : 수평스택, 2차원으로 연결"
      ],
      "metadata": {
        "id": "_0rrQ35BgPvw"
      }
    },
    {
      "cell_type": "code",
      "source": [
        "np.hstack([a2,a2])"
      ],
      "metadata": {
        "colab": {
          "base_uri": "https://localhost:8080/"
        },
        "id": "3OGFrifsgX-V",
        "outputId": "9f8d7a9a-bf79-4b51-f811-6feeb017d920"
      },
      "execution_count": null,
      "outputs": [
        {
          "output_type": "execute_result",
          "data": {
            "text/plain": [
              "array([[1, 2, 3, 1, 2, 3],\n",
              "       [4, 5, 6, 4, 5, 6]])"
            ]
          },
          "metadata": {},
          "execution_count": 123
        }
      ]
    },
    {
      "cell_type": "markdown",
      "source": [
        "* dstack() : 깊이 스택, 3차원으로 연결"
      ],
      "metadata": {
        "id": "L2u7JtG9gayh"
      }
    },
    {
      "cell_type": "code",
      "source": [
        "np.dstack([a2,a2])"
      ],
      "metadata": {
        "colab": {
          "base_uri": "https://localhost:8080/"
        },
        "id": "utcyUyzKgdu0",
        "outputId": "47ee96ff-f77c-4102-931e-0e3766b6fcae"
      },
      "execution_count": null,
      "outputs": [
        {
          "output_type": "execute_result",
          "data": {
            "text/plain": [
              "array([[[1, 1],\n",
              "        [2, 2],\n",
              "        [3, 3]],\n",
              "\n",
              "       [[4, 4],\n",
              "        [5, 5],\n",
              "        [6, 6]]])"
            ]
          },
          "metadata": {},
          "execution_count": 124
        }
      ]
    },
    {
      "cell_type": "markdown",
      "source": [
        "* stack() : 새로운 차원으로 연결"
      ],
      "metadata": {
        "id": "Hfila-aQgiXs"
      }
    },
    {
      "cell_type": "code",
      "source": [
        "np.stack([a2,a2])"
      ],
      "metadata": {
        "colab": {
          "base_uri": "https://localhost:8080/"
        },
        "id": "wLNPdQ94gkQl",
        "outputId": "11c44f58-e635-4ed6-cfd6-dc13fafa4215"
      },
      "execution_count": null,
      "outputs": [
        {
          "output_type": "execute_result",
          "data": {
            "text/plain": [
              "array([[[1, 2, 3],\n",
              "        [4, 5, 6]],\n",
              "\n",
              "       [[1, 2, 3],\n",
              "        [4, 5, 6]]])"
            ]
          },
          "metadata": {},
          "execution_count": 125
        }
      ]
    },
    {
      "cell_type": "markdown",
      "source": [
        "## 배열 분할"
      ],
      "metadata": {
        "id": "NR_Ux2QfgrSJ"
      }
    },
    {
      "cell_type": "code",
      "source": [
        "# split() : 배열 분할\n",
        "\n",
        "a1 = np.arange(0,10)\n",
        "print(a1)\n",
        "b1, c1 = np.split(a1,[5])\n",
        "print(b1,c1)\n",
        "\n",
        "b1, c1, d1, e1, f1 = np.split(a1, [2,4,6,8])\n",
        "print(b1,c1,d1,e1,f1)"
      ],
      "metadata": {
        "colab": {
          "base_uri": "https://localhost:8080/"
        },
        "id": "H-Z3Q2O9guiY",
        "outputId": "d9c56e53-a252-4168-84fe-65b2bd802065"
      },
      "execution_count": null,
      "outputs": [
        {
          "output_type": "stream",
          "name": "stdout",
          "text": [
            "[0 1 2 3 4 5 6 7 8 9]\n",
            "[0 1 2 3 4] [5 6 7 8 9]\n",
            "[0 1] [2 3] [4 5] [6 7] [8 9]\n"
          ]
        }
      ]
    },
    {
      "cell_type": "code",
      "source": [
        "# vsplit() : 수직분할\n",
        "\n",
        "a2 = np.arange(1,10).reshape(3,3)\n",
        "print(a2)\n",
        "b2,c2 = np.vsplit(a2, [2])\n",
        "print(b2); print(c2)"
      ],
      "metadata": {
        "colab": {
          "base_uri": "https://localhost:8080/"
        },
        "id": "oDNeASuug6_O",
        "outputId": "29422f73-8f1b-45d2-e6d2-3d37ee35a4b3"
      },
      "execution_count": null,
      "outputs": [
        {
          "output_type": "stream",
          "name": "stdout",
          "text": [
            "[[1 2 3]\n",
            " [4 5 6]\n",
            " [7 8 9]]\n",
            "[[1 2 3]\n",
            " [4 5 6]]\n",
            "[[7 8 9]]\n"
          ]
        }
      ]
    },
    {
      "cell_type": "code",
      "source": [
        "# hsplit() : 수평분할\n",
        "\n",
        "a2 = np.arange(1,10).reshape(3,3)\n",
        "print(a2)\n",
        "b2,c2 = np.hsplit(a2, [2])\n",
        "print(b2); print(c2)"
      ],
      "metadata": {
        "colab": {
          "base_uri": "https://localhost:8080/"
        },
        "id": "ITx1TNhChdLx",
        "outputId": "7f394590-206a-4ed1-e3a9-8508b6d3a034"
      },
      "execution_count": null,
      "outputs": [
        {
          "output_type": "stream",
          "name": "stdout",
          "text": [
            "[[1 2 3]\n",
            " [4 5 6]\n",
            " [7 8 9]]\n",
            "[[1 2]\n",
            " [4 5]\n",
            " [7 8]]\n",
            "[[3]\n",
            " [6]\n",
            " [9]]\n"
          ]
        }
      ]
    },
    {
      "cell_type": "code",
      "source": [
        "# dsplit() : 깊이분할\n",
        "\n",
        "a3 = np.arange(1,28).reshape(3,3,3)\n",
        "print(a3)\n",
        "b3,c3 = np.dsplit(a3,[2])\n",
        "print(b3)\n",
        "print(c3)"
      ],
      "metadata": {
        "colab": {
          "base_uri": "https://localhost:8080/"
        },
        "id": "BTfAPf2dhk5j",
        "outputId": "07dcebe6-9314-4cde-bf18-169c92ede2cb"
      },
      "execution_count": null,
      "outputs": [
        {
          "output_type": "stream",
          "name": "stdout",
          "text": [
            "[[[ 1  2  3]\n",
            "  [ 4  5  6]\n",
            "  [ 7  8  9]]\n",
            "\n",
            " [[10 11 12]\n",
            "  [13 14 15]\n",
            "  [16 17 18]]\n",
            "\n",
            " [[19 20 21]\n",
            "  [22 23 24]\n",
            "  [25 26 27]]]\n",
            "[[[ 1  2]\n",
            "  [ 4  5]\n",
            "  [ 7  8]]\n",
            "\n",
            " [[10 11]\n",
            "  [13 14]\n",
            "  [16 17]]\n",
            "\n",
            " [[19 20]\n",
            "  [22 23]\n",
            "  [25 26]]]\n",
            "[[[ 3]\n",
            "  [ 6]\n",
            "  [ 9]]\n",
            "\n",
            " [[12]\n",
            "  [15]\n",
            "  [18]]\n",
            "\n",
            " [[21]\n",
            "  [24]\n",
            "  [27]]]\n"
          ]
        }
      ]
    },
    {
      "cell_type": "markdown",
      "source": [
        "# 배열 연산\n",
        "* NumPy의 배열 연산은 벡터화(vectoried) 연산을 사용\n",
        "* 일반적으루 NumPy의 범용 함수(universal functions)를 통해 구현\n",
        "* 배열 요소에 대한 반복적인 계산을 효율적으로 수행\n"
      ],
      "metadata": {
        "id": "as3J5AXuic4V"
      }
    },
    {
      "cell_type": "markdown",
      "source": [
        "## 브로드캐스팅\n",
        "* shape(행방향 or 열방향)이 동일해야 한다"
      ],
      "metadata": {
        "id": "sJBmnos3ip8j"
      }
    },
    {
      "cell_type": "code",
      "source": [
        "a1 = np.arange(1,4)\n",
        "print(a1)\n",
        "print(a1 + 1, '\\n') # [1,2,3] + 5 error\n",
        "\n",
        "a2 = np.arange(1,10).reshape(3,3)\n",
        "print(a2)\n",
        "print(a1 + a2, '\\n')\n",
        "\n",
        "b2 = np.arange(1,4).reshape(3,1)\n",
        "print(b2)\n",
        "print(a1 + b2)"
      ],
      "metadata": {
        "colab": {
          "base_uri": "https://localhost:8080/"
        },
        "id": "QeMAKdLais3z",
        "outputId": "d8db8627-8422-4f16-e2e4-cd0419ac45e7"
      },
      "execution_count": null,
      "outputs": [
        {
          "output_type": "stream",
          "name": "stdout",
          "text": [
            "[1 2 3]\n",
            "[2 3 4] \n",
            "\n",
            "[[1 2 3]\n",
            " [4 5 6]\n",
            " [7 8 9]]\n",
            "[[ 2  4  6]\n",
            " [ 5  7  9]\n",
            " [ 8 10 12]] \n",
            "\n",
            "[[1]\n",
            " [2]\n",
            " [3]]\n",
            "[[2 3 4]\n",
            " [3 4 5]\n",
            " [4 5 6]]\n"
          ]
        }
      ]
    },
    {
      "cell_type": "markdown",
      "source": [
        "## 산술 연산"
      ],
      "metadata": {
        "id": "jVwgN2kEj7sj"
      }
    },
    {
      "cell_type": "code",
      "source": [
        "# np.add, np.subtract\n",
        "\n",
        "a1 = np.arange(1,10)\n",
        "print(a1)\n",
        "print(a1 + 1)\n",
        "print(np.add(a1, 10)) # not np.sum()\n",
        "print(a1-2)\n",
        "print(np.subtract(a1,10))"
      ],
      "metadata": {
        "colab": {
          "base_uri": "https://localhost:8080/"
        },
        "id": "iVnuI7ylj-rA",
        "outputId": "38ec4b81-db8e-44c1-ad4b-fce149114cde"
      },
      "execution_count": null,
      "outputs": [
        {
          "output_type": "stream",
          "name": "stdout",
          "text": [
            "[1 2 3 4 5 6 7 8 9]\n",
            "[ 2  3  4  5  6  7  8  9 10]\n",
            "[11 12 13 14 15 16 17 18 19]\n",
            "[-1  0  1  2  3  4  5  6  7]\n",
            "[-9 -8 -7 -6 -5 -4 -3 -2 -1]\n"
          ]
        }
      ]
    },
    {
      "cell_type": "code",
      "source": [
        "# np.negative\n",
        "\n",
        "print(-a1)\n",
        "print(np.negative(a1))"
      ],
      "metadata": {
        "colab": {
          "base_uri": "https://localhost:8080/"
        },
        "id": "4n_BUVzOkc1l",
        "outputId": "67cf7c0b-e442-478d-e604-a208b4b39354"
      },
      "execution_count": null,
      "outputs": [
        {
          "output_type": "stream",
          "name": "stdout",
          "text": [
            "[-1 -2 -3 -4 -5 -6 -7 -8 -9]\n",
            "[-1 -2 -3 -4 -5 -6 -7 -8 -9]\n"
          ]
        }
      ]
    },
    {
      "cell_type": "code",
      "source": [
        "# np.multiply, np.divide, np.floor_divide\n",
        "\n",
        "print(a1 * 3)\n",
        "print(np.multiply(a1, 3), '\\n')\n",
        "\n",
        "print(a1 / 2)\n",
        "print(np.divide(a1,2), '\\n')\n",
        "\n",
        "print(a1 // 2)\n",
        "print(np.floor_divide(a1,2)) #round_divide, celing_divide 는 없다"
      ],
      "metadata": {
        "colab": {
          "base_uri": "https://localhost:8080/"
        },
        "id": "vhOF-eFekpw9",
        "outputId": "cf61dc7a-31f1-46c0-a8cf-104ea44e2b8e"
      },
      "execution_count": null,
      "outputs": [
        {
          "output_type": "stream",
          "name": "stdout",
          "text": [
            "[ 3  6  9 12 15 18 21 24 27]\n",
            "[ 3  6  9 12 15 18 21 24 27] \n",
            "\n",
            "[0.5 1.  1.5 2.  2.5 3.  3.5 4.  4.5]\n",
            "[0.5 1.  1.5 2.  2.5 3.  3.5 4.  4.5] \n",
            "\n",
            "[0 1 1 2 2 3 3 4 4]\n",
            "[0 1 1 2 2 3 3 4 4]\n"
          ]
        }
      ]
    },
    {
      "cell_type": "code",
      "source": [
        "# np.power, np.mod\n",
        "\n",
        "print(a1 ** 2)\n",
        "print(np.power(a1, 2), '\\n')\n",
        "\n",
        "print(a1 % 2)\n",
        "print(np.mod(a1,2))"
      ],
      "metadata": {
        "colab": {
          "base_uri": "https://localhost:8080/"
        },
        "id": "1GA2nTfdlVBK",
        "outputId": "5400115f-701e-47ce-8f56-216f7e7a1eac"
      },
      "execution_count": null,
      "outputs": [
        {
          "output_type": "stream",
          "name": "stdout",
          "text": [
            "[ 1  4  9 16 25 36 49 64 81]\n",
            "[ 1  4  9 16 25 36 49 64 81] \n",
            "\n",
            "[1 0 1 0 1 0 1 0 1]\n",
            "[1 0 1 0 1 0 1 0 1]\n"
          ]
        }
      ]
    },
    {
      "cell_type": "code",
      "source": [
        "#배열의 shape이 맞다면 서로다른 배열에대해 연산이 가능하다.\n",
        "\n",
        "a1 = np.arange(1,10)\n",
        "print(a1)\n",
        "\n",
        "np.random.seed(3)\n",
        "b1 = np.random.randint(1,10, size = 18).reshape(2,9)\n",
        "print(b1,'\\n')\n",
        "\n",
        "print(np.add(a1,b1),'\\n')\n",
        "print(np.subtract(a1,b1),'\\n')\n",
        "print(np.multiply(a1,b1),'\\n')\n",
        "print(np.divide(a1,b1),'\\n')\n",
        "print(np.floor_divide(a1,b1),'\\n')\n",
        "print(np.power(a1,b1),'\\n')\n",
        "print(np.mod(a1,b1),'\\n')"
      ],
      "metadata": {
        "colab": {
          "base_uri": "https://localhost:8080/"
        },
        "id": "LAcJ6ShZlngY",
        "outputId": "374809c5-40d9-40e4-9152-d889c35d447f"
      },
      "execution_count": null,
      "outputs": [
        {
          "output_type": "stream",
          "name": "stdout",
          "text": [
            "[1 2 3 4 5 6 7 8 9]\n",
            "[[9 4 9 9 1 6 4 6 8]\n",
            " [7 1 5 8 9 2 7 3 3]] \n",
            "\n",
            "[[10  6 12 13  6 12 11 14 17]\n",
            " [ 8  3  8 12 14  8 14 11 12]] \n",
            "\n",
            "[[-8 -2 -6 -5  4  0  3  2  1]\n",
            " [-6  1 -2 -4 -4  4  0  5  6]] \n",
            "\n",
            "[[ 9  8 27 36  5 36 28 48 72]\n",
            " [ 7  2 15 32 45 12 49 24 27]] \n",
            "\n",
            "[[0.11111111 0.5        0.33333333 0.44444444 5.         1.\n",
            "  1.75       1.33333333 1.125     ]\n",
            " [0.14285714 2.         0.6        0.5        0.55555556 3.\n",
            "  1.         2.66666667 3.        ]] \n",
            "\n",
            "[[0 0 0 0 5 1 1 1 1]\n",
            " [0 2 0 0 0 3 1 2 3]] \n",
            "\n",
            "[[       1       16    19683   262144        5    46656     2401   262144\n",
            "  43046721]\n",
            " [       1        2      243    65536  1953125       36   823543      512\n",
            "       729]] \n",
            "\n",
            "[[1 2 3 4 0 0 3 2 1]\n",
            " [1 0 3 4 5 0 0 2 0]] \n",
            "\n"
          ]
        }
      ]
    },
    {
      "cell_type": "markdown",
      "source": [
        "## 절대값 함수"
      ],
      "metadata": {
        "id": "DQLA0AzXnfQv"
      }
    },
    {
      "cell_type": "code",
      "source": [
        "# absolute(), abs(): 내장된 절대값함수\n",
        "\n",
        "a1 = np.random.randint(-10,10, size = 5)\n",
        "\n",
        "print(a1)\n",
        "print(np.absolute(a1))\n",
        "print(abs(a1))"
      ],
      "metadata": {
        "colab": {
          "base_uri": "https://localhost:8080/"
        },
        "id": "TeruFE2JnhPx",
        "outputId": "6e161dbc-43c3-4bfb-be66-0b3dc962c3eb"
      },
      "execution_count": null,
      "outputs": [
        {
          "output_type": "stream",
          "name": "stdout",
          "text": [
            "[-9  9 -5 -2  4]\n",
            "[9 9 5 2 4]\n",
            "[9 9 5 2 4]\n"
          ]
        }
      ]
    },
    {
      "cell_type": "markdown",
      "source": [
        "## 제곱/제곱근 함수"
      ],
      "metadata": {
        "id": "BFBXLD13oHHH"
      }
    },
    {
      "cell_type": "code",
      "source": [
        "print(a1)\n",
        "print(np.square(a1))\n",
        "print(np.sqrt(abs(a1)))"
      ],
      "metadata": {
        "colab": {
          "base_uri": "https://localhost:8080/"
        },
        "id": "B5zVy33AoI0j",
        "outputId": "e462db16-9ff9-465c-f6c5-b8de96fe2af6"
      },
      "execution_count": null,
      "outputs": [
        {
          "output_type": "stream",
          "name": "stdout",
          "text": [
            "[-9  9 -5 -2  4]\n",
            "[81 81 25  4 16]\n",
            "[3.         3.         2.23606798 1.41421356 2.        ]\n"
          ]
        }
      ]
    },
    {
      "cell_type": "markdown",
      "source": [
        "## 지수와 로그 함수"
      ],
      "metadata": {
        "id": "Nu_txd8loVAw"
      }
    },
    {
      "cell_type": "code",
      "source": [
        "a1 = np.random.randint(1,10,size = 5)\n",
        "print(a1)\n",
        "print(np.exp(a1)) # e**a1\n",
        "print(np.exp2(a1)) # 2**a1\n",
        "print(np.power(a1,2)) # a1**2"
      ],
      "metadata": {
        "colab": {
          "base_uri": "https://localhost:8080/"
        },
        "id": "VVuB6HqLoWbM",
        "outputId": "96074957-1d26-43d5-ff94-459edf0539bf"
      },
      "execution_count": null,
      "outputs": [
        {
          "output_type": "stream",
          "name": "stdout",
          "text": [
            "[2 9 8 9 2]\n",
            "[7.38905610e+00 8.10308393e+03 2.98095799e+03 8.10308393e+03\n",
            " 7.38905610e+00]\n",
            "[  4. 512. 256. 512.   4.]\n",
            "[ 4 81 64 81  4]\n"
          ]
        }
      ]
    },
    {
      "cell_type": "code",
      "source": [
        "print(a1)\n",
        "print(np.log(a1))\n",
        "print(np.log2(a1))\n",
        "print(np.log10(a1))\n",
        "np.log()"
      ],
      "metadata": {
        "colab": {
          "base_uri": "https://localhost:8080/"
        },
        "id": "YGBFUC4VpCcR",
        "outputId": "78deab3a-06ca-4392-fcf0-1ef37a754edf"
      },
      "execution_count": null,
      "outputs": [
        {
          "output_type": "stream",
          "name": "stdout",
          "text": [
            "[2 9 8 9 2]\n",
            "[0.69314718 2.19722458 2.07944154 2.19722458 0.69314718]\n",
            "[1.       3.169925 3.       3.169925 1.      ]\n",
            "[0.30103    0.95424251 0.90308999 0.95424251 0.30103   ]\n"
          ]
        }
      ]
    },
    {
      "cell_type": "markdown",
      "source": [
        "## 삼각함수"
      ],
      "metadata": {
        "id": "FJwFlL1rpQFa"
      }
    },
    {
      "cell_type": "code",
      "source": [
        "t = np.linspace(0, np.pi, 3)\n",
        "print(t)\n",
        "print(np.sin(t))\n",
        "print(np.cos(t))\n",
        "print(np.tan(t))"
      ],
      "metadata": {
        "colab": {
          "base_uri": "https://localhost:8080/"
        },
        "id": "VibItmqMpRPm",
        "outputId": "8cce4ee6-0c0b-4a0c-a1a4-8bc530b8291f"
      },
      "execution_count": null,
      "outputs": [
        {
          "output_type": "stream",
          "name": "stdout",
          "text": [
            "[0.         1.57079633 3.14159265]\n",
            "[0.0000000e+00 1.0000000e+00 1.2246468e-16]\n",
            "[ 1.000000e+00  6.123234e-17 -1.000000e+00]\n",
            "[ 0.00000000e+00  1.63312394e+16 -1.22464680e-16]\n"
          ]
        }
      ]
    },
    {
      "cell_type": "code",
      "source": [
        "x = [-1,0,1]\n",
        "print(x)\n",
        "print(np.arcsin(x))\n",
        "print(np.arccos(x))\n",
        "print(np.arctan(x))"
      ],
      "metadata": {
        "colab": {
          "base_uri": "https://localhost:8080/"
        },
        "id": "Kt_XegokqD24",
        "outputId": "26167f3d-adb7-4350-9a03-06b46753a6e5"
      },
      "execution_count": null,
      "outputs": [
        {
          "output_type": "stream",
          "name": "stdout",
          "text": [
            "[-1, 0, 1]\n",
            "[-1.57079633  0.          1.57079633]\n",
            "[3.14159265 1.57079633 0.        ]\n",
            "[-0.78539816  0.          0.78539816]\n"
          ]
        }
      ]
    },
    {
      "cell_type": "markdown",
      "source": [
        "## 집계함수"
      ],
      "metadata": {
        "id": "Sk6Q4eUPqOC8"
      }
    },
    {
      "cell_type": "code",
      "source": [
        "# sum() : 모든 원소의 합 계산\n",
        "\n",
        "np.random.seed(4)\n",
        "a2 = np.random.randint(1,10, size=(2, 3, 5))\n",
        "print(a2)\n",
        "print(a2.sum())\n",
        "print(a2.sum(axis = 0))\n",
        "print('')\n",
        "print(a2.sum(axis = 1))\n",
        "print('')\n",
        "print(a2.sum(axis = 2))\n",
        "#print(np.sum(a2), np.sum(a2, axis = 0), np.sum(a2, axis = 1), np.sum(a2, axis=2))"
      ],
      "metadata": {
        "colab": {
          "base_uri": "https://localhost:8080/"
        },
        "id": "EXG1RnV2qTSp",
        "outputId": "1a6f0887-61e0-4c60-ff98-846008f35aa7"
      },
      "execution_count": null,
      "outputs": [
        {
          "output_type": "stream",
          "name": "stdout",
          "text": [
            "[[[8 6 2 9 8]\n",
            "  [9 3 8 8 8]\n",
            "  [9 5 3 7 5]]\n",
            "\n",
            " [[4 1 8 6 6]\n",
            "  [7 7 9 3 6]\n",
            "  [9 2 3 8 1]]]\n",
            "178\n",
            "[[12  7 10 15 14]\n",
            " [16 10 17 11 14]\n",
            " [18  7  6 15  6]]\n",
            "\n",
            "[[26 14 13 24 21]\n",
            " [20 10 20 17 13]]\n",
            "\n",
            "[[33 36 29]\n",
            " [25 32 23]]\n"
          ]
        }
      ]
    },
    {
      "cell_type": "code",
      "source": [
        "a2 = np.random.randint(1,10, size=(2, 3, 5, 4))\n",
        "a2"
      ],
      "metadata": {
        "colab": {
          "base_uri": "https://localhost:8080/"
        },
        "id": "00XXHdP20bhp",
        "outputId": "d2798dcb-4b26-44e5-db0c-87c7eeda4cd4"
      },
      "execution_count": null,
      "outputs": [
        {
          "output_type": "execute_result",
          "data": {
            "text/plain": [
              "array([[[[6, 6, 2, 9],\n",
              "         [8, 6, 1, 4],\n",
              "         [1, 7, 7, 7],\n",
              "         [3, 9, 8, 9],\n",
              "         [1, 4, 9, 2]],\n",
              "\n",
              "        [[8, 9, 3, 8],\n",
              "         [1, 1, 6, 8],\n",
              "         [3, 2, 8, 1],\n",
              "         [6, 1, 8, 6],\n",
              "         [1, 3, 7, 2]],\n",
              "\n",
              "        [[9, 9, 5, 2],\n",
              "         [2, 3, 5, 4],\n",
              "         [8, 2, 3, 5],\n",
              "         [6, 5, 5, 6],\n",
              "         [9, 2, 2, 5]]],\n",
              "\n",
              "\n",
              "       [[[9, 2, 5, 5],\n",
              "         [8, 2, 5, 3],\n",
              "         [7, 8, 4, 8],\n",
              "         [5, 5, 9, 9],\n",
              "         [7, 3, 6, 1]],\n",
              "\n",
              "        [[1, 6, 6, 7],\n",
              "         [8, 3, 3, 4],\n",
              "         [2, 5, 8, 8],\n",
              "         [3, 6, 5, 3],\n",
              "         [7, 1, 2, 3]],\n",
              "\n",
              "        [[7, 7, 7, 6],\n",
              "         [7, 2, 6, 6],\n",
              "         [5, 4, 5, 1],\n",
              "         [6, 7, 2, 9],\n",
              "         [6, 1, 6, 3]]]])"
            ]
          },
          "metadata": {},
          "execution_count": 37
        }
      ]
    },
    {
      "cell_type": "code",
      "source": [
        "# cumsum() : 누적합 계산\n",
        "\n",
        "print(a2)\n",
        "print(np.cumsum(a2))\n",
        "print(np.cumsum(a2, axis = 0))\n",
        "print(np.cumsum(a2, axis = 1))"
      ],
      "metadata": {
        "colab": {
          "base_uri": "https://localhost:8080/"
        },
        "id": "50pyb8shrcft",
        "outputId": "fd267c3a-4c95-4fdf-ad72-6d9ca4cd6fe1"
      },
      "execution_count": null,
      "outputs": [
        {
          "output_type": "stream",
          "name": "stdout",
          "text": [
            "[[1 6 5]\n",
            " [2 6 5]\n",
            " [8 7 1]]\n",
            "[ 1  7 12 14 20 25 33 40 41]\n",
            "[[ 1  6  5]\n",
            " [ 3 12 10]\n",
            " [11 19 11]]\n",
            "[[ 1  7 12]\n",
            " [ 2  8 13]\n",
            " [ 8 15 16]]\n"
          ]
        }
      ]
    },
    {
      "cell_type": "code",
      "source": [
        "# diff() : 차분 계산\n",
        "\n",
        "print(a2)\n",
        "print(np.diff(a2))\n",
        "print(np.diff(a2, axis = 0))\n",
        "print(np.diff(a2, axis = 1))"
      ],
      "metadata": {
        "colab": {
          "base_uri": "https://localhost:8080/"
        },
        "id": "cRTwMbFHruvV",
        "outputId": "25f8c2fb-3c61-49e3-c5e5-d061a004b751"
      },
      "execution_count": null,
      "outputs": [
        {
          "output_type": "stream",
          "name": "stdout",
          "text": [
            "[[1 6 5]\n",
            " [2 6 5]\n",
            " [8 7 1]]\n",
            "[[ 5 -1]\n",
            " [ 4 -1]\n",
            " [-1 -6]]\n",
            "[[ 1  0  0]\n",
            " [ 6  1 -4]]\n",
            "[[ 5 -1]\n",
            " [ 4 -1]\n",
            " [-1 -6]]\n"
          ]
        }
      ]
    },
    {
      "cell_type": "code",
      "source": [
        "# prod(): 모든 원소의 곱의 합 계산\n",
        "\n",
        "print(a2)\n",
        "print(np.prod(a2))\n",
        "print(np.prod(a2, axis = 0))\n",
        "print(np.prod(a2, axis = 1))"
      ],
      "metadata": {
        "colab": {
          "base_uri": "https://localhost:8080/"
        },
        "id": "nKEjezE7r8DQ",
        "outputId": "aecca0e6-2b88-4e52-cfa3-bfb5217df16f"
      },
      "execution_count": null,
      "outputs": [
        {
          "output_type": "stream",
          "name": "stdout",
          "text": [
            "[[1 6 5]\n",
            " [2 6 5]\n",
            " [8 7 1]]\n",
            "100800\n",
            "[ 16 252  25]\n",
            "[30 60 56]\n"
          ]
        }
      ]
    },
    {
      "cell_type": "code",
      "source": [
        "# cumprod(): 누적곱 계산\n",
        "\n",
        "print(a2)\n",
        "print(np.cumprod(a2))\n",
        "print(np.cumprod(a2, axis = 0))\n",
        "print(np.cumprod(a2, axis = 1))"
      ],
      "metadata": {
        "colab": {
          "base_uri": "https://localhost:8080/"
        },
        "id": "FE7NJJDHsNIq",
        "outputId": "b67b2e0d-7377-47e6-d6ac-855b4df5e3a5"
      },
      "execution_count": null,
      "outputs": [
        {
          "output_type": "stream",
          "name": "stdout",
          "text": [
            "[[1 6 5]\n",
            " [2 6 5]\n",
            " [8 7 1]]\n",
            "[     1      6     30     60    360   1800  14400 100800 100800]\n",
            "[[  1   6   5]\n",
            " [  2  36  25]\n",
            " [ 16 252  25]]\n",
            "[[ 1  6 30]\n",
            " [ 2 12 60]\n",
            " [ 8 56 56]]\n"
          ]
        }
      ]
    },
    {
      "cell_type": "code",
      "source": [
        "# dot()/matmul() : 행렬곱 계산\n",
        "\n",
        "print(a2)\n",
        "b2 = np.ones_like(a2)\n",
        "print(b2)\n",
        "print(np.dot(a2,b2))\n",
        "print(np.matmul(a2,b2))"
      ],
      "metadata": {
        "colab": {
          "base_uri": "https://localhost:8080/"
        },
        "id": "DuD-dFg1sZCe",
        "outputId": "6aba5ebe-3c3d-45fa-adcf-0cde60957199"
      },
      "execution_count": null,
      "outputs": [
        {
          "output_type": "stream",
          "name": "stdout",
          "text": [
            "[[1 6 5]\n",
            " [2 6 5]\n",
            " [8 7 1]]\n",
            "[[1 1 1]\n",
            " [1 1 1]\n",
            " [1 1 1]]\n",
            "[[12 12 12]\n",
            " [13 13 13]\n",
            " [16 16 16]]\n",
            "[[12 12 12]\n",
            " [13 13 13]\n",
            " [16 16 16]]\n"
          ]
        }
      ]
    },
    {
      "cell_type": "code",
      "source": [
        "# tensordot() : 텐서 곱 계산\n",
        "\n",
        "print(a2)\n",
        "print(b2)\n",
        "print(np.tensordot(a2,b2))\n",
        "print(np.tensordot(a2, b2, axes = 0))\n",
        "print(np.tensordot(a2, b2, axes = 1))"
      ],
      "metadata": {
        "colab": {
          "base_uri": "https://localhost:8080/"
        },
        "id": "y3EZPrT-svCs",
        "outputId": "2d2ada2c-5eed-49fe-b411-7042f8165437"
      },
      "execution_count": null,
      "outputs": [
        {
          "output_type": "stream",
          "name": "stdout",
          "text": [
            "[[1 6 5]\n",
            " [2 6 5]\n",
            " [8 7 1]]\n",
            "[[1 1 1]\n",
            " [1 1 1]\n",
            " [1 1 1]]\n",
            "41\n",
            "[[[[1 1 1]\n",
            "   [1 1 1]\n",
            "   [1 1 1]]\n",
            "\n",
            "  [[6 6 6]\n",
            "   [6 6 6]\n",
            "   [6 6 6]]\n",
            "\n",
            "  [[5 5 5]\n",
            "   [5 5 5]\n",
            "   [5 5 5]]]\n",
            "\n",
            "\n",
            " [[[2 2 2]\n",
            "   [2 2 2]\n",
            "   [2 2 2]]\n",
            "\n",
            "  [[6 6 6]\n",
            "   [6 6 6]\n",
            "   [6 6 6]]\n",
            "\n",
            "  [[5 5 5]\n",
            "   [5 5 5]\n",
            "   [5 5 5]]]\n",
            "\n",
            "\n",
            " [[[8 8 8]\n",
            "   [8 8 8]\n",
            "   [8 8 8]]\n",
            "\n",
            "  [[7 7 7]\n",
            "   [7 7 7]\n",
            "   [7 7 7]]\n",
            "\n",
            "  [[1 1 1]\n",
            "   [1 1 1]\n",
            "   [1 1 1]]]]\n",
            "[[12 12 12]\n",
            " [13 13 13]\n",
            " [16 16 16]]\n"
          ]
        }
      ]
    },
    {
      "cell_type": "code",
      "source": [
        "# cross(): 벡터곱\n",
        "\n",
        "x = [1,2,3]\n",
        "y = [4,5,6]\n",
        "\n",
        "print(np.cross(x,y))"
      ],
      "metadata": {
        "colab": {
          "base_uri": "https://localhost:8080/"
        },
        "id": "V__9jWnuuJPb",
        "outputId": "dd021bc2-fee5-46a7-c741-556265a6b4d4"
      },
      "execution_count": null,
      "outputs": [
        {
          "output_type": "stream",
          "name": "stdout",
          "text": [
            "[-3  6 -3]\n"
          ]
        }
      ]
    },
    {
      "cell_type": "code",
      "source": [
        "# inner()/outer(): 내적 외적\n",
        "\n",
        "print(a2)\n",
        "print(b2)\n",
        "print(np.inner(a2,b2))\n",
        "print(np.outer(a2,b2))"
      ],
      "metadata": {
        "colab": {
          "base_uri": "https://localhost:8080/"
        },
        "id": "HHPYzew2vodP",
        "outputId": "e164807d-91de-4a5f-b813-f28f054183ff"
      },
      "execution_count": null,
      "outputs": [
        {
          "output_type": "stream",
          "name": "stdout",
          "text": [
            "[[1 6 5]\n",
            " [2 6 5]\n",
            " [8 7 1]]\n",
            "[[1 1 1]\n",
            " [1 1 1]\n",
            " [1 1 1]]\n",
            "[[12 12 12]\n",
            " [13 13 13]\n",
            " [16 16 16]]\n",
            "[[1 1 1 1 1 1 1 1 1]\n",
            " [6 6 6 6 6 6 6 6 6]\n",
            " [5 5 5 5 5 5 5 5 5]\n",
            " [2 2 2 2 2 2 2 2 2]\n",
            " [6 6 6 6 6 6 6 6 6]\n",
            " [5 5 5 5 5 5 5 5 5]\n",
            " [8 8 8 8 8 8 8 8 8]\n",
            " [7 7 7 7 7 7 7 7 7]\n",
            " [1 1 1 1 1 1 1 1 1]]\n"
          ]
        }
      ]
    },
    {
      "cell_type": "code",
      "source": [
        "# mean() : 평균 계산\n",
        "\n",
        "print(a2)\n",
        "print(np.mean(a2))\n",
        "print(np.mean(a2, axis = 0))\n",
        "print(np.mean(a2, axis = 1))"
      ],
      "metadata": {
        "colab": {
          "base_uri": "https://localhost:8080/"
        },
        "id": "YY3p1Ufzv1gt",
        "outputId": "dc5de0eb-e260-47e4-e8ea-f974b6633dca"
      },
      "execution_count": null,
      "outputs": [
        {
          "output_type": "stream",
          "name": "stdout",
          "text": [
            "[[1 6 5]\n",
            " [2 6 5]\n",
            " [8 7 1]]\n",
            "4.555555555555555\n",
            "[3.66666667 6.33333333 3.66666667]\n",
            "[4.         4.33333333 5.33333333]\n"
          ]
        }
      ]
    },
    {
      "cell_type": "code",
      "source": [
        "# var(),std() : 분산, 표준편차 계산\n",
        "\n",
        "print(a2)\n",
        "print(np.var(a2), np.var(a2, axis = 0), np.var(a2, axis = 1))\n",
        "print(np.std(a2), np.std(a2, axis = 0), np.std(a2, axis = 1))"
      ],
      "metadata": {
        "colab": {
          "base_uri": "https://localhost:8080/"
        },
        "id": "GNkwB49LwDyG",
        "outputId": "c7dd82e9-3f62-4a90-c5a7-da566c7cc42f"
      },
      "execution_count": null,
      "outputs": [
        {
          "output_type": "stream",
          "name": "stdout",
          "text": [
            "[[1 6 5]\n",
            " [2 6 5]\n",
            " [8 7 1]]\n",
            "6.024691358024692 [9.55555556 0.22222222 3.55555556] [4.66666667 2.88888889 9.55555556]\n",
            "2.454524670486058 [3.09120617 0.47140452 1.88561808] [2.1602469  1.69967317 3.09120617]\n"
          ]
        }
      ]
    },
    {
      "cell_type": "code",
      "source": [
        "# min(), max() : 최소값, 최대값 계산\n",
        "\n",
        "print(a2)\n",
        "print(np.min(a2), np.min(a2, axis = 0), np.min(a2, axis = 1))\n",
        "print(np.max(a2), np.max(a2, axis = 0), np.max(a2, axis = 1))"
      ],
      "metadata": {
        "colab": {
          "base_uri": "https://localhost:8080/"
        },
        "id": "JJXPfN_RwVbt",
        "outputId": "786f752e-5773-42d5-9ba2-f85e878604e1"
      },
      "execution_count": null,
      "outputs": [
        {
          "output_type": "stream",
          "name": "stdout",
          "text": [
            "[[1 6 5]\n",
            " [2 6 5]\n",
            " [8 7 1]]\n",
            "1 [1 6 1] [1 2 1]\n",
            "8 [8 7 5] [6 6 8]\n"
          ]
        }
      ]
    },
    {
      "cell_type": "code",
      "source": [
        "# argmin(), argmax() : 최소값 인덱스, 최대값 인덱스\n",
        "\n",
        "print(a2)\n",
        "print(np.argmin(a2), np.argmin(a2, axis = 0), np.argmin(a2, axis = 1))\n",
        "print(np.argmax(a2), np.argmax(a2, axis = 0), np.argmax(a2, axis = 1))"
      ],
      "metadata": {
        "colab": {
          "base_uri": "https://localhost:8080/"
        },
        "id": "IA0HvcSlwn-Z",
        "outputId": "7f9662d0-50a1-4afc-acab-1f5229c15731"
      },
      "execution_count": null,
      "outputs": [
        {
          "output_type": "stream",
          "name": "stdout",
          "text": [
            "[[1 6 5]\n",
            " [2 6 5]\n",
            " [8 7 1]]\n",
            "0 [0 0 2] [0 0 2]\n",
            "6 [2 2 0] [1 1 0]\n"
          ]
        }
      ]
    },
    {
      "cell_type": "code",
      "source": [
        "# median() : 중앙값\n",
        "\n",
        "print(a2)\n",
        "print(np.median(a2))\n",
        "print(np.median(a2, axis = 0))\n",
        "print(np.median(a2, axis = 1))"
      ],
      "metadata": {
        "colab": {
          "base_uri": "https://localhost:8080/"
        },
        "id": "s-TcmvZ4w3PT",
        "outputId": "2f55651a-526b-4201-8714-bd3f7ea0b32b"
      },
      "execution_count": null,
      "outputs": [
        {
          "output_type": "stream",
          "name": "stdout",
          "text": [
            "[[1 6 5]\n",
            " [2 6 5]\n",
            " [8 7 1]]\n",
            "5.0\n",
            "[2. 6. 5.]\n",
            "[5. 5. 7.]\n"
          ]
        }
      ]
    },
    {
      "cell_type": "code",
      "source": [
        "# percentile() : 백분위수\n",
        "\n",
        "a1 = np.array([0,1,2,3])\n",
        "print(a1)\n",
        "print(np.percentile(a1, [0,20,40,60,80,100], interpolation = 'linear'))\n",
        "print(np.percentile(a1, [0,20,40,60,80,100], interpolation = 'higher'))\n",
        "print(np.percentile(a1, [0,20,40,60,80,100], interpolation = 'lower'))\n",
        "print(np.percentile(a1, [0,20,40,60,80,100], interpolation = 'nearest'))\n",
        "print(np.percentile(a1, [0,20,40,60,80,100], interpolation = 'midpoint'))"
      ],
      "metadata": {
        "colab": {
          "base_uri": "https://localhost:8080/"
        },
        "id": "kJOLDwAuxFEy",
        "outputId": "f1b77902-fcc8-44fc-ebae-deb6b6c64779"
      },
      "execution_count": null,
      "outputs": [
        {
          "output_type": "stream",
          "name": "stdout",
          "text": [
            "[0 1 2 3]\n",
            "[0.  0.6 1.2 1.8 2.4 3. ]\n",
            "[0 1 2 2 3 3]\n",
            "[0 0 1 1 2 3]\n",
            "[0 1 1 2 2 3]\n",
            "[0.  0.5 1.5 1.5 2.5 3. ]\n"
          ]
        }
      ]
    },
    {
      "cell_type": "code",
      "source": [
        "# any() : True가 1개 이상있으면 True반환\n",
        "\n",
        "a2 = np.random.randint(0,2,size = 9, dtype = bool).reshape(3,3)\n",
        "print(a2)\n",
        "print(np.any(a2))\n",
        "print(np.any(a2, axis = 0))\n",
        "print(np.any(a2, axis = 1))"
      ],
      "metadata": {
        "colab": {
          "base_uri": "https://localhost:8080/"
        },
        "id": "ExTUty6d5Bv7",
        "outputId": "21be140f-954e-4ae9-a34c-479c5ed4097b"
      },
      "execution_count": null,
      "outputs": [
        {
          "output_type": "stream",
          "name": "stdout",
          "text": [
            "[[False  True False]\n",
            " [False  True False]\n",
            " [False False  True]]\n",
            "True\n",
            "[False  True  True]\n",
            "[ True  True  True]\n"
          ]
        }
      ]
    },
    {
      "cell_type": "code",
      "source": [
        "# all() : 모든 원소가 True면 True 반환\n",
        "\n",
        "a2 = np.random.randint(0,2,size = 9, dtype = bool).reshape(3,3)\n",
        "print(a2)\n",
        "print(np.all(a2))\n",
        "print(np.all(a2, axis = 0))\n",
        "print(np.all(a2, axis = 1))"
      ],
      "metadata": {
        "colab": {
          "base_uri": "https://localhost:8080/"
        },
        "id": "EP1K_j7n5lxc",
        "outputId": "372b1d4c-555f-43da-c927-347801efb52a"
      },
      "execution_count": null,
      "outputs": [
        {
          "output_type": "stream",
          "name": "stdout",
          "text": [
            "[[False False  True]\n",
            " [False  True  True]\n",
            " [ True False  True]]\n",
            "False\n",
            "[False False  True]\n",
            "[False False False]\n"
          ]
        }
      ]
    },
    {
      "cell_type": "markdown",
      "source": [
        "## 비교연산"
      ],
      "metadata": {
        "id": "uZAB9I2q5xFf"
      }
    },
    {
      "cell_type": "code",
      "source": [
        "a1 = np.arange(1,10)\n",
        "print(a1)\n",
        "print(a1 == 5)\n",
        "print(a1 != 5)\n",
        "print(a1 < 5)\n",
        "print(a1 > 5)\n",
        "print(a1 >= 5)\n",
        "print(a1 < 5)\n",
        "print(a1 <= 5)"
      ],
      "metadata": {
        "colab": {
          "base_uri": "https://localhost:8080/"
        },
        "id": "_X3kcym05z6r",
        "outputId": "304b8a91-2c92-433a-d2d8-fe27eec09cab"
      },
      "execution_count": null,
      "outputs": [
        {
          "output_type": "stream",
          "name": "stdout",
          "text": [
            "[1 2 3 4 5 6 7 8 9]\n",
            "[False False False False  True False False False False]\n",
            "[ True  True  True  True False  True  True  True  True]\n",
            "[ True  True  True  True False False False False False]\n",
            "[False False False False False  True  True  True  True]\n",
            "[False False False False  True  True  True  True  True]\n",
            "[ True  True  True  True False False False False False]\n",
            "[ True  True  True  True  True False False False False]\n"
          ]
        }
      ]
    },
    {
      "cell_type": "code",
      "source": [
        "a2 = a1.reshape(3,3)\n",
        "print(a2)\n",
        "print(np.sum(a2))\n",
        "print(np.count_nonzero(a2>5))\n",
        "print(np.sum(a2>5))\n",
        "print(np.sum(a2>5, axis = 0))"
      ],
      "metadata": {
        "colab": {
          "base_uri": "https://localhost:8080/"
        },
        "id": "StcQ5WNm6Mop",
        "outputId": "bbb983b5-7161-4bdd-ed80-8efde301f396"
      },
      "execution_count": null,
      "outputs": [
        {
          "output_type": "stream",
          "name": "stdout",
          "text": [
            "[[1 2 3]\n",
            " [4 5 6]\n",
            " [7 8 9]]\n",
            "45\n",
            "4\n",
            "4\n",
            "[1 1 2]\n"
          ]
        }
      ]
    },
    {
      "cell_type": "code",
      "source": [
        "# isclose() : 배열의 원소들 간 가까우면 True\n",
        "\n",
        "a1 = np.array([1,2,3,4,5])\n",
        "b1 = np.array([1,2,3,3,4])\n",
        "\n",
        "print(np.isclose(a1,b1))"
      ],
      "metadata": {
        "colab": {
          "base_uri": "https://localhost:8080/"
        },
        "id": "_KT59t2q62UA",
        "outputId": "d976edad-213f-4aaa-a9ed-28847647ddeb"
      },
      "execution_count": null,
      "outputs": [
        {
          "output_type": "stream",
          "name": "stdout",
          "text": [
            "[ True  True  True False False]\n"
          ]
        }
      ]
    },
    {
      "cell_type": "code",
      "source": [
        "# isinf() : inf값 확인\n",
        "\n",
        "a1 = np.array([np.nan, 2, np.inf, 4, np.NINF])\n",
        "print(a1)\n",
        "print(np.isnan(a1))\n",
        "print(np.isinf(a1))\n",
        "print(np.isfinite(a1))\n"
      ],
      "metadata": {
        "colab": {
          "base_uri": "https://localhost:8080/"
        },
        "id": "jyak3Kap7LK1",
        "outputId": "b7ff1f52-256f-49e0-c211-aa50e495b2cc"
      },
      "execution_count": null,
      "outputs": [
        {
          "output_type": "stream",
          "name": "stdout",
          "text": [
            "[ nan   2.  inf   4. -inf]\n",
            "[ True False False False False]\n",
            "[False False  True False  True]\n",
            "[False  True False  True False]\n"
          ]
        }
      ]
    },
    {
      "cell_type": "markdown",
      "source": [
        "# 배열 정렬"
      ],
      "metadata": {
        "id": "1WHEJtgN7zGA"
      }
    },
    {
      "cell_type": "code",
      "source": [
        "a1 = np.random.randint(1,10,size = 10)\n",
        "print(a1)\n",
        "print(np.sort(a1))\n",
        "print(a1) #정렬 반열 x\n",
        "print(np.argsort(a1))\n",
        "print(a1[np.argsort(a1)])\n",
        "a1.sort() #정렬 반열 o\n",
        "print(a1)"
      ],
      "metadata": {
        "colab": {
          "base_uri": "https://localhost:8080/"
        },
        "id": "WImbl2mg70mc",
        "outputId": "00266dc8-cfa8-4086-918a-7db4d8c20ced"
      },
      "execution_count": null,
      "outputs": [
        {
          "output_type": "stream",
          "name": "stdout",
          "text": [
            "[1 6 1 2 5 2 3 3 5 9]\n",
            "[1 1 2 2 3 3 5 5 6 9]\n",
            "[1 6 1 2 5 2 3 3 5 9]\n",
            "[0 2 3 5 6 7 4 8 1 9]\n",
            "[1 1 2 2 3 3 5 5 6 9]\n",
            "[1 1 2 2 3 3 5 5 6 9]\n"
          ]
        }
      ]
    },
    {
      "cell_type": "code",
      "source": [
        "a2 = np.random.randint(1,10, size = (3,3))\n",
        "print(a2)\n",
        "print(np.sort(a2, axis = 0))\n",
        "print(np.sort(a2, axis = 1))"
      ],
      "metadata": {
        "colab": {
          "base_uri": "https://localhost:8080/"
        },
        "id": "gBeaTP3y8ifa",
        "outputId": "27a93689-4ef9-4c93-d059-7cad0e4a9f1e"
      },
      "execution_count": null,
      "outputs": [
        {
          "output_type": "stream",
          "name": "stdout",
          "text": [
            "[[1 7 1]\n",
            " [5 2 6]\n",
            " [2 9 9]]\n",
            "[[1 2 1]\n",
            " [2 7 6]\n",
            " [5 9 9]]\n",
            "[[1 1 7]\n",
            " [2 5 6]\n",
            " [2 9 9]]\n"
          ]
        }
      ]
    },
    {
      "cell_type": "markdown",
      "source": [
        "## 부분정렬"
      ],
      "metadata": {
        "id": "ptxqcZ0E8uHW"
      }
    },
    {
      "cell_type": "code",
      "source": [
        "# parttion() : 배열에서 k개의 작은 값을 반환\n",
        "\n",
        "a1 = np.random.randint(1,10, size = 10)\n",
        "print(a1)\n",
        "print(np.partition(a1,3)) #제일 작은값 3개를 앞으로 반환"
      ],
      "metadata": {
        "colab": {
          "base_uri": "https://localhost:8080/"
        },
        "id": "PKtPb_id8wFw",
        "outputId": "93b79f6c-051e-4d37-9c2f-2724b1f9673d"
      },
      "execution_count": null,
      "outputs": [
        {
          "output_type": "stream",
          "name": "stdout",
          "text": [
            "[8 1 1 2 8 9 8 5 1 1]\n",
            "[1 1 1 1 2 5 8 8 9 8]\n"
          ]
        }
      ]
    },
    {
      "cell_type": "code",
      "source": [
        "a2 = np.random.randint(1,10, size = (4,4))\n",
        "print(a2)\n",
        "print(np.partition(a2, 2, axis = 0))\n",
        "print(np.partition(a2, 2, axis = 1))"
      ],
      "metadata": {
        "colab": {
          "base_uri": "https://localhost:8080/"
        },
        "id": "2sHd6zwS9Jkk",
        "outputId": "79b1121a-2e04-4e6f-a190-b877a1840447"
      },
      "execution_count": null,
      "outputs": [
        {
          "output_type": "stream",
          "name": "stdout",
          "text": [
            "[[7 8 2 1]\n",
            " [1 6 9 5]\n",
            " [9 9 4 5]\n",
            " [3 6 5 8]]\n",
            "[[1 6 2 1]\n",
            " [3 6 4 5]\n",
            " [7 8 5 5]\n",
            " [9 9 9 8]]\n",
            "[[1 2 7 8]\n",
            " [1 5 6 9]\n",
            " [4 5 9 9]\n",
            " [3 5 6 8]]\n"
          ]
        }
      ]
    },
    {
      "cell_type": "markdown",
      "source": [
        "# 배열 입출력"
      ],
      "metadata": {
        "id": "uVeXFdgU9nCk"
      }
    },
    {
      "cell_type": "code",
      "source": [
        "# np.save() 배열객체 1개를 파일에 저장\n",
        "\n",
        "a2 = np.random.randint(1,10, size = (5,5))\n",
        "print(a2)\n",
        "np.save(\"a\", a2)"
      ],
      "metadata": {
        "colab": {
          "base_uri": "https://localhost:8080/"
        },
        "id": "HKMcMeE09oLa",
        "outputId": "98deccc1-069a-4aef-8d5d-dcac84824110"
      },
      "execution_count": null,
      "outputs": [
        {
          "output_type": "stream",
          "name": "stdout",
          "text": [
            "[[2 1 8 5 9]\n",
            " [9 5 2 5 1]\n",
            " [6 7 8 1 8]\n",
            " [9 2 6 4 7]\n",
            " [2 4 8 5 1]]\n"
          ]
        }
      ]
    },
    {
      "cell_type": "code",
      "source": [
        "!ls #현제 directory 파일에 저장된 파일 불러오기"
      ],
      "metadata": {
        "colab": {
          "base_uri": "https://localhost:8080/"
        },
        "id": "hoZMyEKh9_NN",
        "outputId": "fac08f62-c0b8-4050-e435-d13ccb106f8d"
      },
      "execution_count": null,
      "outputs": [
        {
          "output_type": "stream",
          "name": "stdout",
          "text": [
            "a.npy  sample_data\n"
          ]
        }
      ]
    },
    {
      "cell_type": "code",
      "source": [
        "# np.savez() 여러 배열객체를 파일에 저장\n",
        "\n",
        "b2 = np.random.randint(1,10, size = (5,5))\n",
        "print(b2)\n",
        "np.savez('ab',a2,b2)"
      ],
      "metadata": {
        "colab": {
          "base_uri": "https://localhost:8080/"
        },
        "id": "f5RsXTdg-MMP",
        "outputId": "4a4e5466-84fa-4791-c9f3-23fbb010c1af"
      },
      "execution_count": null,
      "outputs": [
        {
          "output_type": "stream",
          "name": "stdout",
          "text": [
            "[[9 5 8 9 6]\n",
            " [7 8 4 6 2]\n",
            " [9 3 9 5 6]\n",
            " [1 9 8 2 3]\n",
            " [6 3 8 7 8]]\n"
          ]
        }
      ]
    },
    {
      "cell_type": "code",
      "source": [
        "!ls"
      ],
      "metadata": {
        "colab": {
          "base_uri": "https://localhost:8080/"
        },
        "id": "MlLPV08Q-eiH",
        "outputId": "de7a0ef5-76db-4bf6-a735-95ff33863278"
      },
      "execution_count": null,
      "outputs": [
        {
          "output_type": "stream",
          "name": "stdout",
          "text": [
            "ab.npz\ta.npy  sample_data\n"
          ]
        }
      ]
    },
    {
      "cell_type": "code",
      "source": [
        "# numpy 객체 불러오기\n",
        "\n",
        "npy = np.load('a.npy')\n",
        "print(npy)"
      ],
      "metadata": {
        "colab": {
          "base_uri": "https://localhost:8080/"
        },
        "id": "E7V1iMN4-hDf",
        "outputId": "03b97f06-6000-4954-9908-0bf0e5ddbd71"
      },
      "execution_count": null,
      "outputs": [
        {
          "output_type": "stream",
          "name": "stdout",
          "text": [
            "[[2 1 8 5 9]\n",
            " [9 5 2 5 1]\n",
            " [6 7 8 1 8]\n",
            " [9 2 6 4 7]\n",
            " [2 4 8 5 1]]\n"
          ]
        }
      ]
    },
    {
      "cell_type": "code",
      "source": [
        "npz = np.load('ab.npz')\n",
        "print(npz) #주소값이 나온다\n",
        "print(npz.files)\n",
        "print(npz['arr_0'])\n",
        "print(npz['arr_1'])"
      ],
      "metadata": {
        "colab": {
          "base_uri": "https://localhost:8080/"
        },
        "id": "lpK3xhHj-pR0",
        "outputId": "c833fcd5-daf6-4384-823a-05553d1787f1"
      },
      "execution_count": null,
      "outputs": [
        {
          "output_type": "stream",
          "name": "stdout",
          "text": [
            "<numpy.lib.npyio.NpzFile object at 0x7f7fd70a8d00>\n",
            "['arr_0', 'arr_1']\n",
            "[[2 1 8 5 9]\n",
            " [9 5 2 5 1]\n",
            " [6 7 8 1 8]\n",
            " [9 2 6 4 7]\n",
            " [2 4 8 5 1]]\n",
            "[[9 5 8 9 6]\n",
            " [7 8 4 6 2]\n",
            " [9 3 9 5 6]\n",
            " [1 9 8 2 3]\n",
            " [6 3 8 7 8]]\n"
          ]
        }
      ]
    },
    {
      "cell_type": "code",
      "source": [
        "# numpy 객체를 text로 저장\n",
        "\n",
        "print(a2)\n",
        "np.savetxt('a.csv', a2, delimiter = ',') # comma separate values : csv"
      ],
      "metadata": {
        "colab": {
          "base_uri": "https://localhost:8080/"
        },
        "id": "rw5hIBO4-58Z",
        "outputId": "513f8f4f-44ac-4d31-886f-566de2d8b822"
      },
      "execution_count": null,
      "outputs": [
        {
          "output_type": "stream",
          "name": "stdout",
          "text": [
            "[[2 1 8 5 9]\n",
            " [9 5 2 5 1]\n",
            " [6 7 8 1 8]\n",
            " [9 2 6 4 7]\n",
            " [2 4 8 5 1]]\n"
          ]
        }
      ]
    },
    {
      "cell_type": "code",
      "source": [
        "!cat a.csv"
      ],
      "metadata": {
        "colab": {
          "base_uri": "https://localhost:8080/"
        },
        "id": "TvzWEqK8_L39",
        "outputId": "a98c0610-2f1a-4092-fc9d-a254e6ef5f96"
      },
      "execution_count": null,
      "outputs": [
        {
          "output_type": "stream",
          "name": "stdout",
          "text": [
            "2.000000000000000000e+00 1.000000000000000000e+00 8.000000000000000000e+00 5.000000000000000000e+00 9.000000000000000000e+00\n",
            "9.000000000000000000e+00 5.000000000000000000e+00 2.000000000000000000e+00 5.000000000000000000e+00 1.000000000000000000e+00\n",
            "6.000000000000000000e+00 7.000000000000000000e+00 8.000000000000000000e+00 1.000000000000000000e+00 8.000000000000000000e+00\n",
            "9.000000000000000000e+00 2.000000000000000000e+00 6.000000000000000000e+00 4.000000000000000000e+00 7.000000000000000000e+00\n",
            "2.000000000000000000e+00 4.000000000000000000e+00 8.000000000000000000e+00 5.000000000000000000e+00 1.000000000000000000e+00\n"
          ]
        }
      ]
    },
    {
      "cell_type": "code",
      "source": [
        "# savetxt 개체를 불러오기\n",
        "\n",
        "csv = np.loadtxt('a.csv', delimiter = ',')\n",
        "print(csv)"
      ],
      "metadata": {
        "colab": {
          "base_uri": "https://localhost:8080/"
        },
        "id": "ztza7dUl_XHY",
        "outputId": "c3279fb2-70ef-4133-a367-cf38f06d6699"
      },
      "execution_count": null,
      "outputs": [
        {
          "output_type": "stream",
          "name": "stdout",
          "text": [
            "[[2. 1. 8. 5. 9.]\n",
            " [9. 5. 2. 5. 1.]\n",
            " [6. 7. 8. 1. 8.]\n",
            " [9. 2. 6. 4. 7.]\n",
            " [2. 4. 8. 5. 1.]]\n"
          ]
        }
      ]
    },
    {
      "cell_type": "code",
      "source": [
        "# save할때 소수점 갯수 조정\n",
        "\n",
        "print(b2)\n",
        "np.savetxt('b2.csv', b2, delimiter = ',', fmt = '%.2e', header = 'c1, c2, c3, c4, c5')"
      ],
      "metadata": {
        "colab": {
          "base_uri": "https://localhost:8080/"
        },
        "id": "G_qQP6y-_zCS",
        "outputId": "a9a96e3e-ec3b-45ac-be4d-5b5907e7cd2e"
      },
      "execution_count": null,
      "outputs": [
        {
          "output_type": "stream",
          "name": "stdout",
          "text": [
            "[[9 5 8 9 6]\n",
            " [7 8 4 6 2]\n",
            " [9 3 9 5 6]\n",
            " [1 9 8 2 3]\n",
            " [6 3 8 7 8]]\n"
          ]
        }
      ]
    },
    {
      "cell_type": "code",
      "source": [
        "csv = np.loadtxt('b2.csv', delimiter = ',')\n",
        "print(csv)"
      ],
      "metadata": {
        "colab": {
          "base_uri": "https://localhost:8080/"
        },
        "id": "gFKLpmu6AYjh",
        "outputId": "39c9985f-bfa1-4b56-daa0-19e23635eb22"
      },
      "execution_count": null,
      "outputs": [
        {
          "output_type": "stream",
          "name": "stdout",
          "text": [
            "[[9. 5. 8. 9. 6.]\n",
            " [7. 8. 4. 6. 2.]\n",
            " [9. 3. 9. 5. 6.]\n",
            " [1. 9. 8. 2. 3.]\n",
            " [6. 3. 8. 7. 8.]]\n"
          ]
        }
      ]
    }
  ]
}