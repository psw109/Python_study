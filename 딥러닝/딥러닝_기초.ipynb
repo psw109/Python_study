{
  "nbformat": 4,
  "nbformat_minor": 0,
  "metadata": {
    "colab": {
      "provenance": [],
      "gpuType": "T4"
    },
    "kernelspec": {
      "name": "python3",
      "display_name": "Python 3"
    },
    "language_info": {
      "name": "python"
    },
    "accelerator": "GPU"
  },
  "cells": [
    {
      "cell_type": "code",
      "source": [
        "import sys, os\n",
        "\n",
        "sys.path.append(os.pardir)"
      ],
      "metadata": {
        "id": "gGlXDQ6kUrml"
      },
      "execution_count": null,
      "outputs": []
    },
    {
      "cell_type": "code",
      "source": [
        "import os\n",
        "\n",
        "os.getcwd()"
      ],
      "metadata": {
        "colab": {
          "base_uri": "https://localhost:8080/",
          "height": 35
        },
        "id": "L8YTnvODVskI",
        "outputId": "f26bd37f-8bae-4c0e-ee0d-6571e9ed6f54"
      },
      "execution_count": null,
      "outputs": [
        {
          "output_type": "execute_result",
          "data": {
            "text/plain": [
              "'/content'"
            ],
            "application/vnd.google.colaboratory.intrinsic+json": {
              "type": "string"
            }
          },
          "metadata": {},
          "execution_count": 2
        }
      ]
    },
    {
      "cell_type": "code",
      "source": [
        "os.chdir('/content/drive/MyDrive/Colab Notebooks/Notes/딥러닝')"
      ],
      "metadata": {
        "id": "I8nXOD3fV4mA"
      },
      "execution_count": null,
      "outputs": []
    },
    {
      "cell_type": "code",
      "source": [
        "# 교제 참고자료 불러오기\n",
        "# !git clone https://github.com/oreilly-japan/deep-learning-from-scratch.git"
      ],
      "metadata": {
        "id": "UHx5OVoAWGUL"
      },
      "execution_count": null,
      "outputs": []
    },
    {
      "cell_type": "markdown",
      "source": [
        "# 1. 퍼셉트론"
      ],
      "metadata": {
        "id": "vsqC9PZS7gVh"
      }
    },
    {
      "cell_type": "markdown",
      "source": [
        "## 1. 퍼셉트론의 개념\n",
        "\n",
        "퍼셉트론 : 다수의 신호를 입력으로 받아 하나의 신호를 출력\n",
        "\n",
        "* 퍼셉트론은 복수의 입력 신호 각각에 고유한 가중치를 부여\n",
        "* 가중치는 각 신호가 결과에 주는 영향력을 조절하는 요소로 작용\n",
        "* 신호는 0과 1의 값을 갖는다\n",
        "---\n",
        "ex) 입력 신호가 2개 일때   \n",
        "y = 0 if $(w1*x1 + w2*x2 <= theta)$  \n",
        "y = 1 if $(w1*x1 + w2*x2 > theta)$"
      ],
      "metadata": {
        "id": "qQJwM9ZY7kqE"
      }
    },
    {
      "cell_type": "markdown",
      "source": [
        "## 2. 단순한 논리회로\n",
        "\n",
        "### AND 게이트\n",
        "\n",
        "두 입력이 모두 1일 때만 1을 출력\n",
        "\n",
        "|x1|x2|y|\n",
        "|--|--|--|\n",
        "|0|0|0|\n",
        "|1|0|0|\n",
        "|0|1|0|\n",
        "|1|1|1|  \n",
        "\n",
        "### NAND 게이트\n",
        "\n",
        "두 입력이 모두 1일 때만 0을 출력\n",
        "\n",
        "|x1|x2|y|\n",
        "|--|--|--|\n",
        "|0|0|1|\n",
        "|1|0|1|\n",
        "|0|1|1|\n",
        "|1|1|0|\n",
        "\n",
        "### OR 게이트\n",
        "\n",
        "두 입력 신호중 하나 이상이 1일때\n",
        "\n",
        "|x1|x2|y|\n",
        "|--|--|--|\n",
        "|0|0|0|\n",
        "|1|0|1|\n",
        "|0|1|1|\n",
        "|1|1|1|"
      ],
      "metadata": {
        "id": "7OmftUAv-hgg"
      }
    },
    {
      "cell_type": "markdown",
      "source": [
        "## 3. 퍼셉트론 구현하기\n"
      ],
      "metadata": {
        "id": "E_mhn8A_-mMG"
      }
    },
    {
      "cell_type": "code",
      "source": [
        "def AND(x1, x2):\n",
        "  w1, w2, theta = 0.5, 0.5, 0.7\n",
        "  tmp = w1*x1 + w2*x2\n",
        "  if tmp <= theta:\n",
        "    return 0\n",
        "  elif tmp > theta:\n",
        "    return 1"
      ],
      "metadata": {
        "id": "vyHvpSYH-lVl"
      },
      "execution_count": null,
      "outputs": []
    },
    {
      "cell_type": "code",
      "source": [
        "print(AND(0, 0))\n",
        "print(AND(1,0))\n",
        "print(AND(0,1))\n",
        "print(AND(1,1))"
      ],
      "metadata": {
        "colab": {
          "base_uri": "https://localhost:8080/"
        },
        "id": "tLCIQi5K-e4o",
        "outputId": "61c834f1-b764-4962-89bc-d533871de6fa"
      },
      "execution_count": null,
      "outputs": [
        {
          "output_type": "stream",
          "name": "stdout",
          "text": [
            "0\n",
            "0\n",
            "0\n",
            "1\n"
          ]
        }
      ]
    },
    {
      "cell_type": "markdown",
      "source": [
        "# 신경망"
      ],
      "metadata": {
        "id": "Xmeaxj3gSMkf"
      }
    },
    {
      "cell_type": "markdown",
      "source": [
        "## 1. 활성화 함수\n",
        "\n",
        "* 입력신호를 출력신호로 바꿔줄 때 사용하는 함수\n",
        "* $h(x)$를 이용하여 표현"
      ],
      "metadata": {
        "id": "jMkhGqlW_kPw"
      }
    },
    {
      "cell_type": "markdown",
      "source": [
        "### 시그모이드 함수\n",
        "\n",
        "* $ h(x) = \\frac{1}{1 + exp(-x)} $\n",
        "* 퍼셉트론에서는 계단 함수를 활성화 함수로 사용하지만 신경망에서는 다른 함수를 이용"
      ],
      "metadata": {
        "id": "cbq1y2oYAPtB"
      }
    },
    {
      "cell_type": "markdown",
      "source": [
        "### 계단 함수 구현\n",
        "\n",
        "* 입력이 0을 넘으면 1을 출력\n",
        "* 그 외에는 0을 출력하는 함수"
      ],
      "metadata": {
        "id": "TkyeAa-ZB5vf"
      }
    },
    {
      "cell_type": "code",
      "source": [
        "def step_function(x):\n",
        "  if x > 0:\n",
        "    return 1\n",
        "  else:\n",
        "    return 0"
      ],
      "metadata": {
        "id": "llIAmIRSBSmV"
      },
      "execution_count": null,
      "outputs": []
    },
    {
      "cell_type": "code",
      "source": [
        "# 여러 인수를 받을 수 있는 계단 함수\n",
        "\n",
        "def step_function1(x):\n",
        "  y = x > 0\n",
        "  return y.astype(int)"
      ],
      "metadata": {
        "id": "8wyPSlc3CRQZ"
      },
      "execution_count": null,
      "outputs": []
    },
    {
      "cell_type": "code",
      "source": [
        "import numpy as np\n",
        "\n",
        "input_var = np.array([1, 2, 3])\n",
        "step_function1(input_var)"
      ],
      "metadata": {
        "colab": {
          "base_uri": "https://localhost:8080/"
        },
        "id": "WQxjqCo3Ce_N",
        "outputId": "f6e88d0f-0ef8-4887-ebfe-5549ff9f9a7c"
      },
      "execution_count": null,
      "outputs": [
        {
          "output_type": "execute_result",
          "data": {
            "text/plain": [
              "array([1, 1, 1])"
            ]
          },
          "metadata": {},
          "execution_count": 9
        }
      ]
    },
    {
      "cell_type": "markdown",
      "source": [
        "### 계단 함수의 그래프\n",
        "\n",
        "* 0을 경계로 출력이 0에서 1(또는 1에서 0으로 변경)\n",
        "* 값이 바뀌는 형태가 계단처럼 생겼기 때문에 계단함수라 부른다"
      ],
      "metadata": {
        "id": "aLNJNND7C7n8"
      }
    },
    {
      "cell_type": "code",
      "source": [
        "import matplotlib.pyplot as plt\n",
        "\n",
        "def step_function(x):\n",
        "  return np.array(x > 0, dtype = int)"
      ],
      "metadata": {
        "id": "iDRElUXqC-Ab"
      },
      "execution_count": null,
      "outputs": []
    },
    {
      "cell_type": "code",
      "source": [
        "x = np.arange(-5, 5, 0.1)\n",
        "y = step_function(x)\n",
        "\n",
        "plt.plot(x, y)\n",
        "plt.ylim(-0.1, 1.1)\n",
        "plt.show()"
      ],
      "metadata": {
        "colab": {
          "base_uri": "https://localhost:8080/",
          "height": 430
        },
        "id": "oFuMYieBDPTO",
        "outputId": "fc21fe71-7fc7-41e2-e650-77cbfef5bf2e"
      },
      "execution_count": null,
      "outputs": [
        {
          "output_type": "display_data",
          "data": {
            "text/plain": [
              "<Figure size 640x480 with 1 Axes>"
            ],
            "image/png": "[encoded data removed]"
          },
          "metadata": {}
        }
      ]
    },
    {
      "cell_type": "markdown",
      "source": [
        "### 시그모이드 함수 구현하기"
      ],
      "metadata": {
        "id": "xYMbsbX9D3cv"
      }
    },
    {
      "cell_type": "code",
      "source": [
        "def sigmoid(x):\n",
        "  return 1 / (1 + np.exp(-x))"
      ],
      "metadata": {
        "id": "NFMUgRNxD4_e"
      },
      "execution_count": null,
      "outputs": []
    },
    {
      "cell_type": "code",
      "source": [
        "x = np.array([-1, 1, 2])\n",
        "sigmoid(x)"
      ],
      "metadata": {
        "colab": {
          "base_uri": "https://localhost:8080/"
        },
        "id": "-CnIjUGED-QL",
        "outputId": "e238601a-a91f-4f58-d534-468a79b06606"
      },
      "execution_count": null,
      "outputs": [
        {
          "output_type": "execute_result",
          "data": {
            "text/plain": [
              "array([0.26894142, 0.73105858, 0.88079708])"
            ]
          },
          "metadata": {},
          "execution_count": 13
        }
      ]
    },
    {
      "cell_type": "code",
      "source": [
        "x = np.arange(-5, 5, 0.1)\n",
        "y = sigmoid(x)\n",
        "\n",
        "plt.plot(x,y)\n",
        "plt.ylim(-0.1, 1.1)\n",
        "plt.show()"
      ],
      "metadata": {
        "colab": {
          "base_uri": "https://localhost:8080/",
          "height": 430
        },
        "id": "owDEtE-hEoDV",
        "outputId": "8c8427c4-2744-4dfa-f563-51141c84fc7f"
      },
      "execution_count": null,
      "outputs": [
        {
          "output_type": "display_data",
          "data": {
            "text/plain": [
              "<Figure size 640x480 with 1 Axes>"
            ],
            "image/png": "[encoded data removed]"
          },
          "metadata": {}
        }
      ]
    },
    {
      "cell_type": "markdown",
      "source": [
        "### 시그모이드 함수와 계단함수의 비교\n",
        "\n",
        "* 시그모이드 함수의 매끈함이 신경망 학습에서 중요한 역할을 함\n",
        "* 퍼셉트론에서는 0과 1이 출력, 신경망에선느 연속적인 실수가 출력"
      ],
      "metadata": {
        "id": "-uOUd7KHFC4D"
      }
    },
    {
      "cell_type": "code",
      "source": [
        "x = np.arange(-5, 5, 0.1)\n",
        "y1 = step_function1(x)\n",
        "y2 = sigmoid(x)\n",
        "\n",
        "plt.plot(x, y1, '--')\n",
        "plt.plot(x, y2)\n",
        "plt.ylim(-0.1, 1.1)\n",
        "plt.show()"
      ],
      "metadata": {
        "colab": {
          "base_uri": "https://localhost:8080/",
          "height": 430
        },
        "id": "5jVW6PSxFFFV",
        "outputId": "559d9872-115f-4c72-ea1b-3afb47fc4dc4"
      },
      "execution_count": null,
      "outputs": [
        {
          "output_type": "display_data",
          "data": {
            "text/plain": [
              "<Figure size 640x480 with 1 Axes>"
            ],
            "image/png": "[encoded data removed]"
          },
          "metadata": {}
        }
      ]
    },
    {
      "cell_type": "code",
      "source": [
        "y2"
      ],
      "metadata": {
        "colab": {
          "base_uri": "https://localhost:8080/"
        },
        "id": "Ce8qAsmQFoxc",
        "outputId": "e010784e-8012-48a2-8ae4-4fc0c54e7be0"
      },
      "execution_count": null,
      "outputs": [
        {
          "output_type": "execute_result",
          "data": {
            "text/plain": [
              "array([0.00669285, 0.00739154, 0.00816257, 0.0090133 , 0.0099518 ,\n",
              "       0.01098694, 0.01212843, 0.01338692, 0.01477403, 0.0163025 ,\n",
              "       0.01798621, 0.01984031, 0.02188127, 0.02412702, 0.02659699,\n",
              "       0.02931223, 0.03229546, 0.03557119, 0.03916572, 0.04310725,\n",
              "       0.04742587, 0.05215356, 0.05732418, 0.06297336, 0.06913842,\n",
              "       0.07585818, 0.0831727 , 0.09112296, 0.09975049, 0.10909682,\n",
              "       0.11920292, 0.13010847, 0.14185106, 0.15446527, 0.16798161,\n",
              "       0.18242552, 0.19781611, 0.21416502, 0.23147522, 0.24973989,\n",
              "       0.26894142, 0.2890505 , 0.31002552, 0.33181223, 0.35434369,\n",
              "       0.37754067, 0.40131234, 0.42555748, 0.450166  , 0.47502081,\n",
              "       0.5       , 0.52497919, 0.549834  , 0.57444252, 0.59868766,\n",
              "       0.62245933, 0.64565631, 0.66818777, 0.68997448, 0.7109495 ,\n",
              "       0.73105858, 0.75026011, 0.76852478, 0.78583498, 0.80218389,\n",
              "       0.81757448, 0.83201839, 0.84553473, 0.85814894, 0.86989153,\n",
              "       0.88079708, 0.89090318, 0.90024951, 0.90887704, 0.9168273 ,\n",
              "       0.92414182, 0.93086158, 0.93702664, 0.94267582, 0.94784644,\n",
              "       0.95257413, 0.95689275, 0.96083428, 0.96442881, 0.96770454,\n",
              "       0.97068777, 0.97340301, 0.97587298, 0.97811873, 0.98015969,\n",
              "       0.98201379, 0.9836975 , 0.98522597, 0.98661308, 0.98787157,\n",
              "       0.98901306, 0.9900482 , 0.9909867 , 0.99183743, 0.99260846])"
            ]
          },
          "metadata": {},
          "execution_count": 16
        }
      ]
    },
    {
      "cell_type": "markdown",
      "source": [
        "활성화 함수는 비선형 함수를 사용 해야 함  \n",
        "선형함수를 사용하면 신경망의 층을 깊게 하는 의미가 없어진다"
      ],
      "metadata": {
        "id": "UKPxlqDwGpET"
      }
    },
    {
      "cell_type": "markdown",
      "source": [
        "### ReLU 함수\n",
        "\n",
        "$\\ h(x) =\n",
        "\\begin{cases}\n",
        "0,\\;if\\;x<0\\\\\n",
        "x,\\;if\\;x\\geq0\n",
        "\\end{cases}$"
      ],
      "metadata": {
        "id": "YhBz6kRvHWUf"
      }
    },
    {
      "cell_type": "code",
      "source": [
        "def ReLU(x):\n",
        "  return np.maximum(0, x)"
      ],
      "metadata": {
        "id": "aW15NBxEHjbx"
      },
      "execution_count": null,
      "outputs": []
    },
    {
      "cell_type": "code",
      "source": [
        "x = np.arange(-6, 6, 0.1)\n",
        "y = ReLU(x)\n",
        "\n",
        "plt.plot(x,y)\n",
        "plt.show()"
      ],
      "metadata": {
        "colab": {
          "base_uri": "https://localhost:8080/",
          "height": 430
        },
        "id": "YNJ-kRDcHwZX",
        "outputId": "63b05c81-d36f-4a1b-c8b9-4f547acab297"
      },
      "execution_count": null,
      "outputs": [
        {
          "output_type": "display_data",
          "data": {
            "text/plain": [
              "<Figure size 640x480 with 1 Axes>"
            ],
            "image/png": "[encoded data removed]"
          },
          "metadata": {}
        }
      ]
    },
    {
      "cell_type": "markdown",
      "source": [
        "## 2. 다차원 배열의 계산"
      ],
      "metadata": {
        "id": "C8990YUrI8W9"
      }
    },
    {
      "cell_type": "markdown",
      "source": [
        "### 1. 다차원 배열"
      ],
      "metadata": {
        "id": "LjgrGm2IKyGt"
      }
    },
    {
      "cell_type": "code",
      "source": [
        "# 1차원 배열\n",
        "\n",
        "import numpy as np\n",
        "\n",
        "A = np.array([1, 2, 3, 4])\n",
        "print(A)\n",
        "\n",
        "print(np.ndim(A))\n",
        "print(A.shape)\n",
        "print(A.shape[0])"
      ],
      "metadata": {
        "colab": {
          "base_uri": "https://localhost:8080/"
        },
        "id": "4sa_HnuMI9zl",
        "outputId": "7d79a3a3-4702-4ded-dc8c-896fcb28c780"
      },
      "execution_count": null,
      "outputs": [
        {
          "output_type": "stream",
          "name": "stdout",
          "text": [
            "[1 2 3 4]\n",
            "1\n",
            "(4,)\n",
            "4\n"
          ]
        }
      ]
    },
    {
      "cell_type": "code",
      "source": [
        "# 2차원 배열\n",
        "\n",
        "B = np.array([[1,2],\n",
        "              [3,4],\n",
        "              [4,5]])\n",
        "\n",
        "print(np.ndim(B))\n",
        "print(B.shape)"
      ],
      "metadata": {
        "colab": {
          "base_uri": "https://localhost:8080/"
        },
        "id": "DyESi87nJrU5",
        "outputId": "4fdcf0a3-8cf5-4c41-d5cc-2e6db18296c5"
      },
      "execution_count": null,
      "outputs": [
        {
          "output_type": "stream",
          "name": "stdout",
          "text": [
            "2\n",
            "(3, 2)\n"
          ]
        }
      ]
    },
    {
      "cell_type": "code",
      "source": [
        "# 3차원 배열\n",
        "\n",
        "C = np.array([[[1,2],\n",
        "              [3,4],\n",
        "              [5,6]],\n",
        "              [[6,5],\n",
        "               [4,3],\n",
        "               [2,1]]])\n",
        "print(np.ndim(C))\n",
        "print(C.shape)"
      ],
      "metadata": {
        "colab": {
          "base_uri": "https://localhost:8080/"
        },
        "id": "Xb77LfpeKVkP",
        "outputId": "1a81c6cb-9f00-4f83-a506-f6dacde81742"
      },
      "execution_count": null,
      "outputs": [
        {
          "output_type": "stream",
          "name": "stdout",
          "text": [
            "3\n",
            "(2, 3, 2)\n"
          ]
        }
      ]
    },
    {
      "cell_type": "markdown",
      "source": [
        "### 2. 행렬의 곱"
      ],
      "metadata": {
        "id": "5L3rKVmFK3Pf"
      }
    },
    {
      "cell_type": "code",
      "source": [
        "# [2*2] * [2*2]\n",
        "\n",
        "A = np.array([[1,2], [3,4]])\n",
        "print(A.shape)\n",
        "\n",
        "B = np.array([[5,6], [7,8]])\n",
        "print(B.shape)\n",
        "\n",
        "print(np.dot(A, B)) #순서 주의"
      ],
      "metadata": {
        "colab": {
          "base_uri": "https://localhost:8080/"
        },
        "id": "v1q-V5HhK6CD",
        "outputId": "f113db39-d20d-4083-90de-be39f74f3616"
      },
      "execution_count": null,
      "outputs": [
        {
          "output_type": "stream",
          "name": "stdout",
          "text": [
            "(2, 2)\n",
            "(2, 2)\n",
            "[[19 22]\n",
            " [43 50]]\n"
          ]
        }
      ]
    },
    {
      "cell_type": "code",
      "source": [
        "# [3*2] * [2]\n",
        "\n",
        "A = np.array([[1,2], [3,4], [5,6]])\n",
        "B = np.array([1,2])\n",
        "np.dot(A,B)"
      ],
      "metadata": {
        "colab": {
          "base_uri": "https://localhost:8080/"
        },
        "id": "bUrZ_fqSLB3b",
        "outputId": "38c81fe9-45ed-47c0-c303-29747a05f6d6"
      },
      "execution_count": null,
      "outputs": [
        {
          "output_type": "execute_result",
          "data": {
            "text/plain": [
              "array([ 5, 11, 17])"
            ]
          },
          "metadata": {},
          "execution_count": 23
        }
      ]
    },
    {
      "cell_type": "markdown",
      "source": [
        "### 3. 신경망에서의 행렬 곱\n",
        "\n",
        "* 입력이 2개\n",
        "* 출력이 3개\n",
        "* 편향과 활성화 함수를 생략"
      ],
      "metadata": {
        "id": "53kkXevqNYks"
      }
    },
    {
      "cell_type": "code",
      "source": [
        "X = np.array([1, 2])\n",
        "W = np.array([[3,4,5], [6,7,8]])\n",
        "np.dot(X, W)"
      ],
      "metadata": {
        "colab": {
          "base_uri": "https://localhost:8080/"
        },
        "id": "72GJXw8pND1p",
        "outputId": "214dd97b-1854-4ba5-8b5b-023515335996"
      },
      "execution_count": null,
      "outputs": [
        {
          "output_type": "execute_result",
          "data": {
            "text/plain": [
              "array([15, 18, 21])"
            ]
          },
          "metadata": {},
          "execution_count": 24
        }
      ]
    },
    {
      "cell_type": "markdown",
      "source": [
        "##3. 3층 신경망 구현하기\n",
        "\n",
        "* 입력층(0층) 2개\n",
        "* 은닉층(1층) 3개\n",
        "* 은닉층(2층) 2개\n",
        "* 출력층(3층) 2개\n",
        "* 편향 고려"
      ],
      "metadata": {
        "id": "lcXIYbimQOxk"
      }
    },
    {
      "cell_type": "markdown",
      "source": [
        "### 1. 각층의 신호전달 구현"
      ],
      "metadata": {
        "id": "8b8MDtCTUwK5"
      }
    },
    {
      "cell_type": "markdown",
      "source": [
        "입력층 -> 은닉층(1층)"
      ],
      "metadata": {
        "id": "IjzN6ulcSFb6"
      }
    },
    {
      "cell_type": "code",
      "source": [
        "import numpy as np\n",
        "\n",
        "X = np.array([1, 0.5])\n",
        "W1 = np.array([[0.1, 0.3, 0.5], [0.2, 0.4, 0.6]])\n",
        "B1 = np.array([0.1, 0.2, 0.3])"
      ],
      "metadata": {
        "id": "MaGMlz8rQUPh"
      },
      "execution_count": null,
      "outputs": []
    },
    {
      "cell_type": "code",
      "source": [
        "print(X.shape)\n",
        "print(W1.shape)\n",
        "print(B1.shape)"
      ],
      "metadata": {
        "colab": {
          "base_uri": "https://localhost:8080/"
        },
        "id": "H8CY1JugRK_O",
        "outputId": "03e2a691-47a3-4645-e8a2-aef81f1aa4b2"
      },
      "execution_count": null,
      "outputs": [
        {
          "output_type": "stream",
          "name": "stdout",
          "text": [
            "(2,)\n",
            "(2, 3)\n",
            "(3,)\n"
          ]
        }
      ]
    },
    {
      "cell_type": "code",
      "source": [
        "A1 = np.dot(X, W1) + B1\n",
        "print(A1) #3개의 출력"
      ],
      "metadata": {
        "colab": {
          "base_uri": "https://localhost:8080/"
        },
        "id": "G_wNLpsURM27",
        "outputId": "bdd606cb-ee32-4b75-deb8-cb01c234fe36"
      },
      "execution_count": null,
      "outputs": [
        {
          "output_type": "stream",
          "name": "stdout",
          "text": [
            "[0.3 0.7 1.1]\n"
          ]
        }
      ]
    },
    {
      "cell_type": "code",
      "source": [
        "# 활성화 함수\n",
        "\n",
        "Z1 = sigmoid(A1)\n",
        "print(Z1) #다음단계로 가는 최종출력"
      ],
      "metadata": {
        "colab": {
          "base_uri": "https://localhost:8080/"
        },
        "id": "IDTvO0-gSYKd",
        "outputId": "f71fb31a-a1d7-4568-9671-7c6efc43e48b"
      },
      "execution_count": null,
      "outputs": [
        {
          "output_type": "stream",
          "name": "stdout",
          "text": [
            "[0.57444252 0.66818777 0.75026011]\n"
          ]
        }
      ]
    },
    {
      "cell_type": "markdown",
      "source": [
        "은닉층(1층) -> 은닉층(2층)"
      ],
      "metadata": {
        "id": "S9KxoDXLSKZx"
      }
    },
    {
      "cell_type": "code",
      "source": [
        "W2 = np.array([[0.1, 0.4], [0.2, 0.5], [0.3, 0.6]])\n",
        "B2 = np.array([0.1, 0.2])\n",
        "\n",
        "print(Z1.shape)\n",
        "print(W2.shape)\n",
        "print(B2.shape)"
      ],
      "metadata": {
        "colab": {
          "base_uri": "https://localhost:8080/"
        },
        "id": "A3KzPDv_SDd4",
        "outputId": "43f3bef2-1cc3-4782-dc93-0bdd778bb185"
      },
      "execution_count": null,
      "outputs": [
        {
          "output_type": "stream",
          "name": "stdout",
          "text": [
            "(3,)\n",
            "(3, 2)\n",
            "(2,)\n"
          ]
        }
      ]
    },
    {
      "cell_type": "code",
      "source": [
        "A2 = np.dot(Z1, W2) + B2\n",
        "print(A2) # 2개 출력"
      ],
      "metadata": {
        "colab": {
          "base_uri": "https://localhost:8080/"
        },
        "id": "w4WJoD_NS-QO",
        "outputId": "d3f07f14-c848-422b-c3d3-18df2a4d55b9"
      },
      "execution_count": null,
      "outputs": [
        {
          "output_type": "stream",
          "name": "stdout",
          "text": [
            "[0.51615984 1.21402696]\n"
          ]
        }
      ]
    },
    {
      "cell_type": "code",
      "source": [
        "# 활성화 함수 적용\n",
        "\n",
        "Z2 = sigmoid(A2)\n",
        "print(Z2)"
      ],
      "metadata": {
        "colab": {
          "base_uri": "https://localhost:8080/"
        },
        "id": "MqlN2WaNTLO8",
        "outputId": "a26df021-8c1b-4305-8148-da2fcdc4ee3b"
      },
      "execution_count": null,
      "outputs": [
        {
          "output_type": "stream",
          "name": "stdout",
          "text": [
            "[0.62624937 0.7710107 ]\n"
          ]
        }
      ]
    },
    {
      "cell_type": "markdown",
      "source": [
        "은닉층(2층) -> 출력층(3층)"
      ],
      "metadata": {
        "id": "Ry5ahiTPTbh9"
      }
    },
    {
      "cell_type": "code",
      "source": [
        "W3 = np.array([[0.1,0.3],[0.2,0.4]])\n",
        "B3 = np.array([0.1, 0.2])\n",
        "\n",
        "A3 = np.dot(Z2, W3) + B3\n",
        "print(A3)"
      ],
      "metadata": {
        "colab": {
          "base_uri": "https://localhost:8080/"
        },
        "id": "UCR1T-gjTR5y",
        "outputId": "dc6c7fc6-91cd-4580-c01c-815ace1c3959"
      },
      "execution_count": null,
      "outputs": [
        {
          "output_type": "stream",
          "name": "stdout",
          "text": [
            "[0.31682708 0.69627909]\n"
          ]
        }
      ]
    },
    {
      "cell_type": "code",
      "source": [
        "# 출력층의 활성화 함수는 은닉층의 활성화 함수와 다르다\n",
        "\n",
        "def identify_function(x):\n",
        "    return x\n",
        "\n",
        "Y = identify_function(A3)\n",
        "print(Y) #최종 결과값"
      ],
      "metadata": {
        "colab": {
          "base_uri": "https://localhost:8080/"
        },
        "id": "SNCCb2gHUKkd",
        "outputId": "fb0e138d-7706-4934-a071-4f3e2884c945"
      },
      "execution_count": null,
      "outputs": [
        {
          "output_type": "stream",
          "name": "stdout",
          "text": [
            "[0.31682708 0.69627909]\n"
          ]
        }
      ]
    },
    {
      "cell_type": "markdown",
      "source": [
        "### 2. 구현 정리"
      ],
      "metadata": {
        "id": "KEU4eqPAU0Nt"
      }
    },
    {
      "cell_type": "code",
      "source": [
        "def init_network():\n",
        "    network = {}\n",
        "    network['W1'] = np.array([[0.1,0.3,0.5],[0.2,0.4,0.6]])\n",
        "    network['b1'] = np.array([0.1, 0.2, 0.3])\n",
        "    network['W2'] = np.array([[0.1, 0.4], [0.2, 0.5], [0.3, 0.6]])\n",
        "    network['b2'] = np.array([0.1, 0.2])\n",
        "    network['W3'] = np.array([[0.1, 0.3], [0.2, 0.4]])\n",
        "    network['b3'] = np.array([0.1, 0.2])\n",
        "\n",
        "    return network\n",
        "\n",
        "def forward(network, x): #forward : 신호가 순방향(입력에서 출력방향)으로 전달됨\n",
        "    W1, W2, W3 = network['W1'], network['W2'], network['W3']\n",
        "    b1, b2, b3 = network['b1'], network['b2'], network['b3']\n",
        "\n",
        "    a1 = np.dot(x, W1) + b1\n",
        "    z1 = sigmoid(a1)\n",
        "    a2 = np.dot(z1, W2) + b2\n",
        "    z2 = sigmoid(a2)\n",
        "    a3 = np.dot(z2, W3) + b3\n",
        "    y = identify_function(a3)\n",
        "\n",
        "    return y"
      ],
      "metadata": {
        "id": "9M40oPJ9U1tD"
      },
      "execution_count": null,
      "outputs": []
    },
    {
      "cell_type": "code",
      "source": [
        "network = init_network()"
      ],
      "metadata": {
        "id": "KNhca5_dWOMY"
      },
      "execution_count": null,
      "outputs": []
    },
    {
      "cell_type": "code",
      "source": [
        "x = np.array([1, 0.5]) #입력값"
      ],
      "metadata": {
        "id": "LwXy1_khWQ-l"
      },
      "execution_count": null,
      "outputs": []
    },
    {
      "cell_type": "code",
      "source": [
        "y = forward(network, x)\n",
        "print(y) #출력값"
      ],
      "metadata": {
        "colab": {
          "base_uri": "https://localhost:8080/"
        },
        "id": "p5O1-LVtWTjm",
        "outputId": "4e9cb931-a470-4b03-e7de-4bc3d8207831"
      },
      "execution_count": null,
      "outputs": [
        {
          "output_type": "stream",
          "name": "stdout",
          "text": [
            "[0.31682708 0.69627909]\n"
          ]
        }
      ]
    },
    {
      "cell_type": "markdown",
      "source": [
        "## 4. 출력층 설계"
      ],
      "metadata": {
        "id": "xrCGFLO8WvH9"
      }
    },
    {
      "cell_type": "markdown",
      "source": [
        "* 신경망은 분류와 회귀에 모두 이용가능\n",
        "* 둘중 어떤 문제냐에 따라 출력층에서 사용하는 활성화 함수가 달라진다"
      ],
      "metadata": {
        "id": "rvYOSa2GW-ml"
      }
    },
    {
      "cell_type": "markdown",
      "source": [
        "### 1. 항등함수와 소프트맥스 함수 구현\n",
        "\n",
        "* 항등함수\n",
        "    * 입력을 그대로 출력해주는 함수\n",
        "* 소프트맥스함수\n",
        "    * 분류를 위해 출력되는 값들의 합을 1로 만들어 확률화 시켜준다"
      ],
      "metadata": {
        "id": "jkx9_WOaW0By"
      }
    },
    {
      "cell_type": "code",
      "source": [
        "# 항등함수\n",
        "\n",
        "def identify_function(x):\n",
        "    return x"
      ],
      "metadata": {
        "id": "CtXbYgWTWywF"
      },
      "execution_count": null,
      "outputs": []
    },
    {
      "cell_type": "code",
      "source": [
        "# 소프트맥스 함수 구현\n",
        "\n",
        "a = np.array([0.3, 2.9, 4.0])\n",
        "exp_a = np.exp(a)\n",
        "print(exp_a)\n",
        "\n",
        "sum_exp_a = np.sum(exp_a)\n",
        "print(sum_exp_a)\n",
        "\n",
        "y = exp_a / sum_exp_a\n",
        "print(y)"
      ],
      "metadata": {
        "colab": {
          "base_uri": "https://localhost:8080/"
        },
        "id": "nccoWjVjXh-S",
        "outputId": "a545820f-acef-4c57-f12d-9516c6654553"
      },
      "execution_count": null,
      "outputs": [
        {
          "output_type": "stream",
          "name": "stdout",
          "text": [
            "[ 1.34985881 18.17414537 54.59815003]\n",
            "74.1221542101633\n",
            "[0.01821127 0.24519181 0.73659691]\n"
          ]
        }
      ]
    },
    {
      "cell_type": "code",
      "source": [
        "# 소프트맥스 함수\n",
        "\n",
        "def softmax(x):\n",
        "    exp_a = np.exp(a)\n",
        "    sum_exp_a = np.sum(exp_a)\n",
        "    y = exp_a / sum_exp_a\n",
        "\n",
        "    return y"
      ],
      "metadata": {
        "id": "c0zJOFwWX9WE"
      },
      "execution_count": null,
      "outputs": []
    },
    {
      "cell_type": "markdown",
      "source": [
        "### 2. 소프트맥스 함수 구현 시 주의점\n",
        "\n",
        "* 지수함수의 특성상 입력값이 1000정도만 되도 오버 플로 발생\n",
        "* 입력값의 가장큰값을 모든 원소들에 빼줘서 값을 조절해준다"
      ],
      "metadata": {
        "id": "gGJAYQFh7i_n"
      }
    },
    {
      "cell_type": "code",
      "source": [
        "a = np.array([1010, 1000, 990])\n",
        "softmax(a)"
      ],
      "metadata": {
        "colab": {
          "base_uri": "https://localhost:8080/"
        },
        "id": "w_y6cYIE725j",
        "outputId": "1cff6b03-bb30-4eac-84d9-3fc3abf31b69"
      },
      "execution_count": null,
      "outputs": [
        {
          "output_type": "stream",
          "name": "stderr",
          "text": [
            "<ipython-input-40-35a2f5ad9956>:4: RuntimeWarning: overflow encountered in exp\n",
            "  exp_a = np.exp(a)\n",
            "<ipython-input-40-35a2f5ad9956>:6: RuntimeWarning: invalid value encountered in true_divide\n",
            "  y = exp_a / sum_exp_a\n"
          ]
        },
        {
          "output_type": "execute_result",
          "data": {
            "text/plain": [
              "array([nan, nan, nan])"
            ]
          },
          "metadata": {},
          "execution_count": 41
        }
      ]
    },
    {
      "cell_type": "code",
      "source": [
        "c = np.max(a)\n",
        "print(a-c)"
      ],
      "metadata": {
        "colab": {
          "base_uri": "https://localhost:8080/"
        },
        "id": "8NlTvWh-76Ih",
        "outputId": "1f3cf7d6-eda1-4b4e-e2a9-2ae1c66a3eee"
      },
      "execution_count": null,
      "outputs": [
        {
          "output_type": "stream",
          "name": "stdout",
          "text": [
            "[  0 -10 -20]\n"
          ]
        }
      ]
    },
    {
      "cell_type": "code",
      "source": [
        "np.exp(a-c)/sum(np.exp(a-c))"
      ],
      "metadata": {
        "colab": {
          "base_uri": "https://localhost:8080/"
        },
        "id": "MD-y0mSH8BhV",
        "outputId": "5e2161df-2102-4c17-869f-311c56f82efd"
      },
      "execution_count": null,
      "outputs": [
        {
          "output_type": "execute_result",
          "data": {
            "text/plain": [
              "array([9.99954600e-01, 4.53978686e-05, 2.06106005e-09])"
            ]
          },
          "metadata": {},
          "execution_count": 43
        }
      ]
    },
    {
      "cell_type": "code",
      "source": [
        "def softmax(x):\n",
        "    c = np.max(x)\n",
        "    exp_a = np.exp(x - c)\n",
        "    sum_exp_a = sum(np.exp(x-c))\n",
        "    y = exp_a / sum_exp_a\n",
        "\n",
        "    return y"
      ],
      "metadata": {
        "id": "Z0eh72Lx8Jnb"
      },
      "execution_count": null,
      "outputs": []
    },
    {
      "cell_type": "code",
      "source": [
        "softmax(a)"
      ],
      "metadata": {
        "colab": {
          "base_uri": "https://localhost:8080/"
        },
        "id": "TyngkJdE9B-V",
        "outputId": "4e9abc33-0706-4284-8765-9d29abd585a2"
      },
      "execution_count": null,
      "outputs": [
        {
          "output_type": "execute_result",
          "data": {
            "text/plain": [
              "array([9.99954600e-01, 4.53978686e-05, 2.06106005e-09])"
            ]
          },
          "metadata": {},
          "execution_count": 45
        }
      ]
    },
    {
      "cell_type": "markdown",
      "source": [
        "### 3. 소프트맥스 함수의 특징\n",
        "\n",
        "* 출력의 총합은 1이된다 => 확률로 해석이 가능함\n",
        "* 소프트맥스를 적용해도 각 원소의 대소 관계는 변하지 않음\n",
        "    * 단조 증가함수를 이용하기 때문\n",
        "---\n",
        "\n",
        "* 신경망을 이용한 분류는 일반적으로 가장 큰 출력을 내는 뉴런에 해당하는 클래스로만 인식\n",
        "* 결과적으로 소프트맥스 함수를 생략해도 된다"
      ],
      "metadata": {
        "id": "FOV1SgLa9UPh"
      }
    },
    {
      "cell_type": "code",
      "source": [
        "a = np.random.randint(0,10,10)\n",
        "y = softmax(a)\n",
        "print(y)"
      ],
      "metadata": {
        "colab": {
          "base_uri": "https://localhost:8080/"
        },
        "id": "JhccPNqM9Xor",
        "outputId": "c2386840-7c01-474b-9a2d-924ec2f7b8bd"
      },
      "execution_count": null,
      "outputs": [
        {
          "output_type": "stream",
          "name": "stdout",
          "text": [
            "[8.81073847e-04 1.19240379e-04 4.81050021e-02 3.55450559e-01\n",
            " 6.51030408e-03 4.81050021e-02 1.30762953e-01 4.81050021e-02\n",
            " 6.51030408e-03 3.55450559e-01]\n"
          ]
        }
      ]
    },
    {
      "cell_type": "code",
      "source": [
        "sum(y)"
      ],
      "metadata": {
        "colab": {
          "base_uri": "https://localhost:8080/"
        },
        "id": "z8KfMQ2l9i_S",
        "outputId": "f3c1c361-e784-4a8e-fbed-6d1cccc3d46c"
      },
      "execution_count": null,
      "outputs": [
        {
          "output_type": "execute_result",
          "data": {
            "text/plain": [
              "0.9999999999999999"
            ]
          },
          "metadata": {},
          "execution_count": 47
        }
      ]
    },
    {
      "cell_type": "markdown",
      "source": [
        "### 4. 출력층의 뉴런수 정하기\n",
        "\n",
        "* 분류하고 싶은 클래스의 수로 정하는게 일반적이다"
      ],
      "metadata": {
        "id": "WByRSdC2-Feu"
      }
    },
    {
      "cell_type": "markdown",
      "source": [
        "## 손글씨 숫자 인식"
      ],
      "metadata": {
        "id": "74sA6olYSOER"
      }
    },
    {
      "cell_type": "markdown",
      "source": [
        "### 1. MNIST 데이터셋\n",
        "\n",
        "* 손글씨 숫자 이미지 집합"
      ],
      "metadata": {
        "id": "zaa5Js_SSRpA"
      }
    },
    {
      "cell_type": "code",
      "source": [
        "import numpy as np"
      ],
      "metadata": {
        "id": "ycgKqLQlU9Gg"
      },
      "execution_count": null,
      "outputs": []
    },
    {
      "cell_type": "code",
      "source": [
        "import os\n",
        "\n",
        "os.chdir('/content/drive/MyDrive/Colab Notebooks/Notes/딥러닝/deep-learning-from-scratch/ch03')"
      ],
      "metadata": {
        "id": "R5wLgcIwZoiR"
      },
      "execution_count": null,
      "outputs": []
    },
    {
      "cell_type": "markdown",
      "source": [
        "MNIST image 출력"
      ],
      "metadata": {
        "id": "MpGy_C73aEcx"
      }
    },
    {
      "cell_type": "code",
      "source": [
        "import sys, os\n",
        "\n",
        "sys.path.append(os.pardir)"
      ],
      "metadata": {
        "id": "2ShDE9r1-b6k"
      },
      "execution_count": null,
      "outputs": []
    },
    {
      "cell_type": "code",
      "source": [
        "#shape 확인\n",
        "\n",
        "import numpy as np\n",
        "from dataset.mnist import load_mnist\n",
        "\n",
        "(x_train, t_train), (x_test, t_test) = load_mnist(flatten = True,   #1차원으로 변환\n",
        "                                                  normalize = False,    # 픽셀값을 0~1사이로 변환\n",
        "                                                  one_hot_label = False)    # 결과 라벨을 원핫 인코딩\n",
        "print(x_train.shape)\n",
        "print(t_train.shape)\n",
        "print(x_test.shape)\n",
        "print(t_test.shape)"
      ],
      "metadata": {
        "colab": {
          "base_uri": "https://localhost:8080/"
        },
        "id": "DEEDqd-PBtbv",
        "outputId": "a5a83037-385c-4f74-a6b3-baf955f7a18e"
      },
      "execution_count": null,
      "outputs": [
        {
          "output_type": "stream",
          "name": "stdout",
          "text": [
            "(60000, 784)\n",
            "(60000,)\n",
            "(10000, 784)\n",
            "(10000,)\n"
          ]
        }
      ]
    },
    {
      "cell_type": "code",
      "source": [
        "#이미지 로드\n",
        "\n",
        "import numpy as np\n",
        "from dataset.mnist import load_mnist\n",
        "from PIL import Image\n",
        "\n",
        "def img_show(img):\n",
        "  pil_img = Image.fromarray(np.uint8(img))\n",
        "  pil_img.show()\n",
        "\n",
        "(x_train, t_train), (x_test, t_test) = load_mnist(flatten = True, normalize = False)\n",
        "\n",
        "img = x_train[0] # image pixel information\n",
        "label = t_train[0] # image label\n",
        "print(label)\n",
        "\n",
        "print(img.shape)\n",
        "img = img.reshape(28, 28)\n",
        "print(img.shape)\n",
        "\n",
        "img_show(img)"
      ],
      "metadata": {
        "colab": {
          "base_uri": "https://localhost:8080/"
        },
        "id": "3epAY98LZ7Uq",
        "outputId": "85131141-7476-4916-81aa-7981a2d6cd89"
      },
      "execution_count": null,
      "outputs": [
        {
          "output_type": "stream",
          "name": "stdout",
          "text": [
            "5\n",
            "(784,)\n",
            "(28, 28)\n"
          ]
        }
      ]
    },
    {
      "cell_type": "markdown",
      "source": [
        "### 2. 신경망의 추론 처리\n",
        "\n",
        "* 입력층 뉴련 784개 출력층 뉴런 10개로 정의\n",
        "  * 28 * 28 이미지 => 입력층 784\n",
        "  * 10개의 이미지 레이블 => 출력층 10\n",
        "\n",
        "* 은닉층\n",
        "  * 첫번째 층 50개\n",
        "  * 두번째 층 100개"
      ],
      "metadata": {
        "id": "dsr_opXAXPvO"
      }
    },
    {
      "cell_type": "code",
      "source": [
        "# data load function\n",
        "\n",
        "def get_data():\n",
        "  (x_train, t_train), (x_test, t_test) = load_mnist(normalize = True,\n",
        "                                                    flatten = True,\n",
        "                                                    one_hot_label = False)\n",
        "  return x_test, t_test"
      ],
      "metadata": {
        "id": "qXMqaOdqXRdf"
      },
      "execution_count": null,
      "outputs": []
    },
    {
      "cell_type": "code",
      "source": [
        "import pickle\n",
        "\n",
        "def init_network():\n",
        "    with open('sample_weight.pkl', 'rb') as f:\n",
        "        network = pickle.load(f) #sample_weight.pkl 파일에 가중치가 저장돼있다.\n",
        "\n",
        "    return network"
      ],
      "metadata": {
        "id": "_7xpJ2fqYxyJ"
      },
      "execution_count": null,
      "outputs": []
    },
    {
      "cell_type": "code",
      "source": [
        "def predict(network, x):\n",
        "    W1, W2, W3 = network['W1'], network['W2'], network['W3']\n",
        "    b1, b2, b3 = network['b1'], network['b2'], network['b3']\n",
        "\n",
        "    a1 = np.dot(x, W1) + b1\n",
        "    z1 = sigmoid(a1)\n",
        "    a2 = np.dot(z1, W2) + b2\n",
        "    z2 = sigmoid(a2)\n",
        "    a3 = np.dot(z2, W3) + b3\n",
        "    y = softmax(a3)\n",
        "\n",
        "    return y"
      ],
      "metadata": {
        "id": "TMIGqq2dFL7W"
      },
      "execution_count": null,
      "outputs": []
    },
    {
      "cell_type": "code",
      "source": [
        "x, t = get_data()\n",
        "network = init_network()"
      ],
      "metadata": {
        "id": "KlkWine7Grw6"
      },
      "execution_count": null,
      "outputs": []
    },
    {
      "cell_type": "code",
      "source": [
        "acc_cnt = 0\n",
        "\n",
        "for i, j in enumerate(x):\n",
        "    y = predict(network, j)\n",
        "    p = np.argmax(y)\n",
        "    if p == t[i]:\n",
        "        acc_cnt += 1\n",
        "\n",
        "print(f'accuracy : {str(float(acc_cnt)/len(x))}')"
      ],
      "metadata": {
        "colab": {
          "base_uri": "https://localhost:8080/"
        },
        "id": "7QVjX2ThHPex",
        "outputId": "6cc8bb35-d37b-4ac8-e0dd-1b007508b2f1"
      },
      "execution_count": null,
      "outputs": [
        {
          "output_type": "stream",
          "name": "stdout",
          "text": [
            "accuracy : 0.9352\n"
          ]
        }
      ]
    },
    {
      "cell_type": "markdown",
      "source": [
        "### 3. 배치 처리"
      ],
      "metadata": {
        "id": "du1i4msGNTDc"
      }
    },
    {
      "cell_type": "code",
      "source": [
        "x, _ = get_data()\n",
        "network = init_network()"
      ],
      "metadata": {
        "id": "-kJMhFo7NYR2"
      },
      "execution_count": null,
      "outputs": []
    },
    {
      "cell_type": "code",
      "source": [
        "W1, W2, W3 = network['W1'], network['W2'], network['W3']"
      ],
      "metadata": {
        "id": "dbG-fO1qNdDm"
      },
      "execution_count": null,
      "outputs": []
    },
    {
      "cell_type": "markdown",
      "source": [
        "X(784) * (784,50) * (50*100) * (100*10) => Y(10)\n",
        "* 하나의 이미지 입력"
      ],
      "metadata": {
        "id": "cGO8mkqMOaC4"
      }
    },
    {
      "cell_type": "code",
      "source": [
        "print(x.shape)\n",
        "print(x[0].shape)\n",
        "print(W1.shape)\n",
        "print(W2.shape)\n",
        "print(W3.shape)"
      ],
      "metadata": {
        "colab": {
          "base_uri": "https://localhost:8080/"
        },
        "id": "gt-ihDX7NkFU",
        "outputId": "b7856b76-9b25-4998-b166-937bd91247a5"
      },
      "execution_count": null,
      "outputs": [
        {
          "output_type": "stream",
          "name": "stdout",
          "text": [
            "(10000, 784)\n",
            "(784,)\n",
            "(784, 50)\n",
            "(50, 100)\n",
            "(100, 10)\n"
          ]
        }
      ]
    },
    {
      "cell_type": "markdown",
      "source": [
        "이미지 여러장을 한꺼번에 입력하는 경우\n",
        "\n",
        "X(100,784) * (784,50) * (50*100) * (100*10) => Y(100*10)\n",
        "\n",
        "* 이러한 100장의 묶은 데이터를 배치라고 한다"
      ],
      "metadata": {
        "id": "Bt57AMGdOWf6"
      }
    },
    {
      "cell_type": "code",
      "source": [
        "# 배치 처리 구현\n",
        "\n",
        "x, t = get_data()\n",
        "network = init_network()\n",
        "\n",
        "batch_size = 100\n",
        "accuracy_cnt = []\n",
        "\n",
        "for i in range(0, len(x), batch_size):\n",
        "    x_batch = x[i:i+batch_size, :]\n",
        "    y_batch = predict(network, x_batch)\n",
        "    p = np.argmax(y_batch, axis = 1)\n",
        "    accuracy_cnt.append(np.sum(p == t[i:i+batch_size]))\n",
        "\n",
        "print(f'accuracy : {np.array(accuracy_cnt)/100}') #각 배치별 정답율 확인"
      ],
      "metadata": {
        "colab": {
          "base_uri": "https://localhost:8080/"
        },
        "id": "bkVD6hWZO5zF",
        "outputId": "6c6d3735-9942-48ed-fee7-a8468de67ddb"
      },
      "execution_count": null,
      "outputs": [
        {
          "output_type": "stream",
          "name": "stdout",
          "text": [
            "accuracy : [0.92 0.93 0.93 0.9  0.89 0.86 0.89 0.9  0.91 0.89 0.9  0.86 0.83 0.92\n",
            " 0.89 0.89 0.88 0.82 0.85 0.85 0.87 0.86 0.96 0.85 0.87 0.86 0.92 0.93\n",
            " 0.94 0.89 0.95 0.91 0.91 0.92 0.9  0.9  0.94 0.88 0.81 0.86 0.85 0.94\n",
            " 0.91 0.89 0.9  0.92 0.89 0.93 0.89 0.89 0.92 0.95 0.97 0.99 0.99 0.98\n",
            " 0.92 0.95 0.96 0.93 0.85 0.95 1.   0.97 0.92 0.88 0.91 0.89 0.99 0.98\n",
            " 0.96 0.98 0.95 0.99 0.92 0.97 0.99 0.98 0.92 0.9  0.93 0.99 0.94 0.94\n",
            " 0.97 0.96 0.99 1.   1.   1.   0.87 0.96 0.95 0.99 0.97 0.94 0.93 0.85\n",
            " 0.87 0.91]\n"
          ]
        }
      ]
    },
    {
      "cell_type": "markdown",
      "source": [
        "3장 요약\n",
        "\n",
        "* 퍼셉트론과 달리 신경망에는 활성화함수가 있다\n",
        "* 활성화 함수의 종류로는 ReLU, sigmoid, softmax 함수 등이 있다\n",
        "* numpy 다차원 배열을 통해 신경망을 효율적으로 구성할 수 있다\n",
        "* 입력데이터를 묶은 것을 배치라 하며 배치 단위로 진행하면 결과를 훨씬 빠르게 얻을 수 있다\n"
      ],
      "metadata": {
        "id": "Y83VrSeIWZ9E"
      }
    },
    {
      "cell_type": "markdown",
      "source": [
        "# 신경망 학습"
      ],
      "metadata": {
        "id": "n5b196cVWzTX"
      }
    },
    {
      "cell_type": "markdown",
      "source": [
        "## 1. 데이터를 통한 학습\n",
        "\n",
        "* 신경망에서 학습이란 훈련 데이터로부터 가중치 매개변수의 최적값을 획득하는것을 의미한다\n"
      ],
      "metadata": {
        "id": "wdj-qcRoXCk9"
      }
    },
    {
      "cell_type": "markdown",
      "source": [
        "## 2. 손실함수\n",
        "\n",
        "* 성능의 나쁨을 나타내는 지표\n",
        "* 현재의 신경망이 훈련 데이터를 얼마나 잘 처리하느냐를 의미"
      ],
      "metadata": {
        "id": "jGeeUvgr5F51"
      }
    },
    {
      "cell_type": "markdown",
      "source": [
        "### 1. 평균 제곱오차(MSE)\n",
        "\n",
        "$E = \\frac{1}{2}\\displaystyle\\sum_{k}{(y_k-t_k)^2}$"
      ],
      "metadata": {
        "id": "lMVvD0VG5hSZ"
      }
    },
    {
      "cell_type": "code",
      "source": [
        "def mse(y, t):\n",
        "    if len(y) == len(t):\n",
        "        return (1/2) * np.sum((y-t)**2)\n",
        "    else:\n",
        "        return print('length not match')"
      ],
      "metadata": {
        "id": "ukK5fA1a6UN6"
      },
      "execution_count": null,
      "outputs": []
    },
    {
      "cell_type": "code",
      "source": [
        "# y: 신경망의 출력, t : 정답 레이블\n",
        "\n",
        "t = [0, 0, 1, 0, 0, 0, 0, 0, 0, 0] #정답 레이블이 2일때\n",
        "\n",
        "# 2일 확률이 가장 높다고 추정함\n",
        "\n",
        "y1 = [0.1, 0.05, 0.6, 0, 0.05, 0.1, 0, 0.1, 0, 0]\n",
        "print(f'case1: {mse(np.array(y1), np.array(t))}')\n",
        "\n",
        "# 7일 확률이 가장 높다고 추정\n",
        "\n",
        "y2 = [0.1, 0.05, 0.1, 0.0, 0.05, 0.1, 0.0, 0.6 , 0.0, 0.0]\n",
        "print(f'case2: {mse(np.array(y2), np.array(t))}')\n",
        "\n",
        "\n",
        "# -> 손실함수를 확인했을때 더 작은 첫번째 추정결과가 정답에 더 가까울거라 예상 가능"
      ],
      "metadata": {
        "colab": {
          "base_uri": "https://localhost:8080/"
        },
        "id": "aMbVWMnI_A-F",
        "outputId": "2216f6ea-0714-4601-f797-f2cf0ed0651e"
      },
      "execution_count": null,
      "outputs": [
        {
          "output_type": "stream",
          "name": "stdout",
          "text": [
            "case1: 0.09750000000000003\n",
            "case2: 0.5975\n"
          ]
        }
      ]
    },
    {
      "cell_type": "markdown",
      "source": [
        "### 2. 교차 엔트로피 오차\n",
        "\n",
        "$E = -\\displaystyle\\sum_{k}{t_klogy_k}$ (log는 밑이 e인 자연로그)\n",
        "\n",
        "$y_k$ : 신경망의 출력  \n",
        "$t_k$ : 정답 레이블"
      ],
      "metadata": {
        "id": "2y48IgkjAuB7"
      }
    },
    {
      "cell_type": "code",
      "source": [
        "x = np.linspace(0,1, 1000)\n",
        "y = np.log(x + 0.00001)\n",
        "\n",
        "plt.plot(x,-y)\n",
        "plt.ylim(0,5)\n",
        "plt.xlim(0,1)\n",
        "plt.title('minus ln graph')\n",
        "plt.show()\n",
        "\n",
        "# -> y값이(정답 레이블의 확률)이 커질수록 Error값이 작아진다"
      ],
      "metadata": {
        "colab": {
          "base_uri": "https://localhost:8080/",
          "height": 452
        },
        "id": "67XGQ9Z2AwL6",
        "outputId": "f9cb1190-76e1-48ec-dcfa-8a7d5ffbe43b"
      },
      "execution_count": null,
      "outputs": [
        {
          "output_type": "display_data",
          "data": {
            "text/plain": [
              "<Figure size 640x480 with 1 Axes>"
            ],
            "image/png": "[encoded data removed]"
          },
          "metadata": {}
        }
      ]
    },
    {
      "cell_type": "code",
      "source": [
        "def cross_entropy_error(y,t):\n",
        "    delta = 1e-7\n",
        "    return -np.sum(t * np.log(y + delta))"
      ],
      "metadata": {
        "id": "_Jlf9XMdCbEX"
      },
      "execution_count": null,
      "outputs": []
    },
    {
      "cell_type": "code",
      "source": [
        "# y: 신경망의 출력, t : 정답 레이블\n",
        "\n",
        "t = [0, 0, 1, 0, 0, 0, 0, 0, 0, 0] #정답 레이블이 2일때\n",
        "\n",
        "# 2일 확률이 가장 높다고 추정함\n",
        "\n",
        "y1 = [0.1, 0.05, 0.6, 0, 0.05, 0.1, 0, 0.1, 0, 0]\n",
        "print(f'case1: {cross_entropy_error(np.array(y1), np.array(t))}')\n",
        "\n",
        "# 7일 확률이 가장 높다고 추정\n",
        "\n",
        "y2 = [0.1, 0.05, 0.1, 0.0, 0.05, 0.1, 0.0, 0.6 , 0.0, 0.0]\n",
        "print(f'case2: {cross_entropy_error(np.array(y2), np.array(t))}')\n",
        "\n",
        "\n",
        "# -> 손실함수를 확인했을때 더 작은 첫번째 추정결과가 정답에 더 가까울거라 예상 가능\n",
        "# -> 평균제곱오차(mse)와 판단이 일치함"
      ],
      "metadata": {
        "colab": {
          "base_uri": "https://localhost:8080/"
        },
        "id": "LPM6VpV3DG74",
        "outputId": "f8daf671-2ecc-4b7d-af35-a6f2b6984d80"
      },
      "execution_count": null,
      "outputs": [
        {
          "output_type": "stream",
          "name": "stdout",
          "text": [
            "case1: 0.510825457099338\n",
            "case2: 2.3025840929945454\n"
          ]
        }
      ]
    },
    {
      "cell_type": "markdown",
      "source": [
        "### 3. 미니배치학습\n",
        "\n",
        "* 훈련데이터를 통해 손실함수를 구한다\n",
        "* 모든 훈련데이터에 대한 손실함수의 합을 구하는 방법"
      ],
      "metadata": {
        "id": "MvEymASODZu3"
      }
    },
    {
      "cell_type": "markdown",
      "source": [
        "교차 엔트로피 함수\n",
        "\n",
        "$E = -\\frac{1}{n}\\displaystyle\\sum_{n}\\sum_{k}{t_{n,k}logy_{n,k}}$"
      ],
      "metadata": {
        "id": "NmnJilWPv4t9"
      }
    },
    {
      "cell_type": "code",
      "source": [
        "(x_train, t_train), (x_test, t_test) = load_mnist(normalize = True,\n",
        "                                                  flatten = True,\n",
        "                                                  one_hot_label = False)"
      ],
      "metadata": {
        "id": "38117vZTDa6F"
      },
      "execution_count": null,
      "outputs": []
    },
    {
      "cell_type": "code",
      "source": [
        "# batch size가 10일때\n",
        "\n",
        "np.random.seed(10)\n",
        "train_size = x_train.shape[0]\n",
        "batch_size = 10\n",
        "batch_mask = np.random.choice(train_size, batch_size) #60000중 무작위로 10개의 숫자 추출\n",
        "x_batch = x_train[batch_mask]\n",
        "t_batch = t_train[batch_mask]\n",
        "print(batch_mask)"
      ],
      "metadata": {
        "colab": {
          "base_uri": "https://localhost:8080/"
        },
        "id": "qsqsH3BXxS59",
        "outputId": "532c6cf2-1686-43a5-b249-98a960c7e834"
      },
      "execution_count": null,
      "outputs": [
        {
          "output_type": "stream",
          "name": "stdout",
          "text": [
            "[17673 40061 29199 50496 28017 40059  9372 10201 37597 17904]\n"
          ]
        }
      ]
    },
    {
      "cell_type": "markdown",
      "source": [
        "### 5. (배치용) 교차 엔트로피 오차 구현하기"
      ],
      "metadata": {
        "id": "Fq4fZgRI47Ib"
      }
    },
    {
      "cell_type": "code",
      "source": [
        "def cross_entropy_error(y, t):\n",
        "    if y.ndim == 1:\n",
        "        t = t.reshape(1, t.size)\n",
        "        y = y.reshape(1, y.size)\n",
        "\n",
        "    batch_size = y.shape[0]\n",
        "    result = -np.sum(t*np.log(y+1e-7)) / batch_size\n",
        "    return result"
      ],
      "metadata": {
        "id": "sPZ538614gpQ"
      },
      "execution_count": null,
      "outputs": []
    },
    {
      "cell_type": "markdown",
      "source": [
        "코드 해석\n",
        "\n",
        "* y.ndim == 1일때 왜 reshape을 사용하는가"
      ],
      "metadata": {
        "id": "NS2rfePJAQl5"
      }
    },
    {
      "cell_type": "code",
      "source": [
        "y1 = [0.1, 0.05, 0.6, 0, 0.05, 0.1, 0, 0.1, 0, 0]\n",
        "t = [0, 0, 1, 0, 0, 0, 0, 0, 0, 0]"
      ],
      "metadata": {
        "id": "TY1dzgnK-voB"
      },
      "execution_count": null,
      "outputs": []
    },
    {
      "cell_type": "code",
      "source": [
        "y_array = np.array(y1)\n",
        "y_r = y_array.reshape(1,y_array.size)"
      ],
      "metadata": {
        "id": "pe6hiCL0_ETv"
      },
      "execution_count": null,
      "outputs": []
    },
    {
      "cell_type": "code",
      "source": [
        "t_array = np.array(t)\n",
        "t_r = t_array.reshape(1, t_array.size)"
      ],
      "metadata": {
        "id": "yrQ7c2u6_e9-"
      },
      "execution_count": null,
      "outputs": []
    },
    {
      "cell_type": "code",
      "source": [
        "print(y_array)\n",
        "print(y_array.shape)\n",
        "print(y_r)\n",
        "print(y_r.shape)"
      ],
      "metadata": {
        "colab": {
          "base_uri": "https://localhost:8080/"
        },
        "id": "gbRuvlwe_5Y7",
        "outputId": "8b9d5430-7a49-475b-d586-b7fe45edca67"
      },
      "execution_count": null,
      "outputs": [
        {
          "output_type": "stream",
          "name": "stdout",
          "text": [
            "[0.1  0.05 0.6  0.   0.05 0.1  0.   0.1  0.   0.  ]\n",
            "(10,)\n",
            "[[0.1  0.05 0.6  0.   0.05 0.1  0.   0.1  0.   0.  ]]\n",
            "(1, 10)\n"
          ]
        }
      ]
    },
    {
      "cell_type": "code",
      "source": [
        "print(y_array.shape[0])\n",
        "print(y_r.shape[0])\n",
        "\n",
        "# -> 자료가 1개 즉 batch_size가 1인데 reshape을 안해준다면 batch_size가 10이된다.\n",
        "# -> 즉 batch_size가 1일때 batch_size가 2 이상일때와 동일하게 맞춰준다"
      ],
      "metadata": {
        "colab": {
          "base_uri": "https://localhost:8080/"
        },
        "id": "7SVF6nZn_veq",
        "outputId": "7ea4157d-d96a-4116-d74d-4db9d6e84ff5"
      },
      "execution_count": null,
      "outputs": [
        {
          "output_type": "stream",
          "name": "stdout",
          "text": [
            "10\n",
            "1\n"
          ]
        }
      ]
    },
    {
      "cell_type": "code",
      "source": [
        "-np.sum(t_r * np.log(y_r + 1e-7))\n",
        "\n",
        "# -> reshape을 해줘도 연산은 제대로 잘된다."
      ],
      "metadata": {
        "colab": {
          "base_uri": "https://localhost:8080/"
        },
        "id": "SreOOXilA9VM",
        "outputId": "d6f40258-ba8f-446c-c579-08a541d27453"
      },
      "execution_count": null,
      "outputs": [
        {
          "output_type": "execute_result",
          "data": {
            "text/plain": [
              "0.510825457099338"
            ]
          },
          "metadata": {},
          "execution_count": 75
        }
      ]
    },
    {
      "cell_type": "code",
      "source": [
        "# 정답레이블이 원핫 인코딩 변환이 안되있는 경우\n",
        "\n",
        "def cross_entropy_error(y, t):\n",
        "    if y.ndim == 1:\n",
        "        t = t.reshape(1, t.size)\n",
        "        y = y.reshape(1, y.size)\n",
        "\n",
        "    batch_size = y.shape[0]\n",
        "    result = -np.sum(np.log(y[np.arange(batch_size), t] + 1e-7)) / batch_size\n",
        "    return result"
      ],
      "metadata": {
        "id": "ziXlTqXyBNQN"
      },
      "execution_count": null,
      "outputs": []
    },
    {
      "cell_type": "markdown",
      "source": [
        "코드 해석\n",
        "\n",
        "* y[np.arange(batch_size),t]"
      ],
      "metadata": {
        "id": "vkTV_Z2yBksW"
      }
    },
    {
      "cell_type": "code",
      "source": [
        "# batch_size가 3일경우\n",
        "\n",
        "y = np.array([[0.1, 0.05, 0.6, 0, 0.05, 0.1, 0, 0.1, 0, 0],\n",
        "              [0.1, 0.05, 0.1, 0, 0.05, 0.1, 0, 0.6, 0, 0],\n",
        "              [0.1, 0.05, 0.1, 0, 0.05, 0.6, 0, 0.1, 0, 0]])\n",
        "\n",
        "y[np.arange(3), np.array([2,7,5])] # 정답 레이블만의 신경망의 출력을 추출해준다"
      ],
      "metadata": {
        "colab": {
          "base_uri": "https://localhost:8080/"
        },
        "id": "nNO7klNcBtJ_",
        "outputId": "0040e687-028c-403e-a178-070cb372b36f"
      },
      "execution_count": null,
      "outputs": [
        {
          "output_type": "execute_result",
          "data": {
            "text/plain": [
              "array([0.6, 0.6, 0.6])"
            ]
          },
          "metadata": {},
          "execution_count": 77
        }
      ]
    },
    {
      "cell_type": "markdown",
      "source": [
        "### 5. 손실함수를 사용하는 이유\n",
        "\n",
        "* 정확도라는 지표가 있는데 손실함수를 왜 사용하는가?\n",
        "    * 최적의 매개변수를 탐색할 때 손실함수의 값을 가능한 작게 하는 매개변수 값을 찾는다\n",
        "    * 이때 미분을 활용하게 됨\n",
        "    * 손실함수를 가중치 매개변수 값으로 미분을 해준다면 매개변수값의 변화량과 그애 따른 손실함수의 변화를 수치화 가능\n",
        "\n"
      ],
      "metadata": {
        "id": "sFkOyF3k-lPJ"
      }
    },
    {
      "cell_type": "markdown",
      "source": [
        "예시)\n",
        "\n",
        "* 정확도가 지표일때\n",
        "    * 100장의 훈련데이터 중 32장을 올바로 인식한다고 하면\n",
        "    * 매개변수의 값을 조절해도 정확도가 불연속 하게 바뀐다 즉   \n",
        "    => 32%의 정확도가 개선해서 34장을 맞춘다면 34%의 정확도가 된다\n",
        "\n",
        "* 손실함수가 지표일때\n",
        "    * 손실함수의 값이 0.8381xx 같은 연속 수치로 나타남\n",
        "    * 매개변수의 값이 변하면 손실함수의 값도 연속적으로 변화함"
      ],
      "metadata": {
        "id": "AtJjodGCD_wy"
      }
    },
    {
      "cell_type": "markdown",
      "source": [
        "## 3. 수치미분\n",
        "\n",
        "* 해석적 미분 : 우리가 수업시간 때 배웠던 $x^2$ 미분 => $2x$\n",
        "    * 따라서 해석적 미분은 오차를 포함하지 않는 진정한 미분 값을 구해준다\n",
        "    \n",
        "* 수치 미분 : 근사치로 기울기를 계산하는 방법"
      ],
      "metadata": {
        "id": "Kd4A2GIQFiY9"
      }
    },
    {
      "cell_type": "markdown",
      "source": [
        "### 1. 미분"
      ],
      "metadata": {
        "id": "aBbM3x37Fu9p"
      }
    },
    {
      "cell_type": "markdown",
      "source": [
        "미분 구현"
      ],
      "metadata": {
        "id": "xrfEuguCFzkt"
      }
    },
    {
      "cell_type": "code",
      "source": [
        "#나쁜구현\n",
        "def numerical_diff(f, x):\n",
        "    h = 10e-50\n",
        "    return (f(x+h) - f(x)) / h"
      ],
      "metadata": {
        "id": "MjUpApltFv5d"
      },
      "execution_count": null,
      "outputs": []
    },
    {
      "cell_type": "code",
      "source": [
        "# h의 값이 너무 작아서 구현이 안됨\n",
        "\n",
        "np.float32(1e-50) #np.float64일때는 구현 됨"
      ],
      "metadata": {
        "colab": {
          "base_uri": "https://localhost:8080/"
        },
        "id": "qxtPB2thGA0L",
        "outputId": "190eebeb-742e-4e54-e685-535fe9e6bacc"
      },
      "execution_count": null,
      "outputs": [
        {
          "output_type": "execute_result",
          "data": {
            "text/plain": [
              "0.0"
            ]
          },
          "metadata": {},
          "execution_count": 79
        }
      ]
    },
    {
      "cell_type": "code",
      "source": [
        "# 전방차분의 한계 -> 중앙차분으로 변환"
      ],
      "metadata": {
        "id": "9HOMpMlBGaUP"
      },
      "execution_count": null,
      "outputs": []
    },
    {
      "cell_type": "code",
      "source": [
        "def numerical_diff(f, x):\n",
        "    h = 1e-4\n",
        "    return (f(x+h) - f(x-h)) / 2*h"
      ],
      "metadata": {
        "id": "C7WZ8iXcGdYA"
      },
      "execution_count": null,
      "outputs": []
    },
    {
      "cell_type": "markdown",
      "source": [
        "### 2. 수치 미분의 예"
      ],
      "metadata": {
        "id": "wjOtj5RdHONi"
      }
    },
    {
      "cell_type": "markdown",
      "source": [
        "$ f = 0.01x^2 + 0.1x$"
      ],
      "metadata": {
        "id": "VTR4pf9YHYLZ"
      }
    },
    {
      "cell_type": "code",
      "source": [
        "def function_1(x):\n",
        "    return 0.01*x**2 + 0.1*x"
      ],
      "metadata": {
        "id": "juisrPENHPqC"
      },
      "execution_count": null,
      "outputs": []
    },
    {
      "cell_type": "code",
      "source": [
        "numerical_diff(function_1, 5)\n",
        "\n",
        "#해석적미분의 2와 거의 같은값으로 볼 수 있을 정도로 오차가 작다"
      ],
      "metadata": {
        "colab": {
          "base_uri": "https://localhost:8080/"
        },
        "id": "VP3O4aHtHdSr",
        "outputId": "b467ba61-d572-4642-90c8-639f19754b60"
      },
      "execution_count": null,
      "outputs": [
        {
          "output_type": "execute_result",
          "data": {
            "text/plain": [
              "1.9999999999908982e-09"
            ]
          },
          "metadata": {},
          "execution_count": 83
        }
      ]
    },
    {
      "cell_type": "markdown",
      "source": [
        "### 3. 편미분\n",
        "\n",
        "$ f(x_0, x_1) = x_0^2 + x_1^2$\n",
        "\n",
        "* $x_0 = 3, x_1 = 4$ 일때 $x1, x2$에 대한 각각의 편미분을 구하라\n",
        "* $\\frac{\\partial f}{\\partial x_0}$, $\\frac{\\partial f}{\\partial x_1}$\n",
        "\n"
      ],
      "metadata": {
        "id": "rjIG1f65IImy"
      }
    },
    {
      "cell_type": "code",
      "source": [
        "def function_2(x):\n",
        "    return x[0]**2 + x[1]**2"
      ],
      "metadata": {
        "id": "kQPVze2OIJnN"
      },
      "execution_count": null,
      "outputs": []
    },
    {
      "cell_type": "code",
      "source": [
        "def function_tmp1(x0):\n",
        "    return x0*x0 + 4 ** 2"
      ],
      "metadata": {
        "id": "7r6OSbF1IXRw"
      },
      "execution_count": null,
      "outputs": []
    },
    {
      "cell_type": "code",
      "source": [
        "numerical_diff(function_tmp1, 3) #x0에 대한 편미분 계수"
      ],
      "metadata": {
        "colab": {
          "base_uri": "https://localhost:8080/"
        },
        "id": "GeLHqNUwI-ZJ",
        "outputId": "af631183-3199-4f25-be12-e49b51581097"
      },
      "execution_count": null,
      "outputs": [
        {
          "output_type": "execute_result",
          "data": {
            "text/plain": [
              "6.000000000003781e-08"
            ]
          },
          "metadata": {},
          "execution_count": 86
        }
      ]
    },
    {
      "cell_type": "code",
      "source": [
        "def function_tmp2(x1):\n",
        "    return 3**2 + x1*x1"
      ],
      "metadata": {
        "id": "vSudDTHdJFbr"
      },
      "execution_count": null,
      "outputs": []
    },
    {
      "cell_type": "code",
      "source": [
        "numerical_diff(function_tmp2, 4)"
      ],
      "metadata": {
        "colab": {
          "base_uri": "https://localhost:8080/"
        },
        "id": "Xc6Z8PJtJQGB",
        "outputId": "76d78f26-1de9-41fc-f8a5-a4fe94ae027c"
      },
      "execution_count": null,
      "outputs": [
        {
          "output_type": "execute_result",
          "data": {
            "text/plain": [
              "7.999999999999119e-08"
            ]
          },
          "metadata": {},
          "execution_count": 88
        }
      ]
    },
    {
      "cell_type": "markdown",
      "source": [
        "## 4. 기울기\n",
        "\n",
        "* 기울기가 가리기는 쪽은 각 장소에서 함수의 출력값을 가장 크게 줄이는 방향"
      ],
      "metadata": {
        "id": "GWP7oYnLFO14"
      }
    },
    {
      "cell_type": "markdown",
      "source": [
        "### 1. 경사법(경사 하강법)\n",
        "\n",
        "* 기울기를 잘이용해 함수의 최솟값(또는 가능한 작은 값)을 찾으려는 것이 경사법\n",
        "* 함수가 복잡해지면 기울기의 방향에 최솟값이 없을수도 있다"
      ],
      "metadata": {
        "id": "1QYNgTr5UFls"
      }
    },
    {
      "cell_type": "markdown",
      "source": [
        "수식\n",
        "\n",
        "$ x_0 = x_0 - \\eta * \\frac{\\partial f}{\\partial x_0} $  \n",
        "$ x_1 = x_1 - \\eta * \\frac{\\partial f}{\\partial x_1} $  \n",
        "\n",
        "\n",
        "$\\eta$ 는 신경망에서 학습률을 의미"
      ],
      "metadata": {
        "id": "8x6msVSxVyHH"
      }
    },
    {
      "cell_type": "markdown",
      "source": [
        "기울기 함수 구현"
      ],
      "metadata": {
        "id": "ASF_masQBsAn"
      }
    },
    {
      "cell_type": "code",
      "source": [
        "def numerical_gradient(f, x):\n",
        "    h = 1e-4\n",
        "    grad = np.zeros_like(x)\n",
        "\n",
        "    for idx in range(x.size):\n",
        "        tmp_val = x[idx]\n",
        "\n",
        "        x[idx] = tmp_val + h\n",
        "        fxh1 = f(x)\n",
        "\n",
        "        x[idx] = tmp_val - h\n",
        "        fxh2 = f(x)\n",
        "\n",
        "        grad[idx] = (fxh1 - fxh2) / (2*h)\n",
        "        x[idx] = tmp_val\n",
        "\n",
        "    return grad"
      ],
      "metadata": {
        "id": "DZEUkhPWBtcI"
      },
      "execution_count": null,
      "outputs": []
    },
    {
      "cell_type": "code",
      "source": [
        "input_x = np.array([3.0,])"
      ],
      "metadata": {
        "id": "r9LWESqnQIk7"
      },
      "execution_count": null,
      "outputs": []
    },
    {
      "cell_type": "markdown",
      "source": [
        "$f(x_0, x_1) = x_0^2 + x_1^2 $ 함수의 gradient확인"
      ],
      "metadata": {
        "id": "WtpvYnuEDgON"
      }
    },
    {
      "cell_type": "code",
      "source": [
        "numerical_gradient(function_2, np.array([3,4])) #값을 입력할 때 정수형으로 넣으면 올바른 값이 나오지 않음"
      ],
      "metadata": {
        "colab": {
          "base_uri": "https://localhost:8080/"
        },
        "id": "n-I4fD0yOOg0",
        "outputId": "62e84874-71ea-49f4-f0c0-9c8596ae6111"
      },
      "execution_count": null,
      "outputs": [
        {
          "output_type": "execute_result",
          "data": {
            "text/plain": [
              "array([25000, 35000])"
            ]
          },
          "metadata": {},
          "execution_count": 91
        }
      ]
    },
    {
      "cell_type": "code",
      "source": [
        "numerical_gradient(function_2, np.array([3.0, 4.0]))"
      ],
      "metadata": {
        "colab": {
          "base_uri": "https://localhost:8080/"
        },
        "id": "6DR8rDIeE5QK",
        "outputId": "68813ddd-286c-4e46-ab58-71a125cbda71"
      },
      "execution_count": null,
      "outputs": [
        {
          "output_type": "execute_result",
          "data": {
            "text/plain": [
              "array([6., 8.])"
            ]
          },
          "metadata": {},
          "execution_count": 92
        }
      ]
    },
    {
      "cell_type": "markdown",
      "source": [
        "경사하강법 구현"
      ],
      "metadata": {
        "id": "0qh90vqVBaNn"
      }
    },
    {
      "cell_type": "code",
      "source": [
        "def gradient_descent(f, init_x, lr = 0.01, step_num = 100):\n",
        "    x = init_x\n",
        "\n",
        "    for i in range(step_num):\n",
        "        grad = numerical_gradient(f, x)\n",
        "        x -= lr * grad\n",
        "\n",
        "    return x"
      ],
      "metadata": {
        "id": "utpFi2qEFQQE"
      },
      "execution_count": null,
      "outputs": []
    },
    {
      "cell_type": "code",
      "source": [
        "init_x = np.array([-3.0, 4.0])\n",
        "gradient_descent(f = function_2, init_x = init_x, lr = 0.1, step_num = 100)"
      ],
      "metadata": {
        "colab": {
          "base_uri": "https://localhost:8080/"
        },
        "id": "nxxQbycDN39o",
        "outputId": "28cc2772-4a0b-4db3-8b56-c349d69db31c"
      },
      "execution_count": null,
      "outputs": [
        {
          "output_type": "execute_result",
          "data": {
            "text/plain": [
              "array([-6.11110793e-10,  8.14814391e-10])"
            ]
          },
          "metadata": {},
          "execution_count": 94
        }
      ]
    },
    {
      "cell_type": "markdown",
      "source": [
        "학습률에 따라 비교"
      ],
      "metadata": {
        "id": "q1Iu9kwjNhKZ"
      }
    },
    {
      "cell_type": "code",
      "source": [
        "# 학습률이 클 때 : lr = 10\n",
        "\n",
        "init_x = np.array([-3.0, 4.0])\n",
        "gradient_descent(f = function_2, init_x = init_x, lr = 10, step_num = 100)\n",
        "\n",
        "# -> 너무 큰값으로 발산함"
      ],
      "metadata": {
        "colab": {
          "base_uri": "https://localhost:8080/"
        },
        "id": "RVjaTYqnNiLj",
        "outputId": "81ae5a36-915a-4856-e8ca-07cc18836528"
      },
      "execution_count": null,
      "outputs": [
        {
          "output_type": "execute_result",
          "data": {
            "text/plain": [
              "array([-2.58983747e+13, -1.29524862e+12])"
            ]
          },
          "metadata": {},
          "execution_count": 95
        }
      ]
    },
    {
      "cell_type": "code",
      "source": [
        "# 학습률이 클 때 : lr = 1e-10\n",
        "\n",
        "init_x = np.array([-3.0, 4.0])\n",
        "gradient_descent(f = function_2, init_x = init_x, lr = 1e-10, step_num = 100)\n",
        "\n",
        "# -> 거의 갱신되지 않고 끝남"
      ],
      "metadata": {
        "colab": {
          "base_uri": "https://localhost:8080/"
        },
        "id": "NKRNrWW4Oqbt",
        "outputId": "e0a55f4d-17d3-4cb2-a1f9-b95eea905b18"
      },
      "execution_count": null,
      "outputs": [
        {
          "output_type": "execute_result",
          "data": {
            "text/plain": [
              "array([-2.99999994,  3.99999992])"
            ]
          },
          "metadata": {},
          "execution_count": 96
        }
      ]
    },
    {
      "cell_type": "markdown",
      "source": [
        "### 2. 신경망에서의 기울기"
      ],
      "metadata": {
        "id": "9y_fJpzEO54f"
      }
    },
    {
      "cell_type": "markdown",
      "source": [
        "simpleNet확인\n",
        "\n",
        "* 입력이 2개 출력이 3개 인 단순한 신경망"
      ],
      "metadata": {
        "id": "BR3HCmVpSAmc"
      }
    },
    {
      "cell_type": "code",
      "source": [
        "# simpleNet클래스\n",
        "\n",
        "from common.functions import softmax, cross_entropy_error\n",
        "from common.gradient import numerical_gradient\n",
        "\n",
        "class simpleNet:\n",
        "    def __init__(self):\n",
        "        self.W = np.random.randn(2,3) #가중치 초기값으로 랜덤한값 부여\n",
        "\n",
        "    def predict(self, x):\n",
        "        return np.dot(x, self.W)\n",
        "\n",
        "    def loss(self, x, t):\n",
        "        z = self.predict(x)\n",
        "        y = softmax(z)\n",
        "        loss = cross_entropy_error(y, t)\n",
        "        return loss"
      ],
      "metadata": {
        "id": "G2O_iz0wQnpU"
      },
      "execution_count": null,
      "outputs": []
    },
    {
      "cell_type": "code",
      "source": [
        "net = simpleNet()\n",
        "print(net.W)"
      ],
      "metadata": {
        "colab": {
          "base_uri": "https://localhost:8080/"
        },
        "id": "3Ko_rWDHTtGv",
        "outputId": "601e8f05-5376-4342-94ee-9d93c3a52548"
      },
      "execution_count": null,
      "outputs": [
        {
          "output_type": "stream",
          "name": "stdout",
          "text": [
            "[[-0.90561048 -0.89808938  0.45187984]\n",
            " [-0.85947418 -0.53479453  1.03287114]]\n"
          ]
        }
      ]
    },
    {
      "cell_type": "code",
      "source": [
        "x = np.array([0.6, 0.9])\n",
        "p = net.predict(x)\n",
        "print(p)\n",
        "\n",
        "np.argmax(p) # 최대값의 인덱스\n",
        "\n",
        "t = np.array([0,0,1]) # 정답 레이블\n",
        "net.loss(x,t)"
      ],
      "metadata": {
        "colab": {
          "base_uri": "https://localhost:8080/"
        },
        "id": "xj9nNWH2TwCK",
        "outputId": "8120ff3b-c7c6-4753-ac99-b407f77777e7"
      },
      "execution_count": null,
      "outputs": [
        {
          "output_type": "stream",
          "name": "stdout",
          "text": [
            "[-1.31689305 -1.0201687   1.20071193]\n"
          ]
        },
        {
          "output_type": "execute_result",
          "data": {
            "text/plain": [
              "0.17325214207093917"
            ]
          },
          "metadata": {},
          "execution_count": 99
        }
      ]
    },
    {
      "cell_type": "code",
      "source": [
        "def f(W):\n",
        "    return net.loss(x, t)\n",
        "\n",
        "dW = numerical_gradient(f, net.W)\n",
        "print(dW)\n",
        "\n",
        "# f = lambda w: net.loss(x, t) // 간단하게 함수 구현 가능"
      ],
      "metadata": {
        "colab": {
          "base_uri": "https://localhost:8080/"
        },
        "id": "MjRo1kRZUljH",
        "outputId": "fa815677-095a-4b37-dd6a-584669362bad"
      },
      "execution_count": null,
      "outputs": [
        {
          "output_type": "stream",
          "name": "stdout",
          "text": [
            "[[ 0.04069366  0.05475106 -0.09544472]\n",
            " [ 0.06104049  0.08212658 -0.14316707]]\n"
          ]
        }
      ]
    },
    {
      "cell_type": "markdown",
      "source": [
        "왜 f(W)로 net.loss(x, t)를 지정하는가?"
      ],
      "metadata": {
        "id": "5tHoUnFG1IJU"
      }
    },
    {
      "cell_type": "code",
      "source": [
        "import traceback\n",
        "\n",
        "try:\n",
        "    numerical_gradient(net.loss(x, t), net.W)\n",
        "\n",
        "except:\n",
        "    print(traceback.format_exc())\n",
        "\n",
        "# -> object를 부를수 없다고 함"
      ],
      "metadata": {
        "colab": {
          "base_uri": "https://localhost:8080/"
        },
        "id": "gpWseoG51M0o",
        "outputId": "038e04e2-7dac-40fd-a760-989f364b453c"
      },
      "execution_count": null,
      "outputs": [
        {
          "output_type": "stream",
          "name": "stdout",
          "text": [
            "Traceback (most recent call last):\n",
            "  File \"<ipython-input-101-893015afc5dc>\", line 4, in <cell line: 3>\n",
            "    numerical_gradient(net.loss(x, t), net.W)\n",
            "  File \"/content/drive/MyDrive/Colab Notebooks/Notes/딥러닝/deep-learning-from-scratch/ch03/../common/gradient.py\", line 43, in numerical_gradient\n",
            "    fxh1 = f(x) # f(x+h)\n",
            "TypeError: 'numpy.float64' object is not callable\n",
            "\n"
          ]
        }
      ]
    },
    {
      "cell_type": "code",
      "source": [
        "#numerical_gradient 함수 구성 요소\n",
        "import inspect\n",
        "\n",
        "code = inspect.getsource(numerical_gradient)\n",
        "print(code)\n"
      ],
      "metadata": {
        "colab": {
          "base_uri": "https://localhost:8080/"
        },
        "id": "F6vBRlMIY0tK",
        "outputId": "3a629b93-3ff8-4b0c-fba0-281df0526134"
      },
      "execution_count": null,
      "outputs": [
        {
          "output_type": "stream",
          "name": "stdout",
          "text": [
            "def numerical_gradient(f, x):\n",
            "    h = 1e-4 # 0.0001\n",
            "    grad = np.zeros_like(x)\n",
            "    \n",
            "    it = np.nditer(x, flags=['multi_index'], op_flags=['readwrite'])\n",
            "    while not it.finished:\n",
            "        idx = it.multi_index\n",
            "        tmp_val = x[idx]\n",
            "        x[idx] = tmp_val + h\n",
            "        fxh1 = f(x) # f(x+h)\n",
            "        \n",
            "        x[idx] = tmp_val - h \n",
            "        fxh2 = f(x) # f(x-h)\n",
            "        grad[idx] = (fxh1 - fxh2) / (2*h)\n",
            "        \n",
            "        x[idx] = tmp_val # 値を元に戻す\n",
            "        it.iternext()   \n",
            "        \n",
            "    return grad\n",
            "\n"
          ]
        }
      ]
    },
    {
      "cell_type": "code",
      "source": [
        "# x, t변수를 같이 사용하기 위해?\n",
        "\n",
        "x = 3\n",
        "y = 123\n",
        "g = lambda c : x**2 + y\n",
        "\n",
        "def test_func(h, x):\n",
        "    x += 3\n",
        "    res = h(x)\n",
        "    return res\n",
        "\n",
        "test_func(g, 3)"
      ],
      "metadata": {
        "colab": {
          "base_uri": "https://localhost:8080/"
        },
        "id": "puUCP_xky9wd",
        "outputId": "9cbfb24d-68b0-4ee0-8de1-b5f528395324"
      },
      "execution_count": null,
      "outputs": [
        {
          "output_type": "execute_result",
          "data": {
            "text/plain": [
              "132"
            ]
          },
          "metadata": {},
          "execution_count": 103
        }
      ]
    },
    {
      "cell_type": "markdown",
      "source": [
        "## 5. 전체 학습 알고리즘 구현\n",
        "\n",
        "전체\n",
        "* 신경망에는 적응 가능한 가중치와 편향이 있고, 이 가중치와 편향을 훈련 데이터에 적응하도록 조정하는 과정을 학습이라고 한다.\n",
        "---\n",
        "1. 미니배치\n",
        "* 훈련 데이터 중 일부를 무작위로 가져온다. 이렇게 선별한 데이터를 미니배치라 하며, 그 미니배치의 손실 함수 값을 줄이는 것이 목표\n",
        "\n",
        "2. 기울기 산출\n",
        "* 미니배치의 손실 함수 값을 줄이기 위해 각 가중치 매개변수의 기울기를 구한다. 기울기는 손실 함수의 값을 가장 작게하는 방향을 제시한다\n",
        "\n",
        "3. 매개변수 갱신\n",
        "* 가중치 매개변수를 기울기 방향으로 아주 조금 갱신한다\n",
        "\n",
        "4. 반복\n",
        "* 1단계 ~ 3단계를 반복\n"
      ],
      "metadata": {
        "id": "zesTpMPQ7_YN"
      }
    },
    {
      "cell_type": "markdown",
      "source": [
        "확률적 경사하강법\n",
        "\n",
        "* 확률적으로 무작위로 골라낸 데이터에 대해 수행하는 경사하강법이라는 의미\n",
        "* stochastic gradient discent"
      ],
      "metadata": {
        "id": "d8UOHp-3B6H9"
      }
    },
    {
      "cell_type": "markdown",
      "source": [
        "### 1. 2층 신경망 클래스 구현하기\n",
        "\n",
        "손글씨 숫자를 학습하는 신경망을 구현\n",
        "\n",
        "* 2층신경망(은닉층이 1개)"
      ],
      "metadata": {
        "id": "JohDJqqmCIfT"
      }
    },
    {
      "cell_type": "code",
      "source": [
        "import os\n",
        "\n",
        "os.getcwd()"
      ],
      "metadata": {
        "colab": {
          "base_uri": "https://localhost:8080/",
          "height": 35
        },
        "id": "atuYb4npDnLW",
        "outputId": "b010ea62-c586-4e7f-a66f-82fd23afa238"
      },
      "execution_count": null,
      "outputs": [
        {
          "output_type": "execute_result",
          "data": {
            "text/plain": [
              "'/content/drive/MyDrive/Colab Notebooks/Notes/딥러닝/deep-learning-from-scratch/ch03'"
            ],
            "application/vnd.google.colaboratory.intrinsic+json": {
              "type": "string"
            }
          },
          "metadata": {},
          "execution_count": 104
        }
      ]
    },
    {
      "cell_type": "code",
      "source": [
        "os.chdir('/content/drive/MyDrive/Colab Notebooks/Notes/딥러닝/deep-learning-from-scratch')"
      ],
      "metadata": {
        "id": "GJ7tcl84DpXS"
      },
      "execution_count": null,
      "outputs": []
    },
    {
      "cell_type": "code",
      "source": [
        "from common.functions import *\n",
        "from common.gradient import numerical_gradient\n",
        "\n",
        "class TwoLayerNet:\n",
        "    def __init__(self, input_size, hidden_size, output_size, weight_init_std = 0.01):\n",
        "        self.params = {}\n",
        "        self.params['W1'] = weight_init_std * np.random.randn(input_size, hidden_size)\n",
        "        self.params['b1'] = np.zeros(hidden_size)\n",
        "        self.params['W2'] = weight_init_std * np.random.randn(hidden_size, output_size)\n",
        "        self.params['b2'] = np.zeros(output_size)\n",
        "\n",
        "    def predict(self, x):\n",
        "        W1, W2 = self.params['W1'], self.params['W2']\n",
        "        b1, b2 = self.params['b1'], self.params['b2']\n",
        "\n",
        "        a1 = np.dot(x, W1) + b1\n",
        "        z1 = sigmoid(a1)\n",
        "        a2 = np.dot(z1, W2) + b2\n",
        "        y = softmax(a2)\n",
        "        return y\n",
        "\n",
        "    def loss(self, x, t):\n",
        "        y = self.predict(x)\n",
        "        return cross_entropy_error(y, t)\n",
        "\n",
        "    def accuracy(self, x, t):\n",
        "        y = self.predict(x)\n",
        "        y = np.argmax(y, axis = 1)\n",
        "        t = np.argmax(t, axis = 1)\n",
        "        accuracy = np.sum(y == t) / float(x.shape[0])\n",
        "        return accuracy\n",
        "\n",
        "    def numerical_gradient(self, x, t):\n",
        "        loss_W = lambda W: self.loss(x, t)\n",
        "        grads = {}\n",
        "        grads['W1'] = numerical_gradient(loss_W, self.params['W1'])\n",
        "        grads['b1'] = numerical_gradient(loss_W, self.params['b1'])\n",
        "        grads['W2'] = numerical_gradient(loss_W, self.params['W2'])\n",
        "        grads['b2'] = numerical_gradient(loss_W, self.params['b2'])\n",
        "        return grads"
      ],
      "metadata": {
        "id": "IPfyRdwy8CDA"
      },
      "execution_count": null,
      "outputs": []
    },
    {
      "cell_type": "code",
      "source": [
        "net = TwoLayerNet(input_size = 784, hidden_size = 100, output_size = 10)"
      ],
      "metadata": {
        "id": "qzkQPYxbLR3R"
      },
      "execution_count": null,
      "outputs": []
    },
    {
      "cell_type": "code",
      "source": [
        "# 더미데이터 예측\n",
        "\n",
        "x = np.random.rand(100, 784) #더미 입력데이터\n",
        "y = net.predict(x)"
      ],
      "metadata": {
        "id": "bj4ZDc5TLwpn"
      },
      "execution_count": null,
      "outputs": []
    },
    {
      "cell_type": "code",
      "source": [
        "# 더미데이터 예측 기울기 계산\n",
        "import time\n",
        "\n",
        "x = np.random.rand(100, 784)\n",
        "t = np.random.rand(100, 10)\n",
        "\n",
        "start = time.time()\n",
        "grads = net.numerical_gradient(x, t)\n",
        "grads['W1']\n",
        "print(f'계산 소요 시간 : {time.time() - start}')"
      ],
      "metadata": {
        "colab": {
          "base_uri": "https://localhost:8080/"
        },
        "id": "856IUYPqRG_V",
        "outputId": "20e87546-dad7-4bae-a31d-cc034a92a49f"
      },
      "execution_count": null,
      "outputs": [
        {
          "output_type": "stream",
          "name": "stdout",
          "text": [
            "계산 소요 시간 : 145.66309690475464\n"
          ]
        }
      ]
    },
    {
      "cell_type": "code",
      "source": [
        "grads['W1'].shape"
      ],
      "metadata": {
        "colab": {
          "base_uri": "https://localhost:8080/"
        },
        "id": "cPtnMmreVFku",
        "outputId": "a0c6bb75-d6c2-44c0-c999-a9512bac2615"
      },
      "execution_count": null,
      "outputs": [
        {
          "output_type": "execute_result",
          "data": {
            "text/plain": [
              "(784, 100)"
            ]
          },
          "metadata": {},
          "execution_count": 115
        }
      ]
    },
    {
      "cell_type": "markdown",
      "source": [
        "### 2. 미니배치 학습 구현하기"
      ],
      "metadata": {
        "id": "yPbTg5PeVYV4"
      }
    },
    {
      "cell_type": "code",
      "source": [
        "import numpy as np\n",
        "from dataset.mnist import load_mnist\n",
        "from ch04.two_layer_net import TwoLayerNet\n",
        "\n",
        "(x_train, t_train), (x_test, t_test) = load_mnist(normalize = True, one_hot_label = True)\n",
        "\n",
        "train_loss_list = []\n",
        "\n",
        "#hyper parameter\n",
        "\n",
        "iters_num = 10000\n",
        "train_size = x_train.shape[0]\n",
        "batch_size = 100\n",
        "learning_rate = 0.1\n",
        "network = TwoLayerNet(input_size = 784, hidden_size = 50, output_size = 10)\n",
        "\n",
        "start = time.time()\n",
        "\n",
        "for i in range(iters_num):\n",
        "    #미니배치 획득\n",
        "    batch_mask = np.random.choice(train_size, batch_size)\n",
        "    x_batch = x_train[batch_mask]\n",
        "    t_batch = t_train[batch_mask]\n",
        "\n",
        "    #기울기 계산\n",
        "    #grad = network.numerical_gradient(x_batch, t_batch) #기존에 사용하던 방식, 속도가 매우느림\n",
        "    grad = network.gradient(x_batch, t_batch) #오차 역전파 방식\n",
        "\n",
        "    # 매개변수 갱신\n",
        "    for key in ('W1', 'b1', 'W2', 'b2'):\n",
        "        network.params[key] -= learning_rate * grad[key]\n",
        "\n",
        "    loss = network.loss(x_batch, t_batch)\n",
        "    train_loss_list.append(loss)\n",
        "\n",
        "print(f'소요시간 : {time.time() - start}')"
      ],
      "metadata": {
        "colab": {
          "base_uri": "https://localhost:8080/"
        },
        "id": "uiXO-1AKag6q",
        "outputId": "06fef1c4-3015-4ed4-c88a-6520fad29cca"
      },
      "execution_count": null,
      "outputs": [
        {
          "output_type": "stream",
          "name": "stdout",
          "text": [
            "소요시간 : 32.27141833305359\n"
          ]
        }
      ]
    },
    {
      "cell_type": "code",
      "source": [
        "plt.figure(figsize = (15, 10))\n",
        "plt.plot(train_loss_list)\n",
        "plt.ylim(0, 3)\n",
        "plt.xlim(0, 10100)\n",
        "plt.show()"
      ],
      "metadata": {
        "colab": {
          "base_uri": "https://localhost:8080/",
          "height": 576
        },
        "id": "0PTAHkmFfJNV",
        "outputId": "1e7c0153-a9d9-471c-a76c-e7084a47be08"
      },
      "execution_count": null,
      "outputs": [
        {
          "output_type": "display_data",
          "data": {
            "text/plain": [
              "<Figure size 1500x1000 with 1 Axes>"
            ],
            "image/png": "[encoded data removed]"
          },
          "metadata": {}
        }
      ]
    },
    {
      "cell_type": "markdown",
      "source": [
        "### 3. 시험데이터로 평가하기\n",
        "\n",
        "* 학습 도중 정기적으로 훈련 데이터와 시험 데이터를 대상으로 정확도를 기록\n",
        "\n",
        "* 여기서는 1에폭별로 훈련데이터와 시험데이터에 대한 정확도를 기록"
      ],
      "metadata": {
        "id": "6e6ICIjlghaD"
      }
    },
    {
      "cell_type": "markdown",
      "source": [
        "에폭(epoch)\n",
        "\n",
        "* 하나의 단위\n",
        "* 1에폭은 학습에서 훈련 데이터를 모두 소진했을 때의 횟수에 해당한다\n",
        "    * 예를들어 훈련데이터 10,000개를 100개의 미니배치로 학습 할 경우, 확률적 경사하강법을 100회 반복하면 모든 훈련 데이터를 소진하게 된다\n",
        "    * 이경우 100회가 1에폭이 된다"
      ],
      "metadata": {
        "id": "uvhEE7plUrX6"
      }
    },
    {
      "cell_type": "code",
      "source": [
        "import numpy as np\n",
        "from dataset.mnist import load_mnist\n",
        "from ch04.two_layer_net import TwoLayerNet\n",
        "\n",
        "(x_train, t_train), (x_test, t_test) = load_mnist(normalize = True,\n",
        "                                                  one_hot_label = True)\n",
        "\n",
        "\n",
        "network = TwoLayerNet(input_size = 784, hidden_size = 50, output_size = 10)\n",
        "\n",
        "# hyper parameter\n",
        "\n",
        "iters_num = 10000\n",
        "train_size = x_train.shape[0]\n",
        "batch_size = 100\n",
        "learning_rate = 0.1\n",
        "\n",
        "train_loss_list = []\n",
        "train_acc_list = []\n",
        "test_acc_list = []\n",
        "\n",
        "# one epoch 당 반복 수\n",
        "iter_per_epoch = max(train_size/batch_size, 1)\n",
        "\n",
        "for i in range(iters_num):\n",
        "    batch_mask = np.random.choice(train_size, batch_size)\n",
        "    x_batch = x_train[batch_mask]\n",
        "    t_batch = t_train[batch_mask]\n",
        "\n",
        "    grad = network.gradient(x_batch, t_batch)\n",
        "\n",
        "    for key in ('W1', 'b1', 'W2', 'b2'):\n",
        "        network.params[key] -= learning_rate * grad[key]\n",
        "\n",
        "        loss = network.loss(x_batch, t_batch)\n",
        "        train_loss_list.append(loss)\n",
        "\n",
        "    if i % iter_per_epoch == 0:\n",
        "        train_acc = network.accuracy(x_train, t_train)\n",
        "        test_acc = network.accuracy(x_test, t_test)\n",
        "        train_acc_list.append(train_acc)\n",
        "        test_acc_list.append(test_acc)\n",
        "        print(f'train acc : {train_acc}, test_acc : {test_acc}')"
      ],
      "metadata": {
        "id": "4Yk2PvB_gj-Q",
        "colab": {
          "base_uri": "https://localhost:8080/"
        },
        "outputId": "9824564a-7a7e-4dba-d78c-f2047b20f082"
      },
      "execution_count": null,
      "outputs": [
        {
          "output_type": "stream",
          "name": "stdout",
          "text": [
            "train acc : 0.10441666666666667, test_acc : 0.1028\n",
            "train acc : 0.7783666666666667, test_acc : 0.7848\n",
            "train acc : 0.8745666666666667, test_acc : 0.8772\n",
            "train acc : 0.8966666666666666, test_acc : 0.9\n",
            "train acc : 0.9070666666666667, test_acc : 0.9108\n",
            "train acc : 0.91375, test_acc : 0.9159\n",
            "train acc : 0.9192333333333333, test_acc : 0.9217\n",
            "train acc : 0.9236333333333333, test_acc : 0.9267\n",
            "train acc : 0.9265833333333333, test_acc : 0.9301\n",
            "train acc : 0.9308, test_acc : 0.9322\n",
            "train acc : 0.9339333333333333, test_acc : 0.9343\n",
            "train acc : 0.9370833333333334, test_acc : 0.9366\n",
            "train acc : 0.9389666666666666, test_acc : 0.9394\n",
            "train acc : 0.9411666666666667, test_acc : 0.9412\n",
            "train acc : 0.9432, test_acc : 0.9416\n",
            "train acc : 0.9451666666666667, test_acc : 0.9434\n",
            "train acc : 0.9470666666666666, test_acc : 0.9452\n"
          ]
        }
      ]
    },
    {
      "cell_type": "code",
      "source": [
        "plt.figure(figsize = (10,5))\n",
        "plt.plot(train_acc_list, 'b--', label = 'train acc')\n",
        "plt.plot(test_acc_list, 'r-.', label = 'test acc')\n",
        "plt.xlabel('epochs')\n",
        "plt.ylabel('accuracy')\n",
        "plt.xlim(0, 15)\n",
        "plt.ylim(0, 1)\n",
        "plt.legend(loc = 'lower right')\n",
        "plt.show()"
      ],
      "metadata": {
        "colab": {
          "base_uri": "https://localhost:8080/",
          "height": 465
        },
        "id": "n8JtTdwNfDF8",
        "outputId": "ba7f39e9-c65f-4240-f184-e6144a314894"
      },
      "execution_count": null,
      "outputs": [
        {
          "output_type": "display_data",
          "data": {
            "text/plain": [
              "<Figure size 1000x500 with 1 Axes>"
            ],
            "image/png": "[encoded data removed]"
          },
          "metadata": {}
        }
      ]
    },
    {
      "cell_type": "code",
      "source": [
        "train_acc"
      ],
      "metadata": {
        "colab": {
          "base_uri": "https://localhost:8080/"
        },
        "id": "d7UwZWE7fpJo",
        "outputId": "b40e1d08-f508-44a9-cea0-5792fc731cfe"
      },
      "execution_count": null,
      "outputs": [
        {
          "output_type": "execute_result",
          "data": {
            "text/plain": [
              "0.9470666666666666"
            ]
          },
          "metadata": {},
          "execution_count": 139
        }
      ]
    },
    {
      "cell_type": "markdown",
      "source": [
        "## 6. 정리\n",
        "\n",
        "* 신경망 학습은 손실 함수를 지표로, 손실 함수의 값이 작아지는 방향으로 매개변수를 갱신한다\n",
        "* 수치 미분을 이용한 계산에는 시간이 걸리지만 그 구현은 간단하다. 하지만 시간이 오래걸린다.\n",
        "* 오차역전파법은 기울기를 고속으로 구할 수 있다."
      ],
      "metadata": {
        "id": "M3p_m9DJghQC"
      }
    },
    {
      "cell_type": "markdown",
      "source": [
        "# 오차역전파법"
      ],
      "metadata": {
        "id": "iHjiILGTg7Fu"
      }
    },
    {
      "cell_type": "markdown",
      "source": [
        "## 1. 계산 그래프"
      ],
      "metadata": {
        "id": "-kSM7z9Rg9ZS"
      }
    },
    {
      "cell_type": "code",
      "source": [],
      "metadata": {
        "id": "8YV_hrPegycl"
      },
      "execution_count": null,
      "outputs": []
    }
  ]
}