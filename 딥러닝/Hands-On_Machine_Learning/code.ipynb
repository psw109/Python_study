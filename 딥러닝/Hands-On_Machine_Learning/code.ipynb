{
 "cells": [
  {
   "cell_type": "markdown",
   "metadata": {},
   "source": [
    "# 2부 신경망과 딥러닝\n",
    "\n",
    "p.350"
   ]
  },
  {
   "cell_type": "markdown",
   "metadata": {},
   "source": [
    "# 10. 케라스를 사용한 인공 신경망 소개\n",
    "\n",
    "p.351"
   ]
  },
  {
   "cell_type": "markdown",
   "metadata": {},
   "source": [
    "## 1. 생략"
   ]
  },
  {
   "cell_type": "markdown",
   "metadata": {},
   "source": [
    "## 2. 케라스로 다층 퍼셉트론 구현하기 "
   ]
  },
  {
   "cell_type": "markdown",
   "metadata": {},
   "source": [
    "### 1. 텐서플로우 설치\n",
    "\n",
    "* 설치 완료"
   ]
  },
  {
   "cell_type": "markdown",
   "metadata": {},
   "source": [
    "### 2. 시퀀셜 API를 사용하여 이미지 분류기 만들기 \n",
    "\n",
    "* 패션 MNIST 데이터 이용"
   ]
  },
  {
   "cell_type": "code",
   "execution_count": 2,
   "metadata": {},
   "outputs": [
    {
     "name": "stdout",
     "output_type": "stream",
     "text": [
      "2.13.0\n"
     ]
    }
   ],
   "source": [
    "import tensorflow as tf\n",
    "\n",
    "print(tf.__version__)"
   ]
  },
  {
   "cell_type": "code",
   "execution_count": 3,
   "metadata": {},
   "outputs": [],
   "source": [
    "from tensorflow import keras\n",
    "\n",
    "fashion_mnist = keras.datasets.fashion_mnist\n",
    "(X_train_full, y_train_full), (X_test, y_test) = fashion_mnist.load_data()"
   ]
  },
  {
   "cell_type": "code",
   "execution_count": 4,
   "metadata": {},
   "outputs": [
    {
     "name": "stdout",
     "output_type": "stream",
     "text": [
      "(60000, 28, 28)\n",
      "uint8\n"
     ]
    }
   ],
   "source": [
    "print(X_train_full.shape)\n",
    "print(X_train_full.dtype)"
   ]
  },
  {
   "cell_type": "code",
   "execution_count": 5,
   "metadata": {},
   "outputs": [],
   "source": [
    "# 특성 스케일링\n",
    "\n",
    "X_valid, X_train = X_train_full[:5000] / 255.0, X_train_full[5000:] / 255.0\n",
    "y_valid, y_train = y_train_full[:5000], y_train_full[5000:]\n",
    "X_test = X_test / 255.0"
   ]
  },
  {
   "cell_type": "code",
   "execution_count": 6,
   "metadata": {},
   "outputs": [
    {
     "data": {
      "text/plain": [
       "{0, 1, 2, 3, 4, 5, 6, 7, 8, 9}"
      ]
     },
     "execution_count": 6,
     "metadata": {},
     "output_type": "execute_result"
    }
   ],
   "source": [
    "# y_train은 숫자 라벨, 정확한 라벨 지정이 필요\n",
    "set(y_train)"
   ]
  },
  {
   "cell_type": "code",
   "execution_count": 7,
   "metadata": {},
   "outputs": [],
   "source": [
    "class_names = ['T-shirt/top', 'Trouser', 'Pullover', 'Dress', 'Coat', 'Sandal', 'Shirt', 'Sneaker', 'Bag', 'Ankle boot']"
   ]
  },
  {
   "cell_type": "code",
   "execution_count": 8,
   "metadata": {},
   "outputs": [
    {
     "data": {
      "text/plain": [
       "'Coat'"
      ]
     },
     "execution_count": 8,
     "metadata": {},
     "output_type": "execute_result"
    }
   ],
   "source": [
    "class_names[y_train[0]]"
   ]
  },
  {
   "cell_type": "markdown",
   "metadata": {},
   "source": [
    "참고 : 하이퍼 파라미터 갯수\n",
    "\n",
    "* 입력데이터가 28 * 28 사이즈\n",
    "* 은닉층이 300 사이즈\n",
    "* 가중치 300개\n",
    "* 따라서 최종 파라미터는 ```28 * 28 * 300 + 300```\n",
    "* 가중치 파라미터가 있다는걸 생각해야함"
   ]
  },
  {
   "cell_type": "code",
   "execution_count": 9,
   "metadata": {},
   "outputs": [
    {
     "name": "stdout",
     "output_type": "stream",
     "text": [
      "Model: \"sequential\"\n",
      "_________________________________________________________________\n",
      " Layer (type)                Output Shape              Param #   \n",
      "=================================================================\n",
      " flatten (Flatten)           (None, 784)               0         \n",
      "                                                                 \n",
      " dense (Dense)               (None, 300)               235500    \n",
      "                                                                 \n",
      " dense_1 (Dense)             (None, 100)               30100     \n",
      "                                                                 \n",
      " dense_2 (Dense)             (None, 10)                1010      \n",
      "                                                                 \n",
      "=================================================================\n",
      "Total params: 266610 (1.02 MB)\n",
      "Trainable params: 266610 (1.02 MB)\n",
      "Non-trainable params: 0 (0.00 Byte)\n",
      "_________________________________________________________________\n"
     ]
    }
   ],
   "source": [
    "# 모델 생성, 두 개의 은닉층으로 이루어진 분류용 다층 퍼셉트론\n",
    "\n",
    "model = keras.models.Sequential()\n",
    "model.add(keras.layers.Flatten(input_shape = [28, 28]))\n",
    "model.add(keras.layers.Dense(300, activation = 'relu'))\n",
    "model.add(keras.layers.Dense(100, activation = 'relu'))\n",
    "model.add(keras.layers.Dense(10, activation = 'softmax'))\n",
    "model.summary()"
   ]
  },
  {
   "cell_type": "code",
   "execution_count": 10,
   "metadata": {},
   "outputs": [
    {
     "name": "stdout",
     "output_type": "stream",
     "text": [
      "Model: \"sequential_1\"\n",
      "_________________________________________________________________\n",
      " Layer (type)                Output Shape              Param #   \n",
      "=================================================================\n",
      " flatten_1 (Flatten)         (None, 784)               0         \n",
      "                                                                 \n",
      " dense_3 (Dense)             (None, 300)               235500    \n",
      "                                                                 \n",
      " dense_4 (Dense)             (None, 100)               30100     \n",
      "                                                                 \n",
      " dense_5 (Dense)             (None, 10)                1010      \n",
      "                                                                 \n",
      "=================================================================\n",
      "Total params: 266610 (1.02 MB)\n",
      "Trainable params: 266610 (1.02 MB)\n",
      "Non-trainable params: 0 (0.00 Byte)\n",
      "_________________________________________________________________\n"
     ]
    }
   ],
   "source": [
    "model = keras.models.Sequential([\n",
    "    keras.layers.Flatten(input_shape=[28, 28]),\n",
    "    keras.layers.Dense(300, activation = 'relu'),\n",
    "    keras.layers.Dense(100, activation = 'relu'),\n",
    "    keras.layers.Dense(10, activation = 'softmax')\n",
    "])\n",
    "model.summary()"
   ]
  },
  {
   "cell_type": "code",
   "execution_count": 11,
   "metadata": {},
   "outputs": [
    {
     "data": {
      "text/plain": [
       "[<keras.src.layers.reshaping.flatten.Flatten at 0x2c50bb010>,\n",
       " <keras.src.layers.core.dense.Dense at 0x2c50fa910>,\n",
       " <keras.src.layers.core.dense.Dense at 0x2c43ba350>,\n",
       " <keras.src.layers.core.dense.Dense at 0x2c5149650>]"
      ]
     },
     "execution_count": 11,
     "metadata": {},
     "output_type": "execute_result"
    }
   ],
   "source": [
    "model.layers"
   ]
  },
  {
   "cell_type": "code",
   "execution_count": 12,
   "metadata": {},
   "outputs": [
    {
     "data": {
      "text/plain": [
       "'dense_3'"
      ]
     },
     "execution_count": 12,
     "metadata": {},
     "output_type": "execute_result"
    }
   ],
   "source": [
    "hidden1 = model.layers[1]\n",
    "hidden1.name"
   ]
  },
  {
   "cell_type": "code",
   "execution_count": 13,
   "metadata": {},
   "outputs": [
    {
     "name": "stdout",
     "output_type": "stream",
     "text": [
      "[[-0.02261573 -0.00483678  0.06030057 ...  0.05531289  0.01990859\n",
      "  -0.0539845 ]\n",
      " [-0.02860873  0.01165161  0.03260668 ... -0.04193401 -0.07387442\n",
      "   0.05382681]\n",
      " [-0.06730554  0.03318278  0.00536086 ... -0.05477669 -0.07336121\n",
      "  -0.02859459]\n",
      " ...\n",
      " [ 0.01604614 -0.05070014 -0.01977684 ...  0.0299964  -0.05279319\n",
      "  -0.06868849]\n",
      " [ 0.02835996 -0.06097573 -0.01141511 ... -0.07334358 -0.05264599\n",
      "   0.01435699]\n",
      " [ 0.03206318 -0.03784311  0.0461437  ...  0.06474936 -0.01378744\n",
      "   0.05318072]]\n",
      "(784, 300)\n",
      "[0. 0. 0. 0. 0. 0. 0. 0. 0. 0. 0. 0. 0. 0. 0. 0. 0. 0. 0. 0. 0. 0. 0. 0.\n",
      " 0. 0. 0. 0. 0. 0. 0. 0. 0. 0. 0. 0. 0. 0. 0. 0. 0. 0. 0. 0. 0. 0. 0. 0.\n",
      " 0. 0. 0. 0. 0. 0. 0. 0. 0. 0. 0. 0. 0. 0. 0. 0. 0. 0. 0. 0. 0. 0. 0. 0.\n",
      " 0. 0. 0. 0. 0. 0. 0. 0. 0. 0. 0. 0. 0. 0. 0. 0. 0. 0. 0. 0. 0. 0. 0. 0.\n",
      " 0. 0. 0. 0. 0. 0. 0. 0. 0. 0. 0. 0. 0. 0. 0. 0. 0. 0. 0. 0. 0. 0. 0. 0.\n",
      " 0. 0. 0. 0. 0. 0. 0. 0. 0. 0. 0. 0. 0. 0. 0. 0. 0. 0. 0. 0. 0. 0. 0. 0.\n",
      " 0. 0. 0. 0. 0. 0. 0. 0. 0. 0. 0. 0. 0. 0. 0. 0. 0. 0. 0. 0. 0. 0. 0. 0.\n",
      " 0. 0. 0. 0. 0. 0. 0. 0. 0. 0. 0. 0. 0. 0. 0. 0. 0. 0. 0. 0. 0. 0. 0. 0.\n",
      " 0. 0. 0. 0. 0. 0. 0. 0. 0. 0. 0. 0. 0. 0. 0. 0. 0. 0. 0. 0. 0. 0. 0. 0.\n",
      " 0. 0. 0. 0. 0. 0. 0. 0. 0. 0. 0. 0. 0. 0. 0. 0. 0. 0. 0. 0. 0. 0. 0. 0.\n",
      " 0. 0. 0. 0. 0. 0. 0. 0. 0. 0. 0. 0. 0. 0. 0. 0. 0. 0. 0. 0. 0. 0. 0. 0.\n",
      " 0. 0. 0. 0. 0. 0. 0. 0. 0. 0. 0. 0. 0. 0. 0. 0. 0. 0. 0. 0. 0. 0. 0. 0.\n",
      " 0. 0. 0. 0. 0. 0. 0. 0. 0. 0. 0. 0.]\n",
      "(300,)\n"
     ]
    }
   ],
   "source": [
    "weights, biases = hidden1.get_weights() # 첫번째 은닉층의 초기 가중치, 편향\n",
    "print(weights)\n",
    "print(weights.shape)\n",
    "print(biases)\n",
    "print(biases.shape)"
   ]
  },
  {
   "cell_type": "code",
   "execution_count": 14,
   "metadata": {},
   "outputs": [],
   "source": [
    "# 모델 컴파일 \n",
    "\n",
    "model.compile(loss = 'sparse_categorical_crossentropy',\n",
    "              optimizer = 'sgd',\n",
    "              metrics = ['accuracy'])"
   ]
  },
  {
   "cell_type": "markdown",
   "metadata": {},
   "source": [
    "참고 : sparse_categorical_crossentropy와 categorical_crossentropy의 차이점\n",
    "\n",
    "* 샘플마다 타겟 클레스가 하나 이면(예를들어 1번샘플의 정답 = 9, 2번샘플의 정답 = 3) sparse ~ 사용\n",
    "* 샘플마다 타겟 클래스가 원핫 인코딩 벡터형태면(1번 샘플의 정답 = (0,1,0,0), 2번 샘플의 정답 = (1,0,0,0)) categorical ~ 사용\n",
    "    * 원 핫 벡터 변환 함수 : keras.utils.to_categorical()\n",
    "    * 반대는 np.argmax(axis = 1)를 이용해 사용"
   ]
  },
  {
   "cell_type": "markdown",
   "metadata": {},
   "source": [
    "optimizer = sgd는 경사 하강법을 이용해 훈련 한다는 의미"
   ]
  },
  {
   "cell_type": "markdown",
   "metadata": {},
   "source": [
    "metrics = ['accuracy']는 분류 문제이기 때문에 이러한 형태로 지정"
   ]
  },
  {
   "cell_type": "markdown",
   "metadata": {},
   "source": [
    "참고 : model.fit() 메서드 \n",
    "\n",
    "* fit() 메서드는 마지막으로 실행한 파라미터 값을 기억한다, 따라서 다시 실행하게 되면 마지막에 최적화된 파라미터에서 시작함"
   ]
  },
  {
   "cell_type": "code",
   "execution_count": 15,
   "metadata": {},
   "outputs": [
    {
     "name": "stdout",
     "output_type": "stream",
     "text": [
      "Epoch 1/30\n"
     ]
    },
    {
     "name": "stdout",
     "output_type": "stream",
     "text": [
      "1719/1719 [==============================] - 1s 794us/step - loss: 0.7104 - accuracy: 0.7650 - val_loss: 0.5401 - val_accuracy: 0.8186\n",
      "Epoch 2/30\n",
      "1719/1719 [==============================] - 1s 722us/step - loss: 0.4862 - accuracy: 0.8302 - val_loss: 0.4393 - val_accuracy: 0.8528\n",
      "Epoch 3/30\n",
      "1719/1719 [==============================] - 1s 725us/step - loss: 0.4412 - accuracy: 0.8457 - val_loss: 0.4278 - val_accuracy: 0.8520\n",
      "Epoch 4/30\n",
      "1719/1719 [==============================] - 1s 703us/step - loss: 0.4132 - accuracy: 0.8544 - val_loss: 0.3998 - val_accuracy: 0.8596\n",
      "Epoch 5/30\n",
      "1719/1719 [==============================] - 1s 704us/step - loss: 0.3941 - accuracy: 0.8618 - val_loss: 0.4285 - val_accuracy: 0.8460\n",
      "Epoch 6/30\n",
      "1719/1719 [==============================] - 1s 724us/step - loss: 0.3775 - accuracy: 0.8667 - val_loss: 0.3619 - val_accuracy: 0.8718\n",
      "Epoch 7/30\n",
      "1719/1719 [==============================] - 1s 704us/step - loss: 0.3649 - accuracy: 0.8708 - val_loss: 0.3888 - val_accuracy: 0.8648\n",
      "Epoch 8/30\n",
      "1719/1719 [==============================] - 1s 710us/step - loss: 0.3527 - accuracy: 0.8749 - val_loss: 0.3645 - val_accuracy: 0.8744\n",
      "Epoch 9/30\n",
      "1719/1719 [==============================] - 1s 717us/step - loss: 0.3412 - accuracy: 0.8796 - val_loss: 0.3508 - val_accuracy: 0.8748\n",
      "Epoch 10/30\n",
      "1719/1719 [==============================] - 1s 705us/step - loss: 0.3322 - accuracy: 0.8802 - val_loss: 0.3537 - val_accuracy: 0.8760\n",
      "Epoch 11/30\n",
      "1719/1719 [==============================] - 1s 717us/step - loss: 0.3243 - accuracy: 0.8835 - val_loss: 0.3369 - val_accuracy: 0.8822\n",
      "Epoch 12/30\n",
      "1719/1719 [==============================] - 1s 713us/step - loss: 0.3160 - accuracy: 0.8861 - val_loss: 0.3347 - val_accuracy: 0.8848\n",
      "Epoch 13/30\n",
      "1719/1719 [==============================] - 1s 711us/step - loss: 0.3086 - accuracy: 0.8884 - val_loss: 0.3264 - val_accuracy: 0.8866\n",
      "Epoch 14/30\n",
      "1719/1719 [==============================] - 1s 720us/step - loss: 0.3021 - accuracy: 0.8912 - val_loss: 0.3393 - val_accuracy: 0.8770\n",
      "Epoch 15/30\n",
      "1719/1719 [==============================] - 1s 718us/step - loss: 0.2948 - accuracy: 0.8935 - val_loss: 0.3263 - val_accuracy: 0.8816\n",
      "Epoch 16/30\n",
      "1719/1719 [==============================] - 1s 728us/step - loss: 0.2892 - accuracy: 0.8955 - val_loss: 0.3306 - val_accuracy: 0.8832\n",
      "Epoch 17/30\n",
      "1719/1719 [==============================] - 1s 732us/step - loss: 0.2832 - accuracy: 0.8972 - val_loss: 0.3141 - val_accuracy: 0.8864\n",
      "Epoch 18/30\n",
      "1719/1719 [==============================] - 1s 726us/step - loss: 0.2781 - accuracy: 0.8991 - val_loss: 0.3130 - val_accuracy: 0.8892\n",
      "Epoch 19/30\n",
      "1719/1719 [==============================] - 1s 714us/step - loss: 0.2724 - accuracy: 0.9019 - val_loss: 0.3281 - val_accuracy: 0.8782\n",
      "Epoch 20/30\n",
      "1719/1719 [==============================] - 1s 719us/step - loss: 0.2675 - accuracy: 0.9029 - val_loss: 0.3269 - val_accuracy: 0.8808\n",
      "Epoch 21/30\n",
      "1719/1719 [==============================] - 1s 720us/step - loss: 0.2626 - accuracy: 0.9053 - val_loss: 0.3067 - val_accuracy: 0.8898\n",
      "Epoch 22/30\n",
      "1719/1719 [==============================] - 1s 714us/step - loss: 0.2582 - accuracy: 0.9068 - val_loss: 0.3057 - val_accuracy: 0.8926\n",
      "Epoch 23/30\n",
      "1719/1719 [==============================] - 1s 720us/step - loss: 0.2534 - accuracy: 0.9091 - val_loss: 0.3031 - val_accuracy: 0.8916\n",
      "Epoch 24/30\n",
      "1719/1719 [==============================] - 1s 717us/step - loss: 0.2489 - accuracy: 0.9107 - val_loss: 0.3093 - val_accuracy: 0.8910\n",
      "Epoch 25/30\n",
      "1719/1719 [==============================] - 1s 723us/step - loss: 0.2455 - accuracy: 0.9116 - val_loss: 0.3087 - val_accuracy: 0.8904\n",
      "Epoch 26/30\n",
      "1719/1719 [==============================] - 1s 720us/step - loss: 0.2406 - accuracy: 0.9130 - val_loss: 0.2965 - val_accuracy: 0.8970\n",
      "Epoch 27/30\n",
      "1719/1719 [==============================] - 1s 722us/step - loss: 0.2368 - accuracy: 0.9145 - val_loss: 0.2987 - val_accuracy: 0.8964\n",
      "Epoch 28/30\n",
      "1719/1719 [==============================] - 1s 736us/step - loss: 0.2340 - accuracy: 0.9159 - val_loss: 0.3114 - val_accuracy: 0.8838\n",
      "Epoch 29/30\n",
      "1719/1719 [==============================] - 1s 723us/step - loss: 0.2294 - accuracy: 0.9171 - val_loss: 0.2950 - val_accuracy: 0.8912\n",
      "Epoch 30/30\n",
      "1719/1719 [==============================] - 1s 718us/step - loss: 0.2248 - accuracy: 0.9190 - val_loss: 0.2878 - val_accuracy: 0.8974\n"
     ]
    }
   ],
   "source": [
    "# 모델 훈련과 평가\n",
    "\n",
    "history = model.fit(X_train, y_train, epochs=30, validation_data=(X_valid, y_valid))"
   ]
  },
  {
   "cell_type": "markdown",
   "metadata": {},
   "source": [
    "클래스 분포가 편중되어있다면 fit()메서드를 호출할때 class_weight 매개변수를 지정할 수 잇다"
   ]
  },
  {
   "cell_type": "code",
   "execution_count": 16,
   "metadata": {},
   "outputs": [
    {
     "data": {
      "text/html": [
       "<div>\n",
       "<style scoped>\n",
       "    .dataframe tbody tr th:only-of-type {\n",
       "        vertical-align: middle;\n",
       "    }\n",
       "\n",
       "    .dataframe tbody tr th {\n",
       "        vertical-align: top;\n",
       "    }\n",
       "\n",
       "    .dataframe thead th {\n",
       "        text-align: right;\n",
       "    }\n",
       "</style>\n",
       "<table border=\"1\" class=\"dataframe\">\n",
       "  <thead>\n",
       "    <tr style=\"text-align: right;\">\n",
       "      <th></th>\n",
       "      <th>loss</th>\n",
       "      <th>accuracy</th>\n",
       "      <th>val_loss</th>\n",
       "      <th>val_accuracy</th>\n",
       "    </tr>\n",
       "  </thead>\n",
       "  <tbody>\n",
       "    <tr>\n",
       "      <th>0</th>\n",
       "      <td>0.710417</td>\n",
       "      <td>0.764964</td>\n",
       "      <td>0.540105</td>\n",
       "      <td>0.8186</td>\n",
       "    </tr>\n",
       "    <tr>\n",
       "      <th>1</th>\n",
       "      <td>0.486248</td>\n",
       "      <td>0.830182</td>\n",
       "      <td>0.439281</td>\n",
       "      <td>0.8528</td>\n",
       "    </tr>\n",
       "    <tr>\n",
       "      <th>2</th>\n",
       "      <td>0.441207</td>\n",
       "      <td>0.845709</td>\n",
       "      <td>0.427818</td>\n",
       "      <td>0.8520</td>\n",
       "    </tr>\n",
       "    <tr>\n",
       "      <th>3</th>\n",
       "      <td>0.413176</td>\n",
       "      <td>0.854400</td>\n",
       "      <td>0.399828</td>\n",
       "      <td>0.8596</td>\n",
       "    </tr>\n",
       "    <tr>\n",
       "      <th>4</th>\n",
       "      <td>0.394144</td>\n",
       "      <td>0.861818</td>\n",
       "      <td>0.428495</td>\n",
       "      <td>0.8460</td>\n",
       "    </tr>\n",
       "    <tr>\n",
       "      <th>5</th>\n",
       "      <td>0.377473</td>\n",
       "      <td>0.866655</td>\n",
       "      <td>0.361879</td>\n",
       "      <td>0.8718</td>\n",
       "    </tr>\n",
       "    <tr>\n",
       "      <th>6</th>\n",
       "      <td>0.364878</td>\n",
       "      <td>0.870764</td>\n",
       "      <td>0.388803</td>\n",
       "      <td>0.8648</td>\n",
       "    </tr>\n",
       "    <tr>\n",
       "      <th>7</th>\n",
       "      <td>0.352653</td>\n",
       "      <td>0.874927</td>\n",
       "      <td>0.364463</td>\n",
       "      <td>0.8744</td>\n",
       "    </tr>\n",
       "    <tr>\n",
       "      <th>8</th>\n",
       "      <td>0.341171</td>\n",
       "      <td>0.879618</td>\n",
       "      <td>0.350784</td>\n",
       "      <td>0.8748</td>\n",
       "    </tr>\n",
       "    <tr>\n",
       "      <th>9</th>\n",
       "      <td>0.332204</td>\n",
       "      <td>0.880164</td>\n",
       "      <td>0.353715</td>\n",
       "      <td>0.8760</td>\n",
       "    </tr>\n",
       "    <tr>\n",
       "      <th>10</th>\n",
       "      <td>0.324261</td>\n",
       "      <td>0.883473</td>\n",
       "      <td>0.336862</td>\n",
       "      <td>0.8822</td>\n",
       "    </tr>\n",
       "    <tr>\n",
       "      <th>11</th>\n",
       "      <td>0.316016</td>\n",
       "      <td>0.886145</td>\n",
       "      <td>0.334726</td>\n",
       "      <td>0.8848</td>\n",
       "    </tr>\n",
       "    <tr>\n",
       "      <th>12</th>\n",
       "      <td>0.308568</td>\n",
       "      <td>0.888400</td>\n",
       "      <td>0.326415</td>\n",
       "      <td>0.8866</td>\n",
       "    </tr>\n",
       "    <tr>\n",
       "      <th>13</th>\n",
       "      <td>0.302059</td>\n",
       "      <td>0.891182</td>\n",
       "      <td>0.339254</td>\n",
       "      <td>0.8770</td>\n",
       "    </tr>\n",
       "    <tr>\n",
       "      <th>14</th>\n",
       "      <td>0.294808</td>\n",
       "      <td>0.893491</td>\n",
       "      <td>0.326343</td>\n",
       "      <td>0.8816</td>\n",
       "    </tr>\n",
       "    <tr>\n",
       "      <th>15</th>\n",
       "      <td>0.289168</td>\n",
       "      <td>0.895455</td>\n",
       "      <td>0.330595</td>\n",
       "      <td>0.8832</td>\n",
       "    </tr>\n",
       "    <tr>\n",
       "      <th>16</th>\n",
       "      <td>0.283187</td>\n",
       "      <td>0.897182</td>\n",
       "      <td>0.314065</td>\n",
       "      <td>0.8864</td>\n",
       "    </tr>\n",
       "    <tr>\n",
       "      <th>17</th>\n",
       "      <td>0.278109</td>\n",
       "      <td>0.899055</td>\n",
       "      <td>0.313029</td>\n",
       "      <td>0.8892</td>\n",
       "    </tr>\n",
       "    <tr>\n",
       "      <th>18</th>\n",
       "      <td>0.272352</td>\n",
       "      <td>0.901891</td>\n",
       "      <td>0.328132</td>\n",
       "      <td>0.8782</td>\n",
       "    </tr>\n",
       "    <tr>\n",
       "      <th>19</th>\n",
       "      <td>0.267468</td>\n",
       "      <td>0.902945</td>\n",
       "      <td>0.326875</td>\n",
       "      <td>0.8808</td>\n",
       "    </tr>\n",
       "    <tr>\n",
       "      <th>20</th>\n",
       "      <td>0.262563</td>\n",
       "      <td>0.905345</td>\n",
       "      <td>0.306653</td>\n",
       "      <td>0.8898</td>\n",
       "    </tr>\n",
       "    <tr>\n",
       "      <th>21</th>\n",
       "      <td>0.258154</td>\n",
       "      <td>0.906800</td>\n",
       "      <td>0.305654</td>\n",
       "      <td>0.8926</td>\n",
       "    </tr>\n",
       "    <tr>\n",
       "      <th>22</th>\n",
       "      <td>0.253430</td>\n",
       "      <td>0.909073</td>\n",
       "      <td>0.303126</td>\n",
       "      <td>0.8916</td>\n",
       "    </tr>\n",
       "    <tr>\n",
       "      <th>23</th>\n",
       "      <td>0.248914</td>\n",
       "      <td>0.910673</td>\n",
       "      <td>0.309283</td>\n",
       "      <td>0.8910</td>\n",
       "    </tr>\n",
       "    <tr>\n",
       "      <th>24</th>\n",
       "      <td>0.245483</td>\n",
       "      <td>0.911582</td>\n",
       "      <td>0.308741</td>\n",
       "      <td>0.8904</td>\n",
       "    </tr>\n",
       "    <tr>\n",
       "      <th>25</th>\n",
       "      <td>0.240631</td>\n",
       "      <td>0.913018</td>\n",
       "      <td>0.296465</td>\n",
       "      <td>0.8970</td>\n",
       "    </tr>\n",
       "    <tr>\n",
       "      <th>26</th>\n",
       "      <td>0.236809</td>\n",
       "      <td>0.914509</td>\n",
       "      <td>0.298750</td>\n",
       "      <td>0.8964</td>\n",
       "    </tr>\n",
       "    <tr>\n",
       "      <th>27</th>\n",
       "      <td>0.233982</td>\n",
       "      <td>0.915891</td>\n",
       "      <td>0.311371</td>\n",
       "      <td>0.8838</td>\n",
       "    </tr>\n",
       "    <tr>\n",
       "      <th>28</th>\n",
       "      <td>0.229425</td>\n",
       "      <td>0.917073</td>\n",
       "      <td>0.295038</td>\n",
       "      <td>0.8912</td>\n",
       "    </tr>\n",
       "    <tr>\n",
       "      <th>29</th>\n",
       "      <td>0.224780</td>\n",
       "      <td>0.919018</td>\n",
       "      <td>0.287764</td>\n",
       "      <td>0.8974</td>\n",
       "    </tr>\n",
       "  </tbody>\n",
       "</table>\n",
       "</div>"
      ],
      "text/plain": [
       "        loss  accuracy  val_loss  val_accuracy\n",
       "0   0.710417  0.764964  0.540105        0.8186\n",
       "1   0.486248  0.830182  0.439281        0.8528\n",
       "2   0.441207  0.845709  0.427818        0.8520\n",
       "3   0.413176  0.854400  0.399828        0.8596\n",
       "4   0.394144  0.861818  0.428495        0.8460\n",
       "5   0.377473  0.866655  0.361879        0.8718\n",
       "6   0.364878  0.870764  0.388803        0.8648\n",
       "7   0.352653  0.874927  0.364463        0.8744\n",
       "8   0.341171  0.879618  0.350784        0.8748\n",
       "9   0.332204  0.880164  0.353715        0.8760\n",
       "10  0.324261  0.883473  0.336862        0.8822\n",
       "11  0.316016  0.886145  0.334726        0.8848\n",
       "12  0.308568  0.888400  0.326415        0.8866\n",
       "13  0.302059  0.891182  0.339254        0.8770\n",
       "14  0.294808  0.893491  0.326343        0.8816\n",
       "15  0.289168  0.895455  0.330595        0.8832\n",
       "16  0.283187  0.897182  0.314065        0.8864\n",
       "17  0.278109  0.899055  0.313029        0.8892\n",
       "18  0.272352  0.901891  0.328132        0.8782\n",
       "19  0.267468  0.902945  0.326875        0.8808\n",
       "20  0.262563  0.905345  0.306653        0.8898\n",
       "21  0.258154  0.906800  0.305654        0.8926\n",
       "22  0.253430  0.909073  0.303126        0.8916\n",
       "23  0.248914  0.910673  0.309283        0.8910\n",
       "24  0.245483  0.911582  0.308741        0.8904\n",
       "25  0.240631  0.913018  0.296465        0.8970\n",
       "26  0.236809  0.914509  0.298750        0.8964\n",
       "27  0.233982  0.915891  0.311371        0.8838\n",
       "28  0.229425  0.917073  0.295038        0.8912\n",
       "29  0.224780  0.919018  0.287764        0.8974"
      ]
     },
     "execution_count": 16,
     "metadata": {},
     "output_type": "execute_result"
    }
   ],
   "source": [
    "# 결과 확인\n",
    "import pandas as pd\n",
    "\n",
    "pd.DataFrame(history.history)"
   ]
  },
  {
   "cell_type": "code",
   "execution_count": 17,
   "metadata": {},
   "outputs": [
    {
     "data": {
      "image/png": "[encoded data removed]",
      "text/plain": [
       "<Figure size 800x500 with 1 Axes>"
      ]
     },
     "metadata": {},
     "output_type": "display_data"
    }
   ],
   "source": [
    "# 결과 시각화\n",
    "\n",
    "import pandas as pd\n",
    "import matplotlib.pyplot as plt\n",
    "\n",
    "pd.DataFrame(history.history).plot(figsize=(8,5))\n",
    "plt.grid(True)\n",
    "plt.gca().set_ylim(0, 1)\n",
    "plt.show()"
   ]
  },
  {
   "cell_type": "code",
   "execution_count": 18,
   "metadata": {},
   "outputs": [
    {
     "name": "stdout",
     "output_type": "stream",
     "text": [
      "313/313 [==============================] - 0s 478us/step - loss: 0.3236 - accuracy: 0.8806\n"
     ]
    },
    {
     "data": {
      "text/plain": [
       "[0.32363757491111755, 0.8805999755859375]"
      ]
     },
     "execution_count": 18,
     "metadata": {},
     "output_type": "execute_result"
    }
   ],
   "source": [
    "# test 데이터셋 평가\n",
    "\n",
    "model.evaluate(X_test, y_test)"
   ]
  },
  {
   "cell_type": "code",
   "execution_count": 19,
   "metadata": {},
   "outputs": [
    {
     "name": "stdout",
     "output_type": "stream",
     "text": [
      "1/1 [==============================] - 0s 33ms/step\n"
     ]
    },
    {
     "data": {
      "text/plain": [
       "array([[0.  , 0.  , 0.  , 0.  , 0.  , 0.  , 0.  , 0.01, 0.  , 0.99],\n",
       "       [0.  , 0.  , 1.  , 0.  , 0.  , 0.  , 0.  , 0.  , 0.  , 0.  ],\n",
       "       [0.  , 1.  , 0.  , 0.  , 0.  , 0.  , 0.  , 0.  , 0.  , 0.  ]],\n",
       "      dtype=float32)"
      ]
     },
     "execution_count": 19,
     "metadata": {},
     "output_type": "execute_result"
    }
   ],
   "source": [
    "# 훈련된 모델을 사용해 예측\n",
    "\n",
    "X_new = X_test[:3]\n",
    "y_proba = model.predict(X_new)\n",
    "y_proba.round(2)"
   ]
  },
  {
   "cell_type": "code",
   "execution_count": 20,
   "metadata": {},
   "outputs": [
    {
     "name": "stdout",
     "output_type": "stream",
     "text": [
      "1/1 [==============================] - 0s 9ms/step\n",
      "[9 2 1]\n",
      "['Ankle boot' 'Pullover' 'Trouser']\n"
     ]
    }
   ],
   "source": [
    "# 훈련된 모델을 사용해 예측, 이때는 결과값으로 가장 높은 확률의 class가 나온다\n",
    "import numpy as np\n",
    "\n",
    "# y_pred = model.predict_classes(X_new) tensorflow 버전 2.6이후로 사라짐\n",
    "y_pred = np.argmax(model.predict(X_new), axis = 1)\n",
    "print(y_pred)\n",
    "print(np.array(class_names)[y_pred])"
   ]
  },
  {
   "cell_type": "markdown",
   "metadata": {},
   "source": [
    "### 3. 시퀀셜 API를 사용하여 회귀용 다층 퍼셉트론 만들기 "
   ]
  },
  {
   "cell_type": "code",
   "execution_count": 21,
   "metadata": {},
   "outputs": [],
   "source": [
    "from sklearn.datasets import fetch_california_housing\n",
    "from sklearn.model_selection import train_test_split\n",
    "from sklearn.preprocessing import StandardScaler\n",
    "\n",
    "housing = fetch_california_housing()\n",
    "X_train_full, X_test, y_train_full, y_test = train_test_split(housing.data, housing.target) # size를 지정하지않으몀 75대 25비율로 나뉘어진다\n",
    "X_train, X_valid, y_train, y_valid = train_test_split(X_train_full, y_train_full)\n",
    "\n",
    "scaler = StandardScaler()\n",
    "X_train = scaler.fit_transform(X_train)\n",
    "X_valid = scaler.fit_transform(X_valid)\n",
    "X_test = scaler.fit_transform(X_test)"
   ]
  },
  {
   "cell_type": "code",
   "execution_count": 22,
   "metadata": {},
   "outputs": [
    {
     "name": "stdout",
     "output_type": "stream",
     "text": [
      "Epoch 1/20\n",
      "363/363 [==============================] - 0s 493us/step - loss: 1.2612 - val_loss: 0.5707\n",
      "Epoch 2/20\n",
      "363/363 [==============================] - 0s 371us/step - loss: 0.5135 - val_loss: 0.4927\n",
      "Epoch 3/20\n",
      "363/363 [==============================] - 0s 372us/step - loss: 0.4669 - val_loss: 0.4552\n",
      "Epoch 4/20\n",
      "363/363 [==============================] - 0s 383us/step - loss: 0.4501 - val_loss: 0.4422\n",
      "Epoch 5/20\n",
      "363/363 [==============================] - 0s 374us/step - loss: 0.4340 - val_loss: 0.4234\n",
      "Epoch 6/20\n",
      "363/363 [==============================] - 0s 368us/step - loss: 0.4213 - val_loss: 0.4167\n",
      "Epoch 7/20\n",
      "363/363 [==============================] - 0s 369us/step - loss: 0.4124 - val_loss: 0.4133\n",
      "Epoch 8/20\n",
      "363/363 [==============================] - 0s 370us/step - loss: 0.4052 - val_loss: 0.4076\n",
      "Epoch 9/20\n",
      "363/363 [==============================] - 0s 368us/step - loss: 0.4003 - val_loss: 0.5186\n",
      "Epoch 10/20\n",
      "363/363 [==============================] - 0s 369us/step - loss: 0.3974 - val_loss: 0.4093\n",
      "Epoch 11/20\n",
      "363/363 [==============================] - 0s 367us/step - loss: 0.3919 - val_loss: 0.4105\n",
      "Epoch 12/20\n",
      "363/363 [==============================] - 0s 369us/step - loss: 0.3856 - val_loss: 0.4054\n",
      "Epoch 13/20\n",
      "363/363 [==============================] - 0s 368us/step - loss: 0.3830 - val_loss: 0.4125\n",
      "Epoch 14/20\n",
      "363/363 [==============================] - 0s 365us/step - loss: 0.3779 - val_loss: 0.4146\n",
      "Epoch 15/20\n",
      "363/363 [==============================] - 0s 368us/step - loss: 0.3762 - val_loss: 0.4220\n",
      "Epoch 16/20\n",
      "363/363 [==============================] - 0s 367us/step - loss: 0.3735 - val_loss: 0.4216\n",
      "Epoch 17/20\n",
      "363/363 [==============================] - 0s 367us/step - loss: 0.3711 - val_loss: 0.4581\n",
      "Epoch 18/20\n",
      "363/363 [==============================] - 0s 370us/step - loss: 0.3691 - val_loss: 0.4243\n",
      "Epoch 19/20\n",
      "363/363 [==============================] - 0s 362us/step - loss: 0.3693 - val_loss: 0.4360\n",
      "Epoch 20/20\n",
      "363/363 [==============================] - 0s 366us/step - loss: 0.3627 - val_loss: 0.4512\n",
      "162/162 [==============================] - 0s 248us/step - loss: 3.3041\n"
     ]
    },
    {
     "data": {
      "text/plain": [
       "3.304077386856079"
      ]
     },
     "execution_count": 22,
     "metadata": {},
     "output_type": "execute_result"
    }
   ],
   "source": [
    "# 데이터셋에 잡음이 많아서 과대적합을 막는 용도로 뉴런 수가 적은 은닉층 하나만 사용\n",
    "\n",
    "model = keras.models.Sequential([\n",
    "    keras.layers.Dense(30, activation = 'relu', input_shape = X_train.shape[1:]),\n",
    "    keras.layers.Dense(1)\n",
    "])\n",
    "\n",
    "model.compile(loss = 'mean_squared_error', optimizer = 'sgd')\n",
    "history = model.fit(X_train, y_train, epochs=20, validation_data = (X_valid, y_valid))\n",
    "mse_test = model.evaluate(X_test, y_test)\n",
    "mse_test"
   ]
  },
  {
   "cell_type": "code",
   "execution_count": 23,
   "metadata": {},
   "outputs": [
    {
     "name": "stdout",
     "output_type": "stream",
     "text": [
      "1/1 [==============================] - 0s 18ms/step\n"
     ]
    },
    {
     "data": {
      "text/plain": [
       "14.310539179674484"
      ]
     },
     "execution_count": 23,
     "metadata": {},
     "output_type": "execute_result"
    }
   ],
   "source": [
    "X_new = X_test[:3]\n",
    "y_pred = model.predict(X_new)\n",
    "np.mean((y_pred[:3] - y_test[:3])**2)"
   ]
  },
  {
   "cell_type": "markdown",
   "metadata": {},
   "source": [
    "### 4. 함수형 API를 이용해 복잡한 모델 만들기 "
   ]
  },
  {
   "cell_type": "code",
   "execution_count": 24,
   "metadata": {},
   "outputs": [
    {
     "name": "stdout",
     "output_type": "stream",
     "text": [
      "Epoch 1/20\n",
      "363/363 [==============================] - 0s 547us/step - loss: 4.1712 - val_loss: 852.1473\n",
      "Epoch 2/20\n",
      "363/363 [==============================] - 0s 352us/step - loss: nan - val_loss: nan\n",
      "Epoch 3/20\n",
      "363/363 [==============================] - 0s 350us/step - loss: nan - val_loss: nan\n",
      "Epoch 4/20\n",
      "363/363 [==============================] - 0s 353us/step - loss: nan - val_loss: nan\n",
      "Epoch 5/20\n",
      "363/363 [==============================] - 0s 347us/step - loss: nan - val_loss: nan\n",
      "Epoch 6/20\n",
      "363/363 [==============================] - 0s 349us/step - loss: nan - val_loss: nan\n",
      "Epoch 7/20\n",
      "363/363 [==============================] - 0s 352us/step - loss: nan - val_loss: nan\n",
      "Epoch 8/20\n",
      "363/363 [==============================] - 0s 349us/step - loss: nan - val_loss: nan\n",
      "Epoch 9/20\n",
      "363/363 [==============================] - 0s 347us/step - loss: nan - val_loss: nan\n",
      "Epoch 10/20\n",
      "363/363 [==============================] - 0s 351us/step - loss: nan - val_loss: nan\n",
      "Epoch 11/20\n",
      "363/363 [==============================] - 0s 351us/step - loss: nan - val_loss: nan\n",
      "Epoch 12/20\n",
      "363/363 [==============================] - 0s 345us/step - loss: nan - val_loss: nan\n",
      "Epoch 13/20\n",
      "363/363 [==============================] - 0s 349us/step - loss: nan - val_loss: nan\n",
      "Epoch 14/20\n",
      "363/363 [==============================] - 0s 348us/step - loss: nan - val_loss: nan\n",
      "Epoch 15/20\n",
      "363/363 [==============================] - 0s 348us/step - loss: nan - val_loss: nan\n",
      "Epoch 16/20\n",
      "363/363 [==============================] - 0s 349us/step - loss: nan - val_loss: nan\n",
      "Epoch 17/20\n",
      "363/363 [==============================] - 0s 375us/step - loss: nan - val_loss: nan\n",
      "Epoch 18/20\n",
      "363/363 [==============================] - 0s 367us/step - loss: nan - val_loss: nan\n",
      "Epoch 19/20\n",
      "363/363 [==============================] - 0s 345us/step - loss: nan - val_loss: nan\n",
      "Epoch 20/20\n",
      "363/363 [==============================] - 0s 348us/step - loss: nan - val_loss: nan\n",
      "162/162 [==============================] - 0s 246us/step - loss: nan\n"
     ]
    },
    {
     "data": {
      "text/plain": [
       "nan"
      ]
     },
     "execution_count": 24,
     "metadata": {},
     "output_type": "execute_result"
    }
   ],
   "source": [
    "input_ = keras.layers.Input(shape = X_train.shape[1:])\n",
    "hidden1 = keras.layers.Dense(30, activation='relu')(input_)\n",
    "hidden2 = keras.layers.Dense(30, activation='relu')(hidden1)\n",
    "concat = keras.layers.Concatenate()([input_, hidden2])\n",
    "output = keras.layers.Dense(1)(concat)\n",
    "model = keras.Model(inputs = [input_], outputs=[output])\n",
    "\n",
    "model.compile(loss = 'mean_squared_error', optimizer='sgd')\n",
    "history = model.fit(X_train, y_train, epochs=20, validation_data = (X_valid, y_valid))\n",
    "mse_test = model.evaluate(X_test, y_test)\n",
    "mse_test"
   ]
  },
  {
   "cell_type": "code",
   "execution_count": 25,
   "metadata": {},
   "outputs": [],
   "source": [
    "input_A = keras.layers.Input(shape = [5], name='wide_input')\n",
    "input_B = keras.layers.Input(shape = [6], name='deep_input')\n",
    "hidden1 = keras.layers.Dense(30, activation = 'relu')(input_B)\n",
    "hidden2 = keras.layers.Dense(30, activation = 'relu')(hidden1)\n",
    "concat = keras.layers.concatenate([input_A, hidden2])\n",
    "output = keras.layers.Dense(1, name='output')(concat)\n",
    "model = keras.Model(inputs = [input_A, input_B], outputs=[output])"
   ]
  },
  {
   "cell_type": "code",
   "execution_count": 26,
   "metadata": {},
   "outputs": [
    {
     "name": "stderr",
     "output_type": "stream",
     "text": [
      "WARNING:absl:At this time, the v2.11+ optimizer `tf.keras.optimizers.SGD` runs slowly on M1/M2 Macs, please use the legacy Keras optimizer instead, located at `tf.keras.optimizers.legacy.SGD`.\n",
      "WARNING:absl:There is a known slowdown when using v2.11+ Keras optimizers on M1/M2 Macs. Falling back to the legacy Keras optimizer, i.e., `tf.keras.optimizers.legacy.SGD`.\n"
     ]
    },
    {
     "name": "stdout",
     "output_type": "stream",
     "text": [
      "Epoch 1/20\n",
      "363/363 [==============================] - 0s 513us/step - loss: 2.3100 - val_loss: 1.0370\n",
      "Epoch 2/20\n",
      "363/363 [==============================] - 0s 371us/step - loss: 0.8362 - val_loss: 0.7301\n",
      "Epoch 3/20\n",
      "363/363 [==============================] - 0s 369us/step - loss: 0.6806 - val_loss: 0.6425\n",
      "Epoch 4/20\n",
      "363/363 [==============================] - 0s 366us/step - loss: 0.6199 - val_loss: 0.5978\n",
      "Epoch 5/20\n",
      "363/363 [==============================] - 0s 373us/step - loss: 0.5839 - val_loss: 0.5664\n",
      "Epoch 6/20\n",
      "363/363 [==============================] - 0s 358us/step - loss: 0.5575 - val_loss: 0.5459\n",
      "Epoch 7/20\n",
      "363/363 [==============================] - 0s 371us/step - loss: 0.5375 - val_loss: 0.5259\n",
      "Epoch 8/20\n",
      "363/363 [==============================] - 0s 364us/step - loss: 0.5214 - val_loss: 0.5123\n",
      "Epoch 9/20\n",
      "363/363 [==============================] - 0s 363us/step - loss: 0.5083 - val_loss: 0.4998\n",
      "Epoch 10/20\n",
      "363/363 [==============================] - 0s 361us/step - loss: 0.4980 - val_loss: 0.4891\n",
      "Epoch 11/20\n",
      "363/363 [==============================] - 0s 359us/step - loss: 0.4900 - val_loss: 0.4848\n",
      "Epoch 12/20\n",
      "363/363 [==============================] - 0s 365us/step - loss: 0.4837 - val_loss: 0.4767\n",
      "Epoch 13/20\n",
      "363/363 [==============================] - 0s 370us/step - loss: 0.4781 - val_loss: 0.4701\n",
      "Epoch 14/20\n",
      "363/363 [==============================] - 0s 368us/step - loss: 0.4741 - val_loss: 0.4662\n",
      "Epoch 15/20\n",
      "363/363 [==============================] - 0s 362us/step - loss: 0.4710 - val_loss: 0.4634\n",
      "Epoch 16/20\n",
      "363/363 [==============================] - 0s 362us/step - loss: 0.4678 - val_loss: 0.4602\n",
      "Epoch 17/20\n",
      "363/363 [==============================] - 0s 363us/step - loss: 0.4646 - val_loss: 0.4573\n",
      "Epoch 18/20\n",
      "363/363 [==============================] - 0s 370us/step - loss: 0.4633 - val_loss: 0.4560\n",
      "Epoch 19/20\n",
      "363/363 [==============================] - 0s 365us/step - loss: 0.4608 - val_loss: 0.4555\n",
      "Epoch 20/20\n",
      "363/363 [==============================] - 0s 361us/step - loss: 0.4587 - val_loss: 0.4532\n",
      "162/162 [==============================] - 0s 258us/step - loss: 0.7451\n"
     ]
    },
    {
     "data": {
      "text/plain": [
       "0.745054304599762"
      ]
     },
     "execution_count": 26,
     "metadata": {},
     "output_type": "execute_result"
    }
   ],
   "source": [
    "model.compile(loss = 'mse', optimizer=keras.optimizers.SGD(learning_rate=1e-3))\n",
    "\n",
    "X_train_A, X_train_B = X_train[:, :5], X_train[:, 2:]\n",
    "X_valid_A, X_valid_B = X_valid[:, :5], X_valid[:, 2:]\n",
    "X_test_A, X_test_B = X_test[:, :5], X_test[:, 2:]\n",
    "X_new_A, X_new_B = X_test_A[:3], X_test_B[:3]\n",
    "\n",
    "history = model.fit((X_train_A, X_train_B), y_train, epochs=20,\n",
    "                    validation_data = ((X_valid_A, X_valid_B), y_valid))\n",
    "mse_test = model.evaluate((X_test_A, X_test_B), y_test)\n",
    "mse_test"
   ]
  },
  {
   "cell_type": "code",
   "execution_count": 27,
   "metadata": {},
   "outputs": [],
   "source": [
    "# 보조출력 추가 \n",
    "\n",
    "input_A = keras.layers.Input(shape = [5], name='wide_input')\n",
    "input_B = keras.layers.Input(shape = [6], name='deep_input')\n",
    "hidden1 = keras.layers.Dense(30, activation = 'relu')(input_B)\n",
    "hidden2 = keras.layers.Dense(30, activation = 'relu')(hidden1)\n",
    "concat = keras.layers.concatenate([input_A, hidden2])\n",
    "output = keras.layers.Dense(1, name = 'main_output')(concat)\n",
    "aux_output = keras.layers.Dense(1, name='aux_output')(hidden2) # 보조 출력\n",
    "model = keras.Model(inputs = [input_A, input_B], outputs = [output, aux_output])"
   ]
  },
  {
   "cell_type": "code",
   "execution_count": 28,
   "metadata": {},
   "outputs": [],
   "source": [
    "# 보조출력을 추가한 모델 컴파일 방법\n",
    "\n",
    "model.compile(loss=['mse', 'mse'], loss_weights=[0.9, 0.1], optimizer='sgd') # 주출력의 가중치를 0.9, 보조출력의 가중치를 0.1로 두어서 주출력 위주로 모델을 훈련하도록 만듬"
   ]
  },
  {
   "cell_type": "code",
   "execution_count": 29,
   "metadata": {},
   "outputs": [
    {
     "name": "stdout",
     "output_type": "stream",
     "text": [
      "Epoch 1/20\n"
     ]
    },
    {
     "name": "stdout",
     "output_type": "stream",
     "text": [
      "363/363 [==============================] - 0s 624us/step - loss: 0.9528 - main_output_loss: 0.8263 - aux_output_loss: 2.0916 - val_loss: 0.6304 - val_main_output_loss: 0.5624 - val_aux_output_loss: 1.2416\n",
      "Epoch 2/20\n",
      "363/363 [==============================] - 0s 423us/step - loss: 0.5452 - main_output_loss: 0.4824 - aux_output_loss: 1.1107 - val_loss: 0.5195 - val_main_output_loss: 0.4617 - val_aux_output_loss: 1.0404\n",
      "Epoch 3/20\n",
      "363/363 [==============================] - 0s 417us/step - loss: 0.5143 - main_output_loss: 0.4644 - aux_output_loss: 0.9636 - val_loss: 0.4925 - val_main_output_loss: 0.4470 - val_aux_output_loss: 0.9022\n",
      "Epoch 4/20\n",
      "363/363 [==============================] - 0s 419us/step - loss: 0.5025 - main_output_loss: 0.4622 - aux_output_loss: 0.8651 - val_loss: 0.4843 - val_main_output_loss: 0.4447 - val_aux_output_loss: 0.8402\n",
      "Epoch 5/20\n",
      "363/363 [==============================] - 0s 417us/step - loss: 0.4833 - main_output_loss: 0.4479 - aux_output_loss: 0.8025 - val_loss: 0.5059 - val_main_output_loss: 0.4778 - val_aux_output_loss: 0.7589\n",
      "Epoch 6/20\n",
      "363/363 [==============================] - 0s 418us/step - loss: 0.4664 - main_output_loss: 0.4366 - aux_output_loss: 0.7348 - val_loss: 0.4637 - val_main_output_loss: 0.4372 - val_aux_output_loss: 0.7018\n",
      "Epoch 7/20\n",
      "363/363 [==============================] - 0s 420us/step - loss: 0.4787 - main_output_loss: 0.4538 - aux_output_loss: 0.7035 - val_loss: 0.4596 - val_main_output_loss: 0.4361 - val_aux_output_loss: 0.6707\n",
      "Epoch 8/20\n",
      "363/363 [==============================] - 0s 417us/step - loss: 0.4482 - main_output_loss: 0.4246 - aux_output_loss: 0.6605 - val_loss: 0.4679 - val_main_output_loss: 0.4487 - val_aux_output_loss: 0.6408\n",
      "Epoch 9/20\n",
      "363/363 [==============================] - 0s 422us/step - loss: 0.4410 - main_output_loss: 0.4197 - aux_output_loss: 0.6328 - val_loss: 0.4621 - val_main_output_loss: 0.4443 - val_aux_output_loss: 0.6227\n",
      "Epoch 10/20\n",
      "363/363 [==============================] - 0s 420us/step - loss: 0.4320 - main_output_loss: 0.4117 - aux_output_loss: 0.6149 - val_loss: 0.4613 - val_main_output_loss: 0.4442 - val_aux_output_loss: 0.6154\n",
      "Epoch 11/20\n",
      "363/363 [==============================] - 0s 422us/step - loss: 0.4225 - main_output_loss: 0.4029 - aux_output_loss: 0.5990 - val_loss: 0.4722 - val_main_output_loss: 0.4563 - val_aux_output_loss: 0.6155\n",
      "Epoch 12/20\n",
      "363/363 [==============================] - 0s 421us/step - loss: 0.4161 - main_output_loss: 0.3971 - aux_output_loss: 0.5872 - val_loss: 0.4841 - val_main_output_loss: 0.4699 - val_aux_output_loss: 0.6121\n",
      "Epoch 13/20\n",
      "363/363 [==============================] - 0s 427us/step - loss: 0.4095 - main_output_loss: 0.3910 - aux_output_loss: 0.5764 - val_loss: 0.5114 - val_main_output_loss: 0.4990 - val_aux_output_loss: 0.6227\n",
      "Epoch 14/20\n",
      "363/363 [==============================] - 0s 421us/step - loss: 0.4038 - main_output_loss: 0.3862 - aux_output_loss: 0.5620 - val_loss: 0.5127 - val_main_output_loss: 0.5016 - val_aux_output_loss: 0.6119\n",
      "Epoch 15/20\n",
      "363/363 [==============================] - 0s 423us/step - loss: 0.4000 - main_output_loss: 0.3829 - aux_output_loss: 0.5543 - val_loss: 0.5408 - val_main_output_loss: 0.5314 - val_aux_output_loss: 0.6247\n",
      "Epoch 16/20\n",
      "363/363 [==============================] - 0s 451us/step - loss: 0.3960 - main_output_loss: 0.3791 - aux_output_loss: 0.5477 - val_loss: 0.5743 - val_main_output_loss: 0.5678 - val_aux_output_loss: 0.6322\n",
      "Epoch 17/20\n",
      "363/363 [==============================] - 0s 422us/step - loss: 0.3906 - main_output_loss: 0.3741 - aux_output_loss: 0.5390 - val_loss: 0.5421 - val_main_output_loss: 0.5340 - val_aux_output_loss: 0.6156\n",
      "Epoch 18/20\n",
      "363/363 [==============================] - 0s 423us/step - loss: 0.3837 - main_output_loss: 0.3677 - aux_output_loss: 0.5282 - val_loss: 0.5834 - val_main_output_loss: 0.5763 - val_aux_output_loss: 0.6469\n",
      "Epoch 19/20\n",
      "363/363 [==============================] - 0s 422us/step - loss: 0.3861 - main_output_loss: 0.3709 - aux_output_loss: 0.5234 - val_loss: 0.5844 - val_main_output_loss: 0.5768 - val_aux_output_loss: 0.6529\n",
      "Epoch 20/20\n",
      "363/363 [==============================] - 0s 417us/step - loss: 0.3790 - main_output_loss: 0.3638 - aux_output_loss: 0.5151 - val_loss: 0.6206 - val_main_output_loss: 0.6152 - val_aux_output_loss: 0.6691\n"
     ]
    }
   ],
   "source": [
    "history = model.fit(\n",
    "    [X_train_A, X_train_B], [y_train, y_train], epochs = 20,\n",
    "    validation_data = ([X_valid_A, X_valid_B], [y_valid, y_valid])\n",
    ")"
   ]
  },
  {
   "cell_type": "code",
   "execution_count": 30,
   "metadata": {},
   "outputs": [
    {
     "name": "stdout",
     "output_type": "stream",
     "text": [
      "162/162 [==============================] - 0s 333us/step - loss: 5.6859 - main_output_loss: 5.7197 - aux_output_loss: 5.3818\n"
     ]
    }
   ],
   "source": [
    "total_loss, main_loss, aux_loss = model.evaluate(\n",
    "    [X_test_A, X_test_B], [y_test, y_test]\n",
    ")"
   ]
  },
  {
   "cell_type": "code",
   "execution_count": 31,
   "metadata": {},
   "outputs": [
    {
     "name": "stdout",
     "output_type": "stream",
     "text": [
      "1/1 [==============================] - 0s 25ms/step\n"
     ]
    }
   ],
   "source": [
    "y_pred_main, y_pred_aux = model.predict([X_new_A, X_new_B])"
   ]
  },
  {
   "cell_type": "markdown",
   "metadata": {},
   "source": [
    "### 5. 서브클래싱 API로 동적 모델 만들기 \n",
    "\n",
    "* 시퀀셜 API와 함수형 API는 모두 선언적, 사용할 층과 연결 방식을 먼저 정의해야함\n",
    "* 모델에 반복문을 추가할수도 있고 다양한 크기를 다루려면 서브클래싱 API를 사용해야함\n",
    "\n",
    "한계\n",
    "* 모델을 저장하거나 복사할 수 없다\n",
    "* summary() 메서드를 호출하면 층의 목록만 나열되고 층 간의 연결 정보를 얻을 수 없다."
   ]
  },
  {
   "cell_type": "code",
   "execution_count": 32,
   "metadata": {},
   "outputs": [],
   "source": [
    "class WideAndDeepModel(keras.Model):\n",
    "    def __init__(self, units = 30, activation = 'relu', **kwargs):\n",
    "        super().__init__(**kwargs)\n",
    "        self.hidden1 = keras.layers.Dense(units, activation=activation)\n",
    "        self.hidden2 = keras.layers.Dense(units, activation=activation)\n",
    "        self.main_output = keras.layers.Dense(1)\n",
    "        self.aux_output = keras.layers.Dense(1)\n",
    "        \n",
    "    def call(self, inputs):\n",
    "        input_A, input_B = inputs\n",
    "        hidden1 = self.hidden1(input_B)\n",
    "        hidden2 = self.hidden2(hidden1)\n",
    "        concat = keras.layers.concatenate([input_A, hidden2])\n",
    "        main_output = self.main_output(concat)\n",
    "        aux_output = self.aux_output(hidden2)\n",
    "        return main_output, aux_output\n",
    "    \n",
    "model = WideAndDeepModel()"
   ]
  },
  {
   "cell_type": "markdown",
   "metadata": {},
   "source": [
    "### 6. 모델 저장과 복원\n",
    "\n",
    "```python\n",
    "# model save\n",
    "model = keras.models.Sequential([...])\n",
    "model.compile([...])\n",
    "model.fit([...])\n",
    "model.save(\"my_keras_model.h5\")\n",
    "\n",
    "# model load\n",
    "model = keras.models.load_model('my_keras_model.h5')\n",
    "```"
   ]
  },
  {
   "cell_type": "markdown",
   "metadata": {},
   "source": [
    "### 7. 콜백 사용하기\n",
    "\n",
    "* fit() 메서드의 callbacks 매개변수를 사용하여 케라스가 훈련의 시작이나 끝에 호출할 객체 리스트를 저장 가능\n",
    "* 예를들어 ModelCheckppoint는 훈련하는 동안 일정한 간격으로 모델의 체크포인트를 저장, 기본적으로 매 에포크의 끝에서 호출\n",
    "\n",
    "```python \n",
    "checkpoint_cb = keras.callbacks.ModelCheckpoint('my_keras_model.h5')\n",
    "history = model.fit(X_train, y_train, epochs = 10, callbacks=[checkpoint_cb])\n",
    "\n",
    "# 최상 결과(검증세트에서, 따라서 validation_data 지정이 필요)만 저장\n",
    "checkpoint_cb = keras.callbacks.ModelCheckpoint('my_keras_model.h5', save_best_only = True)\n",
    "history = model.fit(X_train, y_train, epochs = 10, \n",
    "                    validation_data = (X_valid, y_valid),\n",
    "                    callbacks=[checkpoint_cb])\n",
    "model = keras.models.load_model('my_keras_model.h5')\n",
    "\n",
    "# 모델의 개선이 없을경우 조기 종료\n",
    "early_stopping_cb = keras.callbacks.EarlyStopping(patience = 10, restore_best_weights = True)\n",
    "history = model.fit(X_train, y_train, epochs = 100,\n",
    "                    validation_data = (X_valid, y_valid),\n",
    "                    callbacks = [checkpoint_cb, early_stopping_cb])\n",
    "\n",
    "# 사용자 정의 콜백 \n",
    "class PrintValTrainRatioCallback(keras.callbacks.Callback):\n",
    "    def on_epoch_end(self, epoch, logs):\n",
    "        print('\\nval/train : {:.2f}'.format(logs['val_loss'] /  logs['loss']))\n",
    "```"
   ]
  },
  {
   "cell_type": "markdown",
   "metadata": {},
   "source": [
    "### 8. 텐서보드를 사용해 시각화하기 \n",
    "생략"
   ]
  },
  {
   "cell_type": "markdown",
   "metadata": {},
   "source": [
    "## 3. 신경망 하이퍼파라미터 튜닝하기 "
   ]
  },
  {
   "cell_type": "code",
   "execution_count": 33,
   "metadata": {},
   "outputs": [],
   "source": [
    "def build_model(n_hidden = 1, n_neurons = 30, lerangin_rate = 3e-3, input_shape=[8]):\n",
    "    model = keras.model.Sequential()\n",
    "    model.add(keras.layers.InputLayer(input_shape = input_shape))\n",
    "    for layer in range(n_hidden):\n",
    "        model.add(keras.layers.Dense(n_neurons, activation = 'relu'))\n",
    "    model.add(keras.layers.Dense(1))\n",
    "    optimizer = keras.optimizers.SGD(lerangin_rate=lerangin_rate)\n",
    "    model.compile(loss = 'mse', optimizer=optimizer)\n",
    "    return model"
   ]
  },
  {
   "cell_type": "code",
   "execution_count": 34,
   "metadata": {},
   "outputs": [
    {
     "ename": "AttributeError",
     "evalue": "module 'keras.api._v2.keras' has no attribute 'wrappers'",
     "output_type": "error",
     "traceback": [
      "\u001b[0;31m---------------------------------------------------------------------------\u001b[0m",
      "\u001b[0;31mAttributeError\u001b[0m                            Traceback (most recent call last)",
      "Cell \u001b[0;32mIn[34], line 1\u001b[0m\n\u001b[0;32m----> 1\u001b[0m \u001b[43mkeras\u001b[49m\u001b[38;5;241;43m.\u001b[39;49m\u001b[43mwrappers\u001b[49m\n",
      "File \u001b[0;32m/opt/homebrew/anaconda3/envs/study/lib/python3.11/site-packages/tensorflow/python/util/lazy_loader.py:59\u001b[0m, in \u001b[0;36mLazyLoader.__getattr__\u001b[0;34m(self, item)\u001b[0m\n\u001b[1;32m     57\u001b[0m \u001b[38;5;28;01mdef\u001b[39;00m \u001b[38;5;21m__getattr__\u001b[39m(\u001b[38;5;28mself\u001b[39m, item):\n\u001b[1;32m     58\u001b[0m   module \u001b[38;5;241m=\u001b[39m \u001b[38;5;28mself\u001b[39m\u001b[38;5;241m.\u001b[39m_load()\n\u001b[0;32m---> 59\u001b[0m   \u001b[38;5;28;01mreturn\u001b[39;00m \u001b[38;5;28mgetattr\u001b[39m(module, item)\n",
      "\u001b[0;31mAttributeError\u001b[0m: module 'keras.api._v2.keras' has no attribute 'wrappers'"
     ]
    }
   ],
   "source": [
    "keras.wrappers"
   ]
  },
  {
   "cell_type": "code",
   "execution_count": null,
   "metadata": {},
   "outputs": [],
   "source": []
  },
  {
   "cell_type": "code",
   "execution_count": null,
   "metadata": {},
   "outputs": [],
   "source": []
  },
  {
   "cell_type": "code",
   "execution_count": null,
   "metadata": {},
   "outputs": [],
   "source": []
  },
  {
   "cell_type": "code",
   "execution_count": null,
   "metadata": {},
   "outputs": [],
   "source": []
  },
  {
   "cell_type": "code",
   "execution_count": null,
   "metadata": {},
   "outputs": [],
   "source": []
  },
  {
   "cell_type": "markdown",
   "metadata": {},
   "source": [
    "## 15. RNN과 CNN을 사용해 시퀀스 처리하기"
   ]
  },
  {
   "cell_type": "markdown",
   "metadata": {},
   "source": [
    "### 15.3 시계열 예측하기\n",
    "\n",
    "p.604"
   ]
  },
  {
   "cell_type": "code",
   "execution_count": null,
   "metadata": {},
   "outputs": [],
   "source": [
    "# 시계열 데이터 생성 함수\n",
    "import numpy as np\n",
    "\n",
    "def generate_time_series(batch_size, n_steps):\n",
    "    freq1, freq2, offsets1, offsets2 = np.random.rand(4, batch_size, 1)\n",
    "    time = np.linspace(0, 1, n_steps)\n",
    "    series = 0.5 * np.sin((time - offsets1) * (freq1 * 10 + 10))\n",
    "    series += 0.2 * np.sin((time - offsets2) * (freq2 * 20 + 20))\n",
    "    series += 0.1 * (np.random.rand(batch_size, n_steps) - 0.5)\n",
    "    return series[..., np.newaxis].astype(np.float32)"
   ]
  },
  {
   "cell_type": "code",
   "execution_count": null,
   "metadata": {},
   "outputs": [],
   "source": [
    "# time_stpes 이 50개인 데이터 10000개\n",
    "n_steps = 50\n",
    "series = generate_time_series(10000, n_steps + 1)\n",
    "X_train, y_train = series[:7000, :n_steps], series[:7000, -1]\n",
    "X_valid, y_valid = series[7000:9000, :n_steps], series[7000:9000, -1]\n",
    "X_test, y_test = series[9000:, :n_steps], series[9000:, -1]"
   ]
  },
  {
   "cell_type": "markdown",
   "metadata": {},
   "source": [
    "### 15.3.1 기준 성능\n",
    "\n",
    "* naive forecast 보다 좋아야지 모델을 사용하는 의미가 있다"
   ]
  },
  {
   "cell_type": "code",
   "execution_count": null,
   "metadata": {},
   "outputs": [
    {
     "data": {
      "text/plain": [
       "0.020081257"
      ]
     },
     "execution_count": 29,
     "metadata": {},
     "output_type": "execute_result"
    }
   ],
   "source": [
    "import keras\n",
    "# 마지막값을 \n",
    "\n",
    "y_pred = X_valid[:, -1]\n",
    "np.mean(keras.losses.mean_squared_error(y_valid, y_pred))"
   ]
  },
  {
   "cell_type": "code",
   "execution_count": null,
   "metadata": {},
   "outputs": [
    {
     "name": "stdout",
     "output_type": "stream",
     "text": [
      "Epoch 1/20\n",
      "219/219 [==============================] - 0s 470us/step - loss: 0.1074\n",
      "Epoch 2/20\n",
      "219/219 [==============================] - 0s 527us/step - loss: 0.0401\n",
      "Epoch 3/20\n",
      "219/219 [==============================] - 0s 312us/step - loss: 0.0241\n",
      "Epoch 4/20\n",
      "219/219 [==============================] - 0s 308us/step - loss: 0.0178\n",
      "Epoch 5/20\n",
      "219/219 [==============================] - 0s 303us/step - loss: 0.0145\n",
      "Epoch 6/20\n",
      "219/219 [==============================] - 0s 313us/step - loss: 0.0123\n",
      "Epoch 7/20\n",
      "219/219 [==============================] - 0s 312us/step - loss: 0.0105\n",
      "Epoch 8/20\n",
      "219/219 [==============================] - 0s 306us/step - loss: 0.0091\n",
      "Epoch 9/20\n",
      "219/219 [==============================] - 0s 307us/step - loss: 0.0079\n",
      "Epoch 10/20\n",
      "219/219 [==============================] - 0s 307us/step - loss: 0.0070\n",
      "Epoch 11/20\n",
      "219/219 [==============================] - 0s 305us/step - loss: 0.0062\n",
      "Epoch 12/20\n",
      "219/219 [==============================] - 0s 300us/step - loss: 0.0056\n",
      "Epoch 13/20\n",
      "219/219 [==============================] - 0s 313us/step - loss: 0.0052\n",
      "Epoch 14/20\n",
      "219/219 [==============================] - 0s 343us/step - loss: 0.0048\n",
      "Epoch 15/20\n",
      "219/219 [==============================] - 0s 334us/step - loss: 0.0046\n",
      "Epoch 16/20\n",
      "219/219 [==============================] - 0s 307us/step - loss: 0.0044\n",
      "Epoch 17/20\n",
      "219/219 [==============================] - 0s 309us/step - loss: 0.0042\n",
      "Epoch 18/20\n",
      "219/219 [==============================] - 0s 315us/step - loss: 0.0041\n",
      "Epoch 19/20\n",
      "219/219 [==============================] - 0s 311us/step - loss: 0.0040\n",
      "Epoch 20/20\n",
      "219/219 [==============================] - 0s 315us/step - loss: 0.0039\n",
      "63/63 [==============================] - 0s 279us/step\n"
     ]
    },
    {
     "data": {
      "text/plain": [
       "0.0040120278"
      ]
     },
     "execution_count": 41,
     "metadata": {},
     "output_type": "execute_result"
    }
   ],
   "source": [
    "# 완전 연결 네트워크를 사용한 예측\n",
    "\n",
    "model = keras.models.Sequential([\n",
    "    keras.layers.Flatten(input_shape = [50,1]), # flatten 계층이 없으면 y_pred는 (2000, 50, 1)로 출력됨\n",
    "    keras.layers.Dense(1)\n",
    "])\n",
    "model.compile(optimizer='Adam', loss = 'mse')\n",
    "model.fit(X_train, y_train, epochs=20)\n",
    "y_pred = model.predict(X_valid)\n",
    "\n",
    "np.mean(keras.losses.mean_squared_error(y_valid, y_pred))"
   ]
  },
  {
   "cell_type": "markdown",
   "metadata": {},
   "source": [
    "### 15.3.2 간단한 RNN 구현하기 "
   ]
  },
  {
   "cell_type": "code",
   "execution_count": null,
   "metadata": {},
   "outputs": [
    {
     "name": "stdout",
     "output_type": "stream",
     "text": [
      "219/219 [==============================] - 1s 2ms/step - loss: 0.1435\n",
      "63/63 [==============================] - 0s 744us/step\n"
     ]
    },
    {
     "data": {
      "text/plain": [
       "0.14080665"
      ]
     },
     "execution_count": 45,
     "metadata": {},
     "output_type": "execute_result"
    }
   ],
   "source": [
    "import keras\n",
    "\n",
    "model = keras.models.Sequential([\n",
    "    keras.layers.SimpleRNN(1, input_shape = [None, 1])\n",
    "])\n",
    "model.compile(optimizer='Adam', loss='mse')\n",
    "model.fit(X_train, y_train)\n",
    "y_pred = model.predict(X_valid)\n",
    "\n",
    "np.mean(keras.losses.mean_squared_error(y_valid, y_pred))"
   ]
  },
  {
   "cell_type": "markdown",
   "metadata": {},
   "source": [
    "### 15.3.3 심층 RNN"
   ]
  },
  {
   "cell_type": "code",
   "execution_count": null,
   "metadata": {},
   "outputs": [
    {
     "name": "stdout",
     "output_type": "stream",
     "text": [
      "219/219 [==============================] - 2s 7ms/step - loss: 0.0336\n",
      "63/63 [==============================] - 0s 2ms/step\n"
     ]
    },
    {
     "data": {
      "text/plain": [
       "0.008754198"
      ]
     },
     "execution_count": 48,
     "metadata": {},
     "output_type": "execute_result"
    }
   ],
   "source": [
    "model = keras.models.Sequential([\n",
    "    keras.layers.SimpleRNN(20, return_sequences=True, input_shape = [None, 1]), # 각 시점에서 결과값이 20개가 나온다\n",
    "    keras.layers.SimpleRNN(20, return_sequences= True), # 각 시점에서 결과값이 20개 \n",
    "    keras.layers.SimpleRNN(1), # 마지막 층에서는 return_sequences를 정의할 필요 없다\n",
    "])\n",
    "model.compile(optimizer='Adam', loss = 'mse')\n",
    "model.fit(X_train, y_train)\n",
    "y_pred = model.predict(X_valid)\n",
    "\n",
    "np.mean(keras.losses.mean_squared_error(y_valid, y_pred))"
   ]
  },
  {
   "cell_type": "code",
   "execution_count": null,
   "metadata": {},
   "outputs": [
    {
     "data": {
      "text/plain": [
       "(7000, 50, 1)"
      ]
     },
     "execution_count": 50,
     "metadata": {},
     "output_type": "execute_result"
    }
   ],
   "source": [
    "X_train.shape"
   ]
  },
  {
   "cell_type": "code",
   "execution_count": null,
   "metadata": {},
   "outputs": [
    {
     "name": "stdout",
     "output_type": "stream",
     "text": [
      "219/219 [==============================] - 2s 5ms/step - loss: 0.0093\n",
      "63/63 [==============================] - 0s 2ms/step\n"
     ]
    },
    {
     "data": {
      "text/plain": [
       "0.0040185642"
      ]
     },
     "execution_count": 55,
     "metadata": {},
     "output_type": "execute_result"
    }
   ],
   "source": [
    "model = keras.models.Sequential([\n",
    "    keras.layers.SimpleRNN(20, return_sequences=True, input_shape = [None, 1]), # 각 시점에서 결과값이 20개가 나온다\n",
    "    keras.layers.SimpleRNN(20),\n",
    "    keras.layers.Dense(1),\n",
    "])\n",
    "model.compile(optimizer='Adam', loss = 'mse')\n",
    "model.fit(X_train, y_train)\n",
    "y_pred = model.predict(X_valid)\n",
    "\n",
    "np.mean(keras.losses.mean_squared_error(y_valid, y_pred))"
   ]
  },
  {
   "cell_type": "code",
   "execution_count": null,
   "metadata": {},
   "outputs": [
    {
     "name": "stdout",
     "output_type": "stream",
     "text": [
      "(7000, 50, 20)\n",
      "(7000, 20)\n",
      "(7000, 1)\n"
     ]
    }
   ],
   "source": [
    "# 직접 실행하며 어떤식으로 연산이 되는지 확인\n",
    "\n",
    "rnn1 = keras.layers.SimpleRNN(20, return_sequences=True, input_shape = [None, 1])\n",
    "hidden_state1 = rnn1(X_train)\n",
    "print(hidden_state1.shape)\n",
    "\n",
    "rnn2 = keras.layers.SimpleRNN(20)\n",
    "hidden_state2 = rnn2(hidden_state1)\n",
    "print(hidden_state2.shape)\n",
    "\n",
    "dense1 = keras.layers.Dense(1)\n",
    "res = dense1(hidden_state2)\n",
    "print(res.shape)"
   ]
  },
  {
   "cell_type": "markdown",
   "metadata": {},
   "source": [
    "### 15.4.3 여러 타임 스텝 앞을 예측하기\n",
    "\n",
    "* 첫번째 방법 : 이미 훈련된 모델을 사용하여 다음값을 예측한 다음 이 값을 입력으로 추가하여 새롭게 그 다음값을 예측\n",
    "* 두번째 방법 : RNN을 훈련하여 다음 값 10개를 한 번에 예측하는것, 시퀀스-투-벡터 모델을 사용"
   ]
  },
  {
   "cell_type": "code",
   "execution_count": null,
   "metadata": {},
   "outputs": [
    {
     "name": "stdout",
     "output_type": "stream",
     "text": [
      "1/1 [==============================] - 0s 24ms/step\n",
      "1/1 [==============================] - 0s 10ms/step\n",
      "1/1 [==============================] - 0s 10ms/step\n",
      "1/1 [==============================] - 0s 10ms/step\n",
      "1/1 [==============================] - 0s 9ms/step\n",
      "1/1 [==============================] - 0s 9ms/step\n",
      "1/1 [==============================] - 0s 9ms/step\n",
      "1/1 [==============================] - 0s 9ms/step\n",
      "1/1 [==============================] - 0s 9ms/step\n",
      "1/1 [==============================] - 0s 9ms/step\n"
     ]
    },
    {
     "data": {
      "text/plain": [
       "0.042548746"
      ]
     },
     "execution_count": 66,
     "metadata": {},
     "output_type": "execute_result"
    }
   ],
   "source": [
    "# 첫번째 방법\n",
    "n_steps = 50\n",
    "series = generate_time_series(1, n_steps + 10)\n",
    "X_new, Y_new = series[:, :n_steps], series[:, n_steps:]\n",
    "X = X_new\n",
    "\n",
    "for step_ahead in range(10):\n",
    "    y_pred_one = model.predict(X[:, step_ahead:])[:, np.newaxis, :]\n",
    "    X = np.concatenate([X, y_pred_one], axis=1)\n",
    "    \n",
    "Y_pred = X[:, n_steps:]\n",
    "np.mean(keras.losses.mse(Y_new, Y_pred))"
   ]
  },
  {
   "cell_type": "code",
   "execution_count": null,
   "metadata": {},
   "outputs": [],
   "source": [
    "# 두번째 방법\n",
    "\n",
    "series = generate_time_series(10000, n_steps + 10)\n",
    "series.shape\n",
    "X_train, Y_train = series[:7000, :n_steps], series[:7000, -10:, 0] # series[:7000, -10:, 0] : (7000, 10) series[:7000, -10:] : (7000, 10, 1 )\n",
    "X_valid, Y_valid = series[7000:9000, :n_steps], series[7000:9000, -10:, 0]\n",
    "X_test, Y_test = series[9000:, :n_steps], series[9000:, -10:, 0]"
   ]
  },
  {
   "cell_type": "code",
   "execution_count": null,
   "metadata": {},
   "outputs": [],
   "source": [
    "# 시퀀스 데이터 생성\n",
    "\n",
    "Y = np.empty((10000, n_steps, 10))\n",
    "for step_ahead in range(1, 10 + 1):\n",
    "    Y[:, :, step_ahead -1] = series[:, step_ahead:step_ahead + n_steps, 0]\n",
    "\n",
    "Y_train = Y[:7000] \n",
    "Y_valid = Y[7000:9000]\n",
    "Y_test = Y[9000:]"
   ]
  },
  {
   "cell_type": "code",
   "execution_count": null,
   "metadata": {},
   "outputs": [
    {
     "name": "stdout",
     "output_type": "stream",
     "text": [
      "219/219 [==============================] - 2s 5ms/step - loss: 0.0671 - last_time_step_mse: 0.0676\n"
     ]
    },
    {
     "data": {
      "text/plain": [
       "<keras.src.callbacks.History at 0x1776e1d50>"
      ]
     },
     "execution_count": 99,
     "metadata": {},
     "output_type": "execute_result"
    }
   ],
   "source": [
    "model = keras.models.Sequential([\n",
    "    keras.layers.SimpleRNN(20, return_sequences=True, input_shape = [None, 1]),\n",
    "    keras.layers.SimpleRNN(20, return_sequences=True),\n",
    "    keras.layers.TimeDistributed(keras.layers.Dense(10))    \n",
    "])\n",
    "\n",
    "def last_time_step_mse(Y_true, Y_pred):\n",
    "    return keras.metrics.mean_squared_error(Y_true[:, -1], Y_pred[:, -1])\n",
    "\n",
    "model.compile(optimizer='Adam', loss='mse', metrics=[last_time_step_mse])\n",
    "model.fit(X_train, Y_train)"
   ]
  },
  {
   "cell_type": "code",
   "execution_count": null,
   "metadata": {},
   "outputs": [
    {
     "name": "stdout",
     "output_type": "stream",
     "text": [
      "63/63 [==============================] - 0s 2ms/step\n"
     ]
    }
   ],
   "source": [
    "Y_pred = model.predict(X_valid)"
   ]
  },
  {
   "cell_type": "code",
   "execution_count": null,
   "metadata": {},
   "outputs": [
    {
     "data": {
      "text/plain": [
       "(7000, 50, 10)"
      ]
     },
     "execution_count": 104,
     "metadata": {},
     "output_type": "execute_result"
    }
   ],
   "source": [
    "Y_train.shape"
   ]
  }
 ],
 "metadata": {
  "kernelspec": {
   "display_name": "base",
   "language": "python",
   "name": "python3"
  },
  "language_info": {
   "codemirror_mode": {
    "name": "ipython",
    "version": 3
   },
   "file_extension": ".py",
   "mimetype": "text/x-python",
   "name": "python",
   "nbconvert_exporter": "python",
   "pygments_lexer": "ipython3",
   "version": "3.11.5"
  }
 },
 "nbformat": 4,
 "nbformat_minor": 2
}
