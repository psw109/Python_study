{
 "cells": [
  {
   "cell_type": "markdown",
   "metadata": {},
   "source": [
    "# 2부 신경망과 딥러닝\n",
    "\n",
    "p.350"
   ]
  },
  {
   "cell_type": "markdown",
   "metadata": {},
   "source": [
    "# 10. 케라스를 사용한 인공 신경망 소개\n",
    "\n",
    "p.351"
   ]
  },
  {
   "cell_type": "markdown",
   "metadata": {},
   "source": [
    "## 1. 생략"
   ]
  },
  {
   "cell_type": "markdown",
   "metadata": {},
   "source": [
    "## 2. 케라스로 다층 퍼셉트론 구현하기 "
   ]
  },
  {
   "cell_type": "markdown",
   "metadata": {},
   "source": [
    "### 1. 텐서플로우 설치\n",
    "\n",
    "* 설치 완료"
   ]
  },
  {
   "cell_type": "markdown",
   "metadata": {},
   "source": [
    "### 2. 시퀀셜 API를 사용하여 이미지 분류기 만들기 \n",
    "\n",
    "* 패션 MNIST 데이터 이용"
   ]
  },
  {
   "cell_type": "code",
   "execution_count": 172,
   "metadata": {},
   "outputs": [],
   "source": [
    "from tensorflow import keras\n",
    "\n",
    "fashion_mnist = keras.datasets.fashion_mnist\n",
    "(X_train_full, y_train_full), (X_test, y_test) = fashion_mnist.load_data()"
   ]
  },
  {
   "cell_type": "code",
   "execution_count": 173,
   "metadata": {},
   "outputs": [
    {
     "name": "stdout",
     "output_type": "stream",
     "text": [
      "(60000, 28, 28)\n",
      "uint8\n"
     ]
    }
   ],
   "source": [
    "print(X_train_full.shape)\n",
    "print(X_train_full.dtype)"
   ]
  },
  {
   "cell_type": "code",
   "execution_count": 174,
   "metadata": {},
   "outputs": [],
   "source": [
    "# 특성 스케일링\n",
    "\n",
    "X_valid, X_train = X_train_full[:5000] / 255.0, X_train_full[5000:] / 255.0\n",
    "y_valid, y_train = y_train_full[:5000], y_train_full[5000:]\n",
    "X_test = X_test / 255.0"
   ]
  },
  {
   "cell_type": "code",
   "execution_count": 147,
   "metadata": {},
   "outputs": [
    {
     "data": {
      "text/plain": [
       "{0, 1, 2, 3, 4, 5, 6, 7, 8, 9}"
      ]
     },
     "execution_count": 147,
     "metadata": {},
     "output_type": "execute_result"
    }
   ],
   "source": [
    "# y_train은 숫자 라벨, 정확한 라벨 지정이 필요\n",
    "set(y_train)"
   ]
  },
  {
   "cell_type": "code",
   "execution_count": 148,
   "metadata": {},
   "outputs": [],
   "source": [
    "class_names = ['T-shirt/top', 'Trouser', 'Pullover', 'Dress', 'Coat', 'Sandal', 'Shirt', 'Sneaker', 'Bag', 'Ankle boot']"
   ]
  },
  {
   "cell_type": "code",
   "execution_count": 149,
   "metadata": {},
   "outputs": [
    {
     "data": {
      "text/plain": [
       "'Coat'"
      ]
     },
     "execution_count": 149,
     "metadata": {},
     "output_type": "execute_result"
    }
   ],
   "source": [
    "class_names[y_train[0]]"
   ]
  },
  {
   "cell_type": "markdown",
   "metadata": {},
   "source": [
    "참고 : 하이퍼 파라미터 갯수\n",
    "\n",
    "* 입력데이터가 28 * 28 사이즈\n",
    "* 은닉층이 300 사이즈\n",
    "* 가중치 300개\n",
    "* 따라서 최종 파라미터는 ```28 * 28 * 300 + 300```\n",
    "* 가중치 파라미터가 있다는걸 생각해야함"
   ]
  },
  {
   "cell_type": "code",
   "execution_count": 150,
   "metadata": {},
   "outputs": [
    {
     "name": "stdout",
     "output_type": "stream",
     "text": [
      "Model: \"sequential_28\"\n",
      "_________________________________________________________________\n",
      " Layer (type)                Output Shape              Param #   \n",
      "=================================================================\n",
      " flatten_11 (Flatten)        (None, 784)               0         \n",
      "                                                                 \n",
      " dense_38 (Dense)            (None, 300)               235500    \n",
      "                                                                 \n",
      " dense_39 (Dense)            (None, 100)               30100     \n",
      "                                                                 \n",
      " dense_40 (Dense)            (None, 10)                1010      \n",
      "                                                                 \n",
      "=================================================================\n",
      "Total params: 266610 (1.02 MB)\n",
      "Trainable params: 266610 (1.02 MB)\n",
      "Non-trainable params: 0 (0.00 Byte)\n",
      "_________________________________________________________________\n"
     ]
    }
   ],
   "source": [
    "# 모델 생성, 두 개의 은닉층으로 이루어진 분류용 다층 퍼셉트론\n",
    "\n",
    "model = keras.models.Sequential()\n",
    "model.add(keras.layers.Flatten(input_shape = [28, 28]))\n",
    "model.add(keras.layers.Dense(300, activation = 'relu'))\n",
    "model.add(keras.layers.Dense(100, activation = 'relu'))\n",
    "model.add(keras.layers.Dense(10, activation = 'softmax'))\n",
    "model.summary()"
   ]
  },
  {
   "cell_type": "code",
   "execution_count": 151,
   "metadata": {},
   "outputs": [
    {
     "name": "stdout",
     "output_type": "stream",
     "text": [
      "Model: \"sequential_29\"\n",
      "_________________________________________________________________\n",
      " Layer (type)                Output Shape              Param #   \n",
      "=================================================================\n",
      " flatten_12 (Flatten)        (None, 784)               0         \n",
      "                                                                 \n",
      " dense_41 (Dense)            (None, 300)               235500    \n",
      "                                                                 \n",
      " dense_42 (Dense)            (None, 100)               30100     \n",
      "                                                                 \n",
      " dense_43 (Dense)            (None, 10)                1010      \n",
      "                                                                 \n",
      "=================================================================\n",
      "Total params: 266610 (1.02 MB)\n",
      "Trainable params: 266610 (1.02 MB)\n",
      "Non-trainable params: 0 (0.00 Byte)\n",
      "_________________________________________________________________\n"
     ]
    }
   ],
   "source": [
    "model = keras.models.Sequential([\n",
    "    keras.layers.Flatten(input_shape=[28, 28]),\n",
    "    keras.layers.Dense(300, activation = 'relu'),\n",
    "    keras.layers.Dense(100, activation = 'relu'),\n",
    "    keras.layers.Dense(10, activation = 'softmax')\n",
    "])\n",
    "model.summary()"
   ]
  },
  {
   "cell_type": "code",
   "execution_count": 152,
   "metadata": {},
   "outputs": [
    {
     "data": {
      "text/plain": [
       "[<keras.src.layers.reshaping.flatten.Flatten at 0x28d28b210>,\n",
       " <keras.src.layers.core.dense.Dense at 0x175efc850>,\n",
       " <keras.src.layers.core.dense.Dense at 0x177b2fb90>,\n",
       " <keras.src.layers.core.dense.Dense at 0x175eff610>]"
      ]
     },
     "execution_count": 152,
     "metadata": {},
     "output_type": "execute_result"
    }
   ],
   "source": [
    "model.layers"
   ]
  },
  {
   "cell_type": "code",
   "execution_count": 153,
   "metadata": {},
   "outputs": [
    {
     "data": {
      "text/plain": [
       "'dense_41'"
      ]
     },
     "execution_count": 153,
     "metadata": {},
     "output_type": "execute_result"
    }
   ],
   "source": [
    "hidden1 = model.layers[1]\n",
    "hidden1.name"
   ]
  },
  {
   "cell_type": "code",
   "execution_count": 156,
   "metadata": {},
   "outputs": [
    {
     "name": "stdout",
     "output_type": "stream",
     "text": [
      "[[-0.00259797  0.00692805  0.02403083 ...  0.0414771  -0.01000351\n",
      "   0.0455245 ]\n",
      " [-0.00720634 -0.06696572 -0.03759375 ... -0.0569494  -0.05621594\n",
      "   0.02254874]\n",
      " [-0.06909169 -0.04825979 -0.0679223  ...  0.04206449  0.04631072\n",
      "   0.00874852]\n",
      " ...\n",
      " [ 0.03305165 -0.03757436 -0.00268551 ...  0.07410562  0.04512954\n",
      "  -0.04381103]\n",
      " [-0.04604832  0.0169794  -0.06896992 ... -0.02869607  0.06718469\n",
      "   0.02253949]\n",
      " [-0.04427429  0.06889193 -0.05900093 ... -0.04101263  0.01060172\n",
      "   0.00467125]]\n",
      "(784, 300)\n",
      "[0. 0. 0. 0. 0. 0. 0. 0. 0. 0. 0. 0. 0. 0. 0. 0. 0. 0. 0. 0. 0. 0. 0. 0.\n",
      " 0. 0. 0. 0. 0. 0. 0. 0. 0. 0. 0. 0. 0. 0. 0. 0. 0. 0. 0. 0. 0. 0. 0. 0.\n",
      " 0. 0. 0. 0. 0. 0. 0. 0. 0. 0. 0. 0. 0. 0. 0. 0. 0. 0. 0. 0. 0. 0. 0. 0.\n",
      " 0. 0. 0. 0. 0. 0. 0. 0. 0. 0. 0. 0. 0. 0. 0. 0. 0. 0. 0. 0. 0. 0. 0. 0.\n",
      " 0. 0. 0. 0. 0. 0. 0. 0. 0. 0. 0. 0. 0. 0. 0. 0. 0. 0. 0. 0. 0. 0. 0. 0.\n",
      " 0. 0. 0. 0. 0. 0. 0. 0. 0. 0. 0. 0. 0. 0. 0. 0. 0. 0. 0. 0. 0. 0. 0. 0.\n",
      " 0. 0. 0. 0. 0. 0. 0. 0. 0. 0. 0. 0. 0. 0. 0. 0. 0. 0. 0. 0. 0. 0. 0. 0.\n",
      " 0. 0. 0. 0. 0. 0. 0. 0. 0. 0. 0. 0. 0. 0. 0. 0. 0. 0. 0. 0. 0. 0. 0. 0.\n",
      " 0. 0. 0. 0. 0. 0. 0. 0. 0. 0. 0. 0. 0. 0. 0. 0. 0. 0. 0. 0. 0. 0. 0. 0.\n",
      " 0. 0. 0. 0. 0. 0. 0. 0. 0. 0. 0. 0. 0. 0. 0. 0. 0. 0. 0. 0. 0. 0. 0. 0.\n",
      " 0. 0. 0. 0. 0. 0. 0. 0. 0. 0. 0. 0. 0. 0. 0. 0. 0. 0. 0. 0. 0. 0. 0. 0.\n",
      " 0. 0. 0. 0. 0. 0. 0. 0. 0. 0. 0. 0. 0. 0. 0. 0. 0. 0. 0. 0. 0. 0. 0. 0.\n",
      " 0. 0. 0. 0. 0. 0. 0. 0. 0. 0. 0. 0.]\n",
      "(300,)\n"
     ]
    }
   ],
   "source": [
    "weights, biases = hidden1.get_weights() # 첫번째 은닉층의 초기 가중치, 편향\n",
    "print(weights)\n",
    "print(weights.shape)\n",
    "print(biases)\n",
    "print(biases.shape)"
   ]
  },
  {
   "cell_type": "code",
   "execution_count": 157,
   "metadata": {},
   "outputs": [],
   "source": [
    "# 모델 컴파일 \n",
    "\n",
    "model.compile(loss = 'sparse_categorical_crossentropy',\n",
    "              optimizer = 'sgd',\n",
    "              metrics = ['accuracy'])"
   ]
  },
  {
   "cell_type": "markdown",
   "metadata": {},
   "source": [
    "참고 : sparse_categorical_crossentropy와 categorical_crossentropy의 차이점\n",
    "\n",
    "* 샘플마다 타겟 클레스가 하나 이면(예를들어 1번샘플의 정답 = 9, 2번샘플의 정답 = 3) sparse ~ 사용\n",
    "* 샘플마다 타겟 클래스가 원핫 인코딩 벡터형태면(1번 샘플의 정답 = (0,1,0,0), 2번 샘플의 정답 = (1,0,0,0)) categorical ~ 사용\n",
    "    * 원 핫 벡터 변환 함수 : keras.utils.to_categorical()\n",
    "    * 반대는 np.argmax(axis = 1)를 이용해 사용"
   ]
  },
  {
   "cell_type": "markdown",
   "metadata": {},
   "source": [
    "optimizer = sgd는 경사 하강법을 이용해 훈련 한다는 의미"
   ]
  },
  {
   "cell_type": "markdown",
   "metadata": {},
   "source": [
    "metrics = ['accuracy']는 분류 문제이기 때문에 이러한 형태로 지정"
   ]
  },
  {
   "cell_type": "markdown",
   "metadata": {},
   "source": [
    "참고 : model.fit() 메서드 \n",
    "\n",
    "* fit() 메서드는 마지막으로 실행한 파라미터 값을 기억한다, 따라서 다시 실행하게 되면 마지막에 최적화된 파라미터에서 시작함"
   ]
  },
  {
   "cell_type": "code",
   "execution_count": 158,
   "metadata": {},
   "outputs": [
    {
     "name": "stdout",
     "output_type": "stream",
     "text": [
      "Epoch 1/30\n",
      "1719/1719 [==============================] - 3s 1ms/step - loss: 0.7160 - accuracy: 0.7619 - val_loss: 0.5091 - val_accuracy: 0.8234\n",
      "Epoch 2/30\n",
      "1719/1719 [==============================] - 2s 1ms/step - loss: 0.4893 - accuracy: 0.8292 - val_loss: 0.4420 - val_accuracy: 0.8512\n",
      "Epoch 3/30\n",
      "1719/1719 [==============================] - 2s 1ms/step - loss: 0.4444 - accuracy: 0.8432 - val_loss: 0.4097 - val_accuracy: 0.8596\n",
      "Epoch 4/30\n",
      "1719/1719 [==============================] - 2s 1ms/step - loss: 0.4176 - accuracy: 0.8529 - val_loss: 0.3994 - val_accuracy: 0.8620\n",
      "Epoch 5/30\n",
      "1719/1719 [==============================] - 2s 1ms/step - loss: 0.3977 - accuracy: 0.8609 - val_loss: 0.3775 - val_accuracy: 0.8722\n",
      "Epoch 6/30\n",
      "1719/1719 [==============================] - 2s 1ms/step - loss: 0.3815 - accuracy: 0.8664 - val_loss: 0.3831 - val_accuracy: 0.8646\n",
      "Epoch 7/30\n",
      "1719/1719 [==============================] - 2s 1ms/step - loss: 0.3679 - accuracy: 0.8687 - val_loss: 0.3601 - val_accuracy: 0.8722\n",
      "Epoch 8/30\n",
      "1719/1719 [==============================] - 2s 1ms/step - loss: 0.3567 - accuracy: 0.8729 - val_loss: 0.3522 - val_accuracy: 0.8776\n",
      "Epoch 9/30\n",
      "1719/1719 [==============================] - 2s 1ms/step - loss: 0.3459 - accuracy: 0.8759 - val_loss: 0.3501 - val_accuracy: 0.8728\n",
      "Epoch 10/30\n",
      "1719/1719 [==============================] - 2s 1ms/step - loss: 0.3353 - accuracy: 0.8797 - val_loss: 0.3497 - val_accuracy: 0.8768\n",
      "Epoch 11/30\n",
      "1719/1719 [==============================] - 2s 1ms/step - loss: 0.3272 - accuracy: 0.8836 - val_loss: 0.3431 - val_accuracy: 0.8780\n",
      "Epoch 12/30\n",
      "1719/1719 [==============================] - 2s 1ms/step - loss: 0.3195 - accuracy: 0.8853 - val_loss: 0.3395 - val_accuracy: 0.8806\n",
      "Epoch 13/30\n",
      "1719/1719 [==============================] - 2s 1ms/step - loss: 0.3123 - accuracy: 0.8888 - val_loss: 0.3403 - val_accuracy: 0.8794\n",
      "Epoch 14/30\n",
      "1719/1719 [==============================] - 2s 1ms/step - loss: 0.3053 - accuracy: 0.8900 - val_loss: 0.3302 - val_accuracy: 0.8824\n",
      "Epoch 15/30\n",
      "1719/1719 [==============================] - 2s 1ms/step - loss: 0.2986 - accuracy: 0.8918 - val_loss: 0.3277 - val_accuracy: 0.8832\n",
      "Epoch 16/30\n",
      "1719/1719 [==============================] - 2s 1ms/step - loss: 0.2935 - accuracy: 0.8935 - val_loss: 0.3149 - val_accuracy: 0.8844\n",
      "Epoch 17/30\n",
      "1719/1719 [==============================] - 2s 1ms/step - loss: 0.2859 - accuracy: 0.8963 - val_loss: 0.3151 - val_accuracy: 0.8864\n",
      "Epoch 18/30\n",
      "1719/1719 [==============================] - 2s 1ms/step - loss: 0.2809 - accuracy: 0.8992 - val_loss: 0.3157 - val_accuracy: 0.8848\n",
      "Epoch 19/30\n",
      "1719/1719 [==============================] - 2s 1ms/step - loss: 0.2753 - accuracy: 0.9006 - val_loss: 0.3138 - val_accuracy: 0.8850\n",
      "Epoch 20/30\n",
      "1719/1719 [==============================] - 2s 1ms/step - loss: 0.2703 - accuracy: 0.9022 - val_loss: 0.3089 - val_accuracy: 0.8876\n",
      "Epoch 21/30\n",
      "1719/1719 [==============================] - 2s 1ms/step - loss: 0.2651 - accuracy: 0.9037 - val_loss: 0.3184 - val_accuracy: 0.8846\n",
      "Epoch 22/30\n",
      "1719/1719 [==============================] - 2s 1ms/step - loss: 0.2622 - accuracy: 0.9047 - val_loss: 0.3180 - val_accuracy: 0.8870\n",
      "Epoch 23/30\n",
      "1719/1719 [==============================] - 2s 1ms/step - loss: 0.2571 - accuracy: 0.9077 - val_loss: 0.3265 - val_accuracy: 0.8860\n",
      "Epoch 24/30\n",
      "1719/1719 [==============================] - 2s 1ms/step - loss: 0.2523 - accuracy: 0.9089 - val_loss: 0.3014 - val_accuracy: 0.8926\n",
      "Epoch 25/30\n",
      "1719/1719 [==============================] - 2s 1ms/step - loss: 0.2480 - accuracy: 0.9103 - val_loss: 0.3128 - val_accuracy: 0.8860\n",
      "Epoch 26/30\n",
      "1719/1719 [==============================] - 2s 1ms/step - loss: 0.2448 - accuracy: 0.9116 - val_loss: 0.2942 - val_accuracy: 0.8934\n",
      "Epoch 27/30\n",
      "1719/1719 [==============================] - 2s 1ms/step - loss: 0.2396 - accuracy: 0.9139 - val_loss: 0.3187 - val_accuracy: 0.8788\n",
      "Epoch 28/30\n",
      "1719/1719 [==============================] - 2s 1ms/step - loss: 0.2368 - accuracy: 0.9147 - val_loss: 0.2946 - val_accuracy: 0.8942\n",
      "Epoch 29/30\n",
      "1719/1719 [==============================] - 2s 1ms/step - loss: 0.2314 - accuracy: 0.9162 - val_loss: 0.3008 - val_accuracy: 0.8918\n",
      "Epoch 30/30\n",
      "1719/1719 [==============================] - 2s 1ms/step - loss: 0.2286 - accuracy: 0.9176 - val_loss: 0.2961 - val_accuracy: 0.8948\n"
     ]
    }
   ],
   "source": [
    "# 모델 훈련과 평가\n",
    "\n",
    "history = model.fit(X_train, y_train, epochs=30, validation_data=(X_valid, y_valid))"
   ]
  },
  {
   "cell_type": "markdown",
   "metadata": {},
   "source": [
    "클래스 분포가 편중되어있다면 fit()메서드를 호출할때 class_weight 매개변수를 지정할 수 잇다"
   ]
  },
  {
   "cell_type": "code",
   "execution_count": 159,
   "metadata": {},
   "outputs": [
    {
     "data": {
      "text/html": [
       "<div>\n",
       "<style scoped>\n",
       "    .dataframe tbody tr th:only-of-type {\n",
       "        vertical-align: middle;\n",
       "    }\n",
       "\n",
       "    .dataframe tbody tr th {\n",
       "        vertical-align: top;\n",
       "    }\n",
       "\n",
       "    .dataframe thead th {\n",
       "        text-align: right;\n",
       "    }\n",
       "</style>\n",
       "<table border=\"1\" class=\"dataframe\">\n",
       "  <thead>\n",
       "    <tr style=\"text-align: right;\">\n",
       "      <th></th>\n",
       "      <th>loss</th>\n",
       "      <th>accuracy</th>\n",
       "      <th>val_loss</th>\n",
       "      <th>val_accuracy</th>\n",
       "    </tr>\n",
       "  </thead>\n",
       "  <tbody>\n",
       "    <tr>\n",
       "      <th>0</th>\n",
       "      <td>0.715961</td>\n",
       "      <td>0.761873</td>\n",
       "      <td>0.509121</td>\n",
       "      <td>0.8234</td>\n",
       "    </tr>\n",
       "    <tr>\n",
       "      <th>1</th>\n",
       "      <td>0.489252</td>\n",
       "      <td>0.829236</td>\n",
       "      <td>0.441950</td>\n",
       "      <td>0.8512</td>\n",
       "    </tr>\n",
       "    <tr>\n",
       "      <th>2</th>\n",
       "      <td>0.444401</td>\n",
       "      <td>0.843200</td>\n",
       "      <td>0.409725</td>\n",
       "      <td>0.8596</td>\n",
       "    </tr>\n",
       "    <tr>\n",
       "      <th>3</th>\n",
       "      <td>0.417573</td>\n",
       "      <td>0.852909</td>\n",
       "      <td>0.399407</td>\n",
       "      <td>0.8620</td>\n",
       "    </tr>\n",
       "    <tr>\n",
       "      <th>4</th>\n",
       "      <td>0.397692</td>\n",
       "      <td>0.860891</td>\n",
       "      <td>0.377473</td>\n",
       "      <td>0.8722</td>\n",
       "    </tr>\n",
       "    <tr>\n",
       "      <th>5</th>\n",
       "      <td>0.381477</td>\n",
       "      <td>0.866400</td>\n",
       "      <td>0.383061</td>\n",
       "      <td>0.8646</td>\n",
       "    </tr>\n",
       "    <tr>\n",
       "      <th>6</th>\n",
       "      <td>0.367873</td>\n",
       "      <td>0.868709</td>\n",
       "      <td>0.360080</td>\n",
       "      <td>0.8722</td>\n",
       "    </tr>\n",
       "    <tr>\n",
       "      <th>7</th>\n",
       "      <td>0.356671</td>\n",
       "      <td>0.872909</td>\n",
       "      <td>0.352227</td>\n",
       "      <td>0.8776</td>\n",
       "    </tr>\n",
       "    <tr>\n",
       "      <th>8</th>\n",
       "      <td>0.345943</td>\n",
       "      <td>0.875927</td>\n",
       "      <td>0.350135</td>\n",
       "      <td>0.8728</td>\n",
       "    </tr>\n",
       "    <tr>\n",
       "      <th>9</th>\n",
       "      <td>0.335326</td>\n",
       "      <td>0.879745</td>\n",
       "      <td>0.349719</td>\n",
       "      <td>0.8768</td>\n",
       "    </tr>\n",
       "    <tr>\n",
       "      <th>10</th>\n",
       "      <td>0.327220</td>\n",
       "      <td>0.883600</td>\n",
       "      <td>0.343063</td>\n",
       "      <td>0.8780</td>\n",
       "    </tr>\n",
       "    <tr>\n",
       "      <th>11</th>\n",
       "      <td>0.319549</td>\n",
       "      <td>0.885345</td>\n",
       "      <td>0.339544</td>\n",
       "      <td>0.8806</td>\n",
       "    </tr>\n",
       "    <tr>\n",
       "      <th>12</th>\n",
       "      <td>0.312339</td>\n",
       "      <td>0.888782</td>\n",
       "      <td>0.340266</td>\n",
       "      <td>0.8794</td>\n",
       "    </tr>\n",
       "    <tr>\n",
       "      <th>13</th>\n",
       "      <td>0.305344</td>\n",
       "      <td>0.890000</td>\n",
       "      <td>0.330250</td>\n",
       "      <td>0.8824</td>\n",
       "    </tr>\n",
       "    <tr>\n",
       "      <th>14</th>\n",
       "      <td>0.298564</td>\n",
       "      <td>0.891836</td>\n",
       "      <td>0.327683</td>\n",
       "      <td>0.8832</td>\n",
       "    </tr>\n",
       "    <tr>\n",
       "      <th>15</th>\n",
       "      <td>0.293506</td>\n",
       "      <td>0.893545</td>\n",
       "      <td>0.314891</td>\n",
       "      <td>0.8844</td>\n",
       "    </tr>\n",
       "    <tr>\n",
       "      <th>16</th>\n",
       "      <td>0.285950</td>\n",
       "      <td>0.896309</td>\n",
       "      <td>0.315100</td>\n",
       "      <td>0.8864</td>\n",
       "    </tr>\n",
       "    <tr>\n",
       "      <th>17</th>\n",
       "      <td>0.280920</td>\n",
       "      <td>0.899236</td>\n",
       "      <td>0.315711</td>\n",
       "      <td>0.8848</td>\n",
       "    </tr>\n",
       "    <tr>\n",
       "      <th>18</th>\n",
       "      <td>0.275325</td>\n",
       "      <td>0.900582</td>\n",
       "      <td>0.313819</td>\n",
       "      <td>0.8850</td>\n",
       "    </tr>\n",
       "    <tr>\n",
       "      <th>19</th>\n",
       "      <td>0.270304</td>\n",
       "      <td>0.902182</td>\n",
       "      <td>0.308889</td>\n",
       "      <td>0.8876</td>\n",
       "    </tr>\n",
       "    <tr>\n",
       "      <th>20</th>\n",
       "      <td>0.265079</td>\n",
       "      <td>0.903691</td>\n",
       "      <td>0.318390</td>\n",
       "      <td>0.8846</td>\n",
       "    </tr>\n",
       "    <tr>\n",
       "      <th>21</th>\n",
       "      <td>0.262227</td>\n",
       "      <td>0.904673</td>\n",
       "      <td>0.317986</td>\n",
       "      <td>0.8870</td>\n",
       "    </tr>\n",
       "    <tr>\n",
       "      <th>22</th>\n",
       "      <td>0.257125</td>\n",
       "      <td>0.907727</td>\n",
       "      <td>0.326534</td>\n",
       "      <td>0.8860</td>\n",
       "    </tr>\n",
       "    <tr>\n",
       "      <th>23</th>\n",
       "      <td>0.252312</td>\n",
       "      <td>0.908909</td>\n",
       "      <td>0.301352</td>\n",
       "      <td>0.8926</td>\n",
       "    </tr>\n",
       "    <tr>\n",
       "      <th>24</th>\n",
       "      <td>0.247960</td>\n",
       "      <td>0.910273</td>\n",
       "      <td>0.312819</td>\n",
       "      <td>0.8860</td>\n",
       "    </tr>\n",
       "    <tr>\n",
       "      <th>25</th>\n",
       "      <td>0.244790</td>\n",
       "      <td>0.911564</td>\n",
       "      <td>0.294247</td>\n",
       "      <td>0.8934</td>\n",
       "    </tr>\n",
       "    <tr>\n",
       "      <th>26</th>\n",
       "      <td>0.239608</td>\n",
       "      <td>0.913945</td>\n",
       "      <td>0.318711</td>\n",
       "      <td>0.8788</td>\n",
       "    </tr>\n",
       "    <tr>\n",
       "      <th>27</th>\n",
       "      <td>0.236772</td>\n",
       "      <td>0.914709</td>\n",
       "      <td>0.294561</td>\n",
       "      <td>0.8942</td>\n",
       "    </tr>\n",
       "    <tr>\n",
       "      <th>28</th>\n",
       "      <td>0.231362</td>\n",
       "      <td>0.916164</td>\n",
       "      <td>0.300827</td>\n",
       "      <td>0.8918</td>\n",
       "    </tr>\n",
       "    <tr>\n",
       "      <th>29</th>\n",
       "      <td>0.228610</td>\n",
       "      <td>0.917582</td>\n",
       "      <td>0.296085</td>\n",
       "      <td>0.8948</td>\n",
       "    </tr>\n",
       "  </tbody>\n",
       "</table>\n",
       "</div>"
      ],
      "text/plain": [
       "        loss  accuracy  val_loss  val_accuracy\n",
       "0   0.715961  0.761873  0.509121        0.8234\n",
       "1   0.489252  0.829236  0.441950        0.8512\n",
       "2   0.444401  0.843200  0.409725        0.8596\n",
       "3   0.417573  0.852909  0.399407        0.8620\n",
       "4   0.397692  0.860891  0.377473        0.8722\n",
       "5   0.381477  0.866400  0.383061        0.8646\n",
       "6   0.367873  0.868709  0.360080        0.8722\n",
       "7   0.356671  0.872909  0.352227        0.8776\n",
       "8   0.345943  0.875927  0.350135        0.8728\n",
       "9   0.335326  0.879745  0.349719        0.8768\n",
       "10  0.327220  0.883600  0.343063        0.8780\n",
       "11  0.319549  0.885345  0.339544        0.8806\n",
       "12  0.312339  0.888782  0.340266        0.8794\n",
       "13  0.305344  0.890000  0.330250        0.8824\n",
       "14  0.298564  0.891836  0.327683        0.8832\n",
       "15  0.293506  0.893545  0.314891        0.8844\n",
       "16  0.285950  0.896309  0.315100        0.8864\n",
       "17  0.280920  0.899236  0.315711        0.8848\n",
       "18  0.275325  0.900582  0.313819        0.8850\n",
       "19  0.270304  0.902182  0.308889        0.8876\n",
       "20  0.265079  0.903691  0.318390        0.8846\n",
       "21  0.262227  0.904673  0.317986        0.8870\n",
       "22  0.257125  0.907727  0.326534        0.8860\n",
       "23  0.252312  0.908909  0.301352        0.8926\n",
       "24  0.247960  0.910273  0.312819        0.8860\n",
       "25  0.244790  0.911564  0.294247        0.8934\n",
       "26  0.239608  0.913945  0.318711        0.8788\n",
       "27  0.236772  0.914709  0.294561        0.8942\n",
       "28  0.231362  0.916164  0.300827        0.8918\n",
       "29  0.228610  0.917582  0.296085        0.8948"
      ]
     },
     "execution_count": 159,
     "metadata": {},
     "output_type": "execute_result"
    }
   ],
   "source": [
    "# 결과 확인\n",
    "import pandas as pd\n",
    "\n",
    "pd.DataFrame(history.history)"
   ]
  },
  {
   "cell_type": "code",
   "execution_count": 160,
   "metadata": {},
   "outputs": [
    {
     "data": {
      "image/png": "[encoded data removed]",
      "text/plain": [
       "<Figure size 800x500 with 1 Axes>"
      ]
     },
     "metadata": {},
     "output_type": "display_data"
    }
   ],
   "source": [
    "# 결과 시각화\n",
    "\n",
    "import pandas as pd\n",
    "import matplotlib.pyplot as plt\n",
    "\n",
    "pd.DataFrame(history.history).plot(figsize=(8,5))\n",
    "plt.grid(True)\n",
    "plt.gca().set_ylim(0, 1)\n",
    "plt.show()"
   ]
  },
  {
   "cell_type": "code",
   "execution_count": 175,
   "metadata": {},
   "outputs": [
    {
     "name": "stdout",
     "output_type": "stream",
     "text": [
      "313/313 [==============================] - 0s 673us/step - loss: 0.3309 - accuracy: 0.8834\n"
     ]
    },
    {
     "data": {
      "text/plain": [
       "[0.3308800458908081, 0.883400022983551]"
      ]
     },
     "execution_count": 175,
     "metadata": {},
     "output_type": "execute_result"
    }
   ],
   "source": [
    "# test 데이터셋 평가\n",
    "\n",
    "model.evaluate(X_test, y_test)"
   ]
  },
  {
   "cell_type": "code",
   "execution_count": 176,
   "metadata": {},
   "outputs": [
    {
     "name": "stdout",
     "output_type": "stream",
     "text": [
      "1/1 [==============================] - 0s 13ms/step\n"
     ]
    },
    {
     "data": {
      "text/plain": [
       "array([[0.  , 0.  , 0.  , 0.  , 0.  , 0.  , 0.  , 0.01, 0.  , 0.98],\n",
       "       [0.  , 0.  , 1.  , 0.  , 0.  , 0.  , 0.  , 0.  , 0.  , 0.  ],\n",
       "       [0.  , 1.  , 0.  , 0.  , 0.  , 0.  , 0.  , 0.  , 0.  , 0.  ]],\n",
       "      dtype=float32)"
      ]
     },
     "execution_count": 176,
     "metadata": {},
     "output_type": "execute_result"
    }
   ],
   "source": [
    "# 훈련된 모델을 사용해 예측\n",
    "\n",
    "X_new = X_test[:3]\n",
    "y_proba = model.predict(X_new)\n",
    "y_proba.round(2)"
   ]
  },
  {
   "cell_type": "code",
   "execution_count": 180,
   "metadata": {},
   "outputs": [
    {
     "name": "stdout",
     "output_type": "stream",
     "text": [
      "1/1 [==============================] - 0s 11ms/step\n",
      "[9 2 1]\n",
      "['Ankle boot' 'Pullover' 'Trouser']\n"
     ]
    }
   ],
   "source": [
    "# 훈련된 모델을 사용해 예측, 이때는 결과값으로 가장 높은 확률의 class가 나온다\n",
    "import numpy as np\n",
    "\n",
    "# y_pred = model.predict_classes(X_new) tensorflow 버전 2.6이후로 사라짐\n",
    "y_pred = np.argmax(model.predict(X_new), axis = 1)\n",
    "print(y_pred)\n",
    "print(np.array(class_names)[y_pred])"
   ]
  },
  {
   "cell_type": "markdown",
   "metadata": {},
   "source": [
    "### 3. 시퀀셜 API를 사용하여 회귀용 다층 퍼셉트론 만들기 "
   ]
  },
  {
   "cell_type": "code",
   "execution_count": 181,
   "metadata": {},
   "outputs": [],
   "source": [
    "from sklearn.datasets import fetch_california_housing\n",
    "from sklearn.model_selection import train_test_split\n",
    "from sklearn.preprocessing import StandardScaler\n",
    "\n",
    "housing = fetch_california_housing()\n",
    "X_train_full, X_test, y_train_full, y_test = train_test_split(housing.data, housing.target) # size를 지정하지않으몀 75대 25비율로 나뉘어진다\n",
    "X_train, X_valid, y_train, y_valid = train_test_split(X_train_full, y_train_full)\n",
    "\n",
    "scaler = StandardScaler()\n",
    "X_train = scaler.fit_transform(X_train)\n",
    "X_valid = scaler.fit_transform(X_valid)\n",
    "X_test = scaler.fit_transform(X_test)"
   ]
  },
  {
   "cell_type": "code",
   "execution_count": 189,
   "metadata": {},
   "outputs": [
    {
     "name": "stdout",
     "output_type": "stream",
     "text": [
      "Epoch 1/20\n",
      "363/363 [==============================] - 0s 827us/step - loss: 0.9461 - val_loss: 1.1949\n",
      "Epoch 2/20\n",
      "363/363 [==============================] - 0s 669us/step - loss: 0.6110 - val_loss: 0.4818\n",
      "Epoch 3/20\n",
      "363/363 [==============================] - 0s 669us/step - loss: 0.4938 - val_loss: 0.5194\n",
      "Epoch 4/20\n",
      "363/363 [==============================] - 0s 706us/step - loss: 0.4662 - val_loss: 0.5695\n",
      "Epoch 5/20\n",
      "363/363 [==============================] - 0s 761us/step - loss: 0.4539 - val_loss: 0.6433\n",
      "Epoch 6/20\n",
      "363/363 [==============================] - 0s 693us/step - loss: 0.4438 - val_loss: 0.7235\n",
      "Epoch 7/20\n",
      "363/363 [==============================] - 0s 674us/step - loss: 0.4378 - val_loss: 0.8551\n",
      "Epoch 8/20\n",
      "363/363 [==============================] - 0s 675us/step - loss: 0.4320 - val_loss: 0.9200\n",
      "Epoch 9/20\n",
      "363/363 [==============================] - 0s 671us/step - loss: 0.4267 - val_loss: 1.0373\n",
      "Epoch 10/20\n",
      "363/363 [==============================] - 0s 683us/step - loss: 0.4247 - val_loss: 1.1728\n",
      "Epoch 11/20\n",
      "363/363 [==============================] - 0s 680us/step - loss: 0.4202 - val_loss: 1.2852\n",
      "Epoch 12/20\n",
      "363/363 [==============================] - 0s 688us/step - loss: 0.4174 - val_loss: 1.4553\n",
      "Epoch 13/20\n",
      "363/363 [==============================] - 0s 698us/step - loss: 0.4122 - val_loss: 1.6149\n",
      "Epoch 14/20\n",
      "363/363 [==============================] - 0s 680us/step - loss: 0.4096 - val_loss: 1.7296\n",
      "Epoch 15/20\n",
      "363/363 [==============================] - 0s 665us/step - loss: 0.4061 - val_loss: 1.9583\n",
      "Epoch 16/20\n",
      "363/363 [==============================] - 0s 720us/step - loss: 0.4021 - val_loss: 2.0911\n",
      "Epoch 17/20\n",
      "363/363 [==============================] - 0s 768us/step - loss: 0.3988 - val_loss: 2.2217\n",
      "Epoch 18/20\n",
      "363/363 [==============================] - 0s 737us/step - loss: 0.3988 - val_loss: 2.6775\n",
      "Epoch 19/20\n",
      "363/363 [==============================] - 0s 693us/step - loss: 0.3950 - val_loss: 2.6212\n",
      "Epoch 20/20\n",
      "363/363 [==============================] - 0s 892us/step - loss: 0.3927 - val_loss: 2.9168\n",
      "162/162 [==============================] - 0s 531us/step - loss: 3.6747\n"
     ]
    },
    {
     "data": {
      "text/plain": [
       "3.674673080444336"
      ]
     },
     "execution_count": 189,
     "metadata": {},
     "output_type": "execute_result"
    }
   ],
   "source": [
    "# 데이터셋에 잡음이 많아서 과대적합을 막는 용도로 뉴런 수가 적은 은닉층 하나만 사용\n",
    "\n",
    "model = keras.models.Sequential([\n",
    "    keras.layers.Dense(30, activation = 'relu', input_shape = X_train.shape[1:]),\n",
    "    keras.layers.Dense(1)\n",
    "])\n",
    "\n",
    "model.compile(loss = 'mean_squared_error', optimizer = 'sgd')\n",
    "history = model.fit(X_train, y_train, epochs=20, validation_data = (X_valid, y_valid))\n",
    "mse_test = model.evaluate(X_test, y_test)\n",
    "mse_test"
   ]
  },
  {
   "cell_type": "code",
   "execution_count": 187,
   "metadata": {},
   "outputs": [
    {
     "data": {
      "text/plain": [
       "1.355779340915301"
      ]
     },
     "execution_count": 187,
     "metadata": {},
     "output_type": "execute_result"
    }
   ],
   "source": [
    "X_new = X_test[:3]\n",
    "y_pred = model.predict(X_new)\n",
    "np.mean((y_pred[:3] - y_test[:3])**2)"
   ]
  },
  {
   "cell_type": "markdown",
   "metadata": {},
   "source": [
    "### 4. 함수형 API를 이용해 복잡한 모델 만들기 "
   ]
  },
  {
   "cell_type": "code",
   "execution_count": 192,
   "metadata": {},
   "outputs": [
    {
     "name": "stdout",
     "output_type": "stream",
     "text": [
      "Epoch 1/20\n",
      "363/363 [==============================] - 0s 845us/step - loss: 0.8966 - val_loss: 2.2483\n",
      "Epoch 2/20\n",
      "363/363 [==============================] - 0s 638us/step - loss: 4.6894 - val_loss: 0.9698\n",
      "Epoch 3/20\n",
      "363/363 [==============================] - 0s 766us/step - loss: 0.5328 - val_loss: 0.7855\n",
      "Epoch 4/20\n",
      "363/363 [==============================] - 0s 844us/step - loss: 0.4934 - val_loss: 0.6850\n",
      "Epoch 5/20\n",
      "363/363 [==============================] - 0s 676us/step - loss: 0.4590 - val_loss: 0.5930\n",
      "Epoch 6/20\n",
      "363/363 [==============================] - 0s 647us/step - loss: 0.4287 - val_loss: 0.5707\n",
      "Epoch 7/20\n",
      "363/363 [==============================] - 0s 640us/step - loss: 0.4169 - val_loss: 0.6111\n",
      "Epoch 8/20\n",
      "363/363 [==============================] - 0s 656us/step - loss: 0.4015 - val_loss: 0.6170\n",
      "Epoch 9/20\n",
      "363/363 [==============================] - 0s 644us/step - loss: 0.3854 - val_loss: 0.6854\n",
      "Epoch 10/20\n",
      "363/363 [==============================] - 0s 641us/step - loss: 0.3831 - val_loss: 0.7104\n",
      "Epoch 11/20\n",
      "363/363 [==============================] - 0s 639us/step - loss: 0.3718 - val_loss: 0.8570\n",
      "Epoch 12/20\n",
      "363/363 [==============================] - 0s 650us/step - loss: 0.3682 - val_loss: 0.8190\n",
      "Epoch 13/20\n",
      "363/363 [==============================] - 0s 656us/step - loss: 0.3652 - val_loss: 0.8726\n",
      "Epoch 14/20\n",
      "363/363 [==============================] - 0s 644us/step - loss: 0.3613 - val_loss: 0.9269\n",
      "Epoch 15/20\n",
      "363/363 [==============================] - 0s 654us/step - loss: 0.3481 - val_loss: 1.0007\n",
      "Epoch 16/20\n",
      "363/363 [==============================] - 0s 652us/step - loss: 0.3519 - val_loss: 1.0405\n",
      "Epoch 17/20\n",
      "363/363 [==============================] - 0s 662us/step - loss: 0.3406 - val_loss: 1.3069\n",
      "Epoch 18/20\n",
      "363/363 [==============================] - 0s 651us/step - loss: 0.3399 - val_loss: 1.1163\n",
      "Epoch 19/20\n",
      "363/363 [==============================] - 0s 645us/step - loss: 0.3406 - val_loss: 1.1514\n",
      "Epoch 20/20\n",
      "363/363 [==============================] - 0s 750us/step - loss: 0.3325 - val_loss: 1.2558\n",
      "162/162 [==============================] - 0s 495us/step - loss: 1.2970\n"
     ]
    },
    {
     "data": {
      "text/plain": [
       "1.2970129251480103"
      ]
     },
     "execution_count": 192,
     "metadata": {},
     "output_type": "execute_result"
    }
   ],
   "source": [
    "input_ = keras.layers.Input(shape = X_train.shape[1:])\n",
    "hidden1 = keras.layers.Dense(30, activation='relu')(input_)\n",
    "hidden2 = keras.layers.Dense(30, activation='relu')(hidden1)\n",
    "concat = keras.layers.Concatenate()([input_, hidden2])\n",
    "output = keras.layers.Dense(1)(concat)\n",
    "model = keras.Model(inputs = [input_], outputs=[output])\n",
    "\n",
    "model.compile(loss = 'mean_squared_error', optimizer='sgd')\n",
    "history = model.fit(X_train, y_train, epochs=20, validation_data = (X_valid, y_valid))\n",
    "mse_test = model.evaluate(X_test, y_test)\n",
    "mse_test"
   ]
  },
  {
   "cell_type": "code",
   "execution_count": 197,
   "metadata": {},
   "outputs": [],
   "source": [
    "input_A = keras.layers.Input(shape = [5], name='wide_input')\n",
    "input_B = keras.layers.Input(shape = [6], name='deep_input')\n",
    "hidden1 = keras.layers.Dense(30, activation = 'relu')(input_B)\n",
    "hidden2 = keras.layers.Dense(30, activation = 'relu')(hidden1)\n",
    "concat = keras.layers.concatenate([input_A, hidden2])\n",
    "output = keras.layers.Dense(1, name='output')(concat)\n",
    "model = keras.Model(inputs = [input_A, input_B], outputs=[output])"
   ]
  },
  {
   "cell_type": "code",
   "execution_count": 198,
   "metadata": {},
   "outputs": [
    {
     "name": "stderr",
     "output_type": "stream",
     "text": [
      "WARNING:absl:At this time, the v2.11+ optimizer `tf.keras.optimizers.SGD` runs slowly on M1/M2 Macs, please use the legacy Keras optimizer instead, located at `tf.keras.optimizers.legacy.SGD`.\n"
     ]
    },
    {
     "name": "stdout",
     "output_type": "stream",
     "text": [
      "Epoch 1/20\n",
      "363/363 [==============================] - 1s 889us/step - loss: 2.3793 - val_loss: 0.8763\n",
      "Epoch 2/20\n",
      "363/363 [==============================] - 0s 683us/step - loss: 0.8403 - val_loss: 0.6613\n",
      "Epoch 3/20\n",
      "363/363 [==============================] - 0s 686us/step - loss: 0.7121 - val_loss: 0.5975\n",
      "Epoch 4/20\n",
      "363/363 [==============================] - 0s 689us/step - loss: 0.6618 - val_loss: 0.5636\n",
      "Epoch 5/20\n",
      "363/363 [==============================] - 0s 736us/step - loss: 0.6314 - val_loss: 0.5344\n",
      "Epoch 6/20\n",
      "363/363 [==============================] - 0s 677us/step - loss: 0.6082 - val_loss: 0.5147\n",
      "Epoch 7/20\n",
      "363/363 [==============================] - 0s 684us/step - loss: 0.5889 - val_loss: 0.4945\n",
      "Epoch 8/20\n",
      "363/363 [==============================] - 0s 737us/step - loss: 0.5724 - val_loss: 0.4805\n",
      "Epoch 9/20\n",
      "363/363 [==============================] - 0s 772us/step - loss: 0.5583 - val_loss: 0.4709\n",
      "Epoch 10/20\n",
      "363/363 [==============================] - 0s 671us/step - loss: 0.5462 - val_loss: 0.4609\n",
      "Epoch 11/20\n",
      "363/363 [==============================] - 0s 683us/step - loss: 0.5359 - val_loss: 0.4509\n",
      "Epoch 12/20\n",
      "363/363 [==============================] - 0s 680us/step - loss: 0.5273 - val_loss: 0.4474\n",
      "Epoch 13/20\n",
      "363/363 [==============================] - 0s 734us/step - loss: 0.5195 - val_loss: 0.4415\n",
      "Epoch 14/20\n",
      "363/363 [==============================] - 0s 676us/step - loss: 0.5136 - val_loss: 0.4433\n",
      "Epoch 15/20\n",
      "363/363 [==============================] - 0s 692us/step - loss: 0.5077 - val_loss: 0.4399\n",
      "Epoch 16/20\n",
      "363/363 [==============================] - 0s 676us/step - loss: 0.5040 - val_loss: 0.4412\n",
      "Epoch 17/20\n",
      "363/363 [==============================] - 0s 678us/step - loss: 0.4998 - val_loss: 0.4428\n",
      "Epoch 18/20\n",
      "363/363 [==============================] - 0s 674us/step - loss: 0.4965 - val_loss: 0.4388\n",
      "Epoch 19/20\n",
      "363/363 [==============================] - 0s 682us/step - loss: 0.4932 - val_loss: 0.4434\n",
      "Epoch 20/20\n",
      "363/363 [==============================] - 0s 672us/step - loss: 0.4903 - val_loss: 0.4487\n",
      "162/162 [==============================] - 0s 509us/step - loss: 0.4630\n"
     ]
    },
    {
     "data": {
      "text/plain": [
       "0.46298715472221375"
      ]
     },
     "execution_count": 198,
     "metadata": {},
     "output_type": "execute_result"
    }
   ],
   "source": [
    "model.compile(loss = 'mse', optimizer=keras.optimizers.SGD(learning_rate=1e-3))\n",
    "\n",
    "X_train_A, X_train_B = X_train[:, :5], X_train[:, 2:]\n",
    "X_valid_A, X_valid_B = X_valid[:, :5], X_valid[:, 2:]\n",
    "X_test_A, X_test_B = X_test[:, :5], X_test[:, 2:]\n",
    "X_new_A, X_new_B = X_test_A[:3], X_test_B[:3]\n",
    "\n",
    "history = model.fit((X_train_A, X_train_B), y_train, epochs=20,\n",
    "                    validation_data = ((X_valid_A, X_valid_B), y_valid))\n",
    "mse_test = model.evaluate((X_test_A, X_test_B), y_test)\n",
    "mse_test"
   ]
  },
  {
   "cell_type": "code",
   "execution_count": 199,
   "metadata": {},
   "outputs": [],
   "source": [
    "# 보조출력 추가 \n",
    "\n",
    "input_A = keras.layers.Input(shape = [5], name='wide_input')\n",
    "input_B = keras.layers.Input(shape = [6], name='deep_input')\n",
    "hidden1 = keras.layers.Dense(30, activation = 'relu')(input_B)\n",
    "hidden2 = keras.layers.Dense(30, activation = 'relu')(hidden1)\n",
    "concat = keras.layers.concatenate([input_A, hidden2])\n",
    "output = keras.layers.Dense(1, name = 'main_output')(concat)\n",
    "aux_output = keras.layers.Dense(1, name='aux_output')(hidden2) # 보조 출력\n",
    "model = keras.Model(inputs = [input_A, input_B], outputs = [output, aux_output])"
   ]
  },
  {
   "cell_type": "code",
   "execution_count": 201,
   "metadata": {},
   "outputs": [],
   "source": [
    "# 보조출력을 추가한 모델 컴파일 방법\n",
    "\n",
    "model.compile(loss=['mse', 'mse'], loss_weights=[0.9, 0.1], optimizer='sgd') # 주출력의 가중치를 0.9, 보조출력의 가중치를 0.1로 두어서 주출력 위주로 모델을 훈련하도록 만듬"
   ]
  },
  {
   "cell_type": "code",
   "execution_count": 202,
   "metadata": {},
   "outputs": [
    {
     "name": "stdout",
     "output_type": "stream",
     "text": [
      "Epoch 1/20\n",
      "363/363 [==============================] - 1s 2ms/step - loss: 1.1915 - main_output_loss: 1.0542 - aux_output_loss: 2.4271 - val_loss: 0.5895 - val_main_output_loss: 0.5206 - val_aux_output_loss: 1.2100\n",
      "Epoch 2/20\n",
      "363/363 [==============================] - 0s 788us/step - loss: 0.6411 - main_output_loss: 0.5815 - aux_output_loss: 1.1772 - val_loss: 0.5893 - val_main_output_loss: 0.5492 - val_aux_output_loss: 0.9503\n",
      "Epoch 3/20\n",
      "363/363 [==============================] - 0s 772us/step - loss: 0.5482 - main_output_loss: 0.5015 - aux_output_loss: 0.9690 - val_loss: 0.6561 - val_main_output_loss: 0.6354 - val_aux_output_loss: 0.8425\n",
      "Epoch 4/20\n",
      "363/363 [==============================] - 0s 738us/step - loss: 0.5122 - main_output_loss: 0.4757 - aux_output_loss: 0.8407 - val_loss: 0.7278 - val_main_output_loss: 0.7189 - val_aux_output_loss: 0.8084\n",
      "Epoch 5/20\n",
      "363/363 [==============================] - 0s 748us/step - loss: 0.4894 - main_output_loss: 0.4586 - aux_output_loss: 0.7661 - val_loss: 0.7824 - val_main_output_loss: 0.7777 - val_aux_output_loss: 0.8250\n",
      "Epoch 6/20\n",
      "363/363 [==============================] - 0s 748us/step - loss: 0.4733 - main_output_loss: 0.4473 - aux_output_loss: 0.7075 - val_loss: 0.9654 - val_main_output_loss: 0.9722 - val_aux_output_loss: 0.9047\n",
      "Epoch 7/20\n",
      "363/363 [==============================] - 0s 748us/step - loss: 0.4634 - main_output_loss: 0.4400 - aux_output_loss: 0.6743 - val_loss: 1.1701 - val_main_output_loss: 1.1871 - val_aux_output_loss: 1.0173\n",
      "Epoch 8/20\n",
      "363/363 [==============================] - 0s 754us/step - loss: 0.4505 - main_output_loss: 0.4284 - aux_output_loss: 0.6489 - val_loss: 1.3215 - val_main_output_loss: 1.3456 - val_aux_output_loss: 1.1045\n",
      "Epoch 9/20\n",
      "363/363 [==============================] - 0s 846us/step - loss: 0.4419 - main_output_loss: 0.4214 - aux_output_loss: 0.6270 - val_loss: 1.5253 - val_main_output_loss: 1.5607 - val_aux_output_loss: 1.2063\n",
      "Epoch 10/20\n",
      "363/363 [==============================] - 0s 748us/step - loss: 0.4293 - main_output_loss: 0.4095 - aux_output_loss: 0.6080 - val_loss: 1.9023 - val_main_output_loss: 1.9560 - val_aux_output_loss: 1.4185\n",
      "Epoch 11/20\n",
      "363/363 [==============================] - 0s 737us/step - loss: 0.4248 - main_output_loss: 0.4060 - aux_output_loss: 0.5935 - val_loss: 1.8352 - val_main_output_loss: 1.8816 - val_aux_output_loss: 1.4180\n",
      "Epoch 12/20\n",
      "363/363 [==============================] - 0s 761us/step - loss: 0.4187 - main_output_loss: 0.4007 - aux_output_loss: 0.5807 - val_loss: 2.0631 - val_main_output_loss: 2.1174 - val_aux_output_loss: 1.5748\n",
      "Epoch 13/20\n",
      "363/363 [==============================] - 0s 741us/step - loss: 0.4112 - main_output_loss: 0.3944 - aux_output_loss: 0.5620 - val_loss: 2.4650 - val_main_output_loss: 2.5402 - val_aux_output_loss: 1.7882\n",
      "Epoch 14/20\n",
      "363/363 [==============================] - 0s 755us/step - loss: 0.4007 - main_output_loss: 0.3843 - aux_output_loss: 0.5488 - val_loss: 2.8024 - val_main_output_loss: 2.8913 - val_aux_output_loss: 2.0025\n",
      "Epoch 15/20\n",
      "363/363 [==============================] - 0s 738us/step - loss: 0.3979 - main_output_loss: 0.3825 - aux_output_loss: 0.5367 - val_loss: 3.2115 - val_main_output_loss: 3.3148 - val_aux_output_loss: 2.2810\n",
      "Epoch 16/20\n",
      "363/363 [==============================] - 0s 783us/step - loss: 0.3915 - main_output_loss: 0.3766 - aux_output_loss: 0.5255 - val_loss: 3.2054 - val_main_output_loss: 3.3044 - val_aux_output_loss: 2.3143\n",
      "Epoch 17/20\n",
      "363/363 [==============================] - 0s 740us/step - loss: 0.3851 - main_output_loss: 0.3705 - aux_output_loss: 0.5170 - val_loss: 3.4025 - val_main_output_loss: 3.5048 - val_aux_output_loss: 2.4822\n",
      "Epoch 18/20\n",
      "363/363 [==============================] - 0s 751us/step - loss: 0.3827 - main_output_loss: 0.3685 - aux_output_loss: 0.5103 - val_loss: 4.0688 - val_main_output_loss: 4.2016 - val_aux_output_loss: 2.8733\n",
      "Epoch 19/20\n",
      "363/363 [==============================] - 0s 758us/step - loss: 0.3792 - main_output_loss: 0.3654 - aux_output_loss: 0.5027 - val_loss: 3.8920 - val_main_output_loss: 4.0077 - val_aux_output_loss: 2.8510\n",
      "Epoch 20/20\n",
      "363/363 [==============================] - 0s 747us/step - loss: 0.3757 - main_output_loss: 0.3625 - aux_output_loss: 0.4951 - val_loss: 4.6315 - val_main_output_loss: 4.7823 - val_aux_output_loss: 3.2743\n"
     ]
    }
   ],
   "source": [
    "history = model.fit(\n",
    "    [X_train_A, X_train_B], [y_train, y_train], epochs = 20,\n",
    "    validation_data = ([X_valid_A, X_valid_B], [y_valid, y_valid])\n",
    ")"
   ]
  },
  {
   "cell_type": "code",
   "execution_count": 203,
   "metadata": {},
   "outputs": [
    {
     "name": "stdout",
     "output_type": "stream",
     "text": [
      "162/162 [==============================] - 0s 654us/step - loss: 5.5557 - main_output_loss: 5.7412 - aux_output_loss: 3.8868\n"
     ]
    }
   ],
   "source": [
    "total_loss, main_loss, aux_loss = model.evaluate(\n",
    "    [X_test_A, X_test_B], [y_test, y_test]\n",
    ")"
   ]
  },
  {
   "cell_type": "code",
   "execution_count": 204,
   "metadata": {},
   "outputs": [
    {
     "name": "stdout",
     "output_type": "stream",
     "text": [
      "1/1 [==============================] - 0s 63ms/step\n"
     ]
    }
   ],
   "source": [
    "y_pred_main, y_pred_aux = model.predict([X_new_A, X_new_B])"
   ]
  },
  {
   "cell_type": "markdown",
   "metadata": {},
   "source": [
    "### 5. 서브클래싱 API로 동적 모델 만들기 \n",
    "\n",
    "* 시퀀셜 API와 함수형 API는 모두 선언적, 사용할 층과 연결 방식을 먼저 정의해야함\n",
    "* 모델에 반복문을 추가할수도 있고 다양한 크기를 다루려면 서브클래싱 API를 사용해야함\n",
    "\n",
    "한계\n",
    "* 모델을 저장하거나 복사할 수 없다\n",
    "* summary() 메서드를 호출하면 층의 목록만 나열되고 층 간의 연결 정보를 얻을 수 없다."
   ]
  },
  {
   "cell_type": "code",
   "execution_count": 206,
   "metadata": {},
   "outputs": [],
   "source": [
    "class WideAndDeepModel(keras.Model):\n",
    "    def __init__(self, units = 30, activation = 'relu', **kwargs):\n",
    "        super().__init__(**kwargs)\n",
    "        self.hidden1 = keras.layers.Dense(units, activation=activation)\n",
    "        self.hidden2 = keras.layers.Dense(units, activation=activation)\n",
    "        self.main_output = keras.layers.Dense(1)\n",
    "        self.aux_output = keras.layers.Dense(1)\n",
    "        \n",
    "    def call(self, inputs):\n",
    "        input_A, input_B = inputs\n",
    "        hidden1 = self.hidden1(input_B)\n",
    "        hidden2 = self.hidden2(hidden1)\n",
    "        concat = keras.layers.concatenate([input_A, hidden2])\n",
    "        main_output = self.main_output(concat)\n",
    "        aux_output = self.aux_output(hidden2)\n",
    "        return main_output, aux_output\n",
    "    \n",
    "model = WideAndDeepModel()"
   ]
  },
  {
   "cell_type": "markdown",
   "metadata": {},
   "source": [
    "### 6. 모델 저장과 복원\n",
    "\n",
    "```python\n",
    "# model save\n",
    "model = keras.models.Sequential([...])\n",
    "model.compile([...])\n",
    "model.fit([...])\n",
    "model.save(\"my_keras_model.h5\")\n",
    "\n",
    "# model load\n",
    "model = keras.models.load_model('my_keras_model.h5')\n",
    "```"
   ]
  },
  {
   "cell_type": "markdown",
   "metadata": {},
   "source": [
    "### 7. 콜백 사용하기\n",
    "\n",
    "* fit() 메서드의 callbacks 매개변수를 사용하여 케라스가 훈련의 시작이나 끝에 호출할 객체 리스트를 저장 가능\n",
    "* 예를들어 ModelCheckppoint는 훈련하는 동안 일정한 간격으로 모델의 체크포인트를 저장, 기본적으로 매 에포크의 끝에서 호출\n",
    "\n",
    "```python \n",
    "checkpoint_cb = keras.callbacks.ModelCheckpoint('my_keras_model.h5')\n",
    "history = model.fit(X_train, y_train, epochs = 10, callbacks=[checkpoint_cb])\n",
    "\n",
    "# 최상 결과(검증세트에서, 따라서 validation_data 지정이 필요)만 저장\n",
    "checkpoint_cb = keras.callbacks.ModelCheckpoint('my_keras_model.h5', save_best_only = True)\n",
    "history = model.fit(X_train, y_train, epochs = 10, \n",
    "                    validation_data = (X_valid, y_valid),\n",
    "                    callbacks=[checkpoint_cb])\n",
    "model = keras.models.load_model('my_keras_model.h5')\n",
    "\n",
    "# 모델의 개선이 없을경우 조기 종료\n",
    "early_stopping_cb = keras.callbacks.EarlyStopping(patience = 10, restore_best_weights = True)\n",
    "history = model.fit(X_train, y_train, epochs = 100,\n",
    "                    validation_data = (X_valid, y_valid),\n",
    "                    callbacks = [checkpoint_cb, early_stopping_cb])\n",
    "```"
   ]
  },
  {
   "cell_type": "code",
   "execution_count": 207,
   "metadata": {},
   "outputs": [
    {
     "ename": "RuntimeError",
     "evalue": "You must compile your model before training/testing. Use `model.compile(optimizer, loss)`.",
     "output_type": "error",
     "traceback": [
      "\u001b[0;31m---------------------------------------------------------------------------\u001b[0m",
      "\u001b[0;31mRuntimeError\u001b[0m                              Traceback (most recent call last)",
      "Cell \u001b[0;32mIn[207], line 2\u001b[0m\n\u001b[1;32m      1\u001b[0m checkpoint_cb \u001b[38;5;241m=\u001b[39m keras\u001b[38;5;241m.\u001b[39mcallbacks\u001b[38;5;241m.\u001b[39mModelCheckpoint(\u001b[38;5;124m'\u001b[39m\u001b[38;5;124mmy_keras_model.h5\u001b[39m\u001b[38;5;124m'\u001b[39m)\n\u001b[0;32m----> 2\u001b[0m history \u001b[38;5;241m=\u001b[39m model\u001b[38;5;241m.\u001b[39mfit(X_train, y_train, epochs \u001b[38;5;241m=\u001b[39m \u001b[38;5;241m10\u001b[39m, callbacks\u001b[38;5;241m=\u001b[39m[checkpoint_cb])\n",
      "File \u001b[0;32m/opt/homebrew/anaconda3/lib/python3.11/site-packages/keras/src/utils/traceback_utils.py:70\u001b[0m, in \u001b[0;36mfilter_traceback.<locals>.error_handler\u001b[0;34m(*args, **kwargs)\u001b[0m\n\u001b[1;32m     67\u001b[0m     filtered_tb \u001b[38;5;241m=\u001b[39m _process_traceback_frames(e\u001b[38;5;241m.\u001b[39m__traceback__)\n\u001b[1;32m     68\u001b[0m     \u001b[38;5;66;03m# To get the full stack trace, call:\u001b[39;00m\n\u001b[1;32m     69\u001b[0m     \u001b[38;5;66;03m# `tf.debugging.disable_traceback_filtering()`\u001b[39;00m\n\u001b[0;32m---> 70\u001b[0m     \u001b[38;5;28;01mraise\u001b[39;00m e\u001b[38;5;241m.\u001b[39mwith_traceback(filtered_tb) \u001b[38;5;28;01mfrom\u001b[39;00m \u001b[38;5;28;01mNone\u001b[39;00m\n\u001b[1;32m     71\u001b[0m \u001b[38;5;28;01mfinally\u001b[39;00m:\n\u001b[1;32m     72\u001b[0m     \u001b[38;5;28;01mdel\u001b[39;00m filtered_tb\n",
      "File \u001b[0;32m/opt/homebrew/anaconda3/lib/python3.11/site-packages/keras/src/engine/training.py:3983\u001b[0m, in \u001b[0;36mModel._assert_compile_was_called\u001b[0;34m(self)\u001b[0m\n\u001b[1;32m   3977\u001b[0m \u001b[38;5;28;01mdef\u001b[39;00m \u001b[38;5;21m_assert_compile_was_called\u001b[39m(\u001b[38;5;28mself\u001b[39m):\n\u001b[1;32m   3978\u001b[0m     \u001b[38;5;66;03m# Checks whether `compile` has been called. If it has been called,\u001b[39;00m\n\u001b[1;32m   3979\u001b[0m     \u001b[38;5;66;03m# then the optimizer is set. This is different from whether the\u001b[39;00m\n\u001b[1;32m   3980\u001b[0m     \u001b[38;5;66;03m# model is compiled\u001b[39;00m\n\u001b[1;32m   3981\u001b[0m     \u001b[38;5;66;03m# (i.e. whether the model is built and its inputs/outputs are set).\u001b[39;00m\n\u001b[1;32m   3982\u001b[0m     \u001b[38;5;28;01mif\u001b[39;00m \u001b[38;5;129;01mnot\u001b[39;00m \u001b[38;5;28mself\u001b[39m\u001b[38;5;241m.\u001b[39m_is_compiled:\n\u001b[0;32m-> 3983\u001b[0m         \u001b[38;5;28;01mraise\u001b[39;00m \u001b[38;5;167;01mRuntimeError\u001b[39;00m(\n\u001b[1;32m   3984\u001b[0m             \u001b[38;5;124m\"\u001b[39m\u001b[38;5;124mYou must compile your model before \u001b[39m\u001b[38;5;124m\"\u001b[39m\n\u001b[1;32m   3985\u001b[0m             \u001b[38;5;124m\"\u001b[39m\u001b[38;5;124mtraining/testing. \u001b[39m\u001b[38;5;124m\"\u001b[39m\n\u001b[1;32m   3986\u001b[0m             \u001b[38;5;124m\"\u001b[39m\u001b[38;5;124mUse `model.compile(optimizer, loss)`.\u001b[39m\u001b[38;5;124m\"\u001b[39m\n\u001b[1;32m   3987\u001b[0m         )\n",
      "\u001b[0;31mRuntimeError\u001b[0m: You must compile your model before training/testing. Use `model.compile(optimizer, loss)`."
     ]
    }
   ],
   "source": []
  },
  {
   "cell_type": "markdown",
   "metadata": {},
   "source": [
    "## 15. RNN과 CNN을 사용해 시퀀스 처리하기"
   ]
  },
  {
   "cell_type": "markdown",
   "metadata": {},
   "source": [
    "### 15.3 시계열 예측하기\n",
    "\n",
    "p.604"
   ]
  },
  {
   "cell_type": "code",
   "execution_count": 8,
   "metadata": {},
   "outputs": [],
   "source": [
    "# 시계열 데이터 생성 함수\n",
    "import numpy as np\n",
    "\n",
    "def generate_time_series(batch_size, n_steps):\n",
    "    freq1, freq2, offsets1, offsets2 = np.random.rand(4, batch_size, 1)\n",
    "    time = np.linspace(0, 1, n_steps)\n",
    "    series = 0.5 * np.sin((time - offsets1) * (freq1 * 10 + 10))\n",
    "    series += 0.2 * np.sin((time - offsets2) * (freq2 * 20 + 20))\n",
    "    series += 0.1 * (np.random.rand(batch_size, n_steps) - 0.5)\n",
    "    return series[..., np.newaxis].astype(np.float32)"
   ]
  },
  {
   "cell_type": "code",
   "execution_count": 11,
   "metadata": {},
   "outputs": [],
   "source": [
    "# time_stpes 이 50개인 데이터 10000개\n",
    "n_steps = 50\n",
    "series = generate_time_series(10000, n_steps + 1)\n",
    "X_train, y_train = series[:7000, :n_steps], series[:7000, -1]\n",
    "X_valid, y_valid = series[7000:9000, :n_steps], series[7000:9000, -1]\n",
    "X_test, y_test = series[9000:, :n_steps], series[9000:, -1]"
   ]
  },
  {
   "cell_type": "markdown",
   "metadata": {},
   "source": [
    "### 15.3.1 기준 성능\n",
    "\n",
    "* naive forecast 보다 좋아야지 모델을 사용하는 의미가 있다"
   ]
  },
  {
   "cell_type": "code",
   "execution_count": 29,
   "metadata": {},
   "outputs": [
    {
     "data": {
      "text/plain": [
       "0.020081257"
      ]
     },
     "execution_count": 29,
     "metadata": {},
     "output_type": "execute_result"
    }
   ],
   "source": [
    "import keras\n",
    "# 마지막값을 \n",
    "\n",
    "y_pred = X_valid[:, -1]\n",
    "np.mean(keras.losses.mean_squared_error(y_valid, y_pred))"
   ]
  },
  {
   "cell_type": "code",
   "execution_count": 41,
   "metadata": {},
   "outputs": [
    {
     "name": "stdout",
     "output_type": "stream",
     "text": [
      "Epoch 1/20\n",
      "219/219 [==============================] - 0s 470us/step - loss: 0.1074\n",
      "Epoch 2/20\n",
      "219/219 [==============================] - 0s 527us/step - loss: 0.0401\n",
      "Epoch 3/20\n",
      "219/219 [==============================] - 0s 312us/step - loss: 0.0241\n",
      "Epoch 4/20\n",
      "219/219 [==============================] - 0s 308us/step - loss: 0.0178\n",
      "Epoch 5/20\n",
      "219/219 [==============================] - 0s 303us/step - loss: 0.0145\n",
      "Epoch 6/20\n",
      "219/219 [==============================] - 0s 313us/step - loss: 0.0123\n",
      "Epoch 7/20\n",
      "219/219 [==============================] - 0s 312us/step - loss: 0.0105\n",
      "Epoch 8/20\n",
      "219/219 [==============================] - 0s 306us/step - loss: 0.0091\n",
      "Epoch 9/20\n",
      "219/219 [==============================] - 0s 307us/step - loss: 0.0079\n",
      "Epoch 10/20\n",
      "219/219 [==============================] - 0s 307us/step - loss: 0.0070\n",
      "Epoch 11/20\n",
      "219/219 [==============================] - 0s 305us/step - loss: 0.0062\n",
      "Epoch 12/20\n",
      "219/219 [==============================] - 0s 300us/step - loss: 0.0056\n",
      "Epoch 13/20\n",
      "219/219 [==============================] - 0s 313us/step - loss: 0.0052\n",
      "Epoch 14/20\n",
      "219/219 [==============================] - 0s 343us/step - loss: 0.0048\n",
      "Epoch 15/20\n",
      "219/219 [==============================] - 0s 334us/step - loss: 0.0046\n",
      "Epoch 16/20\n",
      "219/219 [==============================] - 0s 307us/step - loss: 0.0044\n",
      "Epoch 17/20\n",
      "219/219 [==============================] - 0s 309us/step - loss: 0.0042\n",
      "Epoch 18/20\n",
      "219/219 [==============================] - 0s 315us/step - loss: 0.0041\n",
      "Epoch 19/20\n",
      "219/219 [==============================] - 0s 311us/step - loss: 0.0040\n",
      "Epoch 20/20\n",
      "219/219 [==============================] - 0s 315us/step - loss: 0.0039\n",
      "63/63 [==============================] - 0s 279us/step\n"
     ]
    },
    {
     "data": {
      "text/plain": [
       "0.0040120278"
      ]
     },
     "execution_count": 41,
     "metadata": {},
     "output_type": "execute_result"
    }
   ],
   "source": [
    "# 완전 연결 네트워크를 사용한 예측\n",
    "\n",
    "model = keras.models.Sequential([\n",
    "    keras.layers.Flatten(input_shape = [50,1]), # flatten 계층이 없으면 y_pred는 (2000, 50, 1)로 출력됨\n",
    "    keras.layers.Dense(1)\n",
    "])\n",
    "model.compile(optimizer='Adam', loss = 'mse')\n",
    "model.fit(X_train, y_train, epochs=20)\n",
    "y_pred = model.predict(X_valid)\n",
    "\n",
    "np.mean(keras.losses.mean_squared_error(y_valid, y_pred))"
   ]
  },
  {
   "cell_type": "markdown",
   "metadata": {},
   "source": [
    "### 15.3.2 간단한 RNN 구현하기 "
   ]
  },
  {
   "cell_type": "code",
   "execution_count": 45,
   "metadata": {},
   "outputs": [
    {
     "name": "stdout",
     "output_type": "stream",
     "text": [
      "219/219 [==============================] - 1s 2ms/step - loss: 0.1435\n",
      "63/63 [==============================] - 0s 744us/step\n"
     ]
    },
    {
     "data": {
      "text/plain": [
       "0.14080665"
      ]
     },
     "execution_count": 45,
     "metadata": {},
     "output_type": "execute_result"
    }
   ],
   "source": [
    "import keras\n",
    "\n",
    "model = keras.models.Sequential([\n",
    "    keras.layers.SimpleRNN(1, input_shape = [None, 1])\n",
    "])\n",
    "model.compile(optimizer='Adam', loss='mse')\n",
    "model.fit(X_train, y_train)\n",
    "y_pred = model.predict(X_valid)\n",
    "\n",
    "np.mean(keras.losses.mean_squared_error(y_valid, y_pred))"
   ]
  },
  {
   "cell_type": "markdown",
   "metadata": {},
   "source": [
    "### 15.3.3 심층 RNN"
   ]
  },
  {
   "cell_type": "code",
   "execution_count": 48,
   "metadata": {},
   "outputs": [
    {
     "name": "stdout",
     "output_type": "stream",
     "text": [
      "219/219 [==============================] - 2s 7ms/step - loss: 0.0336\n",
      "63/63 [==============================] - 0s 2ms/step\n"
     ]
    },
    {
     "data": {
      "text/plain": [
       "0.008754198"
      ]
     },
     "execution_count": 48,
     "metadata": {},
     "output_type": "execute_result"
    }
   ],
   "source": [
    "model = keras.models.Sequential([\n",
    "    keras.layers.SimpleRNN(20, return_sequences=True, input_shape = [None, 1]), # 각 시점에서 결과값이 20개가 나온다\n",
    "    keras.layers.SimpleRNN(20, return_sequences= True), # 각 시점에서 결과값이 20개 \n",
    "    keras.layers.SimpleRNN(1), # 마지막 층에서는 return_sequences를 정의할 필요 없다\n",
    "])\n",
    "model.compile(optimizer='Adam', loss = 'mse')\n",
    "model.fit(X_train, y_train)\n",
    "y_pred = model.predict(X_valid)\n",
    "\n",
    "np.mean(keras.losses.mean_squared_error(y_valid, y_pred))"
   ]
  },
  {
   "cell_type": "code",
   "execution_count": 50,
   "metadata": {},
   "outputs": [
    {
     "data": {
      "text/plain": [
       "(7000, 50, 1)"
      ]
     },
     "execution_count": 50,
     "metadata": {},
     "output_type": "execute_result"
    }
   ],
   "source": [
    "X_train.shape"
   ]
  },
  {
   "cell_type": "code",
   "execution_count": 55,
   "metadata": {},
   "outputs": [
    {
     "name": "stdout",
     "output_type": "stream",
     "text": [
      "219/219 [==============================] - 2s 5ms/step - loss: 0.0093\n",
      "63/63 [==============================] - 0s 2ms/step\n"
     ]
    },
    {
     "data": {
      "text/plain": [
       "0.0040185642"
      ]
     },
     "execution_count": 55,
     "metadata": {},
     "output_type": "execute_result"
    }
   ],
   "source": [
    "model = keras.models.Sequential([\n",
    "    keras.layers.SimpleRNN(20, return_sequences=True, input_shape = [None, 1]), # 각 시점에서 결과값이 20개가 나온다\n",
    "    keras.layers.SimpleRNN(20),\n",
    "    keras.layers.Dense(1),\n",
    "])\n",
    "model.compile(optimizer='Adam', loss = 'mse')\n",
    "model.fit(X_train, y_train)\n",
    "y_pred = model.predict(X_valid)\n",
    "\n",
    "np.mean(keras.losses.mean_squared_error(y_valid, y_pred))"
   ]
  },
  {
   "cell_type": "code",
   "execution_count": 58,
   "metadata": {},
   "outputs": [
    {
     "name": "stdout",
     "output_type": "stream",
     "text": [
      "(7000, 50, 20)\n",
      "(7000, 20)\n",
      "(7000, 1)\n"
     ]
    }
   ],
   "source": [
    "# 직접 실행하며 어떤식으로 연산이 되는지 확인\n",
    "\n",
    "rnn1 = keras.layers.SimpleRNN(20, return_sequences=True, input_shape = [None, 1])\n",
    "hidden_state1 = rnn1(X_train)\n",
    "print(hidden_state1.shape)\n",
    "\n",
    "rnn2 = keras.layers.SimpleRNN(20)\n",
    "hidden_state2 = rnn2(hidden_state1)\n",
    "print(hidden_state2.shape)\n",
    "\n",
    "dense1 = keras.layers.Dense(1)\n",
    "res = dense1(hidden_state2)\n",
    "print(res.shape)"
   ]
  },
  {
   "cell_type": "markdown",
   "metadata": {},
   "source": [
    "### 15.4.3 여러 타임 스텝 앞을 예측하기\n",
    "\n",
    "* 첫번째 방법 : 이미 훈련된 모델을 사용하여 다음값을 예측한 다음 이 값을 입력으로 추가하여 새롭게 그 다음값을 예측\n",
    "* 두번째 방법 : RNN을 훈련하여 다음 값 10개를 한 번에 예측하는것, 시퀀스-투-벡터 모델을 사용"
   ]
  },
  {
   "cell_type": "code",
   "execution_count": 66,
   "metadata": {},
   "outputs": [
    {
     "name": "stdout",
     "output_type": "stream",
     "text": [
      "1/1 [==============================] - 0s 24ms/step\n",
      "1/1 [==============================] - 0s 10ms/step\n",
      "1/1 [==============================] - 0s 10ms/step\n",
      "1/1 [==============================] - 0s 10ms/step\n",
      "1/1 [==============================] - 0s 9ms/step\n",
      "1/1 [==============================] - 0s 9ms/step\n",
      "1/1 [==============================] - 0s 9ms/step\n",
      "1/1 [==============================] - 0s 9ms/step\n",
      "1/1 [==============================] - 0s 9ms/step\n",
      "1/1 [==============================] - 0s 9ms/step\n"
     ]
    },
    {
     "data": {
      "text/plain": [
       "0.042548746"
      ]
     },
     "execution_count": 66,
     "metadata": {},
     "output_type": "execute_result"
    }
   ],
   "source": [
    "# 첫번째 방법\n",
    "n_steps = 50\n",
    "series = generate_time_series(1, n_steps + 10)\n",
    "X_new, Y_new = series[:, :n_steps], series[:, n_steps:]\n",
    "X = X_new\n",
    "\n",
    "for step_ahead in range(10):\n",
    "    y_pred_one = model.predict(X[:, step_ahead:])[:, np.newaxis, :]\n",
    "    X = np.concatenate([X, y_pred_one], axis=1)\n",
    "    \n",
    "Y_pred = X[:, n_steps:]\n",
    "np.mean(keras.losses.mse(Y_new, Y_pred))"
   ]
  },
  {
   "cell_type": "code",
   "execution_count": 73,
   "metadata": {},
   "outputs": [],
   "source": [
    "# 두번째 방법\n",
    "\n",
    "series = generate_time_series(10000, n_steps + 10)\n",
    "series.shape\n",
    "X_train, Y_train = series[:7000, :n_steps], series[:7000, -10:, 0] # series[:7000, -10:, 0] : (7000, 10) series[:7000, -10:] : (7000, 10, 1 )\n",
    "X_valid, Y_valid = series[7000:9000, :n_steps], series[7000:9000, -10:, 0]\n",
    "X_test, Y_test = series[9000:, :n_steps], series[9000:, -10:, 0]"
   ]
  },
  {
   "cell_type": "code",
   "execution_count": 88,
   "metadata": {},
   "outputs": [],
   "source": [
    "# 시퀀스 데이터 생성\n",
    "\n",
    "Y = np.empty((10000, n_steps, 10))\n",
    "for step_ahead in range(1, 10 + 1):\n",
    "    Y[:, :, step_ahead -1] = series[:, step_ahead:step_ahead + n_steps, 0]\n",
    "\n",
    "Y_train = Y[:7000] \n",
    "Y_valid = Y[7000:9000]\n",
    "Y_test = Y[9000:]"
   ]
  },
  {
   "cell_type": "code",
   "execution_count": 99,
   "metadata": {},
   "outputs": [
    {
     "name": "stdout",
     "output_type": "stream",
     "text": [
      "219/219 [==============================] - 2s 5ms/step - loss: 0.0671 - last_time_step_mse: 0.0676\n"
     ]
    },
    {
     "data": {
      "text/plain": [
       "<keras.src.callbacks.History at 0x1776e1d50>"
      ]
     },
     "execution_count": 99,
     "metadata": {},
     "output_type": "execute_result"
    }
   ],
   "source": [
    "model = keras.models.Sequential([\n",
    "    keras.layers.SimpleRNN(20, return_sequences=True, input_shape = [None, 1]),\n",
    "    keras.layers.SimpleRNN(20, return_sequences=True),\n",
    "    keras.layers.TimeDistributed(keras.layers.Dense(10))    \n",
    "])\n",
    "\n",
    "def last_time_step_mse(Y_true, Y_pred):\n",
    "    return keras.metrics.mean_squared_error(Y_true[:, -1], Y_pred[:, -1])\n",
    "\n",
    "model.compile(optimizer='Adam', loss='mse', metrics=[last_time_step_mse])\n",
    "model.fit(X_train, Y_train)"
   ]
  },
  {
   "cell_type": "code",
   "execution_count": 101,
   "metadata": {},
   "outputs": [
    {
     "name": "stdout",
     "output_type": "stream",
     "text": [
      "63/63 [==============================] - 0s 2ms/step\n"
     ]
    }
   ],
   "source": [
    "Y_pred = model.predict(X_valid)"
   ]
  },
  {
   "cell_type": "code",
   "execution_count": 104,
   "metadata": {},
   "outputs": [
    {
     "data": {
      "text/plain": [
       "(7000, 50, 10)"
      ]
     },
     "execution_count": 104,
     "metadata": {},
     "output_type": "execute_result"
    }
   ],
   "source": [
    "Y_train.shape"
   ]
  }
 ],
 "metadata": {
  "kernelspec": {
   "display_name": "base",
   "language": "python",
   "name": "python3"
  },
  "language_info": {
   "codemirror_mode": {
    "name": "ipython",
    "version": 3
   },
   "file_extension": ".py",
   "mimetype": "text/x-python",
   "name": "python",
   "nbconvert_exporter": "python",
   "pygments_lexer": "ipython3",
   "version": "3.11.5"
  }
 },
 "nbformat": 4,
 "nbformat_minor": 2
}
