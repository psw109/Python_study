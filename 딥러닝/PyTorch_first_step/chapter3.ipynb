{
 "cells": [
  {
   "cell_type": "markdown",
   "metadata": {},
   "source": [
    "1, 2 장은 토치 설치에 관한 내용"
   ]
  },
  {
   "cell_type": "markdown",
   "metadata": {},
   "source": [
    "# 3. 선형회귀 분석"
   ]
  },
  {
   "cell_type": "markdown",
   "metadata": {},
   "source": [
    "## 1. 선형회귀분석이란 무엇인가\n",
    "\n",
    "* 주어진 데이터를 가장 잘 설명하는 직선 하나를 찾는 것\n",
    "* 하나의 독립변수에 대한 선형회귀분석일 경우 선형회귀, 독립변수가 여러개일 경우 다중선형회귀\n",
    "* 단순 선형회귀의 경우\n",
    "    * $y = w * x + b$라는 직선의 방정식에서 데이터를 가장 잘 표현하는 변수 w와 b를 찾는다는 뜻\n",
    "    * w와 b는 가중치와 편차"
   ]
  },
  {
   "cell_type": "markdown",
   "metadata": {},
   "source": [
    "## 2. 손실 함수 및 경사하강법\n",
    "\n",
    "* \"가장 잘\" 표현한다는 말에는 비교가 가능하다는 뜻이 깔려 있다.\n",
    "* 즉 어떤 w,b쌍이 데이터와 얼마나 잘 맞는지 수치적으로 계산을 할 수 있어야 함\n",
    "---\n",
    "* w와 b를 찾는법\n",
    "    * 무작위?\n",
    "    * w,b에 의해 값이 정해지는 손실함수가 작아지는 방향으로 찾아야함\n",
    "    * 손실함수에는 L1(MAE), L2(MSE)가 존재\n",
    "---\n",
    "* 손실함수 최소화(L2)\n",
    "    * 손실함수는 w에 대한 2차함수 -> w에 대해 미분한값이 0이되는 지점이 최소\n",
    "    * 하지만 데이터의 차원이 증가할수록 w를 미분하기 쉽지않음\n",
    "    * 경사 하강법 등장\n",
    "---\n",
    "* 경사 하강법\n",
    "    * $w_{t+1} = w_{t} - gradient * learningrate$\n",
    "    * 주어진 w에서 경사를 구하고 이를 통해 지속적으로 w를 업데이트 함으로써 오차의 극소값을 찾을 수 있다\n",
    "    * learning_rate(학습률) 변수 w를 얼마만큼 업데이트 할지 결정하는 수치"
   ]
  },
  {
   "cell_type": "markdown",
   "metadata": {},
   "source": [
    "## 3. 파이토치에서의 경사 하강법\n",
    "\n",
    "* 파이토치에서는 데이터의 기본단위로 텐서라는것을 사용\n",
    "* 텐서는 다차원 배열 이라고 정의할수 있음"
   ]
  },
  {
   "cell_type": "code",
   "execution_count": 1,
   "metadata": {},
   "outputs": [
    {
     "data": {
      "text/plain": [
       "tensor([[0., 0., 0.],\n",
       "        [0., 0., 0.]])"
      ]
     },
     "execution_count": 1,
     "metadata": {},
     "output_type": "execute_result"
    }
   ],
   "source": [
    "# 텐서 생성\n",
    "\n",
    "import torch\n",
    "\n",
    "X = torch.Tensor(2, 3)\n",
    "X"
   ]
  },
  {
   "cell_type": "code",
   "execution_count": 2,
   "metadata": {},
   "outputs": [
    {
     "data": {
      "text/plain": [
       "tensor([[1, 2, 3],\n",
       "        [4, 5, 6]])"
      ]
     },
     "execution_count": 2,
     "metadata": {},
     "output_type": "execute_result"
    }
   ],
   "source": [
    "X = torch.tensor([[1,2,3],\n",
    "                  [4,5,6]])\n",
    "X"
   ]
  },
  {
   "cell_type": "markdown",
   "metadata": {},
   "source": [
    "### torch.tensor의 인자\n",
    "\n",
    "* data : 배열 입력\n",
    "* dtype : FloatTensor(기본값)\n",
    "* device : 텐서를 어느 기기에 올릴 것인지 명시\n",
    "* requires_grad : 텐서에 기울기를 저장할지 여부"
   ]
  },
  {
   "cell_type": "code",
   "execution_count": 5,
   "metadata": {},
   "outputs": [
    {
     "name": "stdout",
     "output_type": "stream",
     "text": [
      "tensor([ 8., 12.]) None None\n"
     ]
    },
    {
     "name": "stderr",
     "output_type": "stream",
     "text": [
      "/var/folders/3t/xlb0yvwx01d02l7bkdc8cl8m0000gn/T/ipykernel_50085/3653652010.py:11: UserWarning: The .grad attribute of a Tensor that is not a leaf Tensor is being accessed. Its .grad attribute won't be populated during autograd.backward(). If you indeed want the .grad field to be populated for a non-leaf Tensor, use .retain_grad() on the non-leaf Tensor. If you access the non-leaf Tensor by mistake, make sure you access the leaf Tensor instead. See github.com/pytorch/pytorch/pull/30531 for more informations. (Triggered internally at /Users/runner/work/pytorch/pytorch/pytorch/build/aten/src/ATen/core/TensorBody.h:494.)\n",
      "  print(x.grad, y.grad, z.grad)\n"
     ]
    }
   ],
   "source": [
    "import torch\n",
    "\n",
    "x = torch.tensor(data=[2.0, 3.0], requires_grad=True)\n",
    "y = x ** 2\n",
    "z = 2*y + 3\n",
    "\n",
    "target = torch.tensor([3.0, 4.0])\n",
    "loss = torch.sum(torch.abs(z-target))\n",
    "loss.backward()\n",
    "\n",
    "print(x.grad, y.grad, z.grad)"
   ]
  }
 ],
 "metadata": {
  "kernelspec": {
   "display_name": "base",
   "language": "python",
   "name": "python3"
  },
  "language_info": {
   "codemirror_mode": {
    "name": "ipython",
    "version": 3
   },
   "file_extension": ".py",
   "mimetype": "text/x-python",
   "name": "python",
   "nbconvert_exporter": "python",
   "pygments_lexer": "ipython3",
   "version": "3.12.2"
  }
 },
 "nbformat": 4,
 "nbformat_minor": 2
}
