{
 "cells": [
  {
   "cell_type": "markdown",
   "metadata": {},
   "source": [
    "# 1. 간단한 예제로 케라스 맛보기"
   ]
  },
  {
   "cell_type": "code",
   "execution_count": 1,
   "metadata": {},
   "outputs": [],
   "source": [
    "# 1. 케라스 사용의 간단한 예제\n",
    "\n",
    "from keras.models import Sequential\n",
    "from keras.layers import Conv1D, MaxPooling1D, Flatten, Dense"
   ]
  },
  {
   "cell_type": "code",
   "execution_count": 3,
   "metadata": {},
   "outputs": [],
   "source": [
    "model = Sequential()\n",
    "model.add(Conv1D(32, 3, activation='relu', input_shape = (100,1)))\n",
    "model.add(MaxPooling1D(2))\n",
    "model.add(Flatten())\n",
    "model.add(Dense(1, activation='sigmoid'))\n",
    "model.compile(optimizer='adam', loss='binary_crossentropy', metrics = ['accuracy'])"
   ]
  },
  {
   "cell_type": "code",
   "execution_count": 4,
   "metadata": {},
   "outputs": [],
   "source": [
    "# 훈련 데이터 셋\n",
    "\n",
    "import numpy as np\n",
    "X_train = np.random.randn(1000, 100, 1)\n",
    "y_train = np.random.randint(2, size = (1000,1))"
   ]
  },
  {
   "cell_type": "code",
   "execution_count": 5,
   "metadata": {},
   "outputs": [
    {
     "name": "stdout",
     "output_type": "stream",
     "text": [
      "Epoch 1/10\n",
      "32/32 [==============================] - 0s 1ms/step - loss: 0.7034 - accuracy: 0.4910\n",
      "Epoch 2/10\n",
      "32/32 [==============================] - 0s 1ms/step - loss: 0.6862 - accuracy: 0.5530\n",
      "Epoch 3/10\n",
      "32/32 [==============================] - 0s 1ms/step - loss: 0.6681 - accuracy: 0.5950\n",
      "Epoch 4/10\n",
      "32/32 [==============================] - 0s 1ms/step - loss: 0.6642 - accuracy: 0.6050\n",
      "Epoch 5/10\n",
      "32/32 [==============================] - 0s 1ms/step - loss: 0.6541 - accuracy: 0.6140\n",
      "Epoch 6/10\n",
      "32/32 [==============================] - 0s 2ms/step - loss: 0.6455 - accuracy: 0.6390\n",
      "Epoch 7/10\n",
      "32/32 [==============================] - 0s 1ms/step - loss: 0.6375 - accuracy: 0.6580\n",
      "Epoch 8/10\n",
      "32/32 [==============================] - 0s 1ms/step - loss: 0.6302 - accuracy: 0.6500\n",
      "Epoch 9/10\n",
      "32/32 [==============================] - 0s 1ms/step - loss: 0.6263 - accuracy: 0.6570\n",
      "Epoch 10/10\n",
      "32/32 [==============================] - 0s 1ms/step - loss: 0.6231 - accuracy: 0.6530\n"
     ]
    },
    {
     "data": {
      "text/plain": [
       "<keras.src.callbacks.History at 0x16d787e10>"
      ]
     },
     "execution_count": 5,
     "metadata": {},
     "output_type": "execute_result"
    }
   ],
   "source": [
    "model.fit(X_train, y_train, epochs=10, batch_size=32)"
   ]
  },
  {
   "cell_type": "markdown",
   "metadata": {},
   "source": [
    "## 1. Sequential\n",
    "\n",
    "* Sequential() 클래스를 사용하면 간단한 순차적인 구조를 가진 모델을 쉽게 구성할 수 있습니다. 즉, 입력층부터 출력층 까지 차례대로 쌓아가는 것으로 모델을 구성할 수 있습니다.\n",
    "* 이후 add() 메서드를 사용하여 입력층과 은닉층, 출력층을 추가할 수 있다\n",
    "* 최종적으로 compile()메서드를 사용하여 모델을 완성시킬 수 있음"
   ]
  },
  {
   "cell_type": "code",
   "execution_count": 7,
   "metadata": {},
   "outputs": [
    {
     "name": "stdout",
     "output_type": "stream",
     "text": [
      "Model: \"sequential_3\"\n",
      "_________________________________________________________________\n",
      " Layer (type)                Output Shape              Param #   \n",
      "=================================================================\n",
      " dense_4 (Dense)             (None, 64)                6464      \n",
      "                                                                 \n",
      " dense_5 (Dense)             (None, 32)                2080      \n",
      "                                                                 \n",
      " dense_6 (Dense)             (None, 10)                330       \n",
      "                                                                 \n",
      "=================================================================\n",
      "Total params: 8874 (34.66 KB)\n",
      "Trainable params: 8874 (34.66 KB)\n",
      "Non-trainable params: 0 (0.00 Byte)\n",
      "_________________________________________________________________\n"
     ]
    }
   ],
   "source": [
    "from keras.models import Sequential\n",
    "from keras.layers import Dense\n",
    "\n",
    "#1. Sequential 모델 생성\n",
    "model = Sequential()\n",
    "\n",
    "#2. 입력층과 은닉층 추가\n",
    "model.add(Dense(units=64, activation='relu', input_dim=100))\n",
    "model.add(Dense(units=32, activation='relu'))\n",
    "\n",
    "#3. 출력층 추가\n",
    "model.add(Dense(units=10, activation='softmax'))\n",
    "\n",
    "#4. 결과 확인\n",
    "\n",
    "model.summary()"
   ]
  },
  {
   "cell_type": "code",
   "execution_count": 15,
   "metadata": {},
   "outputs": [
    {
     "name": "stdout",
     "output_type": "stream",
     "text": [
      "Model: \"sequential_11\"\n",
      "_________________________________________________________________\n"
     ]
    },
    {
     "name": "stdout",
     "output_type": "stream",
     "text": [
      " Layer (type)                Output Shape              Param #   \n",
      "=================================================================\n",
      " dense_28 (Dense)            (None, 64)                6464      \n",
      "                                                                 \n",
      " dense_29 (Dense)            (None, 32)                2080      \n",
      "                                                                 \n",
      " dense_30 (Dense)            (None, 10)                330       \n",
      "                                                                 \n",
      "=================================================================\n",
      "Total params: 8874 (34.66 KB)\n",
      "Trainable params: 8874 (34.66 KB)\n",
      "Non-trainable params: 0 (0.00 Byte)\n",
      "_________________________________________________________________\n"
     ]
    }
   ],
   "source": [
    "# Sequential의 다른 사용방법\n",
    "from keras.models import Sequential\n",
    "from keras.layers import Dense\n",
    "\n",
    "model = Sequential([\n",
    "    Dense(units=64, activation='relu', input_dim=100),\n",
    "    Dense(units=32, activation='relu'),\n",
    "    Dense(units=10, activation='softmax')\n",
    "])\n",
    "model.summary()"
   ]
  },
  {
   "cell_type": "code",
   "execution_count": 16,
   "metadata": {},
   "outputs": [
    {
     "name": "stdout",
     "output_type": "stream",
     "text": [
      "Model: \"model\"\n",
      "_________________________________________________________________\n",
      " Layer (type)                Output Shape              Param #   \n",
      "=================================================================\n",
      " input_1 (InputLayer)        [(None, 100)]             0         \n",
      "                                                                 \n",
      " dense_31 (Dense)            (None, 64)                6464      \n",
      "                                                                 \n",
      " dense_32 (Dense)            (None, 32)                2080      \n",
      "                                                                 \n",
      " dense_33 (Dense)            (None, 10)                330       \n",
      "                                                                 \n",
      "=================================================================\n",
      "Total params: 8874 (34.66 KB)\n",
      "Trainable params: 8874 (34.66 KB)\n",
      "Non-trainable params: 0 (0.00 Byte)\n",
      "_________________________________________________________________\n"
     ]
    }
   ],
   "source": [
    "# Functional API 사용법\n",
    "\n",
    "from keras.models import Model\n",
    "from keras.layers import Input, Dense\n",
    "\n",
    "#1. 입력층 정의\n",
    "inp = Input(shape=(100,))\n",
    "\n",
    "#2. 은닉층 정의\n",
    "x = Dense(units=64, activation='relu')(inp)\n",
    "x = Dense(units=32, activation='relu')(x)\n",
    "\n",
    "#3. 출력층 정의\n",
    "out = Dense(units=10, activation='softmax')(x)\n",
    "\n",
    "#4. 모델 구성\n",
    "model = Model(inputs=inp, outputs=out)\n",
    "\n",
    "#모델 컴파일\n",
    "model.compile(loss='categorical_crossentropy', optimizer='adam', metrics=['accuracy'])\n",
    "\n",
    "#모델 확인\n",
    "model.summary()"
   ]
  },
  {
   "cell_type": "markdown",
   "metadata": {},
   "source": [
    "## Input_shape\n",
    "\n",
    "* input_shape은 모델의 첫번째 레이어에만 지정해주며, 이의 레이어에서는 자동으로 입력 데이터의 형태를 추정\n",
    "* 2차원 데이터\n",
    "    * (num_samples, num_features) 형태의 2차원 배열로 표현됩니다.\n",
    "    * ```input_shape = (num_features, )```\n",
    "    * 2차원 데이터의 경우에는 input_shape 대신에 input_dim을 사용할 수도 있습니다. input_dim = num_features,"
   ]
  },
  {
   "cell_type": "code",
   "execution_count": 1,
   "metadata": {},
   "outputs": [
    {
     "name": "stdout",
     "output_type": "stream",
     "text": [
      "Model: \"sequential\"\n",
      "_________________________________________________________________\n",
      " Layer (type)                Output Shape              Param #   \n",
      "=================================================================\n",
      " dense (Dense)               (None, 256)               200960    \n",
      "                                                                 \n",
      " dense_1 (Dense)             (None, 10)                2570      \n",
      "                                                                 \n",
      "=================================================================\n",
      "Total params: 203530 (795.04 KB)\n",
      "Trainable params: 203530 (795.04 KB)\n",
      "Non-trainable params: 0 (0.00 Byte)\n",
      "_________________________________________________________________\n"
     ]
    }
   ],
   "source": [
    "from keras.models import Sequential\n",
    "from keras.layers import Dense\n",
    "\n",
    "model = Sequential([\n",
    "    Dense(units=256, activation='relu', input_shape=(28*28, )), # mnist데이터셋 가정, 이경우 28*28픽셀의 256개 사진을 의미한다\n",
    "    Dense(units=10, activation='softmax')\n",
    "])\n",
    "\n",
    "model.summary()"
   ]
  },
  {
   "cell_type": "code",
   "execution_count": 5,
   "metadata": {},
   "outputs": [
    {
     "name": "stdout",
     "output_type": "stream",
     "text": [
      "(3, 1) (3, 1) (3, 10)\n",
      "(3, 1) (3, 1) (3, 10)\n"
     ]
    }
   ],
   "source": [
    "# 입력은 최소 2차원(행렬) 이상의 넘파이 배열이나 텐서로 만들어야 한다.  \n",
    "\n",
    "import tensorflow as tf\n",
    "import numpy as np\n",
    "\n",
    "inp = np.array([[1.0], [2.0], [3.0]]) #사용 가능\n",
    "inp_tensor = tf.convert_to_tensor(inp) #사용 가능\n",
    "inp_list = [[1.0], [2.0], [3.0]] #사용 불가, error\n",
    "\n",
    "out1 = Dense(10, activation='relu', input_dim=1)(inp)\n",
    "out2 = Dense(10, activation='relu', input_shape=(1,))(inp)\n",
    "\n",
    "print(inp.shape, inp_tensor.shape, out1.shape)\n",
    "print(inp.shape, inp_tensor.shape, out2.shape)"
   ]
  },
  {
   "cell_type": "markdown",
   "metadata": {},
   "source": [
    "### 3차원 데이터\n",
    "\n",
    "* 입력 데이터가 3차원 배열(num_samples, num_time_steps, num_features)의 경우 input_shape = (num_time_steps, num_features)와 같이 지정\n",
    "* 입력 데이터의 형태에 따라 num_time_steps이 다른 feature로 변경될 수 있다  \n",
    "* 밑의 예제의 경우 시간 단계가 390개 feqture가 (주식가격, 거래량, 지수)를 의미 한다고 생각하면 됨"
   ]
  },
  {
   "cell_type": "code",
   "execution_count": 6,
   "metadata": {},
   "outputs": [
    {
     "name": "stdout",
     "output_type": "stream",
     "text": [
      "Model: \"sequential_1\"\n",
      "_________________________________________________________________\n",
      " Layer (type)                Output Shape              Param #   \n",
      "=================================================================\n",
      " lstm (LSTM)                 (None, 256)               266240    \n",
      "                                                                 \n",
      " dense_6 (Dense)             (None, 1)                 257       \n",
      "                                                                 \n",
      "=================================================================\n",
      "Total params: 266497 (1.02 MB)\n",
      "Trainable params: 266497 (1.02 MB)\n",
      "Non-trainable params: 0 (0.00 Byte)\n",
      "_________________________________________________________________\n"
     ]
    }
   ],
   "source": [
    "from keras.models import Sequential\n",
    "from keras.layers import LSTM, Dense\n",
    "\n",
    "model = Sequential([\n",
    "    LSTM(256, input_shape=(390,3)),\n",
    "    Dense(1)\n",
    "]) \n",
    "\n",
    "model.summary()"
   ]
  },
  {
   "cell_type": "markdown",
   "metadata": {},
   "source": [
    "### 4차원 데이터\n",
    "\n",
    "* 일반적으로 이미지 데이터의 경우 4차원 배열 형태를 가짐\n",
    "* 32*32 이미지의 경우 => (num_samples, feature_1(32), feature_2(32), RGB(3))"
   ]
  },
  {
   "cell_type": "code",
   "execution_count": 7,
   "metadata": {},
   "outputs": [
    {
     "name": "stdout",
     "output_type": "stream",
     "text": [
      "Model: \"sequential_2\"\n",
      "_________________________________________________________________\n",
      " Layer (type)                Output Shape              Param #   \n",
      "=================================================================\n",
      " conv2d (Conv2D)             (None, 30, 30, 32)        896       \n",
      "                                                                 \n",
      " flatten (Flatten)           (None, 28800)             0         \n",
      "                                                                 \n",
      " dense_7 (Dense)             (None, 10)                288010    \n",
      "                                                                 \n",
      "=================================================================\n",
      "Total params: 288906 (1.10 MB)\n",
      "Trainable params: 288906 (1.10 MB)\n",
      "Non-trainable params: 0 (0.00 Byte)\n",
      "_________________________________________________________________\n"
     ]
    }
   ],
   "source": [
    "from keras.models import Sequential\n",
    "from keras.layers import Conv2D, Flatten, Dense\n",
    "\n",
    "model = Sequential([\n",
    "    Conv2D(32, (3,3), activation='relu', input_shape=(32,32,3)), # 앞의 32: filter 갯수, 뒤에 (3,3): filter size\n",
    "    Flatten(),\n",
    "    Dense(10, activation='softmax')\n",
    "])\n",
    "\n",
    "model.summary()"
   ]
  },
  {
   "cell_type": "markdown",
   "metadata": {},
   "source": [
    "## tf.keras.backend.clear_session()\n",
    "\n",
    "* kears는 Tensorflow, Theano, CNTK와 같은 백엔드 엔진과 함께 사용될 수 있습니다.\n",
    "* keras에서 backedn.clear_session() 함수는 현재 세션에 존재하는 모든 텐서 객체들을 삭제함\n",
    "* 모델을 여러 번 훈련할 때 이전에 사용되었던 가중치(weight)등을 초기화하는데 사용된다."
   ]
  },
  {
   "cell_type": "code",
   "execution_count": 8,
   "metadata": {},
   "outputs": [],
   "source": [
    "import keras.backend as K\n",
    "\n",
    "K.clear_session()"
   ]
  },
  {
   "cell_type": "markdown",
   "metadata": {},
   "source": [
    "## utils.to_categorical\n",
    "\n",
    "* 케라스의 to_categofical() 함수는 정수형 클래스 레이블을 원-핫 인코딩 벡터로 변환하는 함수(음수 값이 있으면 안됨)"
   ]
  },
  {
   "cell_type": "code",
   "execution_count": 9,
   "metadata": {},
   "outputs": [
    {
     "name": "stdout",
     "output_type": "stream",
     "text": [
      "[[1. 0. 0.]\n",
      " [0. 1. 0.]\n",
      " [0. 0. 1.]\n",
      " [0. 1. 0.]\n",
      " [1. 0. 0.]]\n"
     ]
    }
   ],
   "source": [
    "from keras.utils import to_categorical\n",
    "\n",
    "labels = [0,1,2,1,0]\n",
    "one_hot_labels = to_categorical(labels)\n",
    "\n",
    "print(one_hot_labels)"
   ]
  },
  {
   "cell_type": "markdown",
   "metadata": {},
   "source": [
    "## Conv1D\n",
    "\n",
    "```\n",
    "tf.keras.layers.Conv1D(\n",
    "    filters, kernel_size, strides=1, padding='valid', activation = None,\n",
    "    use_bias = True, kernel_initialize = 'glorot_uniform',\n",
    "    bias_initalize = 'zeros', kernel_regulaizer = None,\n",
    "    bias_regulaizer = None, activity_regulaizer = None,\n",
    "    kernel_constraint = None, bias_constraint = None, **kwargs\n",
    ")\n",
    "```"
   ]
  },
  {
   "cell_type": "markdown",
   "metadata": {},
   "source": [
    "```tf.keras.layers.Conv1D```는 1차원 입력 데이터에 대해 합성곱(convolution) 연산을 수행하는 케라스(Keras) 레이어입니다.   \n",
    "이 레이어는 주로 시계열 데이터나 자연어 처리(NLP) 분야에서 사용됩니다."
   ]
  },
  {
   "cell_type": "markdown",
   "metadata": {},
   "source": [
    "Conv1D 레이어는 입력으로 3D 텐서를 받습니다. 이 텐서는 (batch_size, sequence_length, input_dim)의 형태를 가지며, 각각의 차원은 다음과 같습니다:\n",
    "\n",
    "> batch_size: 한 번에 처리할 데이터 샘플의 개수  \n",
    "> sequence_length(time_steps): 입력 시퀀스(time)의 길이  \n",
    "> input_dim(feature): 입력 시퀀스의 특성수 (예: 단어 임베딩 벡터의 차원)  "
   ]
  },
  {
   "cell_type": "markdown",
   "metadata": {},
   "source": [
    "Conv1D 레이어는 다음과 같은 매개변수를 가집니다:\n",
    "\n",
    ">filters: 필터의 수 (즉, 출력 채널의 수)  \n",
    ">kernel_size: 필터의 크기  \n",
    ">strides: 필터를 이동시키는 간격 (기본값은 1)  \n",
    ">padding: 경계 처리 방법 (기본값은 'valid')  \n",
    ">activation: 활성화 함수 (기본값은 None)  \n",
    "\n",
    ">use_bias: 바이어스 벡터를 사용할지 여부를 결정합니다.  \n",
    ">kernel_initializer: kernel 가중치 행렬을 초기화하는 데 사용되는 방법입니다.  \n",
    ">bias_initializer: 바이어스 벡터를 초기화하는 데 사용되는 방법입니다.  \n",
    ">kernel_regularizer: 커널 가중치 행렬에 적용되는 규제 함수입니다.  \n",
    ">bias_regularizer: 바이어스 벡터에 적용되는 규제 함수입니다.  \n",
    ">activity_regularizer: 레이어 출력에 적용되는 규제 함수입니다.  \n",
    ">kernel_constraint: 커널 가중치에 적용되는 제약 함수입니다.  \n",
    ">bias_constraint: 바이어스 벡터에 적용되는 제약 함수입니다.`  "
   ]
  },
  {
   "cell_type": "code",
   "execution_count": 11,
   "metadata": {},
   "outputs": [
    {
     "name": "stdout",
     "output_type": "stream",
     "text": [
      "(1000, 98, 32)\n"
     ]
    }
   ],
   "source": [
    "# 사용 예\n",
    "\n",
    "import tensorflow as tf\n",
    "\n",
    "x = np.random.randn(1000, 100, 1)\n",
    "y = tf.keras.layers.Conv1D(32, 3, activation = 'relu', input_shape=(100, 1))(x)\n",
    "print(y.shape)"
   ]
  },
  {
   "cell_type": "code",
   "execution_count": 12,
   "metadata": {},
   "outputs": [
    {
     "name": "stdout",
     "output_type": "stream",
     "text": [
      "(1000, 96, 32)\n"
     ]
    }
   ],
   "source": [
    "y2 = tf.keras.layers.Conv1D(32, 3, activation='relu')(y)\n",
    "print(y2.shape)"
   ]
  },
  {
   "cell_type": "markdown",
   "metadata": {},
   "source": [
    "출력 차원 계산 방법  \n",
    "\n",
    ">filters: 필터의 개수, 즉 출력 공간의 차원 수.  \n",
    ">kernel_size: 필터의 크기. 예를 들어, 3의 경우, 3개의 연속된 입력 값에 대해 필터가 적용됩니다.  \n",
    ">padding: 'same' 또는 'valid' 중 하나. 'same'의 경우, 출력 크기가 입력과 동일하도록 입력에 패딩이 추가됩니다.  \n",
    ">strides: 필터의 이동 크기. 예를 들어, 1의 경우, 필터가 한 번에 한 칸씩 이동합니다.  "
   ]
  },
  {
   "cell_type": "code",
   "execution_count": null,
   "metadata": {},
   "outputs": [],
   "source": [
    "# padding = 'valid' 의 경우 \n",
    "# output = (time_steps - kernel_size + 1) / strides\n",
    "\n",
    "# padding = 'same' 의 경우\n",
    "# output = ceil(time_steps / strides)\n",
    "\n",
    "# 출력의 크기는 (batch_size, output, filters)"
   ]
  },
  {
   "cell_type": "code",
   "execution_count": 94,
   "metadata": {},
   "outputs": [
    {
     "data": {
      "text/plain": [
       "array([[[4, 3],\n",
       "        [9, 3],\n",
       "        [3, 2]],\n",
       "\n",
       "       [[3, 9],\n",
       "        [0, 1],\n",
       "        [5, 6]],\n",
       "\n",
       "       [[2, 8],\n",
       "        [1, 8],\n",
       "        [8, 8]]])"
      ]
     },
     "execution_count": 94,
     "metadata": {},
     "output_type": "execute_result"
    }
   ],
   "source": [
    "np.random.randint(0,10, size = (3,3,2))"
   ]
  },
  {
   "cell_type": "code",
   "execution_count": 96,
   "metadata": {},
   "outputs": [
    {
     "name": "stdout",
     "output_type": "stream",
     "text": [
      "tf.Tensor(\n",
      "[[[6. 9. 4.]\n",
      "  [0. 9. 9.]\n",
      "  [0. 2. 3.]\n",
      "  ...\n",
      "  [6. 1. 3.]\n",
      "  [3. 1. 9.]\n",
      "  [7. 7. 9.]]\n",
      "\n",
      " [[8. 4. 7.]\n",
      "  [2. 6. 5.]\n",
      "  [3. 8. 5.]\n",
      "  ...\n",
      "  [4. 2. 2.]\n",
      "  [1. 7. 3.]\n",
      "  [0. 9. 3.]]\n",
      "\n",
      " [[5. 1. 1.]\n",
      "  [2. 6. 2.]\n",
      "  [2. 0. 5.]\n",
      "  ...\n",
      "  [8. 0. 9.]\n",
      "  [0. 8. 9.]\n",
      "  [1. 3. 6.]]\n",
      "\n",
      " ...\n",
      "\n",
      " [[2. 1. 5.]\n",
      "  [5. 8. 5.]\n",
      "  [5. 3. 6.]\n",
      "  ...\n",
      "  [6. 3. 0.]\n",
      "  [1. 8. 8.]\n",
      "  [9. 7. 3.]]\n",
      "\n",
      " [[4. 3. 7.]\n",
      "  [7. 2. 3.]\n",
      "  [0. 7. 4.]\n",
      "  ...\n",
      "  [5. 3. 2.]\n",
      "  [6. 8. 3.]\n",
      "  [8. 0. 4.]]\n",
      "\n",
      " [[4. 2. 1.]\n",
      "  [6. 5. 0.]\n",
      "  [3. 4. 7.]\n",
      "  ...\n",
      "  [8. 9. 4.]\n",
      "  [1. 4. 2.]\n",
      "  [3. 6. 4.]]], shape=(100, 32, 3), dtype=float32)\n",
      "Filters:\n",
      "[[[-0.39334732]\n",
      "  [-0.8473252 ]\n",
      "  [-0.52744555]]\n",
      "\n",
      " [[-0.3736507 ]\n",
      "  [-0.54628056]\n",
      "  [ 0.6362956 ]]]\n"
     ]
    },
    {
     "data": {
      "text/plain": [
       "<tf.Tensor: shape=(100, 31, 1), dtype=float32, numpy=\n",
       "array([[[-11.285659 ],\n",
       "        [-11.556611 ],\n",
       "        [ -7.067718 ],\n",
       "        ...,\n",
       "        [ -7.02203  ],\n",
       "        [ -0.7303178],\n",
       "        [ -7.487236 ]],\n",
       "\n",
       "       [[-11.071705 ],\n",
       "        [-10.817591 ],\n",
       "        [-17.491657 ],\n",
       "        ...,\n",
       "        [ -7.4184585],\n",
       "        [ -6.611658 ],\n",
       "        [-10.914598 ]],\n",
       "\n",
       "       [[ -6.0939007],\n",
       "        [ -4.49136  ],\n",
       "        [-10.409721 ],\n",
       "        ...,\n",
       "        [-11.065825 ],\n",
       "        [ -6.5373726],\n",
       "        [ -9.72033  ]],\n",
       "\n",
       "       ...,\n",
       "\n",
       "       [[ -7.3282676],\n",
       "        [-11.071888 ],\n",
       "        [-11.89939  ],\n",
       "        ...,\n",
       "        [-14.559032 ],\n",
       "        [ -4.555589 ],\n",
       "        [-16.669447 ]],\n",
       "\n",
       "       [[ -9.606712 ],\n",
       "        [ -7.3092003],\n",
       "        [-14.591584 ],\n",
       "        ...,\n",
       "        [-10.487018 ],\n",
       "        [-10.266865 ],\n",
       "        [-11.165046 ]],\n",
       "\n",
       "       [[ -8.768792 ],\n",
       "        [ -5.448715 ],\n",
       "        [-11.491111 ],\n",
       "        ...,\n",
       "        [-14.210086 ],\n",
       "        [-14.168669 ],\n",
       "        [ -6.6909924]]], dtype=float32)>"
      ]
     },
     "execution_count": 96,
     "metadata": {},
     "output_type": "execute_result"
    }
   ],
   "source": [
    "# input size, filter size, output size의 관계\n",
    "\n",
    "# Conv1D 레이어 생성\n",
    "conv1d_layer = tf.keras.layers.Conv1D(1, 2, input_shape=(3, 2))\n",
    "\n",
    "# 더미 입력을 사용하여 레이어를 호출하여 모델을 빌드\n",
    "dummy_input = tf.constant(np.random.randint(0,10, size=(100,32,3)), dtype=float)\n",
    "print(dummy_input)\n",
    "dummy_output = conv1d_layer(dummy_input)\n",
    "\n",
    "# 레이어의 가중치를 가져오기\n",
    "filters, biases = conv1d_layer.get_weights()\n",
    "\n",
    "print(\"Filters:\")\n",
    "print(filters)\n",
    "#print(biases)\n",
    "\n",
    "dummy_output"
   ]
  },
  {
   "cell_type": "markdown",
   "metadata": {},
   "source": [
    "## MaxPooling1D\n",
    "\n",
    "* 이 레이어는 1D 데이터 (시계열 데이터 또는 한 줄의 문자열과 같은 데이터)에서 최대 풀링(Max Pooling) 연산을 수행합니다.\n",
    "* ```tf.keras.layers.polling.Maxpolling1D=(tf.keras.layer.MaxPool1D)``` 레이어는 입력 데이터에서 일정한 간격으로 구역을 나누고 각 구역에서 가장 큰 값을 선택하여 출력 데이터를 생성\n",
    "* 입력 데이터의 크기를 줄이고, 필터링 된 데이터의 중요한 특징을 추출"
   ]
  },
  {
   "cell_type": "markdown",
   "metadata": {},
   "source": [
    "```\n",
    "tf.keras.layers.MaxPool1D(\n",
    "    pool_size = 2,\n",
    "    strides = None,\n",
    "    padding = 'valid',\n",
    "    data_format = 'channels_last'\n",
    "    **kwargs\n",
    ")\n",
    "```"
   ]
  },
  {
   "cell_type": "code",
   "execution_count": 1,
   "metadata": {},
   "outputs": [
    {
     "data": {
      "text/plain": [
       "TensorShape([100, 16, 3])"
      ]
     },
     "execution_count": 1,
     "metadata": {},
     "output_type": "execute_result"
    }
   ],
   "source": [
    "import tensorflow as tf\n",
    "import numpy as np\n",
    "\n",
    "x = np.random.randn(100, 32, 3) #(batch_size, D_in, filter_s)\n",
    "y = tf.keras.layers.MaxPooling1D(pool_size=2, padding='valid')(x)\n",
    "y.shape"
   ]
  },
  {
   "cell_type": "code",
   "execution_count": 27,
   "metadata": {},
   "outputs": [
    {
     "name": "stdout",
     "output_type": "stream",
     "text": [
      "(100, 17, 10)\n",
      "(100, 5, 10)\n",
      "(100, 4, 10)\n"
     ]
    }
   ],
   "source": [
    "import tensorflow as tf\n",
    "import numpy as np\n",
    "\n",
    "x = np.random.randn(100, 32, 3)\n",
    "y1 = tf.keras.layers.Conv1D(10, 16, activation='relu', input_shape=(32, 3))(x)\n",
    "print(y1.shape)\n",
    "y2 = tf.keras.layers.MaxPooling1D(3)(y1)\n",
    "print(y2.shape)\n",
    "\n",
    "y3 = tf.keras.layers.MaxPool1D(4)(y1)\n",
    "print(y3.shape)\n",
    "# output filter_size 가 0이 되면 오류 발생\n",
    "# 여기서는 오류가 발생하지 않지만 암튼 안됨"
   ]
  },
  {
   "cell_type": "markdown",
   "metadata": {},
   "source": [
    "## Flatten\n",
    "\n",
    "* ```tf.keras.Flatten```은 입력 데이터를 1차원으로 평탄화 함\n",
    "* 입력 데이터의 형태를 변경하지 않고 1D 벡터로 변환, Flatten()레이어는 학습 가능한 가중치를 갖지 않는다"
   ]
  },
  {
   "cell_type": "code",
   "execution_count": 107,
   "metadata": {},
   "outputs": [
    {
     "name": "stdout",
     "output_type": "stream",
     "text": [
      "(None, 98, 32)\n",
      "(None, 49, 32)\n",
      "(None, 1568)\n"
     ]
    }
   ],
   "source": [
    "model = tf.keras.Sequential()\n",
    "model.add(tf.keras.layers.Conv1D(32, 3, input_shape = (100, 1)))\n",
    "print(model.output_shape)\n",
    "model.add(tf.keras.layers.MaxPooling1D(2))\n",
    "print(model.output_shape)\n",
    "model.add(Flatten())\n",
    "print(model.output_shape)"
   ]
  },
  {
   "cell_type": "markdown",
   "metadata": {},
   "source": [
    "## Dense\n",
    "\n",
    "* Affine 계층이라고도 부름  \n",
    "  \n",
    "* Dense는 딥러닝에서 가장 기본적인 구성 요소 중 하나인 fully connected layer를 구현한 클래스\n",
    "* Dense 레이어는 입력 뉴련과 출력 뉴런이 모두 연결되어 있는 구조\n",
    "  \n",
    "* 입력 벡터와 가중치 행렬의 곱셈에 편향을 더하여 활성화 함수를 거친 출력 값을 계산\n",
    "* 일반적으로 ReLU, sigmoid, tanh등이 사용됩니다\n",
    "  \n",
    "* 이미지 분류 문제에서는 Flatten 레이어로 이미지를 일차원 벡터로 변환한 후에 Dense 레이어를 추가하여 출력 클래스에 대한 확률값을 계산"
   ]
  },
  {
   "cell_type": "code",
   "execution_count": 111,
   "metadata": {},
   "outputs": [
    {
     "data": {
      "text/plain": [
       "(None, 10)"
      ]
     },
     "execution_count": 111,
     "metadata": {},
     "output_type": "execute_result"
    }
   ],
   "source": [
    "from keras.layers import Dense\n",
    "from keras.models import Sequential\n",
    "\n",
    "model = Sequential([\n",
    "    Dense(units=64, activation='relu', input_shape=(100,)),\n",
    "    Dense(units=10, activation='softmax')\n",
    "])\n",
    "model.output_shape"
   ]
  },
  {
   "cell_type": "markdown",
   "metadata": {},
   "source": [
    "activation 함수의 종류\n",
    "\n",
    ">linear : 입력과 동일한 값을 출력합니다.  \n",
    ">sigmoid : 시그모이드 함수를 사용하여 출력값을 0과 1 사이의 값으로 변환합니다. 이진 분류 모델에서 출력층에 많이 사용됩니다.  \n",
    ">tanh : 하이퍼볼릭 탄젠트 함수를 사용하여 출력값을 -1과 1 사이의 값으로 변환합니다. 은닉층에 많이 사용됩니다.  \n",
    ">relu : ReLU(Rectified Linear Unit) 함수를 사용하여 출력값을 0 이상의 값으로 변환합니다. 은닉층에 많이 사용됩니다.  \n",
    ">softmax : softmax 함수를 사용하여 출력값을 다중 클래스 분류에 적합한 확률 값으로 변환합니다. 다중 클래스 분류 모델에서 출력층에 많이 사용됩니다.  \n",
    ">selu : SELU(Scaled Exponential Linear Unit) 함수를 사용하여 출력값을 0과 1 사이로 스케일링합니다. 자기 정규화(Self-Normalizing) 효과로 인해 딥러닝 모델의 성능을 향상시킬 수 있습니다.  \n",
    ">이 외에도 다양한 activation 함수가 존재합니다. 필요에 따라서 다른 activation 함수를 사용할 수도 있습니다."
   ]
  },
  {
   "cell_type": "markdown",
   "metadata": {},
   "source": [
    "## .compile()\n",
    "\n",
    "* 케라스의 compile() 함수는 모델을 컴파일하는 함수입니다\n",
    "* compile() 함수의 주요 인자\n",
    ">optimizer: 최적화 방법을 설정합니다. 경사 하강법 등 다양한 최적화 알고리즘이 존재합니다.  \n",
    ">loss: 손실 함수를 설정합니다. 모델이 예측한 값과 실제 값 사이의 차이를 계산하는 함수입니다.  \n",
    ">metrics: 평가 지표를 설정합니다. 학습 중 모델의 성능을 평가할 때 사용됩니다. 정확도(Accuracy), 정밀도(Precision), 재현율(Recall), F1 점수 등이 있습니다.  "
   ]
  },
  {
   "cell_type": "code",
   "execution_count": null,
   "metadata": {},
   "outputs": [],
   "source": [
    "from keras.models import Sequential\n",
    "from keras.layers import Dense\n",
    "\n",
    "model = Sequential()\n",
    "model.add(Dense(units=64, activation='relu', input_shape=(100,)))\n",
    "model.add(Dense(units=32, activation='relu'))\n",
    "model.add(Dense(units=1, activation='sigmoid'))\n",
    "\n",
    "model.compile(optimizer='adam', loss='binary_crossentropy', metrics=['accuracy'])\n"
   ]
  },
  {
   "cell_type": "markdown",
   "metadata": {},
   "source": [
    "keras compile 옵션\n",
    "  \n",
    "* optimizer: 최적화 알고리즘을 설정합니다. SGD, RMSprop, Adagrad, Adadelta, Adam 등 다양한 최적화 알고리즘이 제공됩니다.\n",
    ">>SGD : 확률적 경사 하강법(Stochastic Gradient Descent)으로, 가장 기본적인 최적화 알고리즘입니다.  \n",
    ">>RMSprop : RMS(Root Mean Square) 값을 이용하여 최적화하는 알고리즘입니다.  \n",
    ">>Adagrad : 학습률을 개별 매개변수에 적응적으로 조정하는 방식의 최적화 알고리즘입니다.  \n",
    ">>Adadelta : Adagrad의 학습률 감소 버전으로, 학습률이 지속적으로 감소하며 학습률 조정에 대한 hyperparameter를 더욱 간단하게 설정할 수 있습니다.  \n",
    ">>Adam : 학습률을 자동으로 조정하는 알고리즘으로, 현재 가장 많이 사용되는 최적화 알고리즘 중 하나입니다.  \n",
    "\n",
    "* loss: 손실 함수를 설정합니다. 손실 함수는 모델의 예측값과 실제값의 차이를 계산합니다. 이 차이가 작을수록 모델이 좋은 성능을 보이게 됩니다. 회귀 문제에서는 mean_squared_error, 분류 문제에서는 categorical_crossentropy 또는 binary_crossentropy 등이 주로 사용됩니다.\n",
    "\n",
    "* metrics: 평가 지표를 설정합니다. 모델의 성능을 평가할 때 사용됩니다. 회귀 문제에서는 mse, 분류 문제에서는 accuracy, precision, recall, f1-score 등이 사용됩니다.\n",
    "\n",
    "* loss_weights: 손실 함수에 대한 가중치를 설정합니다. 일반적으로 다중 손실 함수 모델에서 사용됩니다.\n",
    "\n",
    "* weighted_metrics: 샘플 가중치를 고려한 평가 지표를 설정합니다.\n",
    "\n",
    "* sample_weight_mode: 샘플 가중치를 적용하는 방법을 설정합니다.\n",
    "\n",
    "* target_tensors: 모델의 출력 대상을 설정합니다."
   ]
  },
  {
   "cell_type": "markdown",
   "metadata": {},
   "source": [
    "## losses\n",
    "\n",
    "* 케라스에서 losses는 모델을 학습할때 사용되는 손실 함수를 의미\n",
    "* 학습은 손실 함수를 최소화하는 방향으로 진행됨\n",
    "\n",
    "loss의 종류\n",
    ">mean_squared_error: 회귀 문제에서 가장 일반적으로 사용되는 손실 함수입니다. 예측 값과 실제 값 사이의 평균 제곱 오차를 계산합니다.  \n",
    ">mean_absolute_error: 회귀 문제에서 사용되는 손실 함수로, 예측 값과 실제 값 사이의 평균 절대 오차를 계산합니다.  \n",
    ">binary_crossentropy: 이진 분류 문제에서 사용되는 손실 함수입니다. 정답이 0 또는 1인 이진 분류 문제에서 사용됩니다.  \n",
    ">categorical_crossentropy: 다중 클래스 분류 문제에서 사용되는 손실 함수입니다. 각 클래스의 확률 분포와 실제 값 간의 크로스 엔트로피를 계산하여 손실 값을 구합니다.  \n",
    ">sparse_categorical_crossentropy: 다중 클래스 분류 문제에서 사용되는 손실 함수입니다. 정답 레이블을 one-hot encoding으로 변환하지 않고, 정수 값으로 사용하는 경우에 적합합니다.  \n",
    ">binary_hinge: 이진 분류 문제에서 사용되는 손실 함수입니다. margin-based loss function으로, SVM에서 사용되는 hinge loss와 유사합니다.  \n",
    ">categorical_hinge: 다중 클래스 분류 문제에서 사용되는 손실 함수입니다. margin-based loss function으로, SVM에서 사용되는 hinge loss와 유사합니다.  \n",
    "\n"
   ]
  },
  {
   "cell_type": "markdown",
   "metadata": {},
   "source": [
    "## optimizers\n",
    "\n",
    "* 케라스에서 제공하는 optimizer의 종류와 주요 인자에 대한 설명"
   ]
  },
  {
   "cell_type": "markdown",
   "metadata": {},
   "source": [
    "SGD(Stochastic Gradient Descent)\n",
    "* 가장 기본적인 최적화 알고리즘, 미분 가능한 함수에서 기울기를 계산하여 가중치를 업데이트\n",
    "\n",
    "```keras.optimizers.SGD(learning_rate=0.01, momentum = 0.0)```"
   ]
  },
  {
   "cell_type": "markdown",
   "metadata": {},
   "source": [
    "RMSprop(Root Mean Squared Propagation)\n",
    "* SGD의 단점중 하나인 학습률을 설정하기 어려운 문제를 해결하기 위해 고안된 알고리즘, 기울기 제곱의 이동평균 값을 구하여 학습률을 조잘함  \n",
    "\n",
    "```keras.optimizers.RMSprop(learning_rate=0.001, rho=0.9, momentum=0.0)```"
   ]
  },
  {
   "cell_type": "markdown",
   "metadata": {},
   "source": [
    "Adagrad(Adaptive Gradient Algorithm)\n",
    "* 학습을 진행할수록 학습률을 낮추는 방식으로 가중치를 업데이트하는 알고리즘입니다. 자주 등장하는 피처들의 가중치는 작아지고, 드물게 등장하는 피처들은 크게 업데이트됩니다.\n",
    "\n",
    "```keras.optimizers.Adagrad(learning_rate=0.001)```"
   ]
  },
  {
   "cell_type": "markdown",
   "metadata": {},
   "source": [
    "Adam(Adaptive Moment Estimation)\n",
    "* RMSprop과 모멘텀을 결합하여 만든 최적화 알고리즘입니다. 기울기 제곱과 모멘텀의 이동평균 값을 계산하여 학습률을 조절합니다.\n",
    "\n",
    "```keras.optimizers.Adam(learning_rate=0.001, beta_1=0.9, beta_2=0.999)```"
   ]
  },
  {
   "cell_type": "markdown",
   "metadata": {},
   "source": [
    "## 평가 지표\n",
    "\n",
    "accuracy: 분류 문제에서 많이 사용되는 평가 지표입니다. 모델의 예측값과 실제값이 일치하는 비율을 계산합니다.\n",
    "\n",
    "binary_accuracy: 이진 분류 문제에서 사용되는 평가 지표입니다. 모델의 예측값과 실제값이 일치하는 비율을 계산합니다.\n",
    "\n",
    "categorical_accuracy: 다중 클래스 분류 문제에서 사용되는 평가 지표입니다. 모델의 예측값과 실제값이 일치하는 비율을 계산합니다.\n",
    "\n",
    "sparse_categorical_accuracy: 정수 형태의 레이블을 사용하는 다중 클래스 분류 문제에서 사용되는 평가 지표입니다. 모델의 예측값과 실제값이 일치하는 비율을 계산합니다.\n",
    "\n",
    "top_k_categorical_accuracy: 다중 클래스 분류 문제에서 사용되는 평가 지표입니다. 상위 K개의 클래스 중에 실제 클래스가 포함되어 있는 경우를 계산합니다.\n",
    "\n",
    "sparse_top_k_categorical_accuracy: 정수 형태의 레이블을 사용하는 다중 클래스 분류 문제에서 사용되는 평가 지표입니다. 상위 K개의 클래스 중에 실제 클래스가 포함되어 있는 경우를 계산합니다.\n",
    "\n",
    "mean_squared_error: 회귀 문제에서 사용되는 평가 지표입니다. 모델의 예측값과 실제값의 제곱 오차를 계산합니다.\n",
    "\n",
    "mean_absolute_error: 회귀 문제에서 사용되는 평가 지표입니다. 모델의 예측값과 실제값의 절대 오차를 계산합니다.\n",
    "\n",
    "mean_absolute_percentage_error: 회귀 문제에서 사용되는 평가 지표입니다. 모델의 예측값과 실제값의 오차 비율을 계산합니다.\n",
    "\n",
    "mean_squared_logarithmic_error: 회귀 문제에서 사용되는 평가 지표입니다. 모델의 예측값과 실제값의 로그값의 차이를 계산합니다.\n",
    "\n",
    "cosine_similarity: 유사성 비교에서 사용되는 평가 지표입니다. 두 벡터 간의 코사인 유사도를 계산합니다.\n",
    "\n",
    "평가 지표를 적절하게 선택하여 모델의 성능을 평가할 수 있습니다."
   ]
  },
  {
   "cell_type": "markdown",
   "metadata": {},
   "source": [
    "## .fit()\n",
    "\n",
    "케라스에서 fit() 함수는 모델을 학습시키는 함수입니다. fit() 함수는 입력 데이터와 정답 데이터를 모델에 입력하여 모델의 가중치(weight)를 업데이트합니다.\n",
    "\n",
    "fit() 함수는 다음과 같은 매개변수를 받습니다.\n",
    "\n",
    "x: 모델의 입력 데이터를 나타내는 Numpy 배열 또는 Numpy 배열의 리스트\n",
    "\n",
    "y: 모델의 정답 데이터를 나타내는 Numpy 배열 또는 Numpy 배열의 리스트\n",
    "\n",
    "batch_size: 한 번에 처리되는 샘플의 수를 나타내는 정수 값. 기본값은 32입니다.\n",
    "\n",
    "epochs: 모델이 학습할 총 횟수를 나타내는 정수 값. 기본값은 1입니다.\n",
    "\n",
    "verbose: 학습 과정을 어떻게 출력할 것인지를 결정하는 값. 0, 1, 2 중 하나의 값을 가질 수 있으며, 0일 경우 출력이 없고, 1일 경우 진행 막대(progress bar)가 표시되고, 2일 경우 에포크마다 한 줄씩 출력됩니다. 기본값은 1입니다.\n",
    "\n",
    "validation_data: 검증용 데이터를 나타내는 튜플. (x_val, y_val) 형태로 입력하며, 기본값은 None입니다.\n",
    "\n",
    "callbacks : 훈련 중에 호출되는 콜백 함수의 리스트를 지정하는 인수입니다. 콜백(callback) 함수는 훈련 중간에 모델의 상태를 확인하거나, 모델의 가중치를 저장하는 등의 역할을 수행할 수 있습니다.\n",
    "\n",
    "shuffle: 샘플을 학습할 때마다 데이터를 무작위로 섞을지 여부를 결정하는 값. 기본값은 True입니다.\n",
    "\n",
    "위의 인자들이 기본적으로 많이 쓰이고 다음의 인자들도 유용하게 쓰입니다.\n",
    "\n",
    ">---\n",
    "sample_weight: 샘플 가중치입니다. 이 가중치는 각 샘플이 학습에서 차지하는 비중을 결정합니다. 예를 들어, 어떤 데이터셋에서 특정 클래스의 샘플을 더 중요하게 다루고 싶다면 해당 클래스의 샘플에 높은 가중치를 주어 학습에 더 큰 영향을 미치도록 할 수 있습니다.기본값: None\n",
    "initial_epoch: 학습을 시작할 에포크 번호입니다. 이 인자를 사용하면 이전에 학습한 모델을 불러와서 이어서 학습을 수행할 수 있습니다. 기본값: 0\n",
    "validation_split: 검증 데이터셋의 비율을 나타내는 실수값입니다. 예를 들어, 전체 데이터셋 중 20%를 검증 데이터셋으로 사용하려면 validation_split 값을 0.2로 설정합니다. 기본값: 0.0\n",
    "validation_steps: 검증 데이터셋에서 몇 개의 배치를 사용할 것인지를 지정합니다.예를 들어, 검증 데이터셋을 전체적으로 사용하는 것보다 일부 배치만 사용하는 것이 더 효율적일 경우 validation_steps 값을 적절하게 설정합니다. 이 값이 지정되면 validation_data에 지정된 데이터셋의 일부만 사용합니다. 기본값: None\n",
    "class_weight: 각 클래스에 대한 가중치를 지정합니다. 이 가중치는 클래스 불균형 문제를 해결하는 데 사용됩니다. 기본값: None\n",
    "max_queue_size: 데이터를 전처리하거나 생성하는 데 사용되는 프로세스의 최대 큐 크기입니다. 기본값: 10\n",
    "workers: 데이터를 전처리하거나 생성하는 데 사용되는 프로세스의 수입니다. 기본값: 1\n",
    "use_multiprocessing: 멀티프로세싱을 사용하여 데이터를 전처리하거나 생성하는지 여부를 결정합니다. 기본값: False\n",
    "steps_per_execution: GPU나 TPU를 사용하는 경우, 한 번 실행에 처리할 배치 수를 지정합니다. 기본값: 1\n",
    "fit() 함수는 모델 학습을 시작하고, 각 에포크(epoch)마다 손실(loss)과 평가지표(metric)를 계산합니다. 이후에는 검증용 데이터에 대한 손실과 평가지표도 계산합니다. fit() 함수가 반환하는 객체는 학습 과정에서 발생한 정보들을 담은 History 객체입니다. 이 객체를 사용하여 학습 과정에서 발생한 손실 값과 평가지표 값의 변화를 그래프로 나타내거나, 학습 과정에서 최적의 모델을 저장할 수 있습니다."
   ]
  },
  {
   "cell_type": "markdown",
   "metadata": {},
   "source": [
    "## 반환하는 객체 history\n",
    "\n",
    "model.fit() 메서드는 모델을 훈련시키는 동안 발생한 모든 정보를 담은 History 객체를 반환\n",
    "\n",
    "> ```history = model.fit(x_train, y_train, epochs=10, validation_data=(x_val, y_val))```\n",
    "\n",
    "> history.history는 딕셔너리 형태로 구성됨"
   ]
  },
  {
   "cell_type": "markdown",
   "metadata": {},
   "source": [
    "history 객체를 이용해서 loss를 시각화하는 방법 예시\n",
    "```python\n",
    "import matplotlib.pyplot as plt\n",
    "\n",
    "# 모델 훈련\n",
    "history = model.fit(x_train, y_train, epochs=10, validation_data=(x_val, y_val))\n",
    "\n",
    "# 훈련 손실 그래프\n",
    "plt.plot(history.history['loss'])\n",
    "plt.plot(history.history['val_loss'])\n",
    "plt.title('Model Loss')\n",
    "plt.xlabel('Epoch')\n",
    "plt.ylabel('Loss')\n",
    "plt.legend(['train', 'val'], loc='upper right')\n",
    "plt.show()\n",
    "\n",
    "# 훈련 정확도 그래프\n",
    "plt.plot(history.history['accuracy'])\n",
    "plt.plot(history.history['val_accuracy'])\n",
    "plt.title('Model Accuracy')\n",
    "plt.xlabel('Epoch')\n",
    "plt.ylabel('Accuracy')\n",
    "plt.legend(['train', 'val'], loc='lower right')\n",
    "plt.show()\n",
    "```            "
   ]
  },
  {
   "cell_type": "markdown",
   "metadata": {},
   "source": [
    "## MNIST 연습"
   ]
  },
  {
   "cell_type": "code",
   "execution_count": 115,
   "metadata": {},
   "outputs": [
    {
     "name": "stdout",
     "output_type": "stream",
     "text": [
      "Epoch 1/5\n",
      "750/750 [==============================] - 3s 4ms/step - loss: 0.2990 - accuracy: 0.9179 - val_loss: 0.1187 - val_accuracy: 0.9694\n",
      "Epoch 2/5\n",
      "750/750 [==============================] - 3s 4ms/step - loss: 0.0982 - accuracy: 0.9712 - val_loss: 0.0889 - val_accuracy: 0.9753\n",
      "Epoch 3/5\n",
      "750/750 [==============================] - 3s 4ms/step - loss: 0.0701 - accuracy: 0.9797 - val_loss: 0.0700 - val_accuracy: 0.9812\n",
      "Epoch 4/5\n",
      "750/750 [==============================] - 3s 4ms/step - loss: 0.0574 - accuracy: 0.9835 - val_loss: 0.0676 - val_accuracy: 0.9799\n",
      "Epoch 5/5\n",
      "750/750 [==============================] - 3s 4ms/step - loss: 0.0498 - accuracy: 0.9851 - val_loss: 0.0659 - val_accuracy: 0.9819\n",
      "313/313 [==============================] - 0s 899us/step - loss: 0.0557 - accuracy: 0.9822\n",
      "Test accuracy 0.982200026512146\n"
     ]
    }
   ],
   "source": [
    "import tensorflow as tf\n",
    "from tensorflow import keras\n",
    "\n",
    "# MNIST 데이터셋 로드\n",
    "(X_train, y_train), (X_test, y_test) = keras.datasets.mnist.load_data()\n",
    "\n",
    "# 입력 데이터 전처리\n",
    "X_train = X_train.reshape((60000, 28, 28, 1)) / 255.0\n",
    "X_test = X_test.reshape((10000, 28, 28, 1)) / 255.0\n",
    "\n",
    "# 모델 구성\n",
    "model = keras.Sequential([\n",
    "    keras.layers.Conv2D(32, (3,3), activation = 'relu', input_shape = (28,28,1)),\n",
    "    keras.layers.MaxPooling2D((2,2)),\n",
    "    keras.layers.Flatten(),\n",
    "    keras.layers.Dense(10, activation = 'softmax')\n",
    "])\n",
    "\n",
    "# 모델 컴파일\n",
    "model.compile(optimizer='adam',\n",
    "              loss = 'sparse_categorical_crossentropy',\n",
    "              metrics = ['accuracy'])\n",
    "\n",
    "# 모델 학습\n",
    "history = model.fit(X_train, y_train, epochs=5, batch_size=64, validation_split=0.2)\n",
    "\n",
    "# 모델 평가\n",
    "test_loss, test_acc = model.evaluate(X_test, y_test)\n",
    "print('Test accuracy', test_acc)"
   ]
  },
  {
   "cell_type": "code",
   "execution_count": 116,
   "metadata": {},
   "outputs": [
    {
     "data": {
      "image/png": "[encoded data removed]",
      "text/plain": [
       "<Figure size 640x480 with 1 Axes>"
      ]
     },
     "metadata": {},
     "output_type": "display_data"
    },
    {
     "data": {
      "image/png": "[encoded data removed]",
      "text/plain": [
       "<Figure size 640x480 with 1 Axes>"
      ]
     },
     "metadata": {},
     "output_type": "display_data"
    }
   ],
   "source": [
    "import matplotlib.pyplot as plt\n",
    "\n",
    "# 훈련 손실 그래프\n",
    "plt.plot(history.history['loss'])\n",
    "plt.plot(history.history['val_loss'])\n",
    "plt.title('Model Loss')\n",
    "plt.xlabel('Epoch')\n",
    "plt.ylabel('Loss')\n",
    "plt.legend(['train', 'val'], loc='upper right')\n",
    "plt.show()\n",
    "\n",
    "# 훈련 정확도 그래프\n",
    "plt.plot(history.history['accuracy'])\n",
    "plt.plot(history.history['val_accuracy'])\n",
    "plt.title('Model Accuracy')\n",
    "plt.xlabel('Epoch')\n",
    "plt.ylabel('Accuracy')\n",
    "plt.legend(['train', 'val'], loc='lower right')\n",
    "plt.show()"
   ]
  },
  {
   "cell_type": "markdown",
   "metadata": {},
   "source": [
    "## evaluation()\n",
    "\n",
    "evaluate() 메서드는 학습된 모델을 사용하여 주어진 데이터셋에 대한 손실값과 지정된 평가 지표를 계산\n",
    "* x: 모델에 입력될 데이터를 나타내는 Numpy 배열 또는 배열의 리스트\n",
    "* y: 모델의 출력과 비교할 데이터를 나타내는 Numpy 배열 또는 배열의 리스트\n",
    "* batch_size: 한 번에 처리할 샘플의 개수\n",
    "* verbose: 진행 상황을 출력할지 여부. 0일 경우 출력하지 않고, 1일 경우 진행 상황 바와 함께 출력하며, 2일 경우 진행 상황 바 없이 출력합니다.\n",
    "* sample_weight: 샘플별 가중치를 나타내는 Numpy 배열 또는 배열의 리스트\n",
    "* steps: 평가할 총 샘플 수. None일 경우 x의 길이를 사용합니다.\n",
    "\n",
    "결과값으로 손실값과 평가 지표를 튜플 형태로 반환, 첫번째 지표는 손실값, 두번째 지표는 모델에 지정된 평가 지표에 대한 값\n",
    "* 모델에 지정된 평가 지표에 대한 값은 model.compile() 메서드에서 지정한 metric의 값"
   ]
  },
  {
   "cell_type": "code",
   "execution_count": 144,
   "metadata": {},
   "outputs": [
    {
     "name": "stdout",
     "output_type": "stream",
     "text": [
      "  1/313 [..............................] - ETA: 3s - loss: 0.0419 - accuracy: 0.9688"
     ]
    },
    {
     "name": "stdout",
     "output_type": "stream",
     "text": [
      "313/313 [==============================] - 0s 929us/step - loss: 0.0557 - accuracy: 0.9822\n"
     ]
    },
    {
     "data": {
      "text/plain": [
       "[0.05570954084396362, 0.982200026512146]"
      ]
     },
     "execution_count": 144,
     "metadata": {},
     "output_type": "execute_result"
    }
   ],
   "source": [
    "# 단순 결과값 확인\n",
    "model.evaluate(X_test, y_test)"
   ]
  },
  {
   "cell_type": "markdown",
   "metadata": {},
   "source": [
    "## .prediction()\n",
    "\n",
    "Keras의 predict() 메소드는 모델의 예측 결과를 반환합니다.\n",
    "* x: 모델의 입력 데이터. Numpy 배열 또는 배열의 리스트입니다.\n",
    "* batch_size: 각 예측 단계에서 사용할 배치 크기입니다. 기본값은 32입니다.\n",
    "* verbose: 예측 과정을 출력할지 여부를 결정합니다. 0, 1 또는 2의 값 중 하나입니다. 기본값은 1('auto')입니다.\n",
    "* steps: 예측 단계 수입니다. x가 제공된 경우, steps는 x의 샘플 수를 batch_size로 나눈 값이 됩니다. 기본값은 None입니다.\n",
    "* callbacks: 예측 중에 호출될 콜백 함수의 리스트입니다. 기본값을 사용하여 predict() 메소드를 호출하는 코드는 다음과 같습니다.\n"
   ]
  },
  {
   "cell_type": "code",
   "execution_count": 146,
   "metadata": {},
   "outputs": [
    {
     "name": "stdout",
     "output_type": "stream",
     "text": [
      "  1/313 [..............................] - ETA: 2s"
     ]
    },
    {
     "name": "stdout",
     "output_type": "stream",
     "text": [
      "313/313 [==============================] - 0s 876us/step\n"
     ]
    },
    {
     "data": {
      "text/plain": [
       "array([[1.2499422e-08, 1.8726814e-08, 1.9481240e-06, ..., 9.9992633e-01,\n",
       "        8.6765874e-07, 8.8220331e-06],\n",
       "       [5.3126733e-08, 4.9194051e-07, 9.9998665e-01, ..., 1.3202078e-13,\n",
       "        1.1850505e-06, 1.4862840e-10],\n",
       "       [3.9128252e-05, 9.9682802e-01, 3.9581390e-04, ..., 5.0909910e-04,\n",
       "        9.3008293e-04, 1.0203127e-05],\n",
       "       ...,\n",
       "       [7.7680848e-11, 7.6603017e-09, 4.0118264e-09, ..., 5.8369478e-06,\n",
       "        1.7697592e-05, 4.9289825e-05],\n",
       "       [7.4716041e-08, 4.4996540e-09, 6.6009496e-09, ..., 5.7227001e-09,\n",
       "        4.2504738e-03, 2.3843165e-07],\n",
       "       [2.9393052e-08, 1.5593629e-12, 1.3081464e-05, ..., 9.9997857e-11,\n",
       "        8.0153626e-07, 2.4026919e-11]], dtype=float32)"
      ]
     },
     "execution_count": 146,
     "metadata": {},
     "output_type": "execute_result"
    }
   ],
   "source": [
    "predictions = model.predict(X_test, batch_size=32, verbose=1, steps=None, callbacks=None)"
   ]
  },
  {
   "cell_type": "code",
   "execution_count": 154,
   "metadata": {},
   "outputs": [
    {
     "data": {
      "text/plain": [
       "array([7, 2, 1, ..., 4, 5, 6])"
      ]
     },
     "execution_count": 154,
     "metadata": {},
     "output_type": "execute_result"
    }
   ],
   "source": [
    "np.argmax(predictions, axis=1) #최댓값의 위치를 반환, 이경우에는 정답 라벨이 됨"
   ]
  },
  {
   "cell_type": "markdown",
   "metadata": {},
   "source": [
    "## loss, accuracy 그래프"
   ]
  },
  {
   "cell_type": "code",
   "execution_count": 155,
   "metadata": {},
   "outputs": [
    {
     "data": {
      "text/plain": [
       "<Figure size 640x480 with 0 Axes>"
      ]
     },
     "metadata": {},
     "output_type": "display_data"
    },
    {
     "data": {
      "image/png": "[encoded data removed]",
      "text/plain": [
       "<Figure size 800x300 with 2 Axes>"
      ]
     },
     "metadata": {},
     "output_type": "display_data"
    }
   ],
   "source": [
    "plt.clf()\n",
    "plt.figure(figsize=(8,3))\n",
    "\n",
    "# 훈련 손실 그래프\n",
    "plt.subplot(121)\n",
    "plt.plot(history.history['loss'])\n",
    "plt.plot(history.history['val_loss'])\n",
    "plt.title('Model Loss')\n",
    "plt.xlabel('Epoch')\n",
    "plt.ylabel('Loss')\n",
    "plt.legend(['train', 'val'], loc='upper right')\n",
    "\n",
    "# 훈련 정확도 그래프\n",
    "plt.subplot(122)\n",
    "plt.plot(history.history['accuracy'])\n",
    "plt.plot(history.history['val_accuracy'])\n",
    "plt.title('Model Accuracy')\n",
    "plt.xlabel('Epoch')\n",
    "plt.ylabel('Accuracy')\n",
    "plt.legend(['train', 'val'], loc='lower right')\n",
    "plt.tight_layout()\n",
    "plt.show()\n"
   ]
  },
  {
   "cell_type": "code",
   "execution_count": 159,
   "metadata": {},
   "outputs": [
    {
     "data": {
      "image/png": "[encoded data removed]",
      "text/plain": [
       "<Figure size 640x480 with 2 Axes>"
      ]
     },
     "metadata": {},
     "output_type": "display_data"
    }
   ],
   "source": [
    "import matplotlib.pyplot as plt\n",
    "\n",
    "# 간단한 예시용 loss, accuracy, val_loss, val_accuracy 리스트 생성\n",
    "loss = [1.2, 0.8, 0.6, 0.5, 0.4, 0.3, 0.25, 0.2]\n",
    "accuracy = [0.4, 0.6, 0.7, 0.8, 0.85, 0.9, 0.92, 0.94]\n",
    "val_loss = [1.1, 0.9, 0.8, 0.7, 0.6, 0.5, 0.45, 0.4]\n",
    "val_accuracy = [0.45, 0.55, 0.65, 0.75, 0.8, 0.86, 0.88, 0.9]\n",
    "\n",
    "# epoch 리스트 생성\n",
    "epoch_list = list(range(1, len(loss)+1))\n",
    "\n",
    "# plot 그리기\n",
    "fig, ax1 = plt.subplots()\n",
    "\n",
    "color = 'tab:red'\n",
    "ax1.set_xlabel('Epoch')\n",
    "ax1.set_ylabel('Loss', color=color)\n",
    "ax1.plot(epoch_list, loss, color=color, label='train')\n",
    "ax1.plot(epoch_list, val_loss, linestyle='--', color=color, label='val')\n",
    "ax1.tick_params(axis='y', labelcolor=color)\n",
    "\n",
    "ax2 = ax1.twinx()\n",
    "\n",
    "color = 'tab:blue'\n",
    "ax2.set_ylabel('Accuracy', color=color)\n",
    "ax2.plot(epoch_list, accuracy, color=color, label='train')\n",
    "ax2.plot(epoch_list, val_accuracy, linestyle='--', color=color, label='val')\n",
    "ax2.tick_params(axis='y', labelcolor=color)\n",
    "\n",
    "# 그래프에 legend 추가\n",
    "lines1, labels1 = ax1.get_legend_handles_labels()\n",
    "lines2, labels2 = ax2.get_legend_handles_labels()\n",
    "lines = lines1 + lines2\n",
    "labels = labels1 + labels2\n",
    "ax1.legend(lines, labels, loc='lower right')\n",
    "# ax1, ax2 두가지 범례를 모두 표기위한 방법\n",
    "\n",
    "fig.tight_layout()\n",
    "plt.show()\n"
   ]
  },
  {
   "cell_type": "markdown",
   "metadata": {},
   "source": [
    "## MNIST 심화"
   ]
  },
  {
   "cell_type": "markdown",
   "metadata": {},
   "source": [
    "```ModelCheckpoint```\n",
    "\n",
    "* keras에서 제공하는 콜백중 하나로, 훈련 중에 모델의 가중치를 저장하는 기능을 수행"
   ]
  },
  {
   "cell_type": "code",
   "execution_count": 166,
   "metadata": {},
   "outputs": [
    {
     "name": "stdout",
     "output_type": "stream",
     "text": [
      "Fold : 1\n",
      "Epoch 11: early stopping\n",
      "313/313 [==============================] - 0s 1ms/step\n",
      "loss: 0.0611 accuracy: 0.9801\n",
      "Fold : 2\n",
      "Epoch 6: early stopping\n",
      "313/313 [==============================] - 0s 1ms/step\n",
      "loss: 0.0556 accuracy: 0.9825\n",
      "Fold : 3\n",
      "Epoch 4: early stopping\n",
      "313/313 [==============================] - 0s 1ms/step\n",
      "loss: 0.0537 accuracy: 0.9825\n",
      "Fold : 4\n",
      "Epoch 4: early stopping\n",
      "313/313 [==============================] - 0s 1ms/step\n",
      "loss: 0.0632 accuracy: 0.9804\n",
      "Fold : 5\n",
      "Epoch 4: early stopping\n",
      "313/313 [==============================] - 0s 1ms/step\n",
      "loss: 0.0559 accuracy: 0.9824\n"
     ]
    }
   ],
   "source": [
    "import numpy as np\n",
    "import tensorflow as tf\n",
    "from tensorflow import keras\n",
    "from sklearn.model_selection import KFold\n",
    "from tensorflow.keras.callbacks import ModelCheckpoint, EarlyStopping, CSVLogger\n",
    "import keras.backend as K\n",
    "K.clear_session()\n",
    "\n",
    "# 데이터 로드\n",
    "(X_train, y_train), (X_test, y_test) = keras.datasets.mnist.load_data()\n",
    "\n",
    "# 입력 데이터 전처리\n",
    "X_train = X_train.reshape((60000, 28, 28, 1)) / 255.0\n",
    "X_test = X_test.reshape((10000, 28, 28, 1)) / 255.0\n",
    "\n",
    "# 모델 구성\n",
    "model = keras.Sequential([\n",
    "    keras.layers.Conv2D(32, 3, activation = 'relu', input_shape = (28,28,1)),\n",
    "    keras.layers.MaxPooling2D(2),\n",
    "    keras.layers.Flatten(),\n",
    "    keras.layers.Dense(10, activation = 'softmax')\n",
    "])\n",
    "\n",
    "# 모델 컴파일\n",
    "model.compile(optimizer='adam', \n",
    "              loss = 'sparse_categorical_crossentropy',\n",
    "              metrics = ['accuracy'])\n",
    "\n",
    "# 5-fold cross-validation 적용\n",
    "pred_list = []\n",
    "kfold = KFold(n_splits=5, shuffle=True, random_state=2023)\n",
    "for i, (train_idx, val_idx) in enumerate(kfold.split(X_train)):\n",
    "    print(f'Fold : {i+1}')\n",
    "    \n",
    "    # train set 과 valid set 분리\n",
    "    X_trn, y_trn = X_train[train_idx], y_train[train_idx]\n",
    "    X_val, y_val = X_train[val_idx], y_train[val_idx]\n",
    "    \n",
    "    # 모델 학습\n",
    "    cp = ModelCheckpoint(filepath = f'w_{i+1}.h5', save_best_only=True, save_weights_only = True, verbose=0)\n",
    "    es = EarlyStopping(monitor = 'val_loss', patience = 3, restore_best_weights = False, verbose = 1)\n",
    "    cl = CSVLogger(f'fold_{i+1}.log')\n",
    "    history = model.fit(X_trn, y_trn, epochs=20, batch_size=64,\n",
    "                        validation_data = (X_val, y_val), callbacks=[cp,es,cl],\n",
    "                        workers=-1, verbose=0)\n",
    "    \n",
    "    # 모델 평가\n",
    "    model.load_weights(f'w_{i+1}.h5')\n",
    "    pred = model.predict(X_test)\n",
    "    pred_list.append(pred)\n",
    "    loss, acc = model.evaluate(X_test, y_test, verbose=0)\n",
    "    print(f'loss: {loss:.4f} accuracy: {acc:.4f}')\n",
    "    \n",
    "    "
   ]
  },
  {
   "cell_type": "markdown",
   "metadata": {},
   "source": [
    "## keras.callbacks 모듈\n",
    "\n",
    "keras.callbacks는 keras모델의 학습 과정 중에 호출되는 콜백 함수들을 포함하는 모듈  \n",
    "모델 학습 도중에 지정된 시점에서 호출되어 추가적인 작업을 수행하거나 모델을 조작할 수 있습니다.\n",
    "\n",
    "* ModelCheckpoint : 지정된 간격으로 모델의 가중치를 저장, 저장된 가중치 중에서 최상의 결과를 보인 모델을 선택할 수 있습니다.\n",
    "* EarlyStopping : 모델이 더 이상 개선되지 않을 때 학습을 자동으로 종료, 오버피팅 방지\n",
    "* ReduceLROnPlateau : 검증 손실이 개선되지 않을 때 학습률을 감소시킴, 이를 통해 학습이 더욱 안정적으로 진행될 수 있다.\n",
    "* TensorBoard : 모델의 학습 과정을 시각화하기 위한 TensorBoard 로그를 생성합니다.\n",
    "* CSVLogger : 모델의 학습 과정을 CSV파일로 기록합니다\n",
    "* LearningRateScheduler : 학습률을 동적으로 조정합니다"
   ]
  },
  {
   "cell_type": "markdown",
   "metadata": {},
   "source": [
    "## CSVLogger\n",
    "\n",
    "CSVLogger는 Keras의 콜백(callback) 중 하나로, 모델의 훈련을 할 때, 각 에포크(epoch)의 손실값(loss)과 측정값(metric)을 CSV(Comma-Separated Values) 파일로 로깅(logging)  \n",
    "\n",
    "* filename: 로그를 기록할 파일 이름입니다. 문자열 형식으로 지정합니다. 기본값은 csv_logger.csv입니다.\n",
    "* separator: CSV 파일의 필드 구분 기호입니다. 기본값은 쉼표(',')입니다.\n",
    "* append: 로그 파일을 새로 작성하는 대신 기존 파일에 추가할지 여부를 결정합니다. 기본값은 False입니다.\n",
    "\n",
    "```python\n",
    "# 예시 코드\n",
    "from tensorflow.keras.callbacks import CSVLogger\n",
    "\n",
    "csv_logger = CSVLogger('training.log') # 로그 파일명을 지정합니다.\n",
    "model.fit(x_train, y_train, epochs=10, callbacks=[csv_logger])\n",
    "```"
   ]
  },
  {
   "cell_type": "markdown",
   "metadata": {},
   "source": [
    "## EarlyStopping\n",
    "\n",
    "EarlyStopping은 Keras 콜백 함수 중 하나로, 검증 손실이 더 이상 개선되지 않을 때 학습을 중단시키는 역할을 합니다. 이를 통해 과적합을 방지하고 학습 시간을 단축할 수 있습니다.\n",
    "* monitor: 모니터링할 지표를 선택합니다. 일반적으로 'val_loss'나 'val_acc'를 선택합니다.\n",
    "* min_delta: 개선되었다고 판단할 최소한의 변화량입니다. 이 값보다 작으면 개선이 없는 것으로 간주합니다. 기본값은 0입니다.\n",
    "* patience: 개선이 없다고 판단하기 전에 대기할 에폭 수입니다. 즉, 이 값만큼 검증 손실이 개선되지 않으면 학습을 중단합니다. 기본값은 0입니다.\n",
    "* mode: 모니터링할 지표를 최소화할지 최대화할지 결정합니다. 'min'으로 설정하면 지표를 최소화하고, 'max'로 설정하면 지표를 최대화합니다. 기본값은 'auto'로 지표가 'acc', 'accuracy', 'fmeasure', 'precision', 'recall' 중 하나이면 'max'로 설정하고, 그렇지 않으면 'min'으로 설정합니다.\n",
    "* baseline: 모니터링할 지표의 기준값을 설정합니다. 이 값보다 개선되지 않으면 학습을 중단합니다.\n",
    "* restore_best_weights: 최상의 가중치를 복원할지 여부를 결정합니다. 이 값을 True로 설정하면 학습 중 최상의 검증 손실을 가진 가중치를 복원합니다. 기본값은 False입니다.\n",
    "\n",
    "```python\n",
    "# 예시 코드\n",
    "from keras.callbacks import EarlyStopping\n",
    "\n",
    "early_stopping = EarlyStopping(monitor='val_loss', patience=3)\n",
    "model.fit(x_train, y_train, validation_data=(x_val, y_val), epochs=100, batch_size=32, callbacks=[early_stopping])\n",
    "```\n"
   ]
  },
  {
   "cell_type": "markdown",
   "metadata": {},
   "source": [
    "## ModelCheckpoint\n",
    "\n",
    "ModelCheckpoint는 Keras 모델을 학습하는 동안 일정한 간격으로 모델의 가중치를 저장하고, 최상의 성능을 보인 모델을 선택하는 기능을 제공합니다. 이 기능은 딥러닝 모델 학습의 안정성과 성능 향상을 위해 매우 유용합니다.\n",
    "\n",
    "* filepath : 문자열. 모델 가중치를 저장할 파일 경로입니다. 파일 이름에는 epoch와 val_loss (또는 다른 지표)와 같은 템플릿 인수를 사용할 수 있습니다.\n",
    "    * 보통 .h5확장자로 사용한다 \n",
    "* monitor : 모니터링할 지표를 지정합니다. 기본값은 val_loss입니다.\n",
    "* verbose : 얼마나 자세하게 정보를 표시할지를 제어합니다. 0, 1 또는 2로 설정할 수 있으며, 기본값은 0입니다.\n",
    "* save_best_only : 가장 좋은 성능을 보인 가중치만 저장하려면 True로 설정합니다. 기본값은 False입니다.\n",
    "* save_weights_only : 가중치만 저장하려면 True로 설정합니다. 기본값은 False입니다. False로 설정하면 모델 구조와 가중치를 모두 저장합니다.\n",
    "* mode : 모니터링할 지표의 최소화 또는 최대화를 제어합니다. 'auto', 'min' 또는 'max' 중 하나로 설정할 수 있으며, 기본값은 'auto'입니다.\n",
    "* save_freq : 가중치를 저장할 빈도를 지정합니다. 'epoch' 또는 정수를 입력할 수 있습니다. 'epoch'로 설정하면 각 에포크가 끝날 때마다 가중치를 저장합니다. 정수로 설정하면 해당 빈도로 가중치를 저장합니다. 기본값은 'epoch'입니다.\n",
    "\n",
    "```python\n",
    "from keras.callbacks import ModelCheckpoint\n",
    "\n",
    "# ModelCheckpoint 객체를 생성합니다.\n",
    "checkpoint = ModelCheckpoint(\"weights.h5\", monitor='val_accuracy', verbose=1, save_best_only=True, mode='max', save_weights_only=True)\n",
    "\n",
    "# 모델을 학습합니다. ModelCheckpoint 객체를 콜백으로 전달합니다.\n",
    "model.fit(x_train, y_train, epochs=10, batch_size=128, callbacks=[checkpoint])\n",
    "\n",
    "# 이전에 저장된 모델 가중치를 불러옵니다.\n",
    "model.load_weights(\"weights.h5\")\n",
    "\n",
    "# 이어서 모델을 학습합니다.\n",
    "model.fit(x_train, y_train, epochs=10, batch_size=128, callbacks=[checkpoint])\n",
    "\n",
    "# 모델 학습후 저장\n",
    "model.save('model.h5')\n",
    "\n",
    "# 저장된 모델 로드하기\n",
    "from tensorflow.keras.models import load_model\n",
    "\n",
    "model = load_model('model.h5')\n",
    "```"
   ]
  },
  {
   "cell_type": "markdown",
   "metadata": {},
   "source": [
    "## 모델 저장 및 로드\n",
    "\n",
    "* 모델이 매우 큰 경우 가중치와 모델 아키택쳐로르 별도로 저장하는게 디스크 관리 부분에서 더 좋을수 있다.\n",
    "\n",
    "```python \n",
    "## 모델저장하기\n",
    "# 모델 아키텍처를 JSON 파일로 저장\n",
    "m_j = model.to_json()\n",
    "with open(\"model.json\", \"w\") as f:\n",
    "    f.write(m_j)\n",
    "\n",
    "# 모델 가중치를 HDF5 파일로 저장\n",
    "model.save_weights(\"weights.h5\")\n",
    "\n",
    "## 모델 불러오기\n",
    "from keras.models import model_from_json\n",
    "# 모델 아키텍처 로드\n",
    "with open(\"model.json\", \"r\") as f:\n",
    "    m_j = f.read()\n",
    "loaded_model = model_from_json(m_j)\n",
    "\n",
    "# 모델 가중치 로드\n",
    "loaded_model.load_weights(\"weights.h5\")\n",
    "```"
   ]
  },
  {
   "cell_type": "markdown",
   "metadata": {},
   "source": [
    "## 학습률 조정 함수\n",
    "\n",
    "* LearningRateScheduler와 ReduceLROnPlateau 콜백 함수는 모두 학습률을 조정하는 콜백 함수입니다.\n",
    "\n",
    "* LearningRateScheduler 콜백 함수는 사용자가 지정한 함수에 따라 epoch마다 학습률을 업데이트 합니다. 즉, 사용자가 직접 학습률 감소 전략을 지정해줘야 하며, 학습률 감소 기준도 직접 정해줘야 합니다.\n",
    "\n",
    "* 반면, ReduceLROnPlateau 콜백 함수는 학습률을 자동으로 감소시킵니다. 이 콜백 함수는 모니터링 중인 지표(여기서는 validation loss)에 대한 지정된 조건에 따라 학습률을 동적으로 감소시킵니다. 예를 들어, validation loss가 5 epoch 동안 감소하지 않을 경우 학습률을 감소시키는 방식으로 학습률을 조정합니다.\n",
    "\n",
    "* 즉, LearningRateScheduler 콜백 함수는 사용자가 직접 학습률 감소 전략을 지정해주는 반면, ReduceLROnPlateau 콜백 함수는 모니터링 중인 지표에 대한 조건에 따라 학습률을 동적으로 감소시킵니다.\n",
    "\n"
   ]
  },
  {
   "cell_type": "markdown",
   "metadata": {},
   "source": [
    "### LearningRateScheduler\n",
    "\n",
    "LearningRateScheduler 콜백 함수는 학습률을 동적으로 조정할 수 있도록 해줍니다. 사용자가 지정한 함수에 따라 학습률이 epoch 마다 업데이트 됩니다.\n",
    "\n",
    "```python \n",
    "from tensorflow.keras.callbacks import LearningRateScheduler\n",
    "\n",
    "# 사용자가 지정한 함수\n",
    "def lr_scheduler(epoch):\n",
    "    # 10 epoch 마다 학습률 감소\n",
    "    if epoch % 10 == 0:\n",
    "        return 0.1 * (0.5 ** (epoch//10))\n",
    "    else:\n",
    "        return learning_rate\n",
    "\n",
    "lr_scheduler_callback = LearningRateScheduler(lr_scheduler)\n",
    "\n",
    "model.fit(X_train, y_train, epochs=100, callbacks=[lr_scheduler_callback])\n",
    "\n",
    "\n",
    "```"
   ]
  },
  {
   "cell_type": "markdown",
   "metadata": {},
   "source": [
    "### ReduceLROnPlateau\n",
    "\n",
    "ReduceLROnPlateau는 검증 손실이 개선되지 않을 때 학습률을 동적으로 조정하여 학습을 최적화하는 콜백 함수입니다. 검증 손실이 개선되지 않으면, 학습률을 줄여 더 작은 학습률로 다시 학습을 시도합니다. 이를 통해 모델 학습이 더욱 안정적으로 이루어지고, 수렴에 도움을 줍니다.\n",
    "\n",
    "* monitor: 모니터링할 지표. 기본값은 'val_loss'입니다.\n",
    "* factor: 학습률을 얼마나 감소시킬 것인지를 결정하는 인수입니다. 기본값은 0.1입니다. 예를 들어, factor가 0.5이면, 검증 손실이 개선되지 않을 때 학습률이 절반으로 줄어듭니다.\n",
    "* patience: 검증 손실이 개선되지 않았을 때, 얼마나 많은 epoch를 기다릴 것인지를 결정하는 인수입니다. 기본값은 10입니다. 예를 들어, patience가 5이면, 검증 손실이 5 epoch 동안 개선되지 않으면 학습률을 감소시킵니다.\n",
    "* mode: 모니터링 지표의 개선 여부를 어떻게 판단할 것인지를 결정하는 인수입니다. 기본값은 'auto'입니다. 'min', 'max', 또는 'auto' 중 하나의 값을 사용할 수 있습니다. 'min'인 경우 모니터링 지표가 감소할 때 개선되었다고 판단합니다. 'max'인 경우 모니터링 지표가 증가할 때 개선되었다고 판단합니다. 'auto'인 경우 monitor 매개변수에 따라 적절한 모드가 자동으로 선택됩니다.\n",
    "* min_delta: 개선된 것으로 판단되기 위한 최소한의 변화량을 결정하는 인수입니다. 기본값은 1e-4입니다. 예를 들어, min_delta가 0.5이면, 모니터링 지표가 0.5보다 적게 개선되면 개선된 것으로 판단하지 않습니다.\n",
    "* cooldown: 학습률을 감소시킨 이후 다시 학습을 재개하기까지 기다리는 epoch 수입니다. 기본값은 0입니다.\n",
    "* min_lr: 학습률의 하한을 결정하는 인수입니다. 기본값은 1e-7입니다. 학습률이 min_lr보다 작아지면 학습이 중단됩니다.\n",
    "\n",
    "```python\n",
    "from tensorflow.keras.callbacks import ReduceLROnPlateau\n",
    "\n",
    "reduce_lr = ReduceLROnPlateau(monitor='val_loss', factor=0.2, patience=5, min_lr=1e-6)\n",
    "model.fit(X_train, y_train, validation_data=(X_val, y_val), epochs=100, callbacks=[reduce_lr])\n",
    "```"
   ]
  },
  {
   "cell_type": "markdown",
   "metadata": {},
   "source": [
    "## 모델 평가 분석"
   ]
  },
  {
   "cell_type": "code",
   "execution_count": 169,
   "metadata": {},
   "outputs": [
    {
     "name": "stdout",
     "output_type": "stream",
     "text": [
      "              precision    recall  f1-score   support\n",
      "\n",
      "           0       0.98      0.99      0.98       980\n",
      "           1       0.99      1.00      0.99      1135\n",
      "           2       0.99      0.97      0.98      1032\n",
      "           3       0.97      0.99      0.98      1010\n",
      "           4       0.99      0.98      0.99       982\n",
      "           5       0.98      0.98      0.98       892\n",
      "           6       0.99      0.98      0.98       958\n",
      "           7       0.97      0.98      0.98      1028\n",
      "           8       0.98      0.98      0.98       974\n",
      "           9       0.99      0.96      0.97      1009\n",
      "\n",
      "    accuracy                           0.98     10000\n",
      "   macro avg       0.98      0.98      0.98     10000\n",
      "weighted avg       0.98      0.98      0.98     10000\n",
      "\n"
     ]
    },
    {
     "data": {
      "image/png": "[encoded data removed]",
      "text/plain": [
       "<Figure size 640x480 with 2 Axes>"
      ]
     },
     "metadata": {},
     "output_type": "display_data"
    }
   ],
   "source": [
    "# 위에 MNIST 모델을 먼저 실행해야함\n",
    "\n",
    "from sklearn.metrics import classification_report, confusion_matrix\n",
    "import seaborn as sns\n",
    "import matplotlib.pyplot as plt\n",
    "\n",
    "y_pred = np.argmax(np.array(pred), axis=1)\n",
    "\n",
    "print(classification_report(y_test,y_pred))\n",
    "\n",
    "plt.title(\"Confusion Matix\")\n",
    "cm = confusion_matrix(y_test, y_pred)\n",
    "sns.heatmap(cm, annot=True, center=0, cmap='coolwarm', fmt='g', cbar=True) #annot = True 는 그래프에서 숫자를 출력하게 하는 인자\n",
    "plt.show()"
   ]
  },
  {
   "cell_type": "markdown",
   "metadata": {},
   "source": [
    "# 유용한 케라스 Layers"
   ]
  },
  {
   "cell_type": "markdown",
   "metadata": {},
   "source": [
    "## BatchNormalization\n",
    "\n",
    "BatchNormalization은 딥러닝 모델에서 학습을 안정화하는 데 사용되는 Keras 레이어입니다. BatchNormalization은 일반적으로 합성곱 또는 fully connected layer(완전 연결 층: 케라스에서는 Dense)와 함께 사용되며, 입력 텐서의 각 배치에 대해 정규화를 수행합니다.  \n",
    "  \n",
    "BatchNormalization 레이어의 장점\n",
    "* 그래디언트 소실 문제를 완화합니다.\n",
    "* 모델의 가중치 초기화에 덜 민감합니다.\n",
    "* 상대적으로 큰 학습률 사용으로 학습 속도가 빨라집니다.\n",
    "* 미니 배치 단위로 학습이 수행되므로 미니 배치 단위로 데이터의 분포가 다를 경우 학습을 안정화할 수 있습니다.\n",
    "* 정규화를 통해 과적합(overfitting) 문제를 방지합니다.\n",
    "* BatchNormalization은 입력 데이터에 대해 각 채널마다 평균과 표준 편차를 계산합니다. 그런 다음, 이 평균과 표준 편차를 사용하여 정규화를 수행하고, 스케일링과 이동을 수행하여 결과를 출력합니다. 이러한 연산은 모든 배치에 대해 수행됩니다.\n",
    "  \n",
    "BatchNormalization 매개변수 \n",
    "  \n",
    "* axis: 정규화할 축을 선택합니다. 기본값은 -1입니다.\n",
    "* momentum: 이동 평균의 가중치입니다. 기본값은 0.99입니다.\n",
    "* epsilon: 분모에 추가되는 작은 상수입니다. 기본값은 0.001입니다.\n",
    "* center: 평균을 조정할지 여부를 선택합니다. 기본값은 True입니다.\n",
    "* scale: 분산을 조정할지 여부를 선택합니다. 기본값은 True입니다.\n",
    "* beta_initializer: beta 가중치의 초기값을 설정합니다. 기본값은 'zeros'입니다.\n",
    "* gamma_initializer: gamma 가중치의 초기값을 설정합니다. 기본값은 'ones'입니다.\n",
    "* moving_mean_initializer: 이동 평균의 초기값을 설정합니다. 기본값은 'zeros'입니다.\n",
    "* moving_variance_initializer: 이동 분산의 초기값을 설정합니다. 기본값은 'ones'입니다.\n",
    "* beta_regularizer: beta 가중치에 대한 정규화 함수를 설정합니다. 기본값은 None입니다.\n",
    "* gamma_regularizer: gamma 가중치에 대한 정규화 함수를 설정합니다. 기본값은 None입니다.\n",
    "* beta_constraint: beta 가중치에 대한 제약 조건을 설정합니다. 기본값은 None입니다.\n",
    "* gamma_constraint: gamma 가중치에 대한 제약 조건을 설정합니다. 기본값은 None입니다.\n",
    "* BatchNormalization은 다음과 같은 단점이 있습니다.\n",
    "  \n",
    "BatchNormalization은 각 미니 배치에서 데이터의 평균과 분산을 계산합니다. 이는 모델이 더 일반적인 분포에서 작동하도록 합니다. ```그러나 미니 배치의 크기가 작을 경우 이러한 평균과 분산이 노이즈에 민감하게 반응할 수 있습니다.``` 이러한 경우 모델 성능이 감소할 수 있습니다. 일반적으로 큰 Batch size를 사용하는 것이 권장됩니다.  \n",
    "따라서, BatchNormalization은 모델 성능을 향상시키는 데 유용하지만, 미니 배치의 크기와 모델의 다른 레이어와의 상호작용 등 몇 가지 제한 사항이 있습니다. 이러한 제한 사항을 고려하여 적절한 경우 BatchNormalization을 사용해야 합니다."
   ]
  },
  {
   "cell_type": "markdown",
   "metadata": {},
   "source": [
    "BatchNormalization은 입력 데이터를 정규화(normalize)하고, ```이에 대해 활성화 함수를 적용하기 전에 스케일링(scale) 및 이동(shift)을 수행합니다.``` 이렇게 스케일링 및 이동된 데이터는 활성화 함수의 입력으로 사용됩니다.  \n",
    "  \n",
    "따라서, BatchNormalization은 Activation 레이어 이전에 사용됩니다. 만약 BatchNormalization을 Activation 레이어 이후에 적용한다면, 정규화된 데이터가 활성화 함수에 대해 스케일링 및 이동되기 전에 활성화 함수의 입력으로 사용됩니다. 이는 BatchNormalization을 적용하는 의미가 퇴색되며, 오히려 모델 성능을 떨어뜨릴 수 있습니다."
   ]
  },
  {
   "cell_type": "code",
   "execution_count": null,
   "metadata": {},
   "outputs": [],
   "source": [
    "from keras.models import Sequential\n",
    "from keras.layers import Conv2D, BatchNormalization, Activation, MaxPooling2D, Flatten, Dense\n",
    "\n",
    "model = Sequential()\n",
    "\n",
    "# 첫 번째 합성곱 레이어\n",
    "model.add(Conv2D(32, (3, 3), padding='same', input_shape=(28, 28, 1)))\n",
    "model.add(BatchNormalization())\n",
    "model.add(Activation('relu'))\n",
    "model.add(MaxPooling2D(pool_size=(2, 2)))\n",
    "\n",
    "# 두 번째 합성곱 레이어\n",
    "model.add(Conv2D(64, (3, 3), padding='same'))\n",
    "model.add(BatchNormalization())\n",
    "model.add(Activation('relu'))\n",
    "model.add(MaxPooling2D(pool_size=(2, 2)))\n",
    "\n",
    "model.add(Flatten())\n",
    "\n",
    "# 완전히 연결된 레이어\n",
    "model.add(Dense(512))\n",
    "model.add(BatchNormalization())\n",
    "model.add(Activation('relu'))\n",
    "\n",
    "model.add(Dense(10))\n",
    "model.add(Activation('softmax'))\n"
   ]
  },
  {
   "cell_type": "markdown",
   "metadata": {},
   "source": [
    "## Dropout\n",
    "\n",
    "Dropout은 신경망의 일반화 성능을 개선하기 위해 고안된 regularization 기법 중 하나입니다. 신경망이 학습할 때, Dropout은 무작위로 일부 뉴런을 선택하여 그들의 출력을 0으로 만듭니다. 이는 신경망의 일부 파라미터를 무작위로 삭제하여 과적합을 방지하고, 모델의 일반화 능력을 향상시키는 데 도움이 됩니다.\n",
    "  \n",
    "복잡하고 깊은 신경망일때 사용하는게 좋다\n",
    "\n",
    "```python \n",
    "import tensorflow as tf\n",
    "\n",
    "# 입력 데이터\n",
    "input_data = tf.keras.Input(shape=(100,))\n",
    "\n",
    "# Dropout 레이어 정의\n",
    "dropout = tf.keras.layers.Dropout(0.2) # 드랍아웃 비율은 0.2로 설정\n",
    "\n",
    "# 레이어 적용\n",
    "output_data = dropout(input_data)\n",
    "\n",
    "print(output_data.shape) # 출력: (None, 100)\n",
    "\n",
    "```"
   ]
  },
  {
   "cell_type": "markdown",
   "metadata": {},
   "source": [
    "## GlobalAveragePooling2D\n",
    "\n",
    "* 풀링 연산 레이어중 하나\n",
    "* GlobalAveragePooling2D 레이어는 모델의 파라미터 수를 크게 줄일 수 있어서, 과적합을 방지하고 모델의 일반화 성능을 향상시키는 데 도움이 됩니다. 또한, 이 레이어는 입력의 공간 위치를 무시하고, 전체적인 패턴을 파악하는 데 유용합니다.\n",
    "* 이 레이어는 주로 합성곱 신경망 (Convolutional Neural Networks, CNN)의 출력 또는 다른 2D 특성 맵을 다룰 때 사용됩니다. 일반적으로 CNN은 마지막에 GlobalAveragePooling2D 레이어를 추가하여 출력을 벡터로 변환하고, 이 벡터를 소프트맥스 레이어와 연결하여 클래스 분류를 수행합니다.\n",
    "\n",
    "참고 : https://underflow101.tistory.com/41"
   ]
  },
  {
   "cell_type": "code",
   "execution_count": 170,
   "metadata": {},
   "outputs": [
    {
     "name": "stdout",
     "output_type": "stream",
     "text": [
      "(32, 3)\n"
     ]
    }
   ],
   "source": [
    "import tensorflow as tf\n",
    "\n",
    "x = tf.random.normal((32, 224, 224, 3))\n",
    "\n",
    "y = tf.keras.layers.GlobalAveragePooling2D()(x)\n",
    "print(y.shape)\n",
    "\n",
    "\n",
    "# 224*224size, rgb 3 channel의 32장의 이미지 데이터 \n",
    "# 각 1개의 이미지는 224*224, rgb 3채널의 이미지 => 224*224사이즈의 r 채널의 평균, 224*224사이즈의 g 채널의 평균, 224*224 사이즈의 b 채널의 평균 => 3개의 값이 있는 벡터\n",
    "# => 이미지가 32개 이기때문에 32 * 3의 결과값이 나온다."
   ]
  },
  {
   "cell_type": "markdown",
   "metadata": {},
   "source": [
    "## GlobalMaxPool1D\n",
    "\n",
    "* GlobalMaxPool1D는 1차원의 입력 데이터에서 가장 큰 값을 선택하여 출력하는 레이어입니다.\n",
    "* 입력데이터가 큰 경우에 유용함\n",
    "* 입력 데이터의 크기가 (batch_size, timesteps, features)인 경우, GlobalMaxPool1D 레이어의 출력 차원은 (batch_size, features)가 됩니다."
   ]
  },
  {
   "cell_type": "code",
   "execution_count": 171,
   "metadata": {},
   "outputs": [
    {
     "data": {
      "text/plain": [
       "TensorShape([1000, 4])"
      ]
     },
     "execution_count": 171,
     "metadata": {},
     "output_type": "execute_result"
    }
   ],
   "source": [
    "import tensorflow as tf\n",
    "import numpy as np\n",
    "\n",
    "x = np.random.randn(1000,100,4)\n",
    "max_pool_1d = tf.keras.layers.GlobalMaxPool1D()\n",
    "max_pool_1d(x).shape"
   ]
  },
  {
   "cell_type": "markdown",
   "metadata": {},
   "source": [
    "## GlobalMaxPool2D\n",
    "\n",
    "* Keras의 GlobalMaxPool2D 레이어는 2D 입력 텐서의 공간 차원을 풀링하여 하나의 벡터로 변환합니다. 이 레이어는 특성 맵의 공간 위치에 대한 정보를 유지하지 않고, 모든 공간 위치에서 가장 큰 값을 선택합니다."
   ]
  },
  {
   "cell_type": "code",
   "execution_count": 208,
   "metadata": {},
   "outputs": [
    {
     "name": "stdout",
     "output_type": "stream",
     "text": [
      "Model: \"model_8\"\n",
      "_________________________________________________________________\n",
      " Layer (type)                Output Shape              Param #   \n",
      "=================================================================\n",
      " input_9 (InputLayer)        [(None, 28, 28, 3)]       0         \n",
      "                                                                 \n",
      " conv2d_17 (Conv2D)          (None, 26, 26, 32)        896       \n",
      "                                                                 \n",
      " conv2d_18 (Conv2D)          (None, 24, 24, 32)        9248      \n",
      "                                                                 \n",
      " global_max_pooling2d_8 (Gl  (None, 32)                0         \n",
      " obalMaxPooling2D)                                               \n",
      "                                                                 \n",
      " dense_9 (Dense)             (None, 10)                330       \n"
     ]
    },
    {
     "name": "stdout",
     "output_type": "stream",
     "text": [
      "                                                                 \n",
      "=================================================================\n",
      "Total params: 10474 (40.91 KB)\n",
      "Trainable params: 10474 (40.91 KB)\n",
      "Non-trainable params: 0 (0.00 Byte)\n",
      "_________________________________________________________________\n"
     ]
    }
   ],
   "source": [
    "from keras.layers import Input, Conv2D, GlobalMaxPool2D\n",
    "from keras.models import Model\n",
    "\n",
    "# 입력 데이터의 shape은 (batch_size, height, width, channels)\n",
    "inputs = Input(shape=(28, 28, 3))\n",
    "x = Conv2D(32, (3, 3), activation='relu')(inputs)\n",
    "x = Conv2D(32, (3, 3), activation='relu')(x)\n",
    "x = GlobalMaxPool2D()(x)  # GlobalMaxPool2D 적용\n",
    "outputs = Dense(10, activation='softmax')(x)\n",
    "\n",
    "model = Model(inputs=inputs, outputs=outputs)\n",
    "model.summary()"
   ]
  },
  {
   "cell_type": "code",
   "execution_count": 214,
   "metadata": {},
   "outputs": [
    {
     "name": "stdout",
     "output_type": "stream",
     "text": [
      "(32, 3)\n"
     ]
    }
   ],
   "source": [
    "import tensorflow as tf\n",
    "\n",
    "# 입력 데이터의 차원: (batch_size, height, width, channels)\n",
    "x = tf.random.normal((32, 224, 224, 3))\n",
    "\n",
    "# GlobalAveragePooling2D 계층 생성\n",
    "y = tf.keras.layers.GlobalMaxPool2D()(x)\n",
    "print(y.shape) # 출력 데이터의 차원: (batch_size, channels)(32, 3)"
   ]
  },
  {
   "cell_type": "markdown",
   "metadata": {},
   "source": [
    "## 두 방법의 차이점 \n",
    "\n",
    "* 방법 자체는 동일함, 평균으로 특징을 추출할지 최댓값을 특징을 추출할지의 차이가 있음"
   ]
  },
  {
   "cell_type": "markdown",
   "metadata": {},
   "source": [
    "# 데이터 제너레이터 사용"
   ]
  },
  {
   "cell_type": "markdown",
   "metadata": {},
   "source": [
    "## .fit_generator()\n",
    "\n",
    "* Keras에서 모델 학습을 위해 fit_generator() 함수를 사용할 수 있습니다.\n",
    "* 데이터가 매우 크거나 제한된 메모리를 사용하는 경우에 유용하게 사용 가능\n",
    "\n",
    ">generator: 학습 데이터를 생성하는 제너레이터 객체  \n",
    ">steps_per_epoch: 한 epoch에서 생성할 배치(batch) 개수입니다.  \n",
    ">epochs: 전체 학습할 epoch 수입니다.  \n",
    ">max_queue_size: 데이터 생성 시 큐(Queue)의 최대 크기를 지정합니다. shuffle: 각 에폭(epoch)마다 데이터를 임의로 섞을 것인지 여부를 지정합니다. verbose: 학습 중 출력을 제어합니다. 0은 출력하지 않음을 의미하고, 1은 진행바와 함께 출력하며, 2는 진행바 없이 출력합니다.  \n",
    ">callbacks: 콜백 함수를 지정합니다. 콜백(callback)은 학습 과정 중에 특정 이벤트가 발생할 때 실행되는 함수입니다. 예를 들어, 모델 체크포인트를 저장하거나 학습률을 조정하는 등의 작업을 수행할 수 있습니다.  \n",
    ">validation_data: 검증 데이터를 생성하는 제너레이터 객체 또는 넘파이 배열.  \n",
    ">validation_steps: 검증 데이터에서 생성할 배치(batch) 개수입니다.  \n",
    ">workers: 데이터 생성을 위해 사용할 프로세스 개수  \n",
    ">use_multiprocessing: True로 설정하면, 생성기 함수를 병렬 처리하기 위해 멀티 프로세싱(multiprocessing)을 사용할 수 있습니다. 이 경우에는 workers 인자를 사용하여 몇 개의 프로세스를 사용할 것인지를 설정할 수 있습니다. 일부 경우에는 데이터를 복사해야 하기 때문에, 병렬 처리> 시간이 데이터 복사 시간에 의해 지연될 수 있습니다. 또한, 모든 경우에서 멀티 프로세싱을 사용하는 것이 빠른 것은 아니므로, 해당 컴퓨터에서의 효율적인 처리 방법을 찾아야 합니다."
   ]
  }
 ],
 "metadata": {
  "kernelspec": {
   "display_name": "base",
   "language": "python",
   "name": "python3"
  },
  "language_info": {
   "codemirror_mode": {
    "name": "ipython",
    "version": 3
   },
   "file_extension": ".py",
   "mimetype": "text/x-python",
   "name": "python",
   "nbconvert_exporter": "python",
   "pygments_lexer": "ipython3",
   "version": "3.11.5"
  }
 },
 "nbformat": 4,
 "nbformat_minor": 2
}
