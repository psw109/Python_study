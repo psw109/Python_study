{
 "cells": [
  {
   "cell_type": "markdown",
   "metadata": {},
   "source": [
    "# 1. 간단한 예제로 케라스 맛보기"
   ]
  },
  {
   "cell_type": "code",
   "execution_count": 1,
   "metadata": {},
   "outputs": [],
   "source": [
    "# 1. 케라스 사용의 간단한 예제\n",
    "\n",
    "from keras.models import Sequential\n",
    "from keras.layers import Conv1D, MaxPooling1D, Flatten, Dense"
   ]
  },
  {
   "cell_type": "code",
   "execution_count": 3,
   "metadata": {},
   "outputs": [],
   "source": [
    "model = Sequential()\n",
    "model.add(Conv1D(32, 3, activation='relu', input_shape = (100,1)))\n",
    "model.add(MaxPooling1D(2))\n",
    "model.add(Flatten())\n",
    "model.add(Dense(1, activation='sigmoid'))\n",
    "model.compile(optimizer='adam', loss='binary_crossentropy', metrics = ['accuracy'])"
   ]
  },
  {
   "cell_type": "code",
   "execution_count": 4,
   "metadata": {},
   "outputs": [],
   "source": [
    "# 훈련 데이터 셋\n",
    "\n",
    "import numpy as np\n",
    "X_train = np.random.randn(1000, 100, 1)\n",
    "y_train = np.random.randint(2, size = (1000,1))"
   ]
  },
  {
   "cell_type": "code",
   "execution_count": 5,
   "metadata": {},
   "outputs": [
    {
     "name": "stdout",
     "output_type": "stream",
     "text": [
      "Epoch 1/10\n",
      "32/32 [==============================] - 0s 1ms/step - loss: 0.7034 - accuracy: 0.4910\n",
      "Epoch 2/10\n",
      "32/32 [==============================] - 0s 1ms/step - loss: 0.6862 - accuracy: 0.5530\n",
      "Epoch 3/10\n",
      "32/32 [==============================] - 0s 1ms/step - loss: 0.6681 - accuracy: 0.5950\n",
      "Epoch 4/10\n",
      "32/32 [==============================] - 0s 1ms/step - loss: 0.6642 - accuracy: 0.6050\n",
      "Epoch 5/10\n",
      "32/32 [==============================] - 0s 1ms/step - loss: 0.6541 - accuracy: 0.6140\n",
      "Epoch 6/10\n",
      "32/32 [==============================] - 0s 2ms/step - loss: 0.6455 - accuracy: 0.6390\n",
      "Epoch 7/10\n",
      "32/32 [==============================] - 0s 1ms/step - loss: 0.6375 - accuracy: 0.6580\n",
      "Epoch 8/10\n",
      "32/32 [==============================] - 0s 1ms/step - loss: 0.6302 - accuracy: 0.6500\n",
      "Epoch 9/10\n",
      "32/32 [==============================] - 0s 1ms/step - loss: 0.6263 - accuracy: 0.6570\n",
      "Epoch 10/10\n",
      "32/32 [==============================] - 0s 1ms/step - loss: 0.6231 - accuracy: 0.6530\n"
     ]
    },
    {
     "data": {
      "text/plain": [
       "<keras.src.callbacks.History at 0x16d787e10>"
      ]
     },
     "execution_count": 5,
     "metadata": {},
     "output_type": "execute_result"
    }
   ],
   "source": [
    "model.fit(X_train, y_train, epochs=10, batch_size=32)"
   ]
  },
  {
   "cell_type": "markdown",
   "metadata": {},
   "source": [
    "## 1. Sequential\n",
    "\n",
    "* Sequential() 클래스를 사용하면 간단한 순차적인 구조를 가진 모델을 쉽게 구성할 수 있습니다. 즉, 입력층부터 출력층 까지 차례대로 쌓아가는 것으로 모델을 구성할 수 있습니다.\n",
    "* 이후 add() 메서드를 사용하여 입력층과 은닉층, 출력층을 추가할 수 있다\n",
    "* 최종적으로 compile()메서드를 사용하여 모델을 완성시킬 수 있음"
   ]
  },
  {
   "cell_type": "code",
   "execution_count": 7,
   "metadata": {},
   "outputs": [
    {
     "name": "stdout",
     "output_type": "stream",
     "text": [
      "Model: \"sequential_3\"\n",
      "_________________________________________________________________\n",
      " Layer (type)                Output Shape              Param #   \n",
      "=================================================================\n",
      " dense_4 (Dense)             (None, 64)                6464      \n",
      "                                                                 \n",
      " dense_5 (Dense)             (None, 32)                2080      \n",
      "                                                                 \n",
      " dense_6 (Dense)             (None, 10)                330       \n",
      "                                                                 \n",
      "=================================================================\n",
      "Total params: 8874 (34.66 KB)\n",
      "Trainable params: 8874 (34.66 KB)\n",
      "Non-trainable params: 0 (0.00 Byte)\n",
      "_________________________________________________________________\n"
     ]
    }
   ],
   "source": [
    "from keras.models import Sequential\n",
    "from keras.layers import Dense\n",
    "\n",
    "#1. Sequential 모델 생성\n",
    "model = Sequential()\n",
    "\n",
    "#2. 입력층과 은닉층 추가\n",
    "model.add(Dense(units=64, activation='relu', input_dim=100))\n",
    "model.add(Dense(units=32, activation='relu'))\n",
    "\n",
    "#3. 출력층 추가\n",
    "model.add(Dense(units=10, activation='softmax'))\n",
    "\n",
    "#4. 결과 확인\n",
    "\n",
    "model.summary()"
   ]
  },
  {
   "cell_type": "code",
   "execution_count": 15,
   "metadata": {},
   "outputs": [
    {
     "name": "stdout",
     "output_type": "stream",
     "text": [
      "Model: \"sequential_11\"\n",
      "_________________________________________________________________\n"
     ]
    },
    {
     "name": "stdout",
     "output_type": "stream",
     "text": [
      " Layer (type)                Output Shape              Param #   \n",
      "=================================================================\n",
      " dense_28 (Dense)            (None, 64)                6464      \n",
      "                                                                 \n",
      " dense_29 (Dense)            (None, 32)                2080      \n",
      "                                                                 \n",
      " dense_30 (Dense)            (None, 10)                330       \n",
      "                                                                 \n",
      "=================================================================\n",
      "Total params: 8874 (34.66 KB)\n",
      "Trainable params: 8874 (34.66 KB)\n",
      "Non-trainable params: 0 (0.00 Byte)\n",
      "_________________________________________________________________\n"
     ]
    }
   ],
   "source": [
    "# Sequential의 다른 사용방법\n",
    "from keras.models import Sequential\n",
    "from keras.layers import Dense\n",
    "\n",
    "model = Sequential([\n",
    "    Dense(units=64, activation='relu', input_dim=100),\n",
    "    Dense(units=32, activation='relu'),\n",
    "    Dense(units=10, activation='softmax')\n",
    "])\n",
    "model.summary()"
   ]
  },
  {
   "cell_type": "code",
   "execution_count": 16,
   "metadata": {},
   "outputs": [
    {
     "name": "stdout",
     "output_type": "stream",
     "text": [
      "Model: \"model\"\n",
      "_________________________________________________________________\n",
      " Layer (type)                Output Shape              Param #   \n",
      "=================================================================\n",
      " input_1 (InputLayer)        [(None, 100)]             0         \n",
      "                                                                 \n",
      " dense_31 (Dense)            (None, 64)                6464      \n",
      "                                                                 \n",
      " dense_32 (Dense)            (None, 32)                2080      \n",
      "                                                                 \n",
      " dense_33 (Dense)            (None, 10)                330       \n",
      "                                                                 \n",
      "=================================================================\n",
      "Total params: 8874 (34.66 KB)\n",
      "Trainable params: 8874 (34.66 KB)\n",
      "Non-trainable params: 0 (0.00 Byte)\n",
      "_________________________________________________________________\n"
     ]
    }
   ],
   "source": [
    "# Functional API 사용법\n",
    "\n",
    "from keras.models import Model\n",
    "from keras.layers import Input, Dense\n",
    "\n",
    "#1. 입력층 정의\n",
    "inp = Input(shape=(100,))\n",
    "\n",
    "#2. 은닉층 정의\n",
    "x = Dense(units=64, activation='relu')(inp)\n",
    "x = Dense(units=32, activation='relu')(x)\n",
    "\n",
    "#3. 출력층 정의\n",
    "out = Dense(units=10, activation='softmax')(x)\n",
    "\n",
    "#4. 모델 구성\n",
    "model = Model(inputs=inp, outputs=out)\n",
    "\n",
    "#모델 컴파일\n",
    "model.compile(loss='categorical_crossentropy', optimizer='adam', metrics=['accuracy'])\n",
    "\n",
    "#모델 확인\n",
    "model.summary()"
   ]
  },
  {
   "cell_type": "markdown",
   "metadata": {},
   "source": [
    "## Input_shape\n",
    "\n",
    "* input_shape은 모델의 첫번째 레이어에만 지정해주며, 이의 레이어에서는 자동으로 입력 데이터의 형태를 추정\n",
    "* 2차원 데이터\n",
    "    * (num_samples, num_features) 형태의 2차원 배열로 표현됩니다.\n",
    "    * input_shape = (num_features, )\n",
    "    * 2차원 데이터의 경우에는 input_shape 대신에 input_dim을 사용할 수도 있습니다. input_dim = num_features,"
   ]
  },
  {
   "cell_type": "code",
   "execution_count": null,
   "metadata": {},
   "outputs": [],
   "source": [
    "from keras.models import Sequential\n",
    "from keras.layers import Dense\n",
    "\n",
    "model = Sequential([\n",
    "    Dense(units=256, activation='relu', input_shape=(28*28, )), # mnist데이터셋 가정, 이경우 28*28픽셀의 256개 사진을 의미한다\n",
    "    Dense(units=10, activation='softmax')\n",
    "])\n",
    "\n",
    "model.summary()"
   ]
  },
  {
   "cell_type": "code",
   "execution_count": null,
   "metadata": {},
   "outputs": [],
   "source": []
  }
 ],
 "metadata": {
  "kernelspec": {
   "display_name": "base",
   "language": "python",
   "name": "python3"
  },
  "language_info": {
   "codemirror_mode": {
    "name": "ipython",
    "version": 3
   },
   "file_extension": ".py",
   "mimetype": "text/x-python",
   "name": "python",
   "nbconvert_exporter": "python",
   "pygments_lexer": "ipython3",
   "version": "3.11.5"
  }
 },
 "nbformat": 4,
 "nbformat_minor": 2
}
