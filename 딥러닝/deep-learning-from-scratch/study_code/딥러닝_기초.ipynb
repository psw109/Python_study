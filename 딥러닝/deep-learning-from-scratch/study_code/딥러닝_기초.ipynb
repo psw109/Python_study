{
  "cells": [
    {
      "cell_type": "code",
      "execution_count": 6,
      "metadata": {
        "id": "gGlXDQ6kUrml"
      },
      "outputs": [],
      "source": [
        "import sys, os\n",
        "\n",
        "sys.path.append(os.pardir)"
      ]
    },
    {
      "cell_type": "code",
      "execution_count": 7,
      "metadata": {
        "colab": {
          "base_uri": "https://localhost:8080/",
          "height": 35
        },
        "id": "L8YTnvODVskI",
        "outputId": "f26bd37f-8bae-4c0e-ee0d-6571e9ed6f54"
      },
      "outputs": [
        {
          "data": {
            "text/plain": [
              "'/Users/psw/문서/programming/python/code/Python_study/딥러닝/deep-learning-from-scratch'"
            ]
          },
          "execution_count": 7,
          "metadata": {},
          "output_type": "execute_result"
        }
      ],
      "source": [
        "import os\n",
        "\n",
        "os.getcwd()"
      ]
    },
    {
      "cell_type": "code",
      "execution_count": 8,
      "metadata": {
        "id": "I8nXOD3fV4mA"
      },
      "outputs": [],
      "source": [
        "os.chdir('/Users/psw/문서/programming/python/code/Python_study/딥러닝/deep-learning-from-scratch')"
      ]
    },
    {
      "cell_type": "code",
      "execution_count": 9,
      "metadata": {
        "id": "UHx5OVoAWGUL"
      },
      "outputs": [],
      "source": [
        "# 교제 참고자료 불러오기\n",
        "# !git clone https://github.com/oreilly-japan/deep-learning-from-scratch.git"
      ]
    },
    {
      "attachments": {},
      "cell_type": "markdown",
      "metadata": {
        "id": "vsqC9PZS7gVh"
      },
      "source": [
        "# 1. 퍼셉트론"
      ]
    },
    {
      "attachments": {},
      "cell_type": "markdown",
      "metadata": {
        "id": "qQJwM9ZY7kqE"
      },
      "source": [
        "## 1. 퍼셉트론의 개념\n",
        "\n",
        "퍼셉트론 : 다수의 신호를 입력으로 받아 하나의 신호를 출력\n",
        "\n",
        "* 퍼셉트론은 복수의 입력 신호 각각에 고유한 가중치를 부여\n",
        "* 가중치는 각 신호가 결과에 주는 영향력을 조절하는 요소로 작용\n",
        "* 신호는 0과 1의 값을 갖는다\n",
        "---\n",
        "ex) 입력 신호가 2개 일때   \n",
        "$\\ y=\n",
        "\\begin{cases}\n",
        "0, \\;(w1*x1 + w2*x2\\leq theta)\\\\\n",
        "1, \\;(w1*x1 + w2*x2>theta)\n",
        "\\end{cases}$"
      ]
    },
    {
      "attachments": {},
      "cell_type": "markdown",
      "metadata": {
        "id": "7OmftUAv-hgg"
      },
      "source": [
        "## 2. 단순한 논리회로\n",
        "\n",
        "### AND 게이트\n",
        "\n",
        "두 입력이 모두 1일 때만 1을 출력\n",
        "\n",
        "|x1|x2|y|\n",
        "|--|--|--|\n",
        "|0|0|0|\n",
        "|1|0|0|\n",
        "|0|1|0|\n",
        "|1|1|1|  \n",
        "\n",
        "### NAND 게이트\n",
        "\n",
        "두 입력이 모두 1일 때만 0을 출력\n",
        "\n",
        "|x1|x2|y|\n",
        "|--|--|--|\n",
        "|0|0|1|\n",
        "|1|0|1|\n",
        "|0|1|1|\n",
        "|1|1|0|\n",
        "\n",
        "### OR 게이트\n",
        "\n",
        "두 입력 신호중 하나 이상이 1일때\n",
        "\n",
        "|x1|x2|y|\n",
        "|--|--|--|\n",
        "|0|0|0|\n",
        "|1|0|1|\n",
        "|0|1|1|\n",
        "|1|1|1|"
      ]
    },
    {
      "attachments": {},
      "cell_type": "markdown",
      "metadata": {
        "id": "E_mhn8A_-mMG"
      },
      "source": [
        "## 3. 퍼셉트론 구현하기\n"
      ]
    },
    {
      "cell_type": "code",
      "execution_count": 10,
      "metadata": {
        "id": "vyHvpSYH-lVl"
      },
      "outputs": [],
      "source": [
        "def AND(x1, x2):\n",
        "  w1, w2, theta = 0.5, 0.5, 0.7\n",
        "  tmp = w1*x1 + w2*x2\n",
        "  if tmp <= theta:\n",
        "    return 0\n",
        "  elif tmp > theta:\n",
        "    return 1"
      ]
    },
    {
      "cell_type": "code",
      "execution_count": 11,
      "metadata": {
        "colab": {
          "base_uri": "https://localhost:8080/"
        },
        "id": "tLCIQi5K-e4o",
        "outputId": "61c834f1-b764-4962-89bc-d533871de6fa"
      },
      "outputs": [
        {
          "name": "stdout",
          "output_type": "stream",
          "text": [
            "0\n",
            "0\n",
            "0\n",
            "1\n"
          ]
        }
      ],
      "source": [
        "print(AND(0, 0))\n",
        "print(AND(1,0))\n",
        "print(AND(0,1))\n",
        "print(AND(1,1))"
      ]
    },
    {
      "attachments": {},
      "cell_type": "markdown",
      "metadata": {
        "id": "Xmeaxj3gSMkf"
      },
      "source": [
        "# 신경망"
      ]
    },
    {
      "attachments": {},
      "cell_type": "markdown",
      "metadata": {
        "id": "jMkhGqlW_kPw"
      },
      "source": [
        "## 1. 활성화 함수\n",
        "\n",
        "* 입력신호를 출력신호로 바꿔줄 때 사용하는 함수\n",
        "* $h(x)$를 이용하여 표현"
      ]
    },
    {
      "attachments": {},
      "cell_type": "markdown",
      "metadata": {
        "id": "cbq1y2oYAPtB"
      },
      "source": [
        "### 시그모이드 함수\n",
        "\n",
        "* $ h(x) = \\frac{1}{1 + exp(-x)} $\n",
        "* 퍼셉트론에서는 계단 함수를 활성화 함수로 사용하지만 신경망에서는 다른 함수를 이용"
      ]
    },
    {
      "attachments": {},
      "cell_type": "markdown",
      "metadata": {
        "id": "TkyeAa-ZB5vf"
      },
      "source": [
        "### 계단 함수 구현\n",
        "\n",
        "* 입력이 0을 넘으면 1을 출력\n",
        "* 그 외에는 0을 출력하는 함수"
      ]
    },
    {
      "cell_type": "code",
      "execution_count": 12,
      "metadata": {
        "id": "llIAmIRSBSmV"
      },
      "outputs": [],
      "source": [
        "def step_function(x):\n",
        "  if x > 0:\n",
        "    return 1\n",
        "  else:\n",
        "    return 0"
      ]
    },
    {
      "cell_type": "code",
      "execution_count": 13,
      "metadata": {
        "id": "8wyPSlc3CRQZ"
      },
      "outputs": [],
      "source": [
        "# 여러 인수를 받을 수 있는 계단 함수\n",
        "\n",
        "def step_function1(x):\n",
        "  y = x > 0\n",
        "  return y.astype(int)"
      ]
    },
    {
      "cell_type": "code",
      "execution_count": 14,
      "metadata": {
        "colab": {
          "base_uri": "https://localhost:8080/"
        },
        "id": "WQxjqCo3Ce_N",
        "outputId": "f6e88d0f-0ef8-4887-ebfe-5549ff9f9a7c"
      },
      "outputs": [
        {
          "data": {
            "text/plain": [
              "array([1, 1, 1])"
            ]
          },
          "execution_count": 14,
          "metadata": {},
          "output_type": "execute_result"
        }
      ],
      "source": [
        "import numpy as np\n",
        "\n",
        "input_var = np.array([1, 2, 3])\n",
        "step_function1(input_var)"
      ]
    },
    {
      "attachments": {},
      "cell_type": "markdown",
      "metadata": {
        "id": "aLNJNND7C7n8"
      },
      "source": [
        "### 계단 함수의 그래프\n",
        "\n",
        "* 0을 경계로 출력이 0에서 1(또는 1에서 0으로 변경)\n",
        "* 값이 바뀌는 형태가 계단처럼 생겼기 때문에 계단함수라 부른다"
      ]
    },
    {
      "cell_type": "code",
      "execution_count": 15,
      "metadata": {
        "id": "iDRElUXqC-Ab"
      },
      "outputs": [],
      "source": [
        "import matplotlib.pyplot as plt\n",
        "\n",
        "def step_function(x):\n",
        "  return np.array(x > 0, dtype = int)"
      ]
    },
    {
      "cell_type": "code",
      "execution_count": 16,
      "metadata": {
        "colab": {
          "base_uri": "https://localhost:8080/",
          "height": 430
        },
        "id": "oFuMYieBDPTO",
        "outputId": "fc21fe71-7fc7-41e2-e650-77cbfef5bf2e"
      },
      "outputs": [
        {
          "data": {
            "image/png": "[encoded data removed]",
            "text/plain": [
              "<Figure size 640x480 with 1 Axes>"
            ]
          },
          "metadata": {},
          "output_type": "display_data"
        }
      ],
      "source": [
        "x = np.arange(-5, 5, 0.1)\n",
        "y = step_function(x)\n",
        "\n",
        "plt.plot(x, y)\n",
        "plt.ylim(-0.1, 1.1)\n",
        "plt.show()"
      ]
    },
    {
      "attachments": {},
      "cell_type": "markdown",
      "metadata": {
        "id": "xYMbsbX9D3cv"
      },
      "source": [
        "### 시그모이드 함수 구현하기"
      ]
    },
    {
      "cell_type": "code",
      "execution_count": 17,
      "metadata": {
        "id": "NFMUgRNxD4_e"
      },
      "outputs": [],
      "source": [
        "def sigmoid(x):\n",
        "  return 1 / (1 + np.exp(-x))"
      ]
    },
    {
      "cell_type": "code",
      "execution_count": 18,
      "metadata": {
        "colab": {
          "base_uri": "https://localhost:8080/"
        },
        "id": "-CnIjUGED-QL",
        "outputId": "e238601a-a91f-4f58-d534-468a79b06606"
      },
      "outputs": [
        {
          "data": {
            "text/plain": [
              "array([0.26894142, 0.73105858, 0.88079708])"
            ]
          },
          "execution_count": 18,
          "metadata": {},
          "output_type": "execute_result"
        }
      ],
      "source": [
        "x = np.array([-1, 1, 2])\n",
        "sigmoid(x)"
      ]
    },
    {
      "cell_type": "code",
      "execution_count": 19,
      "metadata": {
        "colab": {
          "base_uri": "https://localhost:8080/",
          "height": 430
        },
        "id": "owDEtE-hEoDV",
        "outputId": "8c8427c4-2744-4dfa-f563-51141c84fc7f"
      },
      "outputs": [
        {
          "data": {
            "image/png": "[encoded data removed]",
            "text/plain": [
              "<Figure size 640x480 with 1 Axes>"
            ]
          },
          "metadata": {},
          "output_type": "display_data"
        }
      ],
      "source": [
        "x = np.arange(-5, 5, 0.1)\n",
        "y = sigmoid(x)\n",
        "\n",
        "plt.plot(x,y)\n",
        "plt.ylim(-0.1, 1.1)\n",
        "plt.show()"
      ]
    },
    {
      "attachments": {},
      "cell_type": "markdown",
      "metadata": {
        "id": "-uOUd7KHFC4D"
      },
      "source": [
        "### 시그모이드 함수와 계단함수의 비교\n",
        "\n",
        "* 시그모이드 함수의 매끈함이 신경망 학습에서 중요한 역할을 함\n",
        "* 퍼셉트론에서는 0과 1이 출력, 신경망에선느 연속적인 실수가 출력"
      ]
    },
    {
      "cell_type": "code",
      "execution_count": 20,
      "metadata": {
        "colab": {
          "base_uri": "https://localhost:8080/",
          "height": 430
        },
        "id": "5jVW6PSxFFFV",
        "outputId": "559d9872-115f-4c72-ea1b-3afb47fc4dc4"
      },
      "outputs": [
        {
          "data": {
            "image/png": "[encoded data removed]",
            "text/plain": [
              "<Figure size 640x480 with 1 Axes>"
            ]
          },
          "metadata": {},
          "output_type": "display_data"
        }
      ],
      "source": [
        "x = np.arange(-5, 5, 0.1)\n",
        "y1 = step_function1(x)\n",
        "y2 = sigmoid(x)\n",
        "\n",
        "plt.plot(x, y1, '--')\n",
        "plt.plot(x, y2)\n",
        "plt.ylim(-0.1, 1.1)\n",
        "plt.show()"
      ]
    },
    {
      "cell_type": "code",
      "execution_count": 21,
      "metadata": {
        "colab": {
          "base_uri": "https://localhost:8080/"
        },
        "id": "Ce8qAsmQFoxc",
        "outputId": "e010784e-8012-48a2-8ae4-4fc0c54e7be0"
      },
      "outputs": [
        {
          "data": {
            "text/plain": [
              "array([0.00669285, 0.00739154, 0.00816257, 0.0090133 , 0.0099518 ,\n",
              "       0.01098694, 0.01212843, 0.01338692, 0.01477403, 0.0163025 ,\n",
              "       0.01798621, 0.01984031, 0.02188127, 0.02412702, 0.02659699,\n",
              "       0.02931223, 0.03229546, 0.03557119, 0.03916572, 0.04310725,\n",
              "       0.04742587, 0.05215356, 0.05732418, 0.06297336, 0.06913842,\n",
              "       0.07585818, 0.0831727 , 0.09112296, 0.09975049, 0.10909682,\n",
              "       0.11920292, 0.13010847, 0.14185106, 0.15446527, 0.16798161,\n",
              "       0.18242552, 0.19781611, 0.21416502, 0.23147522, 0.24973989,\n",
              "       0.26894142, 0.2890505 , 0.31002552, 0.33181223, 0.35434369,\n",
              "       0.37754067, 0.40131234, 0.42555748, 0.450166  , 0.47502081,\n",
              "       0.5       , 0.52497919, 0.549834  , 0.57444252, 0.59868766,\n",
              "       0.62245933, 0.64565631, 0.66818777, 0.68997448, 0.7109495 ,\n",
              "       0.73105858, 0.75026011, 0.76852478, 0.78583498, 0.80218389,\n",
              "       0.81757448, 0.83201839, 0.84553473, 0.85814894, 0.86989153,\n",
              "       0.88079708, 0.89090318, 0.90024951, 0.90887704, 0.9168273 ,\n",
              "       0.92414182, 0.93086158, 0.93702664, 0.94267582, 0.94784644,\n",
              "       0.95257413, 0.95689275, 0.96083428, 0.96442881, 0.96770454,\n",
              "       0.97068777, 0.97340301, 0.97587298, 0.97811873, 0.98015969,\n",
              "       0.98201379, 0.9836975 , 0.98522597, 0.98661308, 0.98787157,\n",
              "       0.98901306, 0.9900482 , 0.9909867 , 0.99183743, 0.99260846])"
            ]
          },
          "execution_count": 21,
          "metadata": {},
          "output_type": "execute_result"
        }
      ],
      "source": [
        "y2"
      ]
    },
    {
      "attachments": {},
      "cell_type": "markdown",
      "metadata": {
        "id": "UKPxlqDwGpET"
      },
      "source": [
        "활성화 함수는 비선형 함수를 사용 해야 함  \n",
        "선형함수를 사용하면 신경망의 층을 깊게 하는 의미가 없어진다"
      ]
    },
    {
      "attachments": {},
      "cell_type": "markdown",
      "metadata": {
        "id": "YhBz6kRvHWUf"
      },
      "source": [
        "### ReLU 함수\n",
        "\n",
        "$\\ h(x) =\n",
        "\\begin{cases}\n",
        "0,\\;(x<0)\\\\\n",
        "x,\\;(x\\geq0)\n",
        "\\end{cases}$"
      ]
    },
    {
      "cell_type": "code",
      "execution_count": 22,
      "metadata": {
        "id": "aW15NBxEHjbx"
      },
      "outputs": [],
      "source": [
        "def ReLU(x):\n",
        "  return np.maximum(0, x)"
      ]
    },
    {
      "cell_type": "code",
      "execution_count": 23,
      "metadata": {
        "colab": {
          "base_uri": "https://localhost:8080/",
          "height": 430
        },
        "id": "YNJ-kRDcHwZX",
        "outputId": "63b05c81-d36f-4a1b-c8b9-4f547acab297"
      },
      "outputs": [
        {
          "data": {
            "image/png": "[encoded data removed]",
            "text/plain": [
              "<Figure size 640x480 with 1 Axes>"
            ]
          },
          "metadata": {},
          "output_type": "display_data"
        }
      ],
      "source": [
        "x = np.arange(-6, 6, 0.1)\n",
        "y = ReLU(x)\n",
        "\n",
        "plt.plot(x,y)\n",
        "plt.show()"
      ]
    },
    {
      "attachments": {},
      "cell_type": "markdown",
      "metadata": {
        "id": "C8990YUrI8W9"
      },
      "source": [
        "## 2. 다차원 배열의 계산\n",
        "\n",
        "* 넘파이 배열은 신경망을 효율적으로 구현하기 위해 사용"
      ]
    },
    {
      "attachments": {},
      "cell_type": "markdown",
      "metadata": {
        "id": "LjgrGm2IKyGt"
      },
      "source": [
        "### 1. 다차원 배열"
      ]
    },
    {
      "cell_type": "code",
      "execution_count": 24,
      "metadata": {
        "colab": {
          "base_uri": "https://localhost:8080/"
        },
        "id": "4sa_HnuMI9zl",
        "outputId": "7d79a3a3-4702-4ded-dc8c-896fcb28c780"
      },
      "outputs": [
        {
          "name": "stdout",
          "output_type": "stream",
          "text": [
            "[1 2 3 4]\n",
            "1\n",
            "(4,)\n",
            "4\n"
          ]
        }
      ],
      "source": [
        "# 1차원 배열\n",
        "\n",
        "import numpy as np\n",
        "\n",
        "A = np.array([1, 2, 3, 4])\n",
        "print(A)\n",
        "\n",
        "print(np.ndim(A))\n",
        "print(A.shape)\n",
        "print(A.shape[0])"
      ]
    },
    {
      "cell_type": "code",
      "execution_count": 25,
      "metadata": {
        "colab": {
          "base_uri": "https://localhost:8080/"
        },
        "id": "DyESi87nJrU5",
        "outputId": "4fdcf0a3-8cf5-4c41-d5cc-2e6db18296c5"
      },
      "outputs": [
        {
          "name": "stdout",
          "output_type": "stream",
          "text": [
            "2\n",
            "(3, 2)\n"
          ]
        }
      ],
      "source": [
        "# 2차원 배열\n",
        "\n",
        "B = np.array([[1,2],\n",
        "              [3,4],\n",
        "              [4,5]])\n",
        "\n",
        "print(np.ndim(B))\n",
        "print(B.shape)"
      ]
    },
    {
      "cell_type": "code",
      "execution_count": 26,
      "metadata": {
        "colab": {
          "base_uri": "https://localhost:8080/"
        },
        "id": "Xb77LfpeKVkP",
        "outputId": "1a81c6cb-9f00-4f83-a506-f6dacde81742"
      },
      "outputs": [
        {
          "name": "stdout",
          "output_type": "stream",
          "text": [
            "3\n",
            "(2, 3, 2)\n"
          ]
        }
      ],
      "source": [
        "# 3차원 배열\n",
        "\n",
        "C = np.array([[[1,2],\n",
        "              [3,4],\n",
        "              [5,6]],\n",
        "              [[6,5],\n",
        "               [4,3],\n",
        "               [2,1]]])\n",
        "print(np.ndim(C))\n",
        "print(C.shape)"
      ]
    },
    {
      "attachments": {},
      "cell_type": "markdown",
      "metadata": {
        "id": "5L3rKVmFK3Pf"
      },
      "source": [
        "### 2. 행렬의 곱"
      ]
    },
    {
      "cell_type": "code",
      "execution_count": 27,
      "metadata": {
        "colab": {
          "base_uri": "https://localhost:8080/"
        },
        "id": "v1q-V5HhK6CD",
        "outputId": "f113db39-d20d-4083-90de-be39f74f3616"
      },
      "outputs": [
        {
          "name": "stdout",
          "output_type": "stream",
          "text": [
            "(2, 2)\n",
            "(2, 2)\n",
            "[[19 22]\n",
            " [43 50]]\n"
          ]
        }
      ],
      "source": [
        "# [2*2] * [2*2]\n",
        "\n",
        "A = np.array([[1,2], [3,4]])\n",
        "print(A.shape)\n",
        "\n",
        "B = np.array([[5,6], [7,8]])\n",
        "print(B.shape)\n",
        "\n",
        "print(np.dot(A, B)) #순서 주의"
      ]
    },
    {
      "cell_type": "code",
      "execution_count": 28,
      "metadata": {
        "colab": {
          "base_uri": "https://localhost:8080/"
        },
        "id": "bUrZ_fqSLB3b",
        "outputId": "38c81fe9-45ed-47c0-c303-29747a05f6d6"
      },
      "outputs": [
        {
          "data": {
            "text/plain": [
              "array([ 5, 11, 17])"
            ]
          },
          "execution_count": 28,
          "metadata": {},
          "output_type": "execute_result"
        }
      ],
      "source": [
        "# [3*2] * [2]\n",
        "\n",
        "A = np.array([[1,2], [3,4], [5,6]])\n",
        "B = np.array([1,2])\n",
        "np.dot(A,B)"
      ]
    },
    {
      "attachments": {},
      "cell_type": "markdown",
      "metadata": {
        "id": "53kkXevqNYks"
      },
      "source": [
        "### 3. 신경망에서의 행렬 곱\n",
        "\n",
        "* 입력이 2개\n",
        "* 출력이 3개\n",
        "* 편향과 활성화 함수를 생략"
      ]
    },
    {
      "cell_type": "code",
      "execution_count": 29,
      "metadata": {
        "colab": {
          "base_uri": "https://localhost:8080/"
        },
        "id": "72GJXw8pND1p",
        "outputId": "214dd97b-1854-4ba5-8b5b-023515335996"
      },
      "outputs": [
        {
          "data": {
            "text/plain": [
              "array([15, 18, 21])"
            ]
          },
          "execution_count": 29,
          "metadata": {},
          "output_type": "execute_result"
        }
      ],
      "source": [
        "X = np.array([1, 2])\n",
        "W = np.array([[3,4,5], [6,7,8]])\n",
        "np.dot(X, W)"
      ]
    },
    {
      "attachments": {},
      "cell_type": "markdown",
      "metadata": {
        "id": "lcXIYbimQOxk"
      },
      "source": [
        "##3. 3층 신경망 구현하기\n",
        "\n",
        "* 입력층(0층) 2개\n",
        "* 은닉층(1층) 3개\n",
        "* 은닉층(2층) 2개\n",
        "* 출력층(3층) 2개\n",
        "* 편향 고려"
      ]
    },
    {
      "attachments": {},
      "cell_type": "markdown",
      "metadata": {
        "id": "8b8MDtCTUwK5"
      },
      "source": [
        "### 1. 각층의 신호전달 구현"
      ]
    },
    {
      "attachments": {},
      "cell_type": "markdown",
      "metadata": {
        "id": "IjzN6ulcSFb6"
      },
      "source": [
        "입력층 -> 은닉층(1층)"
      ]
    },
    {
      "cell_type": "code",
      "execution_count": 30,
      "metadata": {
        "id": "MaGMlz8rQUPh"
      },
      "outputs": [],
      "source": [
        "import numpy as np\n",
        "\n",
        "X = np.array([1, 0.5])\n",
        "W1 = np.array([[0.1, 0.3, 0.5], [0.2, 0.4, 0.6]])\n",
        "B1 = np.array([0.1, 0.2, 0.3])"
      ]
    },
    {
      "cell_type": "code",
      "execution_count": 31,
      "metadata": {
        "colab": {
          "base_uri": "https://localhost:8080/"
        },
        "id": "H8CY1JugRK_O",
        "outputId": "03e2a691-47a3-4645-e8a2-aef81f1aa4b2"
      },
      "outputs": [
        {
          "name": "stdout",
          "output_type": "stream",
          "text": [
            "(2,)\n",
            "(2, 3)\n",
            "(3,)\n"
          ]
        }
      ],
      "source": [
        "print(X.shape)\n",
        "print(W1.shape)\n",
        "print(B1.shape)"
      ]
    },
    {
      "cell_type": "code",
      "execution_count": 32,
      "metadata": {
        "colab": {
          "base_uri": "https://localhost:8080/"
        },
        "id": "G_wNLpsURM27",
        "outputId": "bdd606cb-ee32-4b75-deb8-cb01c234fe36"
      },
      "outputs": [
        {
          "name": "stdout",
          "output_type": "stream",
          "text": [
            "[0.3 0.7 1.1]\n"
          ]
        }
      ],
      "source": [
        "A1 = np.dot(X, W1) + B1\n",
        "print(A1) #3개의 출력"
      ]
    },
    {
      "cell_type": "code",
      "execution_count": 33,
      "metadata": {
        "colab": {
          "base_uri": "https://localhost:8080/"
        },
        "id": "IDTvO0-gSYKd",
        "outputId": "f71fb31a-a1d7-4568-9671-7c6efc43e48b"
      },
      "outputs": [
        {
          "name": "stdout",
          "output_type": "stream",
          "text": [
            "[0.57444252 0.66818777 0.75026011]\n"
          ]
        }
      ],
      "source": [
        "# 활성화 함수\n",
        "\n",
        "Z1 = sigmoid(A1)\n",
        "print(Z1) #다음단계로 가는 최종출력"
      ]
    },
    {
      "attachments": {},
      "cell_type": "markdown",
      "metadata": {
        "id": "S9KxoDXLSKZx"
      },
      "source": [
        "은닉층(1층) -> 은닉층(2층)"
      ]
    },
    {
      "cell_type": "code",
      "execution_count": 34,
      "metadata": {
        "colab": {
          "base_uri": "https://localhost:8080/"
        },
        "id": "A3KzPDv_SDd4",
        "outputId": "43f3bef2-1cc3-4782-dc93-0bdd778bb185"
      },
      "outputs": [
        {
          "name": "stdout",
          "output_type": "stream",
          "text": [
            "(3,)\n",
            "(3, 2)\n",
            "(2,)\n"
          ]
        }
      ],
      "source": [
        "W2 = np.array([[0.1, 0.4], [0.2, 0.5], [0.3, 0.6]])\n",
        "B2 = np.array([0.1, 0.2])\n",
        "\n",
        "print(Z1.shape)\n",
        "print(W2.shape)\n",
        "print(B2.shape)"
      ]
    },
    {
      "cell_type": "code",
      "execution_count": 35,
      "metadata": {
        "colab": {
          "base_uri": "https://localhost:8080/"
        },
        "id": "w4WJoD_NS-QO",
        "outputId": "d3f07f14-c848-422b-c3d3-18df2a4d55b9"
      },
      "outputs": [
        {
          "name": "stdout",
          "output_type": "stream",
          "text": [
            "[0.51615984 1.21402696]\n"
          ]
        }
      ],
      "source": [
        "A2 = np.dot(Z1, W2) + B2\n",
        "print(A2) # 2개 출력"
      ]
    },
    {
      "cell_type": "code",
      "execution_count": 36,
      "metadata": {
        "colab": {
          "base_uri": "https://localhost:8080/"
        },
        "id": "MqlN2WaNTLO8",
        "outputId": "a26df021-8c1b-4305-8148-da2fcdc4ee3b"
      },
      "outputs": [
        {
          "name": "stdout",
          "output_type": "stream",
          "text": [
            "[0.62624937 0.7710107 ]\n"
          ]
        }
      ],
      "source": [
        "# 활성화 함수 적용\n",
        "\n",
        "Z2 = sigmoid(A2)\n",
        "print(Z2)"
      ]
    },
    {
      "attachments": {},
      "cell_type": "markdown",
      "metadata": {
        "id": "Ry5ahiTPTbh9"
      },
      "source": [
        "은닉층(2층) -> 출력층(3층)"
      ]
    },
    {
      "cell_type": "code",
      "execution_count": 37,
      "metadata": {
        "colab": {
          "base_uri": "https://localhost:8080/"
        },
        "id": "UCR1T-gjTR5y",
        "outputId": "dc6c7fc6-91cd-4580-c01c-815ace1c3959"
      },
      "outputs": [
        {
          "name": "stdout",
          "output_type": "stream",
          "text": [
            "[0.31682708 0.69627909]\n"
          ]
        }
      ],
      "source": [
        "W3 = np.array([[0.1,0.3],[0.2,0.4]])\n",
        "B3 = np.array([0.1, 0.2])\n",
        "\n",
        "A3 = np.dot(Z2, W3) + B3\n",
        "print(A3)"
      ]
    },
    {
      "cell_type": "code",
      "execution_count": 38,
      "metadata": {
        "colab": {
          "base_uri": "https://localhost:8080/"
        },
        "id": "SNCCb2gHUKkd",
        "outputId": "fb0e138d-7706-4934-a071-4f3e2884c945"
      },
      "outputs": [
        {
          "name": "stdout",
          "output_type": "stream",
          "text": [
            "[0.31682708 0.69627909]\n"
          ]
        }
      ],
      "source": [
        "# 출력층의 활성화 함수는 은닉층의 활성화 함수와 다르다\n",
        "\n",
        "def identify_function(x):\n",
        "    return x\n",
        "\n",
        "Y = identify_function(A3)\n",
        "print(Y) #최종 결과값"
      ]
    },
    {
      "attachments": {},
      "cell_type": "markdown",
      "metadata": {
        "id": "KEU4eqPAU0Nt"
      },
      "source": [
        "### 2. 구현 정리"
      ]
    },
    {
      "cell_type": "code",
      "execution_count": 39,
      "metadata": {
        "id": "9M40oPJ9U1tD"
      },
      "outputs": [],
      "source": [
        "def init_network():\n",
        "    network = {}\n",
        "    network['W1'] = np.array([[0.1,0.3,0.5],[0.2,0.4,0.6]])\n",
        "    network['b1'] = np.array([0.1, 0.2, 0.3])\n",
        "    network['W2'] = np.array([[0.1, 0.4], [0.2, 0.5], [0.3, 0.6]])\n",
        "    network['b2'] = np.array([0.1, 0.2])\n",
        "    network['W3'] = np.array([[0.1, 0.3], [0.2, 0.4]])\n",
        "    network['b3'] = np.array([0.1, 0.2])\n",
        "\n",
        "    return network\n",
        "\n",
        "def forward(network, x): #forward : 신호가 순방향(입력에서 출력방향)으로 전달됨\n",
        "    W1, W2, W3 = network['W1'], network['W2'], network['W3']\n",
        "    b1, b2, b3 = network['b1'], network['b2'], network['b3']\n",
        "\n",
        "    a1 = np.dot(x, W1) + b1\n",
        "    z1 = sigmoid(a1)\n",
        "    a2 = np.dot(z1, W2) + b2\n",
        "    z2 = sigmoid(a2)\n",
        "    a3 = np.dot(z2, W3) + b3\n",
        "    y = identify_function(a3)\n",
        "\n",
        "    return y"
      ]
    },
    {
      "cell_type": "code",
      "execution_count": 40,
      "metadata": {
        "id": "KNhca5_dWOMY"
      },
      "outputs": [],
      "source": [
        "network = init_network()"
      ]
    },
    {
      "cell_type": "code",
      "execution_count": 41,
      "metadata": {
        "id": "LwXy1_khWQ-l"
      },
      "outputs": [],
      "source": [
        "x = np.array([1, 0.5]) #입력값"
      ]
    },
    {
      "cell_type": "code",
      "execution_count": 42,
      "metadata": {
        "colab": {
          "base_uri": "https://localhost:8080/"
        },
        "id": "p5O1-LVtWTjm",
        "outputId": "4e9cb931-a470-4b03-e7de-4bc3d8207831"
      },
      "outputs": [
        {
          "name": "stdout",
          "output_type": "stream",
          "text": [
            "[0.31682708 0.69627909]\n"
          ]
        }
      ],
      "source": [
        "y = forward(network, x)\n",
        "print(y) #출력값"
      ]
    },
    {
      "attachments": {},
      "cell_type": "markdown",
      "metadata": {
        "id": "xrCGFLO8WvH9"
      },
      "source": [
        "## 4. 출력층 설계"
      ]
    },
    {
      "attachments": {},
      "cell_type": "markdown",
      "metadata": {
        "id": "rvYOSa2GW-ml"
      },
      "source": [
        "* 신경망은 분류와 회귀에 모두 이용가능\n",
        "* 둘중 어떤 문제냐에 따라 출력층에서 사용하는 활성화 함수가 달라진다"
      ]
    },
    {
      "attachments": {},
      "cell_type": "markdown",
      "metadata": {
        "id": "jkx9_WOaW0By"
      },
      "source": [
        "### 1. 항등함수와 소프트맥스 함수 구현\n",
        "\n",
        "* 항등함수\n",
        "    * 입력을 그대로 출력해주는 함수\n",
        "* 소프트맥스함수\n",
        "    * 분류를 위해 출력되는 값들의 합을 1로 만들어 확률화 시켜준다\n",
        "    * $y_k = \\displaystyle\\frac{exp(a_k)}{\\displaystyle\\sum_{i=1}^n{exp(a_i)}}$"
      ]
    },
    {
      "cell_type": "code",
      "execution_count": 43,
      "metadata": {
        "id": "CtXbYgWTWywF"
      },
      "outputs": [],
      "source": [
        "# 항등함수\n",
        "\n",
        "def identify_function(x):\n",
        "    return x"
      ]
    },
    {
      "cell_type": "code",
      "execution_count": 44,
      "metadata": {
        "colab": {
          "base_uri": "https://localhost:8080/"
        },
        "id": "nccoWjVjXh-S",
        "outputId": "a545820f-acef-4c57-f12d-9516c6654553"
      },
      "outputs": [
        {
          "name": "stdout",
          "output_type": "stream",
          "text": [
            "[ 1.34985881 18.17414537 54.59815003]\n",
            "74.1221542101633\n",
            "[0.01821127 0.24519181 0.73659691]\n"
          ]
        }
      ],
      "source": [
        "# 소프트맥스 함수 구현\n",
        "\n",
        "a = np.array([0.3, 2.9, 4.0])\n",
        "exp_a = np.exp(a)\n",
        "print(exp_a)\n",
        "\n",
        "sum_exp_a = np.sum(exp_a)\n",
        "print(sum_exp_a)\n",
        "\n",
        "y = exp_a / sum_exp_a\n",
        "print(y)"
      ]
    },
    {
      "cell_type": "code",
      "execution_count": 45,
      "metadata": {
        "id": "c0zJOFwWX9WE"
      },
      "outputs": [],
      "source": [
        "# 소프트맥스 함수\n",
        "\n",
        "def softmax(x):\n",
        "    exp_a = np.exp(a)\n",
        "    sum_exp_a = np.sum(exp_a)\n",
        "    y = exp_a / sum_exp_a\n",
        "\n",
        "    return y"
      ]
    },
    {
      "attachments": {},
      "cell_type": "markdown",
      "metadata": {
        "id": "gGJAYQFh7i_n"
      },
      "source": [
        "### 2. 소프트맥스 함수 구현 시 주의점\n",
        "\n",
        "* 지수함수의 특성상 입력값이 1000정도만 되도 오버 플로 발생\n",
        "* 입력값의 가장큰값을 모든 원소들에 빼줘서 값을 조절해준다"
      ]
    },
    {
      "cell_type": "code",
      "execution_count": 46,
      "metadata": {
        "colab": {
          "base_uri": "https://localhost:8080/"
        },
        "id": "w_y6cYIE725j",
        "outputId": "1cff6b03-bb30-4eac-84d9-3fc3abf31b69"
      },
      "outputs": [
        {
          "name": "stderr",
          "output_type": "stream",
          "text": [
            "/var/folders/12/xbyb7mtn19j7fdqb0rzs1gfr0000gn/T/ipykernel_70225/1173561592.py:4: RuntimeWarning: overflow encountered in exp\n",
            "  exp_a = np.exp(a)\n",
            "/var/folders/12/xbyb7mtn19j7fdqb0rzs1gfr0000gn/T/ipykernel_70225/1173561592.py:6: RuntimeWarning: invalid value encountered in divide\n",
            "  y = exp_a / sum_exp_a\n"
          ]
        },
        {
          "data": {
            "text/plain": [
              "array([nan, nan, nan])"
            ]
          },
          "execution_count": 46,
          "metadata": {},
          "output_type": "execute_result"
        }
      ],
      "source": [
        "a = np.array([1010, 1000, 990])\n",
        "softmax(a)"
      ]
    },
    {
      "cell_type": "code",
      "execution_count": 47,
      "metadata": {
        "colab": {
          "base_uri": "https://localhost:8080/"
        },
        "id": "8NlTvWh-76Ih",
        "outputId": "1f3cf7d6-eda1-4b4e-e2a9-2ae1c66a3eee"
      },
      "outputs": [
        {
          "name": "stdout",
          "output_type": "stream",
          "text": [
            "[  0 -10 -20]\n"
          ]
        }
      ],
      "source": [
        "c = np.max(a)\n",
        "print(a-c)"
      ]
    },
    {
      "cell_type": "code",
      "execution_count": 48,
      "metadata": {
        "colab": {
          "base_uri": "https://localhost:8080/"
        },
        "id": "MD-y0mSH8BhV",
        "outputId": "5e2161df-2102-4c17-869f-311c56f82efd"
      },
      "outputs": [
        {
          "data": {
            "text/plain": [
              "array([9.99954600e-01, 4.53978686e-05, 2.06106005e-09])"
            ]
          },
          "execution_count": 48,
          "metadata": {},
          "output_type": "execute_result"
        }
      ],
      "source": [
        "np.exp(a-c)/sum(np.exp(a-c))"
      ]
    },
    {
      "cell_type": "code",
      "execution_count": 49,
      "metadata": {
        "id": "Z0eh72Lx8Jnb"
      },
      "outputs": [],
      "source": [
        "def softmax(x):\n",
        "    c = np.max(x)\n",
        "    exp_a = np.exp(x - c)\n",
        "    sum_exp_a = sum(np.exp(x-c))\n",
        "    y = exp_a / sum_exp_a\n",
        "\n",
        "    return y"
      ]
    },
    {
      "cell_type": "code",
      "execution_count": 50,
      "metadata": {},
      "outputs": [
        {
          "data": {
            "text/plain": [
              "array([1., 0., 0.])"
            ]
          },
          "execution_count": 50,
          "metadata": {},
          "output_type": "execute_result"
        }
      ],
      "source": [
        "# 작은 값이 함께 있을때는? => 0으로 만든다 즉 overflow문제가 발생하지 않는다\n",
        "\n",
        "a = np.array([1000, 10, 1])\n",
        "softmax(a)"
      ]
    },
    {
      "attachments": {},
      "cell_type": "markdown",
      "metadata": {
        "id": "FOV1SgLa9UPh"
      },
      "source": [
        "### 3. 소프트맥스 함수의 특징\n",
        "\n",
        "* 출력의 총합은 1이된다 => 확률로 해석이 가능함\n",
        "* 소프트맥스를 적용해도 각 원소의 대소 관계는 변하지 않음\n",
        "    * 단조 증가함수를 이용하기 때문\n",
        "---\n",
        "\n",
        "* 신경망을 이용한 분류는 일반적으로 가장 큰 출력을 내는 뉴런에 해당하는 클래스로만 인식\n",
        "* 결과적으로 소프트맥스 함수를 생략해도 된다"
      ]
    },
    {
      "cell_type": "code",
      "execution_count": 51,
      "metadata": {
        "colab": {
          "base_uri": "https://localhost:8080/"
        },
        "id": "JhccPNqM9Xor",
        "outputId": "c2386840-7c01-474b-9a2d-924ec2f7b8bd"
      },
      "outputs": [
        {
          "name": "stdout",
          "output_type": "stream",
          "text": [
            "[9.38247921e-05 5.12266008e-03 1.39248338e-02 9.38247921e-05\n",
            " 7.60270165e-01 9.38247921e-05 1.02891378e-01 1.02891378e-01\n",
            " 6.93276652e-04 1.39248338e-02]\n"
          ]
        }
      ],
      "source": [
        "a = np.random.randint(0,10,10)\n",
        "y = softmax(a)\n",
        "print(y)"
      ]
    },
    {
      "cell_type": "code",
      "execution_count": 52,
      "metadata": {
        "colab": {
          "base_uri": "https://localhost:8080/"
        },
        "id": "z8KfMQ2l9i_S",
        "outputId": "f3c1c361-e784-4a8e-fbed-6d1cccc3d46c"
      },
      "outputs": [
        {
          "data": {
            "text/plain": [
              "0.9999999999999997"
            ]
          },
          "execution_count": 52,
          "metadata": {},
          "output_type": "execute_result"
        }
      ],
      "source": [
        "sum(y)"
      ]
    },
    {
      "attachments": {},
      "cell_type": "markdown",
      "metadata": {
        "id": "WByRSdC2-Feu"
      },
      "source": [
        "### 4. 출력층의 뉴런수 정하기\n",
        "\n",
        "* 분류하고 싶은 클래스의 수로 정하는게 일반적이다"
      ]
    },
    {
      "attachments": {},
      "cell_type": "markdown",
      "metadata": {
        "id": "74sA6olYSOER"
      },
      "source": [
        "## 손글씨 숫자 인식"
      ]
    },
    {
      "attachments": {},
      "cell_type": "markdown",
      "metadata": {
        "id": "zaa5Js_SSRpA"
      },
      "source": [
        "### 1. MNIST 데이터셋\n",
        "\n",
        "* 손글씨 숫자 이미지 집합"
      ]
    },
    {
      "cell_type": "code",
      "execution_count": 53,
      "metadata": {
        "id": "ycgKqLQlU9Gg"
      },
      "outputs": [],
      "source": [
        "import numpy as np"
      ]
    },
    {
      "attachments": {},
      "cell_type": "markdown",
      "metadata": {
        "id": "MpGy_C73aEcx"
      },
      "source": [
        "MNIST image 출력"
      ]
    },
    {
      "cell_type": "code",
      "execution_count": 54,
      "metadata": {
        "colab": {
          "base_uri": "https://localhost:8080/"
        },
        "id": "DEEDqd-PBtbv",
        "outputId": "a5a83037-385c-4f74-a6b3-baf955f7a18e"
      },
      "outputs": [
        {
          "name": "stdout",
          "output_type": "stream",
          "text": [
            "(60000, 784)\n",
            "(60000,)\n",
            "(10000, 784)\n",
            "(10000,)\n"
          ]
        }
      ],
      "source": [
        "#shape 확인\n",
        "\n",
        "import numpy as np\n",
        "from dataset.mnist import load_mnist\n",
        "\n",
        "(x_train, t_train), (x_test, t_test) = load_mnist(flatten = True,   #1차원으로 변환\n",
        "                                                  normalize = False,    # 픽셀값을 0~1사이로 변환\n",
        "                                                  one_hot_label = False)    # 결과 라벨을 원핫 인코딩\n",
        "print(x_train.shape)\n",
        "print(t_train.shape)\n",
        "print(x_test.shape)\n",
        "print(t_test.shape)"
      ]
    },
    {
      "cell_type": "code",
      "execution_count": 55,
      "metadata": {
        "colab": {
          "base_uri": "https://localhost:8080/"
        },
        "id": "3epAY98LZ7Uq",
        "outputId": "85131141-7476-4916-81aa-7981a2d6cd89"
      },
      "outputs": [
        {
          "name": "stdout",
          "output_type": "stream",
          "text": [
            "5\n",
            "(784,)\n",
            "(28, 28)\n"
          ]
        }
      ],
      "source": [
        "#이미지 로드\n",
        "\n",
        "import numpy as np\n",
        "from dataset.mnist import load_mnist\n",
        "from PIL import Image\n",
        "\n",
        "def img_show(img):\n",
        "  pil_img = Image.fromarray(np.uint8(img)) # PIL용 데이터 객체로 변환하는 법\n",
        "  pil_img.show()\n",
        "\n",
        "(x_train, t_train), (x_test, t_test) = load_mnist(flatten = True, normalize = False)\n",
        "\n",
        "img = x_train[0] # image pixel information\n",
        "label = t_train[0] # image label\n",
        "print(label)\n",
        "\n",
        "print(img.shape)\n",
        "img = img.reshape(28, 28)\n",
        "print(img.shape)\n",
        "\n",
        "img_show(img)"
      ]
    },
    {
      "attachments": {},
      "cell_type": "markdown",
      "metadata": {
        "id": "dsr_opXAXPvO"
      },
      "source": [
        "### 2. 신경망의 추론 처리\n",
        "\n",
        "* 입력층 뉴련 784개 출력층 뉴런 10개로 정의\n",
        "  * 28 * 28 이미지 => 입력층 784\n",
        "  * 10개의 이미지 레이블 => 출력층 10\n",
        "\n",
        "* 은닉층\n",
        "  * 첫번째 층 50개\n",
        "  * 두번째 층 100개"
      ]
    },
    {
      "cell_type": "code",
      "execution_count": 56,
      "metadata": {
        "id": "qXMqaOdqXRdf"
      },
      "outputs": [],
      "source": [
        "# data load function\n",
        "\n",
        "def get_data():\n",
        "  (x_train, t_train), (x_test, t_test) = load_mnist(normalize = True,\n",
        "                                                    flatten = True,\n",
        "                                                    one_hot_label = False)\n",
        "  return x_test, t_test"
      ]
    },
    {
      "cell_type": "code",
      "execution_count": 57,
      "metadata": {},
      "outputs": [],
      "source": [
        "# sample_weight.pkl 저장경로로 변경\n",
        "\n",
        "os.chdir('/Users/psw/문서/programming/python/code/Python_study/딥러닝/deep-learning-from-scratch/ch03')"
      ]
    },
    {
      "cell_type": "code",
      "execution_count": 58,
      "metadata": {
        "id": "_7xpJ2fqYxyJ"
      },
      "outputs": [],
      "source": [
        "import pickle\n",
        "\n",
        "def init_network():\n",
        "    with open('sample_weight.pkl', 'rb') as f:\n",
        "        network = pickle.load(f) #sample_weight.pkl 파일에 가중치가 저장돼있다.\n",
        "\n",
        "    return network"
      ]
    },
    {
      "cell_type": "code",
      "execution_count": 59,
      "metadata": {
        "id": "TMIGqq2dFL7W"
      },
      "outputs": [],
      "source": [
        "def predict(network, x):\n",
        "    # 저장된 가중치 불러오는 작업\n",
        "    W1, W2, W3 = network['W1'], network['W2'], network['W3']\n",
        "    b1, b2, b3 = network['b1'], network['b2'], network['b3']\n",
        "\n",
        "    a1 = np.dot(x, W1) + b1\n",
        "    z1 = sigmoid(a1)\n",
        "    a2 = np.dot(z1, W2) + b2\n",
        "    z2 = sigmoid(a2)\n",
        "    a3 = np.dot(z2, W3) + b3\n",
        "    y = softmax(a3)\n",
        "\n",
        "    return y"
      ]
    },
    {
      "cell_type": "code",
      "execution_count": 60,
      "metadata": {
        "id": "KlkWine7Grw6"
      },
      "outputs": [],
      "source": [
        "x, t = get_data() #test data만 불러온다\n",
        "network = init_network()"
      ]
    },
    {
      "cell_type": "code",
      "execution_count": 61,
      "metadata": {
        "colab": {
          "base_uri": "https://localhost:8080/"
        },
        "id": "7QVjX2ThHPex",
        "outputId": "6cc8bb35-d37b-4ac8-e0dd-1b007508b2f1"
      },
      "outputs": [
        {
          "name": "stdout",
          "output_type": "stream",
          "text": [
            "accuracy : 0.9352\n"
          ]
        }
      ],
      "source": [
        "acc_cnt = 0\n",
        "\n",
        "for i, j in enumerate(x):\n",
        "    y = predict(network, j) #저장된 모델을 이용하여 예측\n",
        "    p = np.argmax(y) # 예측 모델의 결과값중 최대 확률 라벨을 구함\n",
        "    if p == t[i]:\n",
        "        acc_cnt += 1 # 예측 라벨과 실제 라벨이 같으면 정답 처리\n",
        "\n",
        "print(f'accuracy : {str(float(acc_cnt)/len(x))}')"
      ]
    },
    {
      "attachments": {},
      "cell_type": "markdown",
      "metadata": {
        "id": "du1i4msGNTDc"
      },
      "source": [
        "### 3. 배치 처리"
      ]
    },
    {
      "cell_type": "code",
      "execution_count": 62,
      "metadata": {
        "id": "-kJMhFo7NYR2"
      },
      "outputs": [],
      "source": [
        "x, _ = get_data()\n",
        "network = init_network()"
      ]
    },
    {
      "cell_type": "code",
      "execution_count": 63,
      "metadata": {
        "id": "dbG-fO1qNdDm"
      },
      "outputs": [],
      "source": [
        "W1, W2, W3 = network['W1'], network['W2'], network['W3']"
      ]
    },
    {
      "attachments": {},
      "cell_type": "markdown",
      "metadata": {
        "id": "cGO8mkqMOaC4"
      },
      "source": [
        "X(784) * (784,50) * (50,100) * (100,10) => Y(10)\n",
        "* 하나의 이미지 입력"
      ]
    },
    {
      "cell_type": "code",
      "execution_count": 64,
      "metadata": {
        "colab": {
          "base_uri": "https://localhost:8080/"
        },
        "id": "gt-ihDX7NkFU",
        "outputId": "b7856b76-9b25-4998-b166-937bd91247a5"
      },
      "outputs": [
        {
          "name": "stdout",
          "output_type": "stream",
          "text": [
            "(10000, 784)\n",
            "(784,)\n",
            "(784, 50)\n",
            "(50, 100)\n",
            "(100, 10)\n"
          ]
        }
      ],
      "source": [
        "print(x.shape)\n",
        "print(x[0].shape)\n",
        "print(W1.shape)\n",
        "print(W2.shape)\n",
        "print(W3.shape)"
      ]
    },
    {
      "attachments": {},
      "cell_type": "markdown",
      "metadata": {
        "id": "Bt57AMGdOWf6"
      },
      "source": [
        "이미지 여러장을 한꺼번에 입력하는 경우\n",
        "\n",
        "X(100,784) * (784,50) * (50*100) * (100*10) => Y(100*10)\n",
        "\n",
        "* 이러한 100장의 묶은 데이터를 배치라고 한다"
      ]
    },
    {
      "cell_type": "code",
      "execution_count": 65,
      "metadata": {
        "colab": {
          "base_uri": "https://localhost:8080/"
        },
        "id": "bkVD6hWZO5zF",
        "outputId": "6c6d3735-9942-48ed-fee7-a8468de67ddb"
      },
      "outputs": [
        {
          "name": "stdout",
          "output_type": "stream",
          "text": [
            "accuracy : [0.92 0.93 0.93 0.9  0.89 0.86 0.89 0.9  0.91 0.89 0.9  0.86 0.83 0.92\n",
            " 0.89 0.89 0.88 0.82 0.85 0.85 0.87 0.86 0.96 0.85 0.87 0.86 0.92 0.93\n",
            " 0.94 0.89 0.95 0.91 0.91 0.92 0.9  0.9  0.94 0.88 0.81 0.86 0.85 0.94\n",
            " 0.91 0.89 0.9  0.92 0.89 0.93 0.89 0.89 0.92 0.95 0.97 0.99 0.99 0.98\n",
            " 0.92 0.95 0.96 0.93 0.85 0.95 1.   0.97 0.92 0.88 0.91 0.89 0.99 0.98\n",
            " 0.96 0.98 0.95 0.99 0.92 0.97 0.99 0.98 0.92 0.9  0.93 0.99 0.94 0.94\n",
            " 0.97 0.96 0.99 1.   1.   1.   0.87 0.96 0.95 0.99 0.97 0.94 0.93 0.85\n",
            " 0.87 0.91]\n"
          ]
        }
      ],
      "source": [
        "# 배치 처리 구현\n",
        "\n",
        "x, t = get_data()\n",
        "network = init_network()\n",
        "\n",
        "batch_size = 100\n",
        "accuracy_cnt = []\n",
        "\n",
        "for i in range(0, len(x), batch_size):\n",
        "    x_batch = x[i:i+batch_size, :]\n",
        "    y_batch = predict(network, x_batch)\n",
        "    p = np.argmax(y_batch, axis = 1)\n",
        "    accuracy_cnt.append(np.sum(p == t[i:i+batch_size]))\n",
        "\n",
        "print(f'accuracy : {np.array(accuracy_cnt)/100}') #각 배치별 정답율 확인"
      ]
    },
    {
      "attachments": {},
      "cell_type": "markdown",
      "metadata": {
        "id": "Y83VrSeIWZ9E"
      },
      "source": [
        "3장 요약\n",
        "\n",
        "* 퍼셉트론과 달리 신경망에는 활성화함수가 있다\n",
        "* 활성화 함수의 종류로는 ReLU, sigmoid, softmax 함수 등이 있다\n",
        "* numpy 다차원 배열을 통해 신경망을 효율적으로 구성할 수 있다\n",
        "* 입력데이터를 묶은 것을 배치라 하며 배치 단위로 진행하면 결과를 훨씬 빠르게 얻을 수 있다\n"
      ]
    },
    {
      "attachments": {},
      "cell_type": "markdown",
      "metadata": {
        "id": "n5b196cVWzTX"
      },
      "source": [
        "# 신경망 학습"
      ]
    },
    {
      "attachments": {},
      "cell_type": "markdown",
      "metadata": {
        "id": "wdj-qcRoXCk9"
      },
      "source": [
        "## 1. 데이터를 통한 학습\n",
        "\n",
        "* 신경망에서 학습이란 훈련 데이터로부터 가중치 매개변수의 최적값을 획득하는것을 의미한다\n"
      ]
    },
    {
      "attachments": {},
      "cell_type": "markdown",
      "metadata": {
        "id": "jGeeUvgr5F51"
      },
      "source": [
        "## 2. 손실함수\n",
        "\n",
        "* 성능의 나쁨을 나타내는 지표\n",
        "* 현재의 신경망이 훈련 데이터를 얼마나 잘 처리하느냐를 의미"
      ]
    },
    {
      "attachments": {},
      "cell_type": "markdown",
      "metadata": {
        "id": "lMVvD0VG5hSZ"
      },
      "source": [
        "### 1. 평균 제곱오차(MSE)\n",
        "\n",
        "$E = \\displaystyle\\frac{1}{2}\\displaystyle\\sum_{k}{(y_k-t_k)^2}$\n",
        "\n",
        "* 일반적으로 $\\displaystyle\\frac{1}{k}$ 을 사용함"
      ]
    },
    {
      "cell_type": "code",
      "execution_count": 66,
      "metadata": {
        "id": "ukK5fA1a6UN6"
      },
      "outputs": [],
      "source": [
        "def mse(y, t):\n",
        "    if len(y) == len(t):\n",
        "        return (1/2) * np.sum((y-t)**2)\n",
        "    else:\n",
        "        return print('length not match')"
      ]
    },
    {
      "cell_type": "code",
      "execution_count": 67,
      "metadata": {
        "colab": {
          "base_uri": "https://localhost:8080/"
        },
        "id": "aMbVWMnI_A-F",
        "outputId": "2216f6ea-0714-4601-f797-f2cf0ed0651e"
      },
      "outputs": [
        {
          "name": "stdout",
          "output_type": "stream",
          "text": [
            "case1: 0.09750000000000003\n",
            "case2: 0.5975\n"
          ]
        }
      ],
      "source": [
        "# y: 신경망의 출력, t : 정답 레이블\n",
        "\n",
        "t = [0, 0, 1, 0, 0, 0, 0, 0, 0, 0] #정답 레이블이 2일때\n",
        "\n",
        "# 2일 확률이 가장 높다고 추정함\n",
        "\n",
        "y1 = [0.1, 0.05, 0.6, 0, 0.05, 0.1, 0, 0.1, 0, 0]\n",
        "print(f'case1: {mse(np.array(y1), np.array(t))}')\n",
        "\n",
        "# 7일 확률이 가장 높다고 추정\n",
        "\n",
        "y2 = [0.1, 0.05, 0.1, 0.0, 0.05, 0.1, 0.0, 0.6 , 0.0, 0.0]\n",
        "print(f'case2: {mse(np.array(y2), np.array(t))}')\n",
        "\n",
        "\n",
        "# -> 손실함수를 확인했을때 더 작은 첫번째 추정결과가 정답에 더 가까울거라 예상 가능"
      ]
    },
    {
      "attachments": {},
      "cell_type": "markdown",
      "metadata": {
        "id": "2y48IgkjAuB7"
      },
      "source": [
        "### 2. 교차 엔트로피 오차\n",
        "\n",
        "$E = -\\displaystyle\\sum_{k}{t_klogy_k}$ (log는 밑이 e인 자연로그)\n",
        "\n",
        "$y_k$ : 신경망의 출력  \n",
        "$t_k$ : 정답 레이블(one-hot encoding 형태)\n",
        "\n",
        "* 즉 정답일때의 로그 신경망 출력값을 의미한다"
      ]
    },
    {
      "cell_type": "code",
      "execution_count": 68,
      "metadata": {
        "colab": {
          "base_uri": "https://localhost:8080/",
          "height": 452
        },
        "id": "67XGQ9Z2AwL6",
        "outputId": "f9cb1190-76e1-48ec-dcfa-8a7d5ffbe43b"
      },
      "outputs": [
        {
          "data": {
            "image/png": "[encoded data removed]",
            "text/plain": [
              "<Figure size 640x480 with 1 Axes>"
            ]
          },
          "metadata": {},
          "output_type": "display_data"
        }
      ],
      "source": [
        "x = np.linspace(0,1, 1000)\n",
        "y = np.log(x + 0.00001) # log0 방지를 위해 0.00001 더하기\n",
        "\n",
        "plt.plot(x,-y)\n",
        "plt.ylim(0,5)\n",
        "plt.xlim(0,1)\n",
        "plt.title('minus ln graph')\n",
        "plt.show()\n",
        "\n",
        "# -> y값이(정답 레이블의 확률)이 커질수록 Error값이 작아진다"
      ]
    },
    {
      "cell_type": "code",
      "execution_count": 69,
      "metadata": {
        "id": "_Jlf9XMdCbEX"
      },
      "outputs": [],
      "source": [
        "def cross_entropy_error(y,t):\n",
        "    delta = 1e-7\n",
        "    return -np.sum(t * np.log(y + delta))"
      ]
    },
    {
      "cell_type": "code",
      "execution_count": 70,
      "metadata": {
        "colab": {
          "base_uri": "https://localhost:8080/"
        },
        "id": "LPM6VpV3DG74",
        "outputId": "f8daf671-2ecc-4b7d-af35-a6f2b6984d80"
      },
      "outputs": [
        {
          "name": "stdout",
          "output_type": "stream",
          "text": [
            "case1: 0.510825457099338\n",
            "case2: 2.302584092994546\n"
          ]
        }
      ],
      "source": [
        "# y: 신경망의 출력, t : 정답 레이블\n",
        "\n",
        "t = [0, 0, 1, 0, 0, 0, 0, 0, 0, 0] #정답 레이블이 2일때\n",
        "\n",
        "# 2일 확률이 가장 높다고 추정함\n",
        "\n",
        "y1 = [0.1, 0.05, 0.6, 0, 0.05, 0.1, 0, 0.1, 0, 0]\n",
        "print(f'case1: {cross_entropy_error(np.array(y1), np.array(t))}')\n",
        "\n",
        "# 7일 확률이 가장 높다고 추정\n",
        "\n",
        "y2 = [0.1, 0.05, 0.1, 0.0, 0.05, 0.1, 0.0, 0.6 , 0.0, 0.0]\n",
        "print(f'case2: {cross_entropy_error(np.array(y2), np.array(t))}')\n",
        "\n",
        "\n",
        "# -> 손실함수를 확인했을때 더 작은 첫번째 추정결과가 정답에 더 가까울거라 예상 가능\n",
        "# -> 평균제곱오차(mse)와 판단이 일치함"
      ]
    },
    {
      "attachments": {},
      "cell_type": "markdown",
      "metadata": {
        "id": "MvEymASODZu3"
      },
      "source": [
        "### 3. 미니배치학습\n",
        "\n",
        "* 훈련데이터를 통해 손실함수를 구한다\n",
        "* 모든 훈련데이터에 대한 손실함수의 합을 구하는 방법"
      ]
    },
    {
      "attachments": {},
      "cell_type": "markdown",
      "metadata": {
        "id": "NmnJilWPv4t9"
      },
      "source": [
        "교차 엔트로피 함수\n",
        "\n",
        "$E = -\\frac{1}{n}\\displaystyle\\sum_{n}\\sum_{k}{t_{n,k}logy_{n,k}}$\n",
        "\n",
        "* 단순히 교차엔트로피의 평균이라 생각하면됨"
      ]
    },
    {
      "cell_type": "code",
      "execution_count": 71,
      "metadata": {
        "id": "38117vZTDa6F"
      },
      "outputs": [],
      "source": [
        "(x_train, t_train), (x_test, t_test) = load_mnist(normalize = True,\n",
        "                                                  flatten = True,\n",
        "                                                  one_hot_label = False)"
      ]
    },
    {
      "cell_type": "code",
      "execution_count": 72,
      "metadata": {
        "colab": {
          "base_uri": "https://localhost:8080/"
        },
        "id": "qsqsH3BXxS59",
        "outputId": "532c6cf2-1686-43a5-b249-98a960c7e834"
      },
      "outputs": [
        {
          "name": "stdout",
          "output_type": "stream",
          "text": [
            "[17673 40061 29199 50496 28017 40059  9372 10201 37597 17904]\n"
          ]
        }
      ],
      "source": [
        "# batch size가 10일때\n",
        "\n",
        "np.random.seed(10)\n",
        "train_size = x_train.shape[0]\n",
        "batch_size = 10\n",
        "batch_mask = np.random.choice(train_size, batch_size) #60000중 무작위로 10개의 숫자 추출\n",
        "x_batch = x_train[batch_mask]\n",
        "t_batch = t_train[batch_mask]\n",
        "print(batch_mask)"
      ]
    },
    {
      "attachments": {},
      "cell_type": "markdown",
      "metadata": {
        "id": "Fq4fZgRI47Ib"
      },
      "source": [
        "### 5. (배치용) 교차 엔트로피 오차 구현하기"
      ]
    },
    {
      "cell_type": "code",
      "execution_count": 73,
      "metadata": {
        "id": "sPZ538614gpQ"
      },
      "outputs": [],
      "source": [
        "def cross_entropy_error(y, t):\n",
        "    if y.ndim == 1:\n",
        "        t = t.reshape(1, t.size)\n",
        "        y = y.reshape(1, y.size)\n",
        "\n",
        "    batch_size = y.shape[0]\n",
        "    result = -np.sum(t*np.log(y+1e-7)) / batch_size\n",
        "    return result"
      ]
    },
    {
      "attachments": {},
      "cell_type": "markdown",
      "metadata": {
        "id": "NS2rfePJAQl5"
      },
      "source": [
        "코드 해석\n",
        "\n",
        "* y.ndim == 1일때 왜 reshape을 사용하는가"
      ]
    },
    {
      "cell_type": "code",
      "execution_count": 74,
      "metadata": {
        "id": "TY1dzgnK-voB"
      },
      "outputs": [],
      "source": [
        "y1 = [0.1, 0.05, 0.6, 0, 0.05, 0.1, 0, 0.1, 0, 0]\n",
        "t = [0, 0, 1, 0, 0, 0, 0, 0, 0, 0]"
      ]
    },
    {
      "cell_type": "code",
      "execution_count": 75,
      "metadata": {
        "id": "pe6hiCL0_ETv"
      },
      "outputs": [],
      "source": [
        "y_array = np.array(y1)\n",
        "y_r = y_array.reshape(1,y_array.size)"
      ]
    },
    {
      "cell_type": "code",
      "execution_count": 76,
      "metadata": {
        "id": "yrQ7c2u6_e9-"
      },
      "outputs": [],
      "source": [
        "t_array = np.array(t)\n",
        "t_r = t_array.reshape(1, t_array.size)"
      ]
    },
    {
      "cell_type": "code",
      "execution_count": 77,
      "metadata": {
        "colab": {
          "base_uri": "https://localhost:8080/"
        },
        "id": "gbRuvlwe_5Y7",
        "outputId": "8b9d5430-7a49-475b-d586-b7fe45edca67"
      },
      "outputs": [
        {
          "name": "stdout",
          "output_type": "stream",
          "text": [
            "[0.1  0.05 0.6  0.   0.05 0.1  0.   0.1  0.   0.  ]\n",
            "(10,)\n",
            "[[0.1  0.05 0.6  0.   0.05 0.1  0.   0.1  0.   0.  ]]\n",
            "(1, 10)\n"
          ]
        }
      ],
      "source": [
        "print(y_array)\n",
        "print(y_array.shape)\n",
        "print(y_r)\n",
        "print(y_r.shape)"
      ]
    },
    {
      "cell_type": "code",
      "execution_count": 78,
      "metadata": {
        "colab": {
          "base_uri": "https://localhost:8080/"
        },
        "id": "7SVF6nZn_veq",
        "outputId": "7ea4157d-d96a-4116-d74d-4db9d6e84ff5"
      },
      "outputs": [
        {
          "name": "stdout",
          "output_type": "stream",
          "text": [
            "10\n",
            "1\n"
          ]
        }
      ],
      "source": [
        "print(y_array.shape[0])\n",
        "print(y_r.shape[0])\n",
        "\n",
        "# -> 자료가 1개 즉 batch_size가 1인데 reshape을 안해준다면 batch_size가 10이된다.\n",
        "# -> 즉 batch_size가 1일때 batch_size가 2 이상일때와 동일하게 맞춰준다"
      ]
    },
    {
      "cell_type": "code",
      "execution_count": 79,
      "metadata": {
        "colab": {
          "base_uri": "https://localhost:8080/"
        },
        "id": "SreOOXilA9VM",
        "outputId": "d6f40258-ba8f-446c-c579-08a541d27453"
      },
      "outputs": [
        {
          "data": {
            "text/plain": [
              "0.510825457099338"
            ]
          },
          "execution_count": 79,
          "metadata": {},
          "output_type": "execute_result"
        }
      ],
      "source": [
        "-np.sum(t_r * np.log(y_r + 1e-7))\n",
        "\n",
        "# -> reshape을 해줘도 연산은 제대로 잘된다."
      ]
    },
    {
      "cell_type": "code",
      "execution_count": 80,
      "metadata": {
        "id": "ziXlTqXyBNQN"
      },
      "outputs": [],
      "source": [
        "# 정답레이블이 원핫 인코딩 변환이 안되있는 경우\n",
        "\n",
        "def cross_entropy_error(y, t):\n",
        "    if y.ndim == 1:\n",
        "        t = t.reshape(1, t.size)\n",
        "        y = y.reshape(1, y.size)\n",
        "\n",
        "    batch_size = y.shape[0]\n",
        "    result = -np.sum(np.log(y[np.arange(batch_size), t] + 1e-7)) / batch_size\n",
        "    return result"
      ]
    },
    {
      "attachments": {},
      "cell_type": "markdown",
      "metadata": {
        "id": "vkTV_Z2yBksW"
      },
      "source": [
        "코드 해석\n",
        "\n",
        "* y[np.arange(batch_size),t]"
      ]
    },
    {
      "cell_type": "code",
      "execution_count": 81,
      "metadata": {
        "colab": {
          "base_uri": "https://localhost:8080/"
        },
        "id": "nNO7klNcBtJ_",
        "outputId": "0040e687-028c-403e-a178-070cb372b36f"
      },
      "outputs": [
        {
          "data": {
            "text/plain": [
              "array([0.6, 0.6, 0.6])"
            ]
          },
          "execution_count": 81,
          "metadata": {},
          "output_type": "execute_result"
        }
      ],
      "source": [
        "# batch_size가 3일경우\n",
        "\n",
        "y = np.array([[0.1, 0.05, 0.6, 0, 0.05, 0.1, 0, 0.1, 0, 0],\n",
        "              [0.1, 0.05, 0.1, 0, 0.05, 0.1, 0, 0.6, 0, 0],\n",
        "              [0.1, 0.05, 0.1, 0, 0.05, 0.6, 0, 0.1, 0, 0]])\n",
        "\n",
        "y[np.arange(3), np.array([2,7,5])] # 정답 레이블만의 신경망의 출력을 추출해준다"
      ]
    },
    {
      "attachments": {},
      "cell_type": "markdown",
      "metadata": {
        "id": "sFkOyF3k-lPJ"
      },
      "source": [
        "### 5. 손실함수를 사용하는 이유\n",
        "\n",
        "* 정확도라는 지표가 있는데 손실함수를 왜 사용하는가?\n",
        "    * 최적의 매개변수를 탐색할 때 손실함수의 값을 가능한 작게 하는 매개변수 값을 찾는다\n",
        "    * 이때 미분을 활용하게 됨\n",
        "    * 손실함수를 가중치 매개변수 값으로 미분을 해준다면 매개변수값의 변화량과 그애 따른 손실함수의 변화를 수치화 가능\n",
        "\n"
      ]
    },
    {
      "attachments": {},
      "cell_type": "markdown",
      "metadata": {
        "id": "AtJjodGCD_wy"
      },
      "source": [
        "예시)\n",
        "\n",
        "* 정확도가 지표일때\n",
        "    * 100장의 훈련데이터 중 32장을 올바로 인식한다고 하면\n",
        "    * 매개변수의 값을 조절해도 정확도가 불연속 하게 바뀐다 즉   \n",
        "    => 32%의 정확도가 개선해서 34장을 맞춘다면 34%의 정확도가 된다\n",
        "\n",
        "* 손실함수가 지표일때\n",
        "    * 손실함수의 값이 0.8381xx 같은 연속 수치로 나타남\n",
        "    * 매개변수의 값이 변하면 손실함수의 값도 연속적으로 변화함"
      ]
    },
    {
      "attachments": {},
      "cell_type": "markdown",
      "metadata": {
        "id": "Kd4A2GIQFiY9"
      },
      "source": [
        "## 3. 수치미분\n",
        "\n",
        "* 해석적 미분 : 우리가 수업시간 때 배웠던 $x^2$ 미분 => $2x$\n",
        "    * 따라서 해석적 미분은 오차를 포함하지 않는 진정한 미분 값을 구해준다\n",
        "    \n",
        "* 수치 미분 : 근사치로 기울기를 계산하는 방법"
      ]
    },
    {
      "attachments": {},
      "cell_type": "markdown",
      "metadata": {
        "id": "aBbM3x37Fu9p"
      },
      "source": [
        "### 1. 미분"
      ]
    },
    {
      "attachments": {},
      "cell_type": "markdown",
      "metadata": {
        "id": "xrfEuguCFzkt"
      },
      "source": [
        "미분 구현"
      ]
    },
    {
      "cell_type": "code",
      "execution_count": 82,
      "metadata": {
        "id": "MjUpApltFv5d"
      },
      "outputs": [],
      "source": [
        "#나쁜구현\n",
        "def numerical_diff(f, x):\n",
        "    h = 10e-50\n",
        "    return (f(x+h) - f(x)) / h"
      ]
    },
    {
      "cell_type": "code",
      "execution_count": 83,
      "metadata": {
        "colab": {
          "base_uri": "https://localhost:8080/"
        },
        "id": "qxtPB2thGA0L",
        "outputId": "190eebeb-742e-4e54-e685-535fe9e6bacc"
      },
      "outputs": [
        {
          "data": {
            "text/plain": [
              "0.0"
            ]
          },
          "execution_count": 83,
          "metadata": {},
          "output_type": "execute_result"
        }
      ],
      "source": [
        "# h의 값이 너무 작아서 구현이 안됨\n",
        "\n",
        "np.float32(1e-50) #np.float64일때는 구현 됨"
      ]
    },
    {
      "cell_type": "code",
      "execution_count": 84,
      "metadata": {
        "id": "9HOMpMlBGaUP"
      },
      "outputs": [],
      "source": [
        "# 10e-50은 너무 작아 컴퓨터가 인식 못함 -> 적당한 1e-4이용\n",
        "# 전방차분의 한계 -> 중앙차분으로 변환(중앙차분으로 변환할때 좋은점은 자세히 설명되있지않음)"
      ]
    },
    {
      "cell_type": "code",
      "execution_count": 85,
      "metadata": {
        "id": "C7WZ8iXcGdYA"
      },
      "outputs": [],
      "source": [
        "def numerical_diff(f, x):\n",
        "    h = 1e-5\n",
        "    return (f(x+h) - f(x-h)) / 2*h"
      ]
    },
    {
      "attachments": {},
      "cell_type": "markdown",
      "metadata": {
        "id": "wjOtj5RdHONi"
      },
      "source": [
        "### 2. 수치 미분의 예"
      ]
    },
    {
      "attachments": {},
      "cell_type": "markdown",
      "metadata": {
        "id": "VTR4pf9YHYLZ"
      },
      "source": [
        "$ f = 0.01x^2 + 0.1x$"
      ]
    },
    {
      "cell_type": "code",
      "execution_count": 86,
      "metadata": {
        "id": "juisrPENHPqC"
      },
      "outputs": [],
      "source": [
        "def function_1(x):\n",
        "    return 0.01*x**2 + 0.1*x"
      ]
    },
    {
      "cell_type": "code",
      "execution_count": 87,
      "metadata": {
        "colab": {
          "base_uri": "https://localhost:8080/"
        },
        "id": "VP3O4aHtHdSr",
        "outputId": "b467ba61-d572-4642-90c8-639f19754b60"
      },
      "outputs": [
        {
          "data": {
            "text/plain": [
              "1.999999999890978e-11"
            ]
          },
          "execution_count": 87,
          "metadata": {},
          "output_type": "execute_result"
        }
      ],
      "source": [
        "numerical_diff(function_1, 5)\n",
        "\n",
        "#해석적미분의 2와 거의 같은값으로 볼 수 있을 정도로 오차가 작다"
      ]
    },
    {
      "attachments": {},
      "cell_type": "markdown",
      "metadata": {
        "id": "rjIG1f65IImy"
      },
      "source": [
        "### 3. 편미분\n",
        "\n",
        "$ f(x_0, x_1) = x_0^2 + x_1^2$\n",
        "\n",
        "* $x_0 = 3, x_1 = 4$ 일때 $x1, x2$에 대한 각각의 편미분을 구하라\n",
        "* $\\frac{\\partial f}{\\partial x_0}$, $\\frac{\\partial f}{\\partial x_1}$\n",
        "\n"
      ]
    },
    {
      "cell_type": "code",
      "execution_count": 88,
      "metadata": {
        "id": "kQPVze2OIJnN"
      },
      "outputs": [],
      "source": [
        "def function_2(x):\n",
        "    return x[0]**2 + x[1]**2"
      ]
    },
    {
      "cell_type": "code",
      "execution_count": 89,
      "metadata": {
        "id": "7r6OSbF1IXRw"
      },
      "outputs": [],
      "source": [
        "def function_tmp1(x0):\n",
        "    return x0*x0 + 4 ** 2"
      ]
    },
    {
      "cell_type": "code",
      "execution_count": 90,
      "metadata": {
        "colab": {
          "base_uri": "https://localhost:8080/"
        },
        "id": "GeLHqNUwI-ZJ",
        "outputId": "af631183-3199-4f25-be12-e49b51581097"
      },
      "outputs": [
        {
          "data": {
            "text/plain": [
              "6.000000000128125e-10"
            ]
          },
          "execution_count": 90,
          "metadata": {},
          "output_type": "execute_result"
        }
      ],
      "source": [
        "numerical_diff(function_tmp1, 3) #x0에 대한 편미분 계수"
      ]
    },
    {
      "cell_type": "code",
      "execution_count": 91,
      "metadata": {
        "id": "vSudDTHdJFbr"
      },
      "outputs": [],
      "source": [
        "def function_tmp2(x1):\n",
        "    return 3**2 + x1*x1"
      ]
    },
    {
      "cell_type": "code",
      "execution_count": 92,
      "metadata": {
        "colab": {
          "base_uri": "https://localhost:8080/"
        },
        "id": "Xc6Z8PJtJQGB",
        "outputId": "76d78f26-1de9-41fc-f8a5-a4fe94ae027c"
      },
      "outputs": [
        {
          "data": {
            "text/plain": [
              "7.999999999874774e-10"
            ]
          },
          "execution_count": 92,
          "metadata": {},
          "output_type": "execute_result"
        }
      ],
      "source": [
        "numerical_diff(function_tmp2, 4)"
      ]
    },
    {
      "attachments": {},
      "cell_type": "markdown",
      "metadata": {
        "id": "GWP7oYnLFO14"
      },
      "source": [
        "## 4. 기울기\n",
        "\n",
        "* 기울기가 가리기는 쪽은 각 장소에서 함수의 출력값을 가장 크게 줄이는 방향"
      ]
    },
    {
      "attachments": {},
      "cell_type": "markdown",
      "metadata": {
        "id": "8x6msVSxVyHH"
      },
      "source": [
        "수식\n",
        "\n",
        "$ x_0 = x_0 - \\eta * \\frac{\\partial f}{\\partial x_0} $  \n",
        "$ x_1 = x_1 - \\eta * \\frac{\\partial f}{\\partial x_1} $  \n",
        "\n",
        "\n",
        "$\\eta$ 는 신경망에서 학습률을 의미"
      ]
    },
    {
      "attachments": {},
      "cell_type": "markdown",
      "metadata": {
        "id": "ASF_masQBsAn"
      },
      "source": [
        "기울기 함수 구현"
      ]
    },
    {
      "cell_type": "code",
      "execution_count": 93,
      "metadata": {
        "id": "DZEUkhPWBtcI"
      },
      "outputs": [],
      "source": [
        "def numerical_gradient(f, x):\n",
        "    h = 1e-4\n",
        "    grad = np.zeros_like(x) #빈 기울기 벡터 정의\n",
        "\n",
        "    for idx in range(x.size):\n",
        "        tmp_val = x[idx]\n",
        "\n",
        "        x[idx] = tmp_val + h\n",
        "        fxh1 = f(x)\n",
        "\n",
        "        x[idx] = tmp_val - h\n",
        "        fxh2 = f(x)\n",
        "\n",
        "        grad[idx] = (fxh1 - fxh2) / (2*h)\n",
        "        x[idx] = tmp_val\n",
        "\n",
        "    return grad"
      ]
    },
    {
      "attachments": {},
      "cell_type": "markdown",
      "metadata": {
        "id": "WtpvYnuEDgON"
      },
      "source": [
        "$f(x_0, x_1) = x_0^2 + x_1^2 $ 함수의 gradient확인"
      ]
    },
    {
      "cell_type": "code",
      "execution_count": 94,
      "metadata": {
        "colab": {
          "base_uri": "https://localhost:8080/"
        },
        "id": "n-I4fD0yOOg0",
        "outputId": "62e84874-71ea-49f4-f0c0-9c8596ae6111"
      },
      "outputs": [
        {
          "data": {
            "text/plain": [
              "array([25000, 35000])"
            ]
          },
          "execution_count": 94,
          "metadata": {},
          "output_type": "execute_result"
        }
      ],
      "source": [
        "numerical_gradient(function_2, np.array([3, 4])) #값을 입력할 때 정수형으로 넣으면 올바른 값이 나오지 않음"
      ]
    },
    {
      "cell_type": "code",
      "execution_count": 95,
      "metadata": {
        "colab": {
          "base_uri": "https://localhost:8080/"
        },
        "id": "6DR8rDIeE5QK",
        "outputId": "68813ddd-286c-4e46-ab58-71a125cbda71"
      },
      "outputs": [
        {
          "data": {
            "text/plain": [
              "array([6., 8.])"
            ]
          },
          "execution_count": 95,
          "metadata": {},
          "output_type": "execute_result"
        }
      ],
      "source": [
        "numerical_gradient(function_2, np.array([3.0, 4.0]))"
      ]
    },
    {
      "attachments": {},
      "cell_type": "markdown",
      "metadata": {
        "id": "1QYNgTr5UFls"
      },
      "source": [
        "### 1. 경사법(경사 하강법)\n",
        "\n",
        "* 기울기를 잘이용해 함수의 최솟값(또는 가능한 작은 값)을 찾으려는 것이 경사법\n",
        "* 함수가 복잡해지면 기울기의 방향에 최솟값이 없을수도 있다"
      ]
    },
    {
      "attachments": {},
      "cell_type": "markdown",
      "metadata": {
        "id": "0qh90vqVBaNn"
      },
      "source": [
        "경사하강법 구현"
      ]
    },
    {
      "cell_type": "code",
      "execution_count": 96,
      "metadata": {
        "id": "utpFi2qEFQQE"
      },
      "outputs": [],
      "source": [
        "def gradient_descent(f, init_x, lr = 0.01, step_num = 100):\n",
        "    x = init_x\n",
        "\n",
        "    for i in range(step_num):\n",
        "        grad = numerical_gradient(f, x)\n",
        "        x -= lr * grad\n",
        "\n",
        "    return x"
      ]
    },
    {
      "cell_type": "code",
      "execution_count": 97,
      "metadata": {
        "colab": {
          "base_uri": "https://localhost:8080/"
        },
        "id": "nxxQbycDN39o",
        "outputId": "28cc2772-4a0b-4db3-8b56-c349d69db31c"
      },
      "outputs": [
        {
          "data": {
            "text/plain": [
              "array([-6.11110793e-10,  8.14814391e-10])"
            ]
          },
          "execution_count": 97,
          "metadata": {},
          "output_type": "execute_result"
        }
      ],
      "source": [
        "init_x = np.array([-3.0, 4.0])\n",
        "gradient_descent(f = function_2, init_x = init_x, lr = 0.1, step_num = 100)"
      ]
    },
    {
      "attachments": {},
      "cell_type": "markdown",
      "metadata": {
        "id": "q1Iu9kwjNhKZ"
      },
      "source": [
        "학습률에 따라 비교"
      ]
    },
    {
      "cell_type": "code",
      "execution_count": 98,
      "metadata": {
        "colab": {
          "base_uri": "https://localhost:8080/"
        },
        "id": "RVjaTYqnNiLj",
        "outputId": "81ae5a36-915a-4856-e8ca-07cc18836528"
      },
      "outputs": [
        {
          "data": {
            "text/plain": [
              "array([-2.58983747e+13, -1.29524862e+12])"
            ]
          },
          "execution_count": 98,
          "metadata": {},
          "output_type": "execute_result"
        }
      ],
      "source": [
        "# 학습률이 클 때 : lr = 10\n",
        "\n",
        "init_x = np.array([-3.0, 4.0])\n",
        "gradient_descent(f = function_2, init_x = init_x, lr = 10, step_num = 100)\n",
        "\n",
        "# -> 너무 큰값으로 발산함"
      ]
    },
    {
      "cell_type": "code",
      "execution_count": 99,
      "metadata": {
        "colab": {
          "base_uri": "https://localhost:8080/"
        },
        "id": "NKRNrWW4Oqbt",
        "outputId": "e0a55f4d-17d3-4cb2-a1f9-b95eea905b18"
      },
      "outputs": [
        {
          "data": {
            "text/plain": [
              "array([-2.99999994,  3.99999992])"
            ]
          },
          "execution_count": 99,
          "metadata": {},
          "output_type": "execute_result"
        }
      ],
      "source": [
        "# 학습률이 클 때 : lr = 1e-10\n",
        "\n",
        "init_x = np.array([-3.0, 4.0])\n",
        "gradient_descent(f = function_2, init_x = init_x, lr = 1e-10, step_num = 100)\n",
        "\n",
        "# -> 거의 갱신되지 않고 끝남"
      ]
    },
    {
      "attachments": {},
      "cell_type": "markdown",
      "metadata": {
        "id": "9y_fJpzEO54f"
      },
      "source": [
        "### 2. 신경망에서의 기울기"
      ]
    },
    {
      "attachments": {},
      "cell_type": "markdown",
      "metadata": {
        "id": "BR3HCmVpSAmc"
      },
      "source": [
        "simpleNet확인\n",
        "\n",
        "* 입력이 2개 출력이 3개 인 단순한 신경망"
      ]
    },
    {
      "cell_type": "code",
      "execution_count": 100,
      "metadata": {},
      "outputs": [],
      "source": [
        "os.chdir('/Users/psw/문서/programming/python/code/Python_study/딥러닝/deep-learning-from-scratch')"
      ]
    },
    {
      "cell_type": "code",
      "execution_count": 101,
      "metadata": {
        "id": "G2O_iz0wQnpU"
      },
      "outputs": [],
      "source": [
        "# simpleNet클래스\n",
        "\n",
        "from common.functions import softmax, cross_entropy_error\n",
        "from common.gradient import numerical_gradient\n",
        "\n",
        "class simpleNet:\n",
        "    def __init__(self):\n",
        "        self.W = np.random.randn(2,3) #가중치 초기값으로 랜덤한값 부여\n",
        "\n",
        "    def predict(self, x):\n",
        "        return np.dot(x, self.W)\n",
        "\n",
        "    def loss(self, x, t):\n",
        "        z = self.predict(x)\n",
        "        y = softmax(z)\n",
        "        loss = cross_entropy_error(y, t)\n",
        "        return loss"
      ]
    },
    {
      "cell_type": "code",
      "execution_count": 102,
      "metadata": {
        "colab": {
          "base_uri": "https://localhost:8080/"
        },
        "id": "3Ko_rWDHTtGv",
        "outputId": "601e8f05-5376-4342-94ee-9d93c3a52548"
      },
      "outputs": [
        {
          "name": "stdout",
          "output_type": "stream",
          "text": [
            "[[-0.90561048 -0.89808938  0.45187984]\n",
            " [-0.85947418 -0.53479453  1.03287114]]\n"
          ]
        }
      ],
      "source": [
        "net = simpleNet()\n",
        "print(net.W)"
      ]
    },
    {
      "cell_type": "code",
      "execution_count": 103,
      "metadata": {
        "colab": {
          "base_uri": "https://localhost:8080/"
        },
        "id": "xj9nNWH2TwCK",
        "outputId": "8120ff3b-c7c6-4753-ac99-b407f77777e7"
      },
      "outputs": [
        {
          "name": "stdout",
          "output_type": "stream",
          "text": [
            "[-1.31689305 -1.0201687   1.20071193]\n"
          ]
        },
        {
          "data": {
            "text/plain": [
              "0.17325214207093917"
            ]
          },
          "execution_count": 103,
          "metadata": {},
          "output_type": "execute_result"
        }
      ],
      "source": [
        "x = np.array([0.6, 0.9])\n",
        "p = net.predict(x)\n",
        "print(p)\n",
        "\n",
        "np.argmax(p) # 최대값의 인덱스\n",
        "\n",
        "t = np.array([0,0,1]) # 정답 레이블\n",
        "net.loss(x,t)"
      ]
    },
    {
      "cell_type": "code",
      "execution_count": 104,
      "metadata": {
        "colab": {
          "base_uri": "https://localhost:8080/"
        },
        "id": "MjRo1kRZUljH",
        "outputId": "fa815677-095a-4b37-dd6a-584669362bad"
      },
      "outputs": [
        {
          "name": "stdout",
          "output_type": "stream",
          "text": [
            "[[ 0.04069366  0.05475106 -0.09544472]\n",
            " [ 0.06104049  0.08212658 -0.14316707]]\n"
          ]
        }
      ],
      "source": [
        "def f(W):\n",
        "    return net.loss(x, t)\n",
        "\n",
        "dW = numerical_gradient(f, net.W)\n",
        "print(dW)\n",
        "\n",
        "# f = lambda w: net.loss(x, t) // 간단하게 함수 구현 가능"
      ]
    },
    {
      "attachments": {},
      "cell_type": "markdown",
      "metadata": {
        "id": "5tHoUnFG1IJU"
      },
      "source": [
        "왜 f(W)로 net.loss(x, t)를 지정하는가?"
      ]
    },
    {
      "cell_type": "code",
      "execution_count": 105,
      "metadata": {
        "colab": {
          "base_uri": "https://localhost:8080/"
        },
        "id": "gpWseoG51M0o",
        "outputId": "038e04e2-7dac-40fd-a760-989f364b453c"
      },
      "outputs": [
        {
          "name": "stdout",
          "output_type": "stream",
          "text": [
            "Traceback (most recent call last):\n",
            "  File \"/var/folders/12/xbyb7mtn19j7fdqb0rzs1gfr0000gn/T/ipykernel_70225/1400655491.py\", line 4, in <module>\n",
            "    numerical_gradient(net.loss(x, t), net.W)\n",
            "  File \"/Users/psw/문서/programming/python/code/Python_study/딥러닝/deep-learning-from-scratch/common/gradient.py\", line 43, in numerical_gradient\n",
            "    fxh1 = f(x) # f(x+h)\n",
            "           ^^^^\n",
            "TypeError: 'numpy.float64' object is not callable\n",
            "\n"
          ]
        }
      ],
      "source": [
        "import traceback\n",
        "\n",
        "try:\n",
        "    numerical_gradient(net.loss(x, t), net.W)\n",
        "\n",
        "except:\n",
        "    print(traceback.format_exc())\n",
        "\n",
        "# -> object를 부를수 없다고 함"
      ]
    },
    {
      "cell_type": "code",
      "execution_count": 106,
      "metadata": {
        "colab": {
          "base_uri": "https://localhost:8080/"
        },
        "id": "F6vBRlMIY0tK",
        "outputId": "3a629b93-3ff8-4b0c-fba0-281df0526134"
      },
      "outputs": [
        {
          "name": "stdout",
          "output_type": "stream",
          "text": [
            "def numerical_gradient(f, x):\n",
            "    h = 1e-4 # 0.0001\n",
            "    grad = np.zeros_like(x)\n",
            "    \n",
            "    it = np.nditer(x, flags=['multi_index'], op_flags=['readwrite'])\n",
            "    while not it.finished:\n",
            "        idx = it.multi_index\n",
            "        tmp_val = x[idx]\n",
            "        x[idx] = tmp_val + h\n",
            "        fxh1 = f(x) # f(x+h)\n",
            "        \n",
            "        x[idx] = tmp_val - h \n",
            "        fxh2 = f(x) # f(x-h)\n",
            "        grad[idx] = (fxh1 - fxh2) / (2*h)\n",
            "        \n",
            "        x[idx] = tmp_val # 値を元に戻す\n",
            "        it.iternext()   \n",
            "        \n",
            "    return grad\n",
            "\n"
          ]
        }
      ],
      "source": [
        "#numerical_gradient 함수 구성 요소\n",
        "import inspect\n",
        "\n",
        "code = inspect.getsource(numerical_gradient)\n",
        "print(code)\n"
      ]
    },
    {
      "cell_type": "code",
      "execution_count": 107,
      "metadata": {
        "colab": {
          "base_uri": "https://localhost:8080/"
        },
        "id": "puUCP_xky9wd",
        "outputId": "9cbfb24d-68b0-4ee0-8de1-b5f528395324"
      },
      "outputs": [
        {
          "data": {
            "text/plain": [
              "132"
            ]
          },
          "execution_count": 107,
          "metadata": {},
          "output_type": "execute_result"
        }
      ],
      "source": [
        "# x, t변수를 같이 사용하기 위해?\n",
        "\n",
        "x = 3\n",
        "y = 123\n",
        "g = lambda c : x**2 + y\n",
        "\n",
        "def test_func(h, x):\n",
        "    x += 3\n",
        "    res = h(x)\n",
        "    return res\n",
        "\n",
        "test_func(g, 3)"
      ]
    },
    {
      "attachments": {},
      "cell_type": "markdown",
      "metadata": {
        "id": "zesTpMPQ7_YN"
      },
      "source": [
        "## 5. 전체 학습 알고리즘 구현\n",
        "\n",
        "전체\n",
        "* 신경망에는 적응 가능한 가중치와 편향이 있고, 이 가중치와 편향을 훈련 데이터에 적응하도록 조정하는 과정을 학습이라고 한다.\n",
        "---\n",
        "1. 미니배치\n",
        "* 훈련 데이터 중 일부를 무작위로 가져온다. 이렇게 선별한 데이터를 미니배치라 하며, 그 미니배치의 손실 함수 값을 줄이는 것이 목표\n",
        "\n",
        "2. 기울기 산출\n",
        "* 미니배치의 손실 함수 값을 줄이기 위해 각 가중치 매개변수의 기울기를 구한다. 기울기는 손실 함수의 값을 가장 작게하는 방향을 제시한다\n",
        "\n",
        "3. 매개변수 갱신\n",
        "* 가중치 매개변수를 기울기 방향으로 아주 조금 갱신한다\n",
        "\n",
        "4. 반복\n",
        "* 1단계 ~ 3단계를 반복\n"
      ]
    },
    {
      "attachments": {},
      "cell_type": "markdown",
      "metadata": {
        "id": "d8UOHp-3B6H9"
      },
      "source": [
        "확률적 경사하강법\n",
        "\n",
        "* 확률적으로 무작위로 골라낸 데이터에 대해 수행하는 경사하강법이라는 의미\n",
        "* stochastic gradient discent"
      ]
    },
    {
      "attachments": {},
      "cell_type": "markdown",
      "metadata": {
        "id": "JohDJqqmCIfT"
      },
      "source": [
        "### 1. 2층 신경망 클래스 구현하기\n",
        "\n",
        "손글씨 숫자를 학습하는 신경망을 구현\n",
        "\n",
        "* 2층신경망(은닉층이 1개)"
      ]
    },
    {
      "cell_type": "code",
      "execution_count": 108,
      "metadata": {
        "colab": {
          "base_uri": "https://localhost:8080/",
          "height": 35
        },
        "id": "atuYb4npDnLW",
        "outputId": "b010ea62-c586-4e7f-a66f-82fd23afa238"
      },
      "outputs": [
        {
          "data": {
            "text/plain": [
              "'/Users/psw/문서/programming/python/code/Python_study/딥러닝/deep-learning-from-scratch'"
            ]
          },
          "execution_count": 108,
          "metadata": {},
          "output_type": "execute_result"
        }
      ],
      "source": [
        "import os\n",
        "\n",
        "os.getcwd()"
      ]
    },
    {
      "cell_type": "code",
      "execution_count": 109,
      "metadata": {
        "id": "IPfyRdwy8CDA"
      },
      "outputs": [],
      "source": [
        "from common.functions import *\n",
        "from common.gradient import numerical_gradient\n",
        "\n",
        "class TwoLayerNet:\n",
        "    def __init__(self, input_size, hidden_size, output_size, weight_init_std = 0.01):\n",
        "        # 가중치 초기화\n",
        "        self.params = {}\n",
        "        \n",
        "        self.params['W1'] = weight_init_std * np.random.randn(input_size, hidden_size)\n",
        "        self.params['b1'] = np.zeros(hidden_size)\n",
        "\n",
        "        self.params['W2'] = weight_init_std * np.random.randn(hidden_size, output_size)\n",
        "        self.params['b2'] = np.zeros(output_size)\n",
        "\n",
        "    def predict(self, x):\n",
        "        W1, W2 = self.params['W1'], self.params['W2']\n",
        "        b1, b2 = self.params['b1'], self.params['b2']\n",
        "\n",
        "        a1 = np.dot(x, W1) + b1\n",
        "        z1 = sigmoid(a1)\n",
        "\n",
        "        a2 = np.dot(a1, W2) + b2\n",
        "        y = softmax(a2)\n",
        "\n",
        "        return y\n",
        "    \n",
        "    def loss(self, x, t):\n",
        "        y = self.predict(x)\n",
        "\n",
        "        return cross_entropy_error(y, t)\n",
        "    \n",
        "    def accuracy(self, x, t):\n",
        "        y = self.predict(x)\n",
        "        y = np.argmax(y, axis=1)\n",
        "        t = np.argmax(t, axis=1)\n",
        "\n",
        "        accuracy = np.sum(y==t) / float(x.shape[0])\n",
        "\n",
        "        return accuracy\n",
        "    \n",
        "    def numerical_gradient(self, x, t):\n",
        "        loss_W = lambda W : self.loss(x, t)\n",
        "\n",
        "        grads = {}\n",
        "        grads['W1'] = numerical_gradient(loss_W, self.params['W1'])\n",
        "        grads['b1'] = numerical_gradient(loss_W, self.params['b1'])\n",
        "        grads['W2'] = numerical_gradient(loss_W, self.params['W2'])\n",
        "        grads['b2'] = numerical_gradient(loss_W, self.params['b2'])\n",
        "\n",
        "        return grads\n"
      ]
    },
    {
      "cell_type": "code",
      "execution_count": 110,
      "metadata": {
        "id": "qzkQPYxbLR3R"
      },
      "outputs": [
        {
          "name": "stdout",
          "output_type": "stream",
          "text": [
            "(784, 100)\n",
            "(100,)\n",
            "(100, 10)\n",
            "(10,)\n"
          ]
        }
      ],
      "source": [
        "net = TwoLayerNet(input_size = 784, hidden_size = 100, output_size = 10)\n",
        "print(net.params['W1'].shape)\n",
        "print(net.params['b1'].shape)\n",
        "print(net.params['W2'].shape)\n",
        "print(net.params['b2'].shape)"
      ]
    },
    {
      "cell_type": "code",
      "execution_count": 111,
      "metadata": {
        "id": "bj4ZDc5TLwpn"
      },
      "outputs": [],
      "source": [
        "# 더미데이터 예측\n",
        "\n",
        "x = np.random.rand(100, 784) #더미 입력데이터, batch size가 100\n",
        "y = net.predict(x)"
      ]
    },
    {
      "cell_type": "code",
      "execution_count": 112,
      "metadata": {
        "colab": {
          "base_uri": "https://localhost:8080/"
        },
        "id": "856IUYPqRG_V",
        "outputId": "20e87546-dad7-4bae-a31d-cc034a92a49f"
      },
      "outputs": [
        {
          "name": "stdout",
          "output_type": "stream",
          "text": [
            "계산 소요 시간 : 187.9234688282013\n"
          ]
        }
      ],
      "source": [
        "# 더미데이터 예측 기울기 계산\n",
        "import time\n",
        "\n",
        "x = np.random.rand(100, 784)\n",
        "t = np.random.rand(100, 10)\n",
        "\n",
        "start = time.time()\n",
        "grads = net.numerical_gradient(x, t)\n",
        "grads['W1']\n",
        "print(f'계산 소요 시간 : {time.time() - start}')"
      ]
    },
    {
      "cell_type": "code",
      "execution_count": 113,
      "metadata": {
        "colab": {
          "base_uri": "https://localhost:8080/"
        },
        "id": "cPtnMmreVFku",
        "outputId": "a0c6bb75-d6c2-44c0-c999-a9512bac2615"
      },
      "outputs": [
        {
          "data": {
            "text/plain": [
              "(784, 100)"
            ]
          },
          "execution_count": 113,
          "metadata": {},
          "output_type": "execute_result"
        }
      ],
      "source": [
        "grads['W1'].shape"
      ]
    },
    {
      "attachments": {},
      "cell_type": "markdown",
      "metadata": {
        "id": "yPbTg5PeVYV4"
      },
      "source": [
        "### 2. 미니배치 학습 구현하기"
      ]
    },
    {
      "cell_type": "code",
      "execution_count": 114,
      "metadata": {
        "colab": {
          "base_uri": "https://localhost:8080/"
        },
        "id": "uiXO-1AKag6q",
        "outputId": "06fef1c4-3015-4ed4-c88a-6520fad29cca"
      },
      "outputs": [
        {
          "name": "stdout",
          "output_type": "stream",
          "text": [
            "소요시간 : 39.22507190704346\n"
          ]
        }
      ],
      "source": [
        "import numpy as np\n",
        "from dataset.mnist import load_mnist\n",
        "from ch04.two_layer_net import TwoLayerNet\n",
        "\n",
        "(x_train, t_train), (x_test, t_test) = load_mnist(normalize = True, one_hot_label = True)\n",
        "\n",
        "train_loss_list = []\n",
        "\n",
        "#hyper parameter\n",
        "\n",
        "iters_num = 10000\n",
        "train_size = x_train.shape[0]\n",
        "batch_size = 100\n",
        "learning_rate = 0.1\n",
        "network = TwoLayerNet(input_size = 784, hidden_size = 50, output_size = 10)\n",
        "\n",
        "start = time.time()\n",
        "\n",
        "for i in range(iters_num):\n",
        "    #미니배치 획득\n",
        "    batch_mask = np.random.choice(train_size, batch_size)\n",
        "    x_batch = x_train[batch_mask]\n",
        "    t_batch = t_train[batch_mask]\n",
        "\n",
        "    #기울기 계산\n",
        "    #grad = network.numerical_gradient(x_batch, t_batch) #기존에 사용하던 방식, 속도가 매우느림\n",
        "    grad = network.gradient(x_batch, t_batch) #오차 역전파 방식\n",
        "\n",
        "    # 매개변수 갱신\n",
        "    for key in ('W1', 'b1', 'W2', 'b2'):\n",
        "        network.params[key] -= learning_rate * grad[key]\n",
        "\n",
        "    loss = network.loss(x_batch, t_batch)\n",
        "    train_loss_list.append(loss)\n",
        "\n",
        "print(f'소요시간 : {time.time() - start}')"
      ]
    },
    {
      "cell_type": "code",
      "execution_count": 115,
      "metadata": {
        "colab": {
          "base_uri": "https://localhost:8080/",
          "height": 576
        },
        "id": "0PTAHkmFfJNV",
        "outputId": "1e7c0153-a9d9-471c-a76c-e7084a47be08"
      },
      "outputs": [
        {
          "data": {
            "image/png": "[encoded data removed]",
            "text/plain": [
              "<Figure size 1500x1000 with 1 Axes>"
            ]
          },
          "metadata": {},
          "output_type": "display_data"
        }
      ],
      "source": [
        "plt.figure(figsize = (15, 10))\n",
        "plt.plot(train_loss_list)\n",
        "plt.ylim(0, 3)\n",
        "plt.xlim(0, 10100)\n",
        "plt.show()"
      ]
    },
    {
      "attachments": {},
      "cell_type": "markdown",
      "metadata": {
        "id": "6e6ICIjlghaD"
      },
      "source": [
        "### 3. 시험데이터로 평가하기\n",
        "\n",
        "* 학습 도중 정기적으로 훈련 데이터와 시험 데이터를 대상으로 정확도를 기록\n",
        "\n",
        "* 여기서는 1에폭별로 훈련데이터와 시험데이터에 대한 정확도를 기록"
      ]
    },
    {
      "attachments": {},
      "cell_type": "markdown",
      "metadata": {
        "id": "uvhEE7plUrX6"
      },
      "source": [
        "에폭(epoch)\n",
        "\n",
        "* 하나의 단위\n",
        "* 1에폭은 학습에서 훈련 데이터를 모두 소진했을 때의 횟수에 해당한다\n",
        "    * 예를들어 훈련데이터 10,000개를 100개의 미니배치로 학습 할 경우, 확률적 경사하강법을 100회 반복하면 모든 훈련 데이터를 소진하게 된다\n",
        "    * 이경우 100회가 1에폭이 된다"
      ]
    },
    {
      "cell_type": "code",
      "execution_count": 116,
      "metadata": {
        "colab": {
          "base_uri": "https://localhost:8080/"
        },
        "id": "4Yk2PvB_gj-Q",
        "outputId": "9824564a-7a7e-4dba-d78c-f2047b20f082"
      },
      "outputs": [
        {
          "name": "stdout",
          "output_type": "stream",
          "text": [
            "train acc : 0.10441666666666667, test_acc : 0.1028\n",
            "train acc : 0.7907666666666666, test_acc : 0.7954\n",
            "train acc : 0.8769, test_acc : 0.8807\n",
            "train acc : 0.9000166666666667, test_acc : 0.9027\n",
            "train acc : 0.9096333333333333, test_acc : 0.9119\n",
            "train acc : 0.9151833333333333, test_acc : 0.9167\n",
            "train acc : 0.9202333333333333, test_acc : 0.921\n",
            "train acc : 0.9242, test_acc : 0.9257\n",
            "train acc : 0.9276666666666666, test_acc : 0.9289\n",
            "train acc : 0.9314, test_acc : 0.9333\n",
            "train acc : 0.9333166666666667, test_acc : 0.9347\n",
            "train acc : 0.9365333333333333, test_acc : 0.9368\n",
            "train acc : 0.9385333333333333, test_acc : 0.9388\n",
            "train acc : 0.94095, test_acc : 0.9394\n",
            "train acc : 0.9429833333333333, test_acc : 0.9424\n",
            "train acc : 0.9446166666666667, test_acc : 0.9422\n",
            "train acc : 0.94615, test_acc : 0.9444\n"
          ]
        }
      ],
      "source": [
        "import numpy as np\n",
        "from dataset.mnist import load_mnist\n",
        "from ch04.two_layer_net import TwoLayerNet\n",
        "\n",
        "(x_train, t_train), (x_test, t_test) = load_mnist(normalize = True,\n",
        "                                                  one_hot_label = True)\n",
        "\n",
        "\n",
        "network = TwoLayerNet(input_size = 784, hidden_size = 50, output_size = 10)\n",
        "\n",
        "# hyper parameter\n",
        "\n",
        "iters_num = 10000\n",
        "train_size = x_train.shape[0] # 60000\n",
        "batch_size = 100\n",
        "learning_rate = 0.1\n",
        "\n",
        "train_loss_list = []\n",
        "train_acc_list = []\n",
        "test_acc_list = []\n",
        "\n",
        "# one epoch 당 확률적 경사하강법 반복 수\n",
        "iter_per_epoch = max(train_size/batch_size, 1)\n",
        "\n",
        "for i in range(iters_num):\n",
        "    batch_mask = np.random.choice(train_size, batch_size)\n",
        "    x_batch = x_train[batch_mask]\n",
        "    t_batch = t_train[batch_mask]\n",
        "\n",
        "    grad = network.gradient(x_batch, t_batch)\n",
        "\n",
        "    for key in ('W1', 'b1', 'W2', 'b2'):\n",
        "        network.params[key] -= learning_rate * grad[key]\n",
        "\n",
        "        loss = network.loss(x_batch, t_batch)\n",
        "        train_loss_list.append(loss)\n",
        "\n",
        "    if i % iter_per_epoch == 0:\n",
        "        train_acc = network.accuracy(x_train, t_train)\n",
        "        test_acc = network.accuracy(x_test, t_test)\n",
        "        train_acc_list.append(train_acc)\n",
        "        test_acc_list.append(test_acc)\n",
        "        print(f'train acc : {train_acc}, test_acc : {test_acc}')"
      ]
    },
    {
      "cell_type": "code",
      "execution_count": 117,
      "metadata": {
        "colab": {
          "base_uri": "https://localhost:8080/",
          "height": 465
        },
        "id": "n8JtTdwNfDF8",
        "outputId": "ba7f39e9-c65f-4240-f184-e6144a314894"
      },
      "outputs": [
        {
          "data": {
            "image/png": "[encoded data removed]",
            "text/plain": [
              "<Figure size 1000x500 with 1 Axes>"
            ]
          },
          "metadata": {},
          "output_type": "display_data"
        }
      ],
      "source": [
        "plt.figure(figsize = (10,5))\n",
        "plt.plot(train_acc_list, 'b--', label = 'train acc')\n",
        "plt.plot(test_acc_list, 'r-.', label = 'test acc')\n",
        "plt.xlabel('epochs')\n",
        "plt.ylabel('accuracy')\n",
        "plt.xlim(0, 15)\n",
        "plt.ylim(0, 1)\n",
        "plt.legend(loc = 'lower right')\n",
        "plt.show()"
      ]
    },
    {
      "cell_type": "code",
      "execution_count": 118,
      "metadata": {
        "colab": {
          "base_uri": "https://localhost:8080/"
        },
        "id": "d7UwZWE7fpJo",
        "outputId": "b40e1d08-f508-44a9-cea0-5792fc731cfe"
      },
      "outputs": [
        {
          "data": {
            "text/plain": [
              "0.94615"
            ]
          },
          "execution_count": 118,
          "metadata": {},
          "output_type": "execute_result"
        }
      ],
      "source": [
        "train_acc"
      ]
    },
    {
      "attachments": {},
      "cell_type": "markdown",
      "metadata": {
        "id": "M3p_m9DJghQC"
      },
      "source": [
        "## 6. 정리\n",
        "\n",
        "* 신경망 학습은 손실 함수를 지표로, 손실 함수의 값이 작아지는 방향으로 매개변수를 갱신한다\n",
        "* 수치 미분을 이용한 계산에는 시간이 걸리지만 그 구현은 간단하다. 하지만 시간이 오래걸린다.\n",
        "* 오차역전파법은 기울기를 고속으로 구할 수 있다."
      ]
    },
    {
      "attachments": {},
      "cell_type": "markdown",
      "metadata": {
        "id": "iHjiILGTg7Fu"
      },
      "source": [
        "# 오차역전파법"
      ]
    },
    {
      "attachments": {},
      "cell_type": "markdown",
      "metadata": {
        "id": "-kSM7z9Rg9ZS"
      },
      "source": [
        "## 1. 계산 그래프\n",
        "* 계산 과정을 그래프로 나타낸 것\n",
        "---\n",
        "\n",
        "1. 무언가를 계산하는 복잡한 수식들도 시간의 흐름에 따른 국소적 계산으로 볼 수 있다\n",
        "    * 슈퍼에서 사과를 2개를 샀는데 소비세 10%가 부과된다, 이때 지불금액은 어떻게 되는가?\n",
        "    * 100 * 2 -> 200 * 1.1 -> 220\n",
        "    * 이렇게 계산을 왼쪽에서 오른쪽으로 진행하는 단계를 순전파라고 한다.\n",
        "\n",
        "2. 국소적 계산\n",
        "    * 위 예시에서 100*2, 200*1.1 등 전체 계산중 작은 범위의 계산을 의미한다\n",
        "    * 국소적 계산은 단순하지만 그 결과를 전달 함으로써 전체를 구성하는 복잡한 계산을 할 수 있음\n",
        "\n",
        "3. 왜 계산그래프를 사용하는가 \n",
        "    * 역전파를 통해 *미분*을 효율적으로 계산할 수 있는 장점이 있다\n",
        "    \n",
        "\n"
      ]
    },
    {
      "attachments": {},
      "cell_type": "markdown",
      "metadata": {},
      "source": [
        "## 2. 연쇄법칙\n",
        "\n",
        "* 생략"
      ]
    },
    {
      "attachments": {},
      "cell_type": "markdown",
      "metadata": {},
      "source": [
        "## 3. 역전파\n",
        "\n",
        "* 생략"
      ]
    },
    {
      "attachments": {},
      "cell_type": "markdown",
      "metadata": {},
      "source": [
        "## 4. 단순한 계층 구현하기"
      ]
    },
    {
      "attachments": {},
      "cell_type": "markdown",
      "metadata": {},
      "source": [
        "### 4.1 곱셈 계층\n",
        "\n",
        "* forward() : 순전파\n",
        "* backward() : 역전파"
      ]
    },
    {
      "cell_type": "code",
      "execution_count": 119,
      "metadata": {},
      "outputs": [],
      "source": [
        "class MulLayer:\n",
        "    def __init__(self):\n",
        "        self.x = None\n",
        "        self.y = None\n",
        "\n",
        "    def forward(self, x, y):\n",
        "        self.x = x\n",
        "        self.y = y\n",
        "        out = x * y\n",
        "\n",
        "        return out\n",
        "\n",
        "    def backward(self, dout):\n",
        "        dx = dout * self.y\n",
        "        dy = dout * self.x\n",
        "\n",
        "        return dx, dy        "
      ]
    },
    {
      "cell_type": "code",
      "execution_count": 120,
      "metadata": {},
      "outputs": [
        {
          "name": "stdout",
          "output_type": "stream",
          "text": [
            "220.00000000000003\n"
          ]
        }
      ],
      "source": [
        "apple = 100\n",
        "apple_num = 2\n",
        "tax = 1.1\n",
        "\n",
        "# 계층들\n",
        "mul_apple_layer = MulLayer()\n",
        "mul_tax_layer = MulLayer()\n",
        "\n",
        "# 순전파\n",
        "apple_price = mul_apple_layer.forward(apple, apple_num)\n",
        "price = mul_tax_layer.forward(apple_price, tax)\n",
        "\n",
        "print(price)"
      ]
    },
    {
      "cell_type": "code",
      "execution_count": 121,
      "metadata": {},
      "outputs": [
        {
          "data": {
            "text/plain": [
              "1.1"
            ]
          },
          "execution_count": 121,
          "metadata": {},
          "output_type": "execute_result"
        }
      ],
      "source": [
        "mul_tax_layer.y"
      ]
    },
    {
      "cell_type": "code",
      "execution_count": 122,
      "metadata": {},
      "outputs": [
        {
          "name": "stdout",
          "output_type": "stream",
          "text": [
            "2.2 110.00000000000001 200\n"
          ]
        }
      ],
      "source": [
        "# 역전파 \n",
        "\n",
        "dprice = 1\n",
        "dapple_price, dtax = mul_tax_layer.backward(dprice)\n",
        "dapple, dapple_num = mul_apple_layer.backward(dapple_price)\n",
        "\n",
        "print(dapple, dapple_num, dtax)"
      ]
    },
    {
      "attachments": {},
      "cell_type": "markdown",
      "metadata": {},
      "source": [
        "### 4.2 덧셈 계층"
      ]
    },
    {
      "cell_type": "code",
      "execution_count": 123,
      "metadata": {},
      "outputs": [],
      "source": [
        "class AddLayer:\n",
        "    def __init__(self):\n",
        "        pass\n",
        "\n",
        "    def forward(self, x, y):\n",
        "        out = x + y\n",
        "        return out\n",
        "    \n",
        "    def backward(self, dout):\n",
        "        dx = dout * 1\n",
        "        dy = dout * 1\n",
        "        return dx, dy"
      ]
    },
    {
      "cell_type": "code",
      "execution_count": 124,
      "metadata": {},
      "outputs": [
        {
          "name": "stdout",
          "output_type": "stream",
          "text": [
            "715.0000000000001\n",
            "110.00000000000001 2.2 3.3000000000000003 165.0 650\n"
          ]
        }
      ],
      "source": [
        "apple = 100\n",
        "apple_num = 2\n",
        "orange = 150\n",
        "orange_num = 3\n",
        "tzx = 1.1\n",
        "\n",
        "# 계층들\n",
        "mul_apple_layer = MulLayer()\n",
        "mul_orange_layer = MulLayer()\n",
        "add_apple_orange_layer = AddLayer()\n",
        "mul_tax_layer = MulLayer()\n",
        "\n",
        "# 순전파\n",
        "apple_price = mul_apple_layer.forward(apple, apple_num)\n",
        "orange_price = mul_orange_layer.forward(orange, orange_num)\n",
        "all_price = add_apple_orange_layer.forward(apple_price, orange_price)\n",
        "price = mul_tax_layer.forward(all_price, tax)\n",
        "\n",
        "# 역전파\n",
        "dprice = 1\n",
        "dall_price, dtax = mul_tax_layer.backward(dprice)\n",
        "dapple_price, dorange_price = add_apple_orange_layer.backward(dall_price)\n",
        "dorange, dorange_num = mul_orange_layer.backward(dorange_price)\n",
        "dapple, dapple_num = mul_apple_layer.backward(dapple_price)\n",
        "\n",
        "print(price)\n",
        "print(dapple_num, dapple, dorange, dorange_num, dtax)"
      ]
    },
    {
      "attachments": {},
      "cell_type": "markdown",
      "metadata": {},
      "source": [
        "## 5. 활성화 함수 계층 구현하기"
      ]
    },
    {
      "attachments": {},
      "cell_type": "markdown",
      "metadata": {},
      "source": [
        "### 5.1 ReLU계층\n",
        "\n",
        "$\\ y =\n",
        "\\begin{cases}\n",
        "x,\\;(x>0)\\\\\n",
        "0,\\;(x\\leq0)\n",
        "\\end{cases}$\n",
        "\n",
        "$\\frac{\\partial y}{\\partial x} = \n",
        "\\begin{cases}\n",
        "1,\\;(x>0)\\\\\n",
        "0,\\;(x\\leq0)\n",
        "\\end{cases}$"
      ]
    },
    {
      "cell_type": "code",
      "execution_count": 125,
      "metadata": {},
      "outputs": [],
      "source": [
        "class Relu:\n",
        "    def __init__(self):\n",
        "        self.mask = None\n",
        "    \n",
        "    def forward(self, x):\n",
        "        self.mask = (x <= 0)\n",
        "        out = x.copy()\n",
        "        out[self.mask] = 0\n",
        "\n",
        "        return out\n",
        "\n",
        "    def backward(self, dout):\n",
        "        dout[self.mask] = 0\n",
        "        dx = dout\n",
        "\n",
        "        return dx"
      ]
    },
    {
      "cell_type": "code",
      "execution_count": 126,
      "metadata": {},
      "outputs": [
        {
          "name": "stdout",
          "output_type": "stream",
          "text": [
            "[[ 1.  -0.5]\n",
            " [-2.   3. ]]\n"
          ]
        }
      ],
      "source": [
        "x = np.array([[1.0, -0.5], [-2.0, 3.0]])\n",
        "print(x)"
      ]
    },
    {
      "cell_type": "markdown",
      "metadata": {},
      "source": [
        "### 5.2 Sigmoid 계층"
      ]
    },
    {
      "cell_type": "code",
      "execution_count": 127,
      "metadata": {},
      "outputs": [],
      "source": [
        "class Sigmoid:\n",
        "    def __init__(self):\n",
        "        self.out = None\n",
        "    \n",
        "    def forward(self, x):\n",
        "        out = 1 / (1 + np.exp(-x))\n",
        "        self.out = out\n",
        "\n",
        "        return out\n",
        "    \n",
        "    def backward(self, dout):\n",
        "        dx = dout * (1 - self.out) * self.out\n",
        "\n",
        "        return dx"
      ]
    },
    {
      "cell_type": "markdown",
      "metadata": {},
      "source": [
        "## 6. Affine/Softmax 계층 구현하기"
      ]
    },
    {
      "cell_type": "markdown",
      "metadata": {},
      "source": [
        "### 6.1 Affine 계층"
      ]
    },
    {
      "cell_type": "code",
      "execution_count": 128,
      "metadata": {},
      "outputs": [
        {
          "data": {
            "text/plain": [
              "array([0.55501571, 0.65701008, 0.79431304])"
            ]
          },
          "execution_count": 128,
          "metadata": {},
          "output_type": "execute_result"
        }
      ],
      "source": [
        "# 신경망 구현 방식\n",
        "\n",
        "X = np.random.rand(2)\n",
        "W = np.random.rand(2,3)\n",
        "B = np.random.rand(3)\n",
        "\n",
        "Y = np.dot(X, W) + B\n",
        "Y"
      ]
    },
    {
      "cell_type": "markdown",
      "metadata": {},
      "source": [
        "### 6.2 배치용 Affine 계층"
      ]
    },
    {
      "cell_type": "code",
      "execution_count": 129,
      "metadata": {},
      "outputs": [
        {
          "data": {
            "text/plain": [
              "array([[ 1,  2,  3],\n",
              "       [11, 12, 13]])"
            ]
          },
          "execution_count": 129,
          "metadata": {},
          "output_type": "execute_result"
        }
      ],
      "source": [
        "X_dot_W = np.array([[0,0,0],\n",
        "                    [10,10,10]]) # 2 * 3 shape => batch size : 2, input shape : 3\n",
        "\n",
        "B = np.array([1,2,3])\n",
        "\n",
        "X_dot_W + B # broad casting"
      ]
    },
    {
      "cell_type": "code",
      "execution_count": 130,
      "metadata": {},
      "outputs": [
        {
          "data": {
            "text/plain": [
              "array([5, 7, 9])"
            ]
          },
          "execution_count": 130,
          "metadata": {},
          "output_type": "execute_result"
        }
      ],
      "source": [
        "dY = np.array([[1,2,3],\n",
        "               [4,5,6]])\n",
        "\n",
        "dB = np.sum(dY, axis=0)\n",
        "dB\n",
        "\n",
        "#순전파일때는 편향 덧셈은 각각의 데이터(1번 데이터, 2번데이터, ...) 에 더해지기때문에 \n",
        "# -> 역전파 때는 각 데이터의 역전파 값이 편향의 원소에 모여야 한다"
      ]
    },
    {
      "cell_type": "code",
      "execution_count": 131,
      "metadata": {},
      "outputs": [],
      "source": [
        "class Affine:\n",
        "    \n",
        "    def __init__(self, W, b):\n",
        "        self.W = W\n",
        "        self.b = b\n",
        "        self.x = None\n",
        "        self.dW = None\n",
        "        self.db = None\n",
        "\n",
        "    def forward(self, x):\n",
        "        self.x = x\n",
        "        out = np.dot(x, self.W) + self.b\n",
        "\n",
        "        return out\n",
        "    \n",
        "    def backward(self, dout):\n",
        "        dx = np.dot(dout, self.W.T)\n",
        "        self.dW = np.dot(self.x.T, dout)\n",
        "        self.db = np.sum(dout, axis = 0)\n",
        "        \n",
        "        return dx"
      ]
    },
    {
      "cell_type": "code",
      "execution_count": 132,
      "metadata": {},
      "outputs": [
        {
          "data": {
            "text/plain": [
              "array([[ 0,  0,  0],\n",
              "       [10, 10, 10]])"
            ]
          },
          "execution_count": 132,
          "metadata": {},
          "output_type": "execute_result"
        }
      ],
      "source": [
        "temp_x = np.array([[0,0,0],\n",
        "                   [10,10,10]])\n",
        "\n",
        "temp_x.reshape(temp_x.shape[0], -1)"
      ]
    },
    {
      "cell_type": "markdown",
      "metadata": {},
      "source": [
        "### 6.3 Softmax-with-loss layer"
      ]
    },
    {
      "cell_type": "code",
      "execution_count": 133,
      "metadata": {},
      "outputs": [],
      "source": [
        "class SoftmaxWithLoss:\n",
        "\n",
        "    def __init__(self):\n",
        "        self.loss = None # 손실\n",
        "        self.y = None # softmax의 출력\n",
        "        self.x = None # 정답 레이블\n",
        "\n",
        "    def forward(self, x, t):\n",
        "        self.t = t\n",
        "        self.y = softmax(x)\n",
        "        self.loss = cross_entropy_error(self.y, self.t)\n",
        "        return self.loss\n",
        "    \n",
        "    def backward(self, dout=1):\n",
        "        batch_size = self.t.shape[0]\n",
        "        dx = (self.y - self.t) / batch_size\n",
        "\n",
        "        return dx"
      ]
    },
    {
      "cell_type": "code",
      "execution_count": 140,
      "metadata": {},
      "outputs": [
        {
          "data": {
            "text/plain": [
              "array([[ 0.04501529,  0.12236424, -0.16737952],\n",
              "       [ 0.04501529, -0.37763576,  0.33262048]])"
            ]
          },
          "execution_count": 140,
          "metadata": {},
          "output_type": "execute_result"
        }
      ],
      "source": [
        "x = np.array([[1,2,3],[4,5,6]])\n",
        "t = np.array([[0,0,1],[0,1,0]])\n",
        "softmaxloss = SoftmaxWithLoss()\n",
        "softmaxloss.forward(x, t)\n",
        "softmaxloss.backward(1)"
      ]
    },
    {
      "cell_type": "code",
      "execution_count": 144,
      "metadata": {},
      "outputs": [
        {
          "data": {
            "text/plain": [
              "array([[0.09003057, 0.24472847, 0.66524096],\n",
              "       [0.09003057, 0.24472847, 0.66524096]])"
            ]
          },
          "execution_count": 144,
          "metadata": {},
          "output_type": "execute_result"
        }
      ],
      "source": [
        "softmaxloss.y"
      ]
    },
    {
      "cell_type": "markdown",
      "metadata": {},
      "source": [
        "## 7. 오차역전파법 구현하기 "
      ]
    },
    {
      "cell_type": "markdown",
      "metadata": {},
      "source": [
        "### 7.2 오차역전파법을 적용한 신경망 구현하기"
      ]
    },
    {
      "cell_type": "code",
      "execution_count": null,
      "metadata": {},
      "outputs": [],
      "source": [
        "from common.layers import *\n",
        "from common.gradient import numerical_gradient\n",
        "from collections import OrderedDict\n",
        "\n",
        "class TwoLayerNet:\n",
        "\n",
        "    def __init__(self, input_size, hidden_size, output_szie, weight_init_std = 0.01):\n",
        "        # 가중치 초기화\n",
        "        self.params = {}\n",
        "        self.params['W1'] = weight_init_std * np.random.randn(input_size, hidden_size)\n",
        "        self.params['b1'] = np.zeros(hidden_size)\n",
        "        self.params['W2'] = weight_init_std * np.random.randn(hidden_size, output_szie)\n",
        "        self.params['b2'] = np.zeros(output_szie)\n",
        "\n",
        "        # 계층 생성\n",
        "        #self.layers = OrderedDict()\n",
        "        self.layers = {}\n",
        "        self.layers['Affine1'] = Affine(self.params['W1'], self.params['b1'])\n",
        "        self.layers['Relu1'] = Relu()\n",
        "        self.layers['Affine2'] = Affine(self.params['W2'], self.params['b2'])\n",
        "        self.lastLayer = SoftmaxWithLoss()\n",
        "\n",
        "        def predict(self, x):\n",
        "            for layer in self.layers.values():\n",
        "                x = layer.forward(x)\n",
        "            return x\n",
        "        \n",
        "        def loss(self, x, t): # x: 입력 데이터, t : 정답 레이블\n",
        "            y = self.predict(x)\n",
        "\n",
        "            return self.lastLayer.forward(y, t)\n",
        "        \n",
        "        def accuracy(self, x, t):\n",
        "            y = self.predict(x)\n",
        "            y = np.argmax(y, axis = 1)\n",
        "            if t.ndim != 1 : t = np.argmax(t, axis = 1)\n",
        "            accuracy = np.sum(y == t) / float(x.shape[0])\n",
        "\n",
        "            return accuracy\n",
        "        \n",
        "        def numerical_gradient(self, x, t):\n",
        "            loss_W = lambda W: self.loss(x,t)\n",
        "\n",
        "            grads = {}\n",
        "            grads['W1'] = numerical_gradient(loss_W, self.params['W1'])\n",
        "            grads['b1'] = numerical_gradient(loss_W, self.params['b1'])\n",
        "            grads['W2'] = numerical_gradient(loss_W, self.params['W2'])\n",
        "            grads['b2'] = numerical_gradient(loss_W, self.params['b2'])\n",
        "\n",
        "            return grads\n",
        "        \n",
        "        def gradient(self, x, t):\n",
        "            # 순전파\n",
        "            self.loss(x, t)\n",
        "\n",
        "            #역전파\n",
        "            dout = 1\n",
        "            dout = self.lastLayer.backward(dout)\n",
        "\n",
        "            layers = list(self.layers.values())\n",
        "            layers.reverse()\n",
        "            for layer in layers:\n",
        "                dout = layer.backward(dout)\n",
        "\n",
        "            #결과 저장\n",
        "            grads = {}\n",
        "            grads['W1'] = self.layers['Affine1'].dW\n",
        "            grads['b1'] = self.layers['Affine1'].db\n",
        "            grads['W2'] = self.layers['Affine2'].dW\n",
        "            grads['b2'] = self.layers['Affine2'].db\n"
      ]
    },
    {
      "cell_type": "code",
      "execution_count": null,
      "metadata": {},
      "outputs": [
        {
          "name": "stdout",
          "output_type": "stream",
          "text": [
            "[[-0.00415143 -0.00636673]\n",
            " [-0.01121939 -0.00581881]\n",
            " [-0.00644081  0.00263031]]\n",
            "[0. 0.]\n",
            "[[-0.04591264 -0.01011342]]\n",
            "[[0. 0.]]\n"
          ]
        }
      ],
      "source": [
        "test_array = np.array([[1,2,3]])\n",
        "\n",
        "input_size = 3\n",
        "hidden_size = 2\n",
        "\n",
        "w1 = weight_init_std * np.random.randn(input_size, hidden_size)\n",
        "print(w1)\n",
        "b1 = np.zeros(hidden_size)\n",
        "print(b1)\n",
        "\n",
        "test_affine = Affine(w1, b1)\n",
        "test_array_affine = test_affine.forward(test_array)\n",
        "print(test_array_affine)\n",
        "\n",
        "test_relu = Relu()\n",
        "test_array_relu = test_relu.forward(test_array_affine)\n",
        "print(test_array_relu)"
      ]
    },
    {
      "cell_type": "code",
      "execution_count": null,
      "metadata": {},
      "outputs": [
        {
          "data": {
            "text/plain": [
              "0.2899091136979087"
            ]
          },
          "execution_count": 152,
          "metadata": {},
          "output_type": "execute_result"
        }
      ],
      "source": [
        "cross_entropy_error(np.array([[0.3,0.7], [0.2, 0.8]]), np.array([[0,1], [0,1]]))"
      ]
    },
    {
      "cell_type": "markdown",
      "metadata": {},
      "source": [
        "### 7.3 오차역전파법으로 구한 기울기 검증하기"
      ]
    },
    {
      "cell_type": "code",
      "execution_count": null,
      "metadata": {},
      "outputs": [
        {
          "name": "stdout",
          "output_type": "stream",
          "text": [
            "W1:3.686295291898407e-10\n",
            "b1:2.0295578070751784e-09\n",
            "W2:5.433811355566256e-09\n",
            "b2:1.3960856372896568e-07\n"
          ]
        }
      ],
      "source": [
        "from dataset.mnist import load_mnist\n",
        "from ch05.two_layer_net import TwoLayerNet\n",
        "import numpy as np\n",
        "\n",
        "# 데이터셋 읽기\n",
        "(x_train, t_train), (x_test, t_test) = load_mnist(normalize=True, one_hot_label=True)\n",
        "network = TwoLayerNet(input_size=784, hidden_size=50, output_size=10)\n",
        "\n",
        "x_batch = x_train[:3]\n",
        "t_batch = t_train[:3]\n",
        "\n",
        "grad_numerical = network.numerical_gradient(x_batch, t_batch) # 수치 미분\n",
        "grad_backprop = network.gradient(x_batch, t_batch) # 역전파법\n",
        "\n",
        "for key in grad_numerical.keys():\n",
        "    diff = np.average(np.abs(grad_backprop[key] - grad_numerical[key]))\n",
        "    print(key + ':' + str(diff))\n"
      ]
    },
    {
      "cell_type": "markdown",
      "metadata": {},
      "source": [
        "### 7.4 오차역전파법을 사용한 학습 구현하기"
      ]
    },
    {
      "cell_type": "code",
      "execution_count": null,
      "metadata": {},
      "outputs": [
        {
          "name": "stdout",
          "output_type": "stream",
          "text": [
            "epoch : 1 \n",
            " train_acc:0.09351666666666666, test_acc0.0925\n",
            "\n",
            "epoch : 1 \n",
            " train_acc:0.9034833333333333, test_acc0.9069\n",
            "\n",
            "epoch : 1 \n",
            " train_acc:0.9249166666666667, test_acc0.9261\n",
            "\n",
            "epoch : 1 \n",
            " train_acc:0.9364666666666667, test_acc0.9358\n",
            "\n",
            "epoch : 1 \n",
            " train_acc:0.94615, test_acc0.9447\n",
            "\n",
            "epoch : 1 \n",
            " train_acc:0.9527166666666667, test_acc0.9491\n",
            "\n",
            "epoch : 1 \n",
            " train_acc:0.9582, test_acc0.9564\n",
            "\n",
            "epoch : 1 \n",
            " train_acc:0.9618666666666666, test_acc0.9577\n",
            "\n",
            "epoch : 1 \n",
            " train_acc:0.9652666666666667, test_acc0.9605\n",
            "\n",
            "epoch : 1 \n",
            " train_acc:0.96855, test_acc0.9619\n",
            "\n",
            "epoch : 1 \n",
            " train_acc:0.9716833333333333, test_acc0.9663\n",
            "\n",
            "epoch : 1 \n",
            " train_acc:0.9717833333333333, test_acc0.9659\n",
            "\n",
            "epoch : 1 \n",
            " train_acc:0.9747, test_acc0.9682\n",
            "\n",
            "epoch : 1 \n",
            " train_acc:0.97445, test_acc0.9661\n",
            "\n",
            "epoch : 1 \n",
            " train_acc:0.9757666666666667, test_acc0.9682\n",
            "\n",
            "epoch : 1 \n",
            " train_acc:0.97855, test_acc0.9694\n",
            "\n",
            "epoch : 1 \n",
            " train_acc:0.9791333333333333, test_acc0.9702\n",
            "\n"
          ]
        }
      ],
      "source": [
        "from dataset.mnist import load_mnist\n",
        "from ch05.two_layer_net import TwoLayerNet\n",
        "import numpy as np\n",
        "\n",
        "# 데이터셋 읽기\n",
        "(x_train, t_train), (x_test, t_test) = load_mnist(normalize=True, one_hot_label=True)\n",
        "network = TwoLayerNet(input_size=784, hidden_size=50, output_size=10)\n",
        "\n",
        "iters_num = 10000\n",
        "train_size = x_train.shape[0]\n",
        "batch_size = 100\n",
        "learning_rate = 0.1\n",
        "\n",
        "train_loss_list = []\n",
        "train_acc_list = []\n",
        "test_acc_list = []\n",
        "\n",
        "iter_per_epoch = max(train_size/batch_size, 1)\n",
        "\n",
        "for i in range(iters_num):\n",
        "    batch_mask = np.random.choice(train_size, batch_size)\n",
        "    x_batch = x_train[batch_mask]\n",
        "    t_batch = t_train[batch_mask]\n",
        "\n",
        "    # 오차역전파법\n",
        "    grad = network.gradient(x_batch, t_batch)\n",
        "\n",
        "    for key in ('W1', 'b1', 'W2', 'b2'):\n",
        "        network.params[key] -= learning_rate * grad[key]\n",
        "\n",
        "    loss = network.loss(x_batch, t_batch)\n",
        "    train_loss_list.append(loss)\n",
        "\n",
        "    if i % iter_per_epoch == 0:\n",
        "        train_acc = network.accuracy(x_train, t_train)\n",
        "        test_acc = network.accuracy(x_test, t_test)\n",
        "        train_acc_list.append(train_acc)\n",
        "        test_acc_list.append(test_acc)\n",
        "        try_count = 1\n",
        "        print(f'epoch : {try_count} \\n train_acc:{train_acc}, test_acc{test_acc}\\n')\n",
        "        try_count += 1"
      ]
    },
    {
      "cell_type": "code",
      "execution_count": null,
      "metadata": {},
      "outputs": [
        {
          "data": {
            "text/plain": [
              "array([[ 1.61617201e-12,  5.57448415e-12, -1.70353385e-09,\n",
              "         1.44867291e-09,  1.14357208e-17,  4.57355429e-12,\n",
              "         8.58288926e-14,  1.01079113e-10,  1.41930659e-10,\n",
              "         1.12011528e-15],\n",
              "       [ 2.19784337e-06,  3.67348767e-08,  1.58449307e-08,\n",
              "         6.96011140e-08,  3.18466924e-07, -4.36852332e-06,\n",
              "         6.20351621e-07,  7.29216073e-08,  9.87613136e-07,\n",
              "         4.91457410e-08],\n",
              "       [ 1.34060166e-08,  1.84714295e-10,  1.86493641e-09,\n",
              "         8.97063007e-08,  2.77192194e-12, -1.12207683e-07,\n",
              "         3.55828896e-10,  2.96327675e-10,  3.39801536e-09,\n",
              "         2.99277073e-09],\n",
              "       [ 9.17299266e-08, -3.10523566e-05,  2.05839283e-05,\n",
              "         2.75380631e-07,  1.34443857e-07,  3.14386196e-07,\n",
              "         9.52979641e-07,  1.67951662e-06,  7.01186027e-06,\n",
              "         8.13111110e-09],\n",
              "       [ 6.91059014e-08,  7.30663545e-08,  1.44789573e-05,\n",
              "         1.16806220e-05,  1.64897616e-10,  2.45095088e-07,\n",
              "         4.05758806e-11, -2.67296111e-05,  1.41560512e-08,\n",
              "         1.68402898e-07],\n",
              "       [-3.24909148e-06,  3.00692663e-12,  8.82569302e-08,\n",
              "         6.35550620e-09,  1.65231006e-10,  1.26959379e-06,\n",
              "         8.02489393e-07,  5.07022522e-12,  1.07862025e-06,\n",
              "         3.60230203e-09],\n",
              "       [ 4.79417754e-08,  6.55925793e-09, -3.52462976e-06,\n",
              "         2.76016190e-06,  1.69593389e-10,  1.10131988e-09,\n",
              "         3.32458908e-10,  9.55610652e-09,  6.87858208e-07,\n",
              "         1.09491346e-08],\n",
              "       [ 1.35189316e-08,  2.78559182e-08,  3.16513542e-06,\n",
              "         3.96790891e-07,  2.62955602e-09,  3.02554444e-09,\n",
              "         1.16020008e-14, -4.11089135e-06,  3.08922373e-07,\n",
              "         1.93012708e-07],\n",
              "       [ 1.26113396e-07,  5.21365354e-13,  2.59450091e-09,\n",
              "         1.26233653e-12,  4.68636400e-07,  4.14020402e-10,\n",
              "        -5.97811263e-07,  2.97158213e-12,  4.15489017e-14,\n",
              "         4.81485099e-11],\n",
              "       [ 3.72753078e-07,  3.05321607e-10,  7.97124326e-08,\n",
              "         4.83813922e-10,  1.58086120e-08,  3.90689454e-07,\n",
              "        -1.03782669e-06,  1.27101472e-12,  1.48843171e-07,\n",
              "         2.92295310e-08],\n",
              "       [ 1.62413238e-10,  1.25351610e-12,  4.45985866e-10,\n",
              "         2.24597695e-12, -9.08961167e-07,  1.42014196e-10,\n",
              "         5.73790936e-09,  3.36877831e-07,  5.64629518e-07,\n",
              "         9.61995815e-10],\n",
              "       [ 6.20972538e-09,  1.27008122e-09,  4.30635951e-05,\n",
              "         7.42628687e-10,  7.44664911e-08,  1.99450899e-07,\n",
              "        -4.33627714e-05,  5.38717965e-11,  1.69824014e-08,\n",
              "         1.64781232e-13],\n",
              "       [ 1.23199322e-11,  1.62696409e-12,  1.15744043e-09,\n",
              "         1.30921469e-07,  1.51041493e-10,  1.69555885e-08,\n",
              "         7.11283651e-14,  1.81023188e-10, -2.16011397e-07,\n",
              "         6.66308167e-08],\n",
              "       [ 7.72045752e-09,  5.21271033e-11,  2.42637397e-10,\n",
              "         2.18002965e-06,  1.14308534e-07,  4.20406098e-09,\n",
              "         1.67362051e-13,  9.77595870e-07,  3.22617011e-06,\n",
              "        -6.51032361e-06],\n",
              "       [-1.29306109e-06,  1.76201065e-12,  2.34119340e-08,\n",
              "         7.54262377e-08,  4.05660077e-08,  8.05231399e-07,\n",
              "         1.11771063e-07,  3.49469162e-08,  3.82485825e-08,\n",
              "         1.63457190e-07],\n",
              "       [ 5.11990465e-07,  5.41624168e-06,  1.46072751e-06,\n",
              "         1.13186675e-05,  1.24497866e-06,  4.06339727e-07,\n",
              "         3.73449812e-10, -9.31323870e-05,  5.00465008e-06,\n",
              "         6.77684180e-05],\n",
              "       [ 2.30221173e-08,  9.76559349e-11,  9.68367729e-09,\n",
              "         6.31489855e-12,  4.63395868e-08,  2.72315895e-08,\n",
              "        -1.07801863e-07,  2.89002451e-11,  3.25069117e-10,\n",
              "         1.06695175e-09],\n",
              "       [ 6.68503113e-09,  1.65701254e-10,  5.83898270e-10,\n",
              "         2.14164300e-06,  6.33992775e-07,  3.78533681e-08,\n",
              "         3.25251752e-11,  2.54536669e-07,  1.46449344e-07,\n",
              "        -3.22194232e-06],\n",
              "       [ 9.79958887e-09,  1.31632904e-10,  4.61650776e-08,\n",
              "         1.15181930e-05,  4.29412078e-06,  4.04295929e-08,\n",
              "         7.73764131e-12,  1.29662221e-05,  3.89379472e-07,\n",
              "        -2.92644490e-05],\n",
              "       [ 4.26200814e-07,  4.43657855e-09,  5.92544913e-07,\n",
              "         2.07948680e-07,  1.26786878e-10,  1.34919947e-06,\n",
              "         7.43266954e-09,  1.84889279e-09, -2.79482745e-06,\n",
              "         2.05088648e-07],\n",
              "       [-2.98628197e-05,  8.85277814e-11,  8.28205723e-06,\n",
              "         1.65503567e-07,  6.60187840e-06,  1.06730440e-06,\n",
              "         6.74491349e-06,  2.03539355e-06,  4.34875502e-10,\n",
              "         4.96524570e-06],\n",
              "       [ 5.97281218e-10,  6.12070570e-10,  8.17398339e-10,\n",
              "         4.71260771e-09,  3.33106478e-09,  6.84344856e-09,\n",
              "        -7.10300698e-08,  2.79657700e-13,  5.41118628e-08,\n",
              "         4.05612595e-12],\n",
              "       [ 2.68480741e-06,  3.01311742e-10,  6.49744497e-06,\n",
              "         5.90719189e-05,  6.31232224e-10,  6.93244457e-08,\n",
              "         5.24475394e-12, -1.12936753e-04,  9.17027301e-08,\n",
              "         4.45206165e-05],\n",
              "       [ 2.21832246e-09,  2.54739329e-09,  8.07651910e-06,\n",
              "         1.69926991e-06,  4.16744806e-11,  1.44230822e-11,\n",
              "         6.01785319e-14, -9.80478175e-06,  2.13628719e-08,\n",
              "         2.80799465e-09],\n",
              "       [ 3.72937303e-08,  1.51545987e-11,  7.78992541e-10,\n",
              "         5.36406527e-08,  6.90334097e-11, -1.52762304e-06,\n",
              "         1.22419275e-10,  3.36156985e-08,  1.40018396e-06,\n",
              "         1.90339339e-09],\n",
              "       [ 4.56329888e-08,  6.62906795e-08,  1.77387277e-08,\n",
              "        -1.56542775e-05,  1.98384541e-09,  1.50631210e-05,\n",
              "         1.04893837e-09,  1.00708139e-08,  2.13696206e-07,\n",
              "         2.34694388e-07],\n",
              "       [ 3.34488170e-06,  9.61471617e-07,  2.90647013e-04,\n",
              "        -1.33683316e-03,  2.68299807e-08,  9.79116255e-04,\n",
              "         1.02168186e-05,  1.12202543e-07,  5.17397419e-05,\n",
              "         6.67948966e-07],\n",
              "       [ 3.20978027e-07,  8.06426017e-08,  1.75968465e-06,\n",
              "         2.96466483e-06,  1.71062429e-03,  8.87000378e-07,\n",
              "         1.48063793e-07,  1.29043329e-05,  1.31724633e-06,\n",
              "        -1.73100690e-03],\n",
              "       [ 5.66672509e-08,  1.86720142e-10,  1.68683241e-08,\n",
              "        -5.01212353e-05,  3.59985110e-12,  4.21646781e-06,\n",
              "         1.13802459e-12,  7.47386724e-11,  4.19880715e-05,\n",
              "         3.84289423e-06],\n",
              "       [ 3.97493549e-07,  3.09669461e-11,  1.34293938e-10,\n",
              "         3.00545008e-06,  2.31460144e-07,  4.21777498e-06,\n",
              "         1.47561367e-11,  2.28677547e-06,  3.94288446e-07,\n",
              "        -1.05334227e-05],\n",
              "       [ 3.18101491e-10,  1.68954011e-11,  2.88267137e-10,\n",
              "         3.60213217e-09,  8.60669716e-08,  3.29072314e-09,\n",
              "         2.47446716e-13,  7.80173754e-07,  8.32541190e-07,\n",
              "        -1.70629828e-06],\n",
              "       [ 2.68218002e-07,  2.81563567e-07,  4.62048511e-06,\n",
              "         7.18742627e-06, -9.27207034e-04,  5.71737434e-07,\n",
              "         1.63403352e-08,  1.14274645e-05,  3.24609431e-06,\n",
              "         8.99587705e-04],\n",
              "       [ 2.87841366e-08,  5.08294584e-10,  7.96479485e-09,\n",
              "         4.80428745e-09, -5.53299022e-06,  1.59581415e-09,\n",
              "         2.23318619e-07,  1.36933897e-07,  1.27991192e-06,\n",
              "         3.84916845e-06],\n",
              "       [ 3.21244447e-08,  5.29567710e-10,  5.55783318e-08,\n",
              "         3.12692273e-10,  4.95475814e-07,  3.73892311e-09,\n",
              "        -1.13959393e-06,  1.21470003e-10,  5.51682004e-07,\n",
              "         3.06861687e-11],\n",
              "       [ 3.12499578e-07,  1.83091475e-06,  7.50746646e-06,\n",
              "         3.13681540e-05,  1.10002067e-05,  2.59562426e-05,\n",
              "         7.39028364e-06,  2.78906418e-06, -9.41057838e-05,\n",
              "         5.95095191e-06],\n",
              "       [ 6.20189850e-07,  3.83390590e-07,  4.65468313e-06,\n",
              "         3.12689242e-05,  4.66073337e-04,  5.90848659e-05,\n",
              "         4.47868493e-08,  1.98037567e-05,  1.35220021e-05,\n",
              "        -5.95455936e-04],\n",
              "       [ 6.13181207e-09,  5.92281400e-12,  2.09504429e-06,\n",
              "         1.14473008e-06,  2.57686410e-13,  1.40226855e-08,\n",
              "         6.89900624e-14, -3.27233291e-06,  2.00642762e-12,\n",
              "         1.23957800e-08],\n",
              "       [ 4.31859810e-06,  2.49380822e-07,  9.56627168e-06,\n",
              "         4.49857798e-07,  3.66159010e-05,  8.99153771e-05,\n",
              "        -1.41955622e-04,  1.62657839e-08,  7.10393571e-07,\n",
              "         1.13576424e-07],\n",
              "       [ 1.83547972e-08,  4.52151093e-07,  8.16361513e-06,\n",
              "        -6.91909398e-05,  6.87243250e-12,  8.69779507e-08,\n",
              "         3.06006611e-12,  6.65110733e-06,  5.36016450e-05,\n",
              "         2.17078614e-07],\n",
              "       [ 8.65449803e-08,  1.68583789e-10, -1.75905243e-06,\n",
              "         1.06216114e-07,  2.20584879e-12,  2.16869073e-08,\n",
              "         1.86409126e-10,  1.52303950e-08,  1.52374851e-06,\n",
              "         5.26832292e-09],\n",
              "       [ 7.42345179e-12,  2.01165992e-13,  2.40106289e-10,\n",
              "         2.10687422e-11, -2.48287938e-07,  3.89146690e-10,\n",
              "         2.66682636e-11,  5.78785466e-11,  1.55514666e-09,\n",
              "         2.45990298e-07],\n",
              "       [ 1.44219835e-08, -1.98306378e-05,  4.38521637e-06,\n",
              "         5.18079538e-07,  2.09457921e-07,  4.16644588e-08,\n",
              "         6.65626908e-07,  8.53835990e-06,  5.37448206e-06,\n",
              "         8.33287111e-08],\n",
              "       [ 2.10408380e-08,  4.84378578e-12,  4.68918489e-09,\n",
              "         1.73456860e-07,  7.56121210e-06,  4.61681553e-10,\n",
              "         3.94274406e-13,  5.46511762e-06,  4.39611256e-08,\n",
              "        -1.32699446e-05],\n",
              "       [ 4.17424498e-08,  9.61570426e-11,  2.34725734e-07,\n",
              "         1.09945736e-06,  1.99204830e-06,  1.15109840e-08,\n",
              "         3.49124271e-12,  4.41710679e-06,  8.37432414e-07,\n",
              "        -8.63412368e-06],\n",
              "       [ 2.10299750e-07,  6.45521893e-10,  8.19725792e-08,\n",
              "         1.23798010e-05,  2.67575799e-07,  3.89467635e-07,\n",
              "         1.28711737e-10,  1.96441281e-05, -3.45831820e-03,\n",
              "         3.42534418e-03],\n",
              "       [ 6.92278578e-10,  7.02757925e-15,  1.67322683e-11,\n",
              "         2.80784787e-09,  2.73525088e-06,  1.69259767e-10,\n",
              "         5.76399740e-14,  2.23690962e-07,  1.71453366e-08,\n",
              "        -2.97977336e-06],\n",
              "       [ 3.72014980e-04,  1.15825834e-05,  4.43509001e-04,\n",
              "         4.98194193e-05,  2.48711541e-05,  1.37820016e-04,\n",
              "        -1.09036612e-03,  4.50264979e-05,  4.57458632e-06,\n",
              "         1.14788597e-06],\n",
              "       [ 5.03853772e-10,  6.02894520e-09,  8.32105017e-07,\n",
              "        -2.85664506e-06,  1.59288870e-13,  1.97060905e-06,\n",
              "         3.08025596e-12,  8.65192260e-13,  4.71254879e-08,\n",
              "         2.68597506e-10],\n",
              "       [ 5.82377159e-06,  5.99234383e-09,  7.05949905e-07,\n",
              "         1.23282286e-08,  7.92433009e-05,  5.82451306e-08,\n",
              "        -8.58777045e-05,  9.24380234e-09,  7.09990972e-10,\n",
              "         1.81626909e-08],\n",
              "       [ 2.01476912e-08,  2.12006664e-11,  3.88065599e-08,\n",
              "         4.71037162e-08,  3.71789111e-07,  3.73622686e-09,\n",
              "         1.15986507e-13, -3.01523937e-06,  1.63376131e-08,\n",
              "         2.51729714e-06],\n",
              "       [ 1.87865766e-07,  1.46827017e-06,  1.60197326e-07,\n",
              "        -1.85297830e-05,  3.41049456e-08,  5.23355050e-06,\n",
              "         3.25950990e-10,  1.58680554e-08,  2.09304806e-06,\n",
              "         9.33655223e-06],\n",
              "       [ 7.06386369e-09,  2.60322482e-08, -1.97696611e-04,\n",
              "         1.30738195e-04,  1.37740917e-09,  2.33273017e-08,\n",
              "         6.61738793e-10,  1.56778003e-05,  5.12114297e-05,\n",
              "         1.07229986e-08],\n",
              "       [ 4.75761756e-04,  3.03574731e-07,  1.02417777e-04,\n",
              "         8.07917644e-05,  1.19414049e-05,  5.51693226e-05,\n",
              "        -7.32483680e-04,  1.63592536e-06,  3.03420739e-06,\n",
              "         1.42794773e-06],\n",
              "       [ 8.72226558e-09,  2.81221540e-11,  5.01414903e-08,\n",
              "         1.21258558e-06,  8.19650081e-07,  2.38927207e-08,\n",
              "         2.06881311e-11,  9.71450113e-08,  1.33269157e-07,\n",
              "        -2.34545511e-06],\n",
              "       [ 1.87884286e-08,  8.75318917e-08,  2.05211257e-05,\n",
              "        -2.49720627e-05,  2.51869058e-09,  3.59539414e-06,\n",
              "         5.48348342e-07,  7.99143760e-10,  1.97447017e-07,\n",
              "         1.09404447e-10],\n",
              "       [ 1.31029570e-10,  6.03124965e-08,  3.52642456e-08,\n",
              "         3.79038303e-05,  7.43622936e-07,  1.96686497e-08,\n",
              "         1.18556064e-11,  3.99471260e-06,  4.49021833e-06,\n",
              "        -4.72477724e-05],\n",
              "       [ 1.16379369e-08,  9.76292900e-12,  2.59409724e-09,\n",
              "         1.87752697e-07,  1.54792671e-07,  1.27470012e-08,\n",
              "         7.46445781e-13,  1.99768888e-06,  1.15292404e-06,\n",
              "        -3.52014783e-06],\n",
              "       [-1.46695724e-06,  1.29588607e-13,  1.45764830e-06,\n",
              "         5.43358130e-09,  2.58520891e-12,  1.70452625e-10,\n",
              "         3.00453615e-09,  1.86552961e-10,  4.81091066e-12,\n",
              "         5.06286824e-10],\n",
              "       [ 3.23169797e-08,  2.65047573e-09,  7.61565819e-06,\n",
              "         7.42807166e-09, -9.76235982e-06,  5.71228567e-08,\n",
              "         1.37123922e-06,  2.53949907e-08,  4.98133704e-09,\n",
              "         6.45567700e-07],\n",
              "       [ 3.71375257e-08, -8.39169823e-05,  3.19955085e-05,\n",
              "         1.00497823e-06,  2.10792101e-06,  8.97774775e-07,\n",
              "         3.92553042e-07,  4.11285234e-05,  6.32704925e-06,\n",
              "         2.55366632e-08],\n",
              "       [ 4.75173053e-08,  7.63870685e-10,  8.96760724e-09,\n",
              "         5.40449466e-07,  4.15501719e-06,  8.72744830e-08,\n",
              "         5.70281475e-11,  9.96344533e-06,  1.41731508e-05,\n",
              "        -2.89766431e-05],\n",
              "       [ 2.20080802e-08,  1.62408032e-09,  3.00558269e-09,\n",
              "         4.14645134e-04,  9.71816819e-09,  2.24489370e-06,\n",
              "         4.77779239e-12,  2.66635312e-07,  5.69679541e-04,\n",
              "        -9.86872565e-04],\n",
              "       [ 5.14706560e-10,  1.33660439e-10, -1.01495728e-07,\n",
              "         4.21858399e-08,  1.42772422e-09,  7.58267462e-12,\n",
              "         1.09742019e-08,  3.89298437e-08,  7.32208174e-09,\n",
              "         8.71933625e-14],\n",
              "       [ 2.74887587e-11,  3.73701019e-14,  8.84684506e-11,\n",
              "         3.33756405e-14, -3.38498215e-07,  2.17057782e-11,\n",
              "         3.36910362e-07,  2.56968454e-11,  1.34008316e-10,\n",
              "         1.29041375e-09],\n",
              "       [ 1.67921804e-11,  8.88815311e-07, -6.74461256e-06,\n",
              "         5.37653562e-06,  3.41532778e-15,  5.31870124e-11,\n",
              "         1.24177673e-13,  3.72640475e-07,  1.06538789e-07,\n",
              "         1.22642560e-11],\n",
              "       [ 3.99777493e-08,  3.02879672e-11,  7.95054383e-07,\n",
              "         2.11949519e-07,  3.40592390e-12,  1.62728154e-08,\n",
              "         1.48664967e-14, -1.24124033e-06,  9.74515521e-09,\n",
              "         1.68206995e-07],\n",
              "       [ 6.17492364e-10,  2.91070283e-08,  9.70875974e-05,\n",
              "         5.64026598e-06,  3.34929450e-08,  1.47561665e-08,\n",
              "         5.15634463e-09, -1.02834068e-04,  1.50714062e-09,\n",
              "         2.15674141e-08],\n",
              "       [ 8.59392206e-10,  5.81061814e-14,  3.11371953e-11,\n",
              "         4.19443747e-08,  5.95794700e-06,  3.50022910e-10,\n",
              "         5.90142187e-14,  1.68531417e-07,  1.78915693e-07,\n",
              "        -6.34857915e-06],\n",
              "       [-1.24652147e-05,  1.42331037e-10,  6.51904056e-06,\n",
              "         6.69103614e-08,  6.85083712e-11,  1.40484321e-07,\n",
              "         1.05674632e-07,  1.86238938e-07,  4.05428061e-07,\n",
              "         5.04122702e-06],\n",
              "       [ 1.64378648e-05,  6.55020474e-10,  2.18860553e-06,\n",
              "         3.06054013e-07,  9.52182373e-05,  9.55923691e-04,\n",
              "         1.57082161e-06,  1.41275430e-06, -1.07392402e-03,\n",
              "         8.65332376e-07],\n",
              "       [ 3.98911008e-09,  1.94042547e-09, -4.58823260e-05,\n",
              "         2.86217300e-07,  1.49100412e-07,  4.17606545e-09,\n",
              "         2.66909361e-08,  4.54064454e-05,  3.76120417e-09,\n",
              "         5.09527392e-12],\n",
              "       [ 2.14595002e-10, -2.75333507e-05,  1.87932559e-07,\n",
              "         1.23396194e-05,  6.20546299e-07,  7.23633979e-07,\n",
              "         6.74724064e-07,  7.81640888e-08,  1.28736978e-05,\n",
              "         3.48178665e-08],\n",
              "       [ 6.67209891e-08,  1.15775441e-04,  5.57103885e-04,\n",
              "         4.23169548e-04,  9.47552093e-11,  1.06340353e-07,\n",
              "         2.23703046e-09,  9.04058624e-08, -1.09631789e-03,\n",
              "         3.21471555e-09],\n",
              "       [ 4.57988854e-06,  4.26650011e-10,  4.02588900e-07,\n",
              "         1.94368822e-08,  2.33336965e-11, -7.52344821e-06,\n",
              "         5.40786519e-07,  1.31347488e-10,  1.98014589e-06,\n",
              "         2.01457678e-11],\n",
              "       [-1.59371828e-05,  8.21305946e-11,  7.33156741e-06,\n",
              "         1.48478910e-08,  8.74933449e-10,  5.56171933e-06,\n",
              "         9.06564722e-07,  6.27634499e-08,  9.34251022e-08,\n",
              "         1.96533781e-06],\n",
              "       [ 2.81740694e-08,  1.38556868e-05,  1.59260945e-06,\n",
              "        -2.78688651e-05,  1.83222230e-10,  2.31036403e-07,\n",
              "         5.86024914e-11,  5.47856825e-06,  4.42123529e-06,\n",
              "         2.26131304e-06],\n",
              "       [ 1.25920279e-06,  4.20899547e-07,  1.41891007e-04,\n",
              "         4.38448990e-05,  4.09408592e-10,  2.67414670e-07,\n",
              "         4.69409598e-10, -1.94160270e-04,  6.01561405e-06,\n",
              "         4.60354243e-07],\n",
              "       [ 1.18194978e-09,  1.53221119e-08,  4.80195048e-08,\n",
              "        -1.45025237e-07,  3.28924897e-12,  1.36718259e-08,\n",
              "         3.66446885e-13,  1.54572426e-12,  6.15487273e-08,\n",
              "         5.27591607e-09],\n",
              "       [ 1.49760647e-09,  3.09307681e-09,  2.11014189e-08,\n",
              "         1.05353371e-08,  3.77259087e-08,  4.70282050e-08,\n",
              "        -1.67720042e-07,  2.39618797e-11,  4.66288443e-08,\n",
              "         8.56829098e-11],\n",
              "       [ 3.10920687e-07,  6.04305853e-10,  5.43421704e-07,\n",
              "         1.56812874e-08,  1.06690141e-05,  3.00564602e-06,\n",
              "        -1.45824864e-05,  5.79445127e-10,  1.01272195e-08,\n",
              "         2.64916395e-08],\n",
              "       [ 4.63643663e-08,  1.08127542e-06,  1.44988800e-06,\n",
              "         7.69955801e-06,  1.33944496e-08,  1.41273305e-05,\n",
              "         6.51721602e-08,  1.48156360e-10, -2.53922451e-05,\n",
              "         9.09114007e-07],\n",
              "       [ 4.75204134e-07,  1.47782142e-09,  6.53453647e-08,\n",
              "         2.26607652e-08, -1.15164182e-05,  2.92997179e-09,\n",
              "         1.02729916e-07,  1.21318431e-06,  1.86899879e-07,\n",
              "         9.44598604e-06],\n",
              "       [ 4.81930108e-09,  1.41232991e-10,  4.80619486e-08,\n",
              "         9.01799634e-09, -8.69963667e-06,  1.23379991e-08,\n",
              "         5.82236116e-09,  5.57034762e-08,  1.76180731e-08,\n",
              "         8.54611428e-06],\n",
              "       [ 4.20314891e-10, -4.64236529e-06,  2.58752221e-07,\n",
              "         1.29673587e-06,  4.45746632e-07,  1.46725107e-08,\n",
              "         7.76396964e-08,  1.00179433e-06,  1.32010934e-06,\n",
              "         2.26494378e-07],\n",
              "       [-8.98909438e-07,  2.26083890e-15,  8.61170837e-09,\n",
              "         2.07340210e-08,  3.12985223e-14,  6.47776504e-09,\n",
              "         1.03648370e-10,  3.35790195e-08,  8.28912995e-11,\n",
              "         8.29320351e-07],\n",
              "       [-2.87211058e-03,  4.95154740e-11,  6.11197563e-08,\n",
              "         2.71349569e-06,  1.06324073e-08,  1.38143772e-03,\n",
              "         6.45682480e-09,  4.20814473e-07,  1.19973551e-03,\n",
              "         2.87724780e-04],\n",
              "       [ 3.04628579e-07,  3.58869270e-08,  5.90048286e-08,\n",
              "         5.67497742e-10,  7.25433553e-10,  6.75202734e-07,\n",
              "         1.55119745e-09,  4.51025154e-10, -1.09065610e-06,\n",
              "         1.26378745e-08],\n",
              "       [ 3.66085588e-11,  5.86302314e-10, -1.53509841e-04,\n",
              "         1.53505332e-04,  2.86288889e-13,  1.43829281e-10,\n",
              "         8.60069843e-10,  6.30381580e-11,  2.81936336e-09,\n",
              "         2.84431681e-13],\n",
              "       [ 6.97692325e-07,  1.09737168e-07,  4.01703248e-06,\n",
              "         3.22097711e-05,  5.13789037e-05,  1.01904297e-06,\n",
              "         3.21332145e-09,  2.06219579e-04,  1.32525906e-05,\n",
              "        -3.08907563e-04],\n",
              "       [ 3.42996726e-07, -6.51222599e-05,  2.72757018e-05,\n",
              "         1.31573600e-06,  1.46251132e-06,  1.17456950e-06,\n",
              "         1.98320249e-06,  2.10050557e-05,  1.04578138e-05,\n",
              "         1.04672677e-07],\n",
              "       [ 2.43461855e-07,  9.10386333e-10,  1.16347724e-08,\n",
              "         3.73261188e-11,  6.54812654e-07,  3.03607904e-08,\n",
              "        -9.59425834e-07,  6.47979101e-11,  6.44796581e-09,\n",
              "         1.16952865e-08],\n",
              "       [ 1.46681875e-08,  1.86335706e-08,  8.10213273e-07,\n",
              "         2.79565094e-07,  9.83219619e-09,  2.00798832e-09,\n",
              "         2.84970196e-13, -1.66049012e-06,  1.55393168e-07,\n",
              "         3.70176353e-07],\n",
              "       [ 1.86659502e-08,  1.12723124e-09,  1.95174133e-08,\n",
              "        -3.02566569e-05,  4.94033997e-13,  9.34236571e-06,\n",
              "         2.77033834e-13,  4.50004508e-14,  2.02867610e-05,\n",
              "         5.88218819e-07],\n",
              "       [ 4.88838978e-11,  2.13456888e-11,  3.82100482e-09,\n",
              "         6.33039829e-10, -7.85871618e-07,  6.98439973e-10,\n",
              "         1.06959922e-10,  5.98485045e-10,  2.47411251e-08,\n",
              "         7.55202334e-07],\n",
              "       [ 4.22881142e-09, -3.06447366e-05,  2.00886171e-07,\n",
              "         1.77840695e-05,  1.30435071e-06,  5.29279469e-07,\n",
              "         5.01738024e-07,  1.41137662e-06,  5.78279473e-06,\n",
              "         3.12601259e-06],\n",
              "       [-6.60435027e-09,  5.31032609e-17,  3.78379410e-09,\n",
              "         7.47529231e-13,  6.94163917e-14,  2.03964405e-10,\n",
              "         3.80188108e-10,  1.52526706e-09,  6.90933719e-12,\n",
              "         7.03410251e-10],\n",
              "       [ 5.00838594e-08,  5.50559833e-08, -1.63375545e-04,\n",
              "         1.62530929e-04,  2.41962233e-08,  1.15950448e-08,\n",
              "         1.10476704e-08,  2.73131500e-07,  4.18961170e-07,\n",
              "         5.44228774e-10],\n",
              "       [ 1.93586043e-07, -9.47983157e-05,  3.51856340e-06,\n",
              "         8.34577719e-07,  2.50728359e-06,  4.51552939e-07,\n",
              "         3.37985511e-07,  7.06698505e-05,  1.61414726e-05,\n",
              "         1.43443349e-07],\n",
              "       [ 5.90069572e-07,  3.71620188e-10,  1.93506679e-08,\n",
              "         7.29293348e-10,  1.22944360e-07,  4.30153140e-07,\n",
              "        -5.07854159e-06,  3.49871924e-12,  3.91484881e-06,\n",
              "         7.06327048e-11],\n",
              "       [ 3.93531027e-07,  6.43586582e-06, -1.28848035e-05,\n",
              "         5.67008004e-07,  2.39003251e-11,  3.16990169e-07,\n",
              "         2.20650456e-09,  4.43985020e-08,  5.10771632e-06,\n",
              "         1.70632953e-08]])"
            ]
          },
          "execution_count": 165,
          "metadata": {},
          "output_type": "execute_result"
        }
      ],
      "source": [
        "network.lastLayer.backward(1) "
      ]
    },
    {
      "cell_type": "markdown",
      "metadata": {},
      "source": [
        "# 학습 관련 기술들\n",
        "\n",
        "신경망 학습의 핵심 개념 설명\n",
        "* 가중치 매개변수의 최적값을 탐색하는 최적화 방법\n",
        "* 가중치 매개변수 초기값\n",
        "* 하이퍼파라미터 설정 방법\n",
        "* 오버피팅의 대응책인 가중치 감소와 드롭아웃\n",
        "* 배치 정규화"
      ]
    },
    {
      "cell_type": "markdown",
      "metadata": {},
      "source": [
        "## 1 매개변수 갱신\n",
        "\n",
        "* 신경망의 목적 -> loss를 최소화 하는 매개변수를 찾는것\n",
        "* 확률적 경사 하강법 \n",
        "    * 미니 배치를 이용한 경사 하강법\n",
        "    * 미니 배치는 데이터에서 미니배치로 **무작위로** 선정하기 때문에 확률적 경사하강법이 됨"
      ]
    },
    {
      "cell_type": "markdown",
      "metadata": {},
      "source": [
        "### 1.1 모험가 이야기\n",
        "\n",
        "* 지금 서 있는 장소에서 가장 크게 기울어진 방향으로 가는것이 SGD의 전략\n",
        "* 이렇게 반복하면 언젠가 가장 깊은 곳에 찾아 갈 수 있음"
      ]
    },
    {
      "cell_type": "markdown",
      "metadata": {},
      "source": [
        "### 1.2 확률적 경사 하강법\n",
        "\n",
        "$ \\displaystyle W \\leftarrow W - \\eta\\frac{\\partial{L}}{\\partial{W}}$\n",
        "\n",
        "* W : 갱신할 가중치 매개변수\n",
        "* $\\frac{\\partial{L}}{\\partial{W}}$은 W에 대한 손실 함수의 기울기\n",
        "* $\\eta$ 는 학습률을 의미"
      ]
    },
    {
      "cell_type": "code",
      "execution_count": 145,
      "metadata": {},
      "outputs": [],
      "source": [
        "class SGD:\n",
        "    def __init__(self, lr=0.01):\n",
        "        self.lr = lr\n",
        "    \n",
        "    def update(self, params, grads):\n",
        "        for key in params.keys():\n",
        "            params[key] -= self.lr * grads[key]"
      ]
    },
    {
      "cell_type": "markdown",
      "metadata": {},
      "source": [
        "### 1.3 SGD의 단점\n",
        "\n",
        "* SGD는 단순하고 구현도 쉽지만, 비효율적일 때가 있다\n",
        "* 함수에 따라서 최적점으로 가는 방향이 길어 질 수 있다. (자세한건 책 참조)"
      ]
    },
    {
      "cell_type": "markdown",
      "metadata": {},
      "source": [
        "### 1.4 모멘텀\n",
        "\n",
        "* 모멘텀은 운동량을 뜻하는 단어  \n",
        "$ v \\leftarrow \\alpha v - \\eta\\frac{\\partial{L}}{\\partial{W}} $  \n",
        "$ W \\leftarrow W + v $\n",
        "\n",
        "* $v$는 물리에서 말하는 속도에 해당\n",
        "* $\\alpha v$ 항은 아무런 ㅎ미을 받지 않을때 서서히 하강시키는 역할을함 "
      ]
    },
    {
      "cell_type": "code",
      "execution_count": null,
      "metadata": {},
      "outputs": [],
      "source": [
        "class Momentum:\n",
        "    def __init__(self, lr=0.01, momentum=0.9):\n",
        "        self.lr = lr\n",
        "        self.momentum = momentum\n",
        "        self.v = None\n",
        "\n",
        "    def update(self, params, grads):\n",
        "        if self.v is None:\n",
        "            self.v = {}\n",
        "            for key, val in params.items():\n",
        "                self.v[key] = np.zero_like(val)\n",
        "        \n",
        "        for key in params.keys():\n",
        "            self.v[key] = self.momentum * self.v[key] - self.lr * grads[key]\n",
        "            params[key] += self.v[key]"
      ]
    },
    {
      "cell_type": "markdown",
      "metadata": {},
      "source": [
        "### 1.5 AdaGrad\n",
        "\n",
        "* 학습률을 점차 줄여가는 방법이 존재\n",
        "* 즉 처음에는 크게 학습하다 조금씩 작게 학습\n",
        "\n",
        "$\\displaystyle h \\leftarrow h + \\frac{\\partial{L}}{\\partial{W}} * \\frac{\\partial{L}}{\\partial{W}}$  \n",
        "  \n",
        "$\\displaystyle W \\leftarrow W - \\eta\\frac{1}{\\sqrt{h}}\\frac{\\partial{L}}{\\partial{W}}$"
      ]
    },
    {
      "cell_type": "code",
      "execution_count": 146,
      "metadata": {},
      "outputs": [],
      "source": [
        "class AdaGrad:\n",
        "    def __init__(self, lr=0.01):\n",
        "        self.lr = lr\n",
        "        self.h = None\n",
        "    \n",
        "    def update(self, params, grads):\n",
        "        if self.h is None:\n",
        "            self.h = {}\n",
        "            for key, val in params.items():\n",
        "                self.h[key] = np.zeros_like(val)\n",
        "        \n",
        "        for key in params.keys():\n",
        "            self.h[key] += grads[key] * grads[key]\n",
        "            params[key] -= self.lr * grads[key] / (np.sqrt(self.h[key]) + 1e-7)"
      ]
    },
    {
      "cell_type": "markdown",
      "metadata": {},
      "source": [
        "### 1.6 Adam\n",
        "\n",
        "* AdaGrad와 Momentume을 결합한 형태"
      ]
    },
    {
      "cell_type": "code",
      "execution_count": null,
      "metadata": {},
      "outputs": [],
      "source": [
        "class Adam:\n",
        "\n",
        "    \"\"\"Adam (http://arxiv.org/abs/1412.6980v8)\"\"\"\n",
        "\n",
        "    def __init__(self, lr=0.001, beta1=0.9, beta2=0.999):\n",
        "        self.lr = lr\n",
        "        self.beta1 = beta1\n",
        "        self.beta2 = beta2\n",
        "        self.iter = 0\n",
        "        self.m = None\n",
        "        self.v = None\n",
        "        \n",
        "    def update(self, params, grads):\n",
        "        if self.m is None:\n",
        "            self.m, self.v = {}, {}\n",
        "            for key, val in params.items():\n",
        "                self.m[key] = np.zeros_like(val)\n",
        "                self.v[key] = np.zeros_like(val)\n",
        "        \n",
        "        self.iter += 1\n",
        "        lr_t  = self.lr * np.sqrt(1.0 - self.beta2**self.iter) / (1.0 - self.beta1**self.iter)         \n",
        "        \n",
        "        for key in params.keys():\n",
        "            #self.m[key] = self.beta1*self.m[key] + (1-self.beta1)*grads[key]\n",
        "            #self.v[key] = self.beta2*self.v[key] + (1-self.beta2)*(grads[key]**2)\n",
        "            self.m[key] += (1 - self.beta1) * (grads[key] - self.m[key])\n",
        "            self.v[key] += (1 - self.beta2) * (grads[key]**2 - self.v[key])\n",
        "            \n",
        "            params[key] -= lr_t * self.m[key] / (np.sqrt(self.v[key]) + 1e-7)\n",
        "            \n",
        "            #unbias_m += (1 - self.beta1) * (grads[key] - self.m[key]) # correct bias\n",
        "            #unbisa_b += (1 - self.beta2) * (grads[key]*grads[key] - self.v[key]) # correct bias\n",
        "            #params[key] += self.lr * unbias_m / (np.sqrt(unbisa_b) + 1e-7)\n"
      ]
    },
    {
      "cell_type": "markdown",
      "metadata": {},
      "source": [
        "### 1.7 어느 갱신 방법을 이용할 것인가?\n",
        "\n",
        "책 참조  \n",
        "  \n",
        "* 책에서 4개의 최적화 기법을 사용한 그래프가 있음\n",
        "* 각각의 그래프마다 최적화하는 방법이다르고 그래프 형태도 다르게 나옴\n",
        "* 모든 문제에서 항상 띄어날 수는 없기 때문에 여러 optimizer을 써보는게 중요"
      ]
    },
    {
      "cell_type": "markdown",
      "metadata": {},
      "source": [
        "### 1.8 Mnist 데이터셋으로 본 갱신 방법 비교\n",
        "\n",
        "책 참조  \n",
        "  \n",
        "* sgd가 가장 느리게 학습 됐음(mnist에 경우)\n",
        "* 다른 문제에 경우 sgd가 빠르게 학습될 때도 있고 최종 정확도가 높았을 때도 있음"
      ]
    },
    {
      "cell_type": "markdown",
      "metadata": {},
      "source": [
        "## 2 가중치의 초깃값\n",
        "\n",
        "* 신경망 학습에서 특히 중요한 것이 가중치의 초깃값.\n",
        "* 가중치의 초깃값을 무엇으로 설정하느냐가 신경망 학습의 성패를 가를 수 있다."
      ]
    },
    {
      "cell_type": "markdown",
      "metadata": {},
      "source": [
        "### 2.1 초깃값을 0으로 하면\n",
        "\n",
        "* 초기값을 0으로 하게 된다면 올바른 학습이 이뤄지지 않는다.\n",
        "* 입력층에 가중치가 0이기 때문에 두 번째 층의 뉴런에 모두 같은 값이 전달 된다. 가중치의 갱신이 되지않음\n",
        "* 이는 가중치를 여러 개 갖는 의미를 사라지게 하기 때문에 초깃값을 무작위로 설정해야함."
      ]
    },
    {
      "cell_type": "markdown",
      "metadata": {},
      "source": [
        "### 2.2 은닉층의 활성화값 분포\n",
        "\n",
        "* 은닉층의 활성화값의 분포를 관찰하면 중요한 정보를 얻을 수 있다.\n",
        "* 활성화 함수로 시그모이드 함수를 사용하는 5층 신경망에 무작위로 생성한 입력데이터를 흘리며 각 층의 활성화값 분포를 히스토그램으로 그려보기  \n",
        "\n",
        "* 시그모이드 -> 입력값($-inf ~ +inf$)이 작아질수록 0에 가깝고 커질수록 1에 가까워진다\n",
        "* 이 예시에서는 bin 이 30이기 때문에 (-1, -0.97) : -1, (0.97, 1) : 1\n",
        "    * 이때 약 -3.47이하 3.47 이상이면 -1 또는 1이 됨"
      ]
    },
    {
      "cell_type": "code",
      "execution_count": null,
      "metadata": {},
      "outputs": [],
      "source": [
        "import numpy as np\n",
        "import matplotlib.pyplot as plt\n",
        "\n",
        "def sigmoid(x):\n",
        "    return 1 / (1 + np.exp(-x))\n",
        "\n",
        "x = np.random.rand(1000, 100) # 1000개의 데이터, uniform dist(0,1)\n",
        "node_num = 100 # 각 은닉층의 노드(뉴런) 수 \n",
        "hidden_layer_size = 5 # 은닉층의 갯수\n",
        "activations = {} # 활성화 값 저장 dict\n",
        "\n",
        "for i in range(hidden_layer_size):\n",
        "    if i != 0:\n",
        "        x = activations[i-1]\n",
        "\n",
        "    w = np.random.randn(node_num, node_num)\n",
        "    a = np.dot(x, w)\n",
        "    z = sigmoid(a)\n",
        "    activations[i] = z"
      ]
    },
    {
      "cell_type": "code",
      "execution_count": null,
      "metadata": {},
      "outputs": [
        {
          "data": {
            "image/png": "[encoded data removed]",
            "text/plain": [
              "<Figure size 1500x500 with 5 Axes>"
            ]
          },
          "metadata": {},
          "output_type": "display_data"
        }
      ],
      "source": [
        "# draw histogram\n",
        "\n",
        "plt.figure(figsize=(15, 5))\n",
        "for i, a in activations.items():\n",
        "    plt.subplot(1, len(activations), i+1)\n",
        "    plt.title(str(i+1) + \"-layer\")\n",
        "    plt.hist(a.flatten(), 30, range=(0,1))\n",
        "\n",
        "plt.subplots_adjust(wspace=0.5)\n",
        "plt.show()"
      ]
    },
    {
      "cell_type": "markdown",
      "metadata": {},
      "source": [
        "각 층의 활성화값들이 0과 1에 치우쳐 분포되어 있다  \n",
        "시그모이드 미분함수는 $f(x)(1-f(x)$ 인데 이렇게 되면 0과 1에 가까운 값은 모두 미분값이 0에 가까워지기 때문에 기울기 소실이 일어날 수 있음"
      ]
    },
    {
      "cell_type": "code",
      "execution_count": null,
      "metadata": {},
      "outputs": [
        {
          "data": {
            "image/png": "[encoded data removed]",
            "text/plain": [
              "<Figure size 640x480 with 1 Axes>"
            ]
          },
          "metadata": {},
          "output_type": "display_data"
        }
      ],
      "source": [
        "# 참고 uniform분포와 normal분포의 곱의 합은 어떤 형태를 나타내는가\n",
        "\n",
        "\n",
        "res = []\n",
        "\n",
        "for _ in range(10000):\n",
        "    x = np.random.rand(1000)\n",
        "    y = np.random.randn(1000)\n",
        "    z = x*y\n",
        "\n",
        "    res.append(sigmoid(sum(z)))\n",
        "\n",
        "plt.hist(res, bins=30)\n",
        "plt.show()"
      ]
    },
    {
      "cell_type": "code",
      "execution_count": null,
      "metadata": {},
      "outputs": [
        {
          "data": {
            "image/png": "[encoded data removed]",
            "text/plain": [
              "<Figure size 1500x500 with 5 Axes>"
            ]
          },
          "metadata": {},
          "output_type": "display_data"
        }
      ],
      "source": [
        "# 가중치의 표준편차를 0.01로 바꾸어 같은 실험 반복\n",
        "\n",
        "x = np.random.rand(1000, 100) # 1000개의 데이터, uniform dist(0,1)\n",
        "node_num = 100 # 각 은닉층의 노드(뉴런) 수 \n",
        "hidden_layer_size = 5 # 은닉층의 갯수\n",
        "activations = {} # 활성화 값 저장 dict\n",
        "\n",
        "for i in range(hidden_layer_size):\n",
        "    if i != 0:\n",
        "        x = activations[i-1]\n",
        "\n",
        "    w = np.random.randn(node_num, node_num) * 0.01 # 0.01을 곱하게 되면 정규분포의 특성으로 인해 표준편차가 0.01인 정규분포가 됨\n",
        "    a = np.dot(x, w)\n",
        "    z = sigmoid(a)\n",
        "    activations[i] = z\n",
        "\n",
        "plt.figure(figsize=(15, 5))\n",
        "for i, a in activations.items():\n",
        "    plt.subplot(1, len(activations), i+1)\n",
        "    plt.title(str(i+1) + \"-layer\")\n",
        "    plt.hist(a.flatten(), 30, range=(0,1))\n",
        "\n",
        "plt.subplots_adjust(wspace=0.5)\n",
        "plt.show()"
      ]
    },
    {
      "cell_type": "markdown",
      "metadata": {},
      "source": [
        "이 경우에는 기울기 소실문제는 없을 수 있으나  \n",
        "활성화값들이 치우쳐져 있어 문제가 발생  \n",
        "즉 다수의 뉴런이 거의 같은 값을 출력하고 있으니 뉴런을 여러 개 둔 의미가 없어진다는 뜻."
      ]
    },
    {
      "cell_type": "markdown",
      "metadata": {},
      "source": [
        "딥러닝에서 각 층의 활성화값들은 적당히 고루 분포되어야함  \n",
        "층과 층 사이에 적당하게 다양한 데이터가 흐르게 해야 신경망 학습이 효율적으로 이뤄지기 때문  "
      ]
    },
    {
      "cell_type": "markdown",
      "metadata": {},
      "source": [
        "Xavier 초기값\n",
        "\n",
        "* 각 층의 활성화값들을 광범위하게 분포시킬 목적으로 만듬\n",
        "* 가중치의 초깃값의 표준편차가 $\\frac{1}{\\sqrt(n)}$이 되도록 설정함\n",
        "* 앞 층에 노드가 많을 수록 대상 노드의 초깃값으로 설정하는 가중치가 좁게 퍼진다"
      ]
    },
    {
      "cell_type": "code",
      "execution_count": null,
      "metadata": {},
      "outputs": [
        {
          "data": {
            "image/png": "[encoded data removed]",
            "text/plain": [
              "<Figure size 1500x500 with 5 Axes>"
            ]
          },
          "metadata": {},
          "output_type": "display_data"
        }
      ],
      "source": [
        "# 가중치의 표준편차를 xavier초깃값으로 변경\n",
        "\n",
        "x = np.random.rand(1000, 100) # 1000개의 데이터, uniform dist(0,1)\n",
        "node_num = 100 # 각 은닉층의 노드(뉴런) 수 \n",
        "hidden_layer_size = 5 # 은닉층의 갯수\n",
        "activations = {} # 활성화 값 저장 dict\n",
        "\n",
        "for i in range(hidden_layer_size):\n",
        "    if i != 0:\n",
        "        x = activations[i-1]\n",
        "\n",
        "    w = np.random.randn(node_num, node_num) / np.sqrt(node_num)\n",
        "    a = np.dot(x, w)\n",
        "    z = sigmoid(a)\n",
        "    activations[i] = z\n",
        "\n",
        "plt.figure(figsize=(15, 5))\n",
        "for i, a in activations.items():\n",
        "    plt.subplot(1, len(activations), i+1)\n",
        "    plt.title(str(i+1) + \"-layer\")\n",
        "    plt.hist(a.flatten(), 30, range=(0,1))\n",
        "\n",
        "plt.subplots_adjust(wspace=0.5)\n",
        "plt.show()"
      ]
    },
    {
      "cell_type": "markdown",
      "metadata": {},
      "source": [
        "각 층에 흐르는 데이터는 적당히 펴져 있으므로, 시그모이드 함수의 표현력도 제한받지 않고 학습이 효율적으로 이뤄질 것으로 기대됨"
      ]
    },
    {
      "cell_type": "markdown",
      "metadata": {},
      "source": [
        "### 2.3 ReLU를 사용할 때의 가중치 초깃값\n",
        "\n",
        "* Xavier 초기값은 활성화 함수가 선형인 것을 전제로 이끈 결과\n",
        "    * 사실 선형은 아니지만 좌우 대칭으로 중앙부근은 선형이라 할 수 있음\n",
        "  \n",
        "* ReLU는 Xavier초기값 말고 다른 특성화된 초깃값을 이용"
      ]
    },
    {
      "cell_type": "markdown",
      "metadata": {},
      "source": [
        "ReLU 초깃값 함수 HE 초깃값\n",
        "\n",
        "* 앞 계층의 노드가 n개일 때 표준편차가 $\\sqrt\\frac{2}{n}$인 정규분포를 사용함"
      ]
    },
    {
      "cell_type": "markdown",
      "metadata": {},
      "source": [
        "활성화 함수로 ReLU를 사용한 경우의 가중치 초깃값에 따른 활성화 분포 값 변화"
      ]
    },
    {
      "cell_type": "code",
      "execution_count": null,
      "metadata": {},
      "outputs": [
        {
          "data": {
            "image/png": "[encoded data removed]",
            "text/plain": [
              "<Figure size 1500x500 with 5 Axes>"
            ]
          },
          "metadata": {},
          "output_type": "display_data"
        }
      ],
      "source": [
        "# 표준편차가 0.01인 정규분포를 초깃값으로 사용\n",
        "\n",
        "def ReLU(x):\n",
        "    return np.maximum(0, x)\n",
        "\n",
        "x = np.random.rand(1000, 100) \n",
        "node_num = 100 \n",
        "hidden_layer_size = 5 \n",
        "activations = {} \n",
        "\n",
        "for i in range(hidden_layer_size):\n",
        "    if i != 0:\n",
        "        x = activations[i-1]\n",
        "\n",
        "    w = np.random.randn(node_num, node_num) * 0.01\n",
        "    a = np.dot(x, w)\n",
        "    z = ReLU(a)\n",
        "    activations[i] = z\n",
        "\n",
        "plt.figure(figsize=(15, 5))\n",
        "for i, a in activations.items():\n",
        "    plt.subplot(1, len(activations), i+1)\n",
        "    plt.title(str(i+1) + \"-layer\")\n",
        "    plt.hist(a.flatten(), 30, range=(0,1))\n",
        "    plt.ylim(0, 7000)\n",
        "\n",
        "\n",
        "plt.subplots_adjust(wspace=0.5)\n",
        "plt.show()"
      ]
    },
    {
      "cell_type": "code",
      "execution_count": null,
      "metadata": {},
      "outputs": [
        {
          "data": {
            "image/png": "[encoded data removed]",
            "text/plain": [
              "<Figure size 1500x500 with 5 Axes>"
            ]
          },
          "metadata": {},
          "output_type": "display_data"
        }
      ],
      "source": [
        "# Xavier 초깃값\n",
        "\n",
        "def ReLU(x):\n",
        "    return np.maximum(0, x)\n",
        "\n",
        "x = np.random.rand(1000, 100) \n",
        "node_num = 100 \n",
        "hidden_layer_size = 5 \n",
        "activations = {} \n",
        "\n",
        "for i in range(hidden_layer_size):\n",
        "    if i != 0:\n",
        "        x = activations[i-1]\n",
        "\n",
        "    w = np.random.randn(node_num, node_num) / np.sqrt(node_num)\n",
        "    a = np.dot(x, w)\n",
        "    z = ReLU(a)\n",
        "    activations[i] = z\n",
        "\n",
        "plt.figure(figsize=(15, 5))\n",
        "for i, a in activations.items():\n",
        "    plt.subplot(1, len(activations), i+1)\n",
        "    plt.title(str(i+1) + \"-layer\")\n",
        "    plt.hist(a.flatten(), 30, range=(0,1))\n",
        "    plt.ylim(0,7000)\n",
        "\n",
        "plt.subplots_adjust(wspace=0.5)\n",
        "plt.show()"
      ]
    },
    {
      "cell_type": "code",
      "execution_count": null,
      "metadata": {},
      "outputs": [
        {
          "data": {
            "image/png": "[encoded data removed]",
            "text/plain": [
              "<Figure size 1500x500 with 5 Axes>"
            ]
          },
          "metadata": {},
          "output_type": "display_data"
        }
      ],
      "source": [
        "# HE 초깃값\n",
        "\n",
        "def ReLU(x):\n",
        "    return np.maximum(0, x)\n",
        "\n",
        "x = np.random.rand(1000, 100) \n",
        "node_num = 100 \n",
        "hidden_layer_size = 5 \n",
        "activations = {} \n",
        "\n",
        "for i in range(hidden_layer_size):\n",
        "    if i != 0:\n",
        "        x = activations[i-1]\n",
        "\n",
        "    w = np.random.randn(node_num, node_num) * np.sqrt(2/node_num)\n",
        "    a = np.dot(x, w)\n",
        "    z = ReLU(a)\n",
        "    activations[i] = z\n",
        "\n",
        "plt.figure(figsize=(15, 5))\n",
        "for i, a in activations.items():\n",
        "    plt.subplot(1, len(activations), i+1)\n",
        "    plt.title(str(i+1) + \"-layer\")\n",
        "    plt.hist(a.flatten(), 50, range=(0,1), edgecolor = 'black')\n",
        "    plt.ylim(0,7000)\n",
        "\n",
        "plt.subplots_adjust(wspace=0.5)\n",
        "plt.show()"
      ]
    },
    {
      "cell_type": "markdown",
      "metadata": {},
      "source": [
        "HE 초깃값은 모든 층에서 균일하게 분포되어 있다.  \n",
        "층이 깊어져도 분포가 균일하게 유지 되기 때문에 적절한 값이 나올것으로 기대\n",
        "  \n",
        "결론\n",
        "* ReLU사용시 HE초깃값 이용\n",
        "* sigmoid, tanh등의 S자 모약 곡선일 때는 Xavier초깃값을 쓰겠습니다  "
      ]
    },
    {
      "cell_type": "markdown",
      "metadata": {},
      "source": [
        "### 2.4 MNIST 데이터셋으로 본 가중치 초깃값 비교\n",
        "\n",
        "* 실제 데이터를 이용해 가중치의 초깃값 설정에 따른 손실함수의 비교\n",
        "  \n",
        "* 기본 활성화 함수는 ReLU\n",
        "    * ReLU일때 여러 가중치 초깃값을 설정해보고 loss를 비교\n"
      ]
    },
    {
      "cell_type": "code",
      "execution_count": null,
      "metadata": {},
      "outputs": [
        {
          "name": "stdout",
          "output_type": "stream",
          "text": [
            "===========iteration:0===========\n",
            "std=0.01:2.302537193093551\n",
            "Xavier:2.2906879346676483\n",
            "He:2.376930747424488\n",
            "===========iteration:100===========\n",
            "std=0.01:2.3018616193085215\n",
            "Xavier:2.2510874858570773\n",
            "He:1.486716120379977\n",
            "===========iteration:200===========\n",
            "std=0.01:2.3022900412623213\n",
            "Xavier:2.1022600009059245\n",
            "He:0.7629276117617019\n",
            "===========iteration:300===========\n",
            "std=0.01:2.303624773637724\n",
            "Xavier:1.6965814168925428\n",
            "He:0.49980523385738207\n",
            "===========iteration:400===========\n",
            "std=0.01:2.3026764002265505\n",
            "Xavier:1.1552354875687392\n",
            "He:0.3928693228270796\n",
            "===========iteration:500===========\n",
            "std=0.01:2.30046689387599\n",
            "Xavier:0.8641932485890287\n",
            "He:0.35631022068349594\n",
            "===========iteration:600===========\n",
            "std=0.01:2.302872916099037\n",
            "Xavier:0.6476159648130226\n",
            "He:0.34726747257669655\n",
            "===========iteration:700===========\n",
            "std=0.01:2.299102080528951\n",
            "Xavier:0.5824752104083162\n",
            "He:0.2793336544248005\n",
            "===========iteration:800===========\n",
            "std=0.01:2.303991544503426\n",
            "Xavier:0.5315036780046365\n",
            "He:0.3338286268938374\n",
            "===========iteration:900===========\n",
            "std=0.01:2.300994095838462\n",
            "Xavier:0.48875649192389903\n",
            "He:0.33742012179674485\n",
            "===========iteration:1000===========\n",
            "std=0.01:2.3015102233816154\n",
            "Xavier:0.5190301118339938\n",
            "He:0.3407938460130365\n",
            "===========iteration:1100===========\n",
            "std=0.01:2.301411811084897\n",
            "Xavier:0.4493795349915639\n",
            "He:0.27686776338912367\n",
            "===========iteration:1200===========\n",
            "std=0.01:2.3008486209009824\n",
            "Xavier:0.204892558841192\n",
            "He:0.13272565648483503\n",
            "===========iteration:1300===========\n",
            "std=0.01:2.299783965088671\n",
            "Xavier:0.34055936652177643\n",
            "He:0.2689234450339343\n",
            "===========iteration:1400===========\n",
            "std=0.01:2.304072912090705\n",
            "Xavier:0.32187439549456187\n",
            "He:0.2085214608260541\n",
            "===========iteration:1500===========\n",
            "std=0.01:2.2951415587313866\n",
            "Xavier:0.2499281542824619\n",
            "He:0.17298452670197578\n",
            "===========iteration:1600===========\n",
            "std=0.01:2.3009907168209267\n",
            "Xavier:0.27991742755745885\n",
            "He:0.2507504234341994\n",
            "===========iteration:1700===========\n",
            "std=0.01:2.2993151986277844\n",
            "Xavier:0.2951593154476355\n",
            "He:0.2014947566375374\n",
            "===========iteration:1800===========\n",
            "std=0.01:2.3041553302068136\n",
            "Xavier:0.30449353094872966\n",
            "He:0.26161869340667204\n",
            "===========iteration:1900===========\n",
            "std=0.01:2.3081463467479555\n",
            "Xavier:0.300633434697819\n",
            "He:0.22821266732934264\n"
          ]
        },
        {
          "data": {
            "image/png": "[encoded data removed]",
            "text/plain": [
              "<Figure size 640x480 with 1 Axes>"
            ]
          },
          "metadata": {},
          "output_type": "display_data"
        }
      ],
      "source": [
        "# coding: utf-8\n",
        "import os\n",
        "import sys\n",
        "\n",
        "sys.path.append('./deep-learning-from-scratch')  # 親ディレクトリのファイルをインポートするための設定\n",
        "import numpy as np\n",
        "import matplotlib.pyplot as plt\n",
        "from dataset.mnist import load_mnist\n",
        "from common.util import smooth_curve\n",
        "from common.multi_layer_net import MultiLayerNet\n",
        "from common.optimizer import SGD\n",
        "\n",
        "\n",
        "# 0:MNISTデータの読み込み==========\n",
        "(x_train, t_train), (x_test, t_test) = load_mnist(normalize=True)\n",
        "\n",
        "train_size = x_train.shape[0]\n",
        "batch_size = 128\n",
        "max_iterations = 2000\n",
        "\n",
        "\n",
        "# 1:実験の設定==========\n",
        "weight_init_types = {'std=0.01': 0.01, 'Xavier': 'sigmoid', 'He': 'relu'}\n",
        "optimizer = SGD(lr=0.01)\n",
        "\n",
        "networks = {}\n",
        "train_loss = {}\n",
        "for key, weight_type in weight_init_types.items():\n",
        "    networks[key] = MultiLayerNet(input_size=784, hidden_size_list=[100, 100, 100, 100],\n",
        "                                  output_size=10, weight_init_std=weight_type)\n",
        "    train_loss[key] = []\n",
        "\n",
        "\n",
        "# 2:訓練の開始==========\n",
        "for i in range(max_iterations):\n",
        "    batch_mask = np.random.choice(train_size, batch_size)\n",
        "    x_batch = x_train[batch_mask]\n",
        "    t_batch = t_train[batch_mask]\n",
        "    \n",
        "    for key in weight_init_types.keys():\n",
        "        grads = networks[key].gradient(x_batch, t_batch)\n",
        "        optimizer.update(networks[key].params, grads)\n",
        "    \n",
        "        loss = networks[key].loss(x_batch, t_batch)\n",
        "        train_loss[key].append(loss)\n",
        "    \n",
        "    if i % 100 == 0:\n",
        "        print(\"===========\" + \"iteration:\" + str(i) + \"===========\")\n",
        "        for key in weight_init_types.keys():\n",
        "            loss = networks[key].loss(x_batch, t_batch)\n",
        "            print(key + \":\" + str(loss))\n",
        "\n",
        "\n",
        "# 3.グラフの描画==========\n",
        "markers = {'std=0.01': 'o', 'Xavier': 's', 'He': 'D'}\n",
        "x = np.arange(max_iterations)\n",
        "for key in weight_init_types.keys():\n",
        "    plt.plot(x, smooth_curve(train_loss[key]), marker=markers[key], markevery=100, label=key)\n",
        "plt.xlabel(\"iterations\")\n",
        "plt.ylabel(\"loss\")\n",
        "plt.ylim(0, 2.5)\n",
        "plt.legend()\n",
        "plt.show()"
      ]
    },
    {
      "cell_type": "markdown",
      "metadata": {},
      "source": [
        "## 3 배치 정규화\n",
        "\n",
        "* 가중치 초깃값을 설정해주어 각 층의 활성화값 분포가 적당히 퍼지면서 학습이 원활하게 수행됨\n",
        "* 각 층의 활성화를 적당히 퍼뜨리도록 강제하는게 **배치정규화**"
      ]
    },
    {
      "cell_type": "markdown",
      "metadata": {},
      "source": [
        "### 3.1 배치정규화 알고리즘\n",
        "\n",
        "* 배치 정규화의 장점  \n",
        "    * 학습을 빠리 진행할 수 있다\n",
        "    * 초깃값에 크게 의존하지 않는다\n",
        "    * 오버피팅을 억제한다"
      ]
    },
    {
      "cell_type": "markdown",
      "metadata": {},
      "source": [
        "배치 정규화는 이름 그대로 학습 시 미니배치를 단위로 정규화 한다.\n",
        "\n",
        "=> 데이터 분포가 평균이 0, 분산이 1이 되도록\n",
        "\n",
        "$\\displaystyle \\mu_\\beta \\leftarrow \\sum_{i=1}^{m}x_i$  \n",
        "$\\displaystyle \\sigma_\\beta^2 \\leftarrow \\frac{1}{m}\\sum_{i=1}^{m}(x_i-\\mu_\\beta)^2$  \n",
        "$\\displaystyle \\hat{x_i} \\leftarrow \\frac{x_i - \\mu_\\beta}{\\sqrt{\\sigma_\\beta^2 + \\epsilon}}$"
      ]
    },
    {
      "cell_type": "markdown",
      "metadata": {},
      "source": [
        "### 3.2 배치 정규화의 효과\n",
        "\n",
        "* 가중치 초깃값에 의존하지 않고 학습이 잘되는거를 확인할 수 있음(책 참조)"
      ]
    },
    {
      "cell_type": "markdown",
      "metadata": {},
      "source": [
        "## 4 바른 학습을 위해\n",
        "\n",
        "* 기계학습에서는 오버피팅이 문제가 되는 일이 많습니다.(신경망이 훈련 데이터에만 지나치게 적응되어 그 외의 데이터에는 제대로 대응하지 못하는 상태)\n",
        "* 기계학습은 범용 성능을 지향, 훈련데이터에서 못본 데이터가 주어져도 바르게 식별해내는 모델이 바람직함\n",
        "* 복잡하고 표현력 높은 모델도 좋지만 오버피팅을 억제하는 기능 또한 매우 중요함"
      ]
    },
    {
      "cell_type": "markdown",
      "metadata": {},
      "source": [
        "### 4.1 오버피팅\n",
        "\n",
        "* 오버피팅은 주로 다음의 두 경우에 일어남\n",
        "    * 매개변수가 많고 표현력이 높은 모델\n",
        "    * 훈련 데이터가 적음\n",
        "\n",
        "* 일부러 오버피팅을 만든뒤 결과를 확인\n",
        "    * 60000개의 MNIST데이터 셋중 300개만 사용, 7층 네트워크 사용"
      ]
    },
    {
      "cell_type": "code",
      "execution_count": 2,
      "metadata": {},
      "outputs": [
        {
          "name": "stdout",
          "output_type": "stream",
          "text": [
            "epoch:0, train acc:0.09, test acc:0.0861\n",
            "epoch:1, train acc:0.11333333333333333, test acc:0.0948\n",
            "epoch:2, train acc:0.15, test acc:0.104\n",
            "epoch:3, train acc:0.17666666666666667, test acc:0.1198\n",
            "epoch:4, train acc:0.2, test acc:0.1331\n",
            "epoch:5, train acc:0.24, test acc:0.1539\n",
            "epoch:6, train acc:0.2633333333333333, test acc:0.1749\n",
            "epoch:7, train acc:0.32, test acc:0.1973\n",
            "epoch:8, train acc:0.35, test acc:0.2179\n",
            "epoch:9, train acc:0.37333333333333335, test acc:0.2384\n",
            "epoch:10, train acc:0.37333333333333335, test acc:0.2547\n",
            "epoch:11, train acc:0.3933333333333333, test acc:0.2632\n",
            "epoch:12, train acc:0.4166666666666667, test acc:0.2724\n",
            "epoch:13, train acc:0.43333333333333335, test acc:0.2927\n",
            "epoch:14, train acc:0.44666666666666666, test acc:0.3023\n",
            "epoch:15, train acc:0.47, test acc:0.3228\n",
            "epoch:16, train acc:0.48, test acc:0.3282\n",
            "epoch:17, train acc:0.5466666666666666, test acc:0.3528\n",
            "epoch:18, train acc:0.5333333333333333, test acc:0.3561\n",
            "epoch:19, train acc:0.5533333333333333, test acc:0.3719\n",
            "epoch:20, train acc:0.58, test acc:0.3911\n",
            "epoch:21, train acc:0.61, test acc:0.4078\n",
            "epoch:22, train acc:0.6033333333333334, test acc:0.4191\n",
            "epoch:23, train acc:0.61, test acc:0.4184\n",
            "epoch:24, train acc:0.6233333333333333, test acc:0.4253\n",
            "epoch:25, train acc:0.6433333333333333, test acc:0.4459\n",
            "epoch:26, train acc:0.66, test acc:0.4525\n",
            "epoch:27, train acc:0.6533333333333333, test acc:0.4607\n",
            "epoch:28, train acc:0.6433333333333333, test acc:0.4694\n",
            "epoch:29, train acc:0.67, test acc:0.4827\n",
            "epoch:30, train acc:0.66, test acc:0.4836\n",
            "epoch:31, train acc:0.68, test acc:0.4949\n",
            "epoch:32, train acc:0.7033333333333334, test acc:0.5032\n",
            "epoch:33, train acc:0.7066666666666667, test acc:0.5142\n",
            "epoch:34, train acc:0.7133333333333334, test acc:0.5214\n",
            "epoch:35, train acc:0.7066666666666667, test acc:0.5308\n",
            "epoch:36, train acc:0.7066666666666667, test acc:0.5302\n",
            "epoch:37, train acc:0.7233333333333334, test acc:0.5471\n",
            "epoch:38, train acc:0.7233333333333334, test acc:0.545\n",
            "epoch:39, train acc:0.72, test acc:0.5457\n",
            "epoch:40, train acc:0.7266666666666667, test acc:0.5433\n",
            "epoch:41, train acc:0.7333333333333333, test acc:0.5582\n",
            "epoch:42, train acc:0.73, test acc:0.5532\n",
            "epoch:43, train acc:0.7433333333333333, test acc:0.5656\n",
            "epoch:44, train acc:0.73, test acc:0.5715\n",
            "epoch:45, train acc:0.7466666666666667, test acc:0.5781\n",
            "epoch:46, train acc:0.7466666666666667, test acc:0.5807\n",
            "epoch:47, train acc:0.75, test acc:0.583\n",
            "epoch:48, train acc:0.74, test acc:0.5862\n",
            "epoch:49, train acc:0.75, test acc:0.5931\n",
            "epoch:50, train acc:0.7366666666666667, test acc:0.5918\n",
            "epoch:51, train acc:0.7466666666666667, test acc:0.597\n",
            "epoch:52, train acc:0.75, test acc:0.5904\n",
            "epoch:53, train acc:0.7566666666666667, test acc:0.6069\n",
            "epoch:54, train acc:0.7633333333333333, test acc:0.6022\n",
            "epoch:55, train acc:0.7766666666666666, test acc:0.612\n",
            "epoch:56, train acc:0.78, test acc:0.6168\n",
            "epoch:57, train acc:0.78, test acc:0.6246\n",
            "epoch:58, train acc:0.77, test acc:0.628\n",
            "epoch:59, train acc:0.78, test acc:0.6193\n",
            "epoch:60, train acc:0.7933333333333333, test acc:0.6178\n",
            "epoch:61, train acc:0.7866666666666666, test acc:0.6221\n",
            "epoch:62, train acc:0.7966666666666666, test acc:0.6313\n",
            "epoch:63, train acc:0.7866666666666666, test acc:0.637\n",
            "epoch:64, train acc:0.79, test acc:0.6363\n",
            "epoch:65, train acc:0.7933333333333333, test acc:0.6282\n",
            "epoch:66, train acc:0.79, test acc:0.6379\n",
            "epoch:67, train acc:0.8, test acc:0.6383\n",
            "epoch:68, train acc:0.7966666666666666, test acc:0.6424\n",
            "epoch:69, train acc:0.79, test acc:0.6458\n",
            "epoch:70, train acc:0.8233333333333334, test acc:0.6481\n",
            "epoch:71, train acc:0.8266666666666667, test acc:0.652\n",
            "epoch:72, train acc:0.83, test acc:0.6502\n",
            "epoch:73, train acc:0.7933333333333333, test acc:0.6424\n",
            "epoch:74, train acc:0.81, test acc:0.6504\n",
            "epoch:75, train acc:0.83, test acc:0.6593\n",
            "epoch:76, train acc:0.83, test acc:0.658\n",
            "epoch:77, train acc:0.8166666666666667, test acc:0.6455\n",
            "epoch:78, train acc:0.8233333333333334, test acc:0.6501\n",
            "epoch:79, train acc:0.81, test acc:0.6508\n",
            "epoch:80, train acc:0.83, test acc:0.6584\n",
            "epoch:81, train acc:0.83, test acc:0.6596\n",
            "epoch:82, train acc:0.8333333333333334, test acc:0.6581\n",
            "epoch:83, train acc:0.8166666666666667, test acc:0.6555\n",
            "epoch:84, train acc:0.8233333333333334, test acc:0.6581\n",
            "epoch:85, train acc:0.8233333333333334, test acc:0.6469\n",
            "epoch:86, train acc:0.84, test acc:0.6569\n",
            "epoch:87, train acc:0.8466666666666667, test acc:0.6648\n",
            "epoch:88, train acc:0.8433333333333334, test acc:0.6624\n",
            "epoch:89, train acc:0.82, test acc:0.6656\n",
            "epoch:90, train acc:0.8266666666666667, test acc:0.6547\n",
            "epoch:91, train acc:0.84, test acc:0.6635\n",
            "epoch:92, train acc:0.8466666666666667, test acc:0.665\n",
            "epoch:93, train acc:0.8433333333333334, test acc:0.6698\n",
            "epoch:94, train acc:0.8366666666666667, test acc:0.6655\n",
            "epoch:95, train acc:0.8466666666666667, test acc:0.667\n",
            "epoch:96, train acc:0.8433333333333334, test acc:0.6683\n",
            "epoch:97, train acc:0.85, test acc:0.6746\n",
            "epoch:98, train acc:0.8533333333333334, test acc:0.6723\n",
            "epoch:99, train acc:0.8533333333333334, test acc:0.6707\n",
            "epoch:100, train acc:0.8433333333333334, test acc:0.6662\n",
            "epoch:101, train acc:0.83, test acc:0.6643\n",
            "epoch:102, train acc:0.85, test acc:0.665\n",
            "epoch:103, train acc:0.8333333333333334, test acc:0.6639\n",
            "epoch:104, train acc:0.8433333333333334, test acc:0.6693\n",
            "epoch:105, train acc:0.84, test acc:0.6734\n",
            "epoch:106, train acc:0.84, test acc:0.6699\n",
            "epoch:107, train acc:0.8333333333333334, test acc:0.6595\n",
            "epoch:108, train acc:0.8433333333333334, test acc:0.6697\n",
            "epoch:109, train acc:0.8466666666666667, test acc:0.6735\n",
            "epoch:110, train acc:0.8366666666666667, test acc:0.6736\n",
            "epoch:111, train acc:0.8466666666666667, test acc:0.6746\n",
            "epoch:112, train acc:0.8433333333333334, test acc:0.6708\n",
            "epoch:113, train acc:0.8433333333333334, test acc:0.6735\n",
            "epoch:114, train acc:0.8433333333333334, test acc:0.673\n",
            "epoch:115, train acc:0.8566666666666667, test acc:0.6757\n",
            "epoch:116, train acc:0.85, test acc:0.6736\n",
            "epoch:117, train acc:0.8466666666666667, test acc:0.6708\n",
            "epoch:118, train acc:0.8466666666666667, test acc:0.6733\n",
            "epoch:119, train acc:0.8466666666666667, test acc:0.6676\n",
            "epoch:120, train acc:0.8533333333333334, test acc:0.6827\n",
            "epoch:121, train acc:0.8533333333333334, test acc:0.6811\n",
            "epoch:122, train acc:0.8533333333333334, test acc:0.6754\n",
            "epoch:123, train acc:0.8533333333333334, test acc:0.6738\n",
            "epoch:124, train acc:0.8466666666666667, test acc:0.6741\n",
            "epoch:125, train acc:0.8466666666666667, test acc:0.6734\n",
            "epoch:126, train acc:0.8533333333333334, test acc:0.6805\n",
            "epoch:127, train acc:0.8566666666666667, test acc:0.682\n",
            "epoch:128, train acc:0.85, test acc:0.679\n",
            "epoch:129, train acc:0.8566666666666667, test acc:0.6756\n",
            "epoch:130, train acc:0.86, test acc:0.6764\n",
            "epoch:131, train acc:0.8533333333333334, test acc:0.6748\n",
            "epoch:132, train acc:0.8666666666666667, test acc:0.6756\n",
            "epoch:133, train acc:0.8566666666666667, test acc:0.6743\n",
            "epoch:134, train acc:0.8566666666666667, test acc:0.6793\n",
            "epoch:135, train acc:0.8633333333333333, test acc:0.6794\n",
            "epoch:136, train acc:0.8666666666666667, test acc:0.6757\n",
            "epoch:137, train acc:0.86, test acc:0.683\n",
            "epoch:138, train acc:0.8666666666666667, test acc:0.6779\n",
            "epoch:139, train acc:0.87, test acc:0.6849\n",
            "epoch:140, train acc:0.8633333333333333, test acc:0.6854\n",
            "epoch:141, train acc:0.87, test acc:0.6786\n",
            "epoch:142, train acc:0.85, test acc:0.6799\n",
            "epoch:143, train acc:0.8566666666666667, test acc:0.6804\n",
            "epoch:144, train acc:0.8533333333333334, test acc:0.6833\n",
            "epoch:145, train acc:0.87, test acc:0.6897\n",
            "epoch:146, train acc:0.8566666666666667, test acc:0.6854\n",
            "epoch:147, train acc:0.86, test acc:0.6806\n",
            "epoch:148, train acc:0.86, test acc:0.6844\n",
            "epoch:149, train acc:0.85, test acc:0.6848\n",
            "epoch:150, train acc:0.86, test acc:0.6884\n",
            "epoch:151, train acc:0.8633333333333333, test acc:0.6907\n",
            "epoch:152, train acc:0.8633333333333333, test acc:0.6892\n",
            "epoch:153, train acc:0.86, test acc:0.6847\n",
            "epoch:154, train acc:0.8633333333333333, test acc:0.6803\n",
            "epoch:155, train acc:0.8666666666666667, test acc:0.6948\n",
            "epoch:156, train acc:0.8666666666666667, test acc:0.6791\n",
            "epoch:157, train acc:0.8766666666666667, test acc:0.6894\n",
            "epoch:158, train acc:0.8633333333333333, test acc:0.6861\n",
            "epoch:159, train acc:0.8633333333333333, test acc:0.6902\n",
            "epoch:160, train acc:0.8666666666666667, test acc:0.6841\n",
            "epoch:161, train acc:0.8566666666666667, test acc:0.6814\n",
            "epoch:162, train acc:0.86, test acc:0.6889\n",
            "epoch:163, train acc:0.8533333333333334, test acc:0.6891\n",
            "epoch:164, train acc:0.8533333333333334, test acc:0.6848\n",
            "epoch:165, train acc:0.8633333333333333, test acc:0.6917\n",
            "epoch:166, train acc:0.86, test acc:0.6921\n",
            "epoch:167, train acc:0.86, test acc:0.6926\n",
            "epoch:168, train acc:0.8666666666666667, test acc:0.695\n",
            "epoch:169, train acc:0.8666666666666667, test acc:0.6891\n",
            "epoch:170, train acc:0.8566666666666667, test acc:0.6904\n",
            "epoch:171, train acc:0.87, test acc:0.6885\n",
            "epoch:172, train acc:0.8666666666666667, test acc:0.6873\n",
            "epoch:173, train acc:0.8766666666666667, test acc:0.6901\n",
            "epoch:174, train acc:0.8533333333333334, test acc:0.6838\n",
            "epoch:175, train acc:0.86, test acc:0.6912\n",
            "epoch:176, train acc:0.8633333333333333, test acc:0.6855\n",
            "epoch:177, train acc:0.85, test acc:0.6836\n",
            "epoch:178, train acc:0.8566666666666667, test acc:0.6866\n",
            "epoch:179, train acc:0.8533333333333334, test acc:0.6752\n",
            "epoch:180, train acc:0.8566666666666667, test acc:0.6873\n",
            "epoch:181, train acc:0.8633333333333333, test acc:0.6918\n",
            "epoch:182, train acc:0.8666666666666667, test acc:0.695\n",
            "epoch:183, train acc:0.8633333333333333, test acc:0.695\n",
            "epoch:184, train acc:0.8566666666666667, test acc:0.6798\n",
            "epoch:185, train acc:0.8466666666666667, test acc:0.6827\n",
            "epoch:186, train acc:0.8566666666666667, test acc:0.6802\n",
            "epoch:187, train acc:0.85, test acc:0.6825\n",
            "epoch:188, train acc:0.8533333333333334, test acc:0.688\n",
            "epoch:189, train acc:0.8633333333333333, test acc:0.6939\n",
            "epoch:190, train acc:0.86, test acc:0.6914\n",
            "epoch:191, train acc:0.8666666666666667, test acc:0.6902\n",
            "epoch:192, train acc:0.85, test acc:0.6873\n",
            "epoch:193, train acc:0.86, test acc:0.6839\n",
            "epoch:194, train acc:0.8533333333333334, test acc:0.6857\n",
            "epoch:195, train acc:0.85, test acc:0.6898\n",
            "epoch:196, train acc:0.86, test acc:0.69\n",
            "epoch:197, train acc:0.8466666666666667, test acc:0.6838\n",
            "epoch:198, train acc:0.8533333333333334, test acc:0.6849\n",
            "epoch:199, train acc:0.85, test acc:0.6897\n",
            "epoch:200, train acc:0.8566666666666667, test acc:0.6886\n"
          ]
        },
        {
          "data": {
            "image/png": "[encoded data removed]",
            "text/plain": [
              "<Figure size 640x480 with 1 Axes>"
            ]
          },
          "metadata": {},
          "output_type": "display_data"
        }
      ],
      "source": [
        "# coding: utf-8\n",
        "import os\n",
        "import sys\n",
        "\n",
        "sys.path.append(os.pardir)  \n",
        "import numpy as np\n",
        "import matplotlib.pyplot as plt\n",
        "from dataset.mnist import load_mnist\n",
        "from common.multi_layer_net import MultiLayerNet\n",
        "from common.optimizer import SGD\n",
        "\n",
        "(x_train, t_train), (x_test, t_test) = load_mnist(normalize=True)\n",
        "\n",
        "x_train = x_train[:300]\n",
        "t_train = t_train[:300]\n",
        "\n",
        "#weight_decay_lambda = 0 # weight decay 사용하지 않는 경우\n",
        "weight_decay_lambda = 0.1 # 가중치를 작게 만들어 오버피팅을 방지해주는 역할 \n",
        "\n",
        "network = MultiLayerNet(input_size=784, hidden_size_list=[100, 100, 100, 100, 100, 100], output_size=10,\n",
        "                        weight_decay_lambda=weight_decay_lambda)\n",
        "optimizer = SGD(lr=0.01)\n",
        "\n",
        "max_epochs = 201\n",
        "train_size = x_train.shape[0]\n",
        "batch_size = 100\n",
        "\n",
        "train_loss_list = []\n",
        "train_acc_list = []\n",
        "test_acc_list = []\n",
        "\n",
        "iter_per_epoch = max(train_size / batch_size, 1)\n",
        "epoch_cnt = 0\n",
        "\n",
        "for i in range(1000000000):\n",
        "    batch_mask = np.random.choice(train_size, batch_size)\n",
        "    x_batch = x_train[batch_mask]\n",
        "    t_batch = t_train[batch_mask]\n",
        "\n",
        "    grads = network.gradient(x_batch, t_batch)\n",
        "    optimizer.update(network.params, grads)\n",
        "\n",
        "    if i % iter_per_epoch == 0:\n",
        "        train_acc = network.accuracy(x_train, t_train)\n",
        "        test_acc = network.accuracy(x_test, t_test)\n",
        "        train_acc_list.append(train_acc)\n",
        "        test_acc_list.append(test_acc)\n",
        "\n",
        "        print(\"epoch:\" + str(epoch_cnt) + \", train acc:\" + str(train_acc) + \", test acc:\" + str(test_acc))\n",
        "\n",
        "        epoch_cnt += 1\n",
        "        if epoch_cnt >= max_epochs:\n",
        "            break\n",
        "\n",
        "\n",
        "# 3.グラフの描画==========\n",
        "markers = {'train': 'o', 'test': 's'}\n",
        "x = np.arange(max_epochs)\n",
        "plt.plot(x, train_acc_list, marker='o', label='train', markevery=10)\n",
        "plt.plot(x, test_acc_list, marker='s', label='test', markevery=10)\n",
        "plt.xlabel(\"epochs\")\n",
        "plt.ylabel(\"accuracy\")\n",
        "plt.ylim(0, 1.0)\n",
        "plt.legend(loc='lower right')\n",
        "plt.show()"
      ]
    },
    {
      "cell_type": "markdown",
      "metadata": {},
      "source": [
        "### 4.2 가중치 감소\n",
        "\n",
        "* 오버피팅 억제용으로 예로부터 많이 이용해온 방법 중 가중치 감소(weight decay)라는 것이 있다\n",
        "* L1 규제, L2규제 가 존재\n",
        "* L1 규제는 로스에 $\\sum \\lambda|w_i|$, L2 규제는 로스에 $\\sum w_i^2$을 더해준다"
      ]
    },
    {
      "cell_type": "markdown",
      "metadata": {},
      "source": [
        "### 4.3 드롭아웃\n",
        "\n",
        "* 모델이 복잡해지면 가중치 감소만으로는 대응하기 어렵다\n",
        "* 이럴때 드롭아웃 기법을 사용\n",
        "    * 훈련 때 은닉층의 뉴런을 무작위로 갈라 삭제\n",
        "    * 시험 때는 모든 뉴런에 신호를 전달함(각 뉴런의 출력에 훈련 때 삭제 안 한 비율을 곱하여 출력?)\n",
        "\n",
        "* 학습 때 뉴런을 무작위로 삭제하는 행위를 매번 다른 모델을 학습시키는 것으로 해석이 가능하다\n",
        "    * 기계학습의 앙상블 학습과 유사하지만 앙상블은 여러 모델을 학습시키는것에 비해 드롭아웃은 하나의 신경망 학습으로 비슷하게 구현이 가능함"
      ]
    },
    {
      "cell_type": "code",
      "execution_count": null,
      "metadata": {},
      "outputs": [],
      "source": [
        "# 드롭 아웃 구현\n",
        "\n",
        "class Dropout:\n",
        "    def __init__(self, dropout_ratio=0.5):\n",
        "        self.dropout_ratio = dropout_ratio\n",
        "        self.mask = None\n",
        "\n",
        "    def forward(self, x, train_flg=True):\n",
        "        if train_flg:\n",
        "            self.mask = np.random.rand(*x.shape) > self.dropout_ratio \n",
        "            #np.random.rand(*x.shape) => np.random.rand(x.shape[0], x.shape[1], ...) x의 형태가 어떻게 나올지 모를때 사용하면 좋을듯\n",
        "            return x * self.mask\n",
        "\n",
        "    def backward(self, dout):\n",
        "        return dout * self.mask"
      ]
    },
    {
      "cell_type": "code",
      "execution_count": 4,
      "metadata": {},
      "outputs": [
        {
          "data": {
            "text/plain": [
              "array([[0.37992304, 0.17006819, 0.11606799],\n",
              "       [0.46289112, 0.35767329, 0.96159941],\n",
              "       [0.00518087, 0.91972654, 0.67681183]])"
            ]
          },
          "execution_count": 4,
          "metadata": {},
          "output_type": "execute_result"
        }
      ],
      "source": [
        "np.random.rand(3,3)"
      ]
    },
    {
      "cell_type": "markdown",
      "metadata": {},
      "source": [
        "## 5 적절한 하이퍼파라미터 값 찾기\n",
        "\n",
        "* 신경망의 하이퍼 파라미터\n",
        "    * 뉴런 수, 배치 크기, 매개변수 갱신시의 학습률, 가중치 감소\n",
        "\n",
        "* 하이퍼파라미터의 값을 최대한 효율적으로 탐색하는 방법을 알아야한다\n"
      ]
    },
    {
      "cell_type": "markdown",
      "metadata": {},
      "source": [
        "### 5.1 검증 데이터\n",
        "\n",
        "* 훈련데이터셋으로 학습을하고 시험데이터를 이용해 범용 성능을 평가\n",
        "* validation set을 이용해 최적의 하이퍼파라미터 값을 찾는게 목표"
      ]
    },
    {
      "cell_type": "code",
      "execution_count": 8,
      "metadata": {},
      "outputs": [],
      "source": [
        "from common.util import shuffle_dataset\n",
        "\n",
        "(x_train, t_train), (x_test, t_test) = load_mnist()\n",
        "\n",
        "# suffle train data\n",
        "x_train, t_train = shuffle_dataset(x_train, t_train)\n",
        "\n",
        "# 20%를 검증 데이터로 분할\n",
        "val_rate = 0.2\n",
        "val_num = int(x_train.shape[0]*val_rate)\n",
        "\n",
        "x_val = x_train[:val_num]\n",
        "t_val = t_train[:val_num]\n",
        "x_train = x_train[val_num:]\n",
        "t_train = t_train[val_num:]"
      ]
    },
    {
      "cell_type": "markdown",
      "metadata": {},
      "source": [
        "### 5.2 하이퍼파라미터 최적화\n",
        "\n",
        "* 하이퍼파라미터를 최적화할 때의 핵심은 하이퍼파라미터의 '최적 값'이 존재하는 범위를 조금씩 줄여간다는 것\n",
        "* 신경망의 하이퍼파라미터 최적화는 grid search보다는 무작위 샘플링 탐색이 더 좋은 결과를 낸다고 알려져 있다"
      ]
    },
    {
      "cell_type": "markdown",
      "metadata": {},
      "source": [
        "최적화 프로세스  \n",
        "\n",
        "1. 하이퍼파라미터 값의 범위를 설정\n",
        "2. 설정된 범위에서 하이퍼파라미터의 값을 무작위로 추출한다\n",
        "3. 1단계에서 샘플링한 하이퍼파라미터 값을 사용하여 학습하고, 검증 데이터로 정확도를 평가\n",
        "4. 1단계와 2단계를 특정 횟수(100회) 반복하여, 결과를 보고 하이퍼퍼라미터의 범위를 좁힌다"
      ]
    },
    {
      "cell_type": "markdown",
      "metadata": {},
      "source": [
        "### 5.3 하이퍼파라미터 최적화 구현하기\n",
        "\n",
        "* 학습률과 가중치 감소의 세기를 조절하는 계수를 탐색하는 문제 풀기"
      ]
    },
    {
      "cell_type": "code",
      "execution_count": 16,
      "metadata": {},
      "outputs": [],
      "source": [
        "weight_decay = 10 ** np.random.uniform(-8,-4) # -8~-4 사이의 임의의 값\n",
        "lr = 10 ** np.random.uniform(-6, -2)"
      ]
    },
    {
      "cell_type": "code",
      "execution_count": 23,
      "metadata": {},
      "outputs": [
        {
          "name": "stdout",
          "output_type": "stream",
          "text": [
            "val acc:0.15 | lr:4.608161620510909e-05, weight decay:6.729149770740637e-06\n",
            "val acc:0.32 | lr:0.0018112712389775478, weight decay:8.992066966681145e-06\n",
            "val acc:0.17 | lr:0.000488234069537585, weight decay:1.6133248555580633e-07\n",
            "val acc:0.09 | lr:0.00010899365293285311, weight decay:3.7449864159691315e-05\n",
            "val acc:0.07 | lr:1.704158920757452e-06, weight decay:5.3988903460590254e-05\n",
            "val acc:0.14 | lr:0.0006574928067320544, weight decay:1.4782558862049614e-08\n",
            "val acc:0.08 | lr:1.3125198265696132e-06, weight decay:6.287124638355713e-08\n",
            "val acc:0.1 | lr:1.7282013587321885e-05, weight decay:6.8042025620692e-08\n",
            "val acc:0.12 | lr:7.922408497338675e-05, weight decay:1.5411899283569438e-07\n",
            "val acc:0.08 | lr:5.0352126784156404e-05, weight decay:1.8537535808520838e-05\n",
            "val acc:0.72 | lr:0.0068001171661017075, weight decay:3.3939098801708013e-06\n",
            "val acc:0.12 | lr:6.193414182172306e-05, weight decay:5.6161123549839635e-06\n",
            "val acc:0.04 | lr:1.1731296536275181e-06, weight decay:9.059592982252832e-05\n",
            "val acc:0.08 | lr:9.153338008827469e-05, weight decay:4.410650303602956e-08\n",
            "val acc:0.14 | lr:0.0006672810510190043, weight decay:5.747684287118487e-07\n",
            "val acc:0.06 | lr:7.64982921840983e-05, weight decay:1.5899144560002818e-05\n",
            "val acc:0.14 | lr:0.00040585110588579757, weight decay:2.317121823928518e-05\n",
            "val acc:0.68 | lr:0.008092563541931483, weight decay:4.926784121229989e-07\n",
            "val acc:0.13 | lr:8.326248920970368e-06, weight decay:7.881347102907426e-07\n",
            "val acc:0.09 | lr:1.57125484249225e-06, weight decay:6.213069079727192e-06\n",
            "val acc:0.07 | lr:1.686900931685802e-05, weight decay:3.505288855827006e-08\n",
            "val acc:0.58 | lr:0.00443750748050679, weight decay:5.4101525465721176e-05\n",
            "val acc:0.15 | lr:1.3701017264013303e-06, weight decay:3.7784970642979225e-07\n",
            "val acc:0.22 | lr:0.001117760198025639, weight decay:4.09863471826757e-05\n",
            "val acc:0.09 | lr:2.949918815801165e-06, weight decay:1.1714823993785982e-06\n",
            "val acc:0.08 | lr:0.00022082677936694812, weight decay:4.687316608018703e-06\n",
            "val acc:0.72 | lr:0.007193927966260564, weight decay:2.426138740781158e-05\n",
            "val acc:0.04 | lr:1.9905380076801612e-05, weight decay:1.912426312010303e-07\n",
            "val acc:0.17 | lr:0.0003815077847886607, weight decay:5.85412552298803e-05\n",
            "val acc:0.05 | lr:0.0001717735649216535, weight decay:1.4526675082903205e-08\n",
            "val acc:0.17 | lr:0.0007595779315999301, weight decay:3.3944011356928578e-06\n",
            "val acc:0.12 | lr:4.708490007108382e-06, weight decay:5.42427700280588e-08\n",
            "val acc:0.03 | lr:3.2137191595423844e-06, weight decay:2.944940690998923e-08\n",
            "val acc:0.06 | lr:4.7172466345021446e-05, weight decay:8.325237358930522e-05\n",
            "val acc:0.33 | lr:0.0030794141810156555, weight decay:9.844186914334113e-05\n",
            "val acc:0.2 | lr:0.0007748723716607803, weight decay:3.2954737080658387e-08\n",
            "val acc:0.7 | lr:0.007017463312196691, weight decay:1.0163035167198575e-06\n",
            "val acc:0.16 | lr:1.2485828023498584e-06, weight decay:1.7582322041501132e-08\n",
            "val acc:0.09 | lr:6.68159759436831e-05, weight decay:2.1873250973416197e-07\n",
            "val acc:0.1 | lr:0.0001829665410400727, weight decay:5.57817652013425e-05\n",
            "val acc:0.49 | lr:0.004913877458026229, weight decay:1.7038853268119277e-08\n",
            "val acc:0.06 | lr:5.588685703966574e-05, weight decay:9.849836090488933e-07\n",
            "val acc:0.19 | lr:0.0011268202667549482, weight decay:2.8967475237352647e-05\n",
            "val acc:0.16 | lr:0.0003989055211642404, weight decay:5.8221185975587505e-06\n",
            "val acc:0.77 | lr:0.009958661094530339, weight decay:4.41029227687369e-07\n",
            "val acc:0.15 | lr:1.1906102968353964e-06, weight decay:4.0838070596563283e-07\n",
            "val acc:0.04 | lr:4.9544679593587783e-05, weight decay:1.2554507995063074e-06\n",
            "val acc:0.19 | lr:1.0362774393992104e-05, weight decay:7.318990565062464e-05\n",
            "val acc:0.1 | lr:1.1459734096827392e-06, weight decay:3.597252713767093e-06\n",
            "val acc:0.04 | lr:5.781740341881344e-06, weight decay:3.189683373074468e-05\n",
            "val acc:0.04 | lr:0.0002209512958161576, weight decay:3.3228416399179005e-08\n",
            "val acc:0.11 | lr:8.837819880311512e-06, weight decay:2.853213278613782e-06\n",
            "val acc:0.17 | lr:3.520146179775128e-05, weight decay:5.426002692214131e-08\n",
            "val acc:0.12 | lr:1.6582148651085268e-06, weight decay:1.690592814336137e-08\n",
            "val acc:0.15 | lr:2.829952820517295e-05, weight decay:1.0812643473229088e-05\n",
            "val acc:0.48 | lr:0.00313804229236603, weight decay:1.22947584071511e-08\n",
            "val acc:0.15 | lr:0.0009085647968753807, weight decay:6.470297218800871e-08\n",
            "val acc:0.3 | lr:0.0020621443444869773, weight decay:4.648434828189953e-06\n",
            "val acc:0.07 | lr:0.00043301001814044363, weight decay:5.476112412293338e-07\n",
            "val acc:0.08 | lr:2.2813536322820487e-06, weight decay:1.1772448760570858e-07\n",
            "val acc:0.12 | lr:0.00034261316401210795, weight decay:4.309266336380372e-08\n",
            "val acc:0.1 | lr:3.641832085102862e-05, weight decay:2.3066711283100393e-07\n",
            "val acc:0.1 | lr:7.114596864430706e-05, weight decay:8.232131063574315e-07\n",
            "val acc:0.15 | lr:1.376077222666103e-06, weight decay:1.5793050045546173e-06\n",
            "val acc:0.68 | lr:0.004881625415373436, weight decay:4.991992472323362e-06\n",
            "val acc:0.26 | lr:0.000496130493413148, weight decay:6.579372864763851e-05\n",
            "val acc:0.24 | lr:0.0005464156689727655, weight decay:6.69951654450529e-08\n",
            "val acc:0.15 | lr:1.0091133050129027e-05, weight decay:1.7164275123661247e-06\n",
            "val acc:0.1 | lr:9.09448632449127e-06, weight decay:1.7297766821875901e-06\n",
            "val acc:0.08 | lr:6.996919012075693e-06, weight decay:1.9755996156690847e-05\n",
            "val acc:0.12 | lr:1.8118190818847768e-05, weight decay:2.9314126198971554e-06\n",
            "val acc:0.16 | lr:0.0002457175144361655, weight decay:5.87192260798346e-06\n",
            "val acc:0.09 | lr:4.0670820426943005e-05, weight decay:6.327203705362571e-06\n",
            "val acc:0.1 | lr:1.640001597043902e-06, weight decay:7.616148271476874e-07\n",
            "val acc:0.11 | lr:2.668083960049014e-05, weight decay:3.040139316303154e-05\n",
            "val acc:0.11 | lr:2.735829058419764e-06, weight decay:5.6570329530375916e-05\n",
            "val acc:0.1 | lr:0.00017896976896744992, weight decay:3.993006937784547e-08\n",
            "val acc:0.09 | lr:3.31150218983486e-05, weight decay:2.7622767107991587e-05\n",
            "val acc:0.1 | lr:3.952769276327013e-06, weight decay:2.400920074359716e-06\n",
            "val acc:0.72 | lr:0.006874459713211859, weight decay:1.1326957893598836e-06\n",
            "val acc:0.67 | lr:0.006603730388703646, weight decay:3.3175195946230164e-07\n",
            "val acc:0.11 | lr:5.423932467406559e-06, weight decay:3.848067769430037e-05\n",
            "val acc:0.11 | lr:0.00022980790731757093, weight decay:5.243384180450302e-07\n",
            "val acc:0.68 | lr:0.00924077483113296, weight decay:8.935471888917263e-06\n",
            "val acc:0.09 | lr:1.6938876512309594e-06, weight decay:3.2728655670952396e-05\n",
            "val acc:0.12 | lr:7.430606521770727e-06, weight decay:5.517616433596836e-05\n",
            "val acc:0.21 | lr:0.0009105657757838865, weight decay:1.546273867325672e-08\n",
            "val acc:0.07 | lr:0.0002117613533220161, weight decay:1.0049029435694198e-07\n",
            "val acc:0.24 | lr:0.0015524786172446381, weight decay:9.432071327124787e-08\n",
            "val acc:0.19 | lr:0.0006848502944468095, weight decay:2.565191478969092e-07\n",
            "val acc:0.09 | lr:2.7248188116999002e-06, weight decay:5.8762736853379674e-05\n",
            "val acc:0.51 | lr:0.0030532586139737083, weight decay:3.7363649786070316e-07\n",
            "val acc:0.11 | lr:2.1589504772065628e-06, weight decay:4.542761219489864e-07\n",
            "val acc:0.09 | lr:0.0004848868863758593, weight decay:1.3515863264244584e-07\n",
            "val acc:0.25 | lr:2.109199404674967e-06, weight decay:1.6231136786680306e-06\n",
            "val acc:0.11 | lr:6.00323651254141e-06, weight decay:4.7691422702421397e-08\n",
            "val acc:0.21 | lr:4.8353896426261776e-05, weight decay:3.458770846107311e-05\n",
            "val acc:0.07 | lr:1.8951491550892856e-05, weight decay:6.285086970536638e-08\n",
            "val acc:0.24 | lr:0.0010675909622632838, weight decay:1.8221461726757151e-06\n",
            "val acc:0.16 | lr:7.611766957848934e-05, weight decay:2.556905061905879e-05\n",
            "=========== Hyper-Parameter Optimization Result ===========\n",
            "Best-1(val acc:0.77) | lr:0.009958661094530339, weight decay:4.41029227687369e-07\n",
            "Best-2(val acc:0.72) | lr:0.0068001171661017075, weight decay:3.3939098801708013e-06\n",
            "Best-3(val acc:0.72) | lr:0.007193927966260564, weight decay:2.426138740781158e-05\n",
            "Best-4(val acc:0.72) | lr:0.006874459713211859, weight decay:1.1326957893598836e-06\n",
            "Best-5(val acc:0.7) | lr:0.007017463312196691, weight decay:1.0163035167198575e-06\n",
            "Best-6(val acc:0.68) | lr:0.008092563541931483, weight decay:4.926784121229989e-07\n",
            "Best-7(val acc:0.68) | lr:0.004881625415373436, weight decay:4.991992472323362e-06\n",
            "Best-8(val acc:0.68) | lr:0.00924077483113296, weight decay:8.935471888917263e-06\n",
            "Best-9(val acc:0.67) | lr:0.006603730388703646, weight decay:3.3175195946230164e-07\n",
            "Best-10(val acc:0.58) | lr:0.00443750748050679, weight decay:5.4101525465721176e-05\n",
            "Best-11(val acc:0.51) | lr:0.0030532586139737083, weight decay:3.7363649786070316e-07\n",
            "Best-12(val acc:0.49) | lr:0.004913877458026229, weight decay:1.7038853268119277e-08\n",
            "Best-13(val acc:0.48) | lr:0.00313804229236603, weight decay:1.22947584071511e-08\n",
            "Best-14(val acc:0.33) | lr:0.0030794141810156555, weight decay:9.844186914334113e-05\n",
            "Best-15(val acc:0.32) | lr:0.0018112712389775478, weight decay:8.992066966681145e-06\n",
            "Best-16(val acc:0.3) | lr:0.0020621443444869773, weight decay:4.648434828189953e-06\n",
            "Best-17(val acc:0.26) | lr:0.000496130493413148, weight decay:6.579372864763851e-05\n",
            "Best-18(val acc:0.25) | lr:2.109199404674967e-06, weight decay:1.6231136786680306e-06\n",
            "Best-19(val acc:0.24) | lr:0.0005464156689727655, weight decay:6.69951654450529e-08\n",
            "Best-20(val acc:0.24) | lr:0.0015524786172446381, weight decay:9.432071327124787e-08\n"
          ]
        },
        {
          "data": {
            "image/png": "[encoded data removed]",
            "text/plain": [
              "<Figure size 640x480 with 20 Axes>"
            ]
          },
          "metadata": {},
          "output_type": "display_data"
        }
      ],
      "source": [
        "# coding: utf-8\n",
        "import sys, os\n",
        "sys.path.append(os.pardir)  # 親ディレクトリのファイルをインポートするための設定\n",
        "import numpy as np\n",
        "import matplotlib.pyplot as plt\n",
        "from dataset.mnist import load_mnist\n",
        "from common.multi_layer_net import MultiLayerNet\n",
        "from common.util import shuffle_dataset\n",
        "from common.trainer import Trainer\n",
        "\n",
        "(x_train, t_train), (x_test, t_test) = load_mnist(normalize=True)\n",
        "\n",
        "# 高速化のため訓練データの削減\n",
        "x_train = x_train[:500]\n",
        "t_train = t_train[:500]\n",
        "\n",
        "# 検証データの分離\n",
        "validation_rate = 0.20\n",
        "validation_num = int(x_train.shape[0] * validation_rate)\n",
        "x_train, t_train = shuffle_dataset(x_train, t_train)\n",
        "x_val = x_train[:validation_num]\n",
        "t_val = t_train[:validation_num]\n",
        "x_train = x_train[validation_num:]\n",
        "t_train = t_train[validation_num:]\n",
        "\n",
        "\n",
        "def __train(lr, weight_decay, epocs=50):\n",
        "    network = MultiLayerNet(input_size=784, hidden_size_list=[100, 100, 100, 100, 100, 100],\n",
        "                            output_size=10, weight_decay_lambda=weight_decay)\n",
        "    trainer = Trainer(network, x_train, t_train, x_val, t_val,\n",
        "                      epochs=epocs, mini_batch_size=100,\n",
        "                      optimizer='sgd', optimizer_param={'lr': lr}, verbose=False)\n",
        "    trainer.train()\n",
        "\n",
        "    return trainer.test_acc_list, trainer.train_acc_list\n",
        "\n",
        "\n",
        "# ハイパーパラメータのランダム探索======================================\n",
        "optimization_trial = 100\n",
        "results_val = {}\n",
        "results_train = {}\n",
        "for _ in range(optimization_trial):\n",
        "    # 探索したハイパーパラメータの範囲を指定===============\n",
        "    weight_decay = 10 ** np.random.uniform(-8, -4)\n",
        "    lr = 10 ** np.random.uniform(-6, -2)\n",
        "    # ================================================\n",
        "\n",
        "    val_acc_list, train_acc_list = __train(lr, weight_decay)\n",
        "    print(\"val acc:\" + str(val_acc_list[-1]) + \" | lr:\" + str(lr) + \", weight decay:\" + str(weight_decay))\n",
        "    key = \"lr:\" + str(lr) + \", weight decay:\" + str(weight_decay)\n",
        "    results_val[key] = val_acc_list\n",
        "    results_train[key] = train_acc_list\n",
        "\n",
        "# グラフの描画========================================================\n",
        "print(\"=========== Hyper-Parameter Optimization Result ===========\")\n",
        "graph_draw_num = 20\n",
        "col_num = 5\n",
        "row_num = int(np.ceil(graph_draw_num / col_num))\n",
        "i = 0\n",
        "\n",
        "for key, val_acc_list in sorted(results_val.items(), key=lambda x:x[1][-1], reverse=True):\n",
        "    print(\"Best-\" + str(i+1) + \"(val acc:\" + str(val_acc_list[-1]) + \") | \" + key)\n",
        "\n",
        "    plt.subplot(row_num, col_num, i+1)\n",
        "    plt.title(\"Best-\" + str(i+1))\n",
        "    plt.ylim(0.0, 1.0)\n",
        "    if i % 5: plt.yticks([])\n",
        "    plt.xticks([])\n",
        "    x = np.arange(len(val_acc_list))\n",
        "    plt.plot(x, val_acc_list)\n",
        "    plt.plot(x, results_train[key], \"--\")\n",
        "    i += 1\n",
        "\n",
        "    if i >= graph_draw_num:\n",
        "        break\n",
        "\n",
        "plt.show()\n"
      ]
    },
    {
      "cell_type": "markdown",
      "metadata": {},
      "source": [
        "# 합성곱 신경망(CNN)\n",
        "\n",
        "* 합성곱은 이미지 인식과 음성 인식 등 다양한 곳에서 사용되는데 특히 이미지 인식 분야에서 딥러닝을 활용한 기법은 거의 CNN을 활용하고 있음"
      ]
    },
    {
      "cell_type": "markdown",
      "metadata": {},
      "source": [
        "## 1. 전체 구조\n",
        "\n",
        "* CNN고 기본적인 신경망 구조와 같이 계층을 조합해서 만들 수 있다.\n",
        "* 다만 지금까지의 신경망과의 차이점은 합송곱 계층과, 풀링 계층이 등장\n",
        "* 지금까지 본 신경망은 인접하는 계층의 모든 뉴런과 결합되어 있었다.(완전연결, 완전연결계층을 Affine계층 이라 함)\n"
      ]
    },
    {
      "cell_type": "markdown",
      "metadata": {},
      "source": [
        "층이 5개인 완전연결 신경망(분류)\n",
        "\n",
        "Affine-ReLU --> Affine-ReLU --> Affine-ReLU --> Affine-ReLU --> Affine-Softmax"
      ]
    },
    {
      "cell_type": "markdown",
      "metadata": {},
      "source": [
        "CNN 구조\n",
        "\n",
        "Conv-ReLU-Polling --> Conv-ReLU-Polling --> Conv-ReLU --> Affine-ReLU --> Affine-Softmax"
      ]
    },
    {
      "cell_type": "markdown",
      "metadata": {},
      "source": [
        "## 2. 합성곱 계층\n",
        "\n",
        "* CNN에서는 패딩, 스트라이드 등 CNN 고유의 용어가 등장\n",
        "* 각 계층사이에 3차원 데이터같이 입체적인 데이터가 흐름"
      ]
    },
    {
      "cell_type": "markdown",
      "metadata": {},
      "source": [
        "### 2.1 완전연결 계층의 문제점\n",
        "\n",
        "1. 데이터의 형상이 무시된다\n",
        "    * 입력데이터가 이미지인경우 세로,가로,채널(색상)로 구성된 3차원 데이터이지만 완전연결계층에 입력할때는 1차원 데이터로 평탄화를함\n",
        "    * 이미지는 3차원 형상이며 이를 무시하면 안됨\n",
        "\n",
        "-> 합성곱 계층은 형상을 유지한다. 3차원으로 입력을 받으면서 다음 계층에도 3차원으로 데이터를 전달함"
      ]
    },
    {
      "cell_type": "markdown",
      "metadata": {},
      "source": [
        "### 2.2 합성곱 연산\n",
        "\n",
        "필터연산 \n",
        "입력데이터가 (4,4)일때 필터(커널)이 (3,3)이면 출력은 (2,2)가 된다.\n",
        "\n",
        "필터의 형상과 값이 완전연결 신경망의 가중치 매개변수와 편항에 해당된다  \n",
        "참고 : 편향은 필터를 적용한 원소의 임의의 값을 더한다(모든 원소에)"
      ]
    },
    {
      "cell_type": "markdown",
      "metadata": {},
      "source": [
        "### 2.3 패딩\n",
        "\n",
        "* 합성곱 연산을 수행하기 전에 입력 데이터 주변을 특정 값(0)으로 채우기도 한다\n",
        "* (4,4)입력데이터에 폭이 1인 패딩을 적용하면 (5,5)입력이 됨\n",
        "\n",
        "패딩은 주로 출력 크기를 조정할 목적으로 사용한다.  \n",
        "-> 예를들어 (4,4) 입력데이터에 (3,3) 필터를 적용하면 (2,2)가 되어 입력보다 2만큼 줄어듬\n",
        "-> 이는 합성곱 연산을 여러번 반복하는 심층 신경망에서는 문제가 될 수 있다."
      ]
    },
    {
      "cell_type": "markdown",
      "metadata": {},
      "source": [
        "### 2.4 스트라이드\n",
        "\n",
        "* 필터를 적용하는 위치의 간격을 스트라이드 라고 한다"
      ]
    },
    {
      "cell_type": "markdown",
      "metadata": {},
      "source": [
        "최종 출력 계산 방법\n",
        "\n",
        "입력 크기 : (H, W)  \n",
        "필터 크기 : (FH, FW)  \n",
        "출력 크기 : (OH, OW)  \n",
        "패딩 : (P)  \n",
        "스트라이드 : (S)  \n",
        "\n",
        "$\\displaystyle OH = \\frac{H + 2P - FH}{S} + 1$  \n",
        "    \n",
        "$\\displaystyle OW = \\frac{W + 2P - FW}{S} + 1$\n",
        "\n",
        "단 OH, OW는 정수값이여야함  \n",
        "\n"
      ]
    },
    {
      "cell_type": "markdown",
      "metadata": {},
      "source": [
        "### 2.5 3차원 데이터의 합성곱 연산\n",
        "\n",
        "* (5,5,3) 의 입력데이터가 있을때 필터는 (3,3,3) 이런식으로 하나의 채털의 하나의 필터의 연산으로 생각하면됨\n",
        "* 결과로 (3,3,3)의 3채널의 값이 나오면 각 원소간 합을구해 (3,3)으로 하나의 채널로 축소시킴\n",
        "* 당연히 입력채널수와 필터채널수는 동일해야함"
      ]
    },
    {
      "cell_type": "markdown",
      "metadata": {},
      "source": [
        "### 2.6 블록으로 생각하기\n",
        "\n",
        "* 책에서 블록으로 생각하라하지만 나는 더 햇갈리는거같음\n",
        "* 3채널 이미지에 하나의 필터를 사용하지 않고 여러 필터를 사용할 수 있음\n",
        "* 입력 데이터(C, H, W) 필터(FN, C, FH, FW) 출력데이터 (FN, OH, OW)"
      ]
    },
    {
      "cell_type": "markdown",
      "metadata": {},
      "source": [
        "### 2.7 배치처리\n",
        "\n",
        "* 신경망 처리에서는 입력 데이터를 한 덩어리로 묶어 배치로 처리했다 \n",
        "* 합성곱 연산도 마찬가지로 배치 처리를 할 수 있음"
      ]
    },
    {
      "cell_type": "markdown",
      "metadata": {},
      "source": [
        "## 3. 풀링 계층\n",
        "\n",
        "* 풀링는 세로 가로 방향의 공간을 줄이는 연산\n",
        "* (4,4)입력데이터를 이용할때 스트라이드가 2인 (2,2) 맥스풀링을 실행하면 (2,2)출력데이터가 생성\n",
        "* 보통 풀링의 윈도우 크기와 스트라이드는 같은값으로 설정한다\n",
        "* 맥스풀링 이외에도 평균 풀링 등이 있다"
      ]
    },
    {
      "cell_type": "markdown",
      "metadata": {},
      "source": [
        "### 3.1 풀링 계층의 특징\n",
        "\n",
        "* 학습해야 할 매개변수가 없다.\n",
        "* 채널 수가 변하지 않는다\n",
        "* 입력의 변화에 영향을 적게 받는다"
      ]
    },
    {
      "cell_type": "markdown",
      "metadata": {},
      "source": [
        "## 4. 합성곱/풀링 계층 구현하기"
      ]
    },
    {
      "cell_type": "markdown",
      "metadata": {},
      "source": [
        "### 4.1 4차원 배열"
      ]
    },
    {
      "cell_type": "code",
      "execution_count": 24,
      "metadata": {},
      "outputs": [
        {
          "data": {
            "text/plain": [
              "(10, 1, 28, 28)"
            ]
          },
          "execution_count": 24,
          "metadata": {},
          "output_type": "execute_result"
        }
      ],
      "source": [
        "x = np.random.rand(10, 1, 28, 28) # 이미지로 생각하면, (이미지 갯수, 채널 수 , 높이, 너비)\n",
        "x.shape"
      ]
    },
    {
      "cell_type": "code",
      "execution_count": 25,
      "metadata": {},
      "outputs": [
        {
          "data": {
            "text/plain": [
              "(1, 28, 28)"
            ]
          },
          "execution_count": 25,
          "metadata": {},
          "output_type": "execute_result"
        }
      ],
      "source": [
        "x[0].shape\n",
        "x[1].shape"
      ]
    },
    {
      "cell_type": "code",
      "execution_count": 29,
      "metadata": {},
      "outputs": [
        {
          "data": {
            "text/plain": [
              "array([[8.99431065e-01, 9.10893376e-01, 3.53559981e-01, 9.70035382e-01,\n",
              "        8.30041590e-01, 2.80970657e-01, 3.21877103e-01, 1.63342234e-01,\n",
              "        3.80031697e-01, 5.97846621e-01, 3.72946956e-01, 3.09647684e-01,\n",
              "        6.31966733e-01, 8.31815180e-01, 1.70400767e-01, 7.38355432e-01,\n",
              "        2.05361425e-01, 6.94580786e-01, 9.18775309e-01, 9.85328832e-02,\n",
              "        9.20661186e-01, 3.10525048e-01, 3.01582228e-01, 1.60377706e-01,\n",
              "        7.10844290e-01, 9.43318662e-01, 7.01320865e-01, 8.48416376e-01],\n",
              "       [1.47557640e-01, 6.26600281e-01, 9.80596576e-01, 8.73133547e-01,\n",
              "        7.39367031e-01, 2.25061242e-01, 6.71637400e-01, 8.85373183e-01,\n",
              "        1.36074178e-01, 1.47058218e-01, 1.17182532e-01, 3.71224332e-01,\n",
              "        6.44977213e-01, 8.67660216e-01, 9.02285688e-01, 1.80134484e-01,\n",
              "        8.44785833e-01, 1.41161086e-02, 3.51452426e-03, 4.12004033e-01,\n",
              "        8.55667121e-01, 5.60641513e-01, 9.27382193e-01, 4.85191205e-01,\n",
              "        9.69712087e-01, 9.39528644e-01, 4.55786938e-01, 6.80917324e-01],\n",
              "       [2.07905038e-01, 7.98859597e-01, 8.59105907e-01, 2.25526586e-02,\n",
              "        3.40564163e-01, 8.10028964e-01, 9.10428407e-01, 7.29249557e-01,\n",
              "        5.01155959e-01, 4.61767943e-02, 8.78114186e-02, 5.89124493e-01,\n",
              "        7.42549530e-01, 2.61102872e-01, 4.83191113e-01, 7.39145345e-01,\n",
              "        4.43028156e-01, 9.55389336e-01, 4.47409549e-01, 6.11215936e-01,\n",
              "        6.81559505e-01, 2.65184180e-01, 5.23948249e-01, 3.58932498e-01,\n",
              "        3.68200438e-01, 7.75044890e-01, 5.77647223e-01, 3.99437400e-01],\n",
              "       [8.81227126e-01, 8.74205875e-01, 2.26793414e-01, 1.21529410e-01,\n",
              "        2.70419251e-01, 2.03780919e-01, 1.90541826e-01, 7.31415569e-01,\n",
              "        9.89222992e-01, 6.56913731e-01, 7.84508902e-01, 2.29575911e-01,\n",
              "        6.34915025e-01, 4.53204607e-01, 7.79467547e-01, 8.98430262e-01,\n",
              "        1.27102848e-01, 6.67282874e-01, 1.71337875e-02, 3.19568114e-01,\n",
              "        4.04476691e-01, 3.86074704e-01, 1.08667664e-01, 5.97470711e-01,\n",
              "        2.24958164e-01, 7.40809657e-01, 1.28840959e-01, 3.57804589e-01],\n",
              "       [9.06574671e-01, 6.59572261e-01, 9.05876965e-01, 7.02702492e-01,\n",
              "        2.86081230e-01, 4.61052438e-01, 9.94958244e-01, 9.30846895e-01,\n",
              "        1.41617771e-01, 9.74003423e-01, 7.81104413e-01, 9.70625334e-01,\n",
              "        7.49104489e-01, 4.24155658e-01, 7.99323387e-01, 6.99597543e-01,\n",
              "        8.69335086e-01, 1.17005142e-01, 4.57164830e-02, 7.81782416e-01,\n",
              "        8.52144217e-01, 4.01175673e-01, 6.87883998e-01, 4.65470985e-01,\n",
              "        5.76227044e-01, 2.59451656e-01, 5.70670994e-01, 1.99529359e-01],\n",
              "       [3.89986716e-01, 3.87152466e-01, 7.81837097e-01, 2.39953412e-03,\n",
              "        1.67077248e-01, 4.82035193e-02, 8.86377270e-01, 8.29568421e-01,\n",
              "        2.56287506e-01, 7.83421813e-01, 5.40154462e-01, 7.82164363e-01,\n",
              "        6.01145681e-01, 2.56462917e-01, 3.78534270e-01, 9.62423191e-01,\n",
              "        6.07035953e-02, 8.97622813e-01, 5.54868771e-02, 2.59106260e-02,\n",
              "        9.06398978e-01, 5.42089786e-01, 7.52203271e-01, 6.94082492e-01,\n",
              "        3.82050399e-02, 8.11793185e-01, 8.25422516e-01, 2.95544684e-01],\n",
              "       [8.74590536e-01, 9.99487041e-01, 8.25829341e-02, 2.33530262e-01,\n",
              "        4.47290750e-01, 5.90270776e-01, 5.45960391e-01, 6.28421784e-01,\n",
              "        8.64155026e-01, 3.79567108e-01, 5.77426686e-01, 7.20426416e-01,\n",
              "        5.54932650e-01, 4.01699866e-01, 8.08724340e-01, 8.94008145e-01,\n",
              "        3.76237603e-01, 7.83059787e-01, 8.84145990e-01, 9.45394625e-01,\n",
              "        8.20349057e-01, 2.66940230e-01, 9.67830540e-01, 6.87778915e-02,\n",
              "        8.64428421e-01, 9.93903771e-01, 7.88590481e-01, 2.95859958e-01],\n",
              "       [3.43329020e-02, 4.49141504e-01, 4.38483104e-01, 9.84788045e-01,\n",
              "        6.47504247e-01, 2.91194990e-02, 4.61813269e-01, 7.47293185e-01,\n",
              "        6.47171678e-01, 1.52868222e-01, 3.85498628e-01, 3.78373505e-01,\n",
              "        3.31422184e-02, 3.95501980e-01, 6.93086279e-01, 7.68409651e-01,\n",
              "        8.57006219e-01, 4.20858040e-01, 1.06240107e-01, 7.77916734e-01,\n",
              "        5.59892717e-02, 1.59006491e-01, 3.04379297e-01, 7.02214102e-02,\n",
              "        8.13112683e-01, 8.03398316e-01, 7.61416445e-01, 2.51173068e-01],\n",
              "       [8.01742698e-02, 5.64346575e-01, 8.14530456e-01, 2.86146523e-01,\n",
              "        1.23728190e-01, 4.23292239e-01, 4.12630501e-02, 7.27678977e-01,\n",
              "        9.18799498e-01, 8.43954209e-01, 5.46410408e-01, 3.18132971e-02,\n",
              "        1.46125162e-01, 8.30910626e-01, 9.81804780e-01, 1.00689171e-01,\n",
              "        2.66850312e-01, 1.45900034e-01, 2.86253961e-01, 3.29812371e-01,\n",
              "        7.51253555e-01, 4.49930669e-01, 6.93397052e-01, 7.26025683e-01,\n",
              "        5.58598817e-01, 1.65843614e-01, 8.10237572e-01, 1.22417556e-01],\n",
              "       [5.38705835e-01, 5.12366368e-01, 2.24999847e-01, 4.88748557e-01,\n",
              "        7.85620336e-01, 9.58852570e-01, 9.65183494e-01, 3.24452702e-01,\n",
              "        1.15361526e-01, 1.37033157e-01, 3.29435457e-01, 2.19077376e-01,\n",
              "        6.94752758e-01, 6.04794665e-01, 9.62638819e-02, 3.30456249e-02,\n",
              "        8.30054024e-01, 4.60112766e-01, 3.40666695e-01, 1.40930072e-01,\n",
              "        1.21316470e-01, 9.66054580e-01, 6.50223651e-01, 7.44383211e-01,\n",
              "        2.97520798e-01, 3.95032250e-01, 8.18254351e-01, 2.87560619e-01],\n",
              "       [4.72222376e-01, 9.87711703e-01, 6.24643663e-01, 4.71632083e-01,\n",
              "        5.68739412e-01, 9.06393843e-01, 9.38087399e-01, 5.23511243e-01,\n",
              "        5.75955082e-01, 9.91907640e-01, 9.23719888e-01, 7.24647906e-02,\n",
              "        7.63936224e-01, 2.30242742e-01, 8.51992166e-01, 6.63028062e-01,\n",
              "        7.36950405e-01, 6.15372107e-01, 6.75865276e-01, 1.64754001e-01,\n",
              "        3.56650851e-01, 8.20209491e-01, 4.16235367e-02, 4.29800783e-01,\n",
              "        3.95184581e-01, 3.75963009e-02, 5.56510689e-01, 7.68639754e-01],\n",
              "       [2.41388688e-01, 7.41699534e-01, 5.53208722e-01, 4.61698579e-01,\n",
              "        8.45770178e-01, 9.78188986e-01, 5.40632073e-01, 6.04690943e-01,\n",
              "        3.63792732e-01, 7.20947569e-01, 5.72936089e-02, 9.48406304e-01,\n",
              "        5.03073320e-02, 9.69268466e-01, 5.56013932e-01, 8.41332259e-01,\n",
              "        6.76479361e-01, 5.51653908e-01, 5.53682658e-01, 1.37981320e-01,\n",
              "        5.19801643e-01, 1.01995369e-01, 9.78300496e-01, 9.07024395e-01,\n",
              "        7.98371081e-01, 8.34063375e-01, 3.58125616e-01, 8.76823927e-01],\n",
              "       [5.75124235e-01, 1.37985019e-01, 5.19466648e-01, 3.21601070e-01,\n",
              "        6.54838805e-02, 3.84388629e-01, 9.45948976e-02, 3.32918122e-02,\n",
              "        8.07837408e-01, 4.44308587e-01, 6.80022891e-01, 6.58964250e-01,\n",
              "        5.48072211e-01, 1.00702653e-01, 1.31158748e-01, 4.45649373e-01,\n",
              "        9.39257248e-01, 3.47287842e-01, 9.24275970e-01, 9.90880885e-01,\n",
              "        6.71960819e-01, 2.12624812e-01, 4.86315275e-01, 4.29522818e-01,\n",
              "        2.50316694e-01, 8.90680097e-01, 2.18319110e-01, 7.99671541e-01],\n",
              "       [7.62938579e-01, 3.85059675e-01, 5.91267868e-01, 1.42045811e-01,\n",
              "        5.09029289e-01, 6.05205207e-01, 2.99672344e-01, 3.33853357e-01,\n",
              "        2.30251385e-01, 2.66097829e-01, 9.00215073e-01, 9.28464978e-01,\n",
              "        2.74421981e-01, 8.35822077e-01, 1.63393492e-01, 3.48397244e-01,\n",
              "        8.46759347e-01, 7.55473627e-02, 2.48032228e-01, 5.15991839e-01,\n",
              "        5.47550466e-01, 9.55743501e-01, 5.13166590e-01, 9.19504169e-01,\n",
              "        3.65776627e-01, 8.20059398e-01, 4.30389168e-01, 4.54794191e-01],\n",
              "       [1.48978579e-01, 6.62809152e-01, 8.94800327e-01, 4.79298566e-01,\n",
              "        5.04549322e-01, 2.73631352e-01, 4.68588398e-02, 6.52800758e-01,\n",
              "        2.85860669e-01, 2.21175515e-01, 3.92203194e-01, 5.09476209e-01,\n",
              "        2.48702242e-01, 9.25029825e-01, 1.69110265e-01, 6.70919019e-01,\n",
              "        7.66982240e-01, 1.95962325e-02, 5.80478818e-01, 7.48903954e-01,\n",
              "        8.46170609e-01, 5.09638240e-01, 4.98626502e-01, 5.64074833e-01,\n",
              "        2.51809873e-02, 8.25234279e-01, 6.75709928e-01, 4.07926153e-01],\n",
              "       [9.97383649e-01, 5.85305006e-01, 3.19520837e-01, 7.36803657e-01,\n",
              "        4.55397382e-01, 4.40513548e-02, 7.72768269e-01, 2.87296407e-01,\n",
              "        8.78242968e-01, 8.51042654e-01, 8.75060574e-01, 3.65316227e-01,\n",
              "        6.63604316e-01, 2.47082939e-01, 8.41781488e-02, 5.04967068e-01,\n",
              "        2.90640580e-01, 4.88813288e-01, 8.91579105e-01, 3.27255677e-01,\n",
              "        4.67600653e-01, 6.06335944e-01, 5.03670816e-01, 2.76781697e-01,\n",
              "        8.72730408e-01, 2.06891448e-01, 5.10545815e-01, 6.96814435e-01],\n",
              "       [6.23854145e-01, 4.19119473e-01, 4.40116163e-01, 6.39092746e-02,\n",
              "        6.22893445e-01, 8.74883176e-01, 8.98166638e-01, 2.72372948e-02,\n",
              "        3.62007494e-01, 1.10458289e-01, 3.00389197e-01, 5.60640841e-01,\n",
              "        4.72346062e-01, 8.10781389e-01, 9.33137982e-01, 6.85332653e-01,\n",
              "        5.43977036e-02, 9.78696648e-01, 6.84343019e-01, 7.76083642e-04,\n",
              "        9.21010772e-01, 1.37948495e-01, 3.20486879e-01, 6.06611009e-01,\n",
              "        1.83468020e-01, 7.81952794e-01, 4.71610309e-01, 5.94601905e-01],\n",
              "       [8.46192509e-01, 4.66402293e-01, 1.88554804e-01, 6.34800571e-01,\n",
              "        6.43564985e-01, 8.48123386e-01, 6.89382707e-01, 9.67949210e-02,\n",
              "        7.49772383e-01, 2.51718265e-01, 4.56658673e-01, 7.33228589e-02,\n",
              "        4.72160025e-02, 4.10476122e-01, 9.85482661e-01, 5.95945545e-01,\n",
              "        4.73326788e-01, 5.20432735e-01, 1.69344190e-01, 8.50965497e-01,\n",
              "        8.19209036e-01, 6.31022334e-01, 7.72620086e-01, 7.69610546e-01,\n",
              "        2.79959332e-01, 9.24932195e-01, 4.60001266e-01, 6.53304091e-01],\n",
              "       [9.09589511e-02, 3.97069611e-01, 1.31938812e-02, 1.48035647e-01,\n",
              "        4.21338186e-01, 6.60258606e-01, 2.18622244e-01, 5.42666862e-01,\n",
              "        6.42185311e-01, 5.77134758e-01, 4.36791073e-01, 1.38506856e-01,\n",
              "        9.01888133e-01, 7.77523852e-01, 9.42729270e-01, 9.59113169e-01,\n",
              "        2.13929985e-01, 9.55134973e-01, 6.32353358e-01, 7.24655195e-01,\n",
              "        6.89150806e-01, 3.92038677e-01, 8.78333372e-02, 3.73382364e-01,\n",
              "        2.02413794e-01, 8.80699133e-01, 3.92065365e-02, 1.70322935e-01],\n",
              "       [6.10838398e-01, 8.66953203e-01, 5.57999744e-01, 2.13388681e-01,\n",
              "        7.47244070e-01, 1.72456007e-01, 4.82325464e-01, 9.14011652e-01,\n",
              "        7.29147615e-01, 7.15900726e-01, 9.17540920e-01, 3.11127653e-01,\n",
              "        7.52785246e-01, 6.64314808e-01, 6.34632696e-01, 2.36675782e-01,\n",
              "        9.35987159e-01, 4.28540378e-01, 7.31845399e-01, 9.16878698e-01,\n",
              "        9.08186883e-01, 2.24325590e-01, 7.10812322e-01, 6.28778193e-01,\n",
              "        5.11669143e-01, 4.25960058e-01, 2.92274482e-01, 3.87001850e-01],\n",
              "       [5.33915223e-01, 4.87732333e-01, 7.63758876e-01, 9.14150204e-01,\n",
              "        5.59602551e-01, 2.21456586e-01, 5.00933785e-01, 7.56156418e-01,\n",
              "        4.35705412e-01, 9.92420143e-01, 8.71734840e-01, 6.96507656e-01,\n",
              "        5.22801013e-01, 1.13829972e-03, 8.45362101e-01, 4.48234095e-01,\n",
              "        7.93577680e-02, 7.53351536e-01, 3.89760391e-01, 3.87214086e-01,\n",
              "        7.13851007e-01, 3.77793904e-02, 9.39514520e-01, 4.64328312e-01,\n",
              "        7.64685457e-01, 9.80543772e-01, 3.37195772e-01, 1.87936058e-01],\n",
              "       [1.43537301e-01, 2.93458677e-01, 6.88033778e-01, 6.03809414e-01,\n",
              "        5.57056019e-01, 4.63191416e-01, 4.07568586e-01, 6.14855995e-01,\n",
              "        7.02776475e-02, 5.74232578e-02, 5.50850683e-01, 5.90921446e-01,\n",
              "        3.46922485e-01, 8.87954040e-02, 8.54867398e-01, 1.25852958e-01,\n",
              "        4.38791860e-01, 8.20581714e-01, 4.45453985e-01, 3.19641078e-01,\n",
              "        5.59677863e-01, 7.36333842e-01, 8.17114995e-01, 9.64574676e-01,\n",
              "        5.30006999e-01, 4.61215039e-01, 5.36815868e-02, 1.75384853e-02],\n",
              "       [5.46052625e-01, 4.59102982e-01, 3.99717198e-01, 3.13596894e-01,\n",
              "        6.22096309e-01, 8.61281719e-01, 8.68061469e-01, 1.11485162e-01,\n",
              "        1.95624611e-01, 3.14668330e-01, 1.17149849e-01, 5.27743347e-01,\n",
              "        4.24653208e-01, 2.50338861e-02, 1.31603699e-01, 8.45618000e-01,\n",
              "        9.12601582e-01, 8.38362750e-01, 9.65161820e-01, 1.31992312e-01,\n",
              "        6.52557941e-01, 7.28376304e-01, 6.54157579e-01, 2.94008348e-01,\n",
              "        3.27370987e-01, 8.84501960e-01, 1.29075980e-01, 2.27856129e-01],\n",
              "       [8.52000136e-01, 7.97821695e-01, 3.50406269e-01, 9.62306343e-01,\n",
              "        3.18487767e-01, 3.48043840e-02, 9.44539731e-01, 8.20791070e-02,\n",
              "        6.41321498e-01, 1.46524357e-01, 2.82434347e-02, 5.48260358e-01,\n",
              "        6.04157219e-01, 5.02371879e-01, 2.40541906e-01, 6.20027401e-01,\n",
              "        3.39515087e-01, 1.46024174e-01, 2.83479452e-01, 5.65942447e-01,\n",
              "        5.38121360e-01, 6.49526042e-01, 6.79256433e-01, 4.02112231e-01,\n",
              "        4.34959068e-01, 7.44775601e-01, 6.46862342e-03, 1.08107786e-01],\n",
              "       [2.23717077e-01, 6.07189566e-01, 4.68831186e-01, 8.00348875e-01,\n",
              "        2.79011296e-01, 8.31535539e-01, 4.24754380e-01, 1.14781930e-01,\n",
              "        5.37971936e-01, 1.73253571e-01, 2.74865145e-01, 2.76768042e-01,\n",
              "        8.20133368e-01, 8.96126144e-01, 9.31041705e-01, 2.42095867e-02,\n",
              "        5.04155114e-01, 4.70416329e-01, 3.15623137e-01, 9.41598573e-01,\n",
              "        7.20763785e-01, 4.23881056e-01, 4.84790558e-01, 5.62432310e-01,\n",
              "        3.01549437e-01, 6.06636069e-01, 1.87130731e-01, 1.56886360e-01],\n",
              "       [9.51123499e-01, 1.59941995e-01, 5.22508253e-01, 5.05253622e-01,\n",
              "        7.90421717e-01, 7.91899650e-01, 2.21322779e-01, 9.67265269e-01,\n",
              "        8.02600833e-01, 8.26411448e-01, 7.48722716e-01, 8.60113014e-01,\n",
              "        3.78657643e-01, 7.95226988e-02, 6.18234801e-01, 8.87629241e-02,\n",
              "        5.21897179e-01, 9.29835683e-01, 4.36395202e-01, 8.28258085e-01,\n",
              "        5.74446103e-02, 9.90715043e-01, 8.40601956e-01, 8.56415809e-01,\n",
              "        6.65690015e-01, 2.25413494e-01, 6.11693745e-01, 8.35276463e-01],\n",
              "       [3.74879456e-01, 4.04470324e-01, 9.79242212e-01, 2.22667660e-01,\n",
              "        6.56098312e-01, 9.30333765e-02, 4.80448372e-01, 6.09491594e-01,\n",
              "        5.37925839e-01, 9.90649321e-01, 8.62101498e-01, 5.85981581e-01,\n",
              "        7.41056624e-01, 4.78552149e-01, 5.38931735e-01, 6.67700614e-01,\n",
              "        9.14138852e-01, 3.41069632e-01, 8.44304528e-01, 7.67362763e-01,\n",
              "        9.69340981e-01, 2.74097837e-02, 2.68673808e-01, 9.09650640e-02,\n",
              "        3.81163071e-01, 3.92065679e-01, 6.32997581e-01, 8.03639008e-02],\n",
              "       [4.79257242e-01, 5.21698485e-01, 4.15111304e-03, 2.00434478e-01,\n",
              "        9.10048345e-01, 9.27017670e-01, 1.09015698e-01, 1.90560149e-02,\n",
              "        8.66509177e-02, 4.40962118e-01, 3.65658043e-01, 2.27411325e-01,\n",
              "        4.74468107e-01, 5.08755209e-03, 8.65815865e-01, 6.66077945e-01,\n",
              "        2.19836527e-02, 3.05409603e-01, 1.52899665e-01, 5.35422907e-01,\n",
              "        2.51956718e-01, 1.59183722e-02, 2.70857359e-01, 9.65869441e-01,\n",
              "        9.93460415e-01, 3.89032887e-01, 2.13759191e-01, 6.15124058e-01]])"
            ]
          },
          "execution_count": 29,
          "metadata": {},
          "output_type": "execute_result"
        }
      ],
      "source": [
        "x[0,0] # 첫번째 이미지의 첫번째 채널"
      ]
    },
    {
      "cell_type": "markdown",
      "metadata": {},
      "source": [
        "### 4.2 im2col로 데이터 전개하기\n",
        "\n",
        "* 입력데이터를 필터링하기 좋게 전개하는 함수\n",
        "* 3차원 입력데이터에 im2col을 적용하면 2차원 행렬로 변환됨"
      ]
    },
    {
      "cell_type": "markdown",
      "metadata": {},
      "source": [
        "### 4.3 합성곱 계층 구현하기\n",
        "\n"
      ]
    },
    {
      "cell_type": "code",
      "execution_count": 33,
      "metadata": {},
      "outputs": [],
      "source": [
        "def im2col(input_data, filter_h, filter_w, stride=1, pad=0):\n",
        "\n",
        "    N, C, H, W = input_data.shape # 4차원 \n",
        "    out_h = (H + 2*pad - filter_h)//stride + 1\n",
        "    out_w = (W + 2*pad - filter_w)//stride + 1\n",
        "\n",
        "    img = np.pad(input_data, [(0,0), (0,0), (pad, pad), (pad, pad)], 'constant') #패딩추가, \n",
        "    col = np.zeros((N, C, filter_h, filter_w, out_h, out_w))\n",
        "\n",
        "    for y in range(filter_h):\n",
        "        y_max = y + stride*out_h\n",
        "        for x in range(filter_w):\n",
        "            x_max = x + stride*out_w\n",
        "            col[:, :, y, x, :, :] = img[:, :, y:y_max:stride, x:x_max:stride]\n",
        "\n",
        "    col = col.transpose(0, 4, 5, 1, 2, 3).reshape(N*out_h*out_w, -1)\n",
        "    return col"
      ]
    },
    {
      "cell_type": "code",
      "execution_count": 46,
      "metadata": {},
      "outputs": [
        {
          "name": "stdout",
          "output_type": "stream",
          "text": [
            "(4, 75)\n",
            "[[0.03333358 0.9340735  0.90715822 0.46387399 0.21161806 0.191387\n",
            "  0.04564288 0.83628159 0.89228729 0.44144642 0.93492739 0.28146806\n",
            "  0.15493876 0.36613951 0.31087136 0.88888731 0.93688998 0.4143633\n",
            "  0.56654494 0.51203221 0.12295592 0.29975836 0.06856324 0.93497969\n",
            "  0.4168509  0.13328917 0.82976439 0.22253175 0.89866924 0.10122791\n",
            "  0.61030606 0.3392148  0.9460859  0.04643288 0.22913973 0.62537065\n",
            "  0.6630547  0.50854973 0.92516206 0.89470877 0.80657973 0.77681746\n",
            "  0.86805509 0.05103419 0.40206148 0.29208264 0.80119044 0.24323208\n",
            "  0.7778706  0.13668269 0.97034806 0.74716043 0.16472601 0.93144255\n",
            "  0.97942427 0.3716285  0.53873657 0.93475275 0.47324933 0.82933529\n",
            "  0.84313808 0.30821622 0.18169663 0.35460425 0.26862391 0.18360283\n",
            "  0.12034319 0.5989444  0.26823946 0.213326   0.34382965 0.19845222\n",
            "  0.22118015 0.44857151 0.23918757]\n",
            " [0.90715822 0.46387399 0.21161806 0.38638015 0.66662489 0.83628159\n",
            "  0.89228729 0.44144642 0.77965269 0.72334622 0.15493876 0.36613951\n",
            "  0.31087136 0.5331568  0.2755427  0.4143633  0.56654494 0.51203221\n",
            "  0.47377654 0.85151938 0.06856324 0.93497969 0.4168509  0.75816055\n",
            "  0.16968543 0.22253175 0.89866924 0.10122791 0.24255717 0.00985715\n",
            "  0.9460859  0.04643288 0.22913973 0.23068049 0.66532403 0.50854973\n",
            "  0.92516206 0.89470877 0.89001758 0.63672479 0.86805509 0.05103419\n",
            "  0.40206148 0.26529537 0.52879948 0.24323208 0.7778706  0.13668269\n",
            "  0.54064577 0.5364233  0.16472601 0.93144255 0.97942427 0.91457735\n",
            "  0.6578682  0.93475275 0.47324933 0.82933529 0.04311523 0.98616024\n",
            "  0.18169663 0.35460425 0.26862391 0.52865983 0.47845844 0.5989444\n",
            "  0.26823946 0.213326   0.50879617 0.47976108 0.22118015 0.44857151\n",
            "  0.23918757 0.17907432 0.26049759]\n",
            " [0.93492739 0.28146806 0.15493876 0.36613951 0.31087136 0.88888731\n",
            "  0.93688998 0.4143633  0.56654494 0.51203221 0.12295592 0.29975836\n",
            "  0.06856324 0.93497969 0.4168509  0.34409684 0.78129258 0.12734221\n",
            "  0.56021838 0.03440358 0.19344024 0.66803036 0.71363011 0.8399193\n",
            "  0.28146522 0.62537065 0.6630547  0.50854973 0.92516206 0.89470877\n",
            "  0.80657973 0.77681746 0.86805509 0.05103419 0.40206148 0.29208264\n",
            "  0.80119044 0.24323208 0.7778706  0.13668269 0.07008196 0.82982605\n",
            "  0.88844594 0.65706069 0.7084304  0.82134757 0.38099599 0.29204539\n",
            "  0.97552489 0.52816801 0.84313808 0.30821622 0.18169663 0.35460425\n",
            "  0.26862391 0.18360283 0.12034319 0.5989444  0.26823946 0.213326\n",
            "  0.34382965 0.19845222 0.22118015 0.44857151 0.23918757 0.46479167\n",
            "  0.67472567 0.91217936 0.70242622 0.84795118 0.26392327 0.47710973\n",
            "  0.60603084 0.42493868 0.03602035]\n",
            " [0.15493876 0.36613951 0.31087136 0.5331568  0.2755427  0.4143633\n",
            "  0.56654494 0.51203221 0.47377654 0.85151938 0.06856324 0.93497969\n",
            "  0.4168509  0.75816055 0.16968543 0.12734221 0.56021838 0.03440358\n",
            "  0.97141205 0.0500184  0.71363011 0.8399193  0.28146522 0.80639643\n",
            "  0.33185523 0.50854973 0.92516206 0.89470877 0.89001758 0.63672479\n",
            "  0.86805509 0.05103419 0.40206148 0.26529537 0.52879948 0.24323208\n",
            "  0.7778706  0.13668269 0.54064577 0.5364233  0.88844594 0.65706069\n",
            "  0.7084304  0.35249577 0.05044204 0.29204539 0.97552489 0.52816801\n",
            "  0.3353021  0.12304931 0.18169663 0.35460425 0.26862391 0.52865983\n",
            "  0.47845844 0.5989444  0.26823946 0.213326   0.50879617 0.47976108\n",
            "  0.22118015 0.44857151 0.23918757 0.17907432 0.26049759 0.91217936\n",
            "  0.70242622 0.84795118 0.43608168 0.16716274 0.60603084 0.42493868\n",
            "  0.03602035 0.07263359 0.2954728 ]]\n"
          ]
        }
      ],
      "source": [
        "x1 = np.random.rand(1,3,7,7)\n",
        "col1 = im2col(x1, 5, 5, stride=2, pad=0)\n",
        "print(col1.shape)\n",
        "print(col1)\n"
      ]
    },
    {
      "cell_type": "code",
      "execution_count": null,
      "metadata": {},
      "outputs": [],
      "source": [
        "class Convolution:\n",
        "    def __init__(self, W, b, stride=1, pad=0):\n",
        "        self.W = W\n",
        "        self.b = b\n",
        "        self.stride = stride\n",
        "        self.pad = pad\n",
        "\n",
        "    def forward(self, x):\n",
        "        FN, C, FH, FW = self.W.shape\n",
        "        N, C, H, W = x.shape\n",
        "        out_h = int(1 + (2*self.pad - FH)/self.stride)\n",
        "        out_w = int(1 + (W + 2*self.pad - FW)/self.stride)\n",
        "\n",
        "        col = im2col(x, FH, FW, self.stride, self.pad)\n",
        "        col_W = self.W.reshape(FN, -1).T\n",
        "        out = np.dot(col, col_W) + self.b\n",
        "\n",
        "        out = out.reshape(N, out_h, out_w, -1).transpose(0, 3, 1, 2)\n",
        "\n",
        "        return out"
      ]
    },
    {
      "cell_type": "code",
      "execution_count": 41,
      "metadata": {},
      "outputs": [
        {
          "name": "stdout",
          "output_type": "stream",
          "text": [
            "Original Shape: (2, 3, 4, 5)\n",
            "Reshaped and Transposed Shape: (2, 3, 4, 5)\n",
            "Flattened Shape: (2, 3, 4, 5)\n"
          ]
        }
      ],
      "source": [
        "import numpy as np\n",
        "\n",
        "# 가상의 데이터 생성\n",
        "N = 2  # 배치 크기\n",
        "C = 3  # 채널 수\n",
        "H = 4  # 높이\n",
        "W = 5  # 너비\n",
        "\n",
        "# 원본 데이터 생성 (4D 형태: (N, C, H, W))\n",
        "original_data = np.random.random((N, C, H, W))\n",
        "\n",
        "# 첫 번째 변환: out.reshape(N, out_h, out_w, -1).transpose(0, 3, 1, 2)\n",
        "reshaped_transposed_data = original_data.reshape(N, H, W, -1).transpose(0, 3, 1, 2)\n",
        "\n",
        "# 두 번째 변환: out.reshape(N, -1, out_h, out_w)\n",
        "flattened_data = original_data.reshape(N, -1, H, W)\n",
        "\n",
        "# 결과 출력\n",
        "print(\"Original Shape:\", original_data.shape)\n",
        "print(\"Reshaped and Transposed Shape:\", reshaped_transposed_data.shape)\n",
        "print(\"Flattened Shape:\", flattened_data.shape)"
      ]
    },
    {
      "cell_type": "markdown",
      "metadata": {},
      "source": [
        "### 4.4 풀링계층 구현하기"
      ]
    },
    {
      "cell_type": "code",
      "execution_count": null,
      "metadata": {},
      "outputs": [],
      "source": [
        "class Pooling:\n",
        "    def __init__(self, pool_h, pool_w, stride =1, pad=0):\n",
        "        self.pool_h = pool_h\n",
        "        self.pool_w = pool_w\n",
        "        self.stride = stride\n",
        "        self.pad = pad\n",
        "\n",
        "    def forward(self, x):\n",
        "        N, C, H, W = x.shape\n",
        "        out_h = int(1 + (H-self.pool_h) / self.stride)\n",
        "        out_w = int(1 + (W-self.pool_w) / self.stride)\n",
        "\n",
        "        # 전개 (1)\n",
        "        col = im2col(x, self.pool_h, self.pool_w, self.stride, self.pad)\n",
        "        col = col.reshape(-1, self.pool_h*self.poll_w)\n",
        "\n",
        "        # 최댓값 (2)\n",
        "        out = np.max(col, axis=1)\n",
        "\n",
        "        # 성형 (3)\n",
        "        out = out.reshape(N, out_h, out_w, C).transpose(0, 3, 1, 2)\n",
        "\n",
        "        return out"
      ]
    },
    {
      "cell_type": "markdown",
      "metadata": {},
      "source": [
        "## 5. CNN 구현하기\n",
        "\n",
        "* simple convolution network  \n",
        "\n",
        "convolution-ReLU-Pooling --> Affine-ReLU --> Affine-softmax"
      ]
    },
    {
      "cell_type": "code",
      "execution_count": null,
      "metadata": {},
      "outputs": [],
      "source": [
        "class SimpleConvNet:\n",
        "    def __init__(self, input_dim=(1,28,28), conv_param={'filter_num' : 30, 'filter_size':5, 'pad':0, 'strid':1}, \n",
        "                 hidden_size = 100, output_size = 10, weight_init_std = 0.01):\n",
        "        \n",
        "        filter_num = conv_param['filter_num']\n",
        "        filter_size = conv_param['filter_size']\n",
        "        filter_pad = conv_param['pad']\n",
        "        filter_strid = conv_param['stride']\n",
        "        input_size = input_dim[1]\n",
        "        conv_output_size = (input_size - filter_size + 2*filter_pad) / filter_stride + 1\n",
        "        pool_output_size = int(filter_num * (conv_output_size/2) * (conv_output_size/2))\n",
        "    \n",
        "        self.params = {}\n",
        "        self.params['W1'] = weight_init_std * np.random.randn(filter_num, input_dim[0], filter_size, filter_size)\n",
        "        self.params['b1'] = np.zeros(filter_num)\n",
        "        self.params['W2'] = weight_init_std * np.random.randn(pool_ouput_size, hidden_size)\n",
        "        self.params['b2'] = np.zeros(hidden_size)\n",
        "        self.params['W3'] = weight_init_std * np.random.randn(hidden_size, output_size)\n",
        "        self.params['b3'] = np.zeros(ouput_size)\n",
        "        \n",
        "        self.layers = OrderedDict()\n",
        "        self.layers['Conv1'] = Convolution(self.params['W1'],\n",
        "                                           self.params['b1'],\n",
        "                                           self.params['stride'],\n",
        "                                           self.params['pad'])"
      ]
    }
  ],
  "metadata": {
    "accelerator": "GPU",
    "colab": {
      "gpuType": "T4",
      "provenance": []
    },
    "kernelspec": {
      "display_name": "Python 3",
      "name": "python3"
    },
    "language_info": {
      "codemirror_mode": {
        "name": "ipython",
        "version": 3
      },
      "file_extension": ".py",
      "mimetype": "text/x-python",
      "name": "python",
      "nbconvert_exporter": "python",
      "pygments_lexer": "ipython3",
      "version": "3.11.5"
    }
  },
  "nbformat": 4,
  "nbformat_minor": 0
}
