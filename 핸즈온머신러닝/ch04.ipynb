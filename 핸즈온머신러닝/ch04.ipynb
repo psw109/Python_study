{
 "cells": [
  {
   "cell_type": "markdown",
   "metadata": {},
   "source": [
    "# 연습문제"
   ]
  },
  {
   "cell_type": "code",
   "execution_count": 194,
   "metadata": {},
   "outputs": [
    {
     "name": "stdout",
     "output_type": "stream",
     "text": [
      "0번째\n",
      "100번째\n",
      "200번째\n",
      "300번째\n",
      "early stop\n"
     ]
    },
    {
     "data": {
      "text/plain": [
       "0.82"
      ]
     },
     "execution_count": 194,
     "metadata": {},
     "output_type": "execute_result"
    }
   ],
   "source": [
    "import numpy as np\n",
    "import pandas as pd\n",
    "from sklearn.datasets import load_iris\n",
    "\n",
    "iris = load_iris()\n",
    "X = iris.data[:, (2,3)]\n",
    "y = iris.target\n",
    "\n",
    "np.random.seed(2023)\n",
    "thetha = np.random.randn(3,2)\n",
    "\n",
    "iter = 0\n",
    "\n",
    "while iter < 1000:\n",
    "    res = np.zeros((150,3))\n",
    "    for i in range(150):\n",
    "        for j in range(3):\n",
    "            res[i,j] = np.dot(np.transpose(thetha[j]), X[i])\n",
    "\n",
    "    res_p = np.zeros((150,3))\n",
    "    for i in range(150):\n",
    "        for j in range(3):\n",
    "            res_p[i,j] = np.exp(res[i][j]) / np.sum(np.exp(res[i]))\n",
    "\n",
    "    grad_thetha = np.dot(np.transpose(res_p - np.array(pd.get_dummies(pd.Series(y)))), X) / 150\n",
    "    thetha = thetha - 10 * grad_thetha\n",
    "    early = np.sum(np.argmax(np.dot(thetha, X.T), axis = 0) == y)/150\n",
    "    if iter % 100 == 0:\n",
    "        print(f'{iter}번째')\n",
    "    if early > 0.8:\n",
    "        print('early stop')\n",
    "        break\n",
    "    iter += 1\n",
    "    \n",
    "np.sum(np.argmax(np.dot(thetha, X.T), axis = 0) == y)/150"
   ]
  }
 ],
 "metadata": {
  "kernelspec": {
   "display_name": "base",
   "language": "python",
   "name": "python3"
  },
  "language_info": {
   "codemirror_mode": {
    "name": "ipython",
    "version": 3
   },
   "file_extension": ".py",
   "mimetype": "text/x-python",
   "name": "python",
   "nbconvert_exporter": "python",
   "pygments_lexer": "ipython3",
   "version": "3.11.5"
  },
  "orig_nbformat": 4
 },
 "nbformat": 4,
 "nbformat_minor": 2
}
